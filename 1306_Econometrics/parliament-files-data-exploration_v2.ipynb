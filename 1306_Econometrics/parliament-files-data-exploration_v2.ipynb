{
 "cells": [
  {
   "cell_type": "code",
   "execution_count": 1,
   "metadata": {
    "collapsed": true
   },
   "outputs": [],
   "source": [
    "import json"
   ]
  },
  {
   "cell_type": "code",
   "execution_count": 2,
   "metadata": {
    "collapsed": true
   },
   "outputs": [],
   "source": [
    "data_source = \"./../../../open_econometrics/git/parlamento/data/\""
   ]
  },
  {
   "cell_type": "markdown",
   "metadata": {},
   "source": [
    "<br>"
   ]
  },
  {
   "cell_type": "markdown",
   "metadata": {},
   "source": [
    "> # Data\n",
    "> \n",
    "> There are 17 files available:\n",
    "> - Atividades\n",
    "> - Atividades dos Deputados\n",
    "> - Boletim Informativo\n",
    "> - Cooperação Parlamentar\n",
    "> - Delegações Eventuais\n",
    "> - Delegações Permanentes\n",
    "> - Diplomas Aprovados\n",
    "> - Grupos Parlamentares de Amizade\n",
    "> - Informação base\n",
    "> - Iniciativas\n",
    "> - Intervenções\n",
    "> - Composição de Órgãos\n",
    "> - Orçamento do Estado\n",
    "> - Petições\n",
    "> - Registo Biográfico\n",
    "> - Perguntas e Requerimentos\n",
    "> - Reuniões / Visitas"
   ]
  },
  {
   "cell_type": "markdown",
   "metadata": {},
   "source": [
    "<br>"
   ]
  },
  {
   "cell_type": "markdown",
   "metadata": {},
   "source": [
    "---\n",
    "\n",
    "---"
   ]
  },
  {
   "cell_type": "markdown",
   "metadata": {},
   "source": [
    "<br>\n",
    "<br>\n",
    "\n",
    "# 01 - Atividades"
   ]
  },
  {
   "cell_type": "markdown",
   "metadata": {},
   "source": [
    "> **Available files:**\n",
    "> \n",
    "> - atividades-02.json\n",
    "> - atividades-03.json\n",
    "> - atividades-04.json\n",
    "> - atividades-05.json\n",
    "> - atividades-06.json\n",
    "> - atividades-07.json\n",
    "> - atividades-08.json\n",
    "> - atividades-09.json\n",
    "> - atividades-10.json\n",
    "> - atividades-11.json\n",
    "> - atividades-12.json\n",
    "> - atividades-13.json"
   ]
  },
  {
   "cell_type": "code",
   "execution_count": 3,
   "metadata": {
    "collapsed": true
   },
   "outputs": [],
   "source": [
    "#Loading the json file\n",
    "data_atividades = json.loads(open(data_source+\"atividades-13.json\").read())\n"
   ]
  },
  {
   "cell_type": "code",
   "execution_count": 4,
   "metadata": {},
   "outputs": [
    {
     "name": "stdout",
     "output_type": "stream",
     "text": [
      "@xmlns:xsi\n",
      "@xmlns:xsd\n",
      "AtividadesGerais\n",
      "Audicoes\n",
      "Audiencias\n",
      "Deslocacoes\n",
      "Eventos\n"
     ]
    }
   ],
   "source": [
    "#Inspecting structure\n",
    "for i in data_atividades[\"Atividades\"]:\n",
    "    print(i)\n",
    "    "
   ]
  },
  {
   "cell_type": "code",
   "execution_count": 5,
   "metadata": {
    "collapsed": true
   },
   "outputs": [],
   "source": [
    "#Shortcuts\n",
    "data_atividades_atividadesgerais = data_atividades[\"Atividades\"][\"AtividadesGerais\"]\n",
    "data_atividades_audicoes = data_atividades[\"Atividades\"][\"Audicoes\"]\n",
    "data_atividades_audiencias = data_atividades[\"Atividades\"][\"Audiencias\"]\n",
    "data_atividades_deslocacoes = data_atividades[\"Atividades\"][\"Deslocacoes\"]\n",
    "data_atividades_eventos = data_atividades[\"Atividades\"][\"Eventos\"]\n"
   ]
  },
  {
   "cell_type": "markdown",
   "metadata": {},
   "source": [
    "<br>\n",
    "<br>\n",
    "\n",
    "> ## 01.01 - Atividades Gerais\n",
    "> \n",
    ">_01 // Atividades_"
   ]
  },
  {
   "cell_type": "markdown",
   "metadata": {},
   "source": [
    "> data\\_atividades_atividadesgerais = data_atividades[\"Atividades\"][\"AtividadesGerais\"]  "
   ]
  },
  {
   "cell_type": "code",
   "execution_count": 6,
   "metadata": {},
   "outputs": [
    {
     "name": "stdout",
     "output_type": "stream",
     "text": [
      "tipo\n",
      "descTipo\n",
      "assunto\n",
      "legislatura\n",
      "sessao\n",
      "dataEntrada\n",
      "dataAgendamentoDebate\n",
      "numero\n",
      "tipoAutor\n",
      "autoresGP\n"
     ]
    }
   ],
   "source": [
    "for i in data_atividades_atividadesgerais[\"pt_gov_ar_objectos_actividades_DetalhePesquisaActividadesOut\"][0]:\n",
    "    print(i)\n",
    "    "
   ]
  },
  {
   "cell_type": "code",
   "execution_count": 7,
   "metadata": {},
   "outputs": [
    {
     "data": {
      "text/plain": [
       "{'tipo': 'ITG',\n",
       " 'descTipo': 'Interpelação ao Governo',\n",
       " 'assunto': 'Sobre \" Precariedade na Ciência e Financiamento do Ensino Superior\"',\n",
       " 'legislatura': 'XIII',\n",
       " 'sessao': '3',\n",
       " 'dataEntrada': '2018-06-25',\n",
       " 'dataAgendamentoDebate': '2018-06-29',\n",
       " 'numero': '21',\n",
       " 'tipoAutor': 'Grupos Parlamentares',\n",
       " 'autoresGP': {'string': 'BE'}}"
      ]
     },
     "execution_count": 7,
     "metadata": {},
     "output_type": "execute_result"
    }
   ],
   "source": [
    "# Example:\n",
    "data_atividades_atividadesgerais[\"pt_gov_ar_objectos_actividades_DetalhePesquisaActividadesOut\"][0]\n"
   ]
  },
  {
   "cell_type": "markdown",
   "metadata": {},
   "source": [
    "<br>\n",
    "<br>\n",
    "\n",
    "> ## 01.02 - Audicoes\n",
    "> \n",
    "> _01 // Atividades_"
   ]
  },
  {
   "cell_type": "markdown",
   "metadata": {},
   "source": [
    "> data\\_atividades\\_audicoes = data_atividades[\"Atividades\"][\"Audicoes\"]  "
   ]
  },
  {
   "cell_type": "code",
   "execution_count": 8,
   "metadata": {
    "scrolled": false
   },
   "outputs": [
    {
     "name": "stdout",
     "output_type": "stream",
     "text": [
      "IDAudicao\n",
      "numeroAudicao\n",
      "legislatura\n",
      "sessaoLegislativa\n",
      "assunto\n",
      "entidades\n",
      "data\n"
     ]
    }
   ],
   "source": [
    "for i in data_atividades_audicoes[\"ArrayOfPt_gov_ar_objectos_DadosAudicoesComissaoOut\"][0][\"pt_gov_ar_objectos_DadosAudicoesComissaoOut\"][0]:\n",
    "    print (i)\n",
    "    "
   ]
  },
  {
   "cell_type": "code",
   "execution_count": 9,
   "metadata": {},
   "outputs": [
    {
     "data": {
      "text/plain": [
       "{'IDAudicao': '109224',\n",
       " 'numeroAudicao': '67-CDN-XIII',\n",
       " 'legislatura': 'XIII',\n",
       " 'sessaoLegislativa': '3',\n",
       " 'assunto': 'Primeira parte - Audição do Ministro da Defesa Nacional sobre a posição portuguesa a adotar no contexto da próxima Cimeira de Bruxelas, que terá lugar nos dias 11 e 12 de julho -  Segunda parte - Audição do Senhor Ministro da Defesa Nacional, ao abrigo do disposto no n.º 2 do artigo 104.º do Regimento da Assembleia da República',\n",
       " 'entidades': 'MIN.  DA  DEFESA NACIONAL;S.E. DA DEFESA',\n",
       " 'data': '2018-06-26'}"
      ]
     },
     "execution_count": 9,
     "metadata": {},
     "output_type": "execute_result"
    }
   ],
   "source": [
    "# Example:\n",
    "data_atividades_audicoes[\"ArrayOfPt_gov_ar_objectos_DadosAudicoesComissaoOut\"][0][\"pt_gov_ar_objectos_DadosAudicoesComissaoOut\"][0]\n"
   ]
  },
  {
   "cell_type": "markdown",
   "metadata": {},
   "source": [
    "<br>\n",
    "<br>\n",
    "\n",
    "> ## 01.03 - Audiencias\n",
    "> \n",
    "> _01 // Atividades_"
   ]
  },
  {
   "cell_type": "markdown",
   "metadata": {},
   "source": [
    "> data\\_atividades\\_audiencias = data\\_atividades[\"Atividades\"][\"Audiencias\"]  "
   ]
  },
  {
   "cell_type": "code",
   "execution_count": 10,
   "metadata": {},
   "outputs": [
    {
     "name": "stdout",
     "output_type": "stream",
     "text": [
      "IDAudiencia\n",
      "numeroAudiencia\n",
      "legislatura\n",
      "sessaoLegislativa\n",
      "assunto\n",
      "entidades\n",
      "data\n",
      "concedida\n"
     ]
    }
   ],
   "source": [
    "for i in data_atividades_audiencias[\"ArrayOfPt_gov_ar_objectos_DadosAudienciasComissaoOut\"][0][\"pt_gov_ar_objectos_DadosAudienciasComissaoOut\"][0]:\n",
    "    print(i)\n",
    "    "
   ]
  },
  {
   "cell_type": "code",
   "execution_count": 11,
   "metadata": {},
   "outputs": [
    {
     "data": {
      "text/plain": [
       "{'IDAudiencia': '108859',\n",
       " 'numeroAudiencia': '39-CDN-XIII',\n",
       " 'legislatura': 'XIII',\n",
       " 'sessaoLegislativa': '3',\n",
       " 'assunto': 'President of the Ukrainian World Congress (UWC) Mr. Eugene Czolij',\n",
       " 'entidades': None,\n",
       " 'data': '2018-05-29',\n",
       " 'concedida': 'Concedida'}"
      ]
     },
     "execution_count": 11,
     "metadata": {},
     "output_type": "execute_result"
    }
   ],
   "source": [
    "# Example:\n",
    "data_atividades_audiencias[\"ArrayOfPt_gov_ar_objectos_DadosAudienciasComissaoOut\"][0][\"pt_gov_ar_objectos_DadosAudienciasComissaoOut\"][0]\n"
   ]
  },
  {
   "cell_type": "markdown",
   "metadata": {},
   "source": [
    "<br>\n",
    "<br>\n",
    "\n",
    "> ## 01.04 - Deslocacoes\n",
    "> \n",
    "> _01 // Atividades_"
   ]
  },
  {
   "cell_type": "markdown",
   "metadata": {},
   "source": [
    "> data\\_atividades\\_deslocacoes = data\\_atividades[\"Atividades\"][\"Deslocacoes\"]  "
   ]
  },
  {
   "cell_type": "code",
   "execution_count": 12,
   "metadata": {
    "scrolled": false
   },
   "outputs": [
    {
     "name": "stdout",
     "output_type": "stream",
     "text": [
      "IDDeslocacao\n",
      "legislatura\n",
      "sessaoLegislativa\n",
      "dataIni\n",
      "dataFim\n",
      "designacao\n",
      "localEvento\n",
      "tipo\n"
     ]
    }
   ],
   "source": [
    "for i in data_atividades_deslocacoes[\"ArrayOfPt_gov_ar_objectos_DadosDeslocacoesComissaoOut\"][0][\"pt_gov_ar_objectos_DadosDeslocacoesComissaoOut\"][0]:\n",
    "    print (i)"
   ]
  },
  {
   "cell_type": "code",
   "execution_count": 14,
   "metadata": {},
   "outputs": [
    {
     "data": {
      "text/plain": [
       "{'IDDeslocacao': '109225',\n",
       " 'legislatura': 'XIII',\n",
       " 'sessaoLegislativa': '3',\n",
       " 'dataIni': '2018-06-25',\n",
       " 'dataFim': '2018-06-25',\n",
       " 'designacao': 'Cerimónia do Centenário da Marinha no Alfeite',\n",
       " 'localEvento': 'Base Naval de Lisboa, em  Almada',\n",
       " 'tipo': 'Representação'}"
      ]
     },
     "execution_count": 14,
     "metadata": {},
     "output_type": "execute_result"
    }
   ],
   "source": [
    "# Example:\n",
    "data_atividades_deslocacoes[\"ArrayOfPt_gov_ar_objectos_DadosDeslocacoesComissaoOut\"][0][\"pt_gov_ar_objectos_DadosDeslocacoesComissaoOut\"][0]\n"
   ]
  },
  {
   "cell_type": "markdown",
   "metadata": {},
   "source": [
    "<br>\n",
    "<br>\n",
    "\n",
    "> ## 01.05 - Eventos\n",
    "> \n",
    "> _01 // Atividades_"
   ]
  },
  {
   "cell_type": "markdown",
   "metadata": {},
   "source": [
    "> data\\_atividades\\_eventos = data\\_atividades[\"Atividades\"][\"Eventos\"]  "
   ]
  },
  {
   "cell_type": "code",
   "execution_count": 15,
   "metadata": {
    "scrolled": false
   },
   "outputs": [
    {
     "name": "stdout",
     "output_type": "stream",
     "text": [
      "IDEvento\n",
      "legislatura\n",
      "sessaoLegislativa\n",
      "data\n",
      "designacao\n",
      "localEvento\n",
      "tipoEvento\n"
     ]
    }
   ],
   "source": [
    "for i in data_atividades_eventos[\"ArrayOfPt_gov_ar_objectos_DadosEventosComissaoOut\"][0][\"pt_gov_ar_objectos_DadosEventosComissaoOut\"][0]:\n",
    "    print (i)\n",
    "    "
   ]
  },
  {
   "cell_type": "code",
   "execution_count": 16,
   "metadata": {},
   "outputs": [
    {
     "data": {
      "text/plain": [
       "{'IDEvento': '108824',\n",
       " 'legislatura': 'XIII',\n",
       " 'sessaoLegislativa': '3',\n",
       " 'data': '2018-05-30',\n",
       " 'designacao': 'Conferência As Forças Armadas e as Missões de Interesse Público',\n",
       " 'localEvento': 'Sala do Senado',\n",
       " 'tipoEvento': 'Conferência'}"
      ]
     },
     "execution_count": 16,
     "metadata": {},
     "output_type": "execute_result"
    }
   ],
   "source": [
    "# Example:\n",
    "data_atividades_eventos[\"ArrayOfPt_gov_ar_objectos_DadosEventosComissaoOut\"][0][\"pt_gov_ar_objectos_DadosEventosComissaoOut\"][0]\n"
   ]
  },
  {
   "cell_type": "markdown",
   "metadata": {},
   "source": [
    "<br>"
   ]
  },
  {
   "cell_type": "markdown",
   "metadata": {},
   "source": [
    "---\n",
    "\n",
    "---"
   ]
  },
  {
   "cell_type": "markdown",
   "metadata": {},
   "source": [
    "<br>\n",
    "<br>\n",
    "\n",
    "# 02 - Atividades dos Deputados"
   ]
  },
  {
   "cell_type": "markdown",
   "metadata": {},
   "source": [
    "> **Available files:**\n",
    "> \n",
    "> - atividade-deputado-01a.json\n",
    "> - atividade-deputado-01b.json\n",
    "> - atividade-deputado-02.json\n",
    "> - atividade-deputado-03.json\n",
    "> - atividade-deputado-04.json\n",
    "> - atividade-deputado-05.json\n",
    "> - atividade-deputado-06.json\n",
    "> - atividade-deputado-07.json\n",
    "> - atividade-deputado-08.json\n",
    "> - atividade-deputado-09.json\n",
    "> - atividade-deputado-10.json\n",
    "> - atividade-deputado-11.json\n",
    "> - atividade-deputado-12.json\n",
    "> - atividade-deputado-13.json\n",
    "> - atividade-deputado-cons.json"
   ]
  },
  {
   "cell_type": "code",
   "execution_count": 17,
   "metadata": {
    "collapsed": true
   },
   "outputs": [],
   "source": [
    "data_atividadesdeputados = json.loads(open(data_source+\"atividade-deputado-13.json\").read())"
   ]
  },
  {
   "cell_type": "code",
   "execution_count": 18,
   "metadata": {},
   "outputs": [
    {
     "name": "stdout",
     "output_type": "stream",
     "text": [
      "AtividadeDeputadoList\n",
      "deputado\n"
     ]
    }
   ],
   "source": [
    "for i in data_atividadesdeputados[\"ArrayOfAtividadeDeputado\"][\"AtividadeDeputado\"][0]:\n",
    "    print(i)\n",
    "    "
   ]
  },
  {
   "cell_type": "code",
   "execution_count": 19,
   "metadata": {},
   "outputs": [],
   "source": [
    "data_atividadesdeputados[\"ArrayOfAtividadeDeputado\"][\"AtividadeDeputado\"][0];"
   ]
  },
  {
   "cell_type": "markdown",
   "metadata": {},
   "source": [
    "<br>\n",
    "<br>\n",
    "\n",
    "> ## 02.01 - Atividade Deputado List  \n",
    "> \n",
    "> _02 // Atividades dos Deputados_"
   ]
  },
  {
   "cell_type": "code",
   "execution_count": 20,
   "metadata": {},
   "outputs": [
    {
     "name": "stdout",
     "output_type": "stream",
     "text": [
      "ini\n",
      "req\n",
      "scgt\n",
      "intev\n",
      "actP\n",
      "gpa\n",
      "rel\n",
      "eventos\n",
      "deslocacoes\n",
      "cms\n",
      "dadosLegisDeputado\n",
      "audiencias\n",
      "audicoes\n",
      "parlamentoJovens\n",
      "videos\n"
     ]
    }
   ],
   "source": [
    "for i in data_atividadesdeputados[\"ArrayOfAtividadeDeputado\"][\"AtividadeDeputado\"][0][\"AtividadeDeputadoList\"][\"pt_gov_ar_wsar_objectos_ActividadeOut\"]:\n",
    "    print(i)\n",
    "    "
   ]
  },
  {
   "cell_type": "code",
   "execution_count": 21,
   "metadata": {},
   "outputs": [],
   "source": [
    "# Example:\n",
    "data_atividadesdeputados[\"ArrayOfAtividadeDeputado\"][\"AtividadeDeputado\"][0][\"AtividadeDeputadoList\"][\"pt_gov_ar_wsar_objectos_ActividadeOut\"];"
   ]
  },
  {
   "cell_type": "markdown",
   "metadata": {},
   "source": [
    "<br>\n",
    "<br>\n",
    "\n",
    "> ### 02.01.01 - Iniciativas\n",
    "> \n",
    "> _02.01 // Atividade Deputado List_  \n",
    "> _02 // Atividades dos Deputados_  "
   ]
  },
  {
   "cell_type": "code",
   "execution_count": 20,
   "metadata": {},
   "outputs": [
    {
     "name": "stdout",
     "output_type": "stream",
     "text": [
      "iniId\n",
      "iniNr\n",
      "iniTp\n",
      "iniTpdesc\n",
      "iniSelLg\n",
      "iniSelNr\n",
      "iniTi\n"
     ]
    }
   ],
   "source": [
    "for i in data_atividadesdeputados[\"ArrayOfAtividadeDeputado\"][\"AtividadeDeputado\"][0][\"AtividadeDeputadoList\"][\"pt_gov_ar_wsar_objectos_ActividadeOut\"][\"ini\"][\"pt_gov_ar_wsar_objectos_IniciativasOut\"][0]:\n",
    "    print(i)"
   ]
  },
  {
   "cell_type": "code",
   "execution_count": 20,
   "metadata": {},
   "outputs": [
    {
     "data": {
      "text/plain": [
       "{'iniId': '40622',\n",
       " 'iniNr': '464',\n",
       " 'iniTp': 'R',\n",
       " 'iniTpdesc': 'Projeto de Resolução',\n",
       " 'iniSelLg': 'XIII',\n",
       " 'iniSelNr': '2',\n",
       " 'iniTi': 'Recomenda ao Governo que intervenha na Estrada Nacional 2 de forma a transformar esta via num “produto” de interesse económico e de promoção turística'}"
      ]
     },
     "execution_count": 20,
     "metadata": {},
     "output_type": "execute_result"
    }
   ],
   "source": [
    "# Example:\n",
    "data_atividadesdeputados[\"ArrayOfAtividadeDeputado\"][\"AtividadeDeputado\"][0][\"AtividadeDeputadoList\"][\"pt_gov_ar_wsar_objectos_ActividadeOut\"][\"ini\"][\"pt_gov_ar_wsar_objectos_IniciativasOut\"][0]\n"
   ]
  },
  {
   "cell_type": "markdown",
   "metadata": {},
   "source": [
    "<br>\n",
    "<br>\n",
    "\n",
    "> ### 02.01.02 - Requerimentos\n",
    "> \n",
    "> _02.01 // Atividade Deputado List_  \n",
    "> _02 // Atividades dos Deputados_  "
   ]
  },
  {
   "cell_type": "code",
   "execution_count": 22,
   "metadata": {},
   "outputs": [
    {
     "name": "stdout",
     "output_type": "stream",
     "text": [
      "reqId\n",
      "reqNr\n",
      "reqTp\n",
      "reqLg\n",
      "reqSl\n",
      "reqAs\n",
      "reqDt\n",
      "reqPerTp\n"
     ]
    }
   ],
   "source": [
    "for i in data_atividadesdeputados[\"ArrayOfAtividadeDeputado\"][\"AtividadeDeputado\"][0][\"AtividadeDeputadoList\"][\"pt_gov_ar_wsar_objectos_ActividadeOut\"][\"req\"][\"pt_gov_ar_wsar_objectos_RequerimentosOut\"][0]:\n",
    "    print(i)"
   ]
  },
  {
   "cell_type": "code",
   "execution_count": 23,
   "metadata": {},
   "outputs": [
    {
     "data": {
      "text/plain": [
       "{'reqId': '92816',\n",
       " 'reqNr': '91',\n",
       " 'reqTp': 'AC',\n",
       " 'reqLg': 'XIII',\n",
       " 'reqSl': '1',\n",
       " 'reqAs': 'Relatório IGAMAOT',\n",
       " 'reqDt': '2016-05-25 00:00:00.0',\n",
       " 'reqPerTp': 'REQ'}"
      ]
     },
     "execution_count": 23,
     "metadata": {},
     "output_type": "execute_result"
    }
   ],
   "source": [
    "# Example:\n",
    "data_atividadesdeputados[\"ArrayOfAtividadeDeputado\"][\"AtividadeDeputado\"][0][\"AtividadeDeputadoList\"][\"pt_gov_ar_wsar_objectos_ActividadeOut\"][\"req\"][\"pt_gov_ar_wsar_objectos_RequerimentosOut\"][0]\n"
   ]
  },
  {
   "cell_type": "markdown",
   "metadata": {},
   "source": [
    "<br>\n",
    "<br>\n",
    "\n",
    "> ### 02.01.03 - SubComissoes Grupos Trabalho\n",
    "> \n",
    "> _02.01 // Atividade Deputado List_  \n",
    "> _02 // Atividades dos Deputados_"
   ]
  },
  {
   "cell_type": "code",
   "execution_count": 24,
   "metadata": {},
   "outputs": [
    {
     "name": "stdout",
     "output_type": "stream",
     "text": [
      "ccmDscom\n",
      "scmCd\n",
      "scmComCd\n",
      "scmComLg\n"
     ]
    }
   ],
   "source": [
    "for i in data_atividadesdeputados[\"ArrayOfAtividadeDeputado\"][\"AtividadeDeputado\"][0][\"AtividadeDeputadoList\"][\"pt_gov_ar_wsar_objectos_ActividadeOut\"][\"scgt\"][\"pt_gov_ar_wsar_objectos_SubComissoesGruposTrabalhoOut\"][0]:\n",
    "    print(i)"
   ]
  },
  {
   "cell_type": "code",
   "execution_count": 25,
   "metadata": {},
   "outputs": [
    {
     "data": {
      "text/plain": [
       "{'ccmDscom': 'Grupo de Trabalho - Setor Leiteiro',\n",
       " 'scmCd': '1',\n",
       " 'scmComCd': '7',\n",
       " 'scmComLg': 'XIII'}"
      ]
     },
     "execution_count": 25,
     "metadata": {},
     "output_type": "execute_result"
    }
   ],
   "source": [
    "# Example:\n",
    "data_atividadesdeputados[\"ArrayOfAtividadeDeputado\"][\"AtividadeDeputado\"][0][\"AtividadeDeputadoList\"][\"pt_gov_ar_wsar_objectos_ActividadeOut\"][\"scgt\"][\"pt_gov_ar_wsar_objectos_SubComissoesGruposTrabalhoOut\"][0]\n"
   ]
  },
  {
   "cell_type": "markdown",
   "metadata": {},
   "source": [
    "<br>\n",
    "<br>\n",
    "\n",
    "> ### 02.01.04 - Intervencoes\n",
    "> \n",
    "> _02.01 // Atividade Deputado List_  \n",
    "> _02 // Atividades dos Deputados_"
   ]
  },
  {
   "cell_type": "code",
   "execution_count": 26,
   "metadata": {},
   "outputs": [
    {
     "name": "stdout",
     "output_type": "stream",
     "text": [
      "intId\n",
      "intSu\n",
      "pubDtreu\n",
      "pubTp\n",
      "pubSup\n",
      "pubLg\n",
      "pubSl\n",
      "pubNr\n",
      "tinDs\n",
      "pubDar\n"
     ]
    }
   ],
   "source": [
    "for i in data_atividadesdeputados[\"ArrayOfAtividadeDeputado\"][\"AtividadeDeputado\"][0][\"AtividadeDeputadoList\"][\"pt_gov_ar_wsar_objectos_ActividadeOut\"][\"intev\"][\"pt_gov_ar_wsar_objectos_IntervencoesOut\"][0]:\n",
    "    print(i)"
   ]
  },
  {
   "cell_type": "code",
   "execution_count": 27,
   "metadata": {},
   "outputs": [
    {
     "data": {
      "text/plain": [
       "{'intId': '202934',\n",
       " 'intSu': 'Voto de Saudação à Seleção Nacional de Hóquei em Patins, por se ter sagrado Campeã da Europa',\n",
       " 'pubDtreu': '2016-07-20',\n",
       " 'pubTp': 'D',\n",
       " 'pubSup': '.',\n",
       " 'pubLg': 'XIII',\n",
       " 'pubSl': '1',\n",
       " 'pubNr': '89',\n",
       " 'tinDs': 'Leitura',\n",
       " 'pubDar': '92'}"
      ]
     },
     "execution_count": 27,
     "metadata": {},
     "output_type": "execute_result"
    }
   ],
   "source": [
    "# Example:\n",
    "data_atividadesdeputados[\"ArrayOfAtividadeDeputado\"][\"AtividadeDeputado\"][0][\"AtividadeDeputadoList\"][\"pt_gov_ar_wsar_objectos_ActividadeOut\"][\"intev\"][\"pt_gov_ar_wsar_objectos_IntervencoesOut\"][0]\n"
   ]
  },
  {
   "cell_type": "markdown",
   "metadata": {},
   "source": [
    "<br>\n",
    "<br>\n",
    "\n",
    "> ### 02.01.05 - Atividades Parlamentares\n",
    "> \n",
    "> _02.01 // Atividade Deputado List_  \n",
    "> _02 // Atividades dos Deputados_"
   ]
  },
  {
   "cell_type": "code",
   "execution_count": 9,
   "metadata": {},
   "outputs": [
    {
     "name": "stdout",
     "output_type": "stream",
     "text": [
      "actId\n",
      "actNr\n",
      "actTp\n",
      "actTpdesc\n",
      "actSelLg\n",
      "actSelNr\n",
      "actDtent\n",
      "actDtdeb\n",
      "actAs\n"
     ]
    }
   ],
   "source": [
    "for i in data_atividadesdeputados[\"ArrayOfAtividadeDeputado\"][\"AtividadeDeputado\"][0][\"AtividadeDeputadoList\"][\"pt_gov_ar_wsar_objectos_ActividadeOut\"][\"actP\"][\"pt_gov_ar_wsar_objectos_ActividadesParlamentaresOut\"][0]:\n",
    "    print(i)"
   ]
  },
  {
   "cell_type": "code",
   "execution_count": 24,
   "metadata": {},
   "outputs": [
    {
     "data": {
      "text/plain": [
       "{'actId': '101024',\n",
       " 'actNr': None,\n",
       " 'actTp': 'VOT',\n",
       " 'actTpdesc': 'Voto',\n",
       " 'actSelLg': 'XIII',\n",
       " 'actSelNr': '1',\n",
       " 'actDtent': '26-11-2015',\n",
       " 'actDtdeb': '2015-11-27 00:00:00.0',\n",
       " 'actAs': 'Voto de Condenação e Repúdio pelo atentado ocorrido em Túnis'}"
      ]
     },
     "execution_count": 24,
     "metadata": {},
     "output_type": "execute_result"
    }
   ],
   "source": [
    "# Example:\n",
    "data_atividadesdeputados[\"ArrayOfAtividadeDeputado\"][\"AtividadeDeputado\"][0][\"AtividadeDeputadoList\"][\"pt_gov_ar_wsar_objectos_ActividadeOut\"][\"actP\"][\"pt_gov_ar_wsar_objectos_ActividadesParlamentaresOut\"][0]\n"
   ]
  },
  {
   "cell_type": "markdown",
   "metadata": {},
   "source": [
    "<br>\n",
    "<br>\n",
    "\n",
    "> ### 02.01.06 - Grupos Parlamentares Amizade\n",
    "> \n",
    "> _02.01 // Atividade Deputado List_  \n",
    "> _02 // Atividades dos Deputados_"
   ]
  },
  {
   "cell_type": "code",
   "execution_count": 30,
   "metadata": {},
   "outputs": [
    {
     "name": "stdout",
     "output_type": "stream",
     "text": [
      "gplId\n",
      "gplNo\n",
      "cgaDtini\n",
      "gplSelLg\n",
      "cgaCrg\n"
     ]
    }
   ],
   "source": [
    "for i in data_atividadesdeputados[\"ArrayOfAtividadeDeputado\"][\"AtividadeDeputado\"][0][\"AtividadeDeputadoList\"][\"pt_gov_ar_wsar_objectos_ActividadeOut\"][\"gpa\"][\"pt_gov_ar_wsar_objectos_GruposParlamentaresAmizadeOut\"][0]:\n",
    "    print(i)\n"
   ]
  },
  {
   "cell_type": "code",
   "execution_count": 31,
   "metadata": {},
   "outputs": [
    {
     "data": {
      "text/plain": [
       "{'gplId': '348',\n",
       " 'gplNo': 'Portugal-Guiné-Equatorial',\n",
       " 'cgaDtini': '2016-05-11 00:00:00.0',\n",
       " 'gplSelLg': 'XIII',\n",
       " 'cgaCrg': 'Membro'}"
      ]
     },
     "execution_count": 31,
     "metadata": {},
     "output_type": "execute_result"
    }
   ],
   "source": [
    "# Example:\n",
    "data_atividadesdeputados[\"ArrayOfAtividadeDeputado\"][\"AtividadeDeputado\"][0][\"AtividadeDeputadoList\"][\"pt_gov_ar_wsar_objectos_ActividadeOut\"][\"gpa\"][\"pt_gov_ar_wsar_objectos_GruposParlamentaresAmizadeOut\"][0]\n"
   ]
  },
  {
   "cell_type": "markdown",
   "metadata": {},
   "source": [
    "<br>\n",
    "<br>\n",
    "\n",
    "> ### 02.01.07 - Relatores Peticoes\n",
    "> \n",
    "> _02.1 // Atividade Deputado List_  \n",
    "> _02 // Atividades dos Deputados_"
   ]
  },
  {
   "cell_type": "code",
   "execution_count": 32,
   "metadata": {},
   "outputs": [
    {
     "name": "stdout",
     "output_type": "stream",
     "text": [
      "petId\n",
      "petNr\n",
      "petSelLgPk\n",
      "petSelNrPk\n",
      "petAspet\n",
      "pecDtrelf\n"
     ]
    }
   ],
   "source": [
    "for i in data_atividadesdeputados[\"ArrayOfAtividadeDeputado\"][\"AtividadeDeputado\"][0][\"AtividadeDeputadoList\"][\"pt_gov_ar_wsar_objectos_ActividadeOut\"][\"rel\"][\"relatoresPeticoes\"][\"pt_gov_ar_wsar_objectos_RelatoresPeticoesOut\"][0]:\n",
    "    print(i)\n"
   ]
  },
  {
   "cell_type": "code",
   "execution_count": 33,
   "metadata": {},
   "outputs": [
    {
     "data": {
      "text/plain": [
       "{'petId': '12771',\n",
       " 'petNr': '91',\n",
       " 'petSelLgPk': 'XIII',\n",
       " 'petSelNrPk': '1',\n",
       " 'petAspet': 'Contra o abandono e abate dos animais da Ilha São Miguel.',\n",
       " 'pecDtrelf': '2016-05-18'}"
      ]
     },
     "execution_count": 33,
     "metadata": {},
     "output_type": "execute_result"
    }
   ],
   "source": [
    "# Example:\n",
    "data_atividadesdeputados[\"ArrayOfAtividadeDeputado\"][\"AtividadeDeputado\"][0][\"AtividadeDeputadoList\"][\"pt_gov_ar_wsar_objectos_ActividadeOut\"][\"rel\"][\"relatoresPeticoes\"][\"pt_gov_ar_wsar_objectos_RelatoresPeticoesOut\"][0]\n"
   ]
  },
  {
   "cell_type": "markdown",
   "metadata": {},
   "source": [
    "<br>\n",
    "<br>\n",
    "\n",
    "> ### 02.01.08 - Atividades Comissao\n",
    "> \n",
    "> _02.1 // Atividade Deputado List_  \n",
    "> _02 // Atividades dos Deputados_"
   ]
  },
  {
   "cell_type": "code",
   "execution_count": 34,
   "metadata": {},
   "outputs": [
    {
     "name": "stdout",
     "output_type": "stream",
     "text": [
      "actId\n",
      "actAs\n",
      "actDtent\n",
      "actLoc\n",
      "actTp\n",
      "actTpdesc\n",
      "actLg\n",
      "cmsNo\n",
      "cmsAb\n",
      "tevTp\n",
      "actSl\n"
     ]
    }
   ],
   "source": [
    "for i in data_atividadesdeputados[\"ArrayOfAtividadeDeputado\"][\"AtividadeDeputado\"][0][\"AtividadeDeputadoList\"][\"pt_gov_ar_wsar_objectos_ActividadeOut\"][\"eventos\"][\"pt_gov_ar_wsar_objectos_ActividadesComissaoOut\"][0]:\n",
    "    print(i)"
   ]
  },
  {
   "cell_type": "code",
   "execution_count": 35,
   "metadata": {},
   "outputs": [
    {
     "data": {
      "text/plain": [
       "{'actId': '102253',\n",
       " 'actAs': 'Descentralização de Competências na Educação: O Papel do Poder Local',\n",
       " 'actDtent': '2016-06-15',\n",
       " 'actLoc': 'Auditório do Novo Edifício',\n",
       " 'actTp': 'EVN',\n",
       " 'actTpdesc': 'Evento',\n",
       " 'actLg': 'XIII',\n",
       " 'cmsNo': 'Grupo de Trabalho de Acompanhamento das Transferências de Competências na Educação',\n",
       " 'cmsAb': 'GT-ATCE',\n",
       " 'tevTp': 'Conferência',\n",
       " 'actSl': '1'}"
      ]
     },
     "execution_count": 35,
     "metadata": {},
     "output_type": "execute_result"
    }
   ],
   "source": [
    "# Example:\n",
    "data_atividadesdeputados[\"ArrayOfAtividadeDeputado\"][\"AtividadeDeputado\"][0][\"AtividadeDeputadoList\"][\"pt_gov_ar_wsar_objectos_ActividadeOut\"][\"eventos\"][\"pt_gov_ar_wsar_objectos_ActividadesComissaoOut\"][0]\n"
   ]
  },
  {
   "cell_type": "markdown",
   "metadata": {},
   "source": [
    "<br>\n",
    "<br>\n",
    "\n",
    "> ### 02.01.09 - Deslocacoes, Atividades Comissao\n",
    "> \n",
    "> _02.1 // Atividade Deputado List_  \n",
    "> _02 // Atividades dos Deputados_"
   ]
  },
  {
   "cell_type": "code",
   "execution_count": 36,
   "metadata": {},
   "outputs": [
    {
     "name": "stdout",
     "output_type": "stream",
     "text": [
      "actId\n",
      "actAs\n",
      "actDtdes1\n",
      "actDtdes2\n",
      "actLoc\n",
      "actTp\n",
      "actTpdesc\n",
      "actLg\n",
      "cmsNo\n",
      "cmsAb\n"
     ]
    }
   ],
   "source": [
    "for i in data_atividadesdeputados[\"ArrayOfAtividadeDeputado\"][\"AtividadeDeputado\"][0][\"AtividadeDeputadoList\"][\"pt_gov_ar_wsar_objectos_ActividadeOut\"][\"deslocacoes\"][\"pt_gov_ar_wsar_objectos_ActividadesComissaoOut\"][0]:\n",
    "    print(i)\n"
   ]
  },
  {
   "cell_type": "code",
   "execution_count": 37,
   "metadata": {},
   "outputs": [
    {
     "data": {
      "text/plain": [
       "{'actId': '102750',\n",
       " 'actAs': 'Visita de Trabalho a áreas fortemente atingidas pelos incêndios',\n",
       " 'actDtdes1': '2016-08-18',\n",
       " 'actDtdes2': '2016-08-18',\n",
       " 'actLoc': 'Arcos de Valdevez; Parque Nacional da Peneda-Gerês; São Pedro do Sul; S. Martinho das Moitas; Arouca',\n",
       " 'actTp': 'DES',\n",
       " 'actTpdesc': 'Deslocação',\n",
       " 'actLg': 'XIII',\n",
       " 'cmsNo': 'Comissão de Agricultura e Mar',\n",
       " 'cmsAb': 'CAM'}"
      ]
     },
     "execution_count": 37,
     "metadata": {},
     "output_type": "execute_result"
    }
   ],
   "source": [
    "# Example:\n",
    "data_atividadesdeputados[\"ArrayOfAtividadeDeputado\"][\"AtividadeDeputado\"][0][\"AtividadeDeputadoList\"][\"pt_gov_ar_wsar_objectos_ActividadeOut\"][\"deslocacoes\"][\"pt_gov_ar_wsar_objectos_ActividadesComissaoOut\"][0]\n"
   ]
  },
  {
   "cell_type": "markdown",
   "metadata": {},
   "source": [
    "<br>\n",
    "<br>\n",
    "\n",
    "> ### 02.01.10 - Comissoes\n",
    "> \n",
    "> _02.01 // Atividade Deputado List_  \n",
    "> _02 // Atividades dos Deputados_"
   ]
  },
  {
   "cell_type": "code",
   "execution_count": 38,
   "metadata": {},
   "outputs": [
    {
     "name": "stdout",
     "output_type": "stream",
     "text": [
      "cmsNo\n",
      "cmsCd\n",
      "cmsLg\n"
     ]
    }
   ],
   "source": [
    "for i in data_atividadesdeputados[\"ArrayOfAtividadeDeputado\"][\"AtividadeDeputado\"][0][\"AtividadeDeputadoList\"][\"pt_gov_ar_wsar_objectos_ActividadeOut\"][\"cms\"][\"pt_gov_ar_wsar_objectos_ComissoesOut\"][0]:\n",
    "    print(i)"
   ]
  },
  {
   "cell_type": "code",
   "execution_count": 39,
   "metadata": {},
   "outputs": [
    {
     "data": {
      "text/plain": [
       "{'cmsNo': 'Comissão de Defesa Nacional', 'cmsCd': '3', 'cmsLg': 'XIII'}"
      ]
     },
     "execution_count": 39,
     "metadata": {},
     "output_type": "execute_result"
    }
   ],
   "source": [
    "# Example:\n",
    "data_atividadesdeputados[\"ArrayOfAtividadeDeputado\"][\"AtividadeDeputado\"][0][\"AtividadeDeputadoList\"][\"pt_gov_ar_wsar_objectos_ActividadeOut\"][\"cms\"][\"pt_gov_ar_wsar_objectos_ComissoesOut\"][0]"
   ]
  },
  {
   "cell_type": "markdown",
   "metadata": {},
   "source": [
    "<br>\n",
    "<br>\n",
    "\n",
    "> ### 02.01.11 - Dados Legislatura Deputado\n",
    "> \n",
    "> _02.01 // Atividade Deputado List_  \n",
    "> _02 // Atividades dos Deputados_"
   ]
  },
  {
   "cell_type": "code",
   "execution_count": 40,
   "metadata": {},
   "outputs": [
    {
     "name": "stdout",
     "output_type": "stream",
     "text": [
      "nome\n",
      "dpl_lg\n",
      "dpl_grpar\n"
     ]
    }
   ],
   "source": [
    "for i in data_atividadesdeputados[\"ArrayOfAtividadeDeputado\"][\"AtividadeDeputado\"][0][\"AtividadeDeputadoList\"][\"pt_gov_ar_wsar_objectos_ActividadeOut\"][\"dadosLegisDeputado\"][\"pt_gov_ar_wsar_objectos_DadosLegisDeputado\"]:\n",
    "    print(i)"
   ]
  },
  {
   "cell_type": "code",
   "execution_count": 41,
   "metadata": {},
   "outputs": [
    {
     "data": {
      "text/plain": [
       "{'nome': 'ABEL BAPTISTA', 'dpl_lg': 'XIII', 'dpl_grpar': 'CDS-PP'}"
      ]
     },
     "execution_count": 41,
     "metadata": {},
     "output_type": "execute_result"
    }
   ],
   "source": [
    "# Example:\n",
    "data_atividadesdeputados[\"ArrayOfAtividadeDeputado\"][\"AtividadeDeputado\"][0][\"AtividadeDeputadoList\"][\"pt_gov_ar_wsar_objectos_ActividadeOut\"][\"dadosLegisDeputado\"][\"pt_gov_ar_wsar_objectos_DadosLegisDeputado\"]\n"
   ]
  },
  {
   "cell_type": "markdown",
   "metadata": {},
   "source": [
    "<br>\n",
    "<br>\n",
    "\n",
    "> ### 02.01.12 - Audiencias, Atividades Comissao\n",
    "> \n",
    "> _02.01 // Atividade Deputado List_  \n",
    "> _02 // Atividades dos Deputados_"
   ]
  },
  {
   "cell_type": "code",
   "execution_count": 42,
   "metadata": {},
   "outputs": [
    {
     "name": "stdout",
     "output_type": "stream",
     "text": [
      "actId\n",
      "actAs\n",
      "accDtaud\n",
      "actTp\n",
      "nomeEntidadeExterna\n",
      "actTpdesc\n",
      "actNr\n",
      "actLg\n",
      "cmsNo\n",
      "cmsAb\n"
     ]
    }
   ],
   "source": [
    "for i in data_atividadesdeputados[\"ArrayOfAtividadeDeputado\"][\"AtividadeDeputado\"][0][\"AtividadeDeputadoList\"][\"pt_gov_ar_wsar_objectos_ActividadeOut\"][\"audiencias\"][\"pt_gov_ar_wsar_objectos_ActividadesComissaoOut\"][0]:\n",
    "    print(i)"
   ]
  },
  {
   "cell_type": "code",
   "execution_count": 43,
   "metadata": {},
   "outputs": [
    {
     "data": {
      "text/plain": [
       "{'actId': '102648',\n",
       " 'actAs': 'Pedido de audiência para abordar a situação de os concelhos de Coimbra, Montemor-o-Velho e Soure, assim como parte da Figueira da Foz, estarem de fora das candidaturas a fundos comunitários para intervenções a nível da desobstrução e regularização fluvial e controlo de inundações',\n",
       " 'accDtaud': '2016-07-19',\n",
       " 'actTp': 'AUD',\n",
       " 'nomeEntidadeExterna': 'APOR - Associação Portuguesa dos Orizicultores',\n",
       " 'actTpdesc': 'Audiência',\n",
       " 'actNr': '23-CAM-XIII',\n",
       " 'actLg': 'XIII',\n",
       " 'cmsNo': 'Comissão de Agricultura e Mar',\n",
       " 'cmsAb': 'CAM'}"
      ]
     },
     "execution_count": 43,
     "metadata": {},
     "output_type": "execute_result"
    }
   ],
   "source": [
    "# Example:\n",
    "data_atividadesdeputados[\"ArrayOfAtividadeDeputado\"][\"AtividadeDeputado\"][0][\"AtividadeDeputadoList\"][\"pt_gov_ar_wsar_objectos_ActividadeOut\"][\"audiencias\"][\"pt_gov_ar_wsar_objectos_ActividadesComissaoOut\"][0]\n"
   ]
  },
  {
   "cell_type": "markdown",
   "metadata": {},
   "source": [
    "<br>\n",
    "<br>\n",
    "\n",
    "> ### 02.01.13 - Audicoes, Atividades Comissao\n",
    "> \n",
    "> _02.01 // Atividade Deputado List_  \n",
    "> _02 // Atividades dos Deputados_"
   ]
  },
  {
   "cell_type": "code",
   "execution_count": 44,
   "metadata": {},
   "outputs": [
    {
     "name": "stdout",
     "output_type": "stream",
     "text": [
      "actId\n",
      "actAs\n",
      "accDtaud\n",
      "actTp\n",
      "nomeEntidadeExterna\n",
      "actTpdesc\n",
      "actNr\n",
      "actLg\n",
      "cmsNo\n",
      "cmsAb\n"
     ]
    }
   ],
   "source": [
    "for i in data_atividadesdeputados[\"ArrayOfAtividadeDeputado\"][\"AtividadeDeputado\"][0][\"AtividadeDeputadoList\"][\"pt_gov_ar_wsar_objectos_ActividadeOut\"][\"audicoes\"][\"pt_gov_ar_wsar_objectos_ActividadesComissaoOut\"][0]:\n",
    "    print(i)"
   ]
  },
  {
   "cell_type": "code",
   "execution_count": 45,
   "metadata": {},
   "outputs": [
    {
     "data": {
      "text/plain": [
       "{'actId': '102511',\n",
       " 'actAs': 'Audição Regimental do Senhor Ministro da Ciência, Tecnologia e Ensino Superior, no âmbito do Artº 104.º, n.º 2 do Regimento da Assembleia da República',\n",
       " 'accDtaud': '2016-07-12',\n",
       " 'actTp': 'AUP',\n",
       " 'nomeEntidadeExterna': ', Manuel Heitor (Min. da Ciência, Tecnologia e Ensino Superior) , Maria Fernanda Rollo (S.E. da Ciência, Tecnologia e Ensino Superior) ',\n",
       " 'actTpdesc': 'Audição ',\n",
       " 'actNr': '30-CEC-XIII',\n",
       " 'actLg': 'XIII',\n",
       " 'cmsNo': 'Comissão de Educação e Ciência',\n",
       " 'cmsAb': 'CEC'}"
      ]
     },
     "execution_count": 45,
     "metadata": {},
     "output_type": "execute_result"
    }
   ],
   "source": [
    "# Example:\n",
    "data_atividadesdeputados[\"ArrayOfAtividadeDeputado\"][\"AtividadeDeputado\"][0][\"AtividadeDeputadoList\"][\"pt_gov_ar_wsar_objectos_ActividadeOut\"][\"audicoes\"][\"pt_gov_ar_wsar_objectos_ActividadesComissaoOut\"][0]\n"
   ]
  },
  {
   "cell_type": "markdown",
   "metadata": {},
   "source": [
    "<br>\n",
    "<br>\n",
    "\n",
    "> ### 02.01.14 - Parlamento Jovens, Dados Deputado\n",
    "> \n",
    "> _02.01 // Atividade Deputado List_  \n",
    "> _02 // Atividades dos Deputados_"
   ]
  },
  {
   "cell_type": "code",
   "execution_count": 46,
   "metadata": {},
   "outputs": [
    {
     "name": "stdout",
     "output_type": "stream",
     "text": [
      "legislatura\n",
      "data\n",
      "tipoReuniao\n",
      "estabelecimento\n",
      "circuloEleitoral\n",
      "sessao\n"
     ]
    }
   ],
   "source": [
    "for i in data_atividadesdeputados[\"ArrayOfAtividadeDeputado\"][\"AtividadeDeputado\"][0][\"AtividadeDeputadoList\"][\"pt_gov_ar_wsar_objectos_ActividadeOut\"][\"parlamentoJovens\"][\"pt_ar_wsgode_objectos_DadosDeputado\"][0]:\n",
    "    print(i)"
   ]
  },
  {
   "cell_type": "code",
   "execution_count": 47,
   "metadata": {},
   "outputs": [
    {
     "data": {
      "text/plain": [
       "{'legislatura': 'XIII',\n",
       " 'data': '2016-01-18',\n",
       " 'tipoReuniao': 'Debate na Escola',\n",
       " 'estabelecimento': 'Escola Secundária de Santa Maria Maior, Viana do Castelo',\n",
       " 'circuloEleitoral': 'VIANA DO CASTELO',\n",
       " 'sessao': 'Básico'}"
      ]
     },
     "execution_count": 47,
     "metadata": {},
     "output_type": "execute_result"
    }
   ],
   "source": [
    "# Example:\n",
    "data_atividadesdeputados[\"ArrayOfAtividadeDeputado\"][\"AtividadeDeputado\"][0][\"AtividadeDeputadoList\"][\"pt_gov_ar_wsar_objectos_ActividadeOut\"][\"parlamentoJovens\"][\"pt_ar_wsgode_objectos_DadosDeputado\"][0]\n"
   ]
  },
  {
   "cell_type": "markdown",
   "metadata": {},
   "source": [
    "<br>\n",
    "<br>\n",
    "\n",
    "> ### 02.01.15 - Videos\n",
    "> \n",
    "> _02.01 // Atividade Deputado List_  \n",
    "> _02 // Atividades dos Deputados_"
   ]
  },
  {
   "cell_type": "code",
   "execution_count": 48,
   "metadata": {},
   "outputs": [
    {
     "name": "stdout",
     "output_type": "stream",
     "text": [
      "tipo\n",
      "url\n"
     ]
    }
   ],
   "source": [
    "for i in data_atividadesdeputados[\"ArrayOfAtividadeDeputado\"][\"AtividadeDeputado\"][0][\"AtividadeDeputadoList\"][\"pt_gov_ar_wsar_objectos_ActividadeOut\"][\"videos\"][\"pt_gov_ar_wsar_objectos_VideosOut\"]:\n",
    "    print(i)"
   ]
  },
  {
   "cell_type": "code",
   "execution_count": 49,
   "metadata": {},
   "outputs": [
    {
     "data": {
      "text/plain": [
       "{'tipo': 'VideoBiografia',\n",
       " 'url': 'http://media.parlamento.pt/site/XIIILEG/videobiografias/CDS-PP_ABEL_BAPTISTA.mp4'}"
      ]
     },
     "execution_count": 49,
     "metadata": {},
     "output_type": "execute_result"
    }
   ],
   "source": [
    "# Example:\n",
    "data_atividadesdeputados[\"ArrayOfAtividadeDeputado\"][\"AtividadeDeputado\"][0][\"AtividadeDeputadoList\"][\"pt_gov_ar_wsar_objectos_ActividadeOut\"][\"videos\"][\"pt_gov_ar_wsar_objectos_VideosOut\"]\n"
   ]
  },
  {
   "cell_type": "markdown",
   "metadata": {},
   "source": [
    "<br>\n",
    "<br>\n",
    "\n",
    "> ## 02.02 - Deputado\n",
    "> \n",
    "> _02 // Atividades dos Deputados_"
   ]
  },
  {
   "cell_type": "code",
   "execution_count": 50,
   "metadata": {},
   "outputs": [
    {
     "name": "stdout",
     "output_type": "stream",
     "text": [
      "depId\n",
      "depCadId\n",
      "depNomeParlamentar\n",
      "depGP\n",
      "depCPId\n",
      "depCPDes\n",
      "legDes\n",
      "depCargo\n",
      "depSituacao\n",
      "depNomeCompleto\n",
      "videos\n"
     ]
    }
   ],
   "source": [
    "for i in data_atividadesdeputados[\"ArrayOfAtividadeDeputado\"][\"AtividadeDeputado\"][0][\"deputado\"]:\n",
    "    print(i)"
   ]
  },
  {
   "cell_type": "code",
   "execution_count": 51,
   "metadata": {},
   "outputs": [
    {
     "data": {
      "text/plain": [
       "{'depId': '8357',\n",
       " 'depCadId': '3',\n",
       " 'depNomeParlamentar': 'ADÃO SILVA',\n",
       " 'depGP': {'pt_ar_wsgode_objectos_DadosSituacaoGP': {'gpId': '4464',\n",
       "   'gpSigla': 'PSD',\n",
       "   'gpDtInicio': '2015-10-23'}},\n",
       " 'depCPId': '4',\n",
       " 'depCPDes': 'BRAGANÇA',\n",
       " 'legDes': 'XIII',\n",
       " 'depSituacao': {'pt_ar_wsgode_objectos_DadosSituacaoDeputado': {'sioDes': 'Efetivo',\n",
       "   'sioDtInicio': '2015-10-23'}},\n",
       " 'depNomeCompleto': 'ADÃO JOSÉ FONSECA SILVA'}"
      ]
     },
     "execution_count": 51,
     "metadata": {},
     "output_type": "execute_result"
    }
   ],
   "source": [
    "# Example:\n",
    "data_atividadesdeputados[\"ArrayOfAtividadeDeputado\"][\"AtividadeDeputado\"][1][\"deputado\"]\n"
   ]
  },
  {
   "cell_type": "markdown",
   "metadata": {},
   "source": [
    "<br>\n",
    "<br>\n",
    "\n",
    "> > ### 02.02.01 - Dados Situacao Deputado\n",
    "> > \n",
    "> > _02.02 // Deputados_  \n",
    "> > _02 // Atividades dos Deputados_"
   ]
  },
  {
   "cell_type": "code",
   "execution_count": 52,
   "metadata": {},
   "outputs": [
    {
     "name": "stdout",
     "output_type": "stream",
     "text": [
      "sioDes\n",
      "sioDtInicio\n"
     ]
    }
   ],
   "source": [
    "for i in data_atividadesdeputados[\"ArrayOfAtividadeDeputado\"][\"AtividadeDeputado\"][1][\"deputado\"][\"depSituacao\"][\"pt_ar_wsgode_objectos_DadosSituacaoDeputado\"]:\n",
    "    print(i)"
   ]
  },
  {
   "cell_type": "code",
   "execution_count": 53,
   "metadata": {},
   "outputs": [
    {
     "data": {
      "text/plain": [
       "{'sioDes': 'Efetivo', 'sioDtInicio': '2015-10-23'}"
      ]
     },
     "execution_count": 53,
     "metadata": {},
     "output_type": "execute_result"
    }
   ],
   "source": [
    "# Example:\n",
    "data_atividadesdeputados[\"ArrayOfAtividadeDeputado\"][\"AtividadeDeputado\"][1][\"deputado\"][\"depSituacao\"][\"pt_ar_wsgode_objectos_DadosSituacaoDeputado\"]"
   ]
  },
  {
   "cell_type": "markdown",
   "metadata": {},
   "source": [
    "<br>\n",
    "<br>\n",
    "\n",
    "> > ### 02.02.02 - Dados Situacao Grupo Parlamentar\n",
    "> > \n",
    "> > _02.02 // Deputados_  \n",
    "> > _02 // Atividades dos Deputados_"
   ]
  },
  {
   "cell_type": "code",
   "execution_count": 54,
   "metadata": {},
   "outputs": [
    {
     "name": "stdout",
     "output_type": "stream",
     "text": [
      "gpId\n",
      "gpSigla\n",
      "gpDtInicio\n"
     ]
    }
   ],
   "source": [
    "for i in data_atividadesdeputados[\"ArrayOfAtividadeDeputado\"][\"AtividadeDeputado\"][1][\"deputado\"][\"depGP\"][\"pt_ar_wsgode_objectos_DadosSituacaoGP\"]:\n",
    "    print(i)"
   ]
  },
  {
   "cell_type": "code",
   "execution_count": 55,
   "metadata": {},
   "outputs": [
    {
     "data": {
      "text/plain": [
       "{'gpId': '4464', 'gpSigla': 'PSD', 'gpDtInicio': '2015-10-23'}"
      ]
     },
     "execution_count": 55,
     "metadata": {},
     "output_type": "execute_result"
    }
   ],
   "source": [
    "# Example:\n",
    "data_atividadesdeputados[\"ArrayOfAtividadeDeputado\"][\"AtividadeDeputado\"][1][\"deputado\"][\"depGP\"][\"pt_ar_wsgode_objectos_DadosSituacaoGP\"]\n"
   ]
  },
  {
   "cell_type": "markdown",
   "metadata": {},
   "source": [
    "<br>"
   ]
  },
  {
   "cell_type": "markdown",
   "metadata": {},
   "source": [
    "---\n",
    "\n",
    "---"
   ]
  },
  {
   "cell_type": "markdown",
   "metadata": {},
   "source": [
    "<br>\n",
    "<br>\n",
    "\n",
    "# 03 - Boletim Informativo"
   ]
  },
  {
   "cell_type": "markdown",
   "metadata": {},
   "source": [
    "> **Available files:**\n",
    "> \n",
    "> - boletim-informativo-13"
   ]
  },
  {
   "cell_type": "code",
   "execution_count": 56,
   "metadata": {
    "collapsed": true
   },
   "outputs": [],
   "source": [
    "data_boletiminformativo = json.loads(open(data_source+\"boletim-informativo-13.json\").read())"
   ]
  },
  {
   "cell_type": "code",
   "execution_count": 57,
   "metadata": {},
   "outputs": [
    {
     "name": "stdout",
     "output_type": "stream",
     "text": [
      "ID\n",
      "Titulo\n",
      "nOrdem\n",
      "Conteudos\n"
     ]
    }
   ],
   "source": [
    "for i in data_boletiminformativo[\"ArrayOfGenBI2_Seccao\"][\"genBI2_Seccao\"][0]:\n",
    "    print(i)"
   ]
  },
  {
   "cell_type": "code",
   "execution_count": 58,
   "metadata": {},
   "outputs": [],
   "source": [
    "# Example:\n",
    "data_boletiminformativo[\"ArrayOfGenBI2_Seccao\"][\"genBI2_Seccao\"][0];\n"
   ]
  },
  {
   "cell_type": "markdown",
   "metadata": {},
   "source": [
    "<br>\n",
    "<br>\n",
    "\n",
    "> ## 03.01 - Conteudo\n",
    "> \n",
    "> _03 // Boletim Informativo_"
   ]
  },
  {
   "cell_type": "code",
   "execution_count": 59,
   "metadata": {
    "scrolled": false
   },
   "outputs": [
    {
     "name": "stdout",
     "output_type": "stream",
     "text": [
      "ID\n",
      "ID_Tema\n",
      "Data_Inicio_Publicacao\n",
      "Data_Fim_Publicacao\n",
      "nOrdem\n",
      "Data_Inicio\n",
      "Data_Fim\n",
      "Titulo\n",
      "Subtitulo\n",
      "Texto\n",
      "Seccao\n",
      "Tema\n",
      "Local\n"
     ]
    }
   ],
   "source": [
    "for i in data_boletiminformativo[\"ArrayOfGenBI2_Seccao\"][\"genBI2_Seccao\"][1][\"Conteudos\"][\"genBI2_Conteudo\"][0]:\n",
    "    print (i)\n",
    "    "
   ]
  },
  {
   "cell_type": "code",
   "execution_count": 60,
   "metadata": {},
   "outputs": [],
   "source": [
    "# Example:\n",
    "data_boletiminformativo[\"ArrayOfGenBI2_Seccao\"][\"genBI2_Seccao\"][1][\"Conteudos\"][\"genBI2_Conteudo\"][0];\n"
   ]
  },
  {
   "cell_type": "markdown",
   "metadata": {},
   "source": [
    "<br>"
   ]
  },
  {
   "cell_type": "markdown",
   "metadata": {},
   "source": [
    "---\n",
    "\n",
    "---"
   ]
  },
  {
   "cell_type": "markdown",
   "metadata": {},
   "source": [
    "<br>\n",
    "<br>\n",
    "\n",
    "# 04 - Cooperacao Parlamentar"
   ]
  },
  {
   "cell_type": "markdown",
   "metadata": {},
   "source": [
    "> **Available files:**\n",
    "> \n",
    "> - cooperacao-06.json\n",
    "> - cooperacao-07.json\n",
    "> - cooperacao-08.json\n",
    "> - cooperacao-09.json\n",
    "> - cooperacao-10.json\n",
    "> - cooperacao-11.json\n",
    "> - cooperacao-12.json\n",
    "> - cooperacao-13.json"
   ]
  },
  {
   "cell_type": "code",
   "execution_count": 61,
   "metadata": {
    "collapsed": true
   },
   "outputs": [],
   "source": [
    "data_cooperacao = json.loads(open(data_source+\"cooperacao-13.json\").read())"
   ]
  },
  {
   "cell_type": "code",
   "execution_count": 62,
   "metadata": {},
   "outputs": [
    {
     "name": "stdout",
     "output_type": "stream",
     "text": [
      "id\n",
      "tipo\n",
      "nome\n",
      "legislatura\n",
      "sessao\n",
      "data\n",
      "local\n",
      "programas\n",
      "atividades\n",
      "documentos\n"
     ]
    }
   ],
   "source": [
    "for i in data_cooperacao[\"ArrayOfCooperacao\"][\"Cooperacao\"][0]:\n",
    "    print(i)\n",
    "    "
   ]
  },
  {
   "cell_type": "code",
   "execution_count": 63,
   "metadata": {},
   "outputs": [],
   "source": [
    "# Example:\n",
    "data_cooperacao[\"ArrayOfCooperacao\"][\"Cooperacao\"][0];\n"
   ]
  },
  {
   "cell_type": "markdown",
   "metadata": {},
   "source": [
    "<br>\n",
    "<br>\n",
    "\n",
    "> ## 04.01 - Programas\n",
    "> \n",
    "> _04 // Cooperacao Parlamentar_"
   ]
  },
  {
   "cell_type": "code",
   "execution_count": 64,
   "metadata": {},
   "outputs": [
    {
     "name": "stdout",
     "output_type": "stream",
     "text": [
      "id\n",
      "tipo\n",
      "nome\n",
      "data\n",
      "programas\n",
      "atividades\n",
      "documentos\n"
     ]
    }
   ],
   "source": [
    "for i in data_cooperacao[\"ArrayOfCooperacao\"][\"Cooperacao\"][0][\"programas\"][\"Cooperacao\"][0]:\n",
    "    print(i)"
   ]
  },
  {
   "cell_type": "code",
   "execution_count": 65,
   "metadata": {},
   "outputs": [],
   "source": [
    "# Example:\n",
    "data_cooperacao[\"ArrayOfCooperacao\"][\"Cooperacao\"][0][\"programas\"][\"Cooperacao\"][0];"
   ]
  },
  {
   "cell_type": "markdown",
   "metadata": {},
   "source": [
    "<br>\n",
    "<br>\n",
    "\n",
    "> > ### 04.01.01 - Atividades\n",
    "> > \n",
    "> > _04.01 // Programas_  \n",
    "> > _04 // Cooperacao Parlamentar_"
   ]
  },
  {
   "cell_type": "code",
   "execution_count": 66,
   "metadata": {},
   "outputs": [
    {
     "name": "stdout",
     "output_type": "stream",
     "text": [
      "id\n",
      "tipoAtividade\n",
      "tipo\n",
      "nome\n",
      "dataInicio\n",
      "dataFim\n",
      "local\n",
      "participantes\n"
     ]
    }
   ],
   "source": [
    "for i in data_cooperacao[\"ArrayOfCooperacao\"][\"Cooperacao\"][0][\"programas\"][\"Cooperacao\"][0][\"atividades\"][\"Atividade\"][0]:\n",
    "    print(i)"
   ]
  },
  {
   "cell_type": "code",
   "execution_count": 67,
   "metadata": {},
   "outputs": [
    {
     "data": {
      "text/plain": [
       "{'id': '3900',\n",
       " 'tipoAtividade': 'DSL',\n",
       " 'tipo': None,\n",
       " 'nome': 'Twinning Project - apoio à Assembleia do kosovo - convite da Assembleia Nacional da Hungria - Atividade 2.1.3. a realizar de 22 a 26 de maio.',\n",
       " 'dataInicio': '2017-05-22',\n",
       " 'dataFim': '2017-05-26',\n",
       " 'local': 'Kosovo',\n",
       " 'participantes': None}"
      ]
     },
     "execution_count": 67,
     "metadata": {},
     "output_type": "execute_result"
    }
   ],
   "source": [
    "# Example:\n",
    "data_cooperacao[\"ArrayOfCooperacao\"][\"Cooperacao\"][0][\"programas\"][\"Cooperacao\"][0][\"atividades\"][\"Atividade\"][0]"
   ]
  },
  {
   "cell_type": "markdown",
   "metadata": {},
   "source": [
    "<br>"
   ]
  },
  {
   "cell_type": "markdown",
   "metadata": {},
   "source": [
    "---\n",
    "\n",
    "---"
   ]
  },
  {
   "cell_type": "markdown",
   "metadata": {},
   "source": [
    "<br>\n",
    "<br>\n",
    "\n",
    "# 05 - Delegacoes Eventuais"
   ]
  },
  {
   "cell_type": "markdown",
   "metadata": {},
   "source": [
    "> **Available files:**\n",
    "> \n",
    "> - delegacao-eventual-09.json\n",
    "> - delegacao-eventual-10.json\n",
    "> - delegacao-eventual-11.json\n",
    "> - delegacao-eventual-12.json\n",
    "> - delegacao-eventual-13.json"
   ]
  },
  {
   "cell_type": "code",
   "execution_count": 68,
   "metadata": {
    "collapsed": true
   },
   "outputs": [],
   "source": [
    "data_delegacoeseventuais = json.loads(open(data_source+\"delegacao-eventual-13.json\").read())"
   ]
  },
  {
   "cell_type": "code",
   "execution_count": 69,
   "metadata": {},
   "outputs": [
    {
     "name": "stdout",
     "output_type": "stream",
     "text": [
      "id\n",
      "nome\n",
      "local\n",
      "legislatura\n",
      "sessao\n",
      "dataInicio\n",
      "dataFim\n",
      "participantes\n"
     ]
    }
   ],
   "source": [
    "for i in data_delegacoeseventuais[\"ArrayOfReuniao\"][\"Reuniao\"][0]:\n",
    "    print(i)"
   ]
  },
  {
   "cell_type": "code",
   "execution_count": 70,
   "metadata": {},
   "outputs": [
    {
     "data": {
      "text/plain": [
       "{'id': '1450',\n",
       " 'nome': 'Grupo de trabalho de Alto Nível dos Parlamentos dos PALOP e de Timor-Leste para análise e discussão da Fiscalização Legislativa ao longo do Ciclo Orçamental com base nos diferentes documentos orçamentais',\n",
       " 'local': 'Maputo',\n",
       " 'legislatura': 'XIII',\n",
       " 'sessao': '1',\n",
       " 'dataInicio': '2015-10-28',\n",
       " 'dataFim': '2015-10-30',\n",
       " 'participantes': None}"
      ]
     },
     "execution_count": 70,
     "metadata": {},
     "output_type": "execute_result"
    }
   ],
   "source": [
    "# Example:\n",
    "data_delegacoeseventuais[\"ArrayOfReuniao\"][\"Reuniao\"][0]"
   ]
  },
  {
   "cell_type": "markdown",
   "metadata": {},
   "source": [
    "<br>"
   ]
  },
  {
   "cell_type": "markdown",
   "metadata": {},
   "source": [
    "---\n",
    "\n",
    "---"
   ]
  },
  {
   "cell_type": "markdown",
   "metadata": {},
   "source": [
    "<br>\n",
    "<br>\n",
    "\n",
    "# 06 - Delegacoes Permanenentes"
   ]
  },
  {
   "cell_type": "markdown",
   "metadata": {},
   "source": [
    "> **Available files:**\n",
    "> \n",
    "> - delegacao-permanente-09.json\n",
    "> - delegacao-permanente-10.json\n",
    "> - delegacao-permanente-11.json\n",
    "> - delegacao-permanente-12.json\n",
    "> - delegacao-permanente-13.json"
   ]
  },
  {
   "cell_type": "code",
   "execution_count": 71,
   "metadata": {
    "collapsed": true
   },
   "outputs": [],
   "source": [
    "data_delegacoespermanentes = json.loads(open(data_source+\"delegacao-permanente-13.json\").read())"
   ]
  },
  {
   "cell_type": "code",
   "execution_count": 72,
   "metadata": {},
   "outputs": [
    {
     "name": "stdout",
     "output_type": "stream",
     "text": [
      "id\n",
      "nome\n",
      "legislatura\n",
      "sessao\n",
      "dataEleicao\n",
      "composicao\n",
      "comissoes\n",
      "reunioes\n",
      "publicacoes\n",
      "textoAprovado\n"
     ]
    }
   ],
   "source": [
    "for i in data_delegacoespermanentes[\"ArrayOfDelegacaoPermanente\"][\"DelegacaoPermanente\"][0]:\n",
    "    print(i)"
   ]
  },
  {
   "cell_type": "code",
   "execution_count": 73,
   "metadata": {},
   "outputs": [],
   "source": [
    "# Example:\n",
    "data_delegacoespermanentes[\"ArrayOfDelegacaoPermanente\"][\"DelegacaoPermanente\"][0];"
   ]
  },
  {
   "cell_type": "markdown",
   "metadata": {},
   "source": [
    "<br>\n",
    "<br>\n",
    "\n",
    "> ## 06.01 - Reunioes\n",
    "> \n",
    "> _06 // Delegacoes Permamentes_"
   ]
  },
  {
   "cell_type": "code",
   "execution_count": 74,
   "metadata": {},
   "outputs": [
    {
     "name": "stdout",
     "output_type": "stream",
     "text": [
      "nome\n",
      "tipo\n",
      "local\n",
      "dataInicio\n",
      "dataFim\n",
      "participantes\n"
     ]
    }
   ],
   "source": [
    "for i in data_delegacoespermanentes[\"ArrayOfDelegacaoPermanente\"][\"DelegacaoPermanente\"][0][\"reunioes\"][\"Reuniao\"][0]:\n",
    "    print(i)"
   ]
  },
  {
   "cell_type": "code",
   "execution_count": 75,
   "metadata": {},
   "outputs": [
    {
     "data": {
      "text/plain": [
       "{'nome': 'Reunião da Rede de Mulheres AP-CPLP com a Escola Superior de Enfermagem de Coimbra',\n",
       " 'tipo': 'RNI',\n",
       " 'local': 'Sala 2',\n",
       " 'dataInicio': '27-06-2018',\n",
       " 'dataFim': '27-06-2018',\n",
       " 'participantes': {'Participante': [{'tipo': 'D',\n",
       "    'nome': 'ÂNGELA GUERRA',\n",
       "    'gp': 'PSD',\n",
       "    'leg': 'XIII',\n",
       "    'id': '4031'},\n",
       "   {'tipo': 'D',\n",
       "    'nome': 'ELZA PAIS',\n",
       "    'gp': 'PS',\n",
       "    'leg': 'XIII',\n",
       "    'id': '4209'}]}}"
      ]
     },
     "execution_count": 75,
     "metadata": {},
     "output_type": "execute_result"
    }
   ],
   "source": [
    "# Example:\n",
    "data_delegacoespermanentes[\"ArrayOfDelegacaoPermanente\"][\"DelegacaoPermanente\"][0][\"reunioes\"][\"Reuniao\"][0]\n"
   ]
  },
  {
   "cell_type": "markdown",
   "metadata": {},
   "source": [
    "<br>\n",
    "<br>\n",
    "\n",
    "> > ### 06.01.01 - Participantes\n",
    "> > \n",
    "> > _06.01 // Reunioes_  \n",
    "> > _06 // Delegacoes Permamentes_"
   ]
  },
  {
   "cell_type": "code",
   "execution_count": 76,
   "metadata": {},
   "outputs": [
    {
     "name": "stdout",
     "output_type": "stream",
     "text": [
      "tipo\n",
      "nome\n",
      "gp\n",
      "leg\n",
      "id\n"
     ]
    }
   ],
   "source": [
    "for i in data_delegacoespermanentes[\"ArrayOfDelegacaoPermanente\"][\"DelegacaoPermanente\"][0][\"reunioes\"][\"Reuniao\"][0][\"participantes\"][\"Participante\"][0]:\n",
    "    print(i)"
   ]
  },
  {
   "cell_type": "code",
   "execution_count": 77,
   "metadata": {},
   "outputs": [
    {
     "data": {
      "text/plain": [
       "{'tipo': 'D',\n",
       " 'nome': 'ÂNGELA GUERRA',\n",
       " 'gp': 'PSD',\n",
       " 'leg': 'XIII',\n",
       " 'id': '4031'}"
      ]
     },
     "execution_count": 77,
     "metadata": {},
     "output_type": "execute_result"
    }
   ],
   "source": [
    "# Example:\n",
    "data_delegacoespermanentes[\"ArrayOfDelegacaoPermanente\"][\"DelegacaoPermanente\"][0][\"reunioes\"][\"Reuniao\"][0][\"participantes\"][\"Participante\"][0]"
   ]
  },
  {
   "cell_type": "markdown",
   "metadata": {},
   "source": [
    "<br>\n",
    "<br>\n",
    "\n",
    "> ## 06.02 - Publicacoes\n",
    ">\n",
    "> _06 // Delegacoes Permamentes_"
   ]
  },
  {
   "cell_type": "code",
   "execution_count": 78,
   "metadata": {},
   "outputs": [
    {
     "name": "stdout",
     "output_type": "stream",
     "text": [
      "paginas\n"
     ]
    }
   ],
   "source": [
    "for i in data_delegacoespermanentes[\"ArrayOfDelegacaoPermanente\"][\"DelegacaoPermanente\"][0][\"publicacoes\"]:\n",
    "    print(i)"
   ]
  },
  {
   "cell_type": "code",
   "execution_count": 79,
   "metadata": {},
   "outputs": [
    {
     "data": {
      "text/plain": [
       "{'paginas': None}"
      ]
     },
     "execution_count": 79,
     "metadata": {},
     "output_type": "execute_result"
    }
   ],
   "source": [
    "# Example:\n",
    "data_delegacoespermanentes[\"ArrayOfDelegacaoPermanente\"][\"DelegacaoPermanente\"][0][\"publicacoes\"]"
   ]
  },
  {
   "cell_type": "markdown",
   "metadata": {},
   "source": [
    "<br>"
   ]
  },
  {
   "cell_type": "markdown",
   "metadata": {},
   "source": [
    "---\n",
    "\n",
    "---"
   ]
  },
  {
   "cell_type": "markdown",
   "metadata": {},
   "source": [
    "<br>\n",
    "<br>\n",
    "\n",
    "# 07 - Diplomas Aprovados"
   ]
  },
  {
   "cell_type": "markdown",
   "metadata": {},
   "source": [
    "> **Available files:**\n",
    "> \n",
    "> - diplomas-02.json\n",
    "> - diplomas-03.json\n",
    "> - diplomas-04.json\n",
    "> - diplomas-05.json\n",
    "> - diplomas-06.json\n",
    "> - diplomas-07.json\n",
    "> - diplomas-08.json\n",
    "> - diplomas-09.json\n",
    "> - diplomas-10.json\n",
    "> - diplomas-11.json\n",
    "> - diplomas-12.json\n",
    "> - diplomas-13.json"
   ]
  },
  {
   "cell_type": "code",
   "execution_count": 80,
   "metadata": {
    "collapsed": true
   },
   "outputs": [],
   "source": [
    "data_diplomasaprovados = json.loads(open(data_source+\"diplomas-13.json\").read())"
   ]
  },
  {
   "cell_type": "markdown",
   "metadata": {},
   "source": [
    "> **Shortcut:**\n",
    ">\n",
    "> data\\_diplomas\\_aprovados = data\\_diplomas[\"ArrayOfPt_gov_ar_objectos_diplomas_DetalhePesquisaDiplomasOut\"][\"pt_gov_ar_objectos_diplomas_DetalhePesquisaDiplomasOut\"]"
   ]
  },
  {
   "cell_type": "code",
   "execution_count": 81,
   "metadata": {
    "collapsed": true
   },
   "outputs": [],
   "source": [
    "data_diplomasaprovados = data_diplomasaprovados[\"ArrayOfPt_gov_ar_objectos_diplomas_DetalhePesquisaDiplomasOut\"][\"pt_gov_ar_objectos_diplomas_DetalhePesquisaDiplomasOut\"]"
   ]
  },
  {
   "cell_type": "code",
   "execution_count": 82,
   "metadata": {},
   "outputs": [
    {
     "name": "stdout",
     "output_type": "stream",
     "text": [
      "id\n",
      "numero\n",
      "titulo\n",
      "tipo\n",
      "legislatura\n",
      "sessao\n",
      "anoCivil\n",
      "linkTexto\n",
      "publicacao\n",
      "iniciativas\n",
      "tp\n",
      "versao\n",
      "orcamContasGerencia\n"
     ]
    }
   ],
   "source": [
    "for i in data_diplomasaprovados[0]:\n",
    "    print(i)"
   ]
  },
  {
   "cell_type": "code",
   "execution_count": 83,
   "metadata": {},
   "outputs": [],
   "source": [
    "# Example:\n",
    "data_diplomasaprovados[0];"
   ]
  },
  {
   "cell_type": "markdown",
   "metadata": {},
   "source": [
    "<br>\n",
    "<br>\n",
    "\n",
    "> ## 07.01 - Publicacao\n",
    "> \n",
    "> _07 // Diplomas Aprovados_"
   ]
  },
  {
   "cell_type": "code",
   "execution_count": 84,
   "metadata": {},
   "outputs": [
    {
     "name": "stdout",
     "output_type": "stream",
     "text": [
      "pubNr\n",
      "pubTipo\n",
      "pubTp\n",
      "pubLeg\n",
      "pubSL\n",
      "supl\n",
      "pubdt\n",
      "pag\n",
      "idPag\n",
      "idInt\n",
      "idAct\n",
      "URLDiario\n",
      "idDeb\n"
     ]
    }
   ],
   "source": [
    "for i in data_diplomasaprovados[0][\"publicacao\"][\"pt_gov_ar_objectos_PublicacoesOut\"]:\n",
    "    print(i)"
   ]
  },
  {
   "cell_type": "code",
   "execution_count": 85,
   "metadata": {},
   "outputs": [
    {
     "data": {
      "text/plain": [
       "{'pubNr': '123',\n",
       " 'pubTipo': 'DAR II série A',\n",
       " 'pubTp': 'A',\n",
       " 'pubLeg': 'XIII',\n",
       " 'pubSL': '1',\n",
       " 'supl': '.',\n",
       " 'pubdt': '2016-07-29',\n",
       " 'pag': {'string': '45-48'},\n",
       " 'idPag': '766138',\n",
       " 'idInt': None,\n",
       " 'idAct': None,\n",
       " 'URLDiario': 'http://debates.parlamento.pt/catalogo/r3/dar/s2a/13/01/123/2016-07-29/45?pgs=45-48&org=PLC',\n",
       " 'idDeb': None}"
      ]
     },
     "execution_count": 85,
     "metadata": {},
     "output_type": "execute_result"
    }
   ],
   "source": [
    "# Example:\n",
    "data_diplomasaprovados[0][\"publicacao\"][\"pt_gov_ar_objectos_PublicacoesOut\"]\n"
   ]
  },
  {
   "cell_type": "markdown",
   "metadata": {},
   "source": [
    "<br>\n",
    "<br>\n",
    "\n",
    "> ## 07.02 - Iniciativas\n",
    "> \n",
    "> _07 // Diplomas Aprovados_"
   ]
  },
  {
   "cell_type": "code",
   "execution_count": 86,
   "metadata": {},
   "outputs": [
    {
     "name": "stdout",
     "output_type": "stream",
     "text": [
      "iniNr\n",
      "iniTipo\n",
      "iniLinkTexto\n",
      "iniId\n"
     ]
    }
   ],
   "source": [
    "for i in data_diplomasaprovados[0][\"iniciativas\"][\"pt_gov_ar_objectos_iniciativas_DetalhePesquisaIniciativasOut\"]:\n",
    "    print(i)"
   ]
  },
  {
   "cell_type": "code",
   "execution_count": 87,
   "metadata": {},
   "outputs": [
    {
     "data": {
      "text/plain": [
       "{'iniNr': '94',\n",
       " 'iniTipo': 'J',\n",
       " 'iniLinkTexto': 'http://app.parlamento.pt/webutils/docs/doc.pdf?path=6148523063446f764c324679595842774f6a63334e7a637664326c756157357059326c6864476c3259584d7657456c4a535339305a58683062334d76634770734f54517457456c4a5353356b62324d3d&fich=pjl94-XIII.doc&Inline=true',\n",
       " 'iniId': '39945'}"
      ]
     },
     "execution_count": 87,
     "metadata": {},
     "output_type": "execute_result"
    }
   ],
   "source": [
    "# Example:\n",
    "data_diplomasaprovados[0][\"iniciativas\"][\"pt_gov_ar_objectos_iniciativas_DetalhePesquisaIniciativasOut\"]\n"
   ]
  },
  {
   "cell_type": "markdown",
   "metadata": {},
   "source": [
    "<br>"
   ]
  },
  {
   "cell_type": "markdown",
   "metadata": {},
   "source": [
    "---\n",
    "\n",
    "---"
   ]
  },
  {
   "cell_type": "markdown",
   "metadata": {},
   "source": [
    "<br>\n",
    "<br>\n",
    "\n",
    "# 08 - Grupos Parlamentares de Amizade"
   ]
  },
  {
   "cell_type": "markdown",
   "metadata": {},
   "source": [
    "> **Available files:**\n",
    "> \n",
    "> - grupo-amizade-05.json\n",
    "> - grupo-amizade-06.json\n",
    "> - grupo-amizade-07.json\n",
    "> - grupo-amizade-08.json\n",
    "> - grupo-amizade-09.json\n",
    "> - grupo-amizade-10.json\n",
    "> - grupo-amizade-11.json\n",
    "> - grupo-amizade-12.json\n",
    "> - grupo-amizade-13.json"
   ]
  },
  {
   "cell_type": "code",
   "execution_count": 88,
   "metadata": {
    "collapsed": true
   },
   "outputs": [],
   "source": [
    "data_grupoamizade = json.loads(open(data_source+\"grupo-amizade-13.json\").read())"
   ]
  },
  {
   "cell_type": "markdown",
   "metadata": {},
   "source": [
    "> **Shortcut:**\n",
    ">\n",
    "> data\\_grupoamizade = data\\_grupoamizade[\"ArrayOfGrupodeAmizade\"][\"GrupodeAmizade\"]"
   ]
  },
  {
   "cell_type": "code",
   "execution_count": 89,
   "metadata": {
    "collapsed": true
   },
   "outputs": [],
   "source": [
    "data_grupoamizade = data_grupoamizade[\"ArrayOfGrupodeAmizade\"][\"GrupodeAmizade\"]"
   ]
  },
  {
   "cell_type": "code",
   "execution_count": 90,
   "metadata": {},
   "outputs": [
    {
     "name": "stdout",
     "output_type": "stream",
     "text": [
      "id\n",
      "nome\n",
      "legislatura\n",
      "sessao\n",
      "dataCriacao\n",
      "composicao\n",
      "reunioes\n",
      "visitas\n",
      "publicacoes\n"
     ]
    }
   ],
   "source": [
    "for i in data_grupoamizade[0]:\n",
    "    print(i)"
   ]
  },
  {
   "cell_type": "code",
   "execution_count": 91,
   "metadata": {},
   "outputs": [
    {
     "data": {
      "text/plain": [
       "{'id': '323',\n",
       " 'nome': 'Grupo Parlamentar Português sobre População e Desenvolvimento',\n",
       " 'legislatura': 'XIII',\n",
       " 'sessao': '1',\n",
       " 'dataCriacao': '2016-01-29',\n",
       " 'composicao': {'Membro': [{'nome': 'Maria Antónia de Almeida Santos',\n",
       "    'gp': 'PS',\n",
       "    'cargo': 'Coordenador',\n",
       "    'dataInicio': '2016-05-04',\n",
       "    'dataFim': None},\n",
       "   {'nome': 'Margarida Balseiro Lopes',\n",
       "    'gp': 'PSD',\n",
       "    'cargo': 'Vice-Coordenador',\n",
       "    'dataInicio': '2016-05-04',\n",
       "    'dataFim': None}]},\n",
       " 'reunioes': {'Reuniao': [{'id': '2030',\n",
       "    'nome': 'Conferência internacional sobre \"Population Planning and Fundamental Rigths\" a convite da Sr.ª Donna Buby-Smith, Team Leader do projeto \"Improving Parliamentary performance in Pakistan\" (IP3)',\n",
       "    'tipo': 'Internacional',\n",
       "    'local': 'Islamabad',\n",
       "    'dataInicio': '2016-05-23',\n",
       "    'dataFim': '2016-05-24',\n",
       "    'participantes': {'Participante': {'tipo': 'D',\n",
       "      'nome': 'MARGARIDA BALSEIRO LOPES',\n",
       "      'gp': 'PSD',\n",
       "      'leg': 'XIII',\n",
       "      'id': '6207'}}},\n",
       "   {'id': '2030',\n",
       "    'nome': 'Conferência internacional sobre \"Population Planning and Fundamental Rigths\" a convite da Sr.ª Donna Buby-Smith, Team Leader do projeto \"Improving Parliamentary performance in Pakistan\" (IP3)',\n",
       "    'tipo': 'Internacional',\n",
       "    'local': 'Islamabad',\n",
       "    'dataInicio': '2016-05-23',\n",
       "    'dataFim': '2016-05-24',\n",
       "    'participantes': {'Participante': {'tipo': 'D',\n",
       "      'nome': 'MARGARIDA BALSEIRO LOPES',\n",
       "      'gp': 'PSD',\n",
       "      'leg': 'XIII',\n",
       "      'id': '6207'}}}]},\n",
       " 'visitas': None,\n",
       " 'publicacoes': {'paginas': None}}"
      ]
     },
     "execution_count": 91,
     "metadata": {},
     "output_type": "execute_result"
    }
   ],
   "source": [
    "# Example:\n",
    "data_grupoamizade[0]\n"
   ]
  },
  {
   "cell_type": "markdown",
   "metadata": {},
   "source": [
    "<br>\n",
    "<br>\n",
    "\n",
    "> ## 08.01 - Reunioes\n",
    "> \n",
    "> _08 // Grupos Parlamentares de Amizade_"
   ]
  },
  {
   "cell_type": "code",
   "execution_count": 92,
   "metadata": {},
   "outputs": [
    {
     "name": "stdout",
     "output_type": "stream",
     "text": [
      "id\n",
      "nome\n",
      "tipo\n",
      "local\n",
      "dataInicio\n",
      "dataFim\n",
      "participantes\n"
     ]
    }
   ],
   "source": [
    "for i in data_grupoamizade[0][\"reunioes\"][\"Reuniao\"][0]:\n",
    "    print(i)"
   ]
  },
  {
   "cell_type": "code",
   "execution_count": 93,
   "metadata": {},
   "outputs": [
    {
     "data": {
      "text/plain": [
       "{'id': '2030',\n",
       " 'nome': 'Conferência internacional sobre \"Population Planning and Fundamental Rigths\" a convite da Sr.ª Donna Buby-Smith, Team Leader do projeto \"Improving Parliamentary performance in Pakistan\" (IP3)',\n",
       " 'tipo': 'Internacional',\n",
       " 'local': 'Islamabad',\n",
       " 'dataInicio': '2016-05-23',\n",
       " 'dataFim': '2016-05-24',\n",
       " 'participantes': {'Participante': {'tipo': 'D',\n",
       "   'nome': 'MARGARIDA BALSEIRO LOPES',\n",
       "   'gp': 'PSD',\n",
       "   'leg': 'XIII',\n",
       "   'id': '6207'}}}"
      ]
     },
     "execution_count": 93,
     "metadata": {},
     "output_type": "execute_result"
    }
   ],
   "source": [
    "# Example:\n",
    "data_grupoamizade[0][\"reunioes\"][\"Reuniao\"][0]\n"
   ]
  },
  {
   "cell_type": "markdown",
   "metadata": {},
   "source": [
    "<br>\n",
    "<br>\n",
    "\n",
    "> > ### 08.01.01 - Participantes\n",
    "> > \n",
    "> > _08.01 // Reunioes_  \n",
    "> > _08 // Grupos Parlamentares de Amizade_"
   ]
  },
  {
   "cell_type": "code",
   "execution_count": 94,
   "metadata": {},
   "outputs": [
    {
     "name": "stdout",
     "output_type": "stream",
     "text": [
      "tipo\n",
      "nome\n",
      "gp\n",
      "leg\n",
      "id\n"
     ]
    }
   ],
   "source": [
    "for i in data_grupoamizade[0][\"reunioes\"][\"Reuniao\"][0][\"participantes\"][\"Participante\"]:\n",
    "    print(i)"
   ]
  },
  {
   "cell_type": "code",
   "execution_count": 95,
   "metadata": {},
   "outputs": [
    {
     "data": {
      "text/plain": [
       "{'tipo': 'D',\n",
       " 'nome': 'MARGARIDA BALSEIRO LOPES',\n",
       " 'gp': 'PSD',\n",
       " 'leg': 'XIII',\n",
       " 'id': '6207'}"
      ]
     },
     "execution_count": 95,
     "metadata": {},
     "output_type": "execute_result"
    }
   ],
   "source": [
    "# Example:\n",
    "data_grupoamizade[0][\"reunioes\"][\"Reuniao\"][0][\"participantes\"][\"Participante\"]\n"
   ]
  },
  {
   "cell_type": "markdown",
   "metadata": {},
   "source": [
    "<br>\n",
    "<br>\n",
    "\n",
    "> ## 08.02 - Composicao\n",
    ">\n",
    "> _08 // Grupos Parlamentares de Amizade_"
   ]
  },
  {
   "cell_type": "code",
   "execution_count": 96,
   "metadata": {},
   "outputs": [
    {
     "name": "stdout",
     "output_type": "stream",
     "text": [
      "nome\n",
      "gp\n",
      "cargo\n",
      "dataInicio\n",
      "dataFim\n"
     ]
    }
   ],
   "source": [
    "for i in data_grupoamizade[0][\"composicao\"][\"Membro\"][0]:\n",
    "    print(i)"
   ]
  },
  {
   "cell_type": "code",
   "execution_count": 97,
   "metadata": {},
   "outputs": [
    {
     "data": {
      "text/plain": [
       "{'nome': 'Maria Antónia de Almeida Santos',\n",
       " 'gp': 'PS',\n",
       " 'cargo': 'Coordenador',\n",
       " 'dataInicio': '2016-05-04',\n",
       " 'dataFim': None}"
      ]
     },
     "execution_count": 97,
     "metadata": {},
     "output_type": "execute_result"
    }
   ],
   "source": [
    "# Example:\n",
    "data_grupoamizade[0][\"composicao\"][\"Membro\"][0]\n"
   ]
  },
  {
   "cell_type": "markdown",
   "metadata": {},
   "source": [
    "<br>"
   ]
  },
  {
   "cell_type": "markdown",
   "metadata": {},
   "source": [
    "---\n",
    "\n",
    "---"
   ]
  },
  {
   "cell_type": "markdown",
   "metadata": {},
   "source": [
    "<br>\n",
    "<br>\n",
    "\n",
    "# 09 - Informacao Base"
   ]
  },
  {
   "cell_type": "markdown",
   "metadata": {},
   "source": [
    "> **Available files:**\n",
    "> \n",
    "> - info-base-02.json\n",
    "> - info-base-03.json\n",
    "> - info-base-04.json\n",
    "> - info-base-05.json\n",
    "> - info-base-06.json\n",
    "> - info-base-07.json\n",
    "> - info-base-08.json\n",
    "> - info-base-09.json\n",
    "> - info-base-10.json\n",
    "> - info-base-11.json\n",
    "> - info-base-12.json\n",
    "> - info-base-13.json\n",
    "> - info-base-cons.json"
   ]
  },
  {
   "cell_type": "code",
   "execution_count": 98,
   "metadata": {
    "collapsed": true
   },
   "outputs": [],
   "source": [
    "data_infobase = json.loads(open(data_source+\"info-base-13.json\").read())"
   ]
  },
  {
   "cell_type": "code",
   "execution_count": 99,
   "metadata": {},
   "outputs": [
    {
     "name": "stdout",
     "output_type": "stream",
     "text": [
      "@xmlns:xsi\n",
      "@xmlns:xsd\n",
      "SessoesLegislativas\n",
      "GruposParlamentares\n",
      "CirculosEleitorais\n",
      "Deputados\n",
      "DetalheLegislatura\n"
     ]
    }
   ],
   "source": [
    "for i in data_infobase[\"Legislatura\"]:\n",
    "    print(i)"
   ]
  },
  {
   "cell_type": "code",
   "execution_count": 100,
   "metadata": {},
   "outputs": [],
   "source": [
    "# Example:\n",
    "data_infobase[\"Legislatura\"];"
   ]
  },
  {
   "cell_type": "markdown",
   "metadata": {},
   "source": [
    "<br>\n",
    "<br>\n",
    "\n",
    "> ## 09.01 - Sessoes Legislativas\n",
    "> \n",
    "> _09 // Informacao Base_"
   ]
  },
  {
   "cell_type": "code",
   "execution_count": 101,
   "metadata": {},
   "outputs": [
    {
     "name": "stdout",
     "output_type": "stream",
     "text": [
      "numSessao\n",
      "dataInicio\n",
      "dataFim\n"
     ]
    }
   ],
   "source": [
    "for i in data_infobase[\"Legislatura\"][\"SessoesLegislativas\"][\"pt_gov_ar_objectos_SessaoLegislativaOut\"][0]:\n",
    "    print(i)"
   ]
  },
  {
   "cell_type": "code",
   "execution_count": 102,
   "metadata": {},
   "outputs": [
    {
     "data": {
      "text/plain": [
       "{'numSessao': '1', 'dataInicio': '2015-10-23', 'dataFim': '2016-09-14'}"
      ]
     },
     "execution_count": 102,
     "metadata": {},
     "output_type": "execute_result"
    }
   ],
   "source": [
    "# Example:\n",
    "data_infobase[\"Legislatura\"][\"SessoesLegislativas\"][\"pt_gov_ar_objectos_SessaoLegislativaOut\"][0]\n"
   ]
  },
  {
   "cell_type": "markdown",
   "metadata": {},
   "source": [
    "<br>\n",
    "<br>\n",
    "\n",
    "> ## 09.02 - Grupos Parlamentares\n",
    "> \n",
    "> _09 // Informacao Base_"
   ]
  },
  {
   "cell_type": "code",
   "execution_count": 103,
   "metadata": {},
   "outputs": [
    {
     "name": "stdout",
     "output_type": "stream",
     "text": [
      "sigla\n",
      "nome\n"
     ]
    }
   ],
   "source": [
    "for i in data_infobase[\"Legislatura\"][\"GruposParlamentares\"][\"pt_gov_ar_objectos_GPOut\"][0]:\n",
    "    print(i)"
   ]
  },
  {
   "cell_type": "code",
   "execution_count": 104,
   "metadata": {},
   "outputs": [
    {
     "data": {
      "text/plain": [
       "{'sigla': 'BE', 'nome': 'Bloco de Esquerda'}"
      ]
     },
     "execution_count": 104,
     "metadata": {},
     "output_type": "execute_result"
    }
   ],
   "source": [
    "# Example:\n",
    "data_infobase[\"Legislatura\"][\"GruposParlamentares\"][\"pt_gov_ar_objectos_GPOut\"][0]\n"
   ]
  },
  {
   "cell_type": "markdown",
   "metadata": {},
   "source": [
    "<br>\n",
    "<br>\n",
    "\n",
    "> ## 09.03 - Circulos Eleitorais\n",
    "> \n",
    "> _09 // Informacao Base_"
   ]
  },
  {
   "cell_type": "code",
   "execution_count": 105,
   "metadata": {},
   "outputs": [
    {
     "name": "stdout",
     "output_type": "stream",
     "text": [
      "cpId\n",
      "cpDes\n",
      "legDes\n"
     ]
    }
   ],
   "source": [
    "for i in data_infobase[\"Legislatura\"][\"CirculosEleitorais\"][\"pt_ar_wsgode_objectos_DadosCirculoEleitoralList\"][0]:\n",
    "    print(i)"
   ]
  },
  {
   "cell_type": "code",
   "execution_count": 106,
   "metadata": {},
   "outputs": [
    {
     "data": {
      "text/plain": [
       "{'cpId': '19', 'cpDes': 'AÇORES', 'legDes': 'XIII'}"
      ]
     },
     "execution_count": 106,
     "metadata": {},
     "output_type": "execute_result"
    }
   ],
   "source": [
    "# Example:\n",
    "data_infobase[\"Legislatura\"][\"CirculosEleitorais\"][\"pt_ar_wsgode_objectos_DadosCirculoEleitoralList\"][0]\n"
   ]
  },
  {
   "cell_type": "markdown",
   "metadata": {},
   "source": [
    "<br>\n",
    "<br>\n",
    "\n",
    "> ## 09.04 - Dados Deputado\n",
    "> \n",
    "> _09 // Informacao Base_"
   ]
  },
  {
   "cell_type": "code",
   "execution_count": 107,
   "metadata": {},
   "outputs": [
    {
     "name": "stdout",
     "output_type": "stream",
     "text": [
      "depId\n",
      "depCadId\n",
      "depNomeParlamentar\n",
      "depGP\n",
      "depCPId\n",
      "depCPDes\n",
      "legDes\n",
      "depCargo\n",
      "depSituacao\n",
      "depNomeCompleto\n",
      "videos\n"
     ]
    }
   ],
   "source": [
    "for i in data_infobase[\"Legislatura\"][\"Deputados\"][\"pt_ar_wsgode_objectos_DadosDeputadoSearch\"][0]:\n",
    "    print(i)"
   ]
  },
  {
   "cell_type": "code",
   "execution_count": 108,
   "metadata": {},
   "outputs": [
    {
     "data": {
      "text/plain": [
       "{'depId': '8550',\n",
       " 'depCadId': '2167',\n",
       " 'depNomeParlamentar': 'ABEL BAPTISTA',\n",
       " 'depGP': {'pt_ar_wsgode_objectos_DadosSituacaoGP': {'gpId': '4467',\n",
       "   'gpSigla': 'CDS-PP',\n",
       "   'gpDtInicio': '2015-10-23'}},\n",
       " 'depCPId': '16',\n",
       " 'depCPDes': 'VIANA DO CASTELO',\n",
       " 'legDes': 'XIII',\n",
       " 'depCargo': {'pt_ar_wsgode_objectos_DadosCargoDeputado': {'carId': '5',\n",
       "   'carDes': 'Secretário',\n",
       "   'carDtInicio': '2015-10-28',\n",
       "   'carDtFim': '2016-09-16'}},\n",
       " 'depSituacao': {'pt_ar_wsgode_objectos_DadosSituacaoDeputado': [{'sioDes': 'Renunciou',\n",
       "    'sioDtInicio': '2016-09-16'},\n",
       "   {'sioDes': 'Efetivo',\n",
       "    'sioDtInicio': '2015-10-23',\n",
       "    'sioDtFim': '2016-09-16'}]},\n",
       " 'depNomeCompleto': 'ABEL LIMA BAPTISTA',\n",
       " 'videos': {'pt_ar_wsgode_objectos_DadosVideo': {'tipo': 'Video Biografia',\n",
       "   'url': 'http://media.parlamento.pt/site/XIIILEG/videobiografias/CDS-PP_ABEL_BAPTISTA.mp4'}}}"
      ]
     },
     "execution_count": 108,
     "metadata": {},
     "output_type": "execute_result"
    }
   ],
   "source": [
    "# Example:\n",
    "data_infobase[\"Legislatura\"][\"Deputados\"][\"pt_ar_wsgode_objectos_DadosDeputadoSearch\"][0]\n"
   ]
  },
  {
   "cell_type": "markdown",
   "metadata": {},
   "source": [
    "<br>\n",
    "<br>\n",
    "\n",
    "> > ### 09.04.01 - Dados Cargo Deputado\n",
    "> > \n",
    "> > _09.04 // Deputados_  \n",
    "> > _09 // Informacao Base_"
   ]
  },
  {
   "cell_type": "code",
   "execution_count": 109,
   "metadata": {},
   "outputs": [
    {
     "name": "stdout",
     "output_type": "stream",
     "text": [
      "carId\n",
      "carDes\n",
      "carDtInicio\n",
      "carDtFim\n"
     ]
    }
   ],
   "source": [
    "for i in data_infobase[\"Legislatura\"][\"Deputados\"][\"pt_ar_wsgode_objectos_DadosDeputadoSearch\"][0][\"depCargo\"][\"pt_ar_wsgode_objectos_DadosCargoDeputado\"]:\n",
    "    print(i)"
   ]
  },
  {
   "cell_type": "code",
   "execution_count": 110,
   "metadata": {},
   "outputs": [
    {
     "data": {
      "text/plain": [
       "{'carId': '5',\n",
       " 'carDes': 'Secretário',\n",
       " 'carDtInicio': '2015-10-28',\n",
       " 'carDtFim': '2016-09-16'}"
      ]
     },
     "execution_count": 110,
     "metadata": {},
     "output_type": "execute_result"
    }
   ],
   "source": [
    "# Example:\n",
    "data_infobase[\"Legislatura\"][\"Deputados\"][\"pt_ar_wsgode_objectos_DadosDeputadoSearch\"][0][\"depCargo\"][\"pt_ar_wsgode_objectos_DadosCargoDeputado\"]\n"
   ]
  },
  {
   "cell_type": "markdown",
   "metadata": {},
   "source": [
    "<br>\n",
    "<br>\n",
    "\n",
    "> > ### 09.04.02 - Dados Situacao Grupo Parlamentar\n",
    "> > \n",
    "> > _09.04 // Deputados_  \n",
    "> > _09 // Informacao Base_"
   ]
  },
  {
   "cell_type": "code",
   "execution_count": 111,
   "metadata": {},
   "outputs": [
    {
     "name": "stdout",
     "output_type": "stream",
     "text": [
      "gpId\n",
      "gpSigla\n",
      "gpDtInicio\n"
     ]
    }
   ],
   "source": [
    "for i in data_infobase[\"Legislatura\"][\"Deputados\"][\"pt_ar_wsgode_objectos_DadosDeputadoSearch\"][0][\"depGP\"][\"pt_ar_wsgode_objectos_DadosSituacaoGP\"]:\n",
    "    print(i)"
   ]
  },
  {
   "cell_type": "code",
   "execution_count": 112,
   "metadata": {},
   "outputs": [
    {
     "data": {
      "text/plain": [
       "{'gpId': '4467', 'gpSigla': 'CDS-PP', 'gpDtInicio': '2015-10-23'}"
      ]
     },
     "execution_count": 112,
     "metadata": {},
     "output_type": "execute_result"
    }
   ],
   "source": [
    "# Example:\n",
    "data_infobase[\"Legislatura\"][\"Deputados\"][\"pt_ar_wsgode_objectos_DadosDeputadoSearch\"][0][\"depGP\"][\"pt_ar_wsgode_objectos_DadosSituacaoGP\"]\n"
   ]
  },
  {
   "cell_type": "markdown",
   "metadata": {},
   "source": [
    "<br>\n",
    "<br>\n",
    "\n",
    "> > ### 09.04.03 - Dados Situacao Deputado\n",
    "> > \n",
    "> > _09.04 // Deputados_  \n",
    "> > _09 // Informacao Base_"
   ]
  },
  {
   "cell_type": "code",
   "execution_count": 113,
   "metadata": {},
   "outputs": [
    {
     "name": "stdout",
     "output_type": "stream",
     "text": [
      "sioDes\n",
      "sioDtInicio\n"
     ]
    }
   ],
   "source": [
    "for i in data_infobase[\"Legislatura\"][\"Deputados\"][\"pt_ar_wsgode_objectos_DadosDeputadoSearch\"][0][\"depSituacao\"][\"pt_ar_wsgode_objectos_DadosSituacaoDeputado\"][0]:\n",
    "    print(i)"
   ]
  },
  {
   "cell_type": "code",
   "execution_count": 114,
   "metadata": {},
   "outputs": [
    {
     "data": {
      "text/plain": [
       "{'sioDes': 'Renunciou', 'sioDtInicio': '2016-09-16'}"
      ]
     },
     "execution_count": 114,
     "metadata": {},
     "output_type": "execute_result"
    }
   ],
   "source": [
    "# Example:\n",
    "data_infobase[\"Legislatura\"][\"Deputados\"][\"pt_ar_wsgode_objectos_DadosDeputadoSearch\"][0][\"depSituacao\"][\"pt_ar_wsgode_objectos_DadosSituacaoDeputado\"][0]\n"
   ]
  },
  {
   "cell_type": "markdown",
   "metadata": {},
   "source": [
    "<br>\n",
    "<br>\n",
    "\n",
    "> > ### 09.04.04 - Videos\n",
    "> > \n",
    "> > _09.04 // Deputados_  \n",
    "> > _09 // Informacao Base_  "
   ]
  },
  {
   "cell_type": "code",
   "execution_count": 115,
   "metadata": {},
   "outputs": [
    {
     "name": "stdout",
     "output_type": "stream",
     "text": [
      "tipo\n",
      "url\n"
     ]
    }
   ],
   "source": [
    "for i in data_infobase[\"Legislatura\"][\"Deputados\"][\"pt_ar_wsgode_objectos_DadosDeputadoSearch\"][0][\"videos\"][\"pt_ar_wsgode_objectos_DadosVideo\"]:\n",
    "    print(i)"
   ]
  },
  {
   "cell_type": "code",
   "execution_count": 116,
   "metadata": {},
   "outputs": [
    {
     "data": {
      "text/plain": [
       "{'tipo': 'Video Biografia',\n",
       " 'url': 'http://media.parlamento.pt/site/XIIILEG/videobiografias/CDS-PP_ABEL_BAPTISTA.mp4'}"
      ]
     },
     "execution_count": 116,
     "metadata": {},
     "output_type": "execute_result"
    }
   ],
   "source": [
    "# Example:\n",
    "data_infobase[\"Legislatura\"][\"Deputados\"][\"pt_ar_wsgode_objectos_DadosDeputadoSearch\"][0][\"videos\"][\"pt_ar_wsgode_objectos_DadosVideo\"]\n"
   ]
  },
  {
   "cell_type": "markdown",
   "metadata": {},
   "source": [
    "<br>"
   ]
  },
  {
   "cell_type": "markdown",
   "metadata": {},
   "source": [
    "---\n",
    "\n",
    "---"
   ]
  },
  {
   "cell_type": "markdown",
   "metadata": {},
   "source": [
    "<br>\n",
    "<br>\n",
    "\n",
    "# 10 - Iniciativas"
   ]
  },
  {
   "cell_type": "markdown",
   "metadata": {},
   "source": [
    "> **Available files:**\n",
    "> \n",
    "> - iniciativas-02.json\n",
    "> - iniciativas-03.json\n",
    "> - iniciativas-04.json\n",
    "> - iniciativas-05.json\n",
    "> - iniciativas-06.json\n",
    "> - iniciativas-07.json\n",
    "> - iniciativas-08.json\n",
    "> - iniciativas-09.json\n",
    "> - iniciativas-10.json\n",
    "> - iniciativas-11.json\n",
    "> - iniciativas-12.json\n",
    "> - iniciativas-13.json"
   ]
  },
  {
   "cell_type": "code",
   "execution_count": 117,
   "metadata": {
    "collapsed": true
   },
   "outputs": [],
   "source": [
    "data_iniciativas = json.loads(open(data_source+\"iniciativas-13.json\").read())"
   ]
  },
  {
   "cell_type": "markdown",
   "metadata": {},
   "source": [
    "> **Shortcut:**\n",
    ">\n",
    "> data\\_iniciativas = data\\_iniciativas[\"ArrayOfPt_gov_ar_objectos_iniciativas_DetalhePesquisaIniciativasOut\"][\"pt_gov_ar_objectos_iniciativas_DetalhePesquisaIniciativasOut\"]"
   ]
  },
  {
   "cell_type": "code",
   "execution_count": 118,
   "metadata": {
    "collapsed": true
   },
   "outputs": [],
   "source": [
    "data_iniciativas = data_iniciativas[\"ArrayOfPt_gov_ar_objectos_iniciativas_DetalhePesquisaIniciativasOut\"][\"pt_gov_ar_objectos_iniciativas_DetalhePesquisaIniciativasOut\"]"
   ]
  },
  {
   "cell_type": "code",
   "execution_count": 119,
   "metadata": {},
   "outputs": [
    {
     "name": "stdout",
     "output_type": "stream",
     "text": [
      "iniNr\n",
      "iniTipo\n",
      "iniDescTipo\n",
      "iniLeg\n",
      "iniSel\n",
      "dataInicioleg\n",
      "dataFimleg\n",
      "iniTitulo\n",
      "iniTextoSubst\n",
      "iniLinkTexto\n",
      "iniEventos\n",
      "iniAutorDeputados\n",
      "iniAutorOutros\n",
      "iniId\n",
      "iniAutorGruposParlamentares\n",
      "iniTextoSubstCampo\n"
     ]
    }
   ],
   "source": [
    "for i in data_iniciativas[0]:\n",
    "    print(i)"
   ]
  },
  {
   "cell_type": "markdown",
   "metadata": {},
   "source": [
    "<br>\n",
    "<br>\n",
    "\n",
    "> ## 10.01 - Iniciativas Eventos\n",
    "> \n",
    "> _10 // Iniciativas_"
   ]
  },
  {
   "cell_type": "code",
   "execution_count": 120,
   "metadata": {},
   "outputs": [
    {
     "name": "stdout",
     "output_type": "stream",
     "text": [
      "oevId\n",
      "dataFase\n",
      "fase\n",
      "evtId\n",
      "codigoFase\n",
      "anexosFase\n"
     ]
    }
   ],
   "source": [
    "for i in data_iniciativas[0][\"iniEventos\"][\"pt_gov_ar_objectos_iniciativas_EventosOut\"][0]:\n",
    "    print(i)\n"
   ]
  },
  {
   "cell_type": "code",
   "execution_count": 121,
   "metadata": {},
   "outputs": [
    {
     "data": {
      "text/plain": [
       "{'oevId': '318953',\n",
       " 'dataFase': '2016-08-10',\n",
       " 'fase': 'Entrada',\n",
       " 'evtId': '1',\n",
       " 'codigoFase': '10',\n",
       " 'anexosFase': {'pt_gov_ar_objectos_iniciativas_AnexosOut': {'anexoNome': 'Nota de admissibilidade',\n",
       "   'anexoFich': 'http://app.parlamento.pt/webutils/docs/doc.pdf?path=6148523063446f764c324679595842774f6a63334e7a637664326c756157357059326c6864476c3259584d7657456c4a535339305a58683062334d76546b4574515641794d43315953556c4a4c5445756347526d&fich=NA-AP20-XIII-1.pdf&Inline=true'}}}"
      ]
     },
     "execution_count": 121,
     "metadata": {},
     "output_type": "execute_result"
    }
   ],
   "source": [
    "# Example:\n",
    "data_iniciativas[0][\"iniEventos\"][\"pt_gov_ar_objectos_iniciativas_EventosOut\"][0]\n"
   ]
  },
  {
   "cell_type": "markdown",
   "metadata": {},
   "source": [
    "<br>\n",
    "<br>\n",
    "\n",
    "> > ### 10.01.01 - anexosFase\n",
    "> > \n",
    "> > _10.01 // Iniciativas Eventos_  \n",
    "> > _10 // Iniciativas_"
   ]
  },
  {
   "cell_type": "code",
   "execution_count": 122,
   "metadata": {},
   "outputs": [
    {
     "name": "stdout",
     "output_type": "stream",
     "text": [
      "anexoNome\n",
      "anexoFich\n"
     ]
    }
   ],
   "source": [
    "for i in data_iniciativas[0][\"iniEventos\"][\"pt_gov_ar_objectos_iniciativas_EventosOut\"][0][\"anexosFase\"][\"pt_gov_ar_objectos_iniciativas_AnexosOut\"]:\n",
    "    print(i)\n"
   ]
  },
  {
   "cell_type": "code",
   "execution_count": 123,
   "metadata": {},
   "outputs": [
    {
     "data": {
      "text/plain": [
       "{'anexoNome': 'Nota de admissibilidade',\n",
       " 'anexoFich': 'http://app.parlamento.pt/webutils/docs/doc.pdf?path=6148523063446f764c324679595842774f6a63334e7a637664326c756157357059326c6864476c3259584d7657456c4a535339305a58683062334d76546b4574515641794d43315953556c4a4c5445756347526d&fich=NA-AP20-XIII-1.pdf&Inline=true'}"
      ]
     },
     "execution_count": 123,
     "metadata": {},
     "output_type": "execute_result"
    }
   ],
   "source": [
    "# Example:\n",
    "data_iniciativas[0][\"iniEventos\"][\"pt_gov_ar_objectos_iniciativas_EventosOut\"][0][\"anexosFase\"][\"pt_gov_ar_objectos_iniciativas_AnexosOut\"]\n"
   ]
  },
  {
   "cell_type": "markdown",
   "metadata": {},
   "source": [
    "<br>\n",
    "<br>\n",
    "\n",
    "> ## 10.02 - Iniciativas, Autores Deputados\n",
    "> \n",
    "> _10 // Iniciativas_  "
   ]
  },
  {
   "cell_type": "code",
   "execution_count": 124,
   "metadata": {},
   "outputs": [
    {
     "name": "stdout",
     "output_type": "stream",
     "text": [
      "idCadastro\n",
      "nome\n",
      "GP\n"
     ]
    }
   ],
   "source": [
    "for i in data_iniciativas[0][\"iniAutorDeputados\"][\"pt_gov_ar_objectos_iniciativas_AutoresDeputadosOut\"][0]:\n",
    "    print(i)\n"
   ]
  },
  {
   "cell_type": "code",
   "execution_count": 125,
   "metadata": {},
   "outputs": [
    {
     "data": {
      "text/plain": [
       "{'idCadastro': '2084', 'nome': 'NUNO MAGALHÃES', 'GP': 'CDS-PP'}"
      ]
     },
     "execution_count": 125,
     "metadata": {},
     "output_type": "execute_result"
    }
   ],
   "source": [
    "# Example:\n",
    "data_iniciativas[0][\"iniAutorDeputados\"][\"pt_gov_ar_objectos_iniciativas_AutoresDeputadosOut\"][0]\n"
   ]
  },
  {
   "cell_type": "markdown",
   "metadata": {},
   "source": [
    "<br>\n",
    "<br>\n",
    "\n",
    "> ## 10.03 - Iniciativas, Outros Autores\n",
    "> \n",
    "> _10 // Iniciativas_  "
   ]
  },
  {
   "cell_type": "code",
   "execution_count": 126,
   "metadata": {},
   "outputs": [
    {
     "name": "stdout",
     "output_type": "stream",
     "text": [
      "sigla\n",
      "nome\n",
      "iniAutorComissao\n"
     ]
    }
   ],
   "source": [
    "for i in data_iniciativas[0][\"iniAutorOutros\"]:\n",
    "    print(i)\n"
   ]
  },
  {
   "cell_type": "code",
   "execution_count": 127,
   "metadata": {},
   "outputs": [
    {
     "data": {
      "text/plain": [
       "{'sigla': 'G', 'nome': 'Grupos Parlamentares', 'iniAutorComissao': None}"
      ]
     },
     "execution_count": 127,
     "metadata": {},
     "output_type": "execute_result"
    }
   ],
   "source": [
    "# Example:\n",
    "data_iniciativas[0][\"iniAutorOutros\"]\n"
   ]
  },
  {
   "cell_type": "markdown",
   "metadata": {},
   "source": [
    "<br>\n",
    "<br>\n",
    "\n",
    "> ## 10.04 - Iniciativas, Autores Grupos Parlamentares\n",
    "> \n",
    "> _10 // Iniciativas_  "
   ]
  },
  {
   "cell_type": "code",
   "execution_count": 128,
   "metadata": {},
   "outputs": [
    {
     "name": "stdout",
     "output_type": "stream",
     "text": [
      "GP\n"
     ]
    }
   ],
   "source": [
    "for i in data_iniciativas[0][\"iniAutorGruposParlamentares\"][\"pt_gov_ar_objectos_AutoresGruposParlamentaresOut\"]:\n",
    "    print(i)\n"
   ]
  },
  {
   "cell_type": "code",
   "execution_count": 129,
   "metadata": {
    "scrolled": true
   },
   "outputs": [
    {
     "data": {
      "text/plain": [
       "{'GP': 'CDS-PP'}"
      ]
     },
     "execution_count": 129,
     "metadata": {},
     "output_type": "execute_result"
    }
   ],
   "source": [
    "# Example:\n",
    "data_iniciativas[0][\"iniAutorGruposParlamentares\"][\"pt_gov_ar_objectos_AutoresGruposParlamentaresOut\"]\n"
   ]
  },
  {
   "cell_type": "markdown",
   "metadata": {},
   "source": [
    "<br>"
   ]
  },
  {
   "cell_type": "markdown",
   "metadata": {},
   "source": [
    "---\n",
    "\n",
    "---"
   ]
  },
  {
   "cell_type": "markdown",
   "metadata": {},
   "source": [
    "<br>\n",
    "<br>\n",
    "\n",
    "# 11 - Intervencoes"
   ]
  },
  {
   "cell_type": "markdown",
   "metadata": {},
   "source": [
    "> **Available files:**\n",
    "> \n",
    "> - intervencoes-02.json\n",
    "> - intervencoes-04.json\n",
    "> - intervencoes-05.json\n",
    "> - intervencoes-06.json\n",
    "> - intervencoes-07.json\n",
    "> - intervencoes-08.json\n",
    "> - intervencoes-09.json\n",
    "> - intervencoes-10.json\n",
    "> - intervencoes-11.json\n",
    "> - intervencoes-12.json\n",
    "> - intervencoes-13.json"
   ]
  },
  {
   "cell_type": "code",
   "execution_count": 130,
   "metadata": {
    "collapsed": true
   },
   "outputs": [],
   "source": [
    "data_intervencoes = json.loads(open(data_source+\"intervencoes-13.json\").read())"
   ]
  },
  {
   "cell_type": "markdown",
   "metadata": {},
   "source": [
    "> **Shortcut:**\n",
    ">\n",
    "> data\\_intervencoes = data\\_intervencoes[\"ArrayOfPt_gov_ar_objectos_intervencoes_DadosPesquisaIntervencoesOut\"][\"pt_gov_ar_objectos_intervencoes_DadosPesquisaIntervencoesOut\"]"
   ]
  },
  {
   "cell_type": "code",
   "execution_count": 131,
   "metadata": {
    "collapsed": true
   },
   "outputs": [],
   "source": [
    "data_intervencoes = data_intervencoes[\"ArrayOfPt_gov_ar_objectos_intervencoes_DadosPesquisaIntervencoesOut\"][\"pt_gov_ar_objectos_intervencoes_DadosPesquisaIntervencoesOut\"]"
   ]
  },
  {
   "cell_type": "code",
   "execution_count": 132,
   "metadata": {},
   "outputs": [
    {
     "name": "stdout",
     "output_type": "stream",
     "text": [
      "legislatura\n",
      "sessao\n",
      "tipoIntervencao\n",
      "dataReuniaoPlenaria\n",
      "publicacao\n",
      "qualidade\n",
      "actividadesRelacionadas\n",
      "iniciativas\n",
      "faseSessao\n",
      "sumario\n",
      "actividadeId\n",
      "idDebate\n",
      "deputados\n"
     ]
    }
   ],
   "source": [
    "for i in data_intervencoes[0]:\n",
    "    print(i)"
   ]
  },
  {
   "cell_type": "code",
   "execution_count": 133,
   "metadata": {},
   "outputs": [
    {
     "data": {
      "text/plain": [
       "{'legislatura': 'XIII',\n",
       " 'sessao': '1',\n",
       " 'tipoIntervencao': 'Declaração de voto',\n",
       " 'dataReuniaoPlenaria': '2016-07-20',\n",
       " 'publicacao': {'pt_gov_ar_objectos_PublicacoesOut': {'pubNr': '89',\n",
       "   'pubTipo': 'DAR I série',\n",
       "   'pubTp': 'D',\n",
       "   'pubLeg': 'XIII',\n",
       "   'pubSL': '1',\n",
       "   'supl': '.',\n",
       "   'pubdt': '2016-07-21',\n",
       "   'pag': {'string': '117-118'},\n",
       "   'idPag': None,\n",
       "   'idInt': '202980',\n",
       "   'idAct': None,\n",
       "   'URLDiario': 'http://debates.parlamento.pt/catalogo/r3/dar/01/13/01/089/2016-07-21/117?pgs=117-118&org=PLC',\n",
       "   'idDeb': None}},\n",
       " 'qualidade': 'Deputado',\n",
       " 'actividadesRelacionadas': {'id': '102958', 'tipo': 'Disc. Iniciativas'},\n",
       " 'iniciativas': {'pt_gov_ar_objectos_intervencoes_IniciativasOut': {'id': '40327',\n",
       "   'tipo': 'Projeto de Lei',\n",
       "   'fase': 'Votação final global'}},\n",
       " 'faseSessao': 'POD',\n",
       " 'sumario': '5ª alteração à Lei n.º 15-A/98, de 3 de abril (aprova a Lei Orgânica do Regime do Referendo), reduzindo em 20% o número de assinaturas necessárias para a apresentação de Iniciativas Populares de Referendo',\n",
       " 'actividadeId': '102958',\n",
       " 'idDebate': '30585',\n",
       " 'deputados': {'idCadastro': '209', 'nome': 'ANTÓNIO FILIPE', 'GP': 'PCP'}}"
      ]
     },
     "execution_count": 133,
     "metadata": {},
     "output_type": "execute_result"
    }
   ],
   "source": [
    "# Example:\n",
    "data_intervencoes[0]"
   ]
  },
  {
   "cell_type": "markdown",
   "metadata": {},
   "source": [
    "<br>\n",
    "<br>\n",
    "\n",
    "> ## 11.01 - Publicacoes\n",
    "> \n",
    "> _11 // Intervencoes_"
   ]
  },
  {
   "cell_type": "code",
   "execution_count": 134,
   "metadata": {},
   "outputs": [
    {
     "name": "stdout",
     "output_type": "stream",
     "text": [
      "pubNr\n",
      "pubTipo\n",
      "pubTp\n",
      "pubLeg\n",
      "pubSL\n",
      "supl\n",
      "pubdt\n",
      "pag\n",
      "idPag\n",
      "idInt\n",
      "idAct\n",
      "URLDiario\n",
      "idDeb\n"
     ]
    }
   ],
   "source": [
    "for i in data_intervencoes[0][\"publicacao\"][\"pt_gov_ar_objectos_PublicacoesOut\"]:\n",
    "    print(i)\n",
    "    "
   ]
  },
  {
   "cell_type": "code",
   "execution_count": 135,
   "metadata": {
    "scrolled": true
   },
   "outputs": [
    {
     "data": {
      "text/plain": [
       "{'pubNr': '89',\n",
       " 'pubTipo': 'DAR I série',\n",
       " 'pubTp': 'D',\n",
       " 'pubLeg': 'XIII',\n",
       " 'pubSL': '1',\n",
       " 'supl': '.',\n",
       " 'pubdt': '2016-07-21',\n",
       " 'pag': {'string': '117-118'},\n",
       " 'idPag': None,\n",
       " 'idInt': '202980',\n",
       " 'idAct': None,\n",
       " 'URLDiario': 'http://debates.parlamento.pt/catalogo/r3/dar/01/13/01/089/2016-07-21/117?pgs=117-118&org=PLC',\n",
       " 'idDeb': None}"
      ]
     },
     "execution_count": 135,
     "metadata": {},
     "output_type": "execute_result"
    }
   ],
   "source": [
    "# Example:\n",
    "data_intervencoes[0][\"publicacao\"][\"pt_gov_ar_objectos_PublicacoesOut\"]"
   ]
  },
  {
   "cell_type": "markdown",
   "metadata": {},
   "source": [
    "<br>\n",
    "<br>\n",
    "\n",
    "> ## 11.02 - Atividades Relacionadas\n",
    "> \n",
    "> _11 // Intervencoes_"
   ]
  },
  {
   "cell_type": "code",
   "execution_count": 136,
   "metadata": {},
   "outputs": [
    {
     "name": "stdout",
     "output_type": "stream",
     "text": [
      "id\n",
      "tipo\n"
     ]
    }
   ],
   "source": [
    "for i in data_intervencoes[0][\"actividadesRelacionadas\"]:\n",
    "    print(i)\n",
    "    "
   ]
  },
  {
   "cell_type": "code",
   "execution_count": 137,
   "metadata": {},
   "outputs": [
    {
     "data": {
      "text/plain": [
       "{'id': '102958', 'tipo': 'Disc. Iniciativas'}"
      ]
     },
     "execution_count": 137,
     "metadata": {},
     "output_type": "execute_result"
    }
   ],
   "source": [
    "# Example:\n",
    "data_intervencoes[0][\"actividadesRelacionadas\"]"
   ]
  },
  {
   "cell_type": "markdown",
   "metadata": {},
   "source": [
    "<br>\n",
    "<br>\n",
    "\n",
    "> ## 11.03 - Intervencoes Iniciativas\n",
    "> \n",
    "> _11 // Intervencoes_"
   ]
  },
  {
   "cell_type": "code",
   "execution_count": 138,
   "metadata": {},
   "outputs": [
    {
     "name": "stdout",
     "output_type": "stream",
     "text": [
      "id\n",
      "tipo\n",
      "fase\n"
     ]
    }
   ],
   "source": [
    "for i in data_intervencoes[0][\"iniciativas\"][\"pt_gov_ar_objectos_intervencoes_IniciativasOut\"]:\n",
    "    print(i)\n",
    "    "
   ]
  },
  {
   "cell_type": "code",
   "execution_count": 139,
   "metadata": {},
   "outputs": [
    {
     "data": {
      "text/plain": [
       "{'id': '40327', 'tipo': 'Projeto de Lei', 'fase': 'Votação final global'}"
      ]
     },
     "execution_count": 139,
     "metadata": {},
     "output_type": "execute_result"
    }
   ],
   "source": [
    "# Example:\n",
    "data_intervencoes[0][\"iniciativas\"][\"pt_gov_ar_objectos_intervencoes_IniciativasOut\"]"
   ]
  },
  {
   "cell_type": "markdown",
   "metadata": {},
   "source": [
    "<br>\n",
    "<br>\n",
    "\n",
    "> ## 11.04 - Deputados\n",
    "> \n",
    "> _11 // Intervencoes_"
   ]
  },
  {
   "cell_type": "code",
   "execution_count": 140,
   "metadata": {},
   "outputs": [
    {
     "name": "stdout",
     "output_type": "stream",
     "text": [
      "idCadastro\n",
      "nome\n",
      "GP\n"
     ]
    }
   ],
   "source": [
    "for i in data_intervencoes[0][\"deputados\"]:\n",
    "    print(i)\n",
    "    "
   ]
  },
  {
   "cell_type": "code",
   "execution_count": 141,
   "metadata": {
    "scrolled": true
   },
   "outputs": [
    {
     "data": {
      "text/plain": [
       "{'idCadastro': '209', 'nome': 'ANTÓNIO FILIPE', 'GP': 'PCP'}"
      ]
     },
     "execution_count": 141,
     "metadata": {},
     "output_type": "execute_result"
    }
   ],
   "source": [
    "# Example:\n",
    "data_intervencoes[0][\"deputados\"]\n"
   ]
  },
  {
   "cell_type": "markdown",
   "metadata": {},
   "source": [
    "<br>"
   ]
  },
  {
   "cell_type": "markdown",
   "metadata": {},
   "source": [
    "---\n",
    "\n",
    "---"
   ]
  },
  {
   "cell_type": "markdown",
   "metadata": {},
   "source": [
    "<br>\n",
    "<br>\n",
    "\n",
    "# 12 - Composicao de Orgaos"
   ]
  },
  {
   "cell_type": "markdown",
   "metadata": {},
   "source": [
    "> **Available files:**\n",
    "> \n",
    "> - orgao-composicao-02.json\n",
    "> - orgao-composicao-03.json\n",
    "> - orgao-composicao-04.json\n",
    "> - orgao-composicao-05.json\n",
    "> - orgao-composicao-06.json\n",
    "> - orgao-composicao-07.json\n",
    "> - orgao-composicao-08.json\n",
    "> - orgao-composicao-09.json\n",
    "> - orgao-composicao-10.json\n",
    "> - orgao-composicao-11.json\n",
    "> - orgao-composicao-12.json\n",
    "> - orgao-composicao-13.json\n",
    "> - orgao-composicao-cons.json"
   ]
  },
  {
   "cell_type": "code",
   "execution_count": 142,
   "metadata": {
    "collapsed": true
   },
   "outputs": [],
   "source": [
    "data_orgaocomposicao = json.loads(open(data_source+\"orgao-composicao-13.json\").read())"
   ]
  },
  {
   "cell_type": "code",
   "execution_count": 143,
   "metadata": {},
   "outputs": [
    {
     "name": "stdout",
     "output_type": "stream",
     "text": [
      "@xmlns:xsi\n",
      "@xmlns:xsd\n",
      "ConselhoAdministracao\n",
      "ConferenciaLideres\n",
      "ConferenciaPresidentesComissoes\n",
      "ComissaoPermanente\n",
      "MesaAR\n",
      "Comissoes\n",
      "SubComissoes\n",
      "GruposTrabalho\n",
      "GruposTrabalhoAR\n",
      "Plenario\n"
     ]
    }
   ],
   "source": [
    "for i in data_orgaocomposicao[\"OrganizacaoAR\"]:\n",
    "    print(i)"
   ]
  },
  {
   "cell_type": "markdown",
   "metadata": {},
   "source": [
    "<br>\n",
    "<br>\n",
    "\n",
    "> ## 12.01 - Conselho Administracao\n",
    "> \n",
    "> _12 // Composicao de Orgaos_"
   ]
  },
  {
   "cell_type": "code",
   "execution_count": 144,
   "metadata": {},
   "outputs": [
    {
     "name": "stdout",
     "output_type": "stream",
     "text": [
      "HistoricoComposicao\n",
      "DetalheOrgao\n"
     ]
    }
   ],
   "source": [
    "for i in data_orgaocomposicao[\"OrganizacaoAR\"][\"ConselhoAdministracao\"]:\n",
    "    print(i)\n",
    "    "
   ]
  },
  {
   "cell_type": "code",
   "execution_count": 145,
   "metadata": {
    "scrolled": true
   },
   "outputs": [],
   "source": [
    "# Example:\n",
    "data_orgaocomposicao[\"OrganizacaoAR\"][\"ConselhoAdministracao\"];\n"
   ]
  },
  {
   "cell_type": "markdown",
   "metadata": {},
   "source": [
    "<br>\n",
    "<br>\n",
    "\n",
    "> > ### 12.01.01 - Historico Composicao\n",
    "> > \n",
    "> > _12.01 // Conselho Administracao_  \n",
    "> > _12 // Composicao de Orgaos_"
   ]
  },
  {
   "cell_type": "code",
   "execution_count": 146,
   "metadata": {},
   "outputs": [
    {
     "name": "stdout",
     "output_type": "stream",
     "text": [
      "legDes\n",
      "depId\n",
      "depCadId\n",
      "depNomeParlamentar\n",
      "depGP\n",
      "depCargo\n",
      "depSituacao\n",
      "orgId\n"
     ]
    }
   ],
   "source": [
    "for i in data_orgaocomposicao[\"OrganizacaoAR\"][\"ConselhoAdministracao\"][\"HistoricoComposicao\"][\"pt_ar_wsgode_objectos_DadosOrgaoComposicaoHistorico\"][0]:\n",
    "    print(i)\n",
    "    "
   ]
  },
  {
   "cell_type": "code",
   "execution_count": 147,
   "metadata": {},
   "outputs": [
    {
     "data": {
      "text/plain": [
       "{'legDes': 'XIII',\n",
       " 'depId': '8566',\n",
       " 'depCadId': '1715',\n",
       " 'depNomeParlamentar': 'BRUNO DIAS',\n",
       " 'depGP': {'pt_ar_wsgode_objectos_DadosSituacaoGP': {'gpId': '4468',\n",
       "   'gpSigla': 'PCP',\n",
       "   'gpDtInicio': '2015-10-23'}},\n",
       " 'depCargo': {'pt_ar_wsgode_objectos_DadosCargoDeputado': {'carId': '4',\n",
       "   'carDes': 'Representante de Grupo Parlamentar',\n",
       "   'carDtInicio': '2015-10-28'}},\n",
       " 'depSituacao': {'pt_ar_wsgode_objectos_DadosSituacaoOrgaoDeputado': {'sioDes': 'Ativo',\n",
       "   'sioTipMem': 'Efetivo',\n",
       "   'sioDtInicio': '2015-10-28'}},\n",
       " 'orgId': '4446'}"
      ]
     },
     "execution_count": 147,
     "metadata": {},
     "output_type": "execute_result"
    }
   ],
   "source": [
    "# Example:\n",
    "data_orgaocomposicao[\"OrganizacaoAR\"][\"ConselhoAdministracao\"][\"HistoricoComposicao\"][\"pt_ar_wsgode_objectos_DadosOrgaoComposicaoHistorico\"][0]\n"
   ]
  },
  {
   "cell_type": "markdown",
   "metadata": {},
   "source": [
    "<br>\n",
    "<br>\n",
    "\n",
    "> > > #### 12.01.01.01 - Dados Cargo Deputados\n",
    "> > > \n",
    "> > > _12.01.01 // HistoricoComposicao_  \n",
    "> > > _12.01 // Conselho Administracao_  \n",
    "> > > _12 // Composicao de Orgaos_  "
   ]
  },
  {
   "cell_type": "code",
   "execution_count": 148,
   "metadata": {},
   "outputs": [
    {
     "name": "stdout",
     "output_type": "stream",
     "text": [
      "carId\n",
      "carDes\n",
      "carDtInicio\n"
     ]
    }
   ],
   "source": [
    "for i in data_orgaocomposicao[\"OrganizacaoAR\"][\"ConselhoAdministracao\"][\"HistoricoComposicao\"][\"pt_ar_wsgode_objectos_DadosOrgaoComposicaoHistorico\"][0][\"depCargo\"][\"pt_ar_wsgode_objectos_DadosCargoDeputado\"]:\n",
    "    print(i)\n",
    "    "
   ]
  },
  {
   "cell_type": "code",
   "execution_count": 149,
   "metadata": {},
   "outputs": [
    {
     "data": {
      "text/plain": [
       "{'carId': '4',\n",
       " 'carDes': 'Representante de Grupo Parlamentar',\n",
       " 'carDtInicio': '2015-10-28'}"
      ]
     },
     "execution_count": 149,
     "metadata": {},
     "output_type": "execute_result"
    }
   ],
   "source": [
    "# Example:\n",
    "data_orgaocomposicao[\"OrganizacaoAR\"][\"ConselhoAdministracao\"][\"HistoricoComposicao\"][\"pt_ar_wsgode_objectos_DadosOrgaoComposicaoHistorico\"][0][\"depCargo\"][\"pt_ar_wsgode_objectos_DadosCargoDeputado\"]"
   ]
  },
  {
   "cell_type": "markdown",
   "metadata": {},
   "source": [
    "<br>\n",
    "<br>\n",
    "\n",
    "> > > #### 12.01.01.02 - Dados Situacao Grupo Parlamentar\n",
    "> > > \n",
    "> > > _12.01.01 // HistoricoComposicao_  \n",
    "> > > _12.01 // Conselho Administracao_  \n",
    "> > > _12 // Composicao de Orgaos_  "
   ]
  },
  {
   "cell_type": "code",
   "execution_count": 150,
   "metadata": {},
   "outputs": [
    {
     "name": "stdout",
     "output_type": "stream",
     "text": [
      "gpId\n",
      "gpSigla\n",
      "gpDtInicio\n"
     ]
    }
   ],
   "source": [
    "for i in data_orgaocomposicao[\"OrganizacaoAR\"][\"ConselhoAdministracao\"][\"HistoricoComposicao\"][\"pt_ar_wsgode_objectos_DadosOrgaoComposicaoHistorico\"][0][\"depGP\"][\"pt_ar_wsgode_objectos_DadosSituacaoGP\"]:\n",
    "    print(i)\n",
    "    "
   ]
  },
  {
   "cell_type": "code",
   "execution_count": 151,
   "metadata": {},
   "outputs": [
    {
     "data": {
      "text/plain": [
       "{'gpId': '4468', 'gpSigla': 'PCP', 'gpDtInicio': '2015-10-23'}"
      ]
     },
     "execution_count": 151,
     "metadata": {},
     "output_type": "execute_result"
    }
   ],
   "source": [
    "# Example:\n",
    "data_orgaocomposicao[\"OrganizacaoAR\"][\"ConselhoAdministracao\"][\"HistoricoComposicao\"][\"pt_ar_wsgode_objectos_DadosOrgaoComposicaoHistorico\"][0][\"depGP\"][\"pt_ar_wsgode_objectos_DadosSituacaoGP\"]\n"
   ]
  },
  {
   "cell_type": "markdown",
   "metadata": {},
   "source": [
    "<br>\n",
    "<br>\n",
    "\n",
    "> > > #### 12.01.01.03 - Dados Situacao Orgao Deputado\n",
    "> > > \n",
    "> > > _12.01.01 // HistoricoComposicao_  \n",
    "> > > _12.01 // Conselho Administracao_  \n",
    "> > > _12 // Composicao de Orgaos_  "
   ]
  },
  {
   "cell_type": "code",
   "execution_count": 152,
   "metadata": {},
   "outputs": [
    {
     "name": "stdout",
     "output_type": "stream",
     "text": [
      "sioDes\n",
      "sioTipMem\n",
      "sioDtInicio\n"
     ]
    }
   ],
   "source": [
    "for i in data_orgaocomposicao[\"OrganizacaoAR\"][\"ConselhoAdministracao\"][\"HistoricoComposicao\"][\"pt_ar_wsgode_objectos_DadosOrgaoComposicaoHistorico\"][0][\"depSituacao\"][\"pt_ar_wsgode_objectos_DadosSituacaoOrgaoDeputado\"]:\n",
    "    print(i)\n",
    "    "
   ]
  },
  {
   "cell_type": "code",
   "execution_count": 153,
   "metadata": {},
   "outputs": [
    {
     "data": {
      "text/plain": [
       "{'sioDes': 'Ativo', 'sioTipMem': 'Efetivo', 'sioDtInicio': '2015-10-28'}"
      ]
     },
     "execution_count": 153,
     "metadata": {},
     "output_type": "execute_result"
    }
   ],
   "source": [
    "# Example:\n",
    "data_orgaocomposicao[\"OrganizacaoAR\"][\"ConselhoAdministracao\"][\"HistoricoComposicao\"][\"pt_ar_wsgode_objectos_DadosOrgaoComposicaoHistorico\"][0][\"depSituacao\"][\"pt_ar_wsgode_objectos_DadosSituacaoOrgaoDeputado\"]\n"
   ]
  },
  {
   "cell_type": "markdown",
   "metadata": {},
   "source": [
    "<br>\n",
    "<br>\n",
    "\n",
    "> > ### 12.01.02 - Detalhe Orgao\n",
    "> > \n",
    "> > _12.01 // Conselho Administracao_  \n",
    "> > _12 // Composicao de Orgaos_"
   ]
  },
  {
   "cell_type": "code",
   "execution_count": 154,
   "metadata": {},
   "outputs": [
    {
     "name": "stdout",
     "output_type": "stream",
     "text": [
      "idOrgao\n",
      "siglaOrgao\n",
      "nomeSigla\n",
      "numeroOrgao\n",
      "siglaLegislatura\n"
     ]
    }
   ],
   "source": [
    "for i in data_orgaocomposicao[\"OrganizacaoAR\"][\"ConselhoAdministracao\"][\"DetalheOrgao\"]:\n",
    "    print(i)\n",
    "    "
   ]
  },
  {
   "cell_type": "code",
   "execution_count": 155,
   "metadata": {},
   "outputs": [
    {
     "data": {
      "text/plain": [
       "{'idOrgao': '4446',\n",
       " 'siglaOrgao': 'CA',\n",
       " 'nomeSigla': 'Conselho de Administração',\n",
       " 'numeroOrgao': '0',\n",
       " 'siglaLegislatura': 'XIII'}"
      ]
     },
     "execution_count": 155,
     "metadata": {},
     "output_type": "execute_result"
    }
   ],
   "source": [
    "# Example:\n",
    "data_orgaocomposicao[\"OrganizacaoAR\"][\"ConselhoAdministracao\"][\"DetalheOrgao\"]\n"
   ]
  },
  {
   "cell_type": "markdown",
   "metadata": {},
   "source": [
    "<br>\n",
    "<br>\n",
    "\n",
    "> ## 12.02 - Conferencia Lideres\n",
    "> \n",
    "> _12 // Composicao de Orgaos_"
   ]
  },
  {
   "cell_type": "code",
   "execution_count": 156,
   "metadata": {},
   "outputs": [
    {
     "name": "stdout",
     "output_type": "stream",
     "text": [
      "HistoricoComposicao\n",
      "DetalheOrgao\n"
     ]
    }
   ],
   "source": [
    "for i in data_orgaocomposicao[\"OrganizacaoAR\"][\"ConferenciaLideres\"]:\n",
    "    print(i)\n",
    "    "
   ]
  },
  {
   "cell_type": "code",
   "execution_count": 157,
   "metadata": {},
   "outputs": [],
   "source": [
    "# Example:\n",
    "data_orgaocomposicao[\"OrganizacaoAR\"][\"ConferenciaLideres\"];\n"
   ]
  },
  {
   "cell_type": "markdown",
   "metadata": {},
   "source": [
    "<br>\n",
    "<br>\n",
    "\n",
    "> > ### 12.02.01 - Historico Composicao\n",
    "> > \n",
    "> > _12.02 // Conferencia Lideres_  \n",
    "> > _12 // Composicao de Orgaos_"
   ]
  },
  {
   "cell_type": "code",
   "execution_count": 158,
   "metadata": {},
   "outputs": [
    {
     "name": "stdout",
     "output_type": "stream",
     "text": [
      "legDes\n",
      "depId\n",
      "depCadId\n",
      "depNomeParlamentar\n",
      "depGP\n",
      "depSituacao\n",
      "orgId\n"
     ]
    }
   ],
   "source": [
    "for i in data_orgaocomposicao[\"OrganizacaoAR\"][\"ConferenciaLideres\"][\"HistoricoComposicao\"][\"pt_ar_wsgode_objectos_DadosOrgaoComposicaoHistorico\"][0]:\n",
    "    print(i)\n",
    "    "
   ]
  },
  {
   "cell_type": "code",
   "execution_count": 159,
   "metadata": {
    "scrolled": true
   },
   "outputs": [
    {
     "data": {
      "text/plain": [
       "{'legDes': 'XIII',\n",
       " 'depId': '9421',\n",
       " 'depCadId': '5777',\n",
       " 'depNomeParlamentar': 'ANDRÉ SILVA',\n",
       " 'depGP': {'pt_ar_wsgode_objectos_DadosSituacaoGP': {'gpId': '4484',\n",
       "   'gpSigla': 'PAN',\n",
       "   'gpDtInicio': '2015-10-23'}},\n",
       " 'depSituacao': {'pt_ar_wsgode_objectos_DadosSituacaoOrgaoDeputado': {'sioDes': 'Ativo',\n",
       "   'sioTipMem': 'Efetivo',\n",
       "   'sioDtInicio': '2017-11-29'}},\n",
       " 'orgId': '4447'}"
      ]
     },
     "execution_count": 159,
     "metadata": {},
     "output_type": "execute_result"
    }
   ],
   "source": [
    "# Example:\n",
    "data_orgaocomposicao[\"OrganizacaoAR\"][\"ConferenciaLideres\"][\"HistoricoComposicao\"][\"pt_ar_wsgode_objectos_DadosOrgaoComposicaoHistorico\"][0]\n"
   ]
  },
  {
   "cell_type": "markdown",
   "metadata": {},
   "source": [
    "<br>\n",
    "<br>\n",
    "\n",
    "> > > #### 12.02.01.01 - Dados Situacao Grupo Parlamentar\n",
    "> > > \n",
    "> > > _12.02.01 // Historico Composicao_  \n",
    "> > > _12.02 // Conferencia Lideres_  \n",
    "> > > _12 // Composicao de Orgaos_  "
   ]
  },
  {
   "cell_type": "code",
   "execution_count": 160,
   "metadata": {},
   "outputs": [
    {
     "name": "stdout",
     "output_type": "stream",
     "text": [
      "gpId\n",
      "gpSigla\n",
      "gpDtInicio\n"
     ]
    }
   ],
   "source": [
    "for i in data_orgaocomposicao[\"OrganizacaoAR\"][\"ConferenciaLideres\"][\"HistoricoComposicao\"][\"pt_ar_wsgode_objectos_DadosOrgaoComposicaoHistorico\"][0][\"depGP\"][\"pt_ar_wsgode_objectos_DadosSituacaoGP\"]:\n",
    "    print(i)\n",
    "    "
   ]
  },
  {
   "cell_type": "code",
   "execution_count": 161,
   "metadata": {},
   "outputs": [
    {
     "data": {
      "text/plain": [
       "{'gpId': '4484', 'gpSigla': 'PAN', 'gpDtInicio': '2015-10-23'}"
      ]
     },
     "execution_count": 161,
     "metadata": {},
     "output_type": "execute_result"
    }
   ],
   "source": [
    "# Example:\n",
    "data_orgaocomposicao[\"OrganizacaoAR\"][\"ConferenciaLideres\"][\"HistoricoComposicao\"][\"pt_ar_wsgode_objectos_DadosOrgaoComposicaoHistorico\"][0][\"depGP\"][\"pt_ar_wsgode_objectos_DadosSituacaoGP\"]\n"
   ]
  },
  {
   "cell_type": "markdown",
   "metadata": {},
   "source": [
    "<br>\n",
    "<br>\n",
    "\n",
    "> > > #### 12.02.01.02 - Dados Situacao Orgao Deputado\n",
    "> > > \n",
    "> > > _12.02.01 // Historico Composicao_  \n",
    "> > > _12.02 // Conferencia Lideres_  \n",
    "> > > _12 // Composicao de Orgaos_  "
   ]
  },
  {
   "cell_type": "code",
   "execution_count": 162,
   "metadata": {},
   "outputs": [
    {
     "name": "stdout",
     "output_type": "stream",
     "text": [
      "sioDes\n",
      "sioTipMem\n",
      "sioDtInicio\n"
     ]
    }
   ],
   "source": [
    "for i in data_orgaocomposicao[\"OrganizacaoAR\"][\"ConferenciaLideres\"][\"HistoricoComposicao\"][\"pt_ar_wsgode_objectos_DadosOrgaoComposicaoHistorico\"][0][\"depSituacao\"][\"pt_ar_wsgode_objectos_DadosSituacaoOrgaoDeputado\"]:\n",
    "    print(i)\n",
    "    "
   ]
  },
  {
   "cell_type": "code",
   "execution_count": 163,
   "metadata": {},
   "outputs": [
    {
     "data": {
      "text/plain": [
       "{'sioDes': 'Ativo', 'sioTipMem': 'Efetivo', 'sioDtInicio': '2017-11-29'}"
      ]
     },
     "execution_count": 163,
     "metadata": {},
     "output_type": "execute_result"
    }
   ],
   "source": [
    "# Example:\n",
    "data_orgaocomposicao[\"OrganizacaoAR\"][\"ConferenciaLideres\"][\"HistoricoComposicao\"][\"pt_ar_wsgode_objectos_DadosOrgaoComposicaoHistorico\"][0][\"depSituacao\"][\"pt_ar_wsgode_objectos_DadosSituacaoOrgaoDeputado\"]\n"
   ]
  },
  {
   "cell_type": "markdown",
   "metadata": {},
   "source": [
    "<br>\n",
    "<br>\n",
    "\n",
    "> > ### 12.02.02 - Detalhe Orgao\n",
    "> > \n",
    "> > _12.02 // Conferencia Lideres_  \n",
    "> > _12 // Composicao de Orgaos_"
   ]
  },
  {
   "cell_type": "code",
   "execution_count": 164,
   "metadata": {},
   "outputs": [
    {
     "name": "stdout",
     "output_type": "stream",
     "text": [
      "idOrgao\n",
      "siglaOrgao\n",
      "nomeSigla\n",
      "numeroOrgao\n",
      "siglaLegislatura\n"
     ]
    }
   ],
   "source": [
    "for i in data_orgaocomposicao[\"OrganizacaoAR\"][\"ConferenciaLideres\"][\"DetalheOrgao\"]:\n",
    "    print(i)\n",
    "    "
   ]
  },
  {
   "cell_type": "code",
   "execution_count": 165,
   "metadata": {
    "scrolled": true
   },
   "outputs": [
    {
     "data": {
      "text/plain": [
       "{'idOrgao': '4447',\n",
       " 'siglaOrgao': 'CL',\n",
       " 'nomeSigla': 'Conferência de Líderes',\n",
       " 'numeroOrgao': '0',\n",
       " 'siglaLegislatura': 'XIII'}"
      ]
     },
     "execution_count": 165,
     "metadata": {},
     "output_type": "execute_result"
    }
   ],
   "source": [
    "# Example:\n",
    "data_orgaocomposicao[\"OrganizacaoAR\"][\"ConferenciaLideres\"][\"DetalheOrgao\"]\n"
   ]
  },
  {
   "cell_type": "markdown",
   "metadata": {},
   "source": [
    "<br>\n",
    "<br>\n",
    "\n",
    "> ## 12.03 - Conferencia Presidentes Comissoes\n",
    "> \n",
    "> _12 // Composicao de Orgaos_"
   ]
  },
  {
   "cell_type": "code",
   "execution_count": 166,
   "metadata": {},
   "outputs": [
    {
     "name": "stdout",
     "output_type": "stream",
     "text": [
      "HistoricoComposicao\n",
      "DetalheOrgao\n"
     ]
    }
   ],
   "source": [
    "for i in data_orgaocomposicao[\"OrganizacaoAR\"][\"ConferenciaPresidentesComissoes\"]:\n",
    "    print(i)\n",
    "    "
   ]
  },
  {
   "cell_type": "code",
   "execution_count": 167,
   "metadata": {
    "collapsed": true,
    "scrolled": true
   },
   "outputs": [],
   "source": [
    "# Example:\n",
    "data_orgaocomposicao[\"OrganizacaoAR\"][\"ConferenciaPresidentesComissoes\"];\n"
   ]
  },
  {
   "cell_type": "markdown",
   "metadata": {},
   "source": [
    "<br>\n",
    "<br>\n",
    "\n",
    "> > ### 12.03.01 - Historico Composicao\n",
    "> > \n",
    "> > _12.03 // Conferencia Presidentes Comissoes_  \n",
    "> > _12 // Composicao de Orgaos_  "
   ]
  },
  {
   "cell_type": "code",
   "execution_count": 168,
   "metadata": {},
   "outputs": [
    {
     "name": "stdout",
     "output_type": "stream",
     "text": [
      "legDes\n",
      "depId\n",
      "depCadId\n",
      "depNomeParlamentar\n",
      "depGP\n",
      "depSituacao\n",
      "presOrgao\n"
     ]
    }
   ],
   "source": [
    "for i in data_orgaocomposicao[\"OrganizacaoAR\"][\"ConferenciaPresidentesComissoes\"][\"HistoricoComposicao\"][\"pt_ar_wsgode_objectos_DadosPCPComposicaoHistorico\"][0]:\n",
    "    print(i)\n",
    "    "
   ]
  },
  {
   "cell_type": "code",
   "execution_count": 169,
   "metadata": {},
   "outputs": [
    {
     "data": {
      "text/plain": [
       "{'legDes': 'XIII',\n",
       " 'depId': '8478',\n",
       " 'depCadId': '5930',\n",
       " 'depNomeParlamentar': 'ALEXANDRE QUINTANILHA',\n",
       " 'depGP': {'pt_ar_wsgode_objectos_DadosSituacaoGP': {'gpId': '4465',\n",
       "   'gpSigla': 'PS',\n",
       "   'gpDtInicio': '2015-10-23'}},\n",
       " 'depSituacao': {'pt_ar_wsgode_objectos_DadosSituacaoOrgaoDeputado': {'sioDes': 'Activo',\n",
       "   'sioTipMem': 'Presidente da Comissão'}},\n",
       " 'presOrgao': {'pt_ar_wsgode_objectos_DadosOrgaoPCPHistorico': {'orgId': '4531',\n",
       "   'orgNumero': '8',\n",
       "   'orgSigla': 'CEC',\n",
       "   'orgDes': 'Comissão de Educação e Ciência',\n",
       "   'presComissao': {'pt_ar_wsgode_objectos_DadosPeriodoCargo': {'pecId': '9035',\n",
       "     'pecTiaDes': 'Presidente',\n",
       "     'pecDtInicio': '2015-11-12'}}}}}"
      ]
     },
     "execution_count": 169,
     "metadata": {},
     "output_type": "execute_result"
    }
   ],
   "source": [
    "# Example:\n",
    "data_orgaocomposicao[\"OrganizacaoAR\"][\"ConferenciaPresidentesComissoes\"][\"HistoricoComposicao\"][\"pt_ar_wsgode_objectos_DadosPCPComposicaoHistorico\"][0]"
   ]
  },
  {
   "cell_type": "markdown",
   "metadata": {},
   "source": [
    "<br>\n",
    "<br>\n",
    "\n",
    "> > > #### 12.03.01.01 - Dados Situacao Grupo Parlamentar\n",
    "> > > \n",
    "> > > _12.03.01 // Historico Composicao_  \n",
    "> > > _12.03 // Conferencia Presidentes Comissoes_  \n",
    "> > > _12 // Composicao de Orgaos_  "
   ]
  },
  {
   "cell_type": "code",
   "execution_count": 170,
   "metadata": {},
   "outputs": [
    {
     "name": "stdout",
     "output_type": "stream",
     "text": [
      "gpId\n",
      "gpSigla\n",
      "gpDtInicio\n"
     ]
    }
   ],
   "source": [
    "for i in data_orgaocomposicao[\"OrganizacaoAR\"][\"ConferenciaPresidentesComissoes\"][\"HistoricoComposicao\"][\"pt_ar_wsgode_objectos_DadosPCPComposicaoHistorico\"][0][\"depGP\"][\"pt_ar_wsgode_objectos_DadosSituacaoGP\"]:\n",
    "    print(i)\n",
    "    "
   ]
  },
  {
   "cell_type": "code",
   "execution_count": 171,
   "metadata": {},
   "outputs": [
    {
     "data": {
      "text/plain": [
       "{'gpId': '4465', 'gpSigla': 'PS', 'gpDtInicio': '2015-10-23'}"
      ]
     },
     "execution_count": 171,
     "metadata": {},
     "output_type": "execute_result"
    }
   ],
   "source": [
    "# Example:\n",
    "data_orgaocomposicao[\"OrganizacaoAR\"][\"ConferenciaPresidentesComissoes\"][\"HistoricoComposicao\"][\"pt_ar_wsgode_objectos_DadosPCPComposicaoHistorico\"][0][\"depGP\"][\"pt_ar_wsgode_objectos_DadosSituacaoGP\"]\n"
   ]
  },
  {
   "cell_type": "markdown",
   "metadata": {},
   "source": [
    "<br>\n",
    "<br>\n",
    "\n",
    "> > > #### 12.03.01.02 - Dados Situacao Orgao Deputado\n",
    "> > > \n",
    "> > > _12.03.01 // Historico Composicao_  \n",
    "> > > _12.03 // Conferencia Presidentes Comissoes_  \n",
    "> > > _12 // Composicao de Orgaos_  "
   ]
  },
  {
   "cell_type": "code",
   "execution_count": 172,
   "metadata": {},
   "outputs": [
    {
     "name": "stdout",
     "output_type": "stream",
     "text": [
      "sioDes\n",
      "sioTipMem\n"
     ]
    }
   ],
   "source": [
    "for i in data_orgaocomposicao[\"OrganizacaoAR\"][\"ConferenciaPresidentesComissoes\"][\"HistoricoComposicao\"][\"pt_ar_wsgode_objectos_DadosPCPComposicaoHistorico\"][0][\"depSituacao\"][\"pt_ar_wsgode_objectos_DadosSituacaoOrgaoDeputado\"]:\n",
    "    print(i)\n",
    "    "
   ]
  },
  {
   "cell_type": "code",
   "execution_count": 173,
   "metadata": {},
   "outputs": [
    {
     "data": {
      "text/plain": [
       "{'sioDes': 'Activo', 'sioTipMem': 'Presidente da Comissão'}"
      ]
     },
     "execution_count": 173,
     "metadata": {},
     "output_type": "execute_result"
    }
   ],
   "source": [
    "data_orgaocomposicao[\"OrganizacaoAR\"][\"ConferenciaPresidentesComissoes\"][\"HistoricoComposicao\"][\"pt_ar_wsgode_objectos_DadosPCPComposicaoHistorico\"][0][\"depSituacao\"][\"pt_ar_wsgode_objectos_DadosSituacaoOrgaoDeputado\"]\n"
   ]
  },
  {
   "cell_type": "markdown",
   "metadata": {},
   "source": [
    "<br>\n",
    "<br>\n",
    "\n",
    "> > > #### 12.03.01.03 - presOrgao\n",
    "> > > \n",
    "> > > _12.03.01 // Historico Composicao_  \n",
    "> > > _12.03 // Conferencia Presidentes Comissoes_  \n",
    "> > > _12 // Composicao de Orgaos_  "
   ]
  },
  {
   "cell_type": "code",
   "execution_count": 174,
   "metadata": {},
   "outputs": [
    {
     "name": "stdout",
     "output_type": "stream",
     "text": [
      "orgId\n",
      "orgNumero\n",
      "orgSigla\n",
      "orgDes\n",
      "presComissao\n"
     ]
    }
   ],
   "source": [
    "for i in data_orgaocomposicao[\"OrganizacaoAR\"][\"ConferenciaPresidentesComissoes\"][\"HistoricoComposicao\"][\"pt_ar_wsgode_objectos_DadosPCPComposicaoHistorico\"][0][\"presOrgao\"][\"pt_ar_wsgode_objectos_DadosOrgaoPCPHistorico\"]:\n",
    "    print(i)\n",
    "    "
   ]
  },
  {
   "cell_type": "code",
   "execution_count": 175,
   "metadata": {},
   "outputs": [
    {
     "data": {
      "text/plain": [
       "{'orgId': '4531',\n",
       " 'orgNumero': '8',\n",
       " 'orgSigla': 'CEC',\n",
       " 'orgDes': 'Comissão de Educação e Ciência',\n",
       " 'presComissao': {'pt_ar_wsgode_objectos_DadosPeriodoCargo': {'pecId': '9035',\n",
       "   'pecTiaDes': 'Presidente',\n",
       "   'pecDtInicio': '2015-11-12'}}}"
      ]
     },
     "execution_count": 175,
     "metadata": {},
     "output_type": "execute_result"
    }
   ],
   "source": [
    "# Example:\n",
    "data_orgaocomposicao[\"OrganizacaoAR\"][\"ConferenciaPresidentesComissoes\"][\"HistoricoComposicao\"][\"pt_ar_wsgode_objectos_DadosPCPComposicaoHistorico\"][0][\"presOrgao\"][\"pt_ar_wsgode_objectos_DadosOrgaoPCPHistorico\"]"
   ]
  },
  {
   "cell_type": "markdown",
   "metadata": {},
   "source": [
    "<br>\n",
    "<br>\n",
    "\n",
    "> > > > ##### 12.03.01.03.01 - Dados Periodo Cargo\n",
    "> > > > \n",
    "> > > > _12.03.01.03 // presOrgao_  \n",
    "> > > > _12.03.01 // Historico Composicao_  \n",
    "> > > > _12.03 // Conferencia Presidentes Comissoes_  \n",
    "> > > > _12 // Composicao de Orgaos_  "
   ]
  },
  {
   "cell_type": "code",
   "execution_count": 176,
   "metadata": {},
   "outputs": [
    {
     "name": "stdout",
     "output_type": "stream",
     "text": [
      "pecId\n",
      "pecTiaDes\n",
      "pecDtInicio\n"
     ]
    }
   ],
   "source": [
    "for i in data_orgaocomposicao[\"OrganizacaoAR\"][\"ConferenciaPresidentesComissoes\"][\"HistoricoComposicao\"][\"pt_ar_wsgode_objectos_DadosPCPComposicaoHistorico\"][0][\"presOrgao\"][\"pt_ar_wsgode_objectos_DadosOrgaoPCPHistorico\"][\"presComissao\"][\"pt_ar_wsgode_objectos_DadosPeriodoCargo\"]:\n",
    "    print(i)\n",
    "    "
   ]
  },
  {
   "cell_type": "code",
   "execution_count": 177,
   "metadata": {},
   "outputs": [
    {
     "data": {
      "text/plain": [
       "{'pecId': '9035', 'pecTiaDes': 'Presidente', 'pecDtInicio': '2015-11-12'}"
      ]
     },
     "execution_count": 177,
     "metadata": {},
     "output_type": "execute_result"
    }
   ],
   "source": [
    "# Example:\n",
    "data_orgaocomposicao[\"OrganizacaoAR\"][\"ConferenciaPresidentesComissoes\"][\"HistoricoComposicao\"][\"pt_ar_wsgode_objectos_DadosPCPComposicaoHistorico\"][0][\"presOrgao\"][\"pt_ar_wsgode_objectos_DadosOrgaoPCPHistorico\"][\"presComissao\"][\"pt_ar_wsgode_objectos_DadosPeriodoCargo\"]\n"
   ]
  },
  {
   "cell_type": "markdown",
   "metadata": {},
   "source": [
    "<br>\n",
    "<br>\n",
    "\n",
    "> > ### 12.03.02 - Detalhe Orgao\n",
    "> > \n",
    "> > _12.03 // Conferencia Presidentes Comissoes_  \n",
    "> > _12 // Composicao de Orgaos_  "
   ]
  },
  {
   "cell_type": "code",
   "execution_count": 297,
   "metadata": {},
   "outputs": [
    {
     "name": "stdout",
     "output_type": "stream",
     "text": [
      "idOrgao\n",
      "siglaOrgao\n",
      "nomeSigla\n",
      "numeroOrgao\n",
      "siglaLegislatura\n"
     ]
    }
   ],
   "source": [
    "for i in data_orgaocomposicao[\"OrganizacaoAR\"][\"ConferenciaPresidentesComissoes\"][\"DetalheOrgao\"]:\n",
    "    print(i)\n",
    "    "
   ]
  },
  {
   "cell_type": "code",
   "execution_count": 298,
   "metadata": {},
   "outputs": [
    {
     "data": {
      "text/plain": [
       "{'idOrgao': '4448',\n",
       " 'siglaOrgao': 'PC',\n",
       " 'nomeSigla': 'Conferência dos Presidentes das Comissões',\n",
       " 'numeroOrgao': '0',\n",
       " 'siglaLegislatura': 'XIII'}"
      ]
     },
     "execution_count": 298,
     "metadata": {},
     "output_type": "execute_result"
    }
   ],
   "source": [
    "# Example:\n",
    "data_orgaocomposicao[\"OrganizacaoAR\"][\"ConferenciaPresidentesComissoes\"][\"DetalheOrgao\"]\n"
   ]
  },
  {
   "cell_type": "markdown",
   "metadata": {},
   "source": [
    "<br>\n",
    "<br>\n",
    "\n",
    "> ## 12.04 - Comissao Permanente\n",
    "> \n",
    "> _12 // Composicao de Orgaos_"
   ]
  },
  {
   "cell_type": "code",
   "execution_count": 178,
   "metadata": {
    "scrolled": true
   },
   "outputs": [
    {
     "name": "stdout",
     "output_type": "stream",
     "text": [
      "HistoricoComposicao\n",
      "DetalheOrgao\n"
     ]
    }
   ],
   "source": [
    "for i in data_orgaocomposicao[\"OrganizacaoAR\"][\"ComissaoPermanente\"]:\n",
    "    print(i)\n",
    "    "
   ]
  },
  {
   "cell_type": "code",
   "execution_count": 179,
   "metadata": {},
   "outputs": [],
   "source": [
    "# Example:\n",
    "data_orgaocomposicao[\"OrganizacaoAR\"][\"ComissaoPermanente\"];"
   ]
  },
  {
   "cell_type": "markdown",
   "metadata": {},
   "source": [
    "<br>\n",
    "<br>\n",
    "\n",
    "> > ### 12.04.01 - Historico Composicao\n",
    "> > \n",
    "> > _12.04 // Comissao Permanente_  \n",
    "> > _12 // Composicao de Orgaos_  "
   ]
  },
  {
   "cell_type": "code",
   "execution_count": 180,
   "metadata": {
    "scrolled": true
   },
   "outputs": [
    {
     "name": "stdout",
     "output_type": "stream",
     "text": [
      "legDes\n",
      "depId\n",
      "depCadId\n",
      "depNomeParlamentar\n",
      "depGP\n",
      "depSituacao\n",
      "orgId\n"
     ]
    }
   ],
   "source": [
    "for i in data_orgaocomposicao[\"OrganizacaoAR\"][\"ComissaoPermanente\"][\"HistoricoComposicao\"][\"pt_ar_wsgode_objectos_DadosOrgaoComposicaoHistorico\"][0]:\n",
    "    print(i)\n",
    "    "
   ]
  },
  {
   "cell_type": "code",
   "execution_count": 181,
   "metadata": {},
   "outputs": [
    {
     "data": {
      "text/plain": [
       "{'legDes': 'XIII',\n",
       " 'depId': '8495',\n",
       " 'depCadId': '1212',\n",
       " 'depNomeParlamentar': 'ANA CATARINA MENDONÇA MENDES',\n",
       " 'depGP': {'pt_ar_wsgode_objectos_DadosSituacaoGP': {'gpId': '4465',\n",
       "   'gpSigla': 'PS',\n",
       "   'gpDtInicio': '2015-10-23'}},\n",
       " 'depSituacao': {'pt_ar_wsgode_objectos_DadosSituacaoOrgaoDeputado': {'sioDes': 'Ativo',\n",
       "   'sioTipMem': 'Efetivo',\n",
       "   'sioDtInicio': '2016-07-14'}},\n",
       " 'orgId': '4445'}"
      ]
     },
     "execution_count": 181,
     "metadata": {},
     "output_type": "execute_result"
    }
   ],
   "source": [
    "# Example:\n",
    "data_orgaocomposicao[\"OrganizacaoAR\"][\"ComissaoPermanente\"][\"HistoricoComposicao\"][\"pt_ar_wsgode_objectos_DadosOrgaoComposicaoHistorico\"][0]"
   ]
  },
  {
   "cell_type": "markdown",
   "metadata": {},
   "source": [
    "<br>\n",
    "<br>\n",
    "\n",
    "> > > #### 12.04.01.01 - Dados Situacao Grupo Parlamentar\n",
    "> > > \n",
    "> > > _12.04.01 // Historico Composicao_  \n",
    "> > > _12.04 // Comissao Permanente_  \n",
    "> > > _12 // Composicao de Orgaos_  "
   ]
  },
  {
   "cell_type": "code",
   "execution_count": 182,
   "metadata": {},
   "outputs": [
    {
     "name": "stdout",
     "output_type": "stream",
     "text": [
      "gpId\n",
      "gpSigla\n",
      "gpDtInicio\n"
     ]
    }
   ],
   "source": [
    "for i in data_orgaocomposicao[\"OrganizacaoAR\"][\"ComissaoPermanente\"][\"HistoricoComposicao\"][\"pt_ar_wsgode_objectos_DadosOrgaoComposicaoHistorico\"][0][\"depGP\"][\"pt_ar_wsgode_objectos_DadosSituacaoGP\"]:\n",
    "    print(i)\n",
    "    "
   ]
  },
  {
   "cell_type": "code",
   "execution_count": 183,
   "metadata": {},
   "outputs": [
    {
     "data": {
      "text/plain": [
       "{'gpId': '4465', 'gpSigla': 'PS', 'gpDtInicio': '2015-10-23'}"
      ]
     },
     "execution_count": 183,
     "metadata": {},
     "output_type": "execute_result"
    }
   ],
   "source": [
    "# Example:\n",
    "data_orgaocomposicao[\"OrganizacaoAR\"][\"ComissaoPermanente\"][\"HistoricoComposicao\"][\"pt_ar_wsgode_objectos_DadosOrgaoComposicaoHistorico\"][0][\"depGP\"][\"pt_ar_wsgode_objectos_DadosSituacaoGP\"]\n"
   ]
  },
  {
   "cell_type": "markdown",
   "metadata": {},
   "source": [
    "<br>\n",
    "<br>\n",
    "\n",
    "> > > #### 12.04.01.02 - Dados Situacao Orgao Deputado\n",
    "> > > \n",
    "> > > _12.04.01 // Historico Composicao_  \n",
    "> > > _12.04 // Comissao Permanente_  \n",
    "> > > _12 // Composicao de Orgaos_  "
   ]
  },
  {
   "cell_type": "code",
   "execution_count": 184,
   "metadata": {},
   "outputs": [
    {
     "name": "stdout",
     "output_type": "stream",
     "text": [
      "sioDes\n",
      "sioTipMem\n",
      "sioDtInicio\n"
     ]
    }
   ],
   "source": [
    "for i in data_orgaocomposicao[\"OrganizacaoAR\"][\"ComissaoPermanente\"][\"HistoricoComposicao\"][\"pt_ar_wsgode_objectos_DadosOrgaoComposicaoHistorico\"][0][\"depSituacao\"][\"pt_ar_wsgode_objectos_DadosSituacaoOrgaoDeputado\"]:\n",
    "    print(i)\n",
    "    "
   ]
  },
  {
   "cell_type": "code",
   "execution_count": 185,
   "metadata": {},
   "outputs": [
    {
     "data": {
      "text/plain": [
       "{'sioDes': 'Ativo', 'sioTipMem': 'Efetivo', 'sioDtInicio': '2016-07-14'}"
      ]
     },
     "execution_count": 185,
     "metadata": {},
     "output_type": "execute_result"
    }
   ],
   "source": [
    "# Example:\n",
    "data_orgaocomposicao[\"OrganizacaoAR\"][\"ComissaoPermanente\"][\"HistoricoComposicao\"][\"pt_ar_wsgode_objectos_DadosOrgaoComposicaoHistorico\"][0][\"depSituacao\"][\"pt_ar_wsgode_objectos_DadosSituacaoOrgaoDeputado\"]"
   ]
  },
  {
   "cell_type": "markdown",
   "metadata": {},
   "source": [
    "<br>\n",
    "<br>\n",
    "\n",
    "> > ### 12.04.02 - Detalhe Orgao\n",
    "> > \n",
    "> > _12.04 // Comissao Permanente_  \n",
    "> > _12 // Composicao de Orgaos_  "
   ]
  },
  {
   "cell_type": "code",
   "execution_count": 186,
   "metadata": {
    "scrolled": true
   },
   "outputs": [
    {
     "name": "stdout",
     "output_type": "stream",
     "text": [
      "idOrgao\n",
      "siglaOrgao\n",
      "nomeSigla\n",
      "numeroOrgao\n",
      "siglaLegislatura\n"
     ]
    }
   ],
   "source": [
    "for i in data_orgaocomposicao[\"OrganizacaoAR\"][\"ComissaoPermanente\"][\"DetalheOrgao\"]:\n",
    "    print(i)\n",
    "    "
   ]
  },
  {
   "cell_type": "code",
   "execution_count": 187,
   "metadata": {},
   "outputs": [
    {
     "data": {
      "text/plain": [
       "{'idOrgao': '4445',\n",
       " 'siglaOrgao': 'CP',\n",
       " 'nomeSigla': 'Comissão Permanente',\n",
       " 'numeroOrgao': '0',\n",
       " 'siglaLegislatura': 'XIII'}"
      ]
     },
     "execution_count": 187,
     "metadata": {},
     "output_type": "execute_result"
    }
   ],
   "source": [
    "# Detalhe:\n",
    "data_orgaocomposicao[\"OrganizacaoAR\"][\"ComissaoPermanente\"][\"DetalheOrgao\"]\n"
   ]
  },
  {
   "cell_type": "markdown",
   "metadata": {},
   "source": [
    "<br>\n",
    "<br>\n",
    "\n",
    "> ## 12.05 - MesaAR\n",
    "> \n",
    "> _12 // Composicao de Orgaos_"
   ]
  },
  {
   "cell_type": "code",
   "execution_count": 188,
   "metadata": {},
   "outputs": [
    {
     "name": "stdout",
     "output_type": "stream",
     "text": [
      "DetalheOrgao\n",
      "HistoricoComposicao\n"
     ]
    }
   ],
   "source": [
    "for i in data_orgaocomposicao[\"OrganizacaoAR\"][\"MesaAR\"]:\n",
    "    print(i)\n",
    "    "
   ]
  },
  {
   "cell_type": "code",
   "execution_count": 189,
   "metadata": {},
   "outputs": [],
   "source": [
    "# Example:\n",
    "data_orgaocomposicao[\"OrganizacaoAR\"][\"MesaAR\"];\n"
   ]
  },
  {
   "cell_type": "markdown",
   "metadata": {},
   "source": [
    "<br>\n",
    "<br>\n",
    "\n",
    "> > ### 12.05.01 - Historico Composicao\n",
    "> > \n",
    "> > _12.05 // MesaAR_  \n",
    "> > _12 // Composicao de Orgaos_"
   ]
  },
  {
   "cell_type": "code",
   "execution_count": 190,
   "metadata": {},
   "outputs": [
    {
     "name": "stdout",
     "output_type": "stream",
     "text": [
      "legDes\n",
      "depId\n",
      "depCadId\n",
      "depNomeParlamentar\n",
      "depGP\n",
      "depCargo\n"
     ]
    }
   ],
   "source": [
    "for i in data_orgaocomposicao[\"OrganizacaoAR\"][\"MesaAR\"][\"HistoricoComposicao\"][\"pt_ar_wsgode_objectos_DadosMesaComposicaoHistorico\"][0]:\n",
    "    print(i)\n",
    "    "
   ]
  },
  {
   "cell_type": "code",
   "execution_count": 191,
   "metadata": {},
   "outputs": [
    {
     "data": {
      "text/plain": [
       "{'legDes': 'XIII',\n",
       " 'depId': '8550',\n",
       " 'depCadId': '2167',\n",
       " 'depNomeParlamentar': 'ABEL BAPTISTA',\n",
       " 'depGP': {'pt_ar_wsgode_objectos_DadosSituacaoGP': {'gpId': '4467',\n",
       "   'gpSigla': 'CDS-PP',\n",
       "   'gpDtInicio': '2015-10-23'}},\n",
       " 'depCargo': {'pt_ar_wsgode_objectos_DadosCargoDeputado': {'carId': '5',\n",
       "   'carDes': 'Secretário',\n",
       "   'carDtInicio': '2015-10-28',\n",
       "   'carDtFim': '2016-09-16'}}}"
      ]
     },
     "execution_count": 191,
     "metadata": {},
     "output_type": "execute_result"
    }
   ],
   "source": [
    "# Example:\n",
    "data_orgaocomposicao[\"OrganizacaoAR\"][\"MesaAR\"][\"HistoricoComposicao\"][\"pt_ar_wsgode_objectos_DadosMesaComposicaoHistorico\"][0]\n"
   ]
  },
  {
   "cell_type": "markdown",
   "metadata": {},
   "source": [
    "<br>\n",
    "<br>\n",
    "\n",
    "> > > #### 12.05.01.01 - Dados Mesa Composicao Historico\n",
    "> > > \n",
    "> > > _12.05.01 // Historico Composicao_  \n",
    "> > > _12.05 // MesaAR_  \n",
    "> > > _12 // Composicao de Orgaos_  "
   ]
  },
  {
   "cell_type": "code",
   "execution_count": 192,
   "metadata": {},
   "outputs": [
    {
     "name": "stdout",
     "output_type": "stream",
     "text": [
      "gpId\n",
      "gpSigla\n",
      "gpDtInicio\n"
     ]
    }
   ],
   "source": [
    "for i in data_orgaocomposicao[\"OrganizacaoAR\"][\"MesaAR\"][\"HistoricoComposicao\"][\"pt_ar_wsgode_objectos_DadosMesaComposicaoHistorico\"][0][\"depGP\"][\"pt_ar_wsgode_objectos_DadosSituacaoGP\"]:\n",
    "    print(i)\n",
    "    "
   ]
  },
  {
   "cell_type": "code",
   "execution_count": 193,
   "metadata": {},
   "outputs": [
    {
     "data": {
      "text/plain": [
       "{'gpId': '4467', 'gpSigla': 'CDS-PP', 'gpDtInicio': '2015-10-23'}"
      ]
     },
     "execution_count": 193,
     "metadata": {},
     "output_type": "execute_result"
    }
   ],
   "source": [
    "# Example:\n",
    "data_orgaocomposicao[\"OrganizacaoAR\"][\"MesaAR\"][\"HistoricoComposicao\"][\"pt_ar_wsgode_objectos_DadosMesaComposicaoHistorico\"][0][\"depGP\"][\"pt_ar_wsgode_objectos_DadosSituacaoGP\"]"
   ]
  },
  {
   "cell_type": "markdown",
   "metadata": {},
   "source": [
    "<br>\n",
    "<br>\n",
    "\n",
    "> > > #### 12.05.01.02 - Cados Cargo Deputado\n",
    "> > > \n",
    "> > > _12.05.01 // Historico Composicao_  \n",
    "> > > _12.05 // MesaAR_  \n",
    "> > > _12 // Composicao de Orgaos_  "
   ]
  },
  {
   "cell_type": "code",
   "execution_count": 194,
   "metadata": {},
   "outputs": [
    {
     "name": "stdout",
     "output_type": "stream",
     "text": [
      "carId\n",
      "carDes\n",
      "carDtInicio\n",
      "carDtFim\n"
     ]
    }
   ],
   "source": [
    "for i in data_orgaocomposicao[\"OrganizacaoAR\"][\"MesaAR\"][\"HistoricoComposicao\"][\"pt_ar_wsgode_objectos_DadosMesaComposicaoHistorico\"][0][\"depCargo\"][\"pt_ar_wsgode_objectos_DadosCargoDeputado\"]:\n",
    "    print(i)\n",
    "    "
   ]
  },
  {
   "cell_type": "code",
   "execution_count": 195,
   "metadata": {},
   "outputs": [
    {
     "data": {
      "text/plain": [
       "{'carId': '5',\n",
       " 'carDes': 'Secretário',\n",
       " 'carDtInicio': '2015-10-28',\n",
       " 'carDtFim': '2016-09-16'}"
      ]
     },
     "execution_count": 195,
     "metadata": {},
     "output_type": "execute_result"
    }
   ],
   "source": [
    "# Example:\n",
    "data_orgaocomposicao[\"OrganizacaoAR\"][\"MesaAR\"][\"HistoricoComposicao\"][\"pt_ar_wsgode_objectos_DadosMesaComposicaoHistorico\"][0][\"depCargo\"][\"pt_ar_wsgode_objectos_DadosCargoDeputado\"]\n"
   ]
  },
  {
   "cell_type": "markdown",
   "metadata": {},
   "source": [
    "<br>\n",
    "<br>\n",
    "\n",
    "> > ### 12.05.02 - Detalhe Orgao\n",
    "> > \n",
    "> > _12.05 // MesaAR_  \n",
    "> > _12 // Composicao de Orgaos_"
   ]
  },
  {
   "cell_type": "code",
   "execution_count": 196,
   "metadata": {},
   "outputs": [
    {
     "name": "stdout",
     "output_type": "stream",
     "text": [
      "orgId\n",
      "orgNumero\n",
      "orgSigla\n",
      "orgTioId\n",
      "orgSuoId\n",
      "legDes\n"
     ]
    }
   ],
   "source": [
    "for i in data_orgaocomposicao[\"OrganizacaoAR\"][\"MesaAR\"][\"DetalheOrgao\"]:\n",
    "    print(i)\n",
    "    "
   ]
  },
  {
   "cell_type": "code",
   "execution_count": 197,
   "metadata": {},
   "outputs": [
    {
     "data": {
      "text/plain": [
       "{'orgId': '0',\n",
       " 'orgNumero': '0',\n",
       " 'orgSigla': 'Composição da Mesa da AR',\n",
       " 'orgTioId': '0',\n",
       " 'orgSuoId': '0',\n",
       " 'legDes': 'XIII'}"
      ]
     },
     "execution_count": 197,
     "metadata": {},
     "output_type": "execute_result"
    }
   ],
   "source": [
    "# Example:\n",
    "data_orgaocomposicao[\"OrganizacaoAR\"][\"MesaAR\"][\"DetalheOrgao\"]"
   ]
  },
  {
   "cell_type": "markdown",
   "metadata": {},
   "source": [
    "<br>\n",
    "<br>\n",
    "\n",
    "> ## 12.06 - Comissoes\n",
    "> \n",
    "> _12 // Composicao de Orgaos_"
   ]
  },
  {
   "cell_type": "code",
   "execution_count": 198,
   "metadata": {},
   "outputs": [
    {
     "name": "stdout",
     "output_type": "stream",
     "text": [
      "HistoricoComposicao\n",
      "Reunioes\n",
      "DetalheOrgao\n"
     ]
    }
   ],
   "source": [
    "for i in data_orgaocomposicao[\"OrganizacaoAR\"][\"Comissoes\"][\"Orgao\"][0]:\n",
    "    print(i)\n",
    "    "
   ]
  },
  {
   "cell_type": "code",
   "execution_count": 199,
   "metadata": {},
   "outputs": [],
   "source": [
    "# Example:\n",
    "data_orgaocomposicao[\"OrganizacaoAR\"][\"Comissoes\"][\"Orgao\"][0];\n"
   ]
  },
  {
   "cell_type": "markdown",
   "metadata": {},
   "source": [
    "<br>\n",
    "<br>\n",
    "\n",
    "> > ### 12.06.01 - Historico Composicao\n",
    "> > \n",
    "> > _12.06 // Comissoes_  \n",
    "> > _12 // Composicao de Orgaos_"
   ]
  },
  {
   "cell_type": "code",
   "execution_count": 200,
   "metadata": {},
   "outputs": [
    {
     "name": "stdout",
     "output_type": "stream",
     "text": [
      "legDes\n",
      "depId\n",
      "depCadId\n",
      "depNomeParlamentar\n",
      "depGP\n",
      "depSituacao\n",
      "orgId\n"
     ]
    }
   ],
   "source": [
    "for i in data_orgaocomposicao[\"OrganizacaoAR\"][\"Comissoes\"][\"Orgao\"][0][\"HistoricoComposicao\"][\"pt_ar_wsgode_objectos_DadosOrgaoComposicaoHistorico\"][0]:\n",
    "    print(i)\n",
    "    "
   ]
  },
  {
   "cell_type": "code",
   "execution_count": 201,
   "metadata": {},
   "outputs": [
    {
     "data": {
      "text/plain": [
       "{'legDes': 'XIII',\n",
       " 'depId': '8550',\n",
       " 'depCadId': '2167',\n",
       " 'depNomeParlamentar': 'ABEL BAPTISTA',\n",
       " 'depGP': {'pt_ar_wsgode_objectos_DadosSituacaoGP': {'gpId': '4467',\n",
       "   'gpSigla': 'CDS-PP',\n",
       "   'gpDtInicio': '2015-10-23'}},\n",
       " 'depSituacao': {'pt_ar_wsgode_objectos_DadosSituacaoOrgaoDeputado': [{'sioDes': 'Inativo',\n",
       "    'sioTipMem': 'Efetivo',\n",
       "    'sioDtInicio': '2016-09-16'},\n",
       "   {'sioDes': 'Ativo',\n",
       "    'sioTipMem': 'Suplente',\n",
       "    'sioDtInicio': '2015-11-12',\n",
       "    'sioDtFim': '2016-09-16'}]},\n",
       " 'orgId': '4534'}"
      ]
     },
     "execution_count": 201,
     "metadata": {},
     "output_type": "execute_result"
    }
   ],
   "source": [
    "# Example:\n",
    "data_orgaocomposicao[\"OrganizacaoAR\"][\"Comissoes\"][\"Orgao\"][0][\"HistoricoComposicao\"][\"pt_ar_wsgode_objectos_DadosOrgaoComposicaoHistorico\"][0]"
   ]
  },
  {
   "cell_type": "markdown",
   "metadata": {},
   "source": [
    "<br>\n",
    "<br>\n",
    "\n",
    "> > ### 12.06.01.01 - Dados Situacao Grupo Parlamentar\n",
    "> > \n",
    "> > _12.06.01 // Historico Composicao_  \n",
    "> > _12.06 // Comissoes_  \n",
    "> > _12 // Composicao de Orgaos_"
   ]
  },
  {
   "cell_type": "code",
   "execution_count": 202,
   "metadata": {},
   "outputs": [
    {
     "name": "stdout",
     "output_type": "stream",
     "text": [
      "gpId\n",
      "gpSigla\n",
      "gpDtInicio\n"
     ]
    }
   ],
   "source": [
    "for i in data_orgaocomposicao[\"OrganizacaoAR\"][\"ComissaoPermanente\"][\"HistoricoComposicao\"][\"pt_ar_wsgode_objectos_DadosOrgaoComposicaoHistorico\"][0][\"depGP\"][\"pt_ar_wsgode_objectos_DadosSituacaoGP\"]:\n",
    "    print(i)\n",
    "    "
   ]
  },
  {
   "cell_type": "code",
   "execution_count": 203,
   "metadata": {},
   "outputs": [
    {
     "data": {
      "text/plain": [
       "{'gpId': '4465', 'gpSigla': 'PS', 'gpDtInicio': '2015-10-23'}"
      ]
     },
     "execution_count": 203,
     "metadata": {},
     "output_type": "execute_result"
    }
   ],
   "source": [
    "# Example:\n",
    "data_orgaocomposicao[\"OrganizacaoAR\"][\"ComissaoPermanente\"][\"HistoricoComposicao\"][\"pt_ar_wsgode_objectos_DadosOrgaoComposicaoHistorico\"][0][\"depGP\"][\"pt_ar_wsgode_objectos_DadosSituacaoGP\"]\n"
   ]
  },
  {
   "cell_type": "markdown",
   "metadata": {},
   "source": [
    "<br>\n",
    "<br>\n",
    "\n",
    "> > ### 12.06.01.02 - Dados Situacao Orgao Deputado\n",
    "> > \n",
    "> > _12.06.01 // Historico Composicao_  \n",
    "> > _12.06 // Comissoes_  \n",
    "> > _12 // Composicao de Orgaos_"
   ]
  },
  {
   "cell_type": "code",
   "execution_count": 204,
   "metadata": {},
   "outputs": [
    {
     "name": "stdout",
     "output_type": "stream",
     "text": [
      "sioDes\n",
      "sioTipMem\n",
      "sioDtInicio\n"
     ]
    }
   ],
   "source": [
    "for i in data_orgaocomposicao[\"OrganizacaoAR\"][\"ComissaoPermanente\"][\"HistoricoComposicao\"][\"pt_ar_wsgode_objectos_DadosOrgaoComposicaoHistorico\"][0][\"depSituacao\"][\"pt_ar_wsgode_objectos_DadosSituacaoOrgaoDeputado\"]:\n",
    "    print(i)\n",
    "    "
   ]
  },
  {
   "cell_type": "code",
   "execution_count": 205,
   "metadata": {},
   "outputs": [
    {
     "data": {
      "text/plain": [
       "{'sioDes': 'Ativo', 'sioTipMem': 'Efetivo', 'sioDtInicio': '2016-07-14'}"
      ]
     },
     "execution_count": 205,
     "metadata": {},
     "output_type": "execute_result"
    }
   ],
   "source": [
    "# Example:\n",
    "data_orgaocomposicao[\"OrganizacaoAR\"][\"ComissaoPermanente\"][\"HistoricoComposicao\"][\"pt_ar_wsgode_objectos_DadosOrgaoComposicaoHistorico\"][0][\"depSituacao\"][\"pt_ar_wsgode_objectos_DadosSituacaoOrgaoDeputado\"]"
   ]
  },
  {
   "cell_type": "markdown",
   "metadata": {},
   "source": [
    "<br>\n",
    "<br>\n",
    "\n",
    "> > ### 12.06.02 - Reunioes\n",
    "> > \n",
    "> > _12.06 // Comissoes_  \n",
    "> > _12 // Composicao de Orgaos_"
   ]
  },
  {
   "cell_type": "code",
   "execution_count": 206,
   "metadata": {},
   "outputs": [
    {
     "name": "stdout",
     "output_type": "stream",
     "text": [
      "reuId\n",
      "reuNumero\n",
      "reuDataHora\n",
      "reuFinalPlenario\n",
      "reuLocal\n",
      "reuTirDes\n",
      "reuTarId\n",
      "reuTarSigla\n",
      "reuTarDes\n"
     ]
    }
   ],
   "source": [
    "for i in data_orgaocomposicao[\"OrganizacaoAR\"][\"Comissoes\"][\"Orgao\"][0][\"Reunioes\"][\"pt_ar_wsgode_objectos_DadosReuniao\"][0]:\n",
    "    print(i)\n",
    "    "
   ]
  },
  {
   "cell_type": "code",
   "execution_count": 207,
   "metadata": {},
   "outputs": [
    {
     "data": {
      "text/plain": [
       "{'reuId': '184375',\n",
       " 'reuNumero': '146',\n",
       " 'reuDataHora': '2018-04-10 14:00',\n",
       " 'reuFinalPlenario': 'N',\n",
       " 'reuLocal': 'sala Senado',\n",
       " 'reuTirDes': 'Ordinária',\n",
       " 'reuTarId': '1',\n",
       " 'reuTarSigla': 'OE',\n",
       " 'reuTarDes': 'Ordinária/Extraordinária'}"
      ]
     },
     "execution_count": 207,
     "metadata": {},
     "output_type": "execute_result"
    }
   ],
   "source": [
    "data_orgaocomposicao[\"OrganizacaoAR\"][\"Comissoes\"][\"Orgao\"][0][\"Reunioes\"][\"pt_ar_wsgode_objectos_DadosReuniao\"][0]"
   ]
  },
  {
   "cell_type": "markdown",
   "metadata": {},
   "source": [
    "<br>\n",
    "<br>\n",
    "\n",
    "> > ### 12.06.03 - Detalhe Orgao\n",
    "> > \n",
    "> > _12.06 // Comissoes_  \n",
    "> > _12 // Composicao de Orgaos_"
   ]
  },
  {
   "cell_type": "code",
   "execution_count": 208,
   "metadata": {},
   "outputs": [
    {
     "name": "stdout",
     "output_type": "stream",
     "text": [
      "idOrgao\n",
      "siglaOrgao\n",
      "nomeSigla\n",
      "numeroOrgao\n",
      "siglaLegislatura\n"
     ]
    }
   ],
   "source": [
    "for i in data_orgaocomposicao[\"OrganizacaoAR\"][\"Comissoes\"][\"Orgao\"][0][\"DetalheOrgao\"]:\n",
    "    print(i)\n",
    "    "
   ]
  },
  {
   "cell_type": "code",
   "execution_count": 209,
   "metadata": {},
   "outputs": [
    {
     "data": {
      "text/plain": [
       "{'idOrgao': '4534',\n",
       " 'siglaOrgao': 'CO',\n",
       " 'nomeSigla': 'Comissão de Ambiente, Ordenamento do Território, Descentralização, Poder Local e Habitação',\n",
       " 'numeroOrgao': '11',\n",
       " 'siglaLegislatura': 'XIII'}"
      ]
     },
     "execution_count": 209,
     "metadata": {},
     "output_type": "execute_result"
    }
   ],
   "source": [
    "data_orgaocomposicao[\"OrganizacaoAR\"][\"Comissoes\"][\"Orgao\"][0][\"DetalheOrgao\"]"
   ]
  },
  {
   "cell_type": "markdown",
   "metadata": {},
   "source": [
    "<br>\n",
    "<br>\n",
    "\n",
    "> ## 12.07 - SubComissoes\n",
    "> \n",
    "> _12 // Composicao de Orgaos_"
   ]
  },
  {
   "cell_type": "code",
   "execution_count": 210,
   "metadata": {},
   "outputs": [
    {
     "name": "stdout",
     "output_type": "stream",
     "text": [
      "HistoricoComposicao\n",
      "Reunioes\n",
      "DetalheOrgao\n"
     ]
    }
   ],
   "source": [
    "for i in data_orgaocomposicao[\"OrganizacaoAR\"][\"SubComissoes\"][\"Orgao\"][0]:\n",
    "    print(i)\n",
    "    "
   ]
  },
  {
   "cell_type": "code",
   "execution_count": 211,
   "metadata": {},
   "outputs": [],
   "source": [
    "# Example:\n",
    "data_orgaocomposicao[\"OrganizacaoAR\"][\"SubComissoes\"][\"Orgao\"][0];\n"
   ]
  },
  {
   "cell_type": "markdown",
   "metadata": {},
   "source": [
    "<br>\n",
    "<br>\n",
    "\n",
    "> > ### 12.07.01 - Historico Composicao\n",
    "> > \n",
    "> > _12.07 // SubComissoes_  \n",
    "> > _12 // Composicao de Orgaos_"
   ]
  },
  {
   "cell_type": "code",
   "execution_count": 212,
   "metadata": {},
   "outputs": [
    {
     "name": "stdout",
     "output_type": "stream",
     "text": [
      "legDes\n",
      "depId\n",
      "depCadId\n",
      "depNomeParlamentar\n",
      "depGP\n",
      "depSituacao\n",
      "orgId\n"
     ]
    }
   ],
   "source": [
    "for i in data_orgaocomposicao[\"OrganizacaoAR\"][\"SubComissoes\"][\"Orgao\"][0][\"HistoricoComposicao\"][\"pt_ar_wsgode_objectos_DadosOrgaoComposicaoHistorico\"][0]:\n",
    "    print(i)\n",
    "    "
   ]
  },
  {
   "cell_type": "code",
   "execution_count": 213,
   "metadata": {},
   "outputs": [
    {
     "data": {
      "text/plain": [
       "{'legDes': 'XIII',\n",
       " 'depId': '8535',\n",
       " 'depCadId': '1656',\n",
       " 'depNomeParlamentar': 'ANTÓNIO CARLOS MONTEIRO',\n",
       " 'depGP': {'pt_ar_wsgode_objectos_DadosSituacaoGP': {'gpId': '4467',\n",
       "   'gpSigla': 'CDS-PP',\n",
       "   'gpDtInicio': '2015-10-23'}},\n",
       " 'depSituacao': {'pt_ar_wsgode_objectos_DadosSituacaoOrgaoDeputado': {'sioDes': 'Ativo',\n",
       "   'sioTipMem': 'Efetivo',\n",
       "   'sioDtInicio': '2015-12-18'}},\n",
       " 'orgId': '4644'}"
      ]
     },
     "execution_count": 213,
     "metadata": {},
     "output_type": "execute_result"
    }
   ],
   "source": [
    "# Example:\n",
    "data_orgaocomposicao[\"OrganizacaoAR\"][\"SubComissoes\"][\"Orgao\"][0][\"HistoricoComposicao\"][\"pt_ar_wsgode_objectos_DadosOrgaoComposicaoHistorico\"][0]"
   ]
  },
  {
   "cell_type": "markdown",
   "metadata": {},
   "source": [
    "<br>\n",
    "<br>\n",
    "\n",
    "> > > ### 12.07.01.01 - Dados Situacao Grupo Parlamentar\n",
    "> > > \n",
    "> > > _12.07.01 // Historico Composicao_  \n",
    "> > > _12.07 // SubComissoes_  \n",
    "> > > _12 // Composicao de Orgaos_"
   ]
  },
  {
   "cell_type": "code",
   "execution_count": 214,
   "metadata": {},
   "outputs": [
    {
     "name": "stdout",
     "output_type": "stream",
     "text": [
      "gpId\n",
      "gpSigla\n",
      "gpDtInicio\n"
     ]
    }
   ],
   "source": [
    "for i in data_orgaocomposicao[\"OrganizacaoAR\"][\"SubComissoes\"][\"Orgao\"][0][\"HistoricoComposicao\"][\"pt_ar_wsgode_objectos_DadosOrgaoComposicaoHistorico\"][0][\"depGP\"][\"pt_ar_wsgode_objectos_DadosSituacaoGP\"]:\n",
    "    print(i)\n",
    "    "
   ]
  },
  {
   "cell_type": "code",
   "execution_count": 215,
   "metadata": {},
   "outputs": [
    {
     "data": {
      "text/plain": [
       "{'gpId': '4467', 'gpSigla': 'CDS-PP', 'gpDtInicio': '2015-10-23'}"
      ]
     },
     "execution_count": 215,
     "metadata": {},
     "output_type": "execute_result"
    }
   ],
   "source": [
    "# Example:\n",
    "data_orgaocomposicao[\"OrganizacaoAR\"][\"SubComissoes\"][\"Orgao\"][0][\"HistoricoComposicao\"][\"pt_ar_wsgode_objectos_DadosOrgaoComposicaoHistorico\"][0][\"depGP\"][\"pt_ar_wsgode_objectos_DadosSituacaoGP\"]"
   ]
  },
  {
   "cell_type": "markdown",
   "metadata": {},
   "source": [
    "<br>\n",
    "<br>\n",
    "\n",
    "> > > ### 12.07.01.02 - Dados Situacao Orgao Deputado\n",
    "> > > \n",
    "> > > _12.07.01 // Historico Composicao_  \n",
    "> > > _12.07 // SubComissoes_  \n",
    "> > > _12 // Composicao de Orgaos_"
   ]
  },
  {
   "cell_type": "code",
   "execution_count": 216,
   "metadata": {},
   "outputs": [
    {
     "name": "stdout",
     "output_type": "stream",
     "text": [
      "sioDes\n",
      "sioTipMem\n",
      "sioDtInicio\n"
     ]
    }
   ],
   "source": [
    "for i in data_orgaocomposicao[\"OrganizacaoAR\"][\"SubComissoes\"][\"Orgao\"][0][\"HistoricoComposicao\"][\"pt_ar_wsgode_objectos_DadosOrgaoComposicaoHistorico\"][0][\"depSituacao\"][\"pt_ar_wsgode_objectos_DadosSituacaoOrgaoDeputado\"]:\n",
    "    print(i)\n",
    "    "
   ]
  },
  {
   "cell_type": "code",
   "execution_count": 217,
   "metadata": {},
   "outputs": [
    {
     "data": {
      "text/plain": [
       "{'sioDes': 'Ativo', 'sioTipMem': 'Efetivo', 'sioDtInicio': '2015-12-18'}"
      ]
     },
     "execution_count": 217,
     "metadata": {},
     "output_type": "execute_result"
    }
   ],
   "source": [
    "# Example:\n",
    "data_orgaocomposicao[\"OrganizacaoAR\"][\"SubComissoes\"][\"Orgao\"][0][\"HistoricoComposicao\"][\"pt_ar_wsgode_objectos_DadosOrgaoComposicaoHistorico\"][0][\"depSituacao\"][\"pt_ar_wsgode_objectos_DadosSituacaoOrgaoDeputado\"]"
   ]
  },
  {
   "cell_type": "markdown",
   "metadata": {},
   "source": [
    "<br>\n",
    "<br>\n",
    "\n",
    "> > ### 12.07.02 - Reunioes\n",
    "> > \n",
    "> > _12.07 // SubComissoes_  \n",
    "> > _12 // Composicao de Orgaos_"
   ]
  },
  {
   "cell_type": "code",
   "execution_count": 218,
   "metadata": {},
   "outputs": [
    {
     "name": "stdout",
     "output_type": "stream",
     "text": [
      "reuId\n",
      "reuNumero\n",
      "reuDataHora\n",
      "reuFinalPlenario\n",
      "reuLocal\n",
      "reuTirDes\n",
      "reuTarId\n",
      "reuTarSigla\n",
      "reuTarDes\n"
     ]
    }
   ],
   "source": [
    "for i in data_orgaocomposicao[\"OrganizacaoAR\"][\"SubComissoes\"][\"Orgao\"][0][\"Reunioes\"][\"pt_ar_wsgode_objectos_DadosReuniao\"][0]:\n",
    "    print(i)\n",
    "    "
   ]
  },
  {
   "cell_type": "code",
   "execution_count": 219,
   "metadata": {},
   "outputs": [
    {
     "data": {
      "text/plain": [
       "{'reuId': '184486',\n",
       " 'reuNumero': '59',\n",
       " 'reuDataHora': '2018-04-11 12:30',\n",
       " 'reuFinalPlenario': 'N',\n",
       " 'reuLocal': 'sala 1',\n",
       " 'reuTirDes': 'Ordinária',\n",
       " 'reuTarId': '13',\n",
       " 'reuTarSigla': 'OR',\n",
       " 'reuTarDes': 'Ordinária'}"
      ]
     },
     "execution_count": 219,
     "metadata": {},
     "output_type": "execute_result"
    }
   ],
   "source": [
    "# Example:\n",
    "data_orgaocomposicao[\"OrganizacaoAR\"][\"SubComissoes\"][\"Orgao\"][0][\"Reunioes\"][\"pt_ar_wsgode_objectos_DadosReuniao\"][0]"
   ]
  },
  {
   "cell_type": "markdown",
   "metadata": {},
   "source": [
    "<br>\n",
    "<br>\n",
    "\n",
    "> > ### 12.07.03 - Detalhe Orgao\n",
    "> > \n",
    "> > _12.07 // SubComissoes_  \n",
    "> > _12 // Composicao de Orgaos_"
   ]
  },
  {
   "cell_type": "code",
   "execution_count": 220,
   "metadata": {},
   "outputs": [
    {
     "name": "stdout",
     "output_type": "stream",
     "text": [
      "idOrgao\n",
      "siglaOrgao\n",
      "nomeSigla\n",
      "numeroOrgao\n",
      "siglaLegislatura\n"
     ]
    }
   ],
   "source": [
    "for i in data_orgaocomposicao[\"OrganizacaoAR\"][\"SubComissoes\"][\"Orgao\"][0][\"DetalheOrgao\"]:\n",
    "    print(i)\n",
    "    "
   ]
  },
  {
   "cell_type": "code",
   "execution_count": 221,
   "metadata": {},
   "outputs": [
    {
     "data": {
      "text/plain": [
       "{'idOrgao': '4644',\n",
       " 'siglaOrgao': 'SC',\n",
       " 'nomeSigla': 'Subcomissão de Ética',\n",
       " 'numeroOrgao': '1',\n",
       " 'siglaLegislatura': 'XIII'}"
      ]
     },
     "execution_count": 221,
     "metadata": {},
     "output_type": "execute_result"
    }
   ],
   "source": [
    "data_orgaocomposicao[\"OrganizacaoAR\"][\"SubComissoes\"][\"Orgao\"][0][\"DetalheOrgao\"]"
   ]
  },
  {
   "cell_type": "markdown",
   "metadata": {},
   "source": [
    "<br>\n",
    "<br>\n",
    "\n",
    "> ## 12.08 - Grupos Trabalho\n",
    "> \n",
    "> _12 // Composicao de Orgaos_"
   ]
  },
  {
   "cell_type": "code",
   "execution_count": 222,
   "metadata": {},
   "outputs": [
    {
     "name": "stdout",
     "output_type": "stream",
     "text": [
      "HistoricoComposicao\n",
      "DetalheOrgao\n"
     ]
    }
   ],
   "source": [
    "for i in data_orgaocomposicao[\"OrganizacaoAR\"][\"GruposTrabalho\"][\"Orgao\"][0]:\n",
    "    print(i)\n",
    "    "
   ]
  },
  {
   "cell_type": "code",
   "execution_count": 223,
   "metadata": {},
   "outputs": [],
   "source": [
    "# Example:\n",
    "data_orgaocomposicao[\"OrganizacaoAR\"][\"GruposTrabalho\"][\"Orgao\"][0];"
   ]
  },
  {
   "cell_type": "markdown",
   "metadata": {},
   "source": [
    "<br>\n",
    "<br>\n",
    "\n",
    "> > ### 12.08.01 - Historico Composicao\n",
    "> > \n",
    "> > _12.08 // Grupos de Trabalho_  \n",
    "> > _12 // Composicao de Orgaos_"
   ]
  },
  {
   "cell_type": "code",
   "execution_count": 224,
   "metadata": {},
   "outputs": [
    {
     "name": "stdout",
     "output_type": "stream",
     "text": [
      "legDes\n",
      "depId\n",
      "depCadId\n",
      "depNomeParlamentar\n",
      "depGP\n",
      "depSituacao\n",
      "orgId\n"
     ]
    }
   ],
   "source": [
    "for i in data_orgaocomposicao[\"OrganizacaoAR\"][\"GruposTrabalho\"][\"Orgao\"][0][\"HistoricoComposicao\"][\"pt_ar_wsgode_objectos_DadosOrgaoComposicaoHistorico\"][0]:\n",
    "    print(i)\n",
    "    "
   ]
  },
  {
   "cell_type": "code",
   "execution_count": 225,
   "metadata": {},
   "outputs": [
    {
     "data": {
      "text/plain": [
       "{'legDes': 'XIII',\n",
       " 'depId': '9421',\n",
       " 'depCadId': '5777',\n",
       " 'depNomeParlamentar': 'ANDRÉ SILVA',\n",
       " 'depGP': {'pt_ar_wsgode_objectos_DadosSituacaoGP': {'gpId': '4484',\n",
       "   'gpSigla': 'PAN',\n",
       "   'gpDtInicio': '2015-10-23'}},\n",
       " 'depSituacao': {'pt_ar_wsgode_objectos_DadosSituacaoOrgaoDeputado': {'sioDes': 'Ativo',\n",
       "   'sioTipMem': 'Efetivo',\n",
       "   'sioDtInicio': '2017-07-05'}},\n",
       " 'orgId': '6244'}"
      ]
     },
     "execution_count": 225,
     "metadata": {},
     "output_type": "execute_result"
    }
   ],
   "source": [
    "# Example:\n",
    "data_orgaocomposicao[\"OrganizacaoAR\"][\"GruposTrabalho\"][\"Orgao\"][0][\"HistoricoComposicao\"][\"pt_ar_wsgode_objectos_DadosOrgaoComposicaoHistorico\"][0]"
   ]
  },
  {
   "cell_type": "markdown",
   "metadata": {},
   "source": [
    "<br>\n",
    "<br>\n",
    "\n",
    "> > > ### 12.08.01.01 - Dados Situacao Grupo Parlamentar\n",
    "> > > \n",
    "> > > _12.08.01 // Historico Composicao_  \n",
    "> > > _12.08 // Grupos de Trabalho_    \n",
    "> > > _12 // Composicao de Orgaos_"
   ]
  },
  {
   "cell_type": "code",
   "execution_count": 226,
   "metadata": {},
   "outputs": [
    {
     "name": "stdout",
     "output_type": "stream",
     "text": [
      "gpId\n",
      "gpSigla\n",
      "gpDtInicio\n"
     ]
    }
   ],
   "source": [
    "for i in data_orgaocomposicao[\"OrganizacaoAR\"][\"GruposTrabalho\"][\"Orgao\"][0][\"HistoricoComposicao\"][\"pt_ar_wsgode_objectos_DadosOrgaoComposicaoHistorico\"][0][\"depGP\"][\"pt_ar_wsgode_objectos_DadosSituacaoGP\"]:\n",
    "    print(i)\n",
    "    "
   ]
  },
  {
   "cell_type": "code",
   "execution_count": 227,
   "metadata": {},
   "outputs": [
    {
     "data": {
      "text/plain": [
       "{'gpId': '4484', 'gpSigla': 'PAN', 'gpDtInicio': '2015-10-23'}"
      ]
     },
     "execution_count": 227,
     "metadata": {},
     "output_type": "execute_result"
    }
   ],
   "source": [
    "# Example:\n",
    "data_orgaocomposicao[\"OrganizacaoAR\"][\"GruposTrabalho\"][\"Orgao\"][0][\"HistoricoComposicao\"][\"pt_ar_wsgode_objectos_DadosOrgaoComposicaoHistorico\"][0][\"depGP\"][\"pt_ar_wsgode_objectos_DadosSituacaoGP\"]\n"
   ]
  },
  {
   "cell_type": "markdown",
   "metadata": {},
   "source": [
    "<br>\n",
    "<br>\n",
    "\n",
    "> > > ### 12.08.01.02 - Dados Situacao Orgao Deputado\n",
    "> > > \n",
    "> > > _12.08.01 // Historico Composicao_  \n",
    "> > > _12.08 // Grupos de Trabalho_    \n",
    "> > > _12 // Composicao de Orgaos_"
   ]
  },
  {
   "cell_type": "code",
   "execution_count": 228,
   "metadata": {},
   "outputs": [
    {
     "name": "stdout",
     "output_type": "stream",
     "text": [
      "sioDes\n",
      "sioTipMem\n",
      "sioDtInicio\n"
     ]
    }
   ],
   "source": [
    "for i in data_orgaocomposicao[\"OrganizacaoAR\"][\"GruposTrabalho\"][\"Orgao\"][0][\"HistoricoComposicao\"][\"pt_ar_wsgode_objectos_DadosOrgaoComposicaoHistorico\"][0][\"depSituacao\"][\"pt_ar_wsgode_objectos_DadosSituacaoOrgaoDeputado\"]:\n",
    "    print(i)\n",
    "    "
   ]
  },
  {
   "cell_type": "code",
   "execution_count": 229,
   "metadata": {},
   "outputs": [
    {
     "data": {
      "text/plain": [
       "{'sioDes': 'Ativo', 'sioTipMem': 'Efetivo', 'sioDtInicio': '2017-07-05'}"
      ]
     },
     "execution_count": 229,
     "metadata": {},
     "output_type": "execute_result"
    }
   ],
   "source": [
    "# Example:\n",
    "data_orgaocomposicao[\"OrganizacaoAR\"][\"GruposTrabalho\"][\"Orgao\"][0][\"HistoricoComposicao\"][\"pt_ar_wsgode_objectos_DadosOrgaoComposicaoHistorico\"][0][\"depSituacao\"][\"pt_ar_wsgode_objectos_DadosSituacaoOrgaoDeputado\"]\n"
   ]
  },
  {
   "cell_type": "markdown",
   "metadata": {},
   "source": [
    "<br>\n",
    "<br>\n",
    "\n",
    "> > ### 12.08.02 - Detalhe Orgao\n",
    "> > \n",
    "> > _12.08 // Grupos de Trabalho_    \n",
    "> > _12 // Composicao de Orgaos_"
   ]
  },
  {
   "cell_type": "code",
   "execution_count": 230,
   "metadata": {},
   "outputs": [
    {
     "name": "stdout",
     "output_type": "stream",
     "text": [
      "idOrgao\n",
      "siglaOrgao\n",
      "nomeSigla\n",
      "numeroOrgao\n",
      "siglaLegislatura\n"
     ]
    }
   ],
   "source": [
    "for i in data_orgaocomposicao[\"OrganizacaoAR\"][\"GruposTrabalho\"][\"Orgao\"][0][\"DetalheOrgao\"]:\n",
    "    print(i)\n",
    "    "
   ]
  },
  {
   "cell_type": "code",
   "execution_count": 231,
   "metadata": {},
   "outputs": [
    {
     "data": {
      "text/plain": [
       "{'idOrgao': '6244',\n",
       " 'siglaOrgao': 'GT',\n",
       " 'nomeSigla': 'Grupo de Trabalho - Direito das Grávidas (PJL 555/XIII/PAN e PJL 563/XIII/PEV)',\n",
       " 'numeroOrgao': '43',\n",
       " 'siglaLegislatura': 'XIII'}"
      ]
     },
     "execution_count": 231,
     "metadata": {},
     "output_type": "execute_result"
    }
   ],
   "source": [
    "# Example:\n",
    "data_orgaocomposicao[\"OrganizacaoAR\"][\"GruposTrabalho\"][\"Orgao\"][0][\"DetalheOrgao\"]"
   ]
  },
  {
   "cell_type": "markdown",
   "metadata": {},
   "source": [
    "<br>\n",
    "<br>\n",
    "\n",
    "> ## 12.10 - Grupos de Trabalho AR\n",
    "> \n",
    "> _12 // Composicao de Orgaos_"
   ]
  },
  {
   "cell_type": "code",
   "execution_count": 232,
   "metadata": {},
   "outputs": [
    {
     "name": "stdout",
     "output_type": "stream",
     "text": [
      "None\n"
     ]
    }
   ],
   "source": [
    "print(data_orgaocomposicao[\"OrganizacaoAR\"][\"GruposTrabalhoAR\"])\n",
    "    "
   ]
  },
  {
   "cell_type": "markdown",
   "metadata": {},
   "source": [
    "<br>\n",
    "<br>\n",
    "\n",
    "> ## 12.09 - Plenario\n",
    "> \n",
    "> _12 // Composicao de Orgaos_"
   ]
  },
  {
   "cell_type": "code",
   "execution_count": 233,
   "metadata": {},
   "outputs": [
    {
     "name": "stdout",
     "output_type": "stream",
     "text": [
      "Composicao\n",
      "Reunioes\n",
      "DetalheOrgao\n"
     ]
    }
   ],
   "source": [
    "for i in data_orgaocomposicao[\"OrganizacaoAR\"][\"Plenario\"]:\n",
    "    print(i)\n",
    "    "
   ]
  },
  {
   "cell_type": "code",
   "execution_count": 234,
   "metadata": {},
   "outputs": [],
   "source": [
    "# Example:\n",
    "data_orgaocomposicao[\"OrganizacaoAR\"][\"Plenario\"];\n"
   ]
  },
  {
   "cell_type": "markdown",
   "metadata": {},
   "source": [
    "<br>\n",
    "<br>\n",
    "\n",
    "> > ### 12.09.01 - Composicao, Dados Deputado\n",
    "> > \n",
    "> > _12.09 // Plenario_   \n",
    "> > _12 // Composicao de Orgaos_"
   ]
  },
  {
   "cell_type": "code",
   "execution_count": 235,
   "metadata": {
    "scrolled": true
   },
   "outputs": [
    {
     "name": "stdout",
     "output_type": "stream",
     "text": [
      "depId\n",
      "depCadId\n",
      "depNomeParlamentar\n",
      "depGP\n",
      "depCPId\n",
      "depCPDes\n",
      "legDes\n",
      "depCargo\n",
      "depSituacao\n",
      "depNomeCompleto\n",
      "videos\n"
     ]
    }
   ],
   "source": [
    "for i in data_orgaocomposicao[\"OrganizacaoAR\"][\"Plenario\"][\"Composicao\"][\"pt_ar_wsgode_objectos_DadosDeputadoSearch\"][0]:\n",
    "    print(i)\n",
    "    "
   ]
  },
  {
   "cell_type": "code",
   "execution_count": 236,
   "metadata": {},
   "outputs": [
    {
     "data": {
      "text/plain": [
       "{'depId': '8550',\n",
       " 'depCadId': '2167',\n",
       " 'depNomeParlamentar': 'ABEL BAPTISTA',\n",
       " 'depGP': {'pt_ar_wsgode_objectos_DadosSituacaoGP': {'gpId': '4467',\n",
       "   'gpSigla': 'CDS-PP',\n",
       "   'gpDtInicio': '2015-10-23'}},\n",
       " 'depCPId': '16',\n",
       " 'depCPDes': 'VIANA DO CASTELO',\n",
       " 'legDes': 'XIII',\n",
       " 'depCargo': {'pt_ar_wsgode_objectos_DadosCargoDeputado': {'carId': '5',\n",
       "   'carDes': 'Secretário',\n",
       "   'carDtInicio': '2015-10-28',\n",
       "   'carDtFim': '2016-09-16'}},\n",
       " 'depSituacao': {'pt_ar_wsgode_objectos_DadosSituacaoDeputado': [{'sioDes': 'Renunciou',\n",
       "    'sioDtInicio': '2016-09-16'},\n",
       "   {'sioDes': 'Efetivo',\n",
       "    'sioDtInicio': '2015-10-23',\n",
       "    'sioDtFim': '2016-09-16'}]},\n",
       " 'depNomeCompleto': 'ABEL LIMA BAPTISTA',\n",
       " 'videos': {'pt_ar_wsgode_objectos_DadosVideo': {'tipo': 'Video Biografia',\n",
       "   'url': 'http://media.parlamento.pt/site/XIIILEG/videobiografias/CDS-PP_ABEL_BAPTISTA.mp4'}}}"
      ]
     },
     "execution_count": 236,
     "metadata": {},
     "output_type": "execute_result"
    }
   ],
   "source": [
    "# Example:\n",
    "data_orgaocomposicao[\"OrganizacaoAR\"][\"Plenario\"][\"Composicao\"][\"pt_ar_wsgode_objectos_DadosDeputadoSearch\"][0]\n"
   ]
  },
  {
   "cell_type": "markdown",
   "metadata": {},
   "source": [
    "<br>\n",
    "<br>\n",
    "\n",
    "> > > #### 12.09.01.01 - Dados Situacao Grupo Parlamentar\n",
    "> > > \n",
    "> > > _12.09.01 // Composicao, Dados Deputado_  \n",
    "> > > _12.09 // Plenario_  \n",
    "> > > _12 // Composicao de Orgaos_"
   ]
  },
  {
   "cell_type": "code",
   "execution_count": 237,
   "metadata": {},
   "outputs": [
    {
     "name": "stdout",
     "output_type": "stream",
     "text": [
      "gpId\n",
      "gpSigla\n",
      "gpDtInicio\n"
     ]
    }
   ],
   "source": [
    "for i in data_orgaocomposicao[\"OrganizacaoAR\"][\"Plenario\"][\"Composicao\"][\"pt_ar_wsgode_objectos_DadosDeputadoSearch\"][0][\"depGP\"][\"pt_ar_wsgode_objectos_DadosSituacaoGP\"]:\n",
    "    print(i)\n",
    "    "
   ]
  },
  {
   "cell_type": "code",
   "execution_count": 238,
   "metadata": {},
   "outputs": [
    {
     "data": {
      "text/plain": [
       "{'gpId': '4467', 'gpSigla': 'CDS-PP', 'gpDtInicio': '2015-10-23'}"
      ]
     },
     "execution_count": 238,
     "metadata": {},
     "output_type": "execute_result"
    }
   ],
   "source": [
    "# Example:\n",
    "data_orgaocomposicao[\"OrganizacaoAR\"][\"Plenario\"][\"Composicao\"][\"pt_ar_wsgode_objectos_DadosDeputadoSearch\"][0][\"depGP\"][\"pt_ar_wsgode_objectos_DadosSituacaoGP\"]\n"
   ]
  },
  {
   "cell_type": "markdown",
   "metadata": {},
   "source": [
    "<br>\n",
    "<br>\n",
    "\n",
    "> > > #### 12.09.01.02 - Dados Cargo Deputado\n",
    "> > > \n",
    "> > > _12.09.01 // Composicao, Dados Deputado_  \n",
    "> > > _12.09 // Plenario_  \n",
    "> > > _12 // Composicao de Orgaos_"
   ]
  },
  {
   "cell_type": "code",
   "execution_count": 239,
   "metadata": {},
   "outputs": [
    {
     "name": "stdout",
     "output_type": "stream",
     "text": [
      "carId\n",
      "carDes\n",
      "carDtInicio\n",
      "carDtFim\n"
     ]
    }
   ],
   "source": [
    "for i in data_orgaocomposicao[\"OrganizacaoAR\"][\"Plenario\"][\"Composicao\"][\"pt_ar_wsgode_objectos_DadosDeputadoSearch\"][0][\"depCargo\"][\"pt_ar_wsgode_objectos_DadosCargoDeputado\"]:\n",
    "    print(i)\n",
    "    "
   ]
  },
  {
   "cell_type": "code",
   "execution_count": 240,
   "metadata": {},
   "outputs": [
    {
     "data": {
      "text/plain": [
       "{'carId': '5',\n",
       " 'carDes': 'Secretário',\n",
       " 'carDtInicio': '2015-10-28',\n",
       " 'carDtFim': '2016-09-16'}"
      ]
     },
     "execution_count": 240,
     "metadata": {},
     "output_type": "execute_result"
    }
   ],
   "source": [
    "# Example:\n",
    "data_orgaocomposicao[\"OrganizacaoAR\"][\"Plenario\"][\"Composicao\"][\"pt_ar_wsgode_objectos_DadosDeputadoSearch\"][0][\"depCargo\"][\"pt_ar_wsgode_objectos_DadosCargoDeputado\"]\n"
   ]
  },
  {
   "cell_type": "markdown",
   "metadata": {},
   "source": [
    "<br>\n",
    "<br>\n",
    "\n",
    "> > > #### 12.09.01.03 - Dados Situacao Deputado\n",
    "> > > \n",
    "> > > _12.09.01 // Composicao, Dados Deputado_  \n",
    "> > > _12.09 // Plenario_  \n",
    "> > > _12 // Composicao de Orgaos_"
   ]
  },
  {
   "cell_type": "code",
   "execution_count": 241,
   "metadata": {},
   "outputs": [
    {
     "name": "stdout",
     "output_type": "stream",
     "text": [
      "sioDes\n",
      "sioDtInicio\n"
     ]
    }
   ],
   "source": [
    "for i in data_orgaocomposicao[\"OrganizacaoAR\"][\"Plenario\"][\"Composicao\"][\"pt_ar_wsgode_objectos_DadosDeputadoSearch\"][0][\"depSituacao\"][\"pt_ar_wsgode_objectos_DadosSituacaoDeputado\"][0]:\n",
    "    print(i)\n",
    "    "
   ]
  },
  {
   "cell_type": "code",
   "execution_count": 242,
   "metadata": {},
   "outputs": [
    {
     "data": {
      "text/plain": [
       "{'sioDes': 'Renunciou', 'sioDtInicio': '2016-09-16'}"
      ]
     },
     "execution_count": 242,
     "metadata": {},
     "output_type": "execute_result"
    }
   ],
   "source": [
    "# Example:\n",
    "data_orgaocomposicao[\"OrganizacaoAR\"][\"Plenario\"][\"Composicao\"][\"pt_ar_wsgode_objectos_DadosDeputadoSearch\"][0][\"depSituacao\"][\"pt_ar_wsgode_objectos_DadosSituacaoDeputado\"][0]\n"
   ]
  },
  {
   "cell_type": "markdown",
   "metadata": {},
   "source": [
    "<br>\n",
    "<br>\n",
    "\n",
    "> > > #### 12.09.01.04 - Dados Videos\n",
    "> > > \n",
    "> > > _12.09.01 // Composicao, Dados Deputado_  \n",
    "> > > _12.09 // Plenario_  \n",
    "> > > _12 // Composicao de Orgaos_"
   ]
  },
  {
   "cell_type": "code",
   "execution_count": 243,
   "metadata": {},
   "outputs": [
    {
     "name": "stdout",
     "output_type": "stream",
     "text": [
      "tipo\n",
      "url\n"
     ]
    }
   ],
   "source": [
    "for i in data_orgaocomposicao[\"OrganizacaoAR\"][\"Plenario\"][\"Composicao\"][\"pt_ar_wsgode_objectos_DadosDeputadoSearch\"][0][\"videos\"][\"pt_ar_wsgode_objectos_DadosVideo\"]:\n",
    "    print(i)\n",
    "    "
   ]
  },
  {
   "cell_type": "code",
   "execution_count": 244,
   "metadata": {},
   "outputs": [
    {
     "data": {
      "text/plain": [
       "{'tipo': 'Video Biografia',\n",
       " 'url': 'http://media.parlamento.pt/site/XIIILEG/videobiografias/CDS-PP_ABEL_BAPTISTA.mp4'}"
      ]
     },
     "execution_count": 244,
     "metadata": {},
     "output_type": "execute_result"
    }
   ],
   "source": [
    "# Example:\n",
    "data_orgaocomposicao[\"OrganizacaoAR\"][\"Plenario\"][\"Composicao\"][\"pt_ar_wsgode_objectos_DadosDeputadoSearch\"][0][\"videos\"][\"pt_ar_wsgode_objectos_DadosVideo\"]\n"
   ]
  },
  {
   "cell_type": "markdown",
   "metadata": {},
   "source": [
    "<br>\n",
    "<br>\n",
    "\n",
    "> > ### 12.09.02 - Reunioes Plenario\n",
    "> > \n",
    "> > _12.09 // Plenario_   \n",
    "> > _12 // Composicao de Orgaos_"
   ]
  },
  {
   "cell_type": "code",
   "execution_count": 245,
   "metadata": {},
   "outputs": [
    {
     "name": "stdout",
     "output_type": "stream",
     "text": [
      "Reuniao\n",
      "Presencas\n"
     ]
    }
   ],
   "source": [
    "for i in data_orgaocomposicao[\"OrganizacaoAR\"][\"Plenario\"][\"Reunioes\"][\"ReuniaoPlenario\"][0]:\n",
    "    print(i)\n",
    "    "
   ]
  },
  {
   "cell_type": "code",
   "execution_count": 246,
   "metadata": {},
   "outputs": [],
   "source": [
    "data_orgaocomposicao[\"OrganizacaoAR\"][\"Plenario\"][\"Reunioes\"][\"ReuniaoPlenario\"][0];"
   ]
  },
  {
   "cell_type": "markdown",
   "metadata": {},
   "source": [
    "<br>\n",
    "<br>\n",
    "\n",
    "> > > #### 12.09.02.01 - Reuniao\n",
    "> > > \n",
    "> > > _12.09.02 // Reunioes Plenario_  \n",
    "> > > _12.09 // Plenario_   \n",
    "> > > _12 // Composicao de Orgaos_"
   ]
  },
  {
   "cell_type": "code",
   "execution_count": 247,
   "metadata": {},
   "outputs": [
    {
     "name": "stdout",
     "output_type": "stream",
     "text": [
      "reuId\n",
      "reuNumero\n",
      "reuDataHora\n",
      "reuLocal\n",
      "reuTirDes\n",
      "legDes\n",
      "selNumero\n"
     ]
    }
   ],
   "source": [
    "for i in data_orgaocomposicao[\"OrganizacaoAR\"][\"Plenario\"][\"Reunioes\"][\"ReuniaoPlenario\"][0][\"Reuniao\"]:\n",
    "    print(i)\n",
    "    "
   ]
  },
  {
   "cell_type": "code",
   "execution_count": 248,
   "metadata": {},
   "outputs": [
    {
     "data": {
      "text/plain": [
       "{'reuId': '183030',\n",
       " 'reuNumero': '69',\n",
       " 'reuDataHora': '2018-04-06 10:07',\n",
       " 'reuLocal': 'Plenário',\n",
       " 'reuTirDes': 'Ordinária',\n",
       " 'legDes': 'XIII',\n",
       " 'selNumero': '3'}"
      ]
     },
     "execution_count": 248,
     "metadata": {},
     "output_type": "execute_result"
    }
   ],
   "source": [
    "# Example:\n",
    "data_orgaocomposicao[\"OrganizacaoAR\"][\"Plenario\"][\"Reunioes\"][\"ReuniaoPlenario\"][0][\"Reuniao\"]"
   ]
  },
  {
   "cell_type": "markdown",
   "metadata": {},
   "source": [
    "<br>\n",
    "<br>\n",
    "\n",
    "> > > #### 12.09.02.02 - Presencas\n",
    "> > > \n",
    "> > > _12.09.02 // Reunioes Plenario_  \n",
    "> > > _12.09 // Plenario_   \n",
    "> > > _12 // Composicao de Orgaos_"
   ]
  },
  {
   "cell_type": "code",
   "execution_count": 249,
   "metadata": {},
   "outputs": [
    {
     "name": "stdout",
     "output_type": "stream",
     "text": [
      "dtReuniao\n",
      "tipoReuniao\n",
      "presencas\n"
     ]
    }
   ],
   "source": [
    "for i in data_orgaocomposicao[\"OrganizacaoAR\"][\"Plenario\"][\"Reunioes\"][\"ReuniaoPlenario\"][0][\"Presencas\"]:\n",
    "    print(i)\n",
    "    "
   ]
  },
  {
   "cell_type": "code",
   "execution_count": 250,
   "metadata": {},
   "outputs": [],
   "source": [
    "# Example:\n",
    "data_orgaocomposicao[\"OrganizacaoAR\"][\"Plenario\"][\"Reunioes\"][\"ReuniaoPlenario\"][0][\"Presencas\"];\n"
   ]
  },
  {
   "cell_type": "markdown",
   "metadata": {},
   "source": [
    "<br>\n",
    "<br>\n",
    "\n",
    "> > > > ##### 12.09.02.02.01 - Presencas\n",
    "> > > > \n",
    "> > > > _12.09.02.02 // Presencas_  \n",
    "> > > > _12.09.02 // Reunioes Plenario_  \n",
    "> > > > _12.09 // Plenario_   \n",
    "> > > > _12 // Composicao de Orgaos_"
   ]
  },
  {
   "cell_type": "code",
   "execution_count": 251,
   "metadata": {},
   "outputs": [
    {
     "name": "stdout",
     "output_type": "stream",
     "text": [
      "siglaFalta\n",
      "nomeDeputado\n",
      "siglaQualidadePresencaOrgao\n",
      "siglaGrupo\n"
     ]
    }
   ],
   "source": [
    "for i in data_orgaocomposicao[\"OrganizacaoAR\"][\"Plenario\"][\"Reunioes\"][\"ReuniaoPlenario\"][0][\"Presencas\"][\"presencas\"][\"pt_gov_ar_wsgode_objectos_Presencas\"][0]:\n",
    "    print(i)\n",
    "    "
   ]
  },
  {
   "cell_type": "code",
   "execution_count": 252,
   "metadata": {},
   "outputs": [
    {
     "data": {
      "text/plain": [
       "{'siglaFalta': 'PT',\n",
       " 'nomeDeputado': 'ACÁCIO BARREIROS',\n",
       " 'siglaQualidadePresencaOrgao': '',\n",
       " 'siglaGrupo': 'PS'}"
      ]
     },
     "execution_count": 252,
     "metadata": {},
     "output_type": "execute_result"
    }
   ],
   "source": [
    "# Example:\n",
    "data_orgaocomposicao[\"OrganizacaoAR\"][\"Plenario\"][\"Reunioes\"][\"ReuniaoPlenario\"][0][\"Presencas\"][\"presencas\"][\"pt_gov_ar_wsgode_objectos_Presencas\"][0]\n"
   ]
  },
  {
   "cell_type": "markdown",
   "metadata": {},
   "source": [
    "<br>\n",
    "<br>\n",
    "\n",
    "> > ### 12.09.03 - Detalhes Orgao\n",
    "> > \n",
    "> > _12.09 // Plenario_   \n",
    "> > _12 // Composicao de Orgaos_"
   ]
  },
  {
   "cell_type": "code",
   "execution_count": 253,
   "metadata": {},
   "outputs": [
    {
     "name": "stdout",
     "output_type": "stream",
     "text": [
      "idOrgao\n",
      "siglaOrgao\n",
      "nomeSigla\n",
      "numeroOrgao\n",
      "siglaLegislatura\n"
     ]
    }
   ],
   "source": [
    "for i in data_orgaocomposicao[\"OrganizacaoAR\"][\"Plenario\"][\"DetalheOrgao\"]:\n",
    "    print(i)\n",
    "    "
   ]
  },
  {
   "cell_type": "code",
   "execution_count": 254,
   "metadata": {},
   "outputs": [
    {
     "data": {
      "text/plain": [
       "{'idOrgao': '4444',\n",
       " 'siglaOrgao': 'PL',\n",
       " 'nomeSigla': 'Plenário',\n",
       " 'numeroOrgao': '0',\n",
       " 'siglaLegislatura': 'XIII'}"
      ]
     },
     "execution_count": 254,
     "metadata": {},
     "output_type": "execute_result"
    }
   ],
   "source": [
    "# Example:\n",
    "data_orgaocomposicao[\"OrganizacaoAR\"][\"Plenario\"][\"DetalheOrgao\"]\n"
   ]
  },
  {
   "cell_type": "markdown",
   "metadata": {},
   "source": [
    "<br>\n",
    "<br>\n",
    "\n",
    "> ## 12.10 - Grupos de Trabalho AR\n",
    "> \n",
    "> _12 // Composicao de Orgaos_"
   ]
  },
  {
   "cell_type": "code",
   "execution_count": 255,
   "metadata": {},
   "outputs": [
    {
     "name": "stdout",
     "output_type": "stream",
     "text": [
      "None\n"
     ]
    }
   ],
   "source": [
    "print(data_orgaocomposicao[\"OrganizacaoAR\"][\"GruposTrabalhoAR\"])\n",
    "    "
   ]
  },
  {
   "cell_type": "markdown",
   "metadata": {},
   "source": [
    "<br>"
   ]
  },
  {
   "cell_type": "markdown",
   "metadata": {},
   "source": [
    "---\n",
    "\n",
    "---"
   ]
  },
  {
   "cell_type": "markdown",
   "metadata": {},
   "source": [
    "<br>\n",
    "<br>\n",
    "\n",
    "# 13 - Orcamento de Estado"
   ]
  },
  {
   "cell_type": "markdown",
   "metadata": {},
   "source": [
    "> **Available files:**\n",
    "> \n",
    "> Only available in xml and xsd. For more, visit [this](http://www.parlamento.pt/Cidadania/Paginas/DAOE.aspx?t=5743424d5a576470633278686448567959513d3d&Path=6148523063446f764c324679626d56304c3239775a57356b595852684c3052685a47397a51574a6c636e527663793950636956444d7956424e3246745a573530627955794d4752764a54497752584e30595752764c3167675447566e61584e7359585231636d453d) link."
   ]
  },
  {
   "cell_type": "markdown",
   "metadata": {},
   "source": [
    "---\n",
    "\n",
    "---"
   ]
  },
  {
   "cell_type": "markdown",
   "metadata": {},
   "source": [
    "<br>\n",
    "<br>\n",
    "\n",
    "# 14 - Peticoes"
   ]
  },
  {
   "cell_type": "markdown",
   "metadata": {},
   "source": [
    "> **Available files:**\n",
    "> \n",
    "> - peticoes-07.json\n",
    "> - peticoes-08.json\n",
    "> - peticoes-09.json\n",
    "> - peticoes-10.json\n",
    "> - peticoes-11.json\n",
    "> - peticoes-12.json\n",
    "> - peticoes-13.json"
   ]
  },
  {
   "cell_type": "code",
   "execution_count": 256,
   "metadata": {
    "collapsed": true
   },
   "outputs": [],
   "source": [
    "data_peticoes = json.loads(open(data_source+\"peticoes-13.json\").read())"
   ]
  },
  {
   "cell_type": "markdown",
   "metadata": {},
   "source": [
    "> **Shortcut:**\n",
    ">\n",
    "> data\\_peticoes[\"ArrayOfPt_gov_ar_objectos_peticoes_DetalhePesquisaPeticoesOut\"][\"pt_gov_ar_objectos_peticoes_DetalhePesquisaPeticoesOut\"]"
   ]
  },
  {
   "cell_type": "code",
   "execution_count": 257,
   "metadata": {
    "collapsed": true
   },
   "outputs": [],
   "source": [
    "data_peticoes = data_peticoes[\"ArrayOfPt_gov_ar_objectos_peticoes_DetalhePesquisaPeticoesOut\"][\"pt_gov_ar_objectos_peticoes_DetalhePesquisaPeticoesOut\"]"
   ]
  },
  {
   "cell_type": "code",
   "execution_count": 258,
   "metadata": {
    "collapsed": true
   },
   "outputs": [
    {
     "name": "stdout",
     "output_type": "stream",
     "text": [
      "petId\n",
      "petNr\n",
      "petLeg\n",
      "petSel\n",
      "petAssunto\n",
      "petSituacao\n",
      "petNrAssinaturas\n",
      "petDataEntrada\n",
      "petAutor\n",
      "dadosComissao\n",
      "documentos\n",
      "petNrAssinaturasInicial\n"
     ]
    }
   ],
   "source": [
    "for i in data_peticoes[0]:\n",
    "    print(i)"
   ]
  },
  {
   "cell_type": "code",
   "execution_count": 259,
   "metadata": {
    "collapsed": true
   },
   "outputs": [
    {
     "data": {
      "text/plain": [
       "{'petId': '13177',\n",
       " 'petNr': '493',\n",
       " 'petLeg': 'XIII',\n",
       " 'petSel': '3',\n",
       " 'petAssunto': 'Solicitam a desagregação das freguesias de Vaqueiros e Casével, em Santarém',\n",
       " 'petSituacao': 'Aguarda deliberação sobre a sua admissibilidade',\n",
       " 'petNrAssinaturas': '952',\n",
       " 'petDataEntrada': '2018-03-22',\n",
       " 'petAutor': 'Firmino Oliveira',\n",
       " 'dadosComissao': {'pt_gov_ar_objectos_peticoes_ComissoesPetOut': {'legislatura': 'XIII',\n",
       "   'codigo': '11',\n",
       "   'numero': '11',\n",
       "   'idComissao': '4534',\n",
       "   'nome': 'Comissão de Ambiente, Ordenamento do Território, Descentralização, Poder Local e Habitação',\n",
       "   'dataBaixaComissao': '2018-04-05',\n",
       "   'situacao': 'Em apreciação',\n",
       "   'transitada': None,\n",
       "   'documentosPeticao': None}},\n",
       " 'documentos': {'pt_gov_ar_objectos_DocsOut': {'tituloDocumento': 'Texto da Petição',\n",
       "   'tipoDocumento': 'Texto final',\n",
       "   'URL': 'http://app.parlamento.pt/webutils/docs/doc.pdf?path=6148523063446f764c324679626d56304c334e706447567a4c31684a53556c4d5a5763765647563464473947615735686246426c64476c6a6232567a4c7a67344d6d45794d4759774c5455354e5751744e445134596931684f4751774c5463324d6d49784d5745324e6d59304f4335775a47593d&fich=882a20f0-595d-448b-a8d0-762b11a66f48.pdf&Inline=true'}},\n",
       " 'petNrAssinaturasInicial': '0'}"
      ]
     },
     "execution_count": 259,
     "metadata": {},
     "output_type": "execute_result"
    }
   ],
   "source": [
    "# Example:\n",
    "data_peticoes[0]"
   ]
  },
  {
   "cell_type": "markdown",
   "metadata": {},
   "source": [
    "<br>\n",
    "<br>\n",
    "\n",
    "> ## 14.01 - Dados Comissao\n",
    "> \n",
    "> _14 // Peticoes_"
   ]
  },
  {
   "cell_type": "code",
   "execution_count": 260,
   "metadata": {
    "collapsed": true
   },
   "outputs": [
    {
     "name": "stdout",
     "output_type": "stream",
     "text": [
      "legislatura\n",
      "codigo\n",
      "numero\n",
      "idComissao\n",
      "nome\n",
      "dataBaixaComissao\n",
      "situacao\n",
      "transitada\n",
      "documentosPeticao\n"
     ]
    }
   ],
   "source": [
    "for i in data_peticoes[0][\"dadosComissao\"][\"pt_gov_ar_objectos_peticoes_ComissoesPetOut\"]:\n",
    "    print(i)\n",
    "    "
   ]
  },
  {
   "cell_type": "code",
   "execution_count": 261,
   "metadata": {
    "collapsed": true,
    "scrolled": true
   },
   "outputs": [
    {
     "data": {
      "text/plain": [
       "{'legislatura': 'XIII',\n",
       " 'codigo': '11',\n",
       " 'numero': '11',\n",
       " 'idComissao': '4534',\n",
       " 'nome': 'Comissão de Ambiente, Ordenamento do Território, Descentralização, Poder Local e Habitação',\n",
       " 'dataBaixaComissao': '2018-04-05',\n",
       " 'situacao': 'Em apreciação',\n",
       " 'transitada': None,\n",
       " 'documentosPeticao': None}"
      ]
     },
     "execution_count": 261,
     "metadata": {},
     "output_type": "execute_result"
    }
   ],
   "source": [
    "# Example:\n",
    "data_peticoes[0][\"dadosComissao\"][\"pt_gov_ar_objectos_peticoes_ComissoesPetOut\"]\n"
   ]
  },
  {
   "cell_type": "markdown",
   "metadata": {},
   "source": [
    "<br>\n",
    "<br>\n",
    "\n",
    "> ## 14.02 - Documentos\n",
    "> \n",
    "> _14 // Peticoes_"
   ]
  },
  {
   "cell_type": "code",
   "execution_count": 262,
   "metadata": {
    "collapsed": true
   },
   "outputs": [
    {
     "name": "stdout",
     "output_type": "stream",
     "text": [
      "tituloDocumento\n",
      "tipoDocumento\n",
      "URL\n"
     ]
    }
   ],
   "source": [
    "for i in data_peticoes[0][\"documentos\"][\"pt_gov_ar_objectos_DocsOut\"]:\n",
    "    print(i)\n",
    "    "
   ]
  },
  {
   "cell_type": "code",
   "execution_count": 263,
   "metadata": {
    "collapsed": true,
    "scrolled": true
   },
   "outputs": [
    {
     "data": {
      "text/plain": [
       "{'tituloDocumento': 'Texto da Petição',\n",
       " 'tipoDocumento': 'Texto final',\n",
       " 'URL': 'http://app.parlamento.pt/webutils/docs/doc.pdf?path=6148523063446f764c324679626d56304c334e706447567a4c31684a53556c4d5a5763765647563464473947615735686246426c64476c6a6232567a4c7a67344d6d45794d4759774c5455354e5751744e445134596931684f4751774c5463324d6d49784d5745324e6d59304f4335775a47593d&fich=882a20f0-595d-448b-a8d0-762b11a66f48.pdf&Inline=true'}"
      ]
     },
     "execution_count": 263,
     "metadata": {},
     "output_type": "execute_result"
    }
   ],
   "source": [
    "# Example:\n",
    "data_peticoes[0][\"documentos\"][\"pt_gov_ar_objectos_DocsOut\"]\n"
   ]
  },
  {
   "cell_type": "markdown",
   "metadata": {},
   "source": [
    "<br>"
   ]
  },
  {
   "cell_type": "markdown",
   "metadata": {},
   "source": [
    "---\n",
    "\n",
    "---"
   ]
  },
  {
   "cell_type": "markdown",
   "metadata": {},
   "source": [
    "<br>\n",
    "<br>\n",
    "\n",
    "# 15 - Registo Biografico"
   ]
  },
  {
   "cell_type": "markdown",
   "metadata": {},
   "source": [
    "> **Available files:**\n",
    "> \n",
    "> - registo-biografico-02.json\n",
    "> - registo-biografico-03.json\n",
    "> - registo-biografico-04.json\n",
    "> - registo-biografico-05.json\n",
    "> - registo-biografico-06.json\n",
    "> - registo-biografico-07.json\n",
    "> - registo-biografico-08.json\n",
    "> - registo-biografico-09.json\n",
    "> - registo-biografico-10.json\n",
    "> - registo-biografico-11.json\n",
    "> - registo-biografico-12.json\n",
    "> - registo-biografico-13.json\n",
    "> - registo-biografico-cons.json"
   ]
  },
  {
   "cell_type": "code",
   "execution_count": 22,
   "metadata": {
    "collapsed": true
   },
   "outputs": [],
   "source": [
    "data_registobiografico = json.loads(open(data_source+\"registo-biografico-13.json\").read())"
   ]
  },
  {
   "cell_type": "code",
   "execution_count": 23,
   "metadata": {
    "collapsed": true
   },
   "outputs": [
    {
     "name": "stdout",
     "output_type": "stream",
     "text": [
      "@xmlns:xsi\n",
      "@xmlns:xsd\n",
      "RegistoBiograficoList\n",
      "RegistoInteressesList\n",
      "RegistoInteressesV2List\n"
     ]
    }
   ],
   "source": [
    "for i in data_registobiografico[\"RegistoBiografico\"]:\n",
    "    print(i)"
   ]
  },
  {
   "cell_type": "markdown",
   "metadata": {},
   "source": [
    "> N.B.: note that the V2 List has been used from XI legislature onwards."
   ]
  },
  {
   "cell_type": "code",
   "execution_count": 24,
   "metadata": {
    "collapsed": true
   },
   "outputs": [],
   "source": [
    "# Example:\n",
    "data_registobiografico[\"RegistoBiografico\"];\n"
   ]
  },
  {
   "cell_type": "markdown",
   "metadata": {},
   "source": [
    "<br>\n",
    "<br>\n",
    "\n",
    "> ## 15.01 - Registo Biografico List\n",
    "> \n",
    "> _15 // Registo Biografico_"
   ]
  },
  {
   "cell_type": "code",
   "execution_count": 38,
   "metadata": {
    "collapsed": true
   },
   "outputs": [
    {
     "name": "stdout",
     "output_type": "stream",
     "text": [
      "cadId\n",
      "cadNomeCompleto\n",
      "cadDtNascimento\n",
      "cadSexo\n",
      "cadProfissao\n",
      "cadDeputadoLegis\n",
      "cadHabilitacoes\n",
      "cadCargosFuncoes\n",
      "cadActividadeOrgaos\n"
     ]
    }
   ],
   "source": [
    "for i in data_registobiografico[\"RegistoBiografico\"][\"RegistoBiograficoList\"][\"pt_ar_wsgode_objectos_DadosRegistoBiograficoWeb\"][0]:\n",
    "    print(i)\n",
    "    "
   ]
  },
  {
   "cell_type": "code",
   "execution_count": 26,
   "metadata": {},
   "outputs": [
    {
     "data": {
      "text/plain": [
       "{'cadId': '2167',\n",
       " 'cadNomeCompleto': 'ABEL LIMA BAPTISTA',\n",
       " 'cadDtNascimento': '1963-10-13',\n",
       " 'cadSexo': 'M',\n",
       " 'cadProfissao': 'Funcionário Autárquico; Jurista;',\n",
       " 'cadDeputadoLegis': {'pt_ar_wsgode_objectos_DadosDeputadoLegis': [{'depNomeParlamentar': 'Abel Baptista',\n",
       "    'legDes': 'XIII',\n",
       "    'ceDes': 'VIANA DO CASTELO',\n",
       "    'parSigla': 'PAF',\n",
       "    'parDes': 'Coligação Portugal À Frente',\n",
       "    'gpSigla': 'CDS-PP',\n",
       "    'gpDes': 'Centro Democrático Social - Partido Popular',\n",
       "    'urlVideoBiografia': 'http://media.parlamento.pt/site/XIIILEG/videobiografias/CDS-PP_ABEL_BAPTISTA.mp4'},\n",
       "   {'depNomeParlamentar': 'Abel Baptista',\n",
       "    'legDes': 'XII',\n",
       "    'ceDes': 'VIANA DO CASTELO',\n",
       "    'parSigla': 'CDS-PP',\n",
       "    'parDes': 'Centro Democrático Social - Partido Popular',\n",
       "    'gpSigla': 'CDS-PP',\n",
       "    'gpDes': 'Partido Popular'},\n",
       "   {'depNomeParlamentar': 'Abel Baptista',\n",
       "    'legDes': 'XI',\n",
       "    'ceDes': 'VIANA DO CASTELO',\n",
       "    'parSigla': 'CDS-PP',\n",
       "    'parDes': 'Centro Democrático Social - Partido Popular',\n",
       "    'gpSigla': 'CDS-PP',\n",
       "    'gpDes': 'Partido Popular'},\n",
       "   {'depNomeParlamentar': 'Abel Baptista',\n",
       "    'legDes': 'X',\n",
       "    'ceDes': 'VIANA DO CASTELO',\n",
       "    'parSigla': 'CDS-PP',\n",
       "    'parDes': 'Centro Democrático Social - Partido Popular',\n",
       "    'gpSigla': 'CDS-PP',\n",
       "    'gpDes': 'Partido Popular'}]},\n",
       " 'cadHabilitacoes': {'pt_ar_wsgode_objectos_DadosHabilitacoes': {'habId': '15900',\n",
       "   'habDes': 'Direito',\n",
       "   'habTipoId': '13',\n",
       "   'habEstado': 'C'}},\n",
       " 'cadCargosFuncoes': {'pt_ar_wsgode_objectos_DadosCargosFuncoes': [{'funId': '20596',\n",
       "    'funDes': 'Deputado na XIII Legislatura',\n",
       "    'funOrdem': '1',\n",
       "    'funAntiga': 'N'},\n",
       "   {'funId': '20597',\n",
       "    'funDes': 'Vereador da Câmara Municipal de Monção',\n",
       "    'funOrdem': '2',\n",
       "    'funAntiga': 'N'},\n",
       "   {'funId': '20598',\n",
       "    'funDes': 'Director do Departamento da C.M. de Lamego;',\n",
       "    'funOrdem': '3',\n",
       "    'funAntiga': 'S'},\n",
       "   {'funId': '20599',\n",
       "    'funDes': 'Director do Centro Distrital de Solidariedade de Viana do Castelo;',\n",
       "    'funOrdem': '4',\n",
       "    'funAntiga': 'S'},\n",
       "   {'funId': '20600',\n",
       "    'funDes': 'Chefe de Divisão da C.M. da Nazaré;',\n",
       "    'funOrdem': '5',\n",
       "    'funAntiga': 'S'},\n",
       "   {'funId': '20601',\n",
       "    'funDes': 'Vereador da C. M. de Ponte de Lima;',\n",
       "    'funOrdem': '6',\n",
       "    'funAntiga': 'S'},\n",
       "   {'funId': '20602',\n",
       "    'funDes': 'Deputado na X Legislatura',\n",
       "    'funOrdem': '7',\n",
       "    'funAntiga': 'S'},\n",
       "   {'funId': '20603',\n",
       "    'funDes': 'Deputado na XI Legislatura',\n",
       "    'funOrdem': '8',\n",
       "    'funAntiga': 'S'},\n",
       "   {'funId': '20604',\n",
       "    'funDes': 'Deputado da XII Legislatura',\n",
       "    'funOrdem': '9',\n",
       "    'funAntiga': 'S'},\n",
       "   {'funId': '20605',\n",
       "    'funDes': 'Presidente da Assembleia Municipal de Ponte de Lima',\n",
       "    'funOrdem': '10',\n",
       "    'funAntiga': 'S'},\n",
       "   {'funId': '20606',\n",
       "    'funDes': 'Secretário da Mesa da Assembleia da República',\n",
       "    'funOrdem': '11',\n",
       "    'funAntiga': 'S'},\n",
       "   {'funId': '20607',\n",
       "    'funDes': 'Presidente da Comissão de Educação Ciência e Cultura',\n",
       "    'funOrdem': '12',\n",
       "    'funAntiga': 'S'}]},\n",
       " 'cadActividadeOrgaos': None}"
      ]
     },
     "execution_count": 26,
     "metadata": {},
     "output_type": "execute_result"
    }
   ],
   "source": [
    "# Example:\n",
    "data_registobiografico[\"RegistoBiografico\"][\"RegistoBiograficoList\"][\"pt_ar_wsgode_objectos_DadosRegistoBiograficoWeb\"][0]\n"
   ]
  },
  {
   "cell_type": "markdown",
   "metadata": {},
   "source": [
    "> #### Others:"
   ]
  },
  {
   "cell_type": "code",
   "execution_count": 40,
   "metadata": {},
   "outputs": [],
   "source": [
    "cadTitulos = [i[\"cadTitulos\"] for i in data_registobiografico[\"RegistoBiografico\"][\"RegistoBiograficoList\"][\"pt_ar_wsgode_objectos_DadosRegistoBiograficoWeb\"] if \"cadTitulos\" in i.keys()]\n",
    "cadCondecoracoes = [i[\"cadCondecoracoes\"] for i in data_registobiografico[\"RegistoBiografico\"][\"RegistoBiograficoList\"][\"pt_ar_wsgode_objectos_DadosRegistoBiograficoWeb\"] if \"cadCondecoracoes\" in i.keys()]\n",
    "cadObrasPublicadas  = [i[\"cadObrasPublicadas\"] for i in data_registobiografico[\"RegistoBiografico\"][\"RegistoBiograficoList\"][\"pt_ar_wsgode_objectos_DadosRegistoBiograficoWeb\"] if \"cadObrasPublicadas\" in i.keys()]\n"
   ]
  },
  {
   "cell_type": "markdown",
   "metadata": {},
   "source": [
    "> ##### cadTitulos:"
   ]
  },
  {
   "cell_type": "code",
   "execution_count": 41,
   "metadata": {},
   "outputs": [
    {
     "data": {
      "text/plain": [
       "28"
      ]
     },
     "execution_count": 41,
     "metadata": {},
     "output_type": "execute_result"
    }
   ],
   "source": [
    "len(cadTitulos)"
   ]
  },
  {
   "cell_type": "code",
   "execution_count": 52,
   "metadata": {},
   "outputs": [
    {
     "data": {
      "text/plain": [
       "{'pt_ar_wsgode_objectos_DadosTitulos': [{'titId': '2371',\n",
       "   'titDes': 'Grau de Mestre em Transportes',\n",
       "   'titOrdem': '1'},\n",
       "  {'titId': '2372', 'titDes': 'Engenheira Civil', 'titOrdem': '2'}]}"
      ]
     },
     "execution_count": 52,
     "metadata": {},
     "output_type": "execute_result"
    }
   ],
   "source": [
    "cadTitulos[0] #e.g."
   ]
  },
  {
   "cell_type": "markdown",
   "metadata": {},
   "source": [
    "> ##### cadCondecoracoes:"
   ]
  },
  {
   "cell_type": "code",
   "execution_count": 42,
   "metadata": {},
   "outputs": [
    {
     "data": {
      "text/plain": [
       "37"
      ]
     },
     "execution_count": 42,
     "metadata": {},
     "output_type": "execute_result"
    }
   ],
   "source": [
    "len(cadCondecoracoes)"
   ]
  },
  {
   "cell_type": "code",
   "execution_count": 51,
   "metadata": {},
   "outputs": [
    {
     "data": {
      "text/plain": [
       "{'pt_ar_wsgode_objectos_DadosCondecoracoes': {'codId': '3492',\n",
       "  'codDes': 'Grã-Cruz da Ordem da Liberdade (1999)',\n",
       "  'codOrdem': '1'}}"
      ]
     },
     "execution_count": 51,
     "metadata": {},
     "output_type": "execute_result"
    }
   ],
   "source": [
    "cadCondecoracoes[0] # e.g."
   ]
  },
  {
   "cell_type": "markdown",
   "metadata": {},
   "source": [
    "> ##### cadObrasPublicadas:"
   ]
  },
  {
   "cell_type": "code",
   "execution_count": 43,
   "metadata": {},
   "outputs": [
    {
     "data": {
      "text/plain": [
       "56"
      ]
     },
     "execution_count": 43,
     "metadata": {},
     "output_type": "execute_result"
    }
   ],
   "source": [
    "len(cadObrasPublicadas)"
   ]
  },
  {
   "cell_type": "code",
   "execution_count": 53,
   "metadata": {},
   "outputs": [
    {
     "data": {
      "text/plain": [
       "{'pt_ar_wsgode_objectos_DadosObrasPublicadas': [{'pubId': '7071',\n",
       "   'pubDes': 'Legislação laboral (compilação para curso de formação)',\n",
       "   'pubOrdem': '1'},\n",
       "  {'pubId': '7072',\n",
       "   'pubDes': 'Acidentes de trabalho (compilação para curso formação)',\n",
       "   'pubOrdem': '2'},\n",
       "  {'pubId': '7073',\n",
       "   'pubDes': 'Higiene e Segurança no Trabalho (compilação para curso de formação)',\n",
       "   'pubOrdem': '3'},\n",
       "  {'pubId': '7074',\n",
       "   'pubDes': 'Recursos Humanos – Vetor Estratégico (DRABI – Abril/2000)',\n",
       "   'pubOrdem': '4'},\n",
       "  {'pubId': '7075',\n",
       "   'pubDes': 'Gestão de Pessoal e Direito do Trabalho (compilação para curso formação)',\n",
       "   'pubOrdem': '5'},\n",
       "  {'pubId': '7076',\n",
       "   'pubDes': 'Internacionalização e Suportes Jurídicos (compilação para curso formação)',\n",
       "   'pubOrdem': '6'},\n",
       "  {'pubId': '7077',\n",
       "   'pubDes': 'Operações de comércio internacional e a logística de transportes (compilação para curso formação) ',\n",
       "   'pubOrdem': '7'},\n",
       "  {'pubId': '7078',\n",
       "   'pubDes': 'Manual de Procedimentos de Contraordenações por Violação do Regime Jurídico da Reserva Agrícola Nacional (DRAPC 2008) (em colaboração) ',\n",
       "   'pubOrdem': '8'},\n",
       "  {'pubId': '7079',\n",
       "   'pubDes': 'Manual de Procedimentos de Contraordenações por Violação do Regime de Utilização de Lamas de Depuração em Solos Agrícolas (DRAPC 2011) (em colaboração)',\n",
       "   'pubOrdem': '9'}]}"
      ]
     },
     "execution_count": 53,
     "metadata": {},
     "output_type": "execute_result"
    }
   ],
   "source": [
    "cadObrasPublicadas[0] #e.g."
   ]
  },
  {
   "cell_type": "markdown",
   "metadata": {},
   "source": [
    "<br>\n",
    "<br>\n",
    "\n",
    "> > ### 15.01.01 - Dados Deputados Legislatura\n",
    "> > \n",
    "> > _15.01 // Registo Biografico List_   \n",
    "> > _15 // Registo Biografico_"
   ]
  },
  {
   "cell_type": "code",
   "execution_count": 269,
   "metadata": {
    "collapsed": true
   },
   "outputs": [
    {
     "name": "stdout",
     "output_type": "stream",
     "text": [
      "depNomeParlamentar\n",
      "legDes\n",
      "ceDes\n",
      "parSigla\n",
      "parDes\n",
      "gpSigla\n",
      "gpDes\n",
      "urlVideoBiografia\n"
     ]
    }
   ],
   "source": [
    "for i in data_registobiografico[\"RegistoBiografico\"][\"RegistoBiograficoList\"][\"pt_ar_wsgode_objectos_DadosRegistoBiograficoWeb\"][0][\"cadDeputadoLegis\"][\"pt_ar_wsgode_objectos_DadosDeputadoLegis\"][0]:\n",
    "    print(i)\n",
    "    "
   ]
  },
  {
   "cell_type": "code",
   "execution_count": 270,
   "metadata": {
    "collapsed": true
   },
   "outputs": [
    {
     "data": {
      "text/plain": [
       "{'depNomeParlamentar': 'Abel Baptista',\n",
       " 'legDes': 'XIII',\n",
       " 'ceDes': 'VIANA DO CASTELO',\n",
       " 'parSigla': 'PAF',\n",
       " 'parDes': 'Coligação Portugal À Frente',\n",
       " 'gpSigla': 'CDS-PP',\n",
       " 'gpDes': 'Centro Democrático Social - Partido Popular',\n",
       " 'urlVideoBiografia': 'http://media.parlamento.pt/site/XIIILEG/videobiografias/CDS-PP_ABEL_BAPTISTA.mp4'}"
      ]
     },
     "execution_count": 270,
     "metadata": {},
     "output_type": "execute_result"
    }
   ],
   "source": [
    "#Example:\n",
    "data_registobiografico[\"RegistoBiografico\"][\"RegistoBiograficoList\"][\"pt_ar_wsgode_objectos_DadosRegistoBiograficoWeb\"][0][\"cadDeputadoLegis\"][\"pt_ar_wsgode_objectos_DadosDeputadoLegis\"][0]\n"
   ]
  },
  {
   "cell_type": "markdown",
   "metadata": {},
   "source": [
    "<br>\n",
    "<br>\n",
    "\n",
    "> > ### 15.01.02 - Dados Habilitacaoes\n",
    "> > \n",
    "> > _15.01 // Registo Biografico List_   \n",
    "> > _15 // Registo Biografico_"
   ]
  },
  {
   "cell_type": "code",
   "execution_count": 271,
   "metadata": {
    "collapsed": true
   },
   "outputs": [
    {
     "name": "stdout",
     "output_type": "stream",
     "text": [
      "habId\n",
      "habDes\n",
      "habTipoId\n",
      "habEstado\n"
     ]
    }
   ],
   "source": [
    "for i in data_registobiografico[\"RegistoBiografico\"][\"RegistoBiograficoList\"][\"pt_ar_wsgode_objectos_DadosRegistoBiograficoWeb\"][0][\"cadHabilitacoes\"][\"pt_ar_wsgode_objectos_DadosHabilitacoes\"]:\n",
    "    print(i)\n",
    "    "
   ]
  },
  {
   "cell_type": "code",
   "execution_count": 272,
   "metadata": {
    "collapsed": true
   },
   "outputs": [
    {
     "data": {
      "text/plain": [
       "{'habId': '15900', 'habDes': 'Direito', 'habTipoId': '13', 'habEstado': 'C'}"
      ]
     },
     "execution_count": 272,
     "metadata": {},
     "output_type": "execute_result"
    }
   ],
   "source": [
    "# Example:\n",
    "data_registobiografico[\"RegistoBiografico\"][\"RegistoBiograficoList\"][\"pt_ar_wsgode_objectos_DadosRegistoBiograficoWeb\"][0][\"cadHabilitacoes\"][\"pt_ar_wsgode_objectos_DadosHabilitacoes\"]\n"
   ]
  },
  {
   "cell_type": "markdown",
   "metadata": {},
   "source": [
    "<br>\n",
    "<br>\n",
    "\n",
    "> > ### 15.01.03 - Dados Cargos Funcoes\n",
    "> > \n",
    "> > _15.01 // Registo Biografico List_   \n",
    "> > _15 // Registo Biografico_"
   ]
  },
  {
   "cell_type": "code",
   "execution_count": 273,
   "metadata": {
    "collapsed": true
   },
   "outputs": [
    {
     "name": "stdout",
     "output_type": "stream",
     "text": [
      "funId\n",
      "funDes\n",
      "funOrdem\n",
      "funAntiga\n"
     ]
    }
   ],
   "source": [
    "for i in data_registobiografico[\"RegistoBiografico\"][\"RegistoBiograficoList\"][\"pt_ar_wsgode_objectos_DadosRegistoBiograficoWeb\"][0][\"cadCargosFuncoes\"][\"pt_ar_wsgode_objectos_DadosCargosFuncoes\"][0]:\n",
    "    print(i)\n",
    "    "
   ]
  },
  {
   "cell_type": "code",
   "execution_count": 274,
   "metadata": {
    "collapsed": true
   },
   "outputs": [
    {
     "data": {
      "text/plain": [
       "{'funId': '20596',\n",
       " 'funDes': 'Deputado na XIII Legislatura',\n",
       " 'funOrdem': '1',\n",
       " 'funAntiga': 'N'}"
      ]
     },
     "execution_count": 274,
     "metadata": {},
     "output_type": "execute_result"
    }
   ],
   "source": [
    "# Example:\n",
    "data_registobiografico[\"RegistoBiografico\"][\"RegistoBiograficoList\"][\"pt_ar_wsgode_objectos_DadosRegistoBiograficoWeb\"][0][\"cadCargosFuncoes\"][\"pt_ar_wsgode_objectos_DadosCargosFuncoes\"][0]\n"
   ]
  },
  {
   "cell_type": "markdown",
   "metadata": {},
   "source": [
    "<br>\n",
    "<br>\n",
    "\n",
    "> ## 15.02 - Registo Interesses V2 List\n",
    "> \n",
    "> _15 // Registo Biografico_"
   ]
  },
  {
   "cell_type": "code",
   "execution_count": 275,
   "metadata": {
    "collapsed": true
   },
   "outputs": [
    {
     "name": "stdout",
     "output_type": "stream",
     "text": [
      "cadId\n",
      "cadNomeCompleto\n",
      "cadActividadeProfissional\n",
      "cadEstadoCivilCod\n",
      "cadEstadoCivilDes\n",
      "cadRgi\n"
     ]
    }
   ],
   "source": [
    "for i in data_registobiografico[\"RegistoBiografico\"][\"RegistoInteressesV2List\"][\"pt_ar_wsgode_objectos_DadosDeputadoRgiWebV2\"][0]:\n",
    "    print(i)\n",
    "    "
   ]
  },
  {
   "cell_type": "code",
   "execution_count": 276,
   "metadata": {
    "collapsed": true
   },
   "outputs": [],
   "source": [
    "# Example:\n",
    "data_registobiografico[\"RegistoBiografico\"][\"RegistoInteressesV2List\"][\"pt_ar_wsgode_objectos_DadosDeputadoRgiWebV2\"][0];\n"
   ]
  },
  {
   "cell_type": "markdown",
   "metadata": {},
   "source": [
    "<br>\n",
    "<br>\n",
    "\n",
    "> > ### 15.02.01 - Dados Registo Interesses\n",
    "> > \n",
    "> > _15.02 // Registo Interesses V2 List_  \n",
    "> > _15 // Registo Biografico_"
   ]
  },
  {
   "cell_type": "code",
   "execution_count": 277,
   "metadata": {
    "collapsed": true
   },
   "outputs": [
    {
     "name": "stdout",
     "output_type": "stream",
     "text": [
      "rgiId\n",
      "rgiLegDes\n",
      "rgiDataVersao\n",
      "rgiRegimeBensId\n",
      "rgiRegimeBensDes\n",
      "rgiCargoDes\n",
      "rgiCargoData\n",
      "rgiApoiosBeneficios\n",
      "rgiServicosPrestados\n",
      "rgiOutrasSituacoes\n",
      "rgiActividades\n",
      "rgiCargosSociais\n",
      "rgiCadId\n"
     ]
    }
   ],
   "source": [
    "for i in data_registobiografico[\"RegistoBiografico\"][\"RegistoInteressesV2List\"][\"pt_ar_wsgode_objectos_DadosDeputadoRgiWebV2\"][0][\"cadRgi\"][\"pt_ar_wsgode_objectos_DadosRegistoInteressesWebV2\"]:\n",
    "    print(i)\n",
    "    "
   ]
  },
  {
   "cell_type": "code",
   "execution_count": 278,
   "metadata": {
    "collapsed": true
   },
   "outputs": [],
   "source": [
    "# Example:\n",
    "data_registobiografico[\"RegistoBiografico\"][\"RegistoInteressesV2List\"][\"pt_ar_wsgode_objectos_DadosDeputadoRgiWebV2\"][0][\"cadRgi\"][\"pt_ar_wsgode_objectos_DadosRegistoInteressesWebV2\"];\n"
   ]
  },
  {
   "cell_type": "markdown",
   "metadata": {},
   "source": [
    "<br>\n",
    "<br>\n",
    "\n",
    "> > > #### 15.02.01.01 - Dados Rgi Atividades\n",
    "> > >\n",
    "> > > _15.02.01 // Dados Registo Interesses_  \n",
    "> > > _15.02 // Registo Interesses V2 List_  \n",
    "> > > _15 // Registo Biografico_"
   ]
  },
  {
   "cell_type": "code",
   "execution_count": 279,
   "metadata": {
    "collapsed": true
   },
   "outputs": [
    {
     "name": "stdout",
     "output_type": "stream",
     "text": [
      "rgaId\n",
      "rgaActividade\n",
      "rgaDataInicio\n",
      "rgaRemunerada\n"
     ]
    }
   ],
   "source": [
    "for i in data_registobiografico[\"RegistoBiografico\"][\"RegistoInteressesV2List\"][\"pt_ar_wsgode_objectos_DadosDeputadoRgiWebV2\"][0][\"cadRgi\"][\"pt_ar_wsgode_objectos_DadosRegistoInteressesWebV2\"][\"rgiActividades\"][\"pt_ar_wsgode_objectos_DadosRgiActividades\"][0]:\n",
    "    print(i)\n",
    "    "
   ]
  },
  {
   "cell_type": "code",
   "execution_count": 280,
   "metadata": {
    "collapsed": true
   },
   "outputs": [
    {
     "data": {
      "text/plain": [
       "{'rgaId': '5493',\n",
       " 'rgaActividade': 'Vereador da Câmara Municipal de Monção',\n",
       " 'rgaDataInicio': '2013-10-21',\n",
       " 'rgaRemunerada': 'N'}"
      ]
     },
     "execution_count": 280,
     "metadata": {},
     "output_type": "execute_result"
    }
   ],
   "source": [
    "# Example:\n",
    "data_registobiografico[\"RegistoBiografico\"][\"RegistoInteressesV2List\"][\"pt_ar_wsgode_objectos_DadosDeputadoRgiWebV2\"][0][\"cadRgi\"][\"pt_ar_wsgode_objectos_DadosRegistoInteressesWebV2\"][\"rgiActividades\"][\"pt_ar_wsgode_objectos_DadosRgiActividades\"][0]\n"
   ]
  },
  {
   "cell_type": "markdown",
   "metadata": {},
   "source": [
    "<br>\n",
    "<br>\n",
    "\n",
    "> > > #### 15.02.01.02 - Dados Deputado Rgi Web V2\n",
    "> > >\n",
    "> > > _15.02.01 // Dados Registo Interesses_  \n",
    "> > > _15.02 // Registo Interesses V2 List_  \n",
    "> > > _15 // Registo Biografico_"
   ]
  },
  {
   "cell_type": "code",
   "execution_count": 281,
   "metadata": {
    "collapsed": true
   },
   "outputs": [
    {
     "name": "stdout",
     "output_type": "stream",
     "text": [
      "rgcId\n",
      "rgcCargo\n",
      "rgcEntidade\n",
      "rgcAreaActividade\n",
      "rgcLocalSede\n",
      "rgcDataInicio\n"
     ]
    }
   ],
   "source": [
    "for i in data_registobiografico[\"RegistoBiografico\"][\"RegistoInteressesV2List\"][\"pt_ar_wsgode_objectos_DadosDeputadoRgiWebV2\"][0][\"cadRgi\"][\"pt_ar_wsgode_objectos_DadosRegistoInteressesWebV2\"][\"rgiCargosSociais\"][\"pt_ar_wsgode_objectos_DadosRgiCargosSociaisV2\"][0]:\n",
    "    print(i)\n",
    "    "
   ]
  },
  {
   "cell_type": "code",
   "execution_count": 282,
   "metadata": {
    "collapsed": true
   },
   "outputs": [
    {
     "data": {
      "text/plain": [
       "{'rgcId': '4778',\n",
       " 'rgcCargo': 'Presidente do Conselho Fiscal',\n",
       " 'rgcEntidade': 'COOPALIMA - Cooperativa Agricola do Vale do Lima',\n",
       " 'rgcAreaActividade': 'Cooperativa Agricola',\n",
       " 'rgcLocalSede': 'Ponte de Lima',\n",
       " 'rgcDataInicio': '2008-12-20'}"
      ]
     },
     "execution_count": 282,
     "metadata": {},
     "output_type": "execute_result"
    }
   ],
   "source": [
    "# Example:\n",
    "data_registobiografico[\"RegistoBiografico\"][\"RegistoInteressesV2List\"][\"pt_ar_wsgode_objectos_DadosDeputadoRgiWebV2\"][0][\"cadRgi\"][\"pt_ar_wsgode_objectos_DadosRegistoInteressesWebV2\"][\"rgiCargosSociais\"][\"pt_ar_wsgode_objectos_DadosRgiCargosSociaisV2\"][0]\n"
   ]
  },
  {
   "cell_type": "markdown",
   "metadata": {},
   "source": [
    "<br>"
   ]
  },
  {
   "cell_type": "markdown",
   "metadata": {},
   "source": [
    "---\n",
    "\n",
    "---"
   ]
  },
  {
   "cell_type": "markdown",
   "metadata": {},
   "source": [
    "<br>\n",
    "<br>\n",
    "\n",
    "# 16 - Perguntas e Requerimentos"
   ]
  },
  {
   "cell_type": "markdown",
   "metadata": {},
   "source": [
    "> **Available files:**\n",
    "> \n",
    "> - requerimentos-06.json\n",
    "> - requerimentos-07.json\n",
    "> - requerimentos-08.json\n",
    "> - requerimentos-09.json\n",
    "> - requerimentos-10.json\n",
    "> - requerimentos-11.json\n",
    "> - requerimentos-12.json\n",
    "> - requerimentos-13.json"
   ]
  },
  {
   "cell_type": "code",
   "execution_count": 283,
   "metadata": {
    "collapsed": true
   },
   "outputs": [],
   "source": [
    "data_requerimentos = json.loads(open(data_source+\"requerimentos-13.json\").read())"
   ]
  },
  {
   "cell_type": "markdown",
   "metadata": {},
   "source": [
    "> **Shortcut:**\n",
    ">\n",
    "> data\\_requerimentos = data\\_requerimentos[\"ArrayOfPt_gov_ar_objectos_requerimentos_DetalheRequerimentosOut\"][\"pt_gov_ar_objectos_requerimentos_DetalheRequerimentosOut\"] "
   ]
  },
  {
   "cell_type": "code",
   "execution_count": 284,
   "metadata": {
    "collapsed": true
   },
   "outputs": [],
   "source": [
    "data_requerimentos = data_requerimentos[\"ArrayOfPt_gov_ar_objectos_requerimentos_DetalheRequerimentosOut\"][\"pt_gov_ar_objectos_requerimentos_DetalheRequerimentosOut\"]"
   ]
  },
  {
   "cell_type": "code",
   "execution_count": 285,
   "metadata": {
    "collapsed": true
   },
   "outputs": [
    {
     "name": "stdout",
     "output_type": "stream",
     "text": [
      "id\n",
      "tipo\n",
      "nr\n",
      "reqTipo\n",
      "legislatura\n",
      "sessao\n",
      "assunto\n",
      "dtEntrada\n",
      "ficheiro\n",
      "destinatarios\n",
      "autores\n"
     ]
    }
   ],
   "source": [
    "for i in data_requerimentos[0]:\n",
    "    print(i)"
   ]
  },
  {
   "cell_type": "code",
   "execution_count": 286,
   "metadata": {
    "collapsed": true,
    "scrolled": true
   },
   "outputs": [
    {
     "data": {
      "text/plain": [
       "{'id': '105312',\n",
       " 'tipo': 'Pergunta',\n",
       " 'nr': '1851',\n",
       " 'reqTipo': 'AC',\n",
       " 'legislatura': 'XIII',\n",
       " 'sessao': '3',\n",
       " 'assunto': 'Insuficiências graves no sistema de saneamento em Montemor-o-Novo',\n",
       " 'dtEntrada': '2018-04-12',\n",
       " 'ficheiro': 'http://app.parlamento.pt/webutils/docs/doc.pdf?path=6148523063446f764c324679595842774f6a63334e7a637664326c75636d56785833426c636d6431626e52686379395953556c4a4c33426e4d5467314d53313461576c704c544d756347526d&fich=pg1851-xiii-3.pdf&Inline=true',\n",
       " 'destinatarios': {'pt_gov_ar_objectos_requerimentos_DestinatariosOut': {'nomeEntidade': 'MIN.  DO AMBIENTE'}},\n",
       " 'autores': {'pt_gov_ar_objectos_iniciativas_AutoresDeputadosOut': {'idCadastro': '839',\n",
       "   'nome': 'PEDRO SOARES',\n",
       "   'GP': 'BE'}}}"
      ]
     },
     "execution_count": 286,
     "metadata": {},
     "output_type": "execute_result"
    }
   ],
   "source": [
    "# Example:\n",
    "data_requerimentos[0]\n"
   ]
  },
  {
   "cell_type": "markdown",
   "metadata": {},
   "source": [
    "<br>\n",
    "<br>\n",
    "\n",
    "> ## 16.01 - Destinatarios\n",
    "> \n",
    "> _16 // Perguntas e Requerimentos_"
   ]
  },
  {
   "cell_type": "code",
   "execution_count": 287,
   "metadata": {
    "collapsed": true
   },
   "outputs": [
    {
     "name": "stdout",
     "output_type": "stream",
     "text": [
      "nomeEntidade\n"
     ]
    }
   ],
   "source": [
    "for i in data_requerimentos[0][\"destinatarios\"][\"pt_gov_ar_objectos_requerimentos_DestinatariosOut\"]:\n",
    "    print(i)\n",
    "    "
   ]
  },
  {
   "cell_type": "code",
   "execution_count": 288,
   "metadata": {
    "collapsed": true
   },
   "outputs": [
    {
     "data": {
      "text/plain": [
       "{'nomeEntidade': 'MIN.  DO AMBIENTE'}"
      ]
     },
     "execution_count": 288,
     "metadata": {},
     "output_type": "execute_result"
    }
   ],
   "source": [
    "# Example:\n",
    "data_requerimentos[0][\"destinatarios\"][\"pt_gov_ar_objectos_requerimentos_DestinatariosOut\"]\n"
   ]
  },
  {
   "cell_type": "markdown",
   "metadata": {},
   "source": [
    "<br>\n",
    "<br>\n",
    "\n",
    "> ## 16.02 - Autores\n",
    "> \n",
    "> _16 // Perguntas e Requerimentos_"
   ]
  },
  {
   "cell_type": "code",
   "execution_count": 289,
   "metadata": {
    "collapsed": true
   },
   "outputs": [
    {
     "name": "stdout",
     "output_type": "stream",
     "text": [
      "idCadastro\n",
      "nome\n",
      "GP\n"
     ]
    }
   ],
   "source": [
    "for i in data_requerimentos[0][\"autores\"][\"pt_gov_ar_objectos_iniciativas_AutoresDeputadosOut\"]:\n",
    "    print(i)\n",
    "    "
   ]
  },
  {
   "cell_type": "code",
   "execution_count": 290,
   "metadata": {
    "collapsed": true
   },
   "outputs": [
    {
     "data": {
      "text/plain": [
       "{'idCadastro': '839', 'nome': 'PEDRO SOARES', 'GP': 'BE'}"
      ]
     },
     "execution_count": 290,
     "metadata": {},
     "output_type": "execute_result"
    }
   ],
   "source": [
    "# Example:\n",
    "data_requerimentos[0][\"autores\"][\"pt_gov_ar_objectos_iniciativas_AutoresDeputadosOut\"]\n"
   ]
  },
  {
   "cell_type": "markdown",
   "metadata": {},
   "source": [
    "<br>"
   ]
  },
  {
   "cell_type": "markdown",
   "metadata": {},
   "source": [
    "---\n",
    "\n",
    "---"
   ]
  },
  {
   "cell_type": "markdown",
   "metadata": {},
   "source": [
    "<br>\n",
    "<br>\n",
    "\n",
    "# 17 - Reunioes e Visitas"
   ]
  },
  {
   "cell_type": "markdown",
   "metadata": {},
   "source": [
    "> **Available files:**\n",
    "> \n",
    "> - reuniao-nacional-09.json\n",
    "> - reuniao-nacional-10.json\n",
    "> - reuniao-nacional-11.json\n",
    "> - reuniao-nacional-12.json\n",
    "> - reuniao-nacional-13.json"
   ]
  },
  {
   "cell_type": "code",
   "execution_count": 291,
   "metadata": {
    "collapsed": true
   },
   "outputs": [],
   "source": [
    "data_reunioes = json.loads(open(data_source+\"reuniao-nacional-13.json\").read())"
   ]
  },
  {
   "cell_type": "markdown",
   "metadata": {},
   "source": [
    "> **Shortcut:**\n",
    ">\n",
    "> data\\_reunioes = data\\_reunioes[\"ArrayOfReuniao\"][\"Reuniao\"]"
   ]
  },
  {
   "cell_type": "code",
   "execution_count": 292,
   "metadata": {
    "collapsed": true
   },
   "outputs": [],
   "source": [
    "data_reunioes = data_reunioes[\"ArrayOfReuniao\"][\"Reuniao\"]"
   ]
  },
  {
   "cell_type": "code",
   "execution_count": 293,
   "metadata": {
    "collapsed": true
   },
   "outputs": [
    {
     "name": "stdout",
     "output_type": "stream",
     "text": [
      "id\n",
      "nome\n",
      "tipo\n",
      "local\n",
      "legislatura\n",
      "sessao\n",
      "dataInicio\n",
      "dataFim\n",
      "promotor\n",
      "participantes\n"
     ]
    }
   ],
   "source": [
    "for i in data_reunioes[0]:\n",
    "    print(i)"
   ]
  },
  {
   "cell_type": "code",
   "execution_count": 294,
   "metadata": {
    "collapsed": true
   },
   "outputs": [
    {
     "data": {
      "text/plain": [
       "{'id': '73',\n",
       " 'nome': 'Reunião de preparação da VI APCPLP',\n",
       " 'tipo': 'RNI',\n",
       " 'local': 'Assembleia da República',\n",
       " 'legislatura': 'XIII',\n",
       " 'sessao': '1',\n",
       " 'dataInicio': '2016-01-14',\n",
       " 'dataFim': None,\n",
       " 'promotor': None,\n",
       " 'participantes': {'Participante': [{'tipo': 'DEP',\n",
       "    'nome': 'ÂNGELA GUERRA',\n",
       "    'gp': 'PSD',\n",
       "    'leg': 'XIII',\n",
       "    'id': '4031'},\n",
       "   {'tipo': 'DEP',\n",
       "    'nome': 'CARLOS PÁSCOA GONÇALVES',\n",
       "    'gp': 'PSD',\n",
       "    'leg': 'XIII',\n",
       "    'id': '2104'},\n",
       "   {'tipo': 'DEP',\n",
       "    'nome': 'PEDRO DO Ó RAMOS',\n",
       "    'gp': 'PSD',\n",
       "    'leg': 'XIII',\n",
       "    'id': '1993'}]}}"
      ]
     },
     "execution_count": 294,
     "metadata": {},
     "output_type": "execute_result"
    }
   ],
   "source": [
    "# Example:\n",
    "data_reunioes[0]\n"
   ]
  },
  {
   "cell_type": "markdown",
   "metadata": {},
   "source": [
    "<br>\n",
    "<br>\n",
    "\n",
    "> ## 17.01 - Participantes\n",
    "> \n",
    "> _17 // Reunioes e Visitas_"
   ]
  },
  {
   "cell_type": "code",
   "execution_count": 295,
   "metadata": {
    "collapsed": true
   },
   "outputs": [
    {
     "name": "stdout",
     "output_type": "stream",
     "text": [
      "tipo\n",
      "nome\n",
      "gp\n",
      "leg\n",
      "id\n"
     ]
    }
   ],
   "source": [
    "for i in data_reunioes[0][\"participantes\"][\"Participante\"][0]:\n",
    "    print(i)\n"
   ]
  },
  {
   "cell_type": "code",
   "execution_count": 296,
   "metadata": {
    "collapsed": true
   },
   "outputs": [
    {
     "data": {
      "text/plain": [
       "{'tipo': 'DEP',\n",
       " 'nome': 'ÂNGELA GUERRA',\n",
       " 'gp': 'PSD',\n",
       " 'leg': 'XIII',\n",
       " 'id': '4031'}"
      ]
     },
     "execution_count": 296,
     "metadata": {},
     "output_type": "execute_result"
    }
   ],
   "source": [
    "# Example:\n",
    "data_reunioes[0][\"participantes\"][\"Participante\"][0]\n"
   ]
  },
  {
   "cell_type": "markdown",
   "metadata": {},
   "source": [
    "<br>"
   ]
  }
 ],
 "metadata": {
  "kernelspec": {
   "display_name": "Python 3",
   "language": "python",
   "name": "python3"
  },
  "language_info": {
   "codemirror_mode": {
    "name": "ipython",
    "version": 3
   },
   "file_extension": ".py",
   "mimetype": "text/x-python",
   "name": "python",
   "nbconvert_exporter": "python",
   "pygments_lexer": "ipython3",
   "version": "3.6.5"
  }
 },
 "nbformat": 4,
 "nbformat_minor": 2
}
