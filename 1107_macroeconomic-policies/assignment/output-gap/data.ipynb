{
 "cells": [
  {
   "cell_type": "code",
   "execution_count": 2,
   "metadata": {},
   "outputs": [],
   "source": [
    "import pandas as pd\n",
    "import numpy as np\n",
    "import statsmodels.api as sm\n",
    "import matplotlib.pyplot as plt"
   ]
  },
  {
   "cell_type": "code",
   "execution_count": 41,
   "metadata": {},
   "outputs": [],
   "source": [
    "SMALL_SIZE = 10\n",
    "MEDIUM_SIZE = 14\n",
    "BIGGER_SIZE = 18\n",
    "\n",
    "plt.rc('font', size=SMALL_SIZE)          # controls default text sizes\n",
    "plt.rc('axes', titlesize=SMALL_SIZE)     # fontsize of the axes title\n",
    "plt.rc('axes', labelsize=MEDIUM_SIZE)    # fontsize of the x and y labels\n",
    "plt.rc('xtick', labelsize=SMALL_SIZE)    # fontsize of the tick labels\n",
    "plt.rc('ytick', labelsize=SMALL_SIZE)    # fontsize of the tick labels\n",
    "plt.rc('legend', fontsize=SMALL_SIZE)    # legend fontsize\n",
    "plt.rc('figure', titlesize=BIGGER_SIZE)  # fontsize of the figure title"
   ]
  },
  {
   "cell_type": "markdown",
   "metadata": {},
   "source": [
    "- **NETD** Employment, persons: all domestic industries (National accounts) (NETD) - 1000 persons\n",
    "- **NLTN** Total labour force (Labour force statistics) (NLTN) -  1000 persons\n",
    "- **OKND** Net capital stock at 2010 prices: total economy (OKND) - Mrd ECU/EUR\n",
    "- **OVGD** Gross domestic product at 2010 reference levels (OVGD) - \n",
    "- **UUTGI** Total expenditure excluding interest: general government :- ESA 2010 (UUTGI) - Mrd ECU/EUR\n",
    "- **ZUTN** Unemployment rate: total :- Member States: definition EUROSTAT (ZUTN) - (Percentage of active population) \n",
    "- **ZVGDF** Total factor productivity: total economy (ZVGDF) - (2010 = 100) \n",
    "- **ZVGDK** Capital share in total factor productivity: total economy (ZVGDK)\n",
    "\n",
    "\n",
    "\n",
    "\n",
    "\n",
    "\n",
    "\n",
    "\n",
    "\n"
   ]
  },
  {
   "cell_type": "code",
   "execution_count": 33,
   "metadata": {},
   "outputs": [],
   "source": [
    "def data_handling(data_source):\n",
    "    study_categories = list(set(data_source.id))\n",
    "    study_countries = data_source.Country.value_counts()[data_source.Country.value_counts() == max(data_source.Country.value_counts())].index.values\n",
    "    study_years = [str(i) for i in range(1960, 2020)]\n",
    "    \n",
    "    counter = 0\n",
    "    col = [\"country\", \"year\"]; col.extend(list(set(data_source.id)))\n",
    "    data = pd.DataFrame(index=col)\n",
    "    \n",
    "    for country in study_countries:\n",
    "        for year in study_years:\n",
    "            counter += 1\n",
    "            indicators = [data_source[(data_source.Country == country) & (data_source.id == cat)][year].values[0] for cat in study_categories]\n",
    "            row_values = [country, int(year)]; row_values.extend(indicators)\n",
    "            data[counter] = row_values\n",
    "    \n",
    "    return(data.transpose(), study_countries, study_categories)"
   ]
  },
  {
   "cell_type": "code",
   "execution_count": 34,
   "metadata": {},
   "outputs": [],
   "source": [
    "source = pd.read_csv(\"./data.csv\")\n",
    "data, countries, indicators = data_handling(source)"
   ]
  },
  {
   "cell_type": "code",
   "execution_count": 36,
   "metadata": {},
   "outputs": [
    {
     "data": {
      "text/html": [
       "<div>\n",
       "<style scoped>\n",
       "    .dataframe tbody tr th:only-of-type {\n",
       "        vertical-align: middle;\n",
       "    }\n",
       "\n",
       "    .dataframe tbody tr th {\n",
       "        vertical-align: top;\n",
       "    }\n",
       "\n",
       "    .dataframe thead th {\n",
       "        text-align: right;\n",
       "    }\n",
       "</style>\n",
       "<table border=\"1\" class=\"dataframe\">\n",
       "  <thead>\n",
       "    <tr style=\"text-align: right;\">\n",
       "      <th></th>\n",
       "      <th>country</th>\n",
       "      <th>year</th>\n",
       "      <th>ZVGDF</th>\n",
       "      <th>NETD</th>\n",
       "      <th>OVGD</th>\n",
       "      <th>UUTGI</th>\n",
       "      <th>ZVGDK</th>\n",
       "      <th>NLTN</th>\n",
       "      <th>ZUTN</th>\n",
       "      <th>OKND</th>\n",
       "    </tr>\n",
       "  </thead>\n",
       "  <tbody>\n",
       "    <tr>\n",
       "      <th>1</th>\n",
       "      <td>Belgium</td>\n",
       "      <td>1960</td>\n",
       "      <td>47.4982</td>\n",
       "      <td>3528.25</td>\n",
       "      <td>90.8924</td>\n",
       "      <td>NaN</td>\n",
       "      <td>95.1597</td>\n",
       "      <td>NaN</td>\n",
       "      <td>2.2</td>\n",
       "      <td>272.677</td>\n",
       "    </tr>\n",
       "    <tr>\n",
       "      <th>2</th>\n",
       "      <td>Belgium</td>\n",
       "      <td>1961</td>\n",
       "      <td>49.1124</td>\n",
       "      <td>3552.2</td>\n",
       "      <td>95.4134</td>\n",
       "      <td>NaN</td>\n",
       "      <td>95.9471</td>\n",
       "      <td>NaN</td>\n",
       "      <td>1.8</td>\n",
       "      <td>280.365</td>\n",
       "    </tr>\n",
       "    <tr>\n",
       "      <th>3</th>\n",
       "      <td>Belgium</td>\n",
       "      <td>1962</td>\n",
       "      <td>50.6319</td>\n",
       "      <td>3597.95</td>\n",
       "      <td>100.357</td>\n",
       "      <td>NaN</td>\n",
       "      <td>96.6925</td>\n",
       "      <td>NaN</td>\n",
       "      <td>1.7</td>\n",
       "      <td>289.205</td>\n",
       "    </tr>\n",
       "    <tr>\n",
       "      <th>4</th>\n",
       "      <td>Belgium</td>\n",
       "      <td>1963</td>\n",
       "      <td>52.2372</td>\n",
       "      <td>3602.53</td>\n",
       "      <td>104.777</td>\n",
       "      <td>NaN</td>\n",
       "      <td>97.2751</td>\n",
       "      <td>NaN</td>\n",
       "      <td>1.5</td>\n",
       "      <td>297.411</td>\n",
       "    </tr>\n",
       "    <tr>\n",
       "      <th>5</th>\n",
       "      <td>Belgium</td>\n",
       "      <td>1964</td>\n",
       "      <td>54.8515</td>\n",
       "      <td>3624.75</td>\n",
       "      <td>112.056</td>\n",
       "      <td>NaN</td>\n",
       "      <td>98.4554</td>\n",
       "      <td>NaN</td>\n",
       "      <td>1.4</td>\n",
       "      <td>308.564</td>\n",
       "    </tr>\n",
       "  </tbody>\n",
       "</table>\n",
       "</div>"
      ],
      "text/plain": [
       "   country  year    ZVGDF     NETD     OVGD UUTGI    ZVGDK NLTN ZUTN     OKND\n",
       "1  Belgium  1960  47.4982  3528.25  90.8924   NaN  95.1597  NaN  2.2  272.677\n",
       "2  Belgium  1961  49.1124   3552.2  95.4134   NaN  95.9471  NaN  1.8  280.365\n",
       "3  Belgium  1962  50.6319  3597.95  100.357   NaN  96.6925  NaN  1.7  289.205\n",
       "4  Belgium  1963  52.2372  3602.53  104.777   NaN  97.2751  NaN  1.5  297.411\n",
       "5  Belgium  1964  54.8515  3624.75  112.056   NaN  98.4554  NaN  1.4  308.564"
      ]
     },
     "execution_count": 36,
     "metadata": {},
     "output_type": "execute_result"
    }
   ],
   "source": [
    "data.head()"
   ]
  },
  {
   "cell_type": "markdown",
   "metadata": {},
   "source": [
    "<br>"
   ]
  },
  {
   "cell_type": "code",
   "execution_count": 96,
   "metadata": {},
   "outputs": [],
   "source": [
    "def plot_PolicyCycle(data_source):\n",
    "    data_PolicyCycle = data_source[(data_source.country == \"Portugal\") & (data_source.year >= 1995)][[\"year\", \"OVGD\", \"UUTGI\"]].set_index(\"year\").pct_change().iloc[1:]\n",
    "    \n",
    "    x = list(data_PolicyCycle.OVGD.values); y = list(data_PolicyCycle.UUTGI.values)\n",
    "    fig, ax = plt.subplots(figsize=(20, 10))\n",
    "    ax.scatter(x, y)\n",
    "\n",
    "    for i, txt in enumerate(data_PolicyCycle.index.values):\n",
    "        ax.annotate(txt, (x[i], y[i]))\n",
    "        \n",
    "    ax.set_aspect('equal')\n",
    "    ax.grid(True, which='both')\n",
    "    ax.axhline(y=0, color='k')\n",
    "    ax.axvline(x=0, color='k')\n",
    "    plt.title(\"Policy in Portugal\", fontsize=20)\n",
    "    plt.ylabel(\"Change in G\")\n",
    "    plt.xlabel(\"Change in GDP\")\n",
    "    \n",
    "    return(plt.show())"
   ]
  },
  {
   "cell_type": "code",
   "execution_count": 97,
   "metadata": {},
   "outputs": [
    {
     "data": {
      "image/png": "[encoded data removed]",
      "text/plain": [
       "<Figure size 1440x720 with 1 Axes>"
      ]
     },
     "metadata": {},
     "output_type": "display_data"
    }
   ],
   "source": [
    "plot_PolicyCycle(data)"
   ]
  },
  {
   "cell_type": "markdown",
   "metadata": {},
   "source": [
    "<br>"
   ]
  }
 ],
 "metadata": {
  "kernelspec": {
   "display_name": "Python 3",
   "language": "python",
   "name": "python3"
  },
  "language_info": {
   "codemirror_mode": {
    "name": "ipython",
    "version": 3
   },
   "file_extension": ".py",
   "mimetype": "text/x-python",
   "name": "python",
   "nbconvert_exporter": "python",
   "pygments_lexer": "ipython3",
   "version": "3.6.6"
  }
 },
 "nbformat": 4,
 "nbformat_minor": 2
}
