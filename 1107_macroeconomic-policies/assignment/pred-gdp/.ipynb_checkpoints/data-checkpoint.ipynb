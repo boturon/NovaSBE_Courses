{
 "cells": [
  {
   "cell_type": "code",
   "execution_count": 1,
   "metadata": {},
   "outputs": [],
   "source": [
    "import os\n",
    "import numpy as np\n",
    "import pandas as pd\n",
    "import matplotlib.pyplot as plt\n",
    "pd.set_option('max_colwidth', 100)"
   ]
  },
  {
   "cell_type": "markdown",
   "metadata": {},
   "source": [
    "<br>"
   ]
  },
  {
   "cell_type": "markdown",
   "metadata": {},
   "source": [
    "# Data"
   ]
  },
  {
   "cell_type": "code",
   "execution_count": 2,
   "metadata": {},
   "outputs": [],
   "source": [
    "path = \"./data/csvs/\"\n",
    "!sed -i \"s/://g\" ./data/csvs/*"
   ]
  },
  {
   "cell_type": "markdown",
   "metadata": {},
   "source": [
    ">## Quarterly"
   ]
  },
  {
   "cell_type": "code",
   "execution_count": 3,
   "metadata": {},
   "outputs": [],
   "source": [
    "namq_10_gdp = pd.read_csv(\"data/csvs/namq_10_gdp_1_Data.csv\", low_memory=False, usecols=lambda x: x not in [\"Flag and Footnotes\"]).dropna() # GDP and main components\n",
    "namq_10_fcs = pd.read_csv(\"data/csvs/namq_10_fcs_1_Data.csv\", low_memory=False, usecols=lambda x: x not in [\"Flag and Footnotes\"]).dropna() # Final consumption aggregates"
   ]
  },
  {
   "cell_type": "code",
   "execution_count": 8,
   "metadata": {},
   "outputs": [],
   "source": [
    "for df in [namq_10_gdp, namq_10_fcs]:\n",
    "    df[\"ID\"] = df[\"TIME\"]+df[\"GEO\"]\n",
    "    df.Value = df.Value.replace(regex=r'[,]+', value='').astype(np.float)"
   ]
  },
  {
   "cell_type": "markdown",
   "metadata": {},
   "source": [
    ">## Monthly"
   ]
  },
  {
   "cell_type": "code",
   "execution_count": 23,
   "metadata": {},
   "outputs": [],
   "source": [
    "ei_bssi_m_r2 = pd.read_csv(\"data/csvs/ei_bssi_m_r2_1_Data.csv\", low_memory=False, usecols=lambda x: x not in [\"Flag and Footnotes\"]).dropna() # Sentiment indicators - monthly data"
   ]
  },
  {
   "cell_type": "code",
   "execution_count": 26,
   "metadata": {},
   "outputs": [],
   "source": [
    "ei_bssi_q_r2 = pd.DataFrame(columns=ei_bssi_m_r2.columns)"
   ]
  },
  {
   "cell_type": "code",
   "execution_count": 32,
   "metadata": {},
   "outputs": [
    {
     "data": {
      "text/html": [
       "<div>\n",
       "<style scoped>\n",
       "    .dataframe tbody tr th:only-of-type {\n",
       "        vertical-align: middle;\n",
       "    }\n",
       "\n",
       "    .dataframe tbody tr th {\n",
       "        vertical-align: top;\n",
       "    }\n",
       "\n",
       "    .dataframe thead th {\n",
       "        text-align: right;\n",
       "    }\n",
       "</style>\n",
       "<table border=\"1\" class=\"dataframe\">\n",
       "  <thead>\n",
       "    <tr style=\"text-align: right;\">\n",
       "      <th></th>\n",
       "      <th>TIME</th>\n",
       "      <th>GEO</th>\n",
       "      <th>GEO_LABEL</th>\n",
       "      <th>INDIC</th>\n",
       "      <th>INDIC_LABEL</th>\n",
       "      <th>S_ADJ</th>\n",
       "      <th>S_ADJ_LABEL</th>\n",
       "      <th>Value</th>\n",
       "    </tr>\n",
       "  </thead>\n",
       "  <tbody>\n",
       "    <tr>\n",
       "      <th>0</th>\n",
       "      <td>1980M01</td>\n",
       "      <td>EU28</td>\n",
       "      <td>European Union (current composition)</td>\n",
       "      <td>BS-CCI-BAL</td>\n",
       "      <td>Construction confidence indicator</td>\n",
       "      <td>SA</td>\n",
       "      <td>Seasonally adjusted data, not calendar adjusted data</td>\n",
       "      <td>-13.5</td>\n",
       "    </tr>\n",
       "    <tr>\n",
       "      <th>1</th>\n",
       "      <td>1980M01</td>\n",
       "      <td>EU28</td>\n",
       "      <td>European Union (current composition)</td>\n",
       "      <td>BS-ESI-I</td>\n",
       "      <td>Economic sentiment indicator</td>\n",
       "      <td>SA</td>\n",
       "      <td>Seasonally adjusted data, not calendar adjusted data</td>\n",
       "      <td>99.6</td>\n",
       "    </tr>\n",
       "    <tr>\n",
       "      <th>2</th>\n",
       "      <td>1980M01</td>\n",
       "      <td>EU28</td>\n",
       "      <td>European Union (current composition)</td>\n",
       "      <td>BS-ICI-BAL</td>\n",
       "      <td>Industrial confidence indicator</td>\n",
       "      <td>SA</td>\n",
       "      <td>Seasonally adjusted data, not calendar adjusted data</td>\n",
       "      <td>-7.3</td>\n",
       "    </tr>\n",
       "    <tr>\n",
       "      <th>6</th>\n",
       "      <td>1980M01</td>\n",
       "      <td>EA19</td>\n",
       "      <td>Euro area (19 countries)</td>\n",
       "      <td>BS-CCI-BAL</td>\n",
       "      <td>Construction confidence indicator</td>\n",
       "      <td>SA</td>\n",
       "      <td>Seasonally adjusted data, not calendar adjusted data</td>\n",
       "      <td>-13.4</td>\n",
       "    </tr>\n",
       "    <tr>\n",
       "      <th>7</th>\n",
       "      <td>1980M01</td>\n",
       "      <td>EA19</td>\n",
       "      <td>Euro area (19 countries)</td>\n",
       "      <td>BS-ESI-I</td>\n",
       "      <td>Economic sentiment indicator</td>\n",
       "      <td>SA</td>\n",
       "      <td>Seasonally adjusted data, not calendar adjusted data</td>\n",
       "      <td>104.0</td>\n",
       "    </tr>\n",
       "  </tbody>\n",
       "</table>\n",
       "</div>"
      ],
      "text/plain": [
       "      TIME   GEO                             GEO_LABEL       INDIC  \\\n",
       "0  1980M01  EU28  European Union (current composition)  BS-CCI-BAL   \n",
       "1  1980M01  EU28  European Union (current composition)    BS-ESI-I   \n",
       "2  1980M01  EU28  European Union (current composition)  BS-ICI-BAL   \n",
       "6  1980M01  EA19              Euro area (19 countries)  BS-CCI-BAL   \n",
       "7  1980M01  EA19              Euro area (19 countries)    BS-ESI-I   \n",
       "\n",
       "                         INDIC_LABEL S_ADJ  \\\n",
       "0  Construction confidence indicator    SA   \n",
       "1       Economic sentiment indicator    SA   \n",
       "2    Industrial confidence indicator    SA   \n",
       "6  Construction confidence indicator    SA   \n",
       "7       Economic sentiment indicator    SA   \n",
       "\n",
       "                                            S_ADJ_LABEL  Value  \n",
       "0  Seasonally adjusted data, not calendar adjusted data  -13.5  \n",
       "1  Seasonally adjusted data, not calendar adjusted data   99.6  \n",
       "2  Seasonally adjusted data, not calendar adjusted data   -7.3  \n",
       "6  Seasonally adjusted data, not calendar adjusted data  -13.4  \n",
       "7  Seasonally adjusted data, not calendar adjusted data  104.0  "
      ]
     },
     "execution_count": 32,
     "metadata": {},
     "output_type": "execute_result"
    }
   ],
   "source": [
    "ei_bssi_m_r2.head()"
   ]
  },
  {
   "cell_type": "code",
   "execution_count": 30,
   "metadata": {},
   "outputs": [
    {
     "data": {
      "text/html": [
       "<div>\n",
       "<style scoped>\n",
       "    .dataframe tbody tr th:only-of-type {\n",
       "        vertical-align: middle;\n",
       "    }\n",
       "\n",
       "    .dataframe tbody tr th {\n",
       "        vertical-align: top;\n",
       "    }\n",
       "\n",
       "    .dataframe thead th {\n",
       "        text-align: right;\n",
       "    }\n",
       "</style>\n",
       "<table border=\"1\" class=\"dataframe\">\n",
       "  <thead>\n",
       "    <tr style=\"text-align: right;\">\n",
       "      <th></th>\n",
       "    </tr>\n",
       "  </thead>\n",
       "  <tbody>\n",
       "    <tr>\n",
       "      <th>TIME</th>\n",
       "    </tr>\n",
       "    <tr>\n",
       "      <th>GEO</th>\n",
       "    </tr>\n",
       "    <tr>\n",
       "      <th>GEO_LABEL</th>\n",
       "    </tr>\n",
       "    <tr>\n",
       "      <th>INDIC</th>\n",
       "    </tr>\n",
       "    <tr>\n",
       "      <th>INDIC_LABEL</th>\n",
       "    </tr>\n",
       "    <tr>\n",
       "      <th>S_ADJ</th>\n",
       "    </tr>\n",
       "    <tr>\n",
       "      <th>S_ADJ_LABEL</th>\n",
       "    </tr>\n",
       "    <tr>\n",
       "      <th>Value</th>\n",
       "    </tr>\n",
       "  </tbody>\n",
       "</table>\n",
       "</div>"
      ],
      "text/plain": [
       "Empty DataFrame\n",
       "Columns: []\n",
       "Index: [TIME, GEO, GEO_LABEL, INDIC, INDIC_LABEL, S_ADJ, S_ADJ_LABEL, Value]"
      ]
     },
     "execution_count": 30,
     "metadata": {},
     "output_type": "execute_result"
    }
   ],
   "source": [
    "ei_bssi_q_r2.transpose()"
   ]
  },
  {
   "cell_type": "markdown",
   "metadata": {},
   "source": [
    "<br>"
   ]
  },
  {
   "cell_type": "markdown",
   "metadata": {},
   "source": [
    "# $C$"
   ]
  },
  {
   "cell_type": "code",
   "execution_count": 38,
   "metadata": {},
   "outputs": [
    {
     "data": {
      "text/html": [
       "<div>\n",
       "<style scoped>\n",
       "    .dataframe tbody tr th:only-of-type {\n",
       "        vertical-align: middle;\n",
       "    }\n",
       "\n",
       "    .dataframe tbody tr th {\n",
       "        vertical-align: top;\n",
       "    }\n",
       "\n",
       "    .dataframe thead th {\n",
       "        text-align: right;\n",
       "    }\n",
       "</style>\n",
       "<table border=\"1\" class=\"dataframe\">\n",
       "  <thead>\n",
       "    <tr style=\"text-align: right;\">\n",
       "      <th></th>\n",
       "      <th>NA_ITEM</th>\n",
       "      <th>NA_ITEM_LABEL</th>\n",
       "    </tr>\n",
       "  </thead>\n",
       "  <tbody>\n",
       "    <tr>\n",
       "      <th>168</th>\n",
       "      <td>P311_S14</td>\n",
       "      <td>Final consumption expenditure of households, durable goods</td>\n",
       "    </tr>\n",
       "    <tr>\n",
       "      <th>169</th>\n",
       "      <td>P312N_S14</td>\n",
       "      <td>Final consumption expenditure of households, semi-durable goods, non-durable goods and services</td>\n",
       "    </tr>\n",
       "  </tbody>\n",
       "</table>\n",
       "</div>"
      ],
      "text/plain": [
       "       NA_ITEM  \\\n",
       "168   P311_S14   \n",
       "169  P312N_S14   \n",
       "\n",
       "                                                                                       NA_ITEM_LABEL  \n",
       "168                                       Final consumption expenditure of households, durable goods  \n",
       "169  Final consumption expenditure of households, semi-durable goods, non-durable goods and services  "
      ]
     },
     "execution_count": 38,
     "metadata": {},
     "output_type": "execute_result"
    }
   ],
   "source": [
    "namq_10_fcs[[\"NA_ITEM\",\"NA_ITEM_LABEL\"]].drop_duplicates()"
   ]
  },
  {
   "cell_type": "code",
   "execution_count": 62,
   "metadata": {},
   "outputs": [
    {
     "data": {
      "text/html": [
       "<div>\n",
       "<style scoped>\n",
       "    .dataframe tbody tr th:only-of-type {\n",
       "        vertical-align: middle;\n",
       "    }\n",
       "\n",
       "    .dataframe tbody tr th {\n",
       "        vertical-align: top;\n",
       "    }\n",
       "\n",
       "    .dataframe thead th {\n",
       "        text-align: right;\n",
       "    }\n",
       "</style>\n",
       "<table border=\"1\" class=\"dataframe\">\n",
       "  <thead>\n",
       "    <tr style=\"text-align: right;\">\n",
       "      <th></th>\n",
       "      <th>UNIT</th>\n",
       "      <th>UNIT_LABEL</th>\n",
       "    </tr>\n",
       "  </thead>\n",
       "  <tbody>\n",
       "    <tr>\n",
       "      <th>168</th>\n",
       "      <td>CLV10_MEUR</td>\n",
       "      <td>Chain linked volumes (2010), million euro</td>\n",
       "    </tr>\n",
       "    <tr>\n",
       "      <th>350</th>\n",
       "      <td>CLV_PCH_PRE</td>\n",
       "      <td>Chain linked volumes, percentage change on previous period</td>\n",
       "    </tr>\n",
       "    <tr>\n",
       "      <th>892</th>\n",
       "      <td>CLV_PCH_SM</td>\n",
       "      <td>Chain linked volumes, percentage change compared to same period in previous year</td>\n",
       "    </tr>\n",
       "  </tbody>\n",
       "</table>\n",
       "</div>"
      ],
      "text/plain": [
       "            UNIT  \\\n",
       "168   CLV10_MEUR   \n",
       "350  CLV_PCH_PRE   \n",
       "892   CLV_PCH_SM   \n",
       "\n",
       "                                                                           UNIT_LABEL  \n",
       "168                                         Chain linked volumes (2010), million euro  \n",
       "350                        Chain linked volumes, percentage change on previous period  \n",
       "892  Chain linked volumes, percentage change compared to same period in previous year  "
      ]
     },
     "execution_count": 62,
     "metadata": {},
     "output_type": "execute_result"
    }
   ],
   "source": [
    "namq_10_fcs[[\"UNIT\",\"UNIT_LABEL\"]].drop_duplicates()"
   ]
  },
  {
   "cell_type": "code",
   "execution_count": 9,
   "metadata": {},
   "outputs": [
    {
     "data": {
      "text/html": [
       "<div>\n",
       "<style scoped>\n",
       "    .dataframe tbody tr th:only-of-type {\n",
       "        vertical-align: middle;\n",
       "    }\n",
       "\n",
       "    .dataframe tbody tr th {\n",
       "        vertical-align: top;\n",
       "    }\n",
       "\n",
       "    .dataframe thead th {\n",
       "        text-align: right;\n",
       "    }\n",
       "</style>\n",
       "<table border=\"1\" class=\"dataframe\">\n",
       "  <thead>\n",
       "    <tr style=\"text-align: right;\">\n",
       "      <th></th>\n",
       "      <th>TIME</th>\n",
       "      <th>GEO</th>\n",
       "      <th>GEO_LABEL</th>\n",
       "      <th>UNIT</th>\n",
       "      <th>UNIT_LABEL</th>\n",
       "      <th>S_ADJ</th>\n",
       "      <th>S_ADJ_LABEL</th>\n",
       "      <th>NA_ITEM</th>\n",
       "      <th>NA_ITEM_LABEL</th>\n",
       "      <th>Value</th>\n",
       "      <th>ID</th>\n",
       "    </tr>\n",
       "  </thead>\n",
       "  <tbody>\n",
       "    <tr>\n",
       "      <th>168</th>\n",
       "      <td>1978Q1</td>\n",
       "      <td>NO</td>\n",
       "      <td>Norway</td>\n",
       "      <td>CLV10_MEUR</td>\n",
       "      <td>Chain linked volumes (2010), million euro</td>\n",
       "      <td>SCA</td>\n",
       "      <td>Seasonally and calendar adjusted data</td>\n",
       "      <td>P311_S14</td>\n",
       "      <td>Final consumption expenditure of households, durable goods</td>\n",
       "      <td>1000.2</td>\n",
       "      <td>1978Q1NO</td>\n",
       "    </tr>\n",
       "    <tr>\n",
       "      <th>169</th>\n",
       "      <td>1978Q1</td>\n",
       "      <td>NO</td>\n",
       "      <td>Norway</td>\n",
       "      <td>CLV10_MEUR</td>\n",
       "      <td>Chain linked volumes (2010), million euro</td>\n",
       "      <td>SCA</td>\n",
       "      <td>Seasonally and calendar adjusted data</td>\n",
       "      <td>P312N_S14</td>\n",
       "      <td>Final consumption expenditure of households, semi-durable goods, non-durable goods and services</td>\n",
       "      <td>12082.9</td>\n",
       "      <td>1978Q1NO</td>\n",
       "    </tr>\n",
       "  </tbody>\n",
       "</table>\n",
       "</div>"
      ],
      "text/plain": [
       "       TIME GEO GEO_LABEL        UNIT  \\\n",
       "168  1978Q1  NO    Norway  CLV10_MEUR   \n",
       "169  1978Q1  NO    Norway  CLV10_MEUR   \n",
       "\n",
       "                                    UNIT_LABEL S_ADJ  \\\n",
       "168  Chain linked volumes (2010), million euro   SCA   \n",
       "169  Chain linked volumes (2010), million euro   SCA   \n",
       "\n",
       "                               S_ADJ_LABEL    NA_ITEM  \\\n",
       "168  Seasonally and calendar adjusted data   P311_S14   \n",
       "169  Seasonally and calendar adjusted data  P312N_S14   \n",
       "\n",
       "                                                                                       NA_ITEM_LABEL  \\\n",
       "168                                       Final consumption expenditure of households, durable goods   \n",
       "169  Final consumption expenditure of households, semi-durable goods, non-durable goods and services   \n",
       "\n",
       "       Value        ID  \n",
       "168   1000.2  1978Q1NO  \n",
       "169  12082.9  1978Q1NO  "
      ]
     },
     "execution_count": 9,
     "metadata": {},
     "output_type": "execute_result"
    }
   ],
   "source": [
    "namq_10_fcs.head(2)"
   ]
  },
  {
   "cell_type": "markdown",
   "metadata": {},
   "source": [
    ">## $Cd$"
   ]
  },
  {
   "cell_type": "code",
   "execution_count": null,
   "metadata": {},
   "outputs": [],
   "source": [
    "pd.read_csv(\"\")"
   ]
  },
  {
   "cell_type": "markdown",
   "metadata": {},
   "source": [
    "$Y$"
   ]
  },
  {
   "cell_type": "code",
   "execution_count": 54,
   "metadata": {},
   "outputs": [
    {
     "data": {
      "text/html": [
       "<div>\n",
       "<style scoped>\n",
       "    .dataframe tbody tr th:only-of-type {\n",
       "        vertical-align: middle;\n",
       "    }\n",
       "\n",
       "    .dataframe tbody tr th {\n",
       "        vertical-align: top;\n",
       "    }\n",
       "\n",
       "    .dataframe thead th {\n",
       "        text-align: right;\n",
       "    }\n",
       "</style>\n",
       "<table border=\"1\" class=\"dataframe\">\n",
       "  <thead>\n",
       "    <tr style=\"text-align: right;\">\n",
       "      <th></th>\n",
       "      <th>TIME</th>\n",
       "      <th>GEO</th>\n",
       "      <th>GEO_LABEL</th>\n",
       "      <th>UNIT</th>\n",
       "      <th>UNIT_LABEL</th>\n",
       "      <th>S_ADJ</th>\n",
       "      <th>S_ADJ_LABEL</th>\n",
       "      <th>NA_ITEM</th>\n",
       "      <th>NA_ITEM_LABEL</th>\n",
       "      <th>Value</th>\n",
       "    </tr>\n",
       "  </thead>\n",
       "  <tbody>\n",
       "    <tr>\n",
       "      <th>168</th>\n",
       "      <td>1978Q1</td>\n",
       "      <td>NO</td>\n",
       "      <td>Norway</td>\n",
       "      <td>CLV10_MEUR</td>\n",
       "      <td>Chain linked volumes (2010), million euro</td>\n",
       "      <td>SCA</td>\n",
       "      <td>Seasonally and calendar adjusted data</td>\n",
       "      <td>P311_S14</td>\n",
       "      <td>Final consumption expenditure of households, durable goods</td>\n",
       "      <td>1,000.2</td>\n",
       "    </tr>\n",
       "    <tr>\n",
       "      <th>169</th>\n",
       "      <td>1978Q1</td>\n",
       "      <td>NO</td>\n",
       "      <td>Norway</td>\n",
       "      <td>CLV10_MEUR</td>\n",
       "      <td>Chain linked volumes (2010), million euro</td>\n",
       "      <td>SCA</td>\n",
       "      <td>Seasonally and calendar adjusted data</td>\n",
       "      <td>P312N_S14</td>\n",
       "      <td>Final consumption expenditure of households, semi-durable goods, non-durable goods and services</td>\n",
       "      <td>12,082.9</td>\n",
       "    </tr>\n",
       "  </tbody>\n",
       "</table>\n",
       "</div>"
      ],
      "text/plain": [
       "       TIME GEO GEO_LABEL        UNIT  \\\n",
       "168  1978Q1  NO    Norway  CLV10_MEUR   \n",
       "169  1978Q1  NO    Norway  CLV10_MEUR   \n",
       "\n",
       "                                    UNIT_LABEL S_ADJ  \\\n",
       "168  Chain linked volumes (2010), million euro   SCA   \n",
       "169  Chain linked volumes (2010), million euro   SCA   \n",
       "\n",
       "                               S_ADJ_LABEL    NA_ITEM  \\\n",
       "168  Seasonally and calendar adjusted data   P311_S14   \n",
       "169  Seasonally and calendar adjusted data  P312N_S14   \n",
       "\n",
       "                                                                                       NA_ITEM_LABEL  \\\n",
       "168                                       Final consumption expenditure of households, durable goods   \n",
       "169  Final consumption expenditure of households, semi-durable goods, non-durable goods and services   \n",
       "\n",
       "        Value  \n",
       "168   1,000.2  \n",
       "169  12,082.9  "
      ]
     },
     "execution_count": 54,
     "metadata": {},
     "output_type": "execute_result"
    }
   ],
   "source": [
    "namq_10_fcs[(namq_10_fcs.NA_ITEM == \"P311_S14\")&(namq_10_fcs.NA_ITEM == \"P311_S14\")]"
   ]
  },
  {
   "cell_type": "code",
   "execution_count": 58,
   "metadata": {},
   "outputs": [
    {
     "data": {
      "text/html": [
       "<div>\n",
       "<style scoped>\n",
       "    .dataframe tbody tr th:only-of-type {\n",
       "        vertical-align: middle;\n",
       "    }\n",
       "\n",
       "    .dataframe tbody tr th {\n",
       "        vertical-align: top;\n",
       "    }\n",
       "\n",
       "    .dataframe thead th {\n",
       "        text-align: right;\n",
       "    }\n",
       "</style>\n",
       "<table border=\"1\" class=\"dataframe\">\n",
       "  <thead>\n",
       "    <tr style=\"text-align: right;\">\n",
       "      <th></th>\n",
       "      <th>TIME</th>\n",
       "      <th>GEO</th>\n",
       "      <th>GEO_LABEL</th>\n",
       "      <th>UNIT</th>\n",
       "      <th>UNIT_LABEL</th>\n",
       "      <th>S_ADJ</th>\n",
       "      <th>S_ADJ_LABEL</th>\n",
       "      <th>NA_ITEM</th>\n",
       "      <th>NA_ITEM_LABEL</th>\n",
       "      <th>Value</th>\n",
       "    </tr>\n",
       "  </thead>\n",
       "  <tbody>\n",
       "    <tr>\n",
       "      <th>168</th>\n",
       "      <td>1978Q1</td>\n",
       "      <td>NO</td>\n",
       "      <td>Norway</td>\n",
       "      <td>CLV10_MEUR</td>\n",
       "      <td>Chain linked volumes (2010), million euro</td>\n",
       "      <td>SCA</td>\n",
       "      <td>Seasonally and calendar adjusted data</td>\n",
       "      <td>P311_S14</td>\n",
       "      <td>Final consumption expenditure of households, durable goods</td>\n",
       "      <td>1,000.2</td>\n",
       "    </tr>\n",
       "    <tr>\n",
       "      <th>348</th>\n",
       "      <td>1978Q2</td>\n",
       "      <td>NO</td>\n",
       "      <td>Norway</td>\n",
       "      <td>CLV10_MEUR</td>\n",
       "      <td>Chain linked volumes (2010), million euro</td>\n",
       "      <td>SCA</td>\n",
       "      <td>Seasonally and calendar adjusted data</td>\n",
       "      <td>P311_S14</td>\n",
       "      <td>Final consumption expenditure of households, durable goods</td>\n",
       "      <td>942.3</td>\n",
       "    </tr>\n",
       "  </tbody>\n",
       "</table>\n",
       "</div>"
      ],
      "text/plain": [
       "       TIME GEO GEO_LABEL        UNIT  \\\n",
       "168  1978Q1  NO    Norway  CLV10_MEUR   \n",
       "348  1978Q2  NO    Norway  CLV10_MEUR   \n",
       "\n",
       "                                    UNIT_LABEL S_ADJ  \\\n",
       "168  Chain linked volumes (2010), million euro   SCA   \n",
       "348  Chain linked volumes (2010), million euro   SCA   \n",
       "\n",
       "                               S_ADJ_LABEL   NA_ITEM  \\\n",
       "168  Seasonally and calendar adjusted data  P311_S14   \n",
       "348  Seasonally and calendar adjusted data  P311_S14   \n",
       "\n",
       "                                                  NA_ITEM_LABEL    Value  \n",
       "168  Final consumption expenditure of households, durable goods  1,000.2  \n",
       "348  Final consumption expenditure of households, durable goods    942.3  "
      ]
     },
     "execution_count": 58,
     "metadata": {},
     "output_type": "execute_result"
    }
   ],
   "source": [
    "namq_10_fcs[namq_10_fcs.NA_ITEM == \"P311_S14\"].head(2)"
   ]
  },
  {
   "cell_type": "code",
   "execution_count": null,
   "metadata": {},
   "outputs": [],
   "source": [
    "namq_10_fcs[namq_10_fcs.TIME == \"P311_S14\"]"
   ]
  },
  {
   "cell_type": "markdown",
   "metadata": {},
   "source": [
    ">## $Cnd$"
   ]
  },
  {
   "cell_type": "code",
   "execution_count": null,
   "metadata": {},
   "outputs": [],
   "source": []
  },
  {
   "cell_type": "markdown",
   "metadata": {},
   "source": [
    "# $I$"
   ]
  },
  {
   "cell_type": "code",
   "execution_count": 29,
   "metadata": {},
   "outputs": [
    {
     "data": {
      "text/html": [
       "<div>\n",
       "<style scoped>\n",
       "    .dataframe tbody tr th:only-of-type {\n",
       "        vertical-align: middle;\n",
       "    }\n",
       "\n",
       "    .dataframe tbody tr th {\n",
       "        vertical-align: top;\n",
       "    }\n",
       "\n",
       "    .dataframe thead th {\n",
       "        text-align: right;\n",
       "    }\n",
       "</style>\n",
       "<table border=\"1\" class=\"dataframe\">\n",
       "  <thead>\n",
       "    <tr style=\"text-align: right;\">\n",
       "      <th></th>\n",
       "      <th>NA_ITEM</th>\n",
       "      <th>NA_ITEM_LABEL</th>\n",
       "    </tr>\n",
       "  </thead>\n",
       "  <tbody>\n",
       "    <tr>\n",
       "      <th>270</th>\n",
       "      <td>B1GQ</td>\n",
       "      <td>Gross domestic product at market prices</td>\n",
       "    </tr>\n",
       "    <tr>\n",
       "      <th>14551</th>\n",
       "      <td>P3_S13</td>\n",
       "      <td>Final consumption expenditure of general government</td>\n",
       "    </tr>\n",
       "    <tr>\n",
       "      <th>14552</th>\n",
       "      <td>P5G</td>\n",
       "      <td>Gross capital formation</td>\n",
       "    </tr>\n",
       "    <tr>\n",
       "      <th>14553</th>\n",
       "      <td>P51G</td>\n",
       "      <td>Gross fixed capital formation</td>\n",
       "    </tr>\n",
       "    <tr>\n",
       "      <th>14556</th>\n",
       "      <td>P61</td>\n",
       "      <td>Exports of goods</td>\n",
       "    </tr>\n",
       "    <tr>\n",
       "      <th>14557</th>\n",
       "      <td>P62</td>\n",
       "      <td>Exports of services</td>\n",
       "    </tr>\n",
       "    <tr>\n",
       "      <th>14558</th>\n",
       "      <td>P71</td>\n",
       "      <td>Imports of goods</td>\n",
       "    </tr>\n",
       "    <tr>\n",
       "      <th>14559</th>\n",
       "      <td>P72</td>\n",
       "      <td>Imports of services</td>\n",
       "    </tr>\n",
       "  </tbody>\n",
       "</table>\n",
       "</div>"
      ],
      "text/plain": [
       "      NA_ITEM                                        NA_ITEM_LABEL\n",
       "270      B1GQ              Gross domestic product at market prices\n",
       "14551  P3_S13  Final consumption expenditure of general government\n",
       "14552     P5G                              Gross capital formation\n",
       "14553    P51G                        Gross fixed capital formation\n",
       "14556     P61                                     Exports of goods\n",
       "14557     P62                                  Exports of services\n",
       "14558     P71                                     Imports of goods\n",
       "14559     P72                                  Imports of services"
      ]
     },
     "execution_count": 29,
     "metadata": {},
     "output_type": "execute_result"
    }
   ],
   "source": [
    "namq_10_gdp[[\"NA_ITEM\",\"NA_ITEM_LABEL\"]].drop_duplicates()"
   ]
  },
  {
   "cell_type": "markdown",
   "metadata": {},
   "source": [
    ">## $Igfcf$"
   ]
  },
  {
   "cell_type": "code",
   "execution_count": null,
   "metadata": {},
   "outputs": [],
   "source": []
  },
  {
   "cell_type": "markdown",
   "metadata": {},
   "source": [
    "# $G$"
   ]
  },
  {
   "cell_type": "code",
   "execution_count": 30,
   "metadata": {},
   "outputs": [
    {
     "data": {
      "text/html": [
       "<div>\n",
       "<style scoped>\n",
       "    .dataframe tbody tr th:only-of-type {\n",
       "        vertical-align: middle;\n",
       "    }\n",
       "\n",
       "    .dataframe tbody tr th {\n",
       "        vertical-align: top;\n",
       "    }\n",
       "\n",
       "    .dataframe thead th {\n",
       "        text-align: right;\n",
       "    }\n",
       "</style>\n",
       "<table border=\"1\" class=\"dataframe\">\n",
       "  <thead>\n",
       "    <tr style=\"text-align: right;\">\n",
       "      <th></th>\n",
       "      <th>NA_ITEM</th>\n",
       "      <th>NA_ITEM_LABEL</th>\n",
       "    </tr>\n",
       "  </thead>\n",
       "  <tbody>\n",
       "    <tr>\n",
       "      <th>270</th>\n",
       "      <td>B1GQ</td>\n",
       "      <td>Gross domestic product at market prices</td>\n",
       "    </tr>\n",
       "    <tr>\n",
       "      <th>14551</th>\n",
       "      <td>P3_S13</td>\n",
       "      <td>Final consumption expenditure of general government</td>\n",
       "    </tr>\n",
       "    <tr>\n",
       "      <th>14552</th>\n",
       "      <td>P5G</td>\n",
       "      <td>Gross capital formation</td>\n",
       "    </tr>\n",
       "    <tr>\n",
       "      <th>14553</th>\n",
       "      <td>P51G</td>\n",
       "      <td>Gross fixed capital formation</td>\n",
       "    </tr>\n",
       "    <tr>\n",
       "      <th>14556</th>\n",
       "      <td>P61</td>\n",
       "      <td>Exports of goods</td>\n",
       "    </tr>\n",
       "    <tr>\n",
       "      <th>14557</th>\n",
       "      <td>P62</td>\n",
       "      <td>Exports of services</td>\n",
       "    </tr>\n",
       "    <tr>\n",
       "      <th>14558</th>\n",
       "      <td>P71</td>\n",
       "      <td>Imports of goods</td>\n",
       "    </tr>\n",
       "    <tr>\n",
       "      <th>14559</th>\n",
       "      <td>P72</td>\n",
       "      <td>Imports of services</td>\n",
       "    </tr>\n",
       "  </tbody>\n",
       "</table>\n",
       "</div>"
      ],
      "text/plain": [
       "      NA_ITEM                                        NA_ITEM_LABEL\n",
       "270      B1GQ              Gross domestic product at market prices\n",
       "14551  P3_S13  Final consumption expenditure of general government\n",
       "14552     P5G                              Gross capital formation\n",
       "14553    P51G                        Gross fixed capital formation\n",
       "14556     P61                                     Exports of goods\n",
       "14557     P62                                  Exports of services\n",
       "14558     P71                                     Imports of goods\n",
       "14559     P72                                  Imports of services"
      ]
     },
     "execution_count": 30,
     "metadata": {},
     "output_type": "execute_result"
    }
   ],
   "source": [
    "namq_10_gdp[[\"NA_ITEM\",\"NA_ITEM_LABEL\"]].drop_duplicates()"
   ]
  },
  {
   "cell_type": "markdown",
   "metadata": {},
   "source": [
    "# $X$"
   ]
  },
  {
   "cell_type": "markdown",
   "metadata": {},
   "source": [
    ">## $Xg$"
   ]
  },
  {
   "cell_type": "code",
   "execution_count": null,
   "metadata": {},
   "outputs": [],
   "source": []
  },
  {
   "cell_type": "markdown",
   "metadata": {},
   "source": [
    ">## $Xs$"
   ]
  },
  {
   "cell_type": "code",
   "execution_count": 31,
   "metadata": {},
   "outputs": [
    {
     "data": {
      "text/html": [
       "<div>\n",
       "<style scoped>\n",
       "    .dataframe tbody tr th:only-of-type {\n",
       "        vertical-align: middle;\n",
       "    }\n",
       "\n",
       "    .dataframe tbody tr th {\n",
       "        vertical-align: top;\n",
       "    }\n",
       "\n",
       "    .dataframe thead th {\n",
       "        text-align: right;\n",
       "    }\n",
       "</style>\n",
       "<table border=\"1\" class=\"dataframe\">\n",
       "  <thead>\n",
       "    <tr style=\"text-align: right;\">\n",
       "      <th></th>\n",
       "      <th>NA_ITEM</th>\n",
       "      <th>NA_ITEM_LABEL</th>\n",
       "    </tr>\n",
       "  </thead>\n",
       "  <tbody>\n",
       "    <tr>\n",
       "      <th>270</th>\n",
       "      <td>B1GQ</td>\n",
       "      <td>Gross domestic product at market prices</td>\n",
       "    </tr>\n",
       "    <tr>\n",
       "      <th>14551</th>\n",
       "      <td>P3_S13</td>\n",
       "      <td>Final consumption expenditure of general government</td>\n",
       "    </tr>\n",
       "    <tr>\n",
       "      <th>14552</th>\n",
       "      <td>P5G</td>\n",
       "      <td>Gross capital formation</td>\n",
       "    </tr>\n",
       "    <tr>\n",
       "      <th>14553</th>\n",
       "      <td>P51G</td>\n",
       "      <td>Gross fixed capital formation</td>\n",
       "    </tr>\n",
       "    <tr>\n",
       "      <th>14556</th>\n",
       "      <td>P61</td>\n",
       "      <td>Exports of goods</td>\n",
       "    </tr>\n",
       "    <tr>\n",
       "      <th>14557</th>\n",
       "      <td>P62</td>\n",
       "      <td>Exports of services</td>\n",
       "    </tr>\n",
       "    <tr>\n",
       "      <th>14558</th>\n",
       "      <td>P71</td>\n",
       "      <td>Imports of goods</td>\n",
       "    </tr>\n",
       "    <tr>\n",
       "      <th>14559</th>\n",
       "      <td>P72</td>\n",
       "      <td>Imports of services</td>\n",
       "    </tr>\n",
       "  </tbody>\n",
       "</table>\n",
       "</div>"
      ],
      "text/plain": [
       "      NA_ITEM                                        NA_ITEM_LABEL\n",
       "270      B1GQ              Gross domestic product at market prices\n",
       "14551  P3_S13  Final consumption expenditure of general government\n",
       "14552     P5G                              Gross capital formation\n",
       "14553    P51G                        Gross fixed capital formation\n",
       "14556     P61                                     Exports of goods\n",
       "14557     P62                                  Exports of services\n",
       "14558     P71                                     Imports of goods\n",
       "14559     P72                                  Imports of services"
      ]
     },
     "execution_count": 31,
     "metadata": {},
     "output_type": "execute_result"
    }
   ],
   "source": [
    "namq_10_gdp[[\"NA_ITEM\",\"NA_ITEM_LABEL\"]].drop_duplicates()"
   ]
  },
  {
   "cell_type": "markdown",
   "metadata": {},
   "source": [
    "# $M$"
   ]
  },
  {
   "cell_type": "markdown",
   "metadata": {},
   "source": [
    ">## $Mg$"
   ]
  },
  {
   "cell_type": "code",
   "execution_count": null,
   "metadata": {},
   "outputs": [],
   "source": []
  },
  {
   "cell_type": "markdown",
   "metadata": {},
   "source": [
    ">## $Ms$"
   ]
  },
  {
   "cell_type": "code",
   "execution_count": 32,
   "metadata": {},
   "outputs": [
    {
     "data": {
      "text/html": [
       "<div>\n",
       "<style scoped>\n",
       "    .dataframe tbody tr th:only-of-type {\n",
       "        vertical-align: middle;\n",
       "    }\n",
       "\n",
       "    .dataframe tbody tr th {\n",
       "        vertical-align: top;\n",
       "    }\n",
       "\n",
       "    .dataframe thead th {\n",
       "        text-align: right;\n",
       "    }\n",
       "</style>\n",
       "<table border=\"1\" class=\"dataframe\">\n",
       "  <thead>\n",
       "    <tr style=\"text-align: right;\">\n",
       "      <th></th>\n",
       "      <th>NA_ITEM</th>\n",
       "      <th>NA_ITEM_LABEL</th>\n",
       "    </tr>\n",
       "  </thead>\n",
       "  <tbody>\n",
       "    <tr>\n",
       "      <th>270</th>\n",
       "      <td>B1GQ</td>\n",
       "      <td>Gross domestic product at market prices</td>\n",
       "    </tr>\n",
       "    <tr>\n",
       "      <th>14551</th>\n",
       "      <td>P3_S13</td>\n",
       "      <td>Final consumption expenditure of general government</td>\n",
       "    </tr>\n",
       "    <tr>\n",
       "      <th>14552</th>\n",
       "      <td>P5G</td>\n",
       "      <td>Gross capital formation</td>\n",
       "    </tr>\n",
       "    <tr>\n",
       "      <th>14553</th>\n",
       "      <td>P51G</td>\n",
       "      <td>Gross fixed capital formation</td>\n",
       "    </tr>\n",
       "    <tr>\n",
       "      <th>14556</th>\n",
       "      <td>P61</td>\n",
       "      <td>Exports of goods</td>\n",
       "    </tr>\n",
       "    <tr>\n",
       "      <th>14557</th>\n",
       "      <td>P62</td>\n",
       "      <td>Exports of services</td>\n",
       "    </tr>\n",
       "    <tr>\n",
       "      <th>14558</th>\n",
       "      <td>P71</td>\n",
       "      <td>Imports of goods</td>\n",
       "    </tr>\n",
       "    <tr>\n",
       "      <th>14559</th>\n",
       "      <td>P72</td>\n",
       "      <td>Imports of services</td>\n",
       "    </tr>\n",
       "  </tbody>\n",
       "</table>\n",
       "</div>"
      ],
      "text/plain": [
       "      NA_ITEM                                        NA_ITEM_LABEL\n",
       "270      B1GQ              Gross domestic product at market prices\n",
       "14551  P3_S13  Final consumption expenditure of general government\n",
       "14552     P5G                              Gross capital formation\n",
       "14553    P51G                        Gross fixed capital formation\n",
       "14556     P61                                     Exports of goods\n",
       "14557     P62                                  Exports of services\n",
       "14558     P71                                     Imports of goods\n",
       "14559     P72                                  Imports of services"
      ]
     },
     "execution_count": 32,
     "metadata": {},
     "output_type": "execute_result"
    }
   ],
   "source": [
    "namq_10_gdp[[\"NA_ITEM\",\"NA_ITEM_LABEL\"]].drop_duplicates()"
   ]
  },
  {
   "cell_type": "code",
   "execution_count": 66,
   "metadata": {},
   "outputs": [
    {
     "data": {
      "text/html": [
       "<div>\n",
       "<style scoped>\n",
       "    .dataframe tbody tr th:only-of-type {\n",
       "        vertical-align: middle;\n",
       "    }\n",
       "\n",
       "    .dataframe tbody tr th {\n",
       "        vertical-align: top;\n",
       "    }\n",
       "\n",
       "    .dataframe thead th {\n",
       "        text-align: right;\n",
       "    }\n",
       "</style>\n",
       "<table border=\"1\" class=\"dataframe\">\n",
       "  <thead>\n",
       "    <tr style=\"text-align: right;\">\n",
       "      <th></th>\n",
       "      <th>TIME</th>\n",
       "      <th>GEO</th>\n",
       "      <th>GEO_LABEL</th>\n",
       "      <th>UNIT</th>\n",
       "      <th>UNIT_LABEL</th>\n",
       "      <th>S_ADJ</th>\n",
       "      <th>S_ADJ_LABEL</th>\n",
       "      <th>NA_ITEM</th>\n",
       "      <th>NA_ITEM_LABEL</th>\n",
       "      <th>Value</th>\n",
       "    </tr>\n",
       "  </thead>\n",
       "  <tbody>\n",
       "    <tr>\n",
       "      <th>270</th>\n",
       "      <td>1975Q1</td>\n",
       "      <td>FR</td>\n",
       "      <td>France</td>\n",
       "      <td>CLV10_MEUR</td>\n",
       "      <td>Chain linked volumes (2010), million euro</td>\n",
       "      <td>SCA</td>\n",
       "      <td>Seasonally and calendar adjusted data</td>\n",
       "      <td>B1GQ</td>\n",
       "      <td>Gross domestic product at market prices</td>\n",
       "      <td>237,727.0</td>\n",
       "    </tr>\n",
       "    <tr>\n",
       "      <th>280</th>\n",
       "      <td>1975Q1</td>\n",
       "      <td>FR</td>\n",
       "      <td>France</td>\n",
       "      <td>CLV_PCH_PRE</td>\n",
       "      <td>Chain linked volumes, percentage change on previous period</td>\n",
       "      <td>SCA</td>\n",
       "      <td>Seasonally and calendar adjusted data</td>\n",
       "      <td>B1GQ</td>\n",
       "      <td>Gross domestic product at market prices</td>\n",
       "      <td>-0.7</td>\n",
       "    </tr>\n",
       "  </tbody>\n",
       "</table>\n",
       "</div>"
      ],
      "text/plain": [
       "       TIME GEO GEO_LABEL         UNIT  \\\n",
       "270  1975Q1  FR    France   CLV10_MEUR   \n",
       "280  1975Q1  FR    France  CLV_PCH_PRE   \n",
       "\n",
       "                                                     UNIT_LABEL S_ADJ  \\\n",
       "270                   Chain linked volumes (2010), million euro   SCA   \n",
       "280  Chain linked volumes, percentage change on previous period   SCA   \n",
       "\n",
       "                               S_ADJ_LABEL NA_ITEM  \\\n",
       "270  Seasonally and calendar adjusted data    B1GQ   \n",
       "280  Seasonally and calendar adjusted data    B1GQ   \n",
       "\n",
       "                               NA_ITEM_LABEL      Value  \n",
       "270  Gross domestic product at market prices  237,727.0  \n",
       "280  Gross domestic product at market prices       -0.7  "
      ]
     },
     "execution_count": 66,
     "metadata": {},
     "output_type": "execute_result"
    }
   ],
   "source": [
    "namq_10_gdp.head(2)"
   ]
  },
  {
   "cell_type": "markdown",
   "metadata": {},
   "source": [
    "<br>"
   ]
  },
  {
   "cell_type": "markdown",
   "metadata": {},
   "source": [
    "# $\\textrm{Confidence Indicators}$"
   ]
  },
  {
   "cell_type": "code",
   "execution_count": 49,
   "metadata": {},
   "outputs": [
    {
     "data": {
      "text/html": [
       "<div>\n",
       "<style scoped>\n",
       "    .dataframe tbody tr th:only-of-type {\n",
       "        vertical-align: middle;\n",
       "    }\n",
       "\n",
       "    .dataframe tbody tr th {\n",
       "        vertical-align: top;\n",
       "    }\n",
       "\n",
       "    .dataframe thead th {\n",
       "        text-align: right;\n",
       "    }\n",
       "</style>\n",
       "<table border=\"1\" class=\"dataframe\">\n",
       "  <thead>\n",
       "    <tr style=\"text-align: right;\">\n",
       "      <th></th>\n",
       "      <th>INDIC</th>\n",
       "      <th>INDIC_LABEL</th>\n",
       "    </tr>\n",
       "  </thead>\n",
       "  <tbody>\n",
       "    <tr>\n",
       "      <th>0</th>\n",
       "      <td>BS-CCI-BAL</td>\n",
       "      <td>Construction confidence indicator</td>\n",
       "    </tr>\n",
       "    <tr>\n",
       "      <th>1</th>\n",
       "      <td>BS-ESI-I</td>\n",
       "      <td>Economic sentiment indicator</td>\n",
       "    </tr>\n",
       "    <tr>\n",
       "      <th>2</th>\n",
       "      <td>BS-ICI-BAL</td>\n",
       "      <td>Industrial confidence indicator</td>\n",
       "    </tr>\n",
       "    <tr>\n",
       "      <th>82</th>\n",
       "      <td>BS-CSMCI-BAL</td>\n",
       "      <td>Consumer confidence indicator</td>\n",
       "    </tr>\n",
       "    <tr>\n",
       "      <th>9969</th>\n",
       "      <td>BS-RCI-BAL</td>\n",
       "      <td>Retail confidence indicator</td>\n",
       "    </tr>\n",
       "    <tr>\n",
       "      <th>19655</th>\n",
       "      <td>BS-SCI-BAL</td>\n",
       "      <td>Services Confidence Indicator</td>\n",
       "    </tr>\n",
       "  </tbody>\n",
       "</table>\n",
       "</div>"
      ],
      "text/plain": [
       "              INDIC                        INDIC_LABEL\n",
       "0        BS-CCI-BAL  Construction confidence indicator\n",
       "1          BS-ESI-I       Economic sentiment indicator\n",
       "2        BS-ICI-BAL    Industrial confidence indicator\n",
       "82     BS-CSMCI-BAL      Consumer confidence indicator\n",
       "9969     BS-RCI-BAL        Retail confidence indicator\n",
       "19655    BS-SCI-BAL      Services Confidence Indicator"
      ]
     },
     "execution_count": 49,
     "metadata": {},
     "output_type": "execute_result"
    }
   ],
   "source": [
    "ei_bssi_m_r2[[\"INDIC\",\"INDIC_LABEL\"]].drop_duplicates()"
   ]
  },
  {
   "cell_type": "code",
   "execution_count": 65,
   "metadata": {},
   "outputs": [
    {
     "data": {
      "text/html": [
       "<div>\n",
       "<style scoped>\n",
       "    .dataframe tbody tr th:only-of-type {\n",
       "        vertical-align: middle;\n",
       "    }\n",
       "\n",
       "    .dataframe tbody tr th {\n",
       "        vertical-align: top;\n",
       "    }\n",
       "\n",
       "    .dataframe thead th {\n",
       "        text-align: right;\n",
       "    }\n",
       "</style>\n",
       "<table border=\"1\" class=\"dataframe\">\n",
       "  <thead>\n",
       "    <tr style=\"text-align: right;\">\n",
       "      <th></th>\n",
       "      <th>TIME</th>\n",
       "      <th>GEO</th>\n",
       "      <th>GEO_LABEL</th>\n",
       "      <th>INDIC</th>\n",
       "      <th>INDIC_LABEL</th>\n",
       "      <th>S_ADJ</th>\n",
       "      <th>S_ADJ_LABEL</th>\n",
       "      <th>Value</th>\n",
       "    </tr>\n",
       "  </thead>\n",
       "  <tbody>\n",
       "    <tr>\n",
       "      <th>0</th>\n",
       "      <td>1980M01</td>\n",
       "      <td>EU28</td>\n",
       "      <td>European Union (current composition)</td>\n",
       "      <td>BS-CCI-BAL</td>\n",
       "      <td>Construction confidence indicator</td>\n",
       "      <td>SA</td>\n",
       "      <td>Seasonally adjusted data, not calendar adjusted data</td>\n",
       "      <td>-13.5</td>\n",
       "    </tr>\n",
       "    <tr>\n",
       "      <th>1</th>\n",
       "      <td>1980M01</td>\n",
       "      <td>EU28</td>\n",
       "      <td>European Union (current composition)</td>\n",
       "      <td>BS-ESI-I</td>\n",
       "      <td>Economic sentiment indicator</td>\n",
       "      <td>SA</td>\n",
       "      <td>Seasonally adjusted data, not calendar adjusted data</td>\n",
       "      <td>99.6</td>\n",
       "    </tr>\n",
       "  </tbody>\n",
       "</table>\n",
       "</div>"
      ],
      "text/plain": [
       "      TIME   GEO                             GEO_LABEL       INDIC  \\\n",
       "0  1980M01  EU28  European Union (current composition)  BS-CCI-BAL   \n",
       "1  1980M01  EU28  European Union (current composition)    BS-ESI-I   \n",
       "\n",
       "                         INDIC_LABEL S_ADJ  \\\n",
       "0  Construction confidence indicator    SA   \n",
       "1       Economic sentiment indicator    SA   \n",
       "\n",
       "                                            S_ADJ_LABEL  Value  \n",
       "0  Seasonally adjusted data, not calendar adjusted data  -13.5  \n",
       "1  Seasonally adjusted data, not calendar adjusted data   99.6  "
      ]
     },
     "execution_count": 65,
     "metadata": {},
     "output_type": "execute_result"
    }
   ],
   "source": [
    "ei_bssi_m_r2.head(2)"
   ]
  },
  {
   "cell_type": "code",
   "execution_count": null,
   "metadata": {},
   "outputs": [],
   "source": []
  }
 ],
 "metadata": {
  "kernelspec": {
   "display_name": "Python 3",
   "language": "python",
   "name": "python3"
  },
  "language_info": {
   "codemirror_mode": {
    "name": "ipython",
    "version": 3
   },
   "file_extension": ".py",
   "mimetype": "text/x-python",
   "name": "python",
   "nbconvert_exporter": "python",
   "pygments_lexer": "ipython3",
   "version": "3.6.6"
  }
 },
 "nbformat": 4,
 "nbformat_minor": 2
}
