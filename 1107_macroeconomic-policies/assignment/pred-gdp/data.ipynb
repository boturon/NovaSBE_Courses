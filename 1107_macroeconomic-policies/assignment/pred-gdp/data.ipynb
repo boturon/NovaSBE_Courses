{
 "cells": [
  {
   "cell_type": "code",
   "execution_count": 1,
   "metadata": {},
   "outputs": [],
   "source": [
    "import os\n",
    "import itertools\n",
    "import numpy as np\n",
    "import pandas as pd\n",
    "import seaborn as sns\n",
    "import statsmodels.api as sm\n",
    "import matplotlib.pyplot as plt\n",
    "pd.set_option('max_colwidth', 100)\n",
    "pd.set_option('display.max_rows', 25)\n",
    "pd.set_option('display.max_columns', 100)"
   ]
  },
  {
   "cell_type": "markdown",
   "metadata": {},
   "source": [
    "<br>"
   ]
  },
  {
   "cell_type": "markdown",
   "metadata": {},
   "source": [
    "# Functions"
   ]
  },
  {
   "cell_type": "code",
   "execution_count": 2,
   "metadata": {},
   "outputs": [],
   "source": [
    "def M2Q(df_in):\n",
    "    d = {\"M03\":\"Q1\", \"M06\":\"Q2\", \"M09\":\"Q3\", \"M12\":\"Q4\"}\n",
    "    df_out = df_in[df_in['TIME'].apply(lambda x: x[-3:] in list(d.keys()))].copy()\n",
    "    df_out.TIME = df_out['TIME'].apply(lambda x: x[:4]+d[x[-3:]]).copy()\n",
    "    return(df_out)\n",
    "\n",
    "def Qp1(df_in):\n",
    "    d = {\"Q1\":\"Q2\", \"Q2\":\"Q3\", \"Q3\":\"Q4\", \"Q4\":\"Q1\"}\n",
    "    df_out = df_in.copy()\n",
    "    df_out.TIME = df_out['TIME'].apply(lambda x: str(int(x[:-2])+1)+d[x[-2:]] if x[-1:] == \"4\" else x[:-2]+d[x[-2:]]).copy()\n",
    "    return(df_out)"
   ]
  },
  {
   "cell_type": "markdown",
   "metadata": {},
   "source": [
    "<br>"
   ]
  },
  {
   "cell_type": "markdown",
   "metadata": {},
   "source": [
    "# Data"
   ]
  },
  {
   "cell_type": "code",
   "execution_count": 3,
   "metadata": {},
   "outputs": [],
   "source": [
    "path = \"./data/csvs/\"\n",
    "!sed -i \"s/://g\" ./data/*"
   ]
  },
  {
   "cell_type": "code",
   "execution_count": 4,
   "metadata": {},
   "outputs": [],
   "source": [
    "#!head -n 1 data/une_rt_q_Label.csv"
   ]
  },
  {
   "cell_type": "markdown",
   "metadata": {},
   "source": [
    ">## Quarterly"
   ]
  },
  {
   "cell_type": "code",
   "execution_count": 5,
   "metadata": {},
   "outputs": [],
   "source": [
    "# DATASET Construction - quarterly data - index (2015 = 100) (NACE Rev. 2) [ei_isbu_q]\n",
    "ei_isbu_q = pd.read_csv(\"./data/ei_isbu_q_1_Data.csv\", low_memory=False, usecols=lambda x: x not in [\"Flag and Footnotes\"]).dropna()\n",
    "ei_isbu_q_lag = Qp1(ei_isbu_q.copy())\n",
    "\n",
    "# DATASET Final consumption aggregates [namq_10_fcs]\n",
    "namq_10_fcs = pd.read_csv(\"./data/namq_10_fcs_1_Data.csv\", low_memory=False, usecols=lambda x: x not in [\"Flag and Footnotes\"]).dropna()\n",
    "namq_10_fcs_lag = Qp1(namq_10_fcs.copy())\n",
    "\n",
    "# DATASET: GDP and main components  (output, expenditure and income) [namq_10_gdp]\n",
    "namq_10_gdp = pd.read_csv(\"./data/namq_10_gdp_1_Data.csv\", low_memory=False, usecols=lambda x: x not in [\"Flag and Footnotes\"]).dropna()\n",
    "namq_10_gdp_lag = Qp1(namq_10_gdp.copy())\n",
    "\n",
    "# DATASET Building permits - quarterly data [sts_cobp_q]\n",
    "sts_cobp_q = pd.read_csv(\"./data/sts_cobp_q_1_Data.csv\", low_memory=False, usecols=lambda x: x not in [\"Flag and Footnotes\"]).dropna()\n",
    "sts_cobp_q_lag = Qp1(sts_cobp_q.copy())\n",
    "\n",
    "# DATASET Production in construction - quarterly data [sts_copr_q]\n",
    "sts_copr_q = pd.read_csv(\"./data/sts_copr_q_1_Data.csv\", low_memory=False, usecols=lambda x: x not in [\"Flag and Footnotes\"]).dropna()\n",
    "sts_copr_q_lag = Qp1(sts_copr_q.copy())\n",
    "\n",
    "# DATASET Production in industry - quarterly data [sts_inpr_q]\n",
    "sts_inpr_q = pd.read_csv(\"./data/sts_inpr_q_1_Data.csv\", low_memory=False, usecols=lambda x: x not in [\"Flag and Footnotes\"]).dropna()\n",
    "sts_inpr_q_lag = Qp1(sts_inpr_q.copy())\n",
    "\n",
    "# DATASET Turnover in industry, total - quarterly data [sts_intv_q]\n",
    "sts_intv_q = pd.read_csv(\"./data/sts_intv_q_1_Data.csv\", low_memory=False, usecols=lambda x: x not in [\"Flag and Footnotes\"]).dropna()\n",
    "sts_intv_q_lag = Qp1(sts_intv_q.copy())\n",
    "\n",
    "# DATASET Turnover and volume of sales in wholesale and retail trade - quarterly data [sts_trtu_q]\n",
    "sts_trtu_q = pd.read_csv(\"./data/sts_trtu_q_1_Data.csv\", low_memory=False, usecols=lambda x: x not in [\"Flag and Footnotes\"]).dropna()\n",
    "sts_trtu_q_lag = Qp1(sts_trtu_q.copy())\n",
    "\n",
    "# DATASET: Unemployment by sex and age - quarterly average [une_rt_q]\n",
    "une_rt_q = pd.read_csv(\"./data/une_rt_q_1_Data.csv\", low_memory=False, usecols=lambda x: x not in [\"Flag and Footnotes\"]).dropna()\n",
    "une_rt_q = une_rt_q[une_rt_q.UNIT==\"PC_ACT\"].copy()\n",
    "une_rt_q_lag = Qp1(une_rt_q.copy())"
   ]
  },
  {
   "cell_type": "code",
   "execution_count": 6,
   "metadata": {},
   "outputs": [],
   "source": [
    "ECB_gdp_yoy_3q_g = {'AT': 0.026, 'BE': 0.014, 'CY': 0.039,'EE': 0.037, \n",
    "                    'FI': 0.025, 'FR': 0.015, 'DE': 0.012, 'EL': 0.018, \n",
    "                    'IE': 0.091, 'IT': 0.008, 'LV': 0.044, 'LT': 0.027, \n",
    "                    'LU': 0.031, 'MT': 0.057, 'NL': 0.023, 'PT': 0.024, \n",
    "                    'SK': 0.045, 'SI': 0.043, 'ES': 0.025}"
   ]
  },
  {
   "cell_type": "markdown",
   "metadata": {},
   "source": [
    ">## Monthly"
   ]
  },
  {
   "cell_type": "code",
   "execution_count": 7,
   "metadata": {},
   "outputs": [],
   "source": [
    "# DATASET Euro-zone Business Climate Indicator - monthly data [ei_bsci_m_r2]\n",
    "ei_bsci_m_r2_1 = M2Q(pd.read_csv(\"./data/ei_bsci_m_r2_1_Data.csv\", low_memory=False, usecols=lambda x: x not in [\"Flag and Footnotes\"]).dropna())\n",
    "\n",
    "# DATASET Sentiment indicators - monthly data [ei_bssi_m_r2]\n",
    "ei_bssi_m_r2 = M2Q(pd.read_csv(\"./data/ei_bssi_m_r2_1_Data.csv\", low_memory=False, usecols=lambda x: x not in [\"Flag and Footnotes\"]).dropna())\n",
    "\n",
    "# DATASET Effective exchange rates indices - monthly data [ei_mfef_m]\n",
    "ei_mfef_m = M2Q(pd.read_csv(\"./data/ei_mfef_m_1_Data.csv\", low_memory=False, usecols=lambda x: x not in [\"Flag and Footnotes\"]).dropna())"
   ]
  },
  {
   "cell_type": "markdown",
   "metadata": {},
   "source": [
    "**Dealing with ids:**"
   ]
  },
  {
   "cell_type": "code",
   "execution_count": 8,
   "metadata": {},
   "outputs": [],
   "source": [
    "for df in [ei_isbu_q, ei_isbu_q_lag, namq_10_fcs, namq_10_fcs_lag, namq_10_gdp, \n",
    "           namq_10_gdp_lag, sts_cobp_q, sts_cobp_q_lag, sts_copr_q, sts_copr_q_lag, \n",
    "           sts_inpr_q, sts_inpr_q_lag, sts_intv_q, sts_intv_q_lag, sts_trtu_q, \n",
    "           sts_trtu_q_lag, ei_isbu_q, ei_isbu_q_lag, namq_10_fcs, namq_10_fcs_lag, \n",
    "           namq_10_gdp, namq_10_gdp_lag, sts_cobp_q, sts_cobp_q_lag, sts_copr_q, sts_copr_q_lag, \n",
    "           sts_inpr_q, sts_inpr_q_lag, sts_intv_q, sts_intv_q_lag, sts_trtu_q, sts_trtu_q_lag, ei_bsci_m_r2_1, ei_bssi_m_r2, ei_mfef_m, une_rt_q, une_rt_q_lag]:\n",
    "    df[\"ID\"] = df[\"TIME\"]+df[\"GEO\"]\n",
    "    df.Value = df.Value.replace(regex=r'[,]+', value='').astype(np.float)"
   ]
  },
  {
   "cell_type": "markdown",
   "metadata": {},
   "source": [
    "\n",
    "\n",
    "># OECD"
   ]
  },
  {
   "cell_type": "code",
   "execution_count": 9,
   "metadata": {},
   "outputs": [],
   "source": [
    "def OECDtable():\n",
    "    GEO_LABEL2GEO = dict(zip(namq_10_gdp.GEO_LABEL.values, namq_10_gdp.GEO.values)); GEO_LABEL2GEO[\"Germany\"] = \"DE\"\n",
    "    df_in = pd.read_csv(\"data/KEI_13112018143436794_[v1-oecd].csv\")\n",
    "    df_in[\"GEO\"] = df_in.Country.map(GEO_LABEL2GEO)\n",
    "    df_in = df_in[df_in.GEO.notnull()]\n",
    "    df_in[\"ID\"] = df_in.TIME.str[:4]+df_in.TIME.str[-2:]+df_in.GEO\n",
    "    return(df_in)"
   ]
  },
  {
   "cell_type": "code",
   "execution_count": 10,
   "metadata": {},
   "outputs": [],
   "source": [
    "OECD = OECDtable()"
   ]
  },
  {
   "cell_type": "markdown",
   "metadata": {},
   "source": [
    "<br>"
   ]
  },
  {
   "cell_type": "markdown",
   "metadata": {},
   "source": [
    "# $C$"
   ]
  },
  {
   "cell_type": "markdown",
   "metadata": {},
   "source": [
    ">## $Cd$"
   ]
  },
  {
   "cell_type": "code",
   "execution_count": 11,
   "metadata": {},
   "outputs": [],
   "source": [
    "def Cd(model_variables=[], version=0, all_boolean=False, country_dummies=True):\n",
    "    df_in = pd.DataFrame(sorted(list(set(namq_10_fcs.ID))), columns=[\"ID\"])\n",
    "    \n",
    "    ###########################################################################################\n",
    "    \n",
    "    # Chain linked volumes, percentage change compared to same period in previous year\n",
    "    var = \"CLV_PCH_SM\"\n",
    "    selec = namq_10_fcs[(namq_10_fcs.NA_ITEM==\"P311_S14\")&(namq_10_fcs.UNIT==var)][[\"ID\", \"Value\"]]; selec.columns = [\"ID\", var]\n",
    "    df_in = pd.merge(df_in, selec, on='ID', how=\"inner\")\n",
    "    \n",
    "    # Chain linked volumes, percentage change on previous period\n",
    "    var = \"CLV_PCH_PRE\"\n",
    "    if var in model_variables or all_boolean:\n",
    "        selec = namq_10_fcs_lag[(namq_10_fcs_lag.NA_ITEM==\"P311_S14\")&(namq_10_fcs_lag.UNIT==var)][[\"ID\", \"Value\"]]; selec.columns = [\"ID\", var]\n",
    "        df_in = pd.merge(df_in, selec, on='ID', how=\"inner\")\n",
    "    \n",
    "    # Business Climate Indicator\n",
    "    var = \"BS-BCI\"\n",
    "    if var in model_variables or all_boolean:\n",
    "        dic_BCI = dict(zip(ei_bsci_m_r2_1.TIME.values, ei_bsci_m_r2_1.Value.values))\n",
    "        df_in[var] = df_in.ID.str[:-2].map(dic_BCI)\n",
    "    \n",
    "    # Retail Confidence Indicator\n",
    "    var = \"BS-RCI-BAL\"\n",
    "    if var in model_variables or all_boolean:\n",
    "        selec = ei_bssi_m_r2[ei_bssi_m_r2.INDIC==var][[\"ID\", \"Value\"]]; selec.columns = [\"ID\", var]\n",
    "        df_in = pd.merge(df_in, selec, on='ID', how=\"inner\")\n",
    "        \n",
    "    # Services Confidence Indicator\n",
    "    var = \"BS-SCI-BAL\"\n",
    "    if var in model_variables or all_boolean:\n",
    "        selec = ei_bssi_m_r2[ei_bssi_m_r2.INDIC==var][[\"ID\", \"Value\"]]; selec.columns = [\"ID\", var]\n",
    "        df_in = pd.merge(df_in, selec, on='ID', how=\"inner\")\n",
    "    \n",
    "    # Consumer Confidence Indicator\n",
    "    var = \"BS-CSMCI-BAL\"\n",
    "    if var in model_variables or all_boolean:\n",
    "        selec = ei_bssi_m_r2[ei_bssi_m_r2.INDIC==var][[\"ID\", \"Value\"]]; selec.columns = [\"ID\", var]\n",
    "        df_in = pd.merge(df_in, selec, on='ID', how=\"inner\")\n",
    "    \n",
    "    # Production in industry: MIG - Durable Consumer Goods\n",
    "    var = \"MIG_DCOG\"\n",
    "    if var in model_variables or all_boolean:\n",
    "        selec = sts_inpr_q[sts_inpr_q.NACE_R2==var][[\"ID\", \"Value\"]]; selec.columns = [\"ID\", var]\n",
    "        df_in = pd.merge(df_in, selec, on='ID', how=\"inner\")\n",
    "    \n",
    "    # Manufacture of motor vehicles, trailers, semi-trailers and of other transport equipment\n",
    "    # Checked - UNIT I15\n",
    "    var = \"C29_C30\"\n",
    "    if var in model_variables or all_boolean:\n",
    "        selec = sts_intv_q[(sts_intv_q.NACE_R2==var)&(sts_intv_q.UNIT==\"I15\")][[\"ID\", \"Value\"]]; selec.columns = [\"ID\", var]\n",
    "        df_in = pd.merge(df_in, selec, on='ID', how=\"inner\")\n",
    "        \n",
    "    # Harmonised unemployment rate all persons, s.a.\n",
    "    var = \"LRHUTTTT\"\n",
    "    if var in model_variables or all_boolean:\n",
    "        selec = OECD[OECD.SUBJECT==var][[\"ID\", \"Value\"]]; selec.columns = [\"ID\", var]\n",
    "        df_in = pd.merge(df_in, selec, on='ID', how=\"inner\")\n",
    "        \n",
    "    # Passenger car registrations, s.a.\n",
    "    var = \"SLRTCR03\"\n",
    "    if var in model_variables or all_boolean:\n",
    "        selec = OECD[OECD.SUBJECT==var][[\"ID\", \"Value\"]]; selec.columns = [\"ID\", var]\n",
    "        df_in = pd.merge(df_in, selec, on='ID', how=\"inner\")\n",
    "    \n",
    "    ###########################################################################################\n",
    "    \n",
    "    # Dummies\n",
    "    if country_dummies:\n",
    "        countries = set(namq_10_fcs.GEO); countries.remove('PT')\n",
    "        for country in sorted(list(countries)):\n",
    "            df_in[\"D_\"+country] = (df_in.ID.str[-2:] == country).astype(int)\n",
    "    \n",
    "    Cd = df_in.dropna().copy(); Cd.set_index(\"ID\", inplace=True)\n",
    "    Cd = Cd.loc[:, (Cd != 0).any(axis=0)].copy()\n",
    "    del var, selec, df_in\n",
    "    \n",
    "    ###########################################################################################\n",
    "    \n",
    "    # Save\n",
    "    if version != 0:\n",
    "        Cd.to_csv(\"./regressions/Cd\"+str(version)+\".csv\")\n",
    "        \n",
    "    ###########################################################################################\n",
    "    \n",
    "    # Regression\n",
    "    if version != 0:\n",
    "        if version == 1:\n",
    "            Cd.columns = ['C_d_g_yoy', 'retail_conf_ind', 'services_conf_ind', \n",
    "                          'consumer_conf_ind', \n",
    "                          'D_AT', 'D_BE', 'D_BG', 'D_CZ', 'D_DE', 'D_DK', 'D_EE', 'D_EL', 'D_ES', 'D_FI', \n",
    "                          'D_FR', 'D_IT', 'D_LT', 'D_LV', 'D_MT', 'D_NL', 'D_PL', 'D_SE', 'D_SI', 'D_UK']\n",
    "        elif version == 2:\n",
    "            Cd.columns = ['C_d_g_yoy','retail_conf_ind', 'services_conf_ind', \n",
    "                          'consumer_conf_ind', 'vehicle_heavy_man', 'vehicle_light_reg',\n",
    "                          'D_AT', 'D_BE', 'D_DE', 'D_DK', 'D_EE', 'D_EL', 'D_ES', 'D_FI', \n",
    "                          'D_FR', 'D_IT', 'D_LT', 'D_LV', 'D_NL', 'D_PL', 'D_SE', 'D_UK']            \n",
    "        elif version == 3:\n",
    "            Cd.columns = ['C_d_g_yoy', 'C_d_g_qoq', 'retail_conf_ind', 'services_conf_ind', \n",
    "                          'consumer_conf_ind', 'vehicle_heavy_man', 'vehicle_light_reg', \n",
    "                          'D_AT', 'D_BE', 'D_DE', 'D_DK', 'D_EE', 'D_EL', 'D_ES', 'D_FI', \n",
    "                          'D_FR', 'D_IT', 'D_LT', 'D_LV', 'D_NL', 'D_PL', 'D_SE', 'D_UK']\n",
    "        X = sm.add_constant(Cd.loc[:, Cd.columns != \"C_d_g_yoy\"].copy())\n",
    "        y = Cd.loc[:, \"C_d_g_yoy\"].copy()\n",
    "    else:\n",
    "        X = sm.add_constant(Cd.loc[:, Cd.columns != \"CLV_PCH_SM\"].copy())\n",
    "        y = Cd.loc[:, \"CLV_PCH_SM\"].copy()\n",
    "    results = sm.OLS(y, X).fit()\n",
    "    print(results.summary())\n",
    "    \n",
    "    return(Cd, results)"
   ]
  },
  {
   "cell_type": "code",
   "execution_count": 12,
   "metadata": {},
   "outputs": [
    {
     "name": "stdout",
     "output_type": "stream",
     "text": [
      "                            OLS Regression Results                            \n",
      "==============================================================================\n",
      "Dep. Variable:              C_d_g_yoy   R-squared:                       0.381\n",
      "Model:                            OLS   Adj. R-squared:                  0.371\n",
      "Method:                 Least Squares   F-statistic:                     41.82\n",
      "Date:                Fri, 16 Nov 2018   Prob (F-statistic):          1.26e-144\n",
      "Time:                        02:45:52   Log-Likelihood:                -5697.7\n",
      "No. Observations:                1590   AIC:                         1.144e+04\n",
      "Df Residuals:                    1566   BIC:                         1.157e+04\n",
      "Df Model:                          23                                         \n",
      "Covariance Type:            nonrobust                                         \n",
      "=====================================================================================\n",
      "                        coef    std err          t      P>|t|      [0.025      0.975]\n",
      "-------------------------------------------------------------------------------------\n",
      "const                 5.6867      1.146      4.964      0.000       3.440       7.934\n",
      "retail_conf_ind       0.2389      0.025      9.414      0.000       0.189       0.289\n",
      "services_conf_ind     0.1625      0.021      7.852      0.000       0.122       0.203\n",
      "consumer_conf_ind     0.1280      0.030      4.274      0.000       0.069       0.187\n",
      "D_AT                 -3.9307      1.462     -2.689      0.007      -6.798      -1.063\n",
      "D_BE                 -2.8206      1.393     -2.025      0.043      -5.553      -0.089\n",
      "D_BG                  5.7781      1.588      3.638      0.000       2.663       8.893\n",
      "D_CZ                 -6.8245      1.532     -4.454      0.000      -9.830      -3.819\n",
      "D_DE                 -1.2420      1.469     -0.845      0.398      -4.124       1.640\n",
      "D_DK                 -5.4201      2.013     -2.693      0.007      -9.368      -1.472\n",
      "D_EE                 -1.2912      1.495     -0.864      0.388      -4.223       1.641\n",
      "D_EL                  1.0156      1.565      0.649      0.516      -2.054       4.085\n",
      "D_ES                 -1.8301      1.375     -1.331      0.183      -4.527       0.867\n",
      "D_FI                 -3.7818      1.638     -2.308      0.021      -6.995      -0.568\n",
      "D_FR                  1.8363      1.251      1.467      0.142      -0.618       4.291\n",
      "D_IT                 -1.8118      1.370     -1.322      0.186      -4.499       0.876\n",
      "D_LT                  7.1920      1.459      4.930      0.000       4.331      10.053\n",
      "D_LV                  7.8198      1.460      5.355      0.000       4.956      10.684\n",
      "D_MT                 -3.5458      1.925     -1.842      0.066      -7.321       0.230\n",
      "D_NL                 -5.9470      1.465     -4.060      0.000      -8.820      -3.074\n",
      "D_PL                  4.5611      1.470      3.103      0.002       1.678       7.444\n",
      "D_SE                 -5.2203      1.517     -3.441      0.001      -8.196      -2.244\n",
      "D_SI                 -3.1885      1.497     -2.130      0.033      -6.124      -0.253\n",
      "D_UK                 -0.0994      1.396     -0.071      0.943      -2.838       2.640\n",
      "==============================================================================\n",
      "Omnibus:                      295.740   Durbin-Watson:                   1.879\n",
      "Prob(Omnibus):                  0.000   Jarque-Bera (JB):             3953.887\n",
      "Skew:                           0.451   Prob(JB):                         0.00\n",
      "Kurtosis:                      10.673   Cond. No.                         488.\n",
      "==============================================================================\n",
      "\n",
      "Warnings:\n",
      "[1] Standard Errors assume that the covariance matrix of the errors is correctly specified.\n"
     ]
    }
   ],
   "source": [
    "Cd1, Cd1_results = Cd([\"BS-RCI-BAL\", \"BS-SCI-BAL\", \"BS-CSMCI-BAL\"], 1)"
   ]
  },
  {
   "cell_type": "code",
   "execution_count": 13,
   "metadata": {},
   "outputs": [
    {
     "name": "stdout",
     "output_type": "stream",
     "text": [
      "                            OLS Regression Results                            \n",
      "==============================================================================\n",
      "Dep. Variable:              C_d_g_yoy   R-squared:                       0.499\n",
      "Model:                            OLS   Adj. R-squared:                  0.489\n",
      "Method:                 Least Squares   F-statistic:                     51.95\n",
      "Date:                Fri, 16 Nov 2018   Prob (F-statistic):          5.33e-148\n",
      "Time:                        02:45:52   Log-Likelihood:                -3873.9\n",
      "No. Observations:                1118   AIC:                             7792.\n",
      "Df Residuals:                    1096   BIC:                             7902.\n",
      "Df Model:                          21                                         \n",
      "Covariance Type:            nonrobust                                         \n",
      "=====================================================================================\n",
      "                        coef    std err          t      P>|t|      [0.025      0.975]\n",
      "-------------------------------------------------------------------------------------\n",
      "const                 5.0236      2.056      2.443      0.015       0.989       9.058\n",
      "retail_conf_ind       0.3269      0.029     11.438      0.000       0.271       0.383\n",
      "services_conf_ind     0.1059      0.023      4.631      0.000       0.061       0.151\n",
      "consumer_conf_ind     0.1270      0.035      3.583      0.000       0.057       0.197\n",
      "vehicle_heavy_man    -0.0769      0.012     -6.251      0.000      -0.101      -0.053\n",
      "vehicle_light_reg     0.0744      0.011      6.658      0.000       0.052       0.096\n",
      "D_AT                 -2.2496      1.565     -1.437      0.151      -5.321       0.822\n",
      "D_BE                 -0.9885      1.416     -0.698      0.485      -3.767       1.790\n",
      "D_DE                 -0.3665      1.481     -0.248      0.805      -3.272       2.539\n",
      "D_DK                 -3.0039      2.004     -1.499      0.134      -6.937       0.929\n",
      "D_EE                 -2.4749      1.482     -1.670      0.095      -5.382       0.432\n",
      "D_EL                  1.4950      2.027      0.738      0.461      -2.482       5.472\n",
      "D_ES                 -1.2299      1.373     -0.896      0.371      -3.925       1.465\n",
      "D_FI                 -2.2114      1.700     -1.300      0.194      -5.548       1.125\n",
      "D_FR                  1.7169      1.305      1.316      0.188      -0.843       4.277\n",
      "D_IT                 -3.9173      1.321     -2.966      0.003      -6.509      -1.326\n",
      "D_LT                  9.5064      1.438      6.612      0.000       6.685      12.328\n",
      "D_LV                  7.4148      1.386      5.349      0.000       4.695      10.135\n",
      "D_NL                 -5.9424      1.576     -3.771      0.000      -9.035      -2.850\n",
      "D_PL                  4.4546      1.390      3.204      0.001       1.727       7.182\n",
      "D_SE                 -5.7215      1.650     -3.468      0.001      -8.958      -2.485\n",
      "D_UK                  0.1457      1.415      0.103      0.918      -2.631       2.922\n",
      "==============================================================================\n",
      "Omnibus:                      215.815   Durbin-Watson:                   1.923\n",
      "Prob(Omnibus):                  0.000   Jarque-Bera (JB):             3515.921\n",
      "Skew:                           0.383   Prob(JB):                         0.00\n",
      "Kurtosis:                      11.654   Cond. No.                     2.73e+03\n",
      "==============================================================================\n",
      "\n",
      "Warnings:\n",
      "[1] Standard Errors assume that the covariance matrix of the errors is correctly specified.\n",
      "[2] The condition number is large, 2.73e+03. This might indicate that there are\n",
      "strong multicollinearity or other numerical problems.\n"
     ]
    }
   ],
   "source": [
    "Cd2, Cd2_results = Cd([\"BS-RCI-BAL\", \"BS-SCI-BAL\", \"BS-CSMCI-BAL\", \"SLRTCR03\", \"C29_C30\"], 2)"
   ]
  },
  {
   "cell_type": "code",
   "execution_count": 14,
   "metadata": {},
   "outputs": [
    {
     "data": {
      "image/png": "[encoded data removed]",
      "text/plain": [
       "<Figure size 1440x504 with 4 Axes>"
      ]
     },
     "metadata": {
      "needs_background": "light"
     },
     "output_type": "display_data"
    }
   ],
   "source": [
    "f, axes = plt.subplots(1, 2, figsize=(20, 7)); axes = axes.flatten()\n",
    "sns.heatmap(Cd1.corr(), mask=np.zeros_like(Cd1.corr(), dtype=np.bool),\n",
    "            cmap=sns.diverging_palette(10, 220, as_cmap=True),square=True, ax=axes[0]);\n",
    "sns.heatmap(Cd2.corr(), mask=np.zeros_like(Cd2.corr(), dtype=np.bool),\n",
    "            cmap=sns.diverging_palette(10, 220, as_cmap=True),square=True, ax=axes[1])\n",
    "plt.tight_layout();"
   ]
  },
  {
   "cell_type": "code",
   "execution_count": 15,
   "metadata": {},
   "outputs": [
    {
     "name": "stdout",
     "output_type": "stream",
     "text": [
      "                            OLS Regression Results                            \n",
      "==============================================================================\n",
      "Dep. Variable:              C_d_g_yoy   R-squared:                       0.608\n",
      "Model:                            OLS   Adj. R-squared:                  0.600\n",
      "Method:                 Least Squares   F-statistic:                     77.26\n",
      "Date:                Fri, 16 Nov 2018   Prob (F-statistic):          8.26e-205\n",
      "Time:                        02:45:55   Log-Likelihood:                -3736.3\n",
      "No. Observations:                1118   AIC:                             7519.\n",
      "Df Residuals:                    1095   BIC:                             7634.\n",
      "Df Model:                          22                                         \n",
      "Covariance Type:            nonrobust                                         \n",
      "=====================================================================================\n",
      "                        coef    std err          t      P>|t|      [0.025      0.975]\n",
      "-------------------------------------------------------------------------------------\n",
      "const                 3.1473      1.822      1.727      0.084      -0.428       6.722\n",
      "C_d_g_qoq             0.9206      0.053     17.482      0.000       0.817       1.024\n",
      "retail_conf_ind       0.2402      0.026      9.322      0.000       0.190       0.291\n",
      "services_conf_ind     0.0783      0.020      3.859      0.000       0.038       0.118\n",
      "consumer_conf_ind     0.1011      0.031      3.220      0.001       0.039       0.163\n",
      "vehicle_heavy_man    -0.0622      0.011     -5.696      0.000      -0.084      -0.041\n",
      "vehicle_light_reg     0.0670      0.010      6.772      0.000       0.048       0.086\n",
      "D_AT                 -1.7719      1.385     -1.279      0.201      -4.490       0.946\n",
      "D_BE                 -0.7242      1.253     -0.578      0.563      -3.182       1.734\n",
      "D_DE                 -0.4604      1.310     -0.352      0.725      -3.031       2.110\n",
      "D_DK                 -2.2354      1.774     -1.260      0.208      -5.716       1.245\n",
      "D_EE                 -1.5139      1.312     -1.154      0.249      -4.088       1.060\n",
      "D_EL                  1.2842      1.793      0.716      0.474      -2.234       4.802\n",
      "D_ES                 -1.0405      1.215     -0.856      0.392      -3.424       1.343\n",
      "D_FI                 -1.7902      1.504     -1.190      0.234      -4.742       1.162\n",
      "D_FR                  1.2791      1.154      1.108      0.268      -0.986       3.544\n",
      "D_IT                 -3.2110      1.169     -2.746      0.006      -5.505      -0.917\n",
      "D_LT                  7.7915      1.276      6.108      0.000       5.289      10.294\n",
      "D_LV                  6.2468      1.228      5.087      0.000       3.837       8.657\n",
      "D_NL                 -4.5788      1.396     -3.279      0.001      -7.318      -1.839\n",
      "D_PL                  3.5150      1.231      2.855      0.004       1.100       5.930\n",
      "D_SE                 -4.1351      1.462     -2.828      0.005      -7.004      -1.266\n",
      "D_UK                  0.3396      1.252      0.271      0.786      -2.116       2.796\n",
      "==============================================================================\n",
      "Omnibus:                      264.240   Durbin-Watson:                   1.903\n",
      "Prob(Omnibus):                  0.000   Jarque-Bera (JB):             5454.453\n",
      "Skew:                           0.541   Prob(JB):                         0.00\n",
      "Kurtosis:                      13.767   Cond. No.                     2.73e+03\n",
      "==============================================================================\n",
      "\n",
      "Warnings:\n",
      "[1] Standard Errors assume that the covariance matrix of the errors is correctly specified.\n",
      "[2] The condition number is large, 2.73e+03. This might indicate that there are\n",
      "strong multicollinearity or other numerical problems.\n"
     ]
    }
   ],
   "source": [
    "Cd3, Cd3_results = Cd([\"BS-RCI-BAL\", \"BS-SCI-BAL\", \"BS-CSMCI-BAL\", \"SLRTCR03\", \"C29_C30\", \"CLV_PCH_PRE\"], 3)"
   ]
  },
  {
   "cell_type": "code",
   "execution_count": 16,
   "metadata": {},
   "outputs": [
    {
     "data": {
      "text/plain": [
       "<matplotlib.axes._subplots.AxesSubplot at 0x7f2049d95358>"
      ]
     },
     "execution_count": 16,
     "metadata": {},
     "output_type": "execute_result"
    },
    {
     "data": {
      "image/png": "[encoded data removed]",
      "text/plain": [
       "<Figure size 1080x720 with 2 Axes>"
      ]
     },
     "metadata": {
      "needs_background": "light"
     },
     "output_type": "display_data"
    }
   ],
   "source": [
    "f, ax = plt.subplots(figsize=(15,10)) \n",
    "sns.heatmap(Cd3.corr(), mask=np.zeros_like(Cd3.corr(), dtype=np.bool),\n",
    "            cmap=sns.diverging_palette(10, 220, as_cmap=True),square=True, ax=ax)"
   ]
  },
  {
   "cell_type": "markdown",
   "metadata": {},
   "source": [
    ">## $Cnd$"
   ]
  },
  {
   "cell_type": "code",
   "execution_count": 17,
   "metadata": {},
   "outputs": [],
   "source": [
    "def Cnd(model_variables=[], version=0, all_boolean=False, country_dummies=True):\n",
    "\n",
    "    df_in = pd.DataFrame(sorted(list(set(namq_10_fcs.ID))), columns=[\"ID\"])\n",
    "    \n",
    "    ###########################################################################################\n",
    "    \n",
    "    # Chain linked volumes, percentage change compared to same period in previous year\n",
    "    var = \"CLV_PCH_SM\"\n",
    "    selec = namq_10_fcs[(namq_10_fcs.NA_ITEM==\"P312N_S14\")&(namq_10_fcs.UNIT==var)][[\"ID\", \"Value\"]]; selec.columns = [\"ID\", var]\n",
    "    df_in = pd.merge(df_in, selec, on='ID', how=\"inner\")\n",
    "    \n",
    "    # Chain linked volumes, percentage change on previous period\n",
    "    var = \"CLV_PCH_PRE\"\n",
    "    if var in model_variables or all_boolean:\n",
    "        selec = namq_10_fcs_lag[(namq_10_fcs_lag.NA_ITEM==\"P312N_S14\")&(namq_10_fcs_lag.UNIT==var)][[\"ID\", \"Value\"]]; selec.columns = [\"ID\", var]\n",
    "        df_in = pd.merge(df_in, selec, on='ID', how=\"inner\")\n",
    "    \n",
    "    # Business Climate Indicator\n",
    "    # Checked - no changes\n",
    "    var = \"BS-BCI\"\n",
    "    if var in model_variables or all_boolean:\n",
    "        dic_BCI = dict(zip(ei_bsci_m_r2_1.TIME.values, ei_bsci_m_r2_1.Value.values))\n",
    "        df_in[var] = df_in.ID.str[:-2].map(dic_BCI)\n",
    "    \n",
    "    # Retail Confidence Indicator\n",
    "    # Checked - no changes\n",
    "    var = \"BS-RCI-BAL\"\n",
    "    if var in model_variables or all_boolean:\n",
    "        selec = ei_bssi_m_r2[ei_bssi_m_r2.INDIC==var][[\"ID\", \"Value\"]]; selec.columns = [\"ID\", var]\n",
    "        df_in = pd.merge(df_in, selec, on='ID', how=\"inner\")\n",
    "    \n",
    "    # Services Confidence Indicator\n",
    "    # Checked - no changes\n",
    "    var = \"BS-SCI-BAL\"\n",
    "    if var in model_variables or all_boolean:\n",
    "        selec = ei_bssi_m_r2[ei_bssi_m_r2.INDIC==var][[\"ID\", \"Value\"]]; selec.columns = [\"ID\", var]\n",
    "        df_in = pd.merge(df_in, selec, on='ID', how=\"inner\")\n",
    "    \n",
    "    # Consumer Confidence Indicator\n",
    "    # Checked - no changes\n",
    "    var = \"BS-CSMCI-BAL\"\n",
    "    if var in model_variables or all_boolean:\n",
    "        selec = ei_bssi_m_r2[ei_bssi_m_r2.INDIC==var][[\"ID\", \"Value\"]]; selec.columns = [\"ID\", var]\n",
    "        df_in = pd.merge(df_in, selec, on='ID', how=\"inner\")\n",
    "    \n",
    "    # Production in industry: MIG - Non-Durable Consumer Goods\n",
    "    var = \"MIG_NDCOG\"\n",
    "    if var in model_variables or all_boolean:\n",
    "        selec = sts_inpr_q[sts_inpr_q.NACE_R2==var][[\"ID\", \"Value\"]]; selec.columns = [\"ID\", var]\n",
    "        df_in = pd.merge(df_in, selec, on='ID', how=\"inner\")\n",
    "    \n",
    "    # Retail sale of food, beverages and tobacco\n",
    "    # Checked - UNIT I15\n",
    "    var = \"G47_FOOD\"\n",
    "    if var in model_variables or all_boolean:\n",
    "        selec = sts_trtu_q[(sts_trtu_q.NACE_R2==var)&(sts_trtu_q.UNIT==\"I15\")][[\"ID\", \"Value\"]]; selec.columns = [\"ID\", var]\n",
    "        df_in = pd.merge(df_in, selec, on='ID', how=\"inner\")\n",
    "    \n",
    "    # Retail sale of non-food products (except fuel)\n",
    "    # Checked - UNIT I15\n",
    "    var = \"G47_NFOOD_X_G473\"\n",
    "    if var in model_variables or all_boolean:\n",
    "        selec = sts_trtu_q[(sts_trtu_q.NACE_R2==var)&(sts_trtu_q.UNIT==\"I15\")][[\"ID\", \"Value\"]]; selec.columns = [\"ID\", var]\n",
    "        df_in = pd.merge(df_in, selec, on='ID', how=\"inner\")\n",
    "    \n",
    "    # Retail trade, except of motor vehicles, motorcyles and fuel\n",
    "    # Checked - UNIT I15\n",
    "    var = \"G47_X_G473\"\n",
    "    if var in model_variables or all_boolean:\n",
    "        selec = sts_trtu_q[(sts_trtu_q.NACE_R2==var)&(sts_trtu_q.UNIT==\"I15\")][[\"ID\", \"Value\"]]; selec.columns = [\"ID\", var]\n",
    "        df_in = pd.merge(df_in, selec, on='ID', how=\"inner\")\n",
    "    \n",
    "    # Harmonised unemployment rate all persons, s.a.\n",
    "    var = \"LRHUTTTT\"\n",
    "    if var in model_variables or all_boolean:\n",
    "        selec = OECD[OECD.SUBJECT==var][[\"ID\", \"Value\"]]; selec.columns = [\"ID\", var]\n",
    "        df_in = pd.merge(df_in, selec, on='ID', how=\"inner\")\n",
    "    \n",
    "    ###########################################################################################\n",
    "    \n",
    "    # Dummies\n",
    "    if country_dummies:\n",
    "        countries = set(namq_10_fcs.GEO); countries.remove('PT')\n",
    "        for country in sorted(list(countries)):\n",
    "            df_in[\"D_\"+country] = (df_in.ID.str[-2:] == country).astype(int)\n",
    "    \n",
    "    Cnd = df_in.dropna().copy().set_index(\"ID\")\n",
    "    Cnd = Cnd.loc[:, (Cnd != 0).any(axis=0)].copy()\n",
    "    \n",
    "    del var, selec, df_in\n",
    "    \n",
    "    ###########################################################################################\n",
    "    \n",
    "    # Save\n",
    "    if version != 0:\n",
    "        Cnd.to_csv(\"./regressions/Cnd\"+str(version)+\".csv\")\n",
    "    \n",
    "    ###########################################################################################\n",
    "    \n",
    "    # Regression\n",
    "    if version != 0:\n",
    "        if version == 1:\n",
    "            Cnd.columns = ['C_nd_g_yoy', 'retail_conf_ind', 'retail_food_index',\n",
    "                           'retail_nfood_index', 'D_AT', 'D_BE', 'D_BG', 'D_CZ', 'D_DE', 'D_DK', 'D_EE', 'D_EL', 'D_ES', 'D_FI',\n",
    "                           'D_FR', 'D_IT', 'D_LT', 'D_LV', 'D_MT', 'D_NL', 'D_PL', 'D_SE', 'D_SI', 'D_UK']\n",
    "        if version == 2:\n",
    "            Cnd.columns = ['C_nd_g_yoy', 'retail_conf_ind', 'services_conf_ind', 'retail_food_index',\n",
    "                           'retail_food_index', 'unemp_h_all', 'D_AT', 'D_BE', 'D_DE', 'D_DK', 'D_EE',\n",
    "                           'D_EL', 'D_ES', 'D_FI', 'D_FR', 'D_IT', 'D_LT', 'D_LV', 'D_NL', 'D_PL',\n",
    "                           'D_SE', 'D_SI', 'D_UK']     \n",
    "        if version == 3:\n",
    "            Cnd.columns = ['C_nd_g_yoy', 'C_nd_g_qoq', 'retail_conf_ind', 'services_conf_ind', 'retail_food_index',\n",
    "                           'retail_food_index', 'unemp_h_all', 'D_AT', 'D_BE', 'D_DE', 'D_DK', 'D_EE',\n",
    "                           'D_EL', 'D_ES', 'D_FI', 'D_FR', 'D_IT', 'D_LT', 'D_LV', 'D_NL', 'D_PL',\n",
    "                           'D_SE', 'D_SI', 'D_UK']        \n",
    "        \n",
    "        X = sm.add_constant(Cnd.loc[:, Cnd.columns != \"C_nd_g_yoy\"].copy())\n",
    "        y = Cnd.loc[:, \"C_nd_g_yoy\"].copy()\n",
    "    else:\n",
    "        X = sm.add_constant(Cnd.loc[:, Cnd.columns != \"CLV_PCH_SM\"].copy())\n",
    "        y = Cnd.loc[:, \"CLV_PCH_SM\"].copy()\n",
    "    results = sm.OLS(y, X).fit()\n",
    "    print(results.summary())\n",
    "    \n",
    "    return(Cnd, results)"
   ]
  },
  {
   "cell_type": "code",
   "execution_count": 18,
   "metadata": {},
   "outputs": [
    {
     "name": "stdout",
     "output_type": "stream",
     "text": [
      "                            OLS Regression Results                            \n",
      "==============================================================================\n",
      "Dep. Variable:             C_nd_g_yoy   R-squared:                       0.440\n",
      "Model:                            OLS   Adj. R-squared:                  0.432\n",
      "Method:                 Least Squares   F-statistic:                     51.86\n",
      "Date:                Fri, 16 Nov 2018   Prob (F-statistic):          2.29e-172\n",
      "Time:                        02:45:57   Log-Likelihood:                -3518.8\n",
      "No. Observations:                1541   AIC:                             7086.\n",
      "Df Residuals:                    1517   BIC:                             7214.\n",
      "Df Model:                          23                                         \n",
      "Covariance Type:            nonrobust                                         \n",
      "======================================================================================\n",
      "                         coef    std err          t      P>|t|      [0.025      0.975]\n",
      "--------------------------------------------------------------------------------------\n",
      "const                  5.7840      0.579      9.992      0.000       4.648       6.919\n",
      "retail_conf_ind        0.1525      0.005     28.619      0.000       0.142       0.163\n",
      "retail_food_index     -0.0238      0.009     -2.758      0.006      -0.041      -0.007\n",
      "retail_nfood_index    -0.0099      0.006     -1.694      0.090      -0.021       0.002\n",
      "D_AT                  -0.3979      0.397     -1.002      0.316      -1.177       0.381\n",
      "D_BE                  -0.8167      0.402     -2.029      0.043      -1.606      -0.027\n",
      "D_BG                  -0.9359      0.440     -2.128      0.033      -1.798      -0.073\n",
      "D_CZ                  -3.4843      0.442     -7.877      0.000      -4.352      -2.617\n",
      "D_DE                   0.8723      0.383      2.280      0.023       0.122       1.623\n",
      "D_DK                  -2.4946      0.515     -4.846      0.000      -3.504      -1.485\n",
      "D_EE                  -1.2036      0.425     -2.830      0.005      -2.038      -0.369\n",
      "D_EL                  -0.8965      0.408     -2.195      0.028      -1.698      -0.095\n",
      "D_ES                   0.4501      0.385      1.169      0.243      -0.305       1.206\n",
      "D_FI                  -0.7015      0.401     -1.747      0.081      -1.489       0.086\n",
      "D_FR                  -0.3214      0.413     -0.777      0.437      -1.133       0.490\n",
      "D_IT                  -1.4281      0.417     -3.426      0.001      -2.246      -0.610\n",
      "D_LT                   0.8522      0.427      1.996      0.046       0.015       1.690\n",
      "D_LV                  -0.0382      0.423     -0.090      0.928      -0.868       0.791\n",
      "D_MT                   0.5835      0.541      1.079      0.281      -0.477       1.644\n",
      "D_NL                  -2.6277      0.436     -6.031      0.000      -3.482      -1.773\n",
      "D_PL                   0.6733      0.436      1.543      0.123      -0.183       1.529\n",
      "D_SE                  -2.6531      0.441     -6.021      0.000      -3.517      -1.789\n",
      "D_SI                  -2.5028      0.428     -5.843      0.000      -3.343      -1.663\n",
      "D_UK                  -1.3496      0.428     -3.154      0.002      -2.189      -0.510\n",
      "==============================================================================\n",
      "Omnibus:                      292.495   Durbin-Watson:                   1.658\n",
      "Prob(Omnibus):                  0.000   Jarque-Bera (JB):             5342.093\n",
      "Skew:                          -0.333   Prob(JB):                         0.00\n",
      "Kurtosis:                      12.097   Cond. No.                     3.16e+03\n",
      "==============================================================================\n",
      "\n",
      "Warnings:\n",
      "[1] Standard Errors assume that the covariance matrix of the errors is correctly specified.\n",
      "[2] The condition number is large, 3.16e+03. This might indicate that there are\n",
      "strong multicollinearity or other numerical problems.\n"
     ]
    }
   ],
   "source": [
    "Cnd1, Cnd1_results = Cnd([\"BS-RCI-BAL\", \"G47_NFOOD_X_G473\", \"G47_FOOD\"], 1)"
   ]
  },
  {
   "cell_type": "code",
   "execution_count": 19,
   "metadata": {},
   "outputs": [
    {
     "name": "stdout",
     "output_type": "stream",
     "text": [
      "                            OLS Regression Results                            \n",
      "==============================================================================\n",
      "Dep. Variable:             C_nd_g_yoy   R-squared:                       0.544\n",
      "Model:                            OLS   Adj. R-squared:                  0.536\n",
      "Method:                 Least Squares   F-statistic:                     68.91\n",
      "Date:                Fri, 16 Nov 2018   Prob (F-statistic):          1.82e-198\n",
      "Time:                        02:45:57   Log-Likelihood:                -2796.1\n",
      "No. Observations:                1292   AIC:                             5638.\n",
      "Df Residuals:                    1269   BIC:                             5757.\n",
      "Df Model:                          22                                         \n",
      "Covariance Type:            nonrobust                                         \n",
      "=====================================================================================\n",
      "                        coef    std err          t      P>|t|      [0.025      0.975]\n",
      "-------------------------------------------------------------------------------------\n",
      "const                11.3469      0.998     11.367      0.000       9.389      13.305\n",
      "retail_conf_ind       0.1030      0.007     15.681      0.000       0.090       0.116\n",
      "services_conf_ind     0.0400      0.005      7.868      0.000       0.030       0.050\n",
      "retail_food_index    -0.0109      0.011     -0.994      0.321      -0.033       0.011\n",
      "retail_food_index    -0.0448      0.006     -7.087      0.000      -0.057      -0.032\n",
      "unemp_h_all          -0.3324      0.025    -13.132      0.000      -0.382      -0.283\n",
      "D_AT                 -2.9392      0.388     -7.583      0.000      -3.700      -2.179\n",
      "D_BE                 -2.5312      0.375     -6.743      0.000      -3.268      -1.795\n",
      "D_DE                 -1.7556      0.381     -4.613      0.000      -2.502      -1.009\n",
      "D_DK                 -3.5925      0.471     -7.626      0.000      -4.517      -2.668\n",
      "D_EE                 -2.4576      0.420     -5.852      0.000      -3.281      -1.634\n",
      "D_EL                  1.7606      0.451      3.901      0.000       0.875       2.646\n",
      "D_ES                  2.1200      0.405      5.232      0.000       1.325       2.915\n",
      "D_FI                 -2.2706      0.373     -6.089      0.000      -3.002      -1.539\n",
      "D_FR                 -1.5704      0.384     -4.090      0.000      -2.324      -0.817\n",
      "D_IT                 -2.0214      0.385     -5.254      0.000      -2.776      -1.267\n",
      "D_LT                 -0.3559      0.408     -0.872      0.383      -1.157       0.445\n",
      "D_LV                  0.3103      0.394      0.788      0.431      -0.462       1.083\n",
      "D_NL                 -4.0757      0.406    -10.049      0.000      -4.871      -3.280\n",
      "D_PL                 -0.0892      0.412     -0.216      0.829      -0.898       0.720\n",
      "D_SE                 -4.7738      0.427    -11.176      0.000      -5.612      -3.936\n",
      "D_SI                 -3.5822      0.405     -8.843      0.000      -4.377      -2.788\n",
      "D_UK                 -3.2233      0.424     -7.608      0.000      -4.054      -2.392\n",
      "==============================================================================\n",
      "Omnibus:                      313.363   Durbin-Watson:                   1.781\n",
      "Prob(Omnibus):                  0.000   Jarque-Bera (JB):             8665.205\n",
      "Skew:                          -0.475   Prob(JB):                         0.00\n",
      "Kurtosis:                      15.651   Cond. No.                     3.02e+03\n",
      "==============================================================================\n",
      "\n",
      "Warnings:\n",
      "[1] Standard Errors assume that the covariance matrix of the errors is correctly specified.\n",
      "[2] The condition number is large, 3.02e+03. This might indicate that there are\n",
      "strong multicollinearity or other numerical problems.\n"
     ]
    }
   ],
   "source": [
    "Cnd2, Cnd2_results = Cnd([\"BS-RCI-BAL\", \"G47_NFOOD_X_G473\", \"G47_FOOD\", \"BS-SCI-BAL\", \"LRHUTTTT\"], 2)"
   ]
  },
  {
   "cell_type": "code",
   "execution_count": 20,
   "metadata": {},
   "outputs": [
    {
     "name": "stdout",
     "output_type": "stream",
     "text": [
      "                            OLS Regression Results                            \n",
      "==============================================================================\n",
      "Dep. Variable:             C_nd_g_yoy   R-squared:                       0.707\n",
      "Model:                            OLS   Adj. R-squared:                  0.702\n",
      "Method:                 Least Squares   F-statistic:                     133.0\n",
      "Date:                Fri, 16 Nov 2018   Prob (F-statistic):          6.21e-318\n",
      "Time:                        02:45:58   Log-Likelihood:                -2510.9\n",
      "No. Observations:                1292   AIC:                             5070.\n",
      "Df Residuals:                    1268   BIC:                             5194.\n",
      "Df Model:                          23                                         \n",
      "Covariance Type:            nonrobust                                         \n",
      "=====================================================================================\n",
      "                        coef    std err          t      P>|t|      [0.025      0.975]\n",
      "-------------------------------------------------------------------------------------\n",
      "const                 7.2058      0.816      8.832      0.000       5.605       8.806\n",
      "C_nd_g_qoq            1.4801      0.056     26.531      0.000       1.371       1.590\n",
      "retail_conf_ind       0.0622      0.005     11.332      0.000       0.051       0.073\n",
      "services_conf_ind     0.0235      0.004      5.703      0.000       0.015       0.032\n",
      "retail_food_index    -0.0035      0.009     -0.393      0.694      -0.021       0.014\n",
      "retail_food_index    -0.0303      0.005     -5.933      0.000      -0.040      -0.020\n",
      "unemp_h_all          -0.2285      0.021    -11.049      0.000      -0.269      -0.188\n",
      "D_AT                 -1.9244      0.313     -6.143      0.000      -2.539      -1.310\n",
      "D_BE                 -1.6515      0.303     -5.451      0.000      -2.246      -1.057\n",
      "D_DE                 -1.1738      0.306     -3.835      0.000      -1.774      -0.573\n",
      "D_DK                 -2.3470      0.381     -6.163      0.000      -3.094      -1.600\n",
      "D_EE                 -1.4866      0.339     -4.387      0.000      -2.151      -0.822\n",
      "D_EL                  1.2274      0.363      3.385      0.001       0.516       1.939\n",
      "D_ES                  1.4660      0.326      4.497      0.000       0.826       2.106\n",
      "D_FI                 -1.4277      0.301     -4.746      0.000      -2.018      -0.838\n",
      "D_FR                 -1.0304      0.309     -3.338      0.001      -1.636      -0.425\n",
      "D_IT                 -1.3078      0.310     -4.221      0.000      -1.916      -0.700\n",
      "D_LT                 -0.1672      0.328     -0.510      0.610      -0.810       0.475\n",
      "D_LV                  0.3037      0.316      0.961      0.337      -0.316       0.923\n",
      "D_NL                 -2.6240      0.330     -7.953      0.000      -3.271      -1.977\n",
      "D_PL                 -0.0575      0.331     -0.174      0.862      -0.706       0.591\n",
      "D_SE                 -3.0151      0.349     -8.639      0.000      -3.700      -2.330\n",
      "D_SI                 -2.2694      0.329     -6.904      0.000      -2.914      -1.625\n",
      "D_UK                 -2.1276      0.342     -6.214      0.000      -2.799      -1.456\n",
      "==============================================================================\n",
      "Omnibus:                      257.862   Durbin-Watson:                   1.833\n",
      "Prob(Omnibus):                  0.000   Jarque-Bera (JB):             4052.491\n",
      "Skew:                          -0.451   Prob(JB):                         0.00\n",
      "Kurtosis:                      11.629   Cond. No.                     3.07e+03\n",
      "==============================================================================\n",
      "\n",
      "Warnings:\n",
      "[1] Standard Errors assume that the covariance matrix of the errors is correctly specified.\n",
      "[2] The condition number is large, 3.07e+03. This might indicate that there are\n",
      "strong multicollinearity or other numerical problems.\n"
     ]
    }
   ],
   "source": [
    "Cnd3, Cnd3_results = Cnd([\"BS-RCI-BAL\", \"G47_NFOOD_X_G473\", \"G47_FOOD\", \"BS-SCI-BAL\", \"LRHUTTTT\", \"CLV_PCH_PRE\"], 3)"
   ]
  },
  {
   "cell_type": "code",
   "execution_count": 21,
   "metadata": {},
   "outputs": [
    {
     "data": {
      "text/plain": [
       "<matplotlib.axes._subplots.AxesSubplot at 0x7f2049c3b940>"
      ]
     },
     "execution_count": 21,
     "metadata": {},
     "output_type": "execute_result"
    },
    {
     "data": {
      "image/png": "[encoded data removed]",
      "text/plain": [
       "<Figure size 1080x720 with 2 Axes>"
      ]
     },
     "metadata": {
      "needs_background": "light"
     },
     "output_type": "display_data"
    }
   ],
   "source": [
    "f, ax = plt.subplots(figsize=(15,10)) \n",
    "sns.heatmap(Cnd3.corr(), mask=np.zeros_like(Cnd3.corr(), dtype=np.bool),\n",
    "            cmap=sns.diverging_palette(10, 220, as_cmap=True),square=True, ax=ax)"
   ]
  },
  {
   "cell_type": "markdown",
   "metadata": {},
   "source": [
    "<br>"
   ]
  },
  {
   "cell_type": "markdown",
   "metadata": {},
   "source": [
    "# $I$"
   ]
  },
  {
   "cell_type": "markdown",
   "metadata": {},
   "source": [
    ">## $Igfcf$"
   ]
  },
  {
   "cell_type": "code",
   "execution_count": 22,
   "metadata": {},
   "outputs": [],
   "source": [
    "def Igfcf(model_variables=[], version=0, all_boolean=False, country_dummies=True):\n",
    "    \n",
    "    df_in = pd.DataFrame(sorted(list(set(namq_10_gdp.ID))), columns=[\"ID\"])\n",
    "    \n",
    "    ###########################################################################################\n",
    "    \n",
    "    # Chain linked volumes, percentage change compared to same period in previous year\n",
    "    var = \"CLV_PCH_SM\"\n",
    "    selec = namq_10_gdp[(namq_10_gdp.NA_ITEM==\"P51G\")&(namq_10_gdp.UNIT==var)][[\"ID\", \"Value\"]]; selec.columns = [\"ID\", var]\n",
    "    df_in = pd.merge(df_in, selec, on='ID', how=\"inner\")\n",
    "    \n",
    "    ## Chain linked volumes, percentage change on previous period\n",
    "    var = \"CLV_PCH_PRE\"\n",
    "    if var in model_variables or all_boolean:\n",
    "        selec = namq_10_gdp_lag[(namq_10_gdp_lag.NA_ITEM==\"P51G\")&(namq_10_gdp_lag.UNIT==var)][[\"ID\", \"Value\"]]; selec.columns = [\"ID\", var]\n",
    "        df_in = pd.merge(df_in, selec, on='ID', how=\"inner\")\n",
    "    \n",
    "    # Business Climate Indicator\n",
    "    var = \"BS-BCI\"\n",
    "    if var in model_variables or all_boolean:\n",
    "        dic_BCI = dict(zip(ei_bsci_m_r2_1.TIME.values, ei_bsci_m_r2_1.Value.values))\n",
    "        df_in[var] = df_in.ID.str[:-2].map(dic_BCI)\n",
    "    \n",
    "    # Industrial Confidence Indicator\n",
    "    var = \"BS-ICI-BAL\"\n",
    "    if var in model_variables or all_boolean:\n",
    "        selec = ei_bssi_m_r2[ei_bssi_m_r2.INDIC==var][[\"ID\", \"Value\"]]; selec.columns = [\"ID\", var]\n",
    "        df_in = pd.merge(df_in, selec, on='ID', how=\"inner\")\n",
    "    \n",
    "    # Building permits index - New residential buildings\n",
    "    # Checked - UNIT I2015\n",
    "    var = \"IS-PEI\"\n",
    "    if var in model_variables or all_boolean:\n",
    "        selec = ei_isbu_q[(ei_isbu_q.INDIC==var)&(ei_isbu_q.UNIT==\"I2015\")][[\"ID\", \"Value\"]]; selec.columns = [\"ID\", var]\n",
    "        df_in = pd.merge(df_in, selec, on='ID', how=\"inner\")\n",
    "    \n",
    "    # Residential buildings, except residences for communities\n",
    "    # Checked - UNIT I15  \n",
    "    var = \"F_CC11_X_CC113\"\n",
    "    if var in model_variables or all_boolean:\n",
    "        selec = sts_cobp_q[(sts_cobp_q.NACE_R2==var)&(sts_cobp_q.UNIT==\"I15\")][[\"ID\", \"Value\"]]; selec.columns = [\"ID\", var]\n",
    "        df_in = pd.merge(df_in, selec, on='ID', how=\"inner\")\n",
    "    \n",
    "    # Two- and more dwelling buildings\n",
    "    # Checked - UNIT I15\n",
    "    var = \"F_CC112\"\n",
    "    if var in model_variables or all_boolean:\n",
    "        selec = sts_cobp_q[(sts_cobp_q.NACE_R2==var)&(sts_cobp_q.UNIT==\"I15\")][[\"ID\", \"Value\"]]; selec.columns = [\"ID\", var]\n",
    "        df_in = pd.merge(df_in, selec, on='ID', how=\"inner\")\n",
    "    \n",
    "    # Construction confidence indicator\n",
    "    var = \"BS-CCI-BAL\"\n",
    "    if var in model_variables or all_boolean:\n",
    "        selec = ei_bssi_m_r2[ei_bssi_m_r2.INDIC==var][[\"ID\", \"Value\"]]; selec.columns = [\"ID\", var]\n",
    "        df_in = pd.merge(df_in, selec, on='ID', how=\"inner\")\n",
    "    \n",
    "    # Volume index of production\n",
    "    # Checked - UNIT I15\n",
    "    var = \"PROD\"\n",
    "    if var in model_variables or all_boolean:\n",
    "        selec = sts_copr_q[(sts_copr_q.INDIC_BT==var)&(sts_copr_q.UNIT==\"I15\")][[\"ID\", \"Value\"]]; selec.columns = [\"ID\", var]\n",
    "        df_in = pd.merge(df_in, selec, on='ID', how=\"inner\")\n",
    "    \n",
    "    # Production in industry: MIG - energy (except Section E)\n",
    "    # Checked - UNIT I15\n",
    "    var = \"MIG_NRG_X_E\"\n",
    "    if var in model_variables or all_boolean:\n",
    "        selec = sts_inpr_q[(sts_inpr_q.NACE_R2==var)&(sts_inpr_q.UNIT==\"I15\")][[\"ID\", \"Value\"]]; selec.columns = [\"ID\", var]\n",
    "        df_in = pd.merge(df_in, selec, on='ID', how=\"inner\")\n",
    "    \n",
    "    # Production in industry: MIG - capital goods\n",
    "    # Checked - UNIT I15\n",
    "    var = \"MIG_CAG\"\n",
    "    if var in model_variables or all_boolean:\n",
    "        selec = sts_inpr_q[(sts_inpr_q.NACE_R2==var)&(sts_inpr_q.UNIT==\"I15\")][[\"ID\", \"Value\"]]; selec.columns = [\"ID\", var]\n",
    "        df_in = pd.merge(df_in, selec, on='ID', how=\"inner\")\n",
    "    \n",
    "    # Production in industry: Mining and quarrying; manufacturing\n",
    "    # Checked - UNIT I15\n",
    "    var = \"B_C\"\n",
    "    if var in model_variables or all_boolean:\n",
    "        selec = sts_inpr_q[(sts_inpr_q.NACE_R2==var)&(sts_inpr_q.UNIT==\"I15\")][[\"ID\", \"Value\"]]; selec.columns = [\"ID\", var]\n",
    "        df_in = pd.merge(df_in, selec, on='ID', how=\"inner\")\n",
    "    \n",
    "    # Production in industry: Mining and quarrying; manufacturing (except MIG energy)\n",
    "    # Checked - UNIT I15\n",
    "    var = \"B_C_X_MIG_NRG\"\n",
    "    if var in model_variables or all_boolean:\n",
    "        selec = sts_inpr_q[(sts_inpr_q.NACE_R2==var)&(sts_inpr_q.UNIT==\"I15\")][[\"ID\", \"Value\"]]; selec.columns = [\"ID\", var]\n",
    "        df_in = pd.merge(df_in, selec, on='ID', how=\"inner\")\n",
    "    \n",
    "    # Production in industry: Manufacturing\n",
    "    # Checked - UNIT I15\n",
    "    var = \"C\"\n",
    "    if var in model_variables or all_boolean:\n",
    "        selec = sts_inpr_q[(sts_inpr_q.NACE_R2==var)&(sts_inpr_q.UNIT==\"I15\")][[\"ID\", \"Value\"]]; selec.columns = [\"ID\", \"C_prod\"]\n",
    "        df_in = pd.merge(df_in, selec, on='ID', how=\"inner\")\n",
    "    \n",
    "    # Production in industry: Electricity, gas, steam and air conditioning supply\n",
    "    # Checked - UNIT I15\n",
    "    var = \"D\"\n",
    "    if var in model_variables or all_boolean:\n",
    "        selec = sts_inpr_q[(sts_inpr_q.NACE_R2==var)&(sts_inpr_q.UNIT==\"I15\")][[\"ID\", \"Value\"]]; selec.columns = [\"ID\", var]\n",
    "        df_in = pd.merge(df_in, selec, on='ID', how=\"inner\")\n",
    "    \n",
    "    # Manufacture of motor vehicles, trailers, semi-trailers and of other transport equipment\n",
    "    # Checked - UNIT I15\n",
    "    var = \"C29_C30\"\n",
    "    if var in model_variables or all_boolean:\n",
    "        selec = sts_intv_q[(sts_intv_q.NACE_R2==var)&(sts_intv_q.UNIT==\"I15\")][[\"ID\", \"Value\"]]; selec.columns = [\"ID\", var]\n",
    "        df_in = pd.merge(df_in, selec, on='ID', how=\"inner\")\n",
    "    \n",
    "    # Manufacturing\n",
    "    # Checked - UNIT I15\n",
    "    var = \"C\"\n",
    "    if var in model_variables or all_boolean:\n",
    "        selec = sts_inpr_q[(sts_inpr_q.NACE_R2==var)&(sts_inpr_q.UNIT==\"I15\")][[\"ID\", \"Value\"]]; selec.columns = [\"ID\", var]\n",
    "        df_in = pd.merge(df_in, selec, on='ID', how=\"inner\")\n",
    "    \n",
    "    ###########################################################################################\n",
    "    \n",
    "    # Dummies\n",
    "    if country_dummies:\n",
    "        countries = set(namq_10_gdp.GEO); countries.remove('PT')\n",
    "        for country in sorted(list(countries)):\n",
    "            df_in[\"D_\"+country] = (df_in.ID.str[-2:] == country).astype(int)\n",
    "    \n",
    "    Igfcf = df_in.dropna().copy().set_index(\"ID\")\n",
    "    Igfcf = Igfcf.loc[:, (Igfcf != 0).any(axis=0)].copy()\n",
    "    del var, selec, df_in\n",
    "    \n",
    "    ###########################################################################################\n",
    "    \n",
    "    # Save\n",
    "    if version != 0:\n",
    "        Igfcf.to_csv(\"./regressions/Igfcf\"+str(version)+\".csv\")\n",
    "    \n",
    "    ###########################################################################################\n",
    "    \n",
    "    # Regression\n",
    "    if version!=0:\n",
    "        if version ==1:\n",
    "            Igfcf.columns = ['I_gfcf_g_yoy', \"business_climate_ind\", \n",
    "                             \"industrial_conf_ind\", 'construction_conf_ind',\n",
    "                             'D_AT', 'D_BE',\n",
    "                             'D_BG', 'D_CY', 'D_CZ', 'D_DE', 'D_DK', 'D_EE', 'D_EL', 'D_ES', 'D_FI',\n",
    "                             'D_FR', 'D_HR', 'D_HU', 'D_IT', 'D_LT', 'D_LU', 'D_LV', 'D_MT', 'D_NL',\n",
    "                             'D_PL', 'D_RO', 'D_SE', 'D_SI', 'D_UK']\n",
    "        if version == 2:\n",
    "            print(Igfcf.columns)\n",
    "            Igfcf.columns = ['I_gfcf_g_yoy', \"business_climate_ind\",\n",
    "                             \"industrial_conf_ind\", 'construction_conf_ind',\n",
    "                             'm_q_manufacturing_nenergy', 'vehicle_heavy_man', \n",
    "                             'D_AT', 'D_BE', 'D_BG', 'D_CZ', 'D_DE', 'D_DK', 'D_EE',\n",
    "       'D_EL', 'D_ES', 'D_FI', 'D_FR', 'D_HU', 'D_IT', 'D_LT', 'D_LV', 'D_PL',\n",
    "       'D_RO', 'D_SE', 'D_UK']\n",
    "        if version == 3:\n",
    "            print(Igfcf.columns)\n",
    "            Igfcf.columns = ['I_gfcf_g_yoy', 'I_gfcf_g_qoq', \"business_climate_ind\", \n",
    "                             \"industrial_conf_ind\", 'construction_conf_ind',\n",
    "                             'm_q_manufacturing_nenergy', 'vehicle_heavy_man', \n",
    "                             'D_AT', 'D_BE', 'D_BG', 'D_CZ', 'D_DE',\n",
    "       'D_DK', 'D_EE', 'D_EL', 'D_ES', 'D_FI', 'D_FR', 'D_HU', 'D_IT', 'D_LT',\n",
    "       'D_LV', 'D_PL', 'D_RO', 'D_SE', 'D_UK']            \n",
    "        X = sm.add_constant(Igfcf.loc[:, Igfcf.columns != \"I_gfcf_g_yoy\"].copy())\n",
    "        y = Igfcf.loc[:, \"I_gfcf_g_yoy\"].copy()\n",
    "    else:\n",
    "        X = sm.add_constant(Igfcf.loc[:, Igfcf.columns != \"CLV_PCH_SM\"].copy())\n",
    "        y = Igfcf.loc[:, \"CLV_PCH_SM\"].copy()\n",
    "    results = sm.OLS(y, X).fit()\n",
    "    print(results.summary())\n",
    "    \n",
    "    return(Igfcf, results)"
   ]
  },
  {
   "cell_type": "code",
   "execution_count": 23,
   "metadata": {},
   "outputs": [
    {
     "name": "stdout",
     "output_type": "stream",
     "text": [
      "                            OLS Regression Results                            \n",
      "==============================================================================\n",
      "Dep. Variable:           I_gfcf_g_yoy   R-squared:                       0.263\n",
      "Model:                            OLS   Adj. R-squared:                  0.252\n",
      "Method:                 Least Squares   F-statistic:                     24.19\n",
      "Date:                Fri, 16 Nov 2018   Prob (F-statistic):          4.04e-105\n",
      "Time:                        02:45:59   Log-Likelihood:                -7415.7\n",
      "No. Observations:                1932   AIC:                         1.489e+04\n",
      "Df Residuals:                    1903   BIC:                         1.505e+04\n",
      "Df Model:                          28                                         \n",
      "Covariance Type:            nonrobust                                         \n",
      "=========================================================================================\n",
      "                            coef    std err          t      P>|t|      [0.025      0.975]\n",
      "-----------------------------------------------------------------------------------------\n",
      "const                     6.1546      1.373      4.483      0.000       3.462       8.847\n",
      "business_climate_ind      1.5224      0.383      3.972      0.000       0.771       2.274\n",
      "industrial_conf_ind       0.2196      0.043      5.117      0.000       0.135       0.304\n",
      "construction_conf_ind     0.1747      0.016     11.055      0.000       0.144       0.206\n",
      "D_AT                     -1.7872      1.830     -0.977      0.329      -5.376       1.802\n",
      "D_BE                     -1.0752      1.860     -0.578      0.563      -4.722       2.572\n",
      "D_BG                      6.0160      1.819      3.307      0.001       2.448       9.584\n",
      "D_CY                      4.9499      1.907      2.596      0.010       1.211       8.689\n",
      "D_CZ                     -0.4991      1.846     -0.270      0.787      -4.120       3.122\n",
      "D_DE                     -0.0107      1.820     -0.006      0.995      -3.579       3.558\n",
      "D_DK                     -2.2398      1.843     -1.215      0.224      -5.855       1.375\n",
      "D_EE                     -0.8437      1.874     -0.450      0.653      -4.519       2.832\n",
      "D_EL                     -2.0383      1.817     -1.122      0.262      -5.602       1.526\n",
      "D_ES                     -0.6233      1.837     -0.339      0.734      -4.227       2.980\n",
      "D_FI                     -3.3948      1.851     -1.834      0.067      -7.025       0.236\n",
      "D_FR                     -2.0780      1.856     -1.119      0.263      -5.719       1.562\n",
      "D_HR                     -2.4328      2.192     -1.110      0.267      -6.731       1.866\n",
      "D_HU                      0.4940      1.827      0.270      0.787      -3.090       4.078\n",
      "D_IT                     -1.8900      1.824     -1.036      0.300      -5.468       1.688\n",
      "D_LT                      5.9937      1.819      3.296      0.001       2.427       9.561\n",
      "D_LU                      4.0335      1.929      2.091      0.037       0.250       7.817\n",
      "D_LV                      4.6085      1.823      2.528      0.012       1.033       8.184\n",
      "D_MT                      2.7401      2.201      1.245      0.213      -1.577       7.057\n",
      "D_NL                     -2.5058      1.861     -1.346      0.178      -6.156       1.145\n",
      "D_PL                      5.7242      1.840      3.111      0.002       2.116       9.333\n",
      "D_RO                      3.9673      1.828      2.171      0.030       0.383       7.552\n",
      "D_SE                     -1.3996      1.858     -0.753      0.451      -5.043       2.243\n",
      "D_SI                     -3.9448      1.934     -2.039      0.042      -7.738      -0.151\n",
      "D_UK                     -0.6079      1.831     -0.332      0.740      -4.199       2.983\n",
      "==============================================================================\n",
      "Omnibus:                     2272.520   Durbin-Watson:                   1.997\n",
      "Prob(Omnibus):                  0.000   Jarque-Bera (JB):           838988.911\n",
      "Skew:                           5.542   Prob(JB):                         0.00\n",
      "Kurtosis:                     104.486   Cond. No.                         756.\n",
      "==============================================================================\n",
      "\n",
      "Warnings:\n",
      "[1] Standard Errors assume that the covariance matrix of the errors is correctly specified.\n"
     ]
    }
   ],
   "source": [
    "Igfcf1, Igfcf1_results = Igfcf([\"BS-BCI\", \"BS-ICI-BAL\", \"BS-CCI-BAL\"],1)"
   ]
  },
  {
   "cell_type": "code",
   "execution_count": 24,
   "metadata": {},
   "outputs": [
    {
     "name": "stdout",
     "output_type": "stream",
     "text": [
      "Index(['CLV_PCH_SM', 'BS-BCI', 'BS-ICI-BAL', 'BS-CCI-BAL', 'B_C_X_MIG_NRG',\n",
      "       'C29_C30', 'D_AT', 'D_BE', 'D_BG', 'D_CZ', 'D_DE', 'D_DK', 'D_EE',\n",
      "       'D_EL', 'D_ES', 'D_FI', 'D_FR', 'D_HU', 'D_IT', 'D_LT', 'D_LV', 'D_PL',\n",
      "       'D_RO', 'D_SE', 'D_UK'],\n",
      "      dtype='object')\n",
      "                            OLS Regression Results                            \n",
      "==============================================================================\n",
      "Dep. Variable:           I_gfcf_g_yoy   R-squared:                       0.480\n",
      "Model:                            OLS   Adj. R-squared:                  0.471\n",
      "Method:                 Least Squares   F-statistic:                     54.14\n",
      "Date:                Fri, 16 Nov 2018   Prob (F-statistic):          2.56e-180\n",
      "Time:                        02:46:00   Log-Likelihood:                -4892.2\n",
      "No. Observations:                1432   AIC:                             9834.\n",
      "Df Residuals:                    1407   BIC:                             9966.\n",
      "Df Model:                          24                                         \n",
      "Covariance Type:            nonrobust                                         \n",
      "=============================================================================================\n",
      "                                coef    std err          t      P>|t|      [0.025      0.975]\n",
      "---------------------------------------------------------------------------------------------\n",
      "const                        19.6462      2.062      9.528      0.000      15.602      23.691\n",
      "business_climate_ind          2.5029      0.311      8.051      0.000       1.893       3.113\n",
      "industrial_conf_ind           0.1528      0.036      4.243      0.000       0.082       0.223\n",
      "construction_conf_ind         0.2142      0.014     15.459      0.000       0.187       0.241\n",
      "m_q_manufacturing_nenergy    -0.0792      0.020     -3.966      0.000      -0.118      -0.040\n",
      "vehicle_heavy_man            -0.0432      0.011     -3.926      0.000      -0.065      -0.022\n",
      "D_AT                         -4.5363      1.441     -3.148      0.002      -7.363      -1.709\n",
      "D_BE                         -3.4950      1.416     -2.467      0.014      -6.274      -0.716\n",
      "D_BG                          1.9486      1.278      1.525      0.128      -0.559       4.456\n",
      "D_CZ                         -3.8360      1.341     -2.861      0.004      -6.466      -1.206\n",
      "D_DE                         -2.4967      1.269     -1.968      0.049      -4.986      -0.008\n",
      "D_DK                         -1.5412      1.489     -1.035      0.301      -4.462       1.380\n",
      "D_EE                         -4.3584      1.437     -3.034      0.002      -7.177      -1.540\n",
      "D_EL                         -4.2129      1.563     -2.695      0.007      -7.279      -1.147\n",
      "D_ES                         -0.7243      1.280     -0.566      0.572      -3.235       1.787\n",
      "D_FI                         -3.5196      1.289     -2.731      0.006      -6.047      -0.992\n",
      "D_FR                         -3.6181      1.279     -2.829      0.005      -6.127      -1.109\n",
      "D_HU                         -3.9392      1.347     -2.924      0.004      -6.582      -1.296\n",
      "D_IT                         -2.1699      1.236     -1.755      0.079      -4.595       0.256\n",
      "D_LT                          2.2193      1.402      1.583      0.114      -0.530       4.969\n",
      "D_LV                          1.6703      1.324      1.262      0.207      -0.926       4.267\n",
      "D_PL                          0.9507      1.408      0.675      0.499      -1.810       3.712\n",
      "D_RO                         -0.3967      1.350     -0.294      0.769      -3.045       2.251\n",
      "D_SE                         -2.8384      1.294     -2.194      0.028      -5.377      -0.300\n",
      "D_UK                         -2.6422      1.258     -2.100      0.036      -5.111      -0.174\n",
      "==============================================================================\n",
      "Omnibus:                      171.402   Durbin-Watson:                   1.869\n",
      "Prob(Omnibus):                  0.000   Jarque-Bera (JB):             1490.662\n",
      "Skew:                           0.172   Prob(JB):                         0.00\n",
      "Kurtosis:                       7.986   Cond. No.                     3.07e+03\n",
      "==============================================================================\n",
      "\n",
      "Warnings:\n",
      "[1] Standard Errors assume that the covariance matrix of the errors is correctly specified.\n",
      "[2] The condition number is large, 3.07e+03. This might indicate that there are\n",
      "strong multicollinearity or other numerical problems.\n"
     ]
    }
   ],
   "source": [
    "Igfcf2, Igfcf2_results = Igfcf([\"BS-BCI\", \"BS-ICI-BAL\", \"BS-CCI-BAL\", \"B_C_X_MIG_NRG\", \"C29_C30\"],2)"
   ]
  },
  {
   "cell_type": "code",
   "execution_count": 25,
   "metadata": {},
   "outputs": [
    {
     "name": "stdout",
     "output_type": "stream",
     "text": [
      "Index(['CLV_PCH_SM', 'CLV_PCH_PRE', 'BS-BCI', 'BS-ICI-BAL', 'BS-CCI-BAL',\n",
      "       'B_C_X_MIG_NRG', 'C29_C30', 'D_AT', 'D_BE', 'D_BG', 'D_CZ', 'D_DE',\n",
      "       'D_DK', 'D_EE', 'D_EL', 'D_ES', 'D_FI', 'D_FR', 'D_HU', 'D_IT', 'D_LT',\n",
      "       'D_LV', 'D_PL', 'D_RO', 'D_SE', 'D_UK'],\n",
      "      dtype='object')\n",
      "                            OLS Regression Results                            \n",
      "==============================================================================\n",
      "Dep. Variable:           I_gfcf_g_yoy   R-squared:                       0.537\n",
      "Model:                            OLS   Adj. R-squared:                  0.529\n",
      "Method:                 Least Squares   F-statistic:                     65.36\n",
      "Date:                Fri, 16 Nov 2018   Prob (F-statistic):          1.36e-214\n",
      "Time:                        02:46:00   Log-Likelihood:                -4808.5\n",
      "No. Observations:                1432   AIC:                             9669.\n",
      "Df Residuals:                    1406   BIC:                             9806.\n",
      "Df Model:                          25                                         \n",
      "Covariance Type:            nonrobust                                         \n",
      "=============================================================================================\n",
      "                                coef    std err          t      P>|t|      [0.025      0.975]\n",
      "---------------------------------------------------------------------------------------------\n",
      "const                        17.0153      1.956      8.701      0.000      13.179      20.851\n",
      "I_gfcf_g_qoq                  0.5779      0.044     13.208      0.000       0.492       0.664\n",
      "business_climate_ind          2.0402      0.295      6.906      0.000       1.461       2.620\n",
      "industrial_conf_ind           0.1242      0.034      3.649      0.000       0.057       0.191\n",
      "construction_conf_ind         0.1865      0.013     14.085      0.000       0.161       0.212\n",
      "m_q_manufacturing_nenergy    -0.0711      0.019     -3.770      0.000      -0.108      -0.034\n",
      "vehicle_heavy_man            -0.0342      0.010     -3.286      0.001      -0.055      -0.014\n",
      "D_AT                         -4.0193      1.360     -2.955      0.003      -6.688      -1.351\n",
      "D_BE                         -3.1933      1.337     -2.389      0.017      -5.815      -0.571\n",
      "D_BG                          1.7274      1.206      1.432      0.152      -0.638       4.093\n",
      "D_CZ                         -3.3053      1.266     -2.611      0.009      -5.788      -0.822\n",
      "D_DE                         -2.1988      1.197     -1.836      0.067      -4.548       0.150\n",
      "D_DK                         -1.5650      1.405     -1.114      0.265      -4.321       1.191\n",
      "D_EE                         -3.7632      1.356     -2.775      0.006      -6.424      -1.103\n",
      "D_EL                         -3.6793      1.475     -2.494      0.013      -6.573      -0.785\n",
      "D_ES                         -0.6483      1.208     -0.537      0.592      -3.018       1.721\n",
      "D_FI                         -3.0964      1.216     -2.546      0.011      -5.482      -0.711\n",
      "D_FR                         -3.1912      1.207     -2.643      0.008      -5.560      -0.823\n",
      "D_HU                         -3.4315      1.272     -2.698      0.007      -5.926      -0.937\n",
      "D_IT                         -1.8631      1.167     -1.597      0.111      -4.152       0.426\n",
      "D_LT                          1.8944      1.323      1.432      0.152      -0.700       4.489\n",
      "D_LV                          1.4032      1.249      1.123      0.261      -1.047       3.853\n",
      "D_PL                          0.7190      1.328      0.541      0.588      -1.886       3.324\n",
      "D_RO                         -0.2804      1.274     -0.220      0.826      -2.779       2.218\n",
      "D_SE                         -2.5183      1.221     -2.062      0.039      -4.914      -0.123\n",
      "D_UK                         -2.3401      1.188     -1.970      0.049      -4.670      -0.010\n",
      "==============================================================================\n",
      "Omnibus:                      204.245   Durbin-Watson:                   1.845\n",
      "Prob(Omnibus):                  0.000   Jarque-Bera (JB):             1903.295\n",
      "Skew:                           0.327   Prob(JB):                         0.00\n",
      "Kurtosis:                       8.610   Cond. No.                     3.07e+03\n",
      "==============================================================================\n",
      "\n",
      "Warnings:\n",
      "[1] Standard Errors assume that the covariance matrix of the errors is correctly specified.\n",
      "[2] The condition number is large, 3.07e+03. This might indicate that there are\n",
      "strong multicollinearity or other numerical problems.\n"
     ]
    }
   ],
   "source": [
    "Igfcf3, Igfcf3_results = Igfcf([\"BS-BCI\", \"BS-ICI-BAL\", \"BS-CCI-BAL\", \"B_C_X_MIG_NRG\", \"C29_C30\", \"CLV_PCH_PRE\"],3) "
   ]
  },
  {
   "cell_type": "code",
   "execution_count": 26,
   "metadata": {},
   "outputs": [
    {
     "data": {
      "text/plain": [
       "<matplotlib.axes._subplots.AxesSubplot at 0x7f2049aa4a90>"
      ]
     },
     "execution_count": 26,
     "metadata": {},
     "output_type": "execute_result"
    },
    {
     "data": {
      "image/png": "[encoded data removed]",
      "text/plain": [
       "<Figure size 1080x720 with 2 Axes>"
      ]
     },
     "metadata": {
      "needs_background": "light"
     },
     "output_type": "display_data"
    }
   ],
   "source": [
    "f, ax = plt.subplots(figsize=(15,10)) \n",
    "sns.heatmap(Igfcf3.corr(), mask=np.zeros_like(Igfcf3.corr(), dtype=np.bool),\n",
    "            cmap=sns.diverging_palette(10, 220, as_cmap=True),square=True, ax=ax)"
   ]
  },
  {
   "cell_type": "markdown",
   "metadata": {},
   "source": [
    "<br>"
   ]
  },
  {
   "cell_type": "markdown",
   "metadata": {},
   "source": [
    "# $G$"
   ]
  },
  {
   "cell_type": "markdown",
   "metadata": {},
   "source": [
    "$$G_t = \\textit{Purchases of Goods and Services}_t+ \\textit{Wages Public Servants}_t+ \\textit{Investment}_t$$\n",
    "The value calculated is -0.0086575."
   ]
  },
  {
   "cell_type": "markdown",
   "metadata": {},
   "source": [
    "<br>"
   ]
  },
  {
   "cell_type": "markdown",
   "metadata": {},
   "source": [
    "# $X$"
   ]
  },
  {
   "cell_type": "code",
   "execution_count": 27,
   "metadata": {},
   "outputs": [],
   "source": [
    "ECB_gdp_yoy_3q_g = {'AT': 0.026, 'BE': 0.014, 'EE': 0.037  , 'FI': 0.025, 'FR': 0.015, 'DE': 0.012, 'EL': 0.018,\n",
    "                    'IE': 0.091, 'IT': 0.008, 'LV': 0.044, 'NL': 0.023, 'PT': 0.024, 'SI': 0.043, 'ES': 0.025}\n"
   ]
  },
  {
   "cell_type": "code",
   "execution_count": 28,
   "metadata": {},
   "outputs": [],
   "source": [
    "def X(model_variables=[], version=0, all_boolean=False, country_dummies=True):\n",
    "\n",
    "    ext_tec03 = pd.read_csv(\"./data/ext_tec03_1_Data.csv\"); ext_tec03.Value = ext_tec03.Value.replace(regex=r'[,]+', value='').astype(np.float)\n",
    "    XXX_source = ext_tec03[(ext_tec03.TIME==2016)& (ext_tec03.STK_FLOW==\"EXP\")]\n",
    "    XXX_countries = sorted(list(set(ext_tec03.GEO.values)))\n",
    "    XXX_matrix = pd.DataFrame(index=XXX_countries, columns=XXX_countries)\n",
    "    for ind, row in XXX_source.iterrows():\n",
    "        if row.GEO == row.PARTNER:\n",
    "            XXX_matrix.loc[row.GEO][row.PARTNER]=0\n",
    "        else:\n",
    "            XXX_matrix.loc[row.GEO][row.PARTNER]=row.Value#/np.sum(XXX_source[XXX_source.GEO==row.GEO].Value)\n",
    "    XXX_matrix = XXX_matrix.dropna()\n",
    "    XXX_matrix = XXX_matrix[XXX_matrix.index.values].copy()\n",
    "    XXX_weights = XXX_matrix.divide(XXX_matrix.sum(axis=1), axis=0).copy()\n",
    "    #countries = sorted(list(XXX_weights.index.values))\n",
    "    countries = sorted(ECB_gdp_yoy_3q_g.keys())\n",
    "    XXX_weights = XXX_weights.loc[countries,countries]\n",
    "    \n",
    "    ###########################################################################################\n",
    "    \n",
    "    df_in = pd.DataFrame(index = sorted(list(set(namq_10_gdp.ID))))\n",
    "    \n",
    "    ###########################################################################################\n",
    "\n",
    "    ## Chain linked volumes, percentage change on previous period\n",
    "    var = \"CLV_PCH_PRE\"\n",
    "    for country in countries:\n",
    "        selec = namq_10_gdp[((namq_10_gdp.NA_ITEM==\"B1GQ\")&(namq_10_gdp.UNIT==\"CLV_PCH_SM\"))&(namq_10_gdp.GEO==country)][[\"TIME\", \"Value\"]]\n",
    "        temp_dict = dict(zip(selec.TIME.values, selec.Value.values))\n",
    "        df_in[country] = df_in.index.str[:-2].map(temp_dict)\n",
    "                \n",
    "    for ID in df_in.index:\n",
    "        if ID[-2:] in XXX_weights.index:\n",
    "            df_in.at[ID,:] = df_in.loc[ID,:].values*XXX_weights.loc[ID[-2:],:].values\n",
    "        else:\n",
    "            #print(ID)\n",
    "            df_in.drop(ID, axis=0, inplace=True)\n",
    "    df_in = df_in.loc[:,df_in.notna().sum()!=0].dropna().copy()\n",
    "    df_in.index.name = \"ID\"; df_in.reset_index(inplace=True)\n",
    "\n",
    "    ###########################################################################################\n",
    "\n",
    "    # Chain linked volumes, percentage change compared to same period in previous year\n",
    "    var = \"CLV_PCH_SM\"\n",
    "    selec = namq_10_gdp[(namq_10_gdp.NA_ITEM==\"P6\")&(namq_10_gdp.UNIT==var)][[\"ID\", \"Value\"]]; selec.columns = [\"ID\", var]\n",
    "    df_in = pd.merge(df_in, selec, on='ID', how=\"inner\")\n",
    "    \n",
    "        # Business Climate Indicator\n",
    "    var = \"BS-BCI\"\n",
    "    if var in model_variables or all_boolean:\n",
    "        dic_BCI = dict(zip(ei_bsci_m_r2_1.TIME.values, ei_bsci_m_r2_1.Value.values))\n",
    "        df_in[var] = df_in.ID.str[:-2].map(dic_BCI)\n",
    "        \n",
    "    # Economic sentiment indicator\n",
    "    var = \"BS-ESI-I\"\n",
    "    if var in model_variables or all_boolean:\n",
    "        selec = ei_bssi_m_r2[ei_bssi_m_r2.INDIC==var][[\"ID\", \"Value\"]]; selec.columns = [\"ID\", var]\n",
    "        df_in = pd.merge(df_in, selec, on='ID', how=\"inner\")\n",
    "        \n",
    "    # Real Effective Exchange Rate (deflator consumer price indices - 42 trading partners)\n",
    "    var = \"REER42CPI\"\n",
    "    if var in model_variables or all_boolean:\n",
    "        selec = ei_mfef_m[ei_mfef_m.INDIC==var][[\"ID\", \"Value\"]]; selec.columns = [\"ID\", var]\n",
    "        df_in = pd.merge(df_in, selec, on='ID', how=\"inner\")\n",
    "    \n",
    "    ###########################################################################################\n",
    "    \n",
    "    # Dummies\n",
    "    if country_dummies:\n",
    "        countries.remove('PT')\n",
    "        for country in sorted(list(countries)):\n",
    "            df_in[\"D_\"+country] = (df_in.ID.str[-2:] == country).astype(int)\n",
    "\n",
    "    ###########################################################################################\n",
    "\n",
    "    X = df_in.dropna().copy().set_index(\"ID\")\n",
    "    X = X.loc[:, (X != 0).any(axis=0)].copy()\n",
    "    del var, selec, df_in\n",
    "    \n",
    "    ###########################################################################################\n",
    "    \n",
    "    # Save\n",
    "    if version != 0:\n",
    "        X.to_csv(\"./regressions/X\"+version+\".csv\")\n",
    "    \n",
    "    ###########################################################################################\n",
    "    \n",
    "    # Regression\n",
    "    X.columns = [\"AT_rgdp_g_qoq\", \"BE_rgdp_g_qoq\", \"DE_rgdp_g_qoq\", \n",
    "                 \"EE_rgdp_g_qoq\", \"EL_rgdp_g_qoq\", \"ES_rgdp_g_qoq\", \n",
    "                 \"FI_rgdp_g_qoq\", \"FR_rgdp_g_qoq\", \"IE_rgdp_g_qoq\", \n",
    "                 \"IT_rgdp_g_qoq\",  \"LT_rgdp_g_qoq\",\"LV_rgdp_g_qoq\", \"NL_rgdp_g_qoq\", \n",
    "                 \"PT_rgdp_g_qoq\", \"SI_rgdp_g_qoq\", \"X_g_yoy\", \"business_climate_ind\", \n",
    "                 \"economic_sentiment_ind\", \"reer_42p\", 'D_AT', 'D_BE', 'D_DE', 'D_EE', 'D_EL', 'D_ES', 'D_FI', 'D_FR', 'D_IT',\n",
    "       'D_LT', 'D_LV', 'D_NL', 'D_SI']\n",
    "    X_mat = sm.add_constant(X.loc[:, X.columns != \"X_g_yoy\"].copy())\n",
    "    y = X.loc[:, \"X_g_yoy\"].copy()\n",
    "    results = sm.OLS(y, X_mat).fit()\n",
    "    print(results.summary())\n",
    "    \n",
    "    return(X, results)"
   ]
  },
  {
   "cell_type": "code",
   "execution_count": 29,
   "metadata": {},
   "outputs": [
    {
     "ename": "ValueError",
     "evalue": "Length mismatch: Expected axis has 30 elements, new values have 32 elements",
     "output_type": "error",
     "traceback": [
      "\u001b[0;31m---------------------------------------------------------------------------\u001b[0m",
      "\u001b[0;31mValueError\u001b[0m                                Traceback (most recent call last)",
      "\u001b[0;32m<ipython-input-29-d51a1f28b239>\u001b[0m in \u001b[0;36m<module>\u001b[0;34m\u001b[0m\n\u001b[0;32m----> 1\u001b[0;31m \u001b[0mX0\u001b[0m\u001b[0;34m,\u001b[0m \u001b[0mX0_results\u001b[0m \u001b[0;34m=\u001b[0m \u001b[0mX\u001b[0m\u001b[0;34m(\u001b[0m\u001b[0mall_boolean\u001b[0m\u001b[0;34m=\u001b[0m\u001b[0;32mTrue\u001b[0m\u001b[0;34m)\u001b[0m\u001b[0;34m;\u001b[0m\u001b[0;34m\u001b[0m\u001b[0m\n\u001b[0m",
      "\u001b[0;32m<ipython-input-28-c08f37e68d21>\u001b[0m in \u001b[0;36mX\u001b[0;34m(model_variables, version, all_boolean, country_dummies)\u001b[0m\n\u001b[1;32m     93\u001b[0m                  \u001b[0;34m\"PT_rgdp_g_qoq\"\u001b[0m\u001b[0;34m,\u001b[0m \u001b[0;34m\"SI_rgdp_g_qoq\"\u001b[0m\u001b[0;34m,\u001b[0m \u001b[0;34m\"X_g_yoy\"\u001b[0m\u001b[0;34m,\u001b[0m \u001b[0;34m\"business_climate_ind\"\u001b[0m\u001b[0;34m,\u001b[0m\u001b[0;34m\u001b[0m\u001b[0m\n\u001b[1;32m     94\u001b[0m                  \u001b[0;34m\"economic_sentiment_ind\"\u001b[0m\u001b[0;34m,\u001b[0m \u001b[0;34m\"reer_42p\"\u001b[0m\u001b[0;34m,\u001b[0m \u001b[0;34m'D_AT'\u001b[0m\u001b[0;34m,\u001b[0m \u001b[0;34m'D_BE'\u001b[0m\u001b[0;34m,\u001b[0m \u001b[0;34m'D_DE'\u001b[0m\u001b[0;34m,\u001b[0m \u001b[0;34m'D_EE'\u001b[0m\u001b[0;34m,\u001b[0m \u001b[0;34m'D_EL'\u001b[0m\u001b[0;34m,\u001b[0m \u001b[0;34m'D_ES'\u001b[0m\u001b[0;34m,\u001b[0m \u001b[0;34m'D_FI'\u001b[0m\u001b[0;34m,\u001b[0m \u001b[0;34m'D_FR'\u001b[0m\u001b[0;34m,\u001b[0m \u001b[0;34m'D_IT'\u001b[0m\u001b[0;34m,\u001b[0m\u001b[0;34m\u001b[0m\u001b[0m\n\u001b[0;32m---> 95\u001b[0;31m        'D_LT', 'D_LV', 'D_NL', 'D_SI']\n\u001b[0m\u001b[1;32m     96\u001b[0m     \u001b[0mX_mat\u001b[0m \u001b[0;34m=\u001b[0m \u001b[0msm\u001b[0m\u001b[0;34m.\u001b[0m\u001b[0madd_constant\u001b[0m\u001b[0;34m(\u001b[0m\u001b[0mX\u001b[0m\u001b[0;34m.\u001b[0m\u001b[0mloc\u001b[0m\u001b[0;34m[\u001b[0m\u001b[0;34m:\u001b[0m\u001b[0;34m,\u001b[0m \u001b[0mX\u001b[0m\u001b[0;34m.\u001b[0m\u001b[0mcolumns\u001b[0m \u001b[0;34m!=\u001b[0m \u001b[0;34m\"X_g_yoy\"\u001b[0m\u001b[0;34m]\u001b[0m\u001b[0;34m.\u001b[0m\u001b[0mcopy\u001b[0m\u001b[0;34m(\u001b[0m\u001b[0;34m)\u001b[0m\u001b[0;34m)\u001b[0m\u001b[0;34m\u001b[0m\u001b[0m\n\u001b[1;32m     97\u001b[0m     \u001b[0my\u001b[0m \u001b[0;34m=\u001b[0m \u001b[0mX\u001b[0m\u001b[0;34m.\u001b[0m\u001b[0mloc\u001b[0m\u001b[0;34m[\u001b[0m\u001b[0;34m:\u001b[0m\u001b[0;34m,\u001b[0m \u001b[0;34m\"X_g_yoy\"\u001b[0m\u001b[0;34m]\u001b[0m\u001b[0;34m.\u001b[0m\u001b[0mcopy\u001b[0m\u001b[0;34m(\u001b[0m\u001b[0;34m)\u001b[0m\u001b[0;34m\u001b[0m\u001b[0m\n",
      "\u001b[0;32m~/miniconda3/envs/phd/lib/python3.6/site-packages/pandas/core/generic.py\u001b[0m in \u001b[0;36m__setattr__\u001b[0;34m(self, name, value)\u001b[0m\n\u001b[1;32m   4387\u001b[0m         \u001b[0;32mtry\u001b[0m\u001b[0;34m:\u001b[0m\u001b[0;34m\u001b[0m\u001b[0m\n\u001b[1;32m   4388\u001b[0m             \u001b[0mobject\u001b[0m\u001b[0;34m.\u001b[0m\u001b[0m__getattribute__\u001b[0m\u001b[0;34m(\u001b[0m\u001b[0mself\u001b[0m\u001b[0;34m,\u001b[0m \u001b[0mname\u001b[0m\u001b[0;34m)\u001b[0m\u001b[0;34m\u001b[0m\u001b[0m\n\u001b[0;32m-> 4389\u001b[0;31m             \u001b[0;32mreturn\u001b[0m \u001b[0mobject\u001b[0m\u001b[0;34m.\u001b[0m\u001b[0m__setattr__\u001b[0m\u001b[0;34m(\u001b[0m\u001b[0mself\u001b[0m\u001b[0;34m,\u001b[0m \u001b[0mname\u001b[0m\u001b[0;34m,\u001b[0m \u001b[0mvalue\u001b[0m\u001b[0;34m)\u001b[0m\u001b[0;34m\u001b[0m\u001b[0m\n\u001b[0m\u001b[1;32m   4390\u001b[0m         \u001b[0;32mexcept\u001b[0m \u001b[0mAttributeError\u001b[0m\u001b[0;34m:\u001b[0m\u001b[0;34m\u001b[0m\u001b[0m\n\u001b[1;32m   4391\u001b[0m             \u001b[0;32mpass\u001b[0m\u001b[0;34m\u001b[0m\u001b[0m\n",
      "\u001b[0;32mpandas/_libs/properties.pyx\u001b[0m in \u001b[0;36mpandas._libs.properties.AxisProperty.__set__\u001b[0;34m()\u001b[0m\n",
      "\u001b[0;32m~/miniconda3/envs/phd/lib/python3.6/site-packages/pandas/core/generic.py\u001b[0m in \u001b[0;36m_set_axis\u001b[0;34m(self, axis, labels)\u001b[0m\n\u001b[1;32m    644\u001b[0m \u001b[0;34m\u001b[0m\u001b[0m\n\u001b[1;32m    645\u001b[0m     \u001b[0;32mdef\u001b[0m \u001b[0m_set_axis\u001b[0m\u001b[0;34m(\u001b[0m\u001b[0mself\u001b[0m\u001b[0;34m,\u001b[0m \u001b[0maxis\u001b[0m\u001b[0;34m,\u001b[0m \u001b[0mlabels\u001b[0m\u001b[0;34m)\u001b[0m\u001b[0;34m:\u001b[0m\u001b[0;34m\u001b[0m\u001b[0m\n\u001b[0;32m--> 646\u001b[0;31m         \u001b[0mself\u001b[0m\u001b[0;34m.\u001b[0m\u001b[0m_data\u001b[0m\u001b[0;34m.\u001b[0m\u001b[0mset_axis\u001b[0m\u001b[0;34m(\u001b[0m\u001b[0maxis\u001b[0m\u001b[0;34m,\u001b[0m \u001b[0mlabels\u001b[0m\u001b[0;34m)\u001b[0m\u001b[0;34m\u001b[0m\u001b[0m\n\u001b[0m\u001b[1;32m    647\u001b[0m         \u001b[0mself\u001b[0m\u001b[0;34m.\u001b[0m\u001b[0m_clear_item_cache\u001b[0m\u001b[0;34m(\u001b[0m\u001b[0;34m)\u001b[0m\u001b[0;34m\u001b[0m\u001b[0m\n\u001b[1;32m    648\u001b[0m \u001b[0;34m\u001b[0m\u001b[0m\n",
      "\u001b[0;32m~/miniconda3/envs/phd/lib/python3.6/site-packages/pandas/core/internals.py\u001b[0m in \u001b[0;36mset_axis\u001b[0;34m(self, axis, new_labels)\u001b[0m\n\u001b[1;32m   3321\u001b[0m             raise ValueError(\n\u001b[1;32m   3322\u001b[0m                 \u001b[0;34m'Length mismatch: Expected axis has {old} elements, new '\u001b[0m\u001b[0;34m\u001b[0m\u001b[0m\n\u001b[0;32m-> 3323\u001b[0;31m                 'values have {new} elements'.format(old=old_len, new=new_len))\n\u001b[0m\u001b[1;32m   3324\u001b[0m \u001b[0;34m\u001b[0m\u001b[0m\n\u001b[1;32m   3325\u001b[0m         \u001b[0mself\u001b[0m\u001b[0;34m.\u001b[0m\u001b[0maxes\u001b[0m\u001b[0;34m[\u001b[0m\u001b[0maxis\u001b[0m\u001b[0;34m]\u001b[0m \u001b[0;34m=\u001b[0m \u001b[0mnew_labels\u001b[0m\u001b[0;34m\u001b[0m\u001b[0m\n",
      "\u001b[0;31mValueError\u001b[0m: Length mismatch: Expected axis has 30 elements, new values have 32 elements"
     ]
    }
   ],
   "source": [
    "X0, X0_results = X(all_boolean=True);"
   ]
  },
  {
   "cell_type": "code",
   "execution_count": null,
   "metadata": {},
   "outputs": [],
   "source": [
    "f, ax = plt.subplots(figsize=(15,10)) \n",
    "sns.heatmap(X0.corr(), mask=np.zeros_like(X0.corr(), dtype=np.bool),\n",
    "            cmap=sns.diverging_palette(10, 220, as_cmap=True),square=True, ax=ax)"
   ]
  },
  {
   "cell_type": "markdown",
   "metadata": {},
   "source": [
    "<br>"
   ]
  },
  {
   "cell_type": "markdown",
   "metadata": {},
   "source": [
    "# $M$"
   ]
  },
  {
   "cell_type": "code",
   "execution_count": null,
   "metadata": {},
   "outputs": [],
   "source": [
    "def M():\n",
    "    \n",
    "    df_in = pd.DataFrame(sorted(list(set(namq_10_gdp.ID))), columns=[\"ID\"])\n",
    "\n",
    "    ###########################################################################################\n",
    "    \n",
    "    # Chain linked volumes, percentage change compared to same period in previous year\n",
    "    var = \"CLV_PCH_SM\"\n",
    "    selec = namq_10_gdp[(namq_10_gdp.NA_ITEM==\"P7\")&(namq_10_gdp.UNIT==var)][[\"ID\", \"Value\"]]; selec.columns = [\"ID\", \"M\"]\n",
    "    df_in = pd.merge(df_in, selec, on='ID', how=\"inner\")\n",
    "    \n",
    "    # Cd\n",
    "    selec = namq_10_fcs[(namq_10_fcs.NA_ITEM==\"P311_S14\")&(namq_10_fcs.UNIT==var)][[\"ID\", \"Value\"]]; selec.columns = [\"ID\", \"Cd\"]\n",
    "    df_in = pd.merge(df_in, selec, on='ID', how=\"inner\")\n",
    "    \n",
    "    # Cnd\n",
    "    selec = namq_10_fcs[(namq_10_fcs.NA_ITEM==\"P312N_S14\")&(namq_10_fcs.UNIT==var)][[\"ID\", \"Value\"]]; selec.columns = [\"ID\", \"Cnd\"]\n",
    "    df_in = pd.merge(df_in, selec, on='ID', how=\"inner\")\n",
    "    \n",
    "    # G\n",
    "    selec = namq_10_gdp[(namq_10_gdp.NA_ITEM==\"P3_S13\")&(namq_10_gdp.UNIT==var)][[\"ID\", \"Value\"]]; selec.columns = [\"ID\", \"G\"]\n",
    "    df_in = pd.merge(df_in, selec, on='ID', how=\"inner\")\n",
    "    \n",
    "    # Igfcf\n",
    "    selec = namq_10_gdp[(namq_10_gdp.NA_ITEM==\"P51G\")&(namq_10_gdp.UNIT==var)][[\"ID\", \"Value\"]]; selec.columns = [\"ID\", \"Igfcf\"]\n",
    "    df_in = pd.merge(df_in, selec, on='ID', how=\"inner\")\n",
    "    \n",
    "    # Economic sentiment indicator\n",
    "    var = \"BS-ESI-I\"\n",
    "    selec = ei_bssi_m_r2[ei_bssi_m_r2.INDIC==var][[\"ID\", \"Value\"]]; selec.columns = [\"ID\", var]\n",
    "    df_in = pd.merge(df_in, selec, on='ID', how=\"inner\")\n",
    "    \n",
    "    # Real Effective Exchange Rate (deflator consumer price indices - 42 trading partners)\n",
    "    var = \"REER42CPI\"\n",
    "    selec = ei_mfef_m[ei_mfef_m.INDIC==var][[\"ID\", \"Value\"]]; selec.columns = [\"ID\", var]\n",
    "    df_in = pd.merge(df_in, selec, on='ID', how=\"inner\")\n",
    "    \n",
    "    \n",
    "    #############################################\n",
    "    \n",
    "    # Chain linked volumes, percentage change compared to same period in previous year\n",
    "    var = \"CLV_PCH_PRE\"\n",
    "    selec = namq_10_gdp_lag[(namq_10_gdp_lag.NA_ITEM==\"P7\")&(namq_10_gdp_lag.UNIT==var)][[\"ID\", \"Value\"]]; selec.columns = [\"ID\", \"M\"+\"_qoq\"]\n",
    "    df_in = pd.merge(df_in, selec, on='ID', how=\"inner\")\n",
    "    \n",
    "    ###########################################################################################\n",
    "    \n",
    "    # Dummies\n",
    "    countries = set(namq_10_gdp.GEO); countries.remove('PT')\n",
    "    for country in sorted(list(countries)):\n",
    "        df_in[\"D_\"+country] = (df_in.ID.str[-2:] == country).astype(int)\n",
    "    \n",
    "    M = df_in.copy().set_index(\"ID\")\n",
    "    M = M.loc[:, (M != 0).any(axis=0)].copy()\n",
    "    del var, selec, df_in\n",
    "    \n",
    "    ###########################################################################################\n",
    "    \n",
    "    # Save\n",
    "    M.to_csv(\"./regressions/M.csv\")\n",
    "    \n",
    "    ###########################################################################################\n",
    "    \n",
    "    # Regression\n",
    "    M.columns = [\"M_g_yoy\", \"C_d_g_yoy\", \"C_nd_g_yoy\", \"G_g_yoy\", \"I_gfcf_g_yoy\",\n",
    "                 \"economic_sentiment_ind\", \"reer_42p\", \"M_g_qoq\", 'D_AT', 'D_BE', \n",
    "                 'D_BG', 'D_CZ', 'D_DE', 'D_DK', 'D_EE', 'D_EL', 'D_ES','D_FI', \n",
    "                 'D_FR', 'D_IT', 'D_LT', 'D_LU', 'D_LV', 'D_MT', 'D_NL', 'D_PL',\n",
    "                 'D_SE', 'D_SI', 'D_UK']\n",
    "    X = sm.add_constant(M.loc[:, M.columns != \"M_g_yoy\"].copy())\n",
    "    X.columns\n",
    "    y = M.loc[:, \"M_g_yoy\"].copy()\n",
    "    results = sm.OLS(y, X).fit()\n",
    "    print(results.summary())\n",
    "    return(M, results)"
   ]
  },
  {
   "cell_type": "code",
   "execution_count": null,
   "metadata": {},
   "outputs": [],
   "source": [
    "M0, M0_results = M()"
   ]
  },
  {
   "cell_type": "code",
   "execution_count": null,
   "metadata": {},
   "outputs": [],
   "source": [
    "f, ax = plt.subplots(figsize=(15,10)) \n",
    "sns.heatmap(M0.corr(), mask=np.zeros_like(M0.corr(), dtype=np.bool),\n",
    "            cmap=sns.diverging_palette(10, 220, as_cmap=True),square=True, ax=ax)"
   ]
  },
  {
   "cell_type": "markdown",
   "metadata": {},
   "source": [
    "<br>"
   ]
  },
  {
   "cell_type": "markdown",
   "metadata": {},
   "source": [
    "____________________"
   ]
  },
  {
   "cell_type": "markdown",
   "metadata": {},
   "source": [
    "<br>"
   ]
  },
  {
   "cell_type": "markdown",
   "metadata": {},
   "source": [
    "# Looking at the Labor Market"
   ]
  },
  {
   "cell_type": "code",
   "execution_count": null,
   "metadata": {},
   "outputs": [],
   "source": [
    "def LaborMarket():\n",
    "    \n",
    "    df_in = pd.DataFrame(sorted(list(set(namq_10_gdp.ID))), columns=[\"ID\"])\n",
    "    \n",
    "    ###########################################################################################\n",
    "    \n",
    "    # Chain linked volumes, percentage change compared to same period in previous year\n",
    "    df_in = pd.DataFrame(sorted(list(set(une_rt_q.ID))), columns=[\"ID\"])\n",
    "    var = \"SA\"\n",
    "    #selec = une_rt_q[(une_rt_q.UNIT==\"PC_ACT\")&(une_rt_q.S_ADJ==var)][[\"ID\", \"Value\"]]; \n",
    "    #df_in = pd.merge(df_in, selec, on='ID', how=\"inner\")\n",
    "    \n",
    "    temp =  pd.merge(une_rt_q[une_rt_q.UNIT==\"PC_ACT\"], une_rt_q_lag[une_rt_q_lag.UNIT==\"PC_ACT\"], on='ID', how=\"inner\")\n",
    "    temp[\"Value_x\"] = temp[\"Value_x\"]-temp[\"Value_y\"]; temp[\"ID_x\"] = temp[\"ID\"]\n",
    "    temp = temp[[i for i in temp.columns if i[-2:]==\"_x\"]].copy()\n",
    "    temp.columns = [i[:-2] for i in temp.columns]\n",
    "    selec = temp[(temp.UNIT==\"PC_ACT\")&(temp.S_ADJ==var)][[\"ID\", \"Value\"]].copy(); selec.columns = [\"ID\", \"U\"]\n",
    "    df_in = pd.merge(df_in, selec, on='ID', how=\"inner\")\n",
    "    \n",
    "    # Cd\n",
    "    var = \"CLV_PCH_SM\"\n",
    "    \n",
    "    selec = une_rt_q_lag[(une_rt_q_lag.UNIT==\"PC_ACT\")&(une_rt_q_lag.S_ADJ==\"SA\")][[\"ID\", \"Value\"]]; selec.columns = [\"ID\", \"U_ym1\"]\n",
    "    df_in = pd.merge(df_in, selec, on='ID', how=\"inner\")    \n",
    "    \n",
    "    selec = namq_10_fcs[(namq_10_fcs.NA_ITEM==\"P311_S14\")&(namq_10_fcs.UNIT==var)][[\"ID\", \"Value\"]]; selec.columns = [\"ID\", \"Cd\"]\n",
    "    df_in = pd.merge(df_in, selec, on='ID', how=\"inner\")\n",
    "    \n",
    "    # Cnd\n",
    "    selec = namq_10_fcs[(namq_10_fcs.NA_ITEM==\"P312N_S14\")&(namq_10_fcs.UNIT==var)][[\"ID\", \"Value\"]]; selec.columns = [\"ID\", \"Cnd\"]\n",
    "    df_in = pd.merge(df_in, selec, on='ID', how=\"inner\")\n",
    "    \n",
    "    # G\n",
    "    selec = namq_10_gdp[(namq_10_gdp.NA_ITEM==\"P3_S13\")&(namq_10_gdp.UNIT==var)][[\"ID\", \"Value\"]]; selec.columns = [\"ID\", \"G\"]\n",
    "    df_in = pd.merge(df_in, selec, on='ID', how=\"inner\")\n",
    "    \n",
    "    # Igfcf\n",
    "    selec = namq_10_gdp[(namq_10_gdp.NA_ITEM==\"P51G\")&(namq_10_gdp.UNIT==var)][[\"ID\", \"Value\"]]; selec.columns = [\"ID\", \"Igfcf\"]\n",
    "    df_in = pd.merge(df_in, selec, on='ID', how=\"inner\")\n",
    "    \n",
    "    # Economic sentiment indicator\n",
    "    var = \"BS-ESI-I\"\n",
    "    selec = ei_bssi_m_r2[ei_bssi_m_r2.INDIC==var][[\"ID\", \"Value\"]]; selec.columns = [\"ID\", var]\n",
    "    df_in = pd.merge(df_in, selec, on='ID', how=\"inner\")\n",
    "    \n",
    "    # Real Effective Exchange Rate (deflator consumer price indices - 42 trading partners)\n",
    "    var = \"REER42CPI\"\n",
    "    selec = ei_mfef_m[ei_mfef_m.INDIC==var][[\"ID\", \"Value\"]]; selec.columns = [\"ID\", var]\n",
    "    df_in = pd.merge(df_in, selec, on='ID', how=\"inner\")\n",
    "    \n",
    "    #############################################\n",
    "    \n",
    "    # Chain linked volumes, percentage change compared to same period in previous year\n",
    "    var = \"CLV_PCH_PRE\"\n",
    "    \n",
    "    # Cd\n",
    "    selec = namq_10_fcs[(namq_10_fcs.NA_ITEM==\"P311_S14\")&(namq_10_fcs.UNIT==var)][[\"ID\", \"Value\"]]; selec.columns = [\"ID\", \"Cd\"+\"_qoq\"]\n",
    "    df_in = pd.merge(df_in, selec, on='ID', how=\"inner\")\n",
    "    \n",
    "    # Cnd\n",
    "    selec = namq_10_fcs[(namq_10_fcs.NA_ITEM==\"P312N_S14\")&(namq_10_fcs.UNIT==var)][[\"ID\", \"Value\"]]; selec.columns = [\"ID\", \"Cnd\"+\"_qoq\"]\n",
    "    df_in = pd.merge(df_in, selec, on='ID', how=\"inner\")\n",
    "    \n",
    "    # G\n",
    "    selec = namq_10_gdp[(namq_10_gdp.NA_ITEM==\"P3_S13\")&(namq_10_gdp.UNIT==var)][[\"ID\", \"Value\"]]; selec.columns = [\"ID\", \"G\"+\"_qoq\"]\n",
    "    df_in = pd.merge(df_in, selec, on='ID', how=\"inner\")\n",
    "    \n",
    "    # Igfcf\n",
    "    selec = namq_10_gdp[(namq_10_gdp.NA_ITEM==\"P51G\")&(namq_10_gdp.UNIT==var)][[\"ID\", \"Value\"]]; selec.columns = [\"ID\", \"Igfcf\"+\"_qoq\"]\n",
    "    df_in = pd.merge(df_in, selec, on='ID', how=\"inner\")\n",
    "    \n",
    "\n",
    "    ###########################################################################################\n",
    "    \n",
    "    # Dummies\n",
    "    countries = set(namq_10_gdp.GEO); countries.remove('PT')\n",
    "    for country in sorted(list(countries)):\n",
    "        df_in[\"D_\"+country] = (df_in.ID.str[-2:] == country).astype(int)\n",
    "    \n",
    "    U = df_in.copy().set_index(\"ID\")\n",
    "    U = U.loc[:, (U != 0).any(axis=0)].copy()\n",
    "    del var, selec, df_in\n",
    "    \n",
    "    ###########################################################################################\n",
    "    \n",
    "    # Save\n",
    "    U.to_csv(\"./regressions/U.csv\")\n",
    "    \n",
    "    ###########################################################################################\n",
    "    \n",
    "    U.columns = [\"U_d_yoy\", \"U_d_qoq\", \"C_d_g_yoy\", \"C_nd_g_yoy\", \"G_g_yoy\", \"I_gfcf_g_yoy\",\n",
    "                 \"economic_sentiment_ind\", \"reer_42p\", \"C_d_g_qoq\", \"C_nd_g_qoq\", \"G_g_qoq\", \"I_gfcf_g_qoq\",\n",
    "                 'D_AT', 'D_BE', \n",
    "                 'D_BG', 'D_CZ', 'D_DE', 'D_DK', 'D_EE', 'D_EL', 'D_ES','D_FI', \n",
    "                 'D_FR', 'D_IT', 'D_LT', 'D_LU', 'D_LV', 'D_MT', 'D_NL', 'D_PL',\n",
    "                 'D_SE', 'D_SI', 'D_UK']\n",
    "    # Regression\n",
    "    X = sm.add_constant(U.loc[:, U.columns != \"U_d_yoy\"].copy())\n",
    "    y = U.loc[:, \"U_d_yoy\"].copy()\n",
    "    results = sm.OLS(y, X).fit()\n",
    "    print(results.summary())\n",
    "    \n",
    "    return(U, results)"
   ]
  },
  {
   "cell_type": "code",
   "execution_count": null,
   "metadata": {},
   "outputs": [],
   "source": [
    "U0, U0_results = LaborMarket()"
   ]
  },
  {
   "cell_type": "code",
   "execution_count": null,
   "metadata": {},
   "outputs": [],
   "source": [
    "f, ax = plt.subplots(figsize=(15,10)) \n",
    "sns.heatmap(U0.corr(), mask=np.zeros_like(U0.corr(), dtype=np.bool),\n",
    "            cmap=sns.diverging_palette(10, 220, as_cmap=True),square=True, ax=ax)"
   ]
  },
  {
   "cell_type": "markdown",
   "metadata": {},
   "source": [
    "_______________________"
   ]
  },
  {
   "cell_type": "markdown",
   "metadata": {},
   "source": [
    "# Forecasting: Portugal"
   ]
  },
  {
   "cell_type": "code",
   "execution_count": null,
   "metadata": {},
   "outputs": [],
   "source": [
    "namq_10_gdp[((namq_10_gdp.GEO == \"PT\")&(namq_10_gdp.NA_ITEM == \"B1GQ\"))&((namq_10_gdp.TIME_LABEL == \"2018Q2\")&(namq_10_gdp.UNIT == \"CLV10_MEUR\"))]"
   ]
  },
  {
   "cell_type": "markdown",
   "metadata": {},
   "source": [
    "$$y=\\beta \\cdot \\textbf{x}$$"
   ]
  },
  {
   "cell_type": "markdown",
   "metadata": {},
   "source": [
    ">## Consumption in durables, $Cd$"
   ]
  },
  {
   "cell_type": "code",
   "execution_count": null,
   "metadata": {},
   "outputs": [],
   "source": [
    "Cd_pred = pd.DataFrame(Cd3_results.params, columns=[\"Coef\"])\n",
    "Cd_pred[\"2018Q3\"] = 0\n",
    "Cd_pred.at[\"const\":\"vehicle_light_reg\",\"2018Q3\"] = [1, 4.5, 1.1, 16.8, -1.2, 142.5, 135.703123648508]\n",
    "Cd_pred.transpose()"
   ]
  },
  {
   "cell_type": "code",
   "execution_count": null,
   "metadata": {},
   "outputs": [],
   "source": [
    "Cd_g = (Cd_pred[\"Coef\"]@Cd_pred[\"2018Q3\"])/100; \n",
    "Cd_2017Q3 = 3012.2; Cd_2018Q3 = (1+Cd_g)*Cd_2017Q3\n",
    "print(\"Cd_2018Q3:\", \"\\t\"*1, Cd_2017Q3)\n",
    "print(\"Cd_g:\", \"\\t\"*2, \"+\",Cd_g*100, \"%\")\n",
    "print(\"Cd_2018Q3:\", \"\\t\"*1, Cd_2018Q3,\"\\n\")"
   ]
  },
  {
   "cell_type": "markdown",
   "metadata": {},
   "source": [
    ">## Consumption in services and semi- and non-durables, $Cnd$"
   ]
  },
  {
   "cell_type": "code",
   "execution_count": null,
   "metadata": {},
   "outputs": [],
   "source": [
    "Cnd_pred = pd.DataFrame(Cnd3_results.params, columns=[\"Coef\"])\n",
    "Cnd_pred[\"2018Q3\"] = 0\n",
    "Cnd_pred.at[\"const\":\"unemp_h_all\",\"2018Q3\"] = [1, 0, 1.1, 16.8, 110, 111.8, 6.76666666666667]\n",
    "Cnd_pred.transpose()"
   ]
  },
  {
   "cell_type": "code",
   "execution_count": null,
   "metadata": {},
   "outputs": [],
   "source": [
    "Cnd_g = (Cnd_pred[\"Coef\"]@Cnd_pred[\"2018Q3\"])/100; \n",
    "Cnd_2017Q3 =  27599.6; Cnd_2018Q3 = (1+Cnd_g)*Cnd_2017Q3\n",
    "print(\" Cnd_2017Q3:\",  \"\\t\"*1, Cnd_2017Q3, \"\\n\", \n",
    "      \"Cnd_g:\", \"\\t\"*1, \"+\",Cnd_g*100, \"%\", \"\\n\", \n",
    "      \"Cnd_2018Q3:\",  \"\\t\"*1, Cnd_2018Q3, \"\\n\")"
   ]
  },
  {
   "cell_type": "markdown",
   "metadata": {},
   "source": [
    ">## Goverment, $G$"
   ]
  },
  {
   "cell_type": "code",
   "execution_count": null,
   "metadata": {},
   "outputs": [],
   "source": [
    "G_g=-0.0086575 ; \n",
    "G_2017Q3 = 8656.2; G_2018Q3 = (1+G_g)*G_2017Q3\n",
    "print(\" G_2017Q3:\", \"\\t\"*1, G_2017Q3, \"\\n\", \n",
    "      \"G_g:\", \"\\t\"*2,G_g*100, \"%\", \"\\n\", \n",
    "      \"G_2018Q3:\", \"\\t\"*1, G_2018Q3)"
   ]
  },
  {
   "cell_type": "markdown",
   "metadata": {},
   "source": [
    ">## Investment - gross fixed capital formation, $Igfcf$"
   ]
  },
  {
   "cell_type": "code",
   "execution_count": null,
   "metadata": {},
   "outputs": [],
   "source": [
    "Igfcf_pred = pd.DataFrame(Igfcf3_results.params, columns=[\"Coef\"])\n",
    "Igfcf_pred[\"2018Q3\"] = 0\n",
    "Igfcf_pred.at[\"const\":\"vehicle_heavy_man\",\"2018Q3\"] = [1, 1.3, 1.2, 1.1, -12.4, 104.3, 142.5]\n",
    "Igfcf_pred.transpose()"
   ]
  },
  {
   "cell_type": "code",
   "execution_count": null,
   "metadata": {},
   "outputs": [],
   "source": [
    "Igfcf_g = (Igfcf_pred[\"Coef\"]@Igfcf_pred[\"2018Q3\"])/100; \n",
    "Igfcf_2017Q3 =  7772.4; Igfcf_2018Q3 = (1+Igfcf_g)*Igfcf_2017Q3\n",
    "print(\" Igfcf_2017Q3:\",  \"\\t\"*1, Igfcf_2017Q3, \"\\n\", \n",
    "      \"Igfcf_g:\", \"\\t\"*1, \"+\", Igfcf_g*100, \"%\", \"\\n\", \n",
    "      \"Igfcf_2018Q3:\",  \"\\t\"*1, Igfcf_2018Q3)"
   ]
  },
  {
   "cell_type": "markdown",
   "metadata": {},
   "source": [
    ">## Exports, $X$\n"
   ]
  },
  {
   "cell_type": "code",
   "execution_count": null,
   "metadata": {},
   "outputs": [],
   "source": [
    "X_pred.index"
   ]
  },
  {
   "cell_type": "code",
   "execution_count": null,
   "metadata": {},
   "outputs": [],
   "source": [
    "X_pred = pd.DataFrame(X0_results.params, columns=[\"Coef\"])\n",
    "X_pred[\"2018Q3\"] = 0\n",
    "X_pred.at[\"const\", \"2018Q3\"] = 1\n",
    "for var in sorted(ECB_gdp_yoy_3q_g.keys()):\n",
    "    X_pred.at[var+\"_rgdp_g_qoq\", \"2018Q3\"] = ECB_gdp_yoy_3q_g[var]\n",
    "X_pred.at[\"business_climate_ind\":\"reer_42p\", \"2018Q3\"] = [1.2, 112.1, 100.94]\n",
    "X_pred.transpose()"
   ]
  },
  {
   "cell_type": "markdown",
   "metadata": {},
   "source": [
    "$$z_{2018Q3} = (1+g) \\cdot z_{2017Q3}$$"
   ]
  },
  {
   "cell_type": "code",
   "execution_count": null,
   "metadata": {},
   "outputs": [],
   "source": [
    "X_g = (X_pred[\"Coef\"]@X_pred[\"2018Q3\"])/100;\n",
    "X_2017Q3 = 19659.4; X_2018Q3 = (1+X_g)*X_2017Q3\n",
    "print(\" X_2017Q3:\", \"\\t\"*1, X_2017Q3, \"\\n\", \n",
    "      \"X_g:\", \"\\t\"*2,X_g*100, \"%\", \"\\n\", \n",
    "      \"X_2018Q3:\", \"\\t\"*1, X_2018Q3)"
   ]
  },
  {
   "cell_type": "markdown",
   "metadata": {},
   "source": [
    ">## Imports, $M$"
   ]
  },
  {
   "cell_type": "code",
   "execution_count": null,
   "metadata": {},
   "outputs": [],
   "source": [
    "Cd_2018Q2 = 3213.3; Cnd_2018Q2 = 28218.2; \n",
    "G_2018Q2 = 8718.1; Igfcf_2018Q2 = 8021.4; \n",
    "Cd_qoq = (Cd_2018Q3/Cd_2018Q2-1)*100\n",
    "Cnd_qoq = (Cnd_2018Q3/Cnd_2018Q2-1)*100\n",
    "G_qoq = (G_2018Q3/G_2018Q2-1)*100\n",
    "Igfcf_qoq = (Igfcf_2018Q3/Igfcf_2018Q2-1)*100"
   ]
  },
  {
   "cell_type": "code",
   "execution_count": null,
   "metadata": {},
   "outputs": [],
   "source": [
    "M_pred = pd.DataFrame(M0_results.params, columns=[\"Coef\"])\n",
    "M_pred[\"2018Q3\"] = 0\n",
    "M_pred.loc[\"const\":\"M_g_qoq\", \"2018Q3\"] = [1, Cd_g*100, Cnd_g*100, G_g*100, Igfcf_g*100, 112.1, 100.94, 2]\n",
    "M_pred.transpose()"
   ]
  },
  {
   "cell_type": "code",
   "execution_count": null,
   "metadata": {},
   "outputs": [],
   "source": [
    "M_g = (M_pred[\"Coef\"]@M_pred[\"2018Q3\"])/100;\n",
    "M_2017Q3 = 20669.1; M_2018Q3 = (1+M_g)*M_2017Q3\n",
    "print(\" M_2017Q3:\", \"\\t\"*1, M_2017Q3, \"\\n\", \n",
    "      \"M_g:\", \"\\t\"*2,M_g*100, \"%\", \"\\n\", \n",
    "      \"M_2018Q3:\", \"\\t\"*1, M_2018Q3)"
   ]
  },
  {
   "cell_type": "markdown",
   "metadata": {},
   "source": [
    "_______________"
   ]
  },
  {
   "cell_type": "markdown",
   "metadata": {},
   "source": [
    "># Gross Domestic Product, $GDP$"
   ]
  },
  {
   "cell_type": "code",
   "execution_count": null,
   "metadata": {},
   "outputs": [],
   "source": [
    "Ii_2017Q3 = 8153.9-7772.4\n",
    "GDP_2017Q3 = 45183.7\n",
    "GDPnIi_2017Q3 = GDP_2017Q3-Ii_2017Q3\n",
    "GDPnIi_2018Q3 = Cd_2018Q3+Cnd_2018Q3+Igfcf_2018Q3+G_2018Q3+(X_2018Q3-M_2018Q3)\n",
    "GDP_g = GDPnIi_2018Q3/GDPnIi_2017Q3-1\n",
    "Ii_2018Q3 = Ii_2017Q3*(1+GDP_g)\n",
    "GDP_2018Q3 = GDPnIi_2018Q3+Ii_2018Q3\n",
    "print(\" GDP_2017Q3:\", \"\\t\"*1, GDP_2017Q3, \"\\n\", \n",
    "      \"GDP_g:\", \"\\t\"*1,GDP_g*100, \"%\", \"\\n\", \n",
    "      \"GDP_2018Q3:\", \"\\t\"*1, GDP_2018Q3)"
   ]
  },
  {
   "cell_type": "markdown",
   "metadata": {},
   "source": [
    "___________"
   ]
  },
  {
   "cell_type": "markdown",
   "metadata": {},
   "source": [
    "># Unemployment level (as a percentage of active population), $U$"
   ]
  },
  {
   "cell_type": "code",
   "execution_count": null,
   "metadata": {},
   "outputs": [],
   "source": [
    "U_pred = pd.DataFrame(U0_results.params, columns=[\"Coef\"])\n",
    "U_pred[\"2018Q3\"] = 0\n",
    "U_pred.at[\"const\":\"I_gfcf_g_qoq\", \"2018Q3\"] = [1, 7, Cd_g*100, Cnd_g*100, G_g*100, Igfcf_g*100, 112.1, 100.94, \n",
    "                                            Cd_qoq, Cnd_qoq, G_qoq, Igfcf_qoq]\n",
    "U_pred.transpose()"
   ]
  },
  {
   "cell_type": "code",
   "execution_count": null,
   "metadata": {},
   "outputs": [],
   "source": [
    "U_2018Q3_true = 6.9\n",
    "U_2018Q2 = 7\n",
    "U_d = (U_pred[\"Coef\"]@U_pred[\"2018Q3\"])\n",
    "U_2018Q3 = U_2018Q2 + U_d;\n",
    "print(\" U_2018Q2:\", \"\\t\"*2, U_2018Q2, \"%\", \"\\n\",\n",
    "      \"U_d:\", \"\\t\"*3, U_d, \"%\", \"\\n\", \n",
    "      \"Predicted value of U:\", \"\\t\"*1, U_2018Q3, \"%\", \"\\n\",\n",
    "      \"Realized U:\", \"\\t\"*2,U_2018Q3_true, \"%\")"
   ]
  },
  {
   "cell_type": "markdown",
   "metadata": {},
   "source": [
    "<br>"
   ]
  }
 ],
 "metadata": {
  "kernelspec": {
   "display_name": "Python 3",
   "language": "python",
   "name": "python3"
  },
  "language_info": {
   "codemirror_mode": {
    "name": "ipython",
    "version": 3
   },
   "file_extension": ".py",
   "mimetype": "text/x-python",
   "name": "python",
   "nbconvert_exporter": "python",
   "pygments_lexer": "ipython3",
   "version": "3.6.6"
  }
 },
 "nbformat": 4,
 "nbformat_minor": 2
}
