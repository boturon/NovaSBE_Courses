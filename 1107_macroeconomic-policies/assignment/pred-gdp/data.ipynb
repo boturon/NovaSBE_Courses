{
 "cells": [
  {
   "cell_type": "code",
   "execution_count": 124,
   "metadata": {},
   "outputs": [],
   "source": [
    "import os\n",
    "import itertools\n",
    "import numpy as np\n",
    "import pandas as pd\n",
    "import seaborn as sns\n",
    "import statsmodels.api as sm\n",
    "import matplotlib.pyplot as plt\n",
    "pd.set_option('max_colwidth', 100)\n",
    "pd.set_option('display.max_rows', 25)\n",
    "pd.set_option('display.max_columns', 100)"
   ]
  },
  {
   "cell_type": "markdown",
   "metadata": {},
   "source": [
    "<br>"
   ]
  },
  {
   "cell_type": "markdown",
   "metadata": {},
   "source": [
    "# Functions"
   ]
  },
  {
   "cell_type": "code",
   "execution_count": 3,
   "metadata": {},
   "outputs": [],
   "source": [
    "def M2Q(df_in):\n",
    "    d = {\"M03\":\"Q1\", \"M06\":\"Q2\", \"M09\":\"Q3\", \"M12\":\"Q4\"}\n",
    "    df_out = df_in[df_in['TIME'].apply(lambda x: x[-3:] in list(d.keys()))].copy()\n",
    "    df_out.TIME = df_out['TIME'].apply(lambda x: x[:4]+d[x[-3:]]).copy()\n",
    "    return(df_out)\n",
    "\n",
    "def Qp1(df_in):\n",
    "    d = {\"Q1\":\"Q2\", \"Q2\":\"Q3\", \"Q3\":\"Q4\", \"Q4\":\"Q1\"}\n",
    "    df_out = df_in.copy()\n",
    "    df_out.TIME = df_out['TIME'].apply(lambda x: str(int(x[:-2])+1)+d[x[-2:]] if x[-1:] == \"4\" else x[:-2]+d[x[-2:]]).copy()\n",
    "    return(df_out)"
   ]
  },
  {
   "cell_type": "markdown",
   "metadata": {},
   "source": [
    "<br>"
   ]
  },
  {
   "cell_type": "markdown",
   "metadata": {},
   "source": [
    "# Data"
   ]
  },
  {
   "cell_type": "code",
   "execution_count": 4,
   "metadata": {},
   "outputs": [],
   "source": [
    "path = \"./data/csvs/\"\n",
    "!sed -i \"s/://g\" ./data/*"
   ]
  },
  {
   "cell_type": "code",
   "execution_count": null,
   "metadata": {},
   "outputs": [],
   "source": [
    "#!head -n 1 data/une_rt_q_Label.csv"
   ]
  },
  {
   "cell_type": "markdown",
   "metadata": {},
   "source": [
    ">## Quarterly"
   ]
  },
  {
   "cell_type": "code",
   "execution_count": 5,
   "metadata": {},
   "outputs": [],
   "source": [
    "# DATASET Construction - quarterly data - index (2015 = 100) (NACE Rev. 2) [ei_isbu_q]\n",
    "ei_isbu_q = pd.read_csv(\"./data/ei_isbu_q_1_Data.csv\", low_memory=False, usecols=lambda x: x not in [\"Flag and Footnotes\"]).dropna()\n",
    "ei_isbu_q_lag = Qp1(ei_isbu_q.copy())\n",
    "\n",
    "# DATASET Final consumption aggregates [namq_10_fcs]\n",
    "namq_10_fcs = pd.read_csv(\"./data/namq_10_fcs_1_Data.csv\", low_memory=False, usecols=lambda x: x not in [\"Flag and Footnotes\"]).dropna()\n",
    "namq_10_fcs_lag = Qp1(namq_10_fcs.copy())\n",
    "\n",
    "# DATASET: GDP and main components  (output, expenditure and income) [namq_10_gdp]\n",
    "namq_10_gdp = pd.read_csv(\"./data/namq_10_gdp_1_Data.csv\", low_memory=False, usecols=lambda x: x not in [\"Flag and Footnotes\"]).dropna()\n",
    "namq_10_gdp_lag = Qp1(namq_10_gdp.copy())\n",
    "\n",
    "# DATASET Building permits - quarterly data [sts_cobp_q]\n",
    "sts_cobp_q = pd.read_csv(\"./data/sts_cobp_q_1_Data.csv\", low_memory=False, usecols=lambda x: x not in [\"Flag and Footnotes\"]).dropna()\n",
    "sts_cobp_q_lag = Qp1(sts_cobp_q.copy())\n",
    "\n",
    "# DATASET Production in construction - quarterly data [sts_copr_q]\n",
    "sts_copr_q = pd.read_csv(\"./data/sts_copr_q_1_Data.csv\", low_memory=False, usecols=lambda x: x not in [\"Flag and Footnotes\"]).dropna()\n",
    "sts_copr_q_lag = Qp1(sts_copr_q.copy())\n",
    "\n",
    "# DATASET Production in industry - quarterly data [sts_inpr_q]\n",
    "sts_inpr_q = pd.read_csv(\"./data/sts_inpr_q_1_Data.csv\", low_memory=False, usecols=lambda x: x not in [\"Flag and Footnotes\"]).dropna()\n",
    "sts_inpr_q_lag = Qp1(sts_inpr_q.copy())\n",
    "\n",
    "# DATASET Turnover in industry, total - quarterly data [sts_intv_q]\n",
    "sts_intv_q = pd.read_csv(\"./data/sts_intv_q_1_Data.csv\", low_memory=False, usecols=lambda x: x not in [\"Flag and Footnotes\"]).dropna()\n",
    "sts_intv_q_lag = Qp1(sts_intv_q.copy())\n",
    "\n",
    "# DATASET Turnover and volume of sales in wholesale and retail trade - quarterly data [sts_trtu_q]\n",
    "sts_trtu_q = pd.read_csv(\"./data/sts_trtu_q_1_Data.csv\", low_memory=False, usecols=lambda x: x not in [\"Flag and Footnotes\"]).dropna()\n",
    "sts_trtu_q_lag = Qp1(sts_trtu_q.copy())\n",
    "\n",
    "# DATASET: Unemployment by sex and age - quarterly average [une_rt_q]\n",
    "une_rt_q = pd.read_csv(\"./data/une_rt_q_1_Data.csv\", low_memory=False, usecols=lambda x: x not in [\"Flag and Footnotes\"]).dropna()\n",
    "une_rt_q_lag = Qp1(une_rt_q.copy())"
   ]
  },
  {
   "cell_type": "code",
   "execution_count": 142,
   "metadata": {},
   "outputs": [],
   "source": [
    "ECB_gdp_yoy_3q_g = {'AT': 0.026, 'BE': 0.014, 'CY': 0.039,'EE': 0.037, \n",
    "                    'FI': 0.025, 'FR': 0.015, 'DE': 0.012, 'EL': 0.018, \n",
    "                    'IE': 0.091, 'IT': 0.008, 'LV': 0.044, 'LT': 0.027, \n",
    "                    'LU': 0.031, 'MT': 0.057, 'NL': 0.023, 'PT': 0.024, \n",
    "                    'SK': 0.045, 'SI': 0.043, 'ES': 0.025}"
   ]
  },
  {
   "cell_type": "markdown",
   "metadata": {},
   "source": [
    ">## Monthly"
   ]
  },
  {
   "cell_type": "code",
   "execution_count": 6,
   "metadata": {},
   "outputs": [],
   "source": [
    "# DATASET Euro-zone Business Climate Indicator - monthly data [ei_bsci_m_r2]\n",
    "ei_bsci_m_r2_1 = M2Q(pd.read_csv(\"./data/ei_bsci_m_r2_1_Data.csv\", low_memory=False, usecols=lambda x: x not in [\"Flag and Footnotes\"]).dropna())\n",
    "\n",
    "# DATASET Sentiment indicators - monthly data [ei_bssi_m_r2]\n",
    "ei_bssi_m_r2 = M2Q(pd.read_csv(\"./data/ei_bssi_m_r2_1_Data.csv\", low_memory=False, usecols=lambda x: x not in [\"Flag and Footnotes\"]).dropna())\n",
    "\n",
    "# DATASET Effective exchange rates indices - monthly data [ei_mfef_m]\n",
    "ei_mfef_m = M2Q(pd.read_csv(\"./data/ei_mfef_m_1_Data.csv\", low_memory=False, usecols=lambda x: x not in [\"Flag and Footnotes\"]).dropna())"
   ]
  },
  {
   "cell_type": "markdown",
   "metadata": {},
   "source": [
    "**Dealing with ids:**"
   ]
  },
  {
   "cell_type": "code",
   "execution_count": 7,
   "metadata": {},
   "outputs": [],
   "source": [
    "for df in [ei_isbu_q, ei_isbu_q_lag, namq_10_fcs, namq_10_fcs_lag, namq_10_gdp, \n",
    "           namq_10_gdp_lag, sts_cobp_q, sts_cobp_q_lag, sts_copr_q, sts_copr_q_lag, \n",
    "           sts_inpr_q, sts_inpr_q_lag, sts_intv_q, sts_intv_q_lag, sts_trtu_q, \n",
    "           sts_trtu_q_lag, ei_isbu_q, ei_isbu_q_lag, namq_10_fcs, namq_10_fcs_lag, \n",
    "           namq_10_gdp, namq_10_gdp_lag, sts_cobp_q, sts_cobp_q_lag, sts_copr_q, sts_copr_q_lag, \n",
    "           sts_inpr_q, sts_inpr_q_lag, sts_intv_q, sts_intv_q_lag, sts_trtu_q, sts_trtu_q_lag, ei_bsci_m_r2_1, ei_bssi_m_r2, ei_mfef_m, une_rt_q]:\n",
    "    df[\"ID\"] = df[\"TIME\"]+df[\"GEO\"]\n",
    "    df.Value = df.Value.replace(regex=r'[,]+', value='').astype(np.float)"
   ]
  },
  {
   "cell_type": "markdown",
   "metadata": {},
   "source": [
    "># OECD"
   ]
  },
  {
   "cell_type": "code",
   "execution_count": 8,
   "metadata": {},
   "outputs": [],
   "source": [
    "def OECDtable():\n",
    "    GEO_LABEL2GEO = dict(zip(namq_10_gdp.GEO_LABEL.values, namq_10_gdp.GEO.values)); GEO_LABEL2GEO[\"Germany\"] = \"DE\"\n",
    "    df_in = pd.read_csv(\"data/KEI_13112018143436794_[v1-oecd].csv\")\n",
    "    df_in[\"GEO\"] = df_in.Country.map(GEO_LABEL2GEO)\n",
    "    df_in = df_in[df_in.GEO.notnull()]\n",
    "    df_in[\"ID\"] = df_in.TIME.str[:4]+df_in.TIME.str[-2:]+df_in.GEO\n",
    "    return(df_in)"
   ]
  },
  {
   "cell_type": "code",
   "execution_count": 9,
   "metadata": {},
   "outputs": [],
   "source": [
    "OECD = OECDtable()"
   ]
  },
  {
   "cell_type": "markdown",
   "metadata": {},
   "source": [
    "<br>"
   ]
  },
  {
   "cell_type": "markdown",
   "metadata": {},
   "source": [
    "# $C$"
   ]
  },
  {
   "cell_type": "markdown",
   "metadata": {},
   "source": [
    ">## $Cd$"
   ]
  },
  {
   "cell_type": "code",
   "execution_count": 100,
   "metadata": {},
   "outputs": [],
   "source": [
    "def Cd(model_variables=[], version=0, all_boolean=False, country_dummies=True):\n",
    "    df_in = pd.DataFrame(sorted(list(set(namq_10_fcs.ID))), columns=[\"ID\"])\n",
    "    \n",
    "    ###########################################################################################\n",
    "    \n",
    "    # Chain linked volumes, percentage change compared to same period in previous year\n",
    "    var = \"CLV_PCH_SM\"\n",
    "    selec = namq_10_fcs[(namq_10_fcs.NA_ITEM==\"P311_S14\")&(namq_10_fcs.UNIT==var)][[\"ID\", \"Value\"]]; selec.columns = [\"ID\", var]\n",
    "    df_in = pd.merge(df_in, selec, on='ID', how=\"inner\")\n",
    "    \n",
    "    # Chain linked volumes, percentage change on previous period\n",
    "    var = \"CLV_PCH_PRE\"\n",
    "    if var in model_variables or all_boolean:\n",
    "        selec = namq_10_fcs_lag[(namq_10_fcs_lag.NA_ITEM==\"P311_S14\")&(namq_10_fcs_lag.UNIT==var)][[\"ID\", \"Value\"]]; selec.columns = [\"ID\", var]\n",
    "        df_in = pd.merge(df_in, selec, on='ID', how=\"inner\")\n",
    "    \n",
    "    # Business Climate Indicator\n",
    "    var = \"BS-BCI\"\n",
    "    if var in model_variables or all_boolean:\n",
    "        dic_BCI = dict(zip(ei_bsci_m_r2_1.TIME.values, ei_bsci_m_r2_1.Value.values))\n",
    "        df_in[var] = df_in.ID.str[:-2].map(dic_BCI)\n",
    "    \n",
    "    # Retail Confidence Indicator\n",
    "    var = \"BS-RCI-BAL\"\n",
    "    if var in model_variables or all_boolean:\n",
    "        selec = ei_bssi_m_r2[ei_bssi_m_r2.INDIC==var][[\"ID\", \"Value\"]]; selec.columns = [\"ID\", var]\n",
    "        df_in = pd.merge(df_in, selec, on='ID', how=\"inner\")\n",
    "        \n",
    "    # Services Confidence Indicator\n",
    "    var = \"BS-SCI-BAL\"\n",
    "    if var in model_variables or all_boolean:\n",
    "        selec = ei_bssi_m_r2[ei_bssi_m_r2.INDIC==var][[\"ID\", \"Value\"]]; selec.columns = [\"ID\", var]\n",
    "        df_in = pd.merge(df_in, selec, on='ID', how=\"inner\")\n",
    "    \n",
    "    # Consumer Confidence Indicator\n",
    "    var = \"BS-CSMCI-BAL\"\n",
    "    if var in model_variables or all_boolean:\n",
    "        selec = ei_bssi_m_r2[ei_bssi_m_r2.INDIC==var][[\"ID\", \"Value\"]]; selec.columns = [\"ID\", var]\n",
    "        df_in = pd.merge(df_in, selec, on='ID', how=\"inner\")\n",
    "    \n",
    "    # Production in industry: MIG - Durable Consumer Goods\n",
    "    var = \"MIG_DCOG\"\n",
    "    if var in model_variables or all_boolean:\n",
    "        selec = sts_inpr_q[sts_inpr_q.NACE_R2==var][[\"ID\", \"Value\"]]; selec.columns = [\"ID\", var]\n",
    "        df_in = pd.merge(df_in, selec, on='ID', how=\"inner\")\n",
    "    \n",
    "    # Manufacture of motor vehicles, trailers, semi-trailers and of other transport equipment\n",
    "    # Checked - UNIT I15\n",
    "    var = \"C29_C30\"\n",
    "    if var in model_variables or all_boolean:\n",
    "        selec = sts_intv_q[(sts_intv_q.NACE_R2==var)&(sts_intv_q.UNIT==\"I15\")][[\"ID\", \"Value\"]]; selec.columns = [\"ID\", var]\n",
    "        df_in = pd.merge(df_in, selec, on='ID', how=\"inner\")\n",
    "        \n",
    "    # Harmonised unemployment rate all persons, s.a.\n",
    "    var = \"LRHUTTTT\"\n",
    "    if var in model_variables or all_boolean:\n",
    "        selec = OECD[OECD.SUBJECT==var][[\"ID\", \"Value\"]]; selec.columns = [\"ID\", var]\n",
    "        df_in = pd.merge(df_in, selec, on='ID', how=\"inner\")\n",
    "        \n",
    "    # Passenger car registrations, s.a.\n",
    "    var = \"SLRTCR03\"\n",
    "    if var in model_variables or all_boolean:\n",
    "        selec = OECD[OECD.SUBJECT==var][[\"ID\", \"Value\"]]; selec.columns = [\"ID\", var]\n",
    "        df_in = pd.merge(df_in, selec, on='ID', how=\"inner\")\n",
    "    \n",
    "    ###########################################################################################\n",
    "    \n",
    "    # Dummies\n",
    "    if country_dummies:\n",
    "        countries = set(namq_10_fcs.GEO); countries.remove('PT')\n",
    "        for country in sorted(list(countries)):\n",
    "            df_in[\"D_\"+country] = (df_in.ID.str[-2:] == country).astype(int)\n",
    "    \n",
    "    Cd = df_in.dropna().copy(); Cd.set_index(\"ID\", inplace=True)\n",
    "    Cd = Cd.loc[:, (Cd != 0).any(axis=0)].copy()\n",
    "    del var, selec, df_in\n",
    "    \n",
    "    ###########################################################################################\n",
    "    \n",
    "    # Save\n",
    "    if version != 0:\n",
    "        Cd.to_csv(\"./regressions/Cd\"+str(version)+\".csv\")\n",
    "        \n",
    "    ###########################################################################################\n",
    "    \n",
    "    # Regression\n",
    "    X = sm.add_constant(Cd.loc[:, Cd.columns != \"CLV_PCH_SM\"].copy())\n",
    "    y = Cd.loc[:, \"CLV_PCH_SM\"].copy()\n",
    "    results = sm.OLS(y, X).fit()\n",
    "    print(results.summary())\n",
    "    \n",
    "    return(Cd, results)"
   ]
  },
  {
   "cell_type": "code",
   "execution_count": 101,
   "metadata": {},
   "outputs": [
    {
     "name": "stdout",
     "output_type": "stream",
     "text": [
      "                            OLS Regression Results                            \n",
      "==============================================================================\n",
      "Dep. Variable:          Cd_CLV_PCH_SM   R-squared:                       0.381\n",
      "Model:                            OLS   Adj. R-squared:                  0.371\n",
      "Method:                 Least Squares   F-statistic:                     41.82\n",
      "Date:                Thu, 15 Nov 2018   Prob (F-statistic):          1.26e-144\n",
      "Time:                        10:49:05   Log-Likelihood:                -5697.7\n",
      "No. Observations:                1590   AIC:                         1.144e+04\n",
      "Df Residuals:                    1566   BIC:                         1.157e+04\n",
      "Df Model:                          23                                         \n",
      "Covariance Type:            nonrobust                                         \n",
      "================================================================================\n",
      "                   coef    std err          t      P>|t|      [0.025      0.975]\n",
      "--------------------------------------------------------------------------------\n",
      "const            5.6867      1.146      4.964      0.000       3.440       7.934\n",
      "BS-RCI-BAL       0.2389      0.025      9.414      0.000       0.189       0.289\n",
      "BS-SCI-BAL       0.1625      0.021      7.852      0.000       0.122       0.203\n",
      "BS-CSMCI-BAL     0.1280      0.030      4.274      0.000       0.069       0.187\n",
      "D_AT            -3.9307      1.462     -2.689      0.007      -6.798      -1.063\n",
      "D_BE            -2.8206      1.393     -2.025      0.043      -5.553      -0.089\n",
      "D_BG             5.7781      1.588      3.638      0.000       2.663       8.893\n",
      "D_CZ            -6.8245      1.532     -4.454      0.000      -9.830      -3.819\n",
      "D_DE            -1.2420      1.469     -0.845      0.398      -4.124       1.640\n",
      "D_DK            -5.4201      2.013     -2.693      0.007      -9.368      -1.472\n",
      "D_EE            -1.2912      1.495     -0.864      0.388      -4.223       1.641\n",
      "D_EL             1.0156      1.565      0.649      0.516      -2.054       4.085\n",
      "D_ES            -1.8301      1.375     -1.331      0.183      -4.527       0.867\n",
      "D_FI            -3.7818      1.638     -2.308      0.021      -6.995      -0.568\n",
      "D_FR             1.8363      1.251      1.467      0.142      -0.618       4.291\n",
      "D_IT            -1.8118      1.370     -1.322      0.186      -4.499       0.876\n",
      "D_LT             7.1920      1.459      4.930      0.000       4.331      10.053\n",
      "D_LV             7.8198      1.460      5.355      0.000       4.956      10.684\n",
      "D_MT            -3.5458      1.925     -1.842      0.066      -7.321       0.230\n",
      "D_NL            -5.9470      1.465     -4.060      0.000      -8.820      -3.074\n",
      "D_PL             4.5611      1.470      3.103      0.002       1.678       7.444\n",
      "D_SE            -5.2203      1.517     -3.441      0.001      -8.196      -2.244\n",
      "D_SI            -3.1885      1.497     -2.130      0.033      -6.124      -0.253\n",
      "D_UK            -0.0994      1.396     -0.071      0.943      -2.838       2.640\n",
      "==============================================================================\n",
      "Omnibus:                      295.740   Durbin-Watson:                   1.879\n",
      "Prob(Omnibus):                  0.000   Jarque-Bera (JB):             3953.887\n",
      "Skew:                           0.451   Prob(JB):                         0.00\n",
      "Kurtosis:                      10.673   Cond. No.                         488.\n",
      "==============================================================================\n",
      "\n",
      "Warnings:\n",
      "[1] Standard Errors assume that the covariance matrix of the errors is correctly specified.\n"
     ]
    }
   ],
   "source": [
    "Cd1, Cd1_results = Cd([\"BS-RCI-BAL\", \"BS-SCI-BAL\", \"BS-CSMCI-BAL\"], 1)"
   ]
  },
  {
   "cell_type": "code",
   "execution_count": 12,
   "metadata": {},
   "outputs": [
    {
     "name": "stdout",
     "output_type": "stream",
     "text": [
      "                            OLS Regression Results                            \n",
      "==============================================================================\n",
      "Dep. Variable:             CLV_PCH_SM   R-squared:                       0.499\n",
      "Model:                            OLS   Adj. R-squared:                  0.489\n",
      "Method:                 Least Squares   F-statistic:                     51.95\n",
      "Date:                Thu, 15 Nov 2018   Prob (F-statistic):          5.33e-148\n",
      "Time:                        09:59:04   Log-Likelihood:                -3873.9\n",
      "No. Observations:                1118   AIC:                             7792.\n",
      "Df Residuals:                    1096   BIC:                             7902.\n",
      "Df Model:                          21                                         \n",
      "Covariance Type:            nonrobust                                         \n",
      "================================================================================\n",
      "                   coef    std err          t      P>|t|      [0.025      0.975]\n",
      "--------------------------------------------------------------------------------\n",
      "const            5.0236      2.056      2.443      0.015       0.989       9.058\n",
      "BS-RCI-BAL       0.3269      0.029     11.438      0.000       0.271       0.383\n",
      "BS-SCI-BAL       0.1059      0.023      4.631      0.000       0.061       0.151\n",
      "BS-CSMCI-BAL     0.1270      0.035      3.583      0.000       0.057       0.197\n",
      "C29_C30         -0.0769      0.012     -6.251      0.000      -0.101      -0.053\n",
      "SLRTCR03         0.0744      0.011      6.658      0.000       0.052       0.096\n",
      "D_AT            -2.2496      1.565     -1.437      0.151      -5.321       0.822\n",
      "D_BE            -0.9885      1.416     -0.698      0.485      -3.767       1.790\n",
      "D_DE            -0.3665      1.481     -0.248      0.805      -3.272       2.539\n",
      "D_DK            -3.0039      2.004     -1.499      0.134      -6.937       0.929\n",
      "D_EE            -2.4749      1.482     -1.670      0.095      -5.382       0.432\n",
      "D_EL             1.4950      2.027      0.738      0.461      -2.482       5.472\n",
      "D_ES            -1.2299      1.373     -0.896      0.371      -3.925       1.465\n",
      "D_FI            -2.2114      1.700     -1.300      0.194      -5.548       1.125\n",
      "D_FR             1.7169      1.305      1.316      0.188      -0.843       4.277\n",
      "D_IT            -3.9173      1.321     -2.966      0.003      -6.509      -1.326\n",
      "D_LT             9.5064      1.438      6.612      0.000       6.685      12.328\n",
      "D_LV             7.4148      1.386      5.349      0.000       4.695      10.135\n",
      "D_NL            -5.9424      1.576     -3.771      0.000      -9.035      -2.850\n",
      "D_PL             4.4546      1.390      3.204      0.001       1.727       7.182\n",
      "D_SE            -5.7215      1.650     -3.468      0.001      -8.958      -2.485\n",
      "D_UK             0.1457      1.415      0.103      0.918      -2.631       2.922\n",
      "==============================================================================\n",
      "Omnibus:                      215.815   Durbin-Watson:                   1.923\n",
      "Prob(Omnibus):                  0.000   Jarque-Bera (JB):             3515.921\n",
      "Skew:                           0.383   Prob(JB):                         0.00\n",
      "Kurtosis:                      11.654   Cond. No.                     2.73e+03\n",
      "==============================================================================\n",
      "\n",
      "Warnings:\n",
      "[1] Standard Errors assume that the covariance matrix of the errors is correctly specified.\n",
      "[2] The condition number is large, 2.73e+03. This might indicate that there are\n",
      "strong multicollinearity or other numerical problems.\n"
     ]
    }
   ],
   "source": [
    "Cd2, Cd2_results = Cd([\"BS-RCI-BAL\", \"BS-SCI-BAL\", \"BS-CSMCI-BAL\", \"SLRTCR03\", \"C29_C30\"], 2)"
   ]
  },
  {
   "cell_type": "code",
   "execution_count": 13,
   "metadata": {},
   "outputs": [
    {
     "data": {
      "image/png": "[encoded data removed]",
      "text/plain": [
       "<Figure size 1440x504 with 4 Axes>"
      ]
     },
     "metadata": {
      "needs_background": "light"
     },
     "output_type": "display_data"
    }
   ],
   "source": [
    "f, axes = plt.subplots(1, 2, figsize=(20, 7)); axes = axes.flatten()\n",
    "sns.heatmap(Cd1.corr(), mask=np.zeros_like(Cd1.corr(), dtype=np.bool),\n",
    "            cmap=sns.diverging_palette(10, 220, as_cmap=True),square=True, ax=axes[0]);\n",
    "sns.heatmap(Cd2.corr(), mask=np.zeros_like(Cd2.corr(), dtype=np.bool),\n",
    "            cmap=sns.diverging_palette(10, 220, as_cmap=True),square=True, ax=axes[1])\n",
    "plt.tight_layout();"
   ]
  },
  {
   "cell_type": "code",
   "execution_count": 14,
   "metadata": {},
   "outputs": [
    {
     "name": "stdout",
     "output_type": "stream",
     "text": [
      "                            OLS Regression Results                            \n",
      "==============================================================================\n",
      "Dep. Variable:             CLV_PCH_SM   R-squared:                       0.608\n",
      "Model:                            OLS   Adj. R-squared:                  0.600\n",
      "Method:                 Least Squares   F-statistic:                     77.26\n",
      "Date:                Thu, 15 Nov 2018   Prob (F-statistic):          8.26e-205\n",
      "Time:                        09:59:06   Log-Likelihood:                -3736.3\n",
      "No. Observations:                1118   AIC:                             7519.\n",
      "Df Residuals:                    1095   BIC:                             7634.\n",
      "Df Model:                          22                                         \n",
      "Covariance Type:            nonrobust                                         \n",
      "================================================================================\n",
      "                   coef    std err          t      P>|t|      [0.025      0.975]\n",
      "--------------------------------------------------------------------------------\n",
      "const            3.1473      1.822      1.727      0.084      -0.428       6.722\n",
      "CLV_PCH_PRE      0.9206      0.053     17.482      0.000       0.817       1.024\n",
      "BS-RCI-BAL       0.2402      0.026      9.322      0.000       0.190       0.291\n",
      "BS-SCI-BAL       0.0783      0.020      3.859      0.000       0.038       0.118\n",
      "BS-CSMCI-BAL     0.1011      0.031      3.220      0.001       0.039       0.163\n",
      "C29_C30         -0.0622      0.011     -5.696      0.000      -0.084      -0.041\n",
      "SLRTCR03         0.0670      0.010      6.772      0.000       0.048       0.086\n",
      "D_AT            -1.7719      1.385     -1.279      0.201      -4.490       0.946\n",
      "D_BE            -0.7242      1.253     -0.578      0.563      -3.182       1.734\n",
      "D_DE            -0.4604      1.310     -0.352      0.725      -3.031       2.110\n",
      "D_DK            -2.2354      1.774     -1.260      0.208      -5.716       1.245\n",
      "D_EE            -1.5139      1.312     -1.154      0.249      -4.088       1.060\n",
      "D_EL             1.2842      1.793      0.716      0.474      -2.234       4.802\n",
      "D_ES            -1.0405      1.215     -0.856      0.392      -3.424       1.343\n",
      "D_FI            -1.7902      1.504     -1.190      0.234      -4.742       1.162\n",
      "D_FR             1.2791      1.154      1.108      0.268      -0.986       3.544\n",
      "D_IT            -3.2110      1.169     -2.746      0.006      -5.505      -0.917\n",
      "D_LT             7.7915      1.276      6.108      0.000       5.289      10.294\n",
      "D_LV             6.2468      1.228      5.087      0.000       3.837       8.657\n",
      "D_NL            -4.5788      1.396     -3.279      0.001      -7.318      -1.839\n",
      "D_PL             3.5150      1.231      2.855      0.004       1.100       5.930\n",
      "D_SE            -4.1351      1.462     -2.828      0.005      -7.004      -1.266\n",
      "D_UK             0.3396      1.252      0.271      0.786      -2.116       2.796\n",
      "==============================================================================\n",
      "Omnibus:                      264.240   Durbin-Watson:                   1.903\n",
      "Prob(Omnibus):                  0.000   Jarque-Bera (JB):             5454.453\n",
      "Skew:                           0.541   Prob(JB):                         0.00\n",
      "Kurtosis:                      13.767   Cond. No.                     2.73e+03\n",
      "==============================================================================\n",
      "\n",
      "Warnings:\n",
      "[1] Standard Errors assume that the covariance matrix of the errors is correctly specified.\n",
      "[2] The condition number is large, 2.73e+03. This might indicate that there are\n",
      "strong multicollinearity or other numerical problems.\n"
     ]
    }
   ],
   "source": [
    "Cd3, Cd3_results = Cd([\"BS-RCI-BAL\", \"BS-SCI-BAL\", \"BS-CSMCI-BAL\", \"SLRTCR03\", \"C29_C30\", \"CLV_PCH_PRE\"], 3)"
   ]
  },
  {
   "cell_type": "code",
   "execution_count": 15,
   "metadata": {},
   "outputs": [
    {
     "name": "stdout",
     "output_type": "stream",
     "text": [
      "                            OLS Regression Results                            \n",
      "==============================================================================\n",
      "Dep. Variable:             CLV_PCH_SM   R-squared:                       0.616\n",
      "Model:                            OLS   Adj. R-squared:                  0.607\n",
      "Method:                 Least Squares   F-statistic:                     68.37\n",
      "Date:                Thu, 15 Nov 2018   Prob (F-statistic):          2.38e-201\n",
      "Time:                        09:59:06   Log-Likelihood:                -3647.4\n",
      "No. Observations:                1092   AIC:                             7347.\n",
      "Df Residuals:                    1066   BIC:                             7477.\n",
      "Df Model:                          25                                         \n",
      "Covariance Type:            nonrobust                                         \n",
      "================================================================================\n",
      "                   coef    std err          t      P>|t|      [0.025      0.975]\n",
      "--------------------------------------------------------------------------------\n",
      "const           -3.9315      3.412     -1.152      0.250     -10.627       2.764\n",
      "CLV_PCH_PRE      0.9085      0.054     16.957      0.000       0.803       1.014\n",
      "BS-BCI           0.0043      0.310      0.014      0.989      -0.604       0.612\n",
      "BS-RCI-BAL       0.2353      0.027      8.654      0.000       0.182       0.289\n",
      "BS-SCI-BAL       0.0724      0.024      2.988      0.003       0.025       0.120\n",
      "BS-CSMCI-BAL     0.1126      0.033      3.448      0.001       0.049       0.177\n",
      "MIG_DCOG        -0.0064      0.013     -0.497      0.619      -0.032       0.019\n",
      "C29_C30         -0.0597      0.012     -4.913      0.000      -0.084      -0.036\n",
      "LRHUTTTT         0.3968      0.121      3.291      0.001       0.160       0.633\n",
      "SLRTCR03         0.1034      0.013      7.939      0.000       0.078       0.129\n",
      "D_AT            -0.0365      1.565     -0.023      0.981      -3.108       3.035\n",
      "D_BE             0.1312      1.333      0.098      0.922      -2.485       2.748\n",
      "D_DE             0.8633      1.477      0.585      0.559      -2.034       3.761\n",
      "D_DK            -0.8796      1.857     -0.474      0.636      -4.523       2.764\n",
      "D_EE            -0.7450      1.378     -0.541      0.589      -3.448       1.958\n",
      "D_EL            -3.3929      2.237     -1.517      0.130      -7.782       0.997\n",
      "D_ES            -3.5745      1.766     -2.024      0.043      -7.040      -0.109\n",
      "D_FI            -2.0754      1.578     -1.315      0.189      -5.171       1.020\n",
      "D_FR             1.3723      1.176      1.167      0.243      -0.935       3.679\n",
      "D_IT            -3.6367      1.178     -3.087      0.002      -5.948      -1.325\n",
      "D_LT             8.1886      1.440      5.685      0.000       5.362      11.015\n",
      "D_LV             5.5710      1.259      4.425      0.000       3.101       8.041\n",
      "D_NL            -2.8586      1.554     -1.839      0.066      -5.908       0.191\n",
      "D_PL             3.5042      1.347      2.602      0.009       0.862       6.147\n",
      "D_SE            -2.4790      1.560     -1.589      0.112      -5.540       0.582\n",
      "D_UK             2.4064      1.418      1.697      0.090      -0.377       5.189\n",
      "==============================================================================\n",
      "Omnibus:                      247.516   Durbin-Watson:                   1.880\n",
      "Prob(Omnibus):                  0.000   Jarque-Bera (JB):             5054.509\n",
      "Skew:                           0.489   Prob(JB):                         0.00\n",
      "Kurtosis:                      13.494   Cond. No.                     4.21e+03\n",
      "==============================================================================\n",
      "\n",
      "Warnings:\n",
      "[1] Standard Errors assume that the covariance matrix of the errors is correctly specified.\n",
      "[2] The condition number is large, 4.21e+03. This might indicate that there are\n",
      "strong multicollinearity or other numerical problems.\n"
     ]
    }
   ],
   "source": [
    "Cd_all, Cd_all_results = Cd(all_boolean=True)"
   ]
  },
  {
   "cell_type": "code",
   "execution_count": 16,
   "metadata": {},
   "outputs": [
    {
     "data": {
      "text/plain": [
       "<matplotlib.axes._subplots.AxesSubplot at 0x7f4f3991be80>"
      ]
     },
     "execution_count": 16,
     "metadata": {},
     "output_type": "execute_result"
    },
    {
     "data": {
      "image/png": "[encoded data removed]",
      "text/plain": [
       "<Figure size 1080x720 with 2 Axes>"
      ]
     },
     "metadata": {
      "needs_background": "light"
     },
     "output_type": "display_data"
    }
   ],
   "source": [
    "f, ax = plt.subplots(figsize=(15,10)) \n",
    "sns.heatmap(Cd_all.corr(), mask=np.zeros_like(Cd_all.corr(), dtype=np.bool),\n",
    "            cmap=sns.diverging_palette(10, 220, as_cmap=True),square=True, ax=ax)"
   ]
  },
  {
   "cell_type": "markdown",
   "metadata": {},
   "source": [
    ">## $Cnd$"
   ]
  },
  {
   "cell_type": "code",
   "execution_count": 17,
   "metadata": {},
   "outputs": [],
   "source": [
    "def Cnd(model_variables=[], version=0, all_boolean=False, country_dummies=True):\n",
    "\n",
    "    df_in = pd.DataFrame(sorted(list(set(namq_10_fcs.ID))), columns=[\"ID\"])\n",
    "    \n",
    "    ###########################################################################################\n",
    "    \n",
    "    # Chain linked volumes, percentage change compared to same period in previous year\n",
    "    var = \"CLV_PCH_SM\"\n",
    "    selec = namq_10_fcs[(namq_10_fcs.NA_ITEM==\"P312N_S14\")&(namq_10_fcs.UNIT==var)][[\"ID\", \"Value\"]]; selec.columns = [\"ID\", var]\n",
    "    df_in = pd.merge(df_in, selec, on='ID', how=\"inner\")\n",
    "    \n",
    "    # Chain linked volumes, percentage change on previous period\n",
    "    var = \"CLV_PCH_PRE\"\n",
    "    if var in model_variables or all_boolean:\n",
    "        selec = namq_10_fcs_lag[(namq_10_fcs_lag.NA_ITEM==\"P312N_S14\")&(namq_10_fcs_lag.UNIT==var)][[\"ID\", \"Value\"]]; selec.columns = [\"ID\", var]\n",
    "        df_in = pd.merge(df_in, selec, on='ID', how=\"inner\")\n",
    "    \n",
    "    # Business Climate Indicator\n",
    "    # Checked - no changes\n",
    "    var = \"BS-BCI\"\n",
    "    if var in model_variables or all_boolean:\n",
    "        dic_BCI = dict(zip(ei_bsci_m_r2_1.TIME.values, ei_bsci_m_r2_1.Value.values))\n",
    "        df_in[var] = df_in.ID.str[:-2].map(dic_BCI)\n",
    "    \n",
    "    # Retail Confidence Indicator\n",
    "    # Checked - no changes\n",
    "    var = \"BS-RCI-BAL\"\n",
    "    if var in model_variables or all_boolean:\n",
    "        selec = ei_bssi_m_r2[ei_bssi_m_r2.INDIC==var][[\"ID\", \"Value\"]]; selec.columns = [\"ID\", var]\n",
    "        df_in = pd.merge(df_in, selec, on='ID', how=\"inner\")\n",
    "    \n",
    "    # Services Confidence Indicator\n",
    "    # Checked - no changes\n",
    "    var = \"BS-SCI-BAL\"\n",
    "    if var in model_variables or all_boolean:\n",
    "        selec = ei_bssi_m_r2[ei_bssi_m_r2.INDIC==var][[\"ID\", \"Value\"]]; selec.columns = [\"ID\", var]\n",
    "        df_in = pd.merge(df_in, selec, on='ID', how=\"inner\")\n",
    "    \n",
    "    # Consumer Confidence Indicator\n",
    "    # Checked - no changes\n",
    "    var = \"BS-CSMCI-BAL\"\n",
    "    if var in model_variables or all_boolean:\n",
    "        selec = ei_bssi_m_r2[ei_bssi_m_r2.INDIC==var][[\"ID\", \"Value\"]]; selec.columns = [\"ID\", var]\n",
    "        df_in = pd.merge(df_in, selec, on='ID', how=\"inner\")\n",
    "    \n",
    "    # Production in industry: MIG - Non-Durable Consumer Goods\n",
    "    var = \"MIG_NDCOG\"\n",
    "    if var in model_variables or all_boolean:\n",
    "        selec = sts_inpr_q[sts_inpr_q.NACE_R2==var][[\"ID\", \"Value\"]]; selec.columns = [\"ID\", var]\n",
    "        df_in = pd.merge(df_in, selec, on='ID', how=\"inner\")\n",
    "    \n",
    "    # Retail sale of food, beverages and tobacco\n",
    "    # Checked - UNIT I15\n",
    "    var = \"G47_FOOD\"\n",
    "    if var in model_variables or all_boolean:\n",
    "        selec = sts_trtu_q[(sts_trtu_q.NACE_R2==var)&(sts_trtu_q.UNIT==\"I15\")][[\"ID\", \"Value\"]]; selec.columns = [\"ID\", var]\n",
    "        df_in = pd.merge(df_in, selec, on='ID', how=\"inner\")\n",
    "    \n",
    "    # Retail sale of non-food products (except fuel)\n",
    "    # Checked - UNIT I15\n",
    "    var = \"G47_NFOOD_X_G473\"\n",
    "    if var in model_variables or all_boolean:\n",
    "        selec = sts_trtu_q[(sts_trtu_q.NACE_R2==var)&(sts_trtu_q.UNIT==\"I15\")][[\"ID\", \"Value\"]]; selec.columns = [\"ID\", var]\n",
    "        df_in = pd.merge(df_in, selec, on='ID', how=\"inner\")\n",
    "    \n",
    "    # Retail trade, except of motor vehicles, motorcyles and fuel\n",
    "    # Checked - UNIT I15\n",
    "    var = \"G47_X_G473\"\n",
    "    if var in model_variables or all_boolean:\n",
    "        selec = sts_trtu_q[(sts_trtu_q.NACE_R2==var)&(sts_trtu_q.UNIT==\"I15\")][[\"ID\", \"Value\"]]; selec.columns = [\"ID\", var]\n",
    "        df_in = pd.merge(df_in, selec, on='ID', how=\"inner\")\n",
    "    \n",
    "    # Harmonised unemployment rate all persons, s.a.\n",
    "    var = \"LRHUTTTT\"\n",
    "    if var in model_variables or all_boolean:\n",
    "        selec = OECD[OECD.SUBJECT==var][[\"ID\", \"Value\"]]; selec.columns = [\"ID\", var]\n",
    "        df_in = pd.merge(df_in, selec, on='ID', how=\"inner\")\n",
    "    \n",
    "    ###########################################################################################\n",
    "    \n",
    "    # Dummies\n",
    "    if country_dummies:\n",
    "        countries = set(namq_10_fcs.GEO); countries.remove('PT')\n",
    "        for country in sorted(list(countries)):\n",
    "            df_in[\"D_\"+country] = (df_in.ID.str[-2:] == country).astype(int)\n",
    "    \n",
    "    Cnd = df_in.dropna().copy().set_index(\"ID\")\n",
    "    Cnd = Cnd.loc[:, (Cnd != 0).any(axis=0)].copy()\n",
    "    \n",
    "    del var, selec, df_in\n",
    "    \n",
    "    ###########################################################################################\n",
    "    \n",
    "    # Save\n",
    "    if version != 0:\n",
    "        Cnd.to_csv(\"./regressions/Cnd\"+str(version)+\".csv\")\n",
    "    \n",
    "    ###########################################################################################\n",
    "    \n",
    "    # Regression\n",
    "    X = sm.add_constant(Cnd.loc[:, Cnd.columns != \"CLV_PCH_SM\"].copy())\n",
    "    y = Cnd.loc[:, \"CLV_PCH_SM\"].copy()\n",
    "    results = sm.OLS(y, X).fit()\n",
    "    print(results.summary())\n",
    "    \n",
    "    return(Cnd, results)"
   ]
  },
  {
   "cell_type": "code",
   "execution_count": 18,
   "metadata": {},
   "outputs": [
    {
     "name": "stdout",
     "output_type": "stream",
     "text": [
      "                            OLS Regression Results                            \n",
      "==============================================================================\n",
      "Dep. Variable:             CLV_PCH_SM   R-squared:                       0.440\n",
      "Model:                            OLS   Adj. R-squared:                  0.432\n",
      "Method:                 Least Squares   F-statistic:                     51.86\n",
      "Date:                Thu, 15 Nov 2018   Prob (F-statistic):          2.29e-172\n",
      "Time:                        09:59:08   Log-Likelihood:                -3518.8\n",
      "No. Observations:                1541   AIC:                             7086.\n",
      "Df Residuals:                    1517   BIC:                             7214.\n",
      "Df Model:                          23                                         \n",
      "Covariance Type:            nonrobust                                         \n",
      "====================================================================================\n",
      "                       coef    std err          t      P>|t|      [0.025      0.975]\n",
      "------------------------------------------------------------------------------------\n",
      "const                5.7840      0.579      9.992      0.000       4.648       6.919\n",
      "BS-RCI-BAL           0.1525      0.005     28.619      0.000       0.142       0.163\n",
      "G47_FOOD            -0.0238      0.009     -2.758      0.006      -0.041      -0.007\n",
      "G47_NFOOD_X_G473    -0.0099      0.006     -1.694      0.090      -0.021       0.002\n",
      "D_AT                -0.3979      0.397     -1.002      0.316      -1.177       0.381\n",
      "D_BE                -0.8167      0.402     -2.029      0.043      -1.606      -0.027\n",
      "D_BG                -0.9359      0.440     -2.128      0.033      -1.798      -0.073\n",
      "D_CZ                -3.4843      0.442     -7.877      0.000      -4.352      -2.617\n",
      "D_DE                 0.8723      0.383      2.280      0.023       0.122       1.623\n",
      "D_DK                -2.4946      0.515     -4.846      0.000      -3.504      -1.485\n",
      "D_EE                -1.2036      0.425     -2.830      0.005      -2.038      -0.369\n",
      "D_EL                -0.8965      0.408     -2.195      0.028      -1.698      -0.095\n",
      "D_ES                 0.4501      0.385      1.169      0.243      -0.305       1.206\n",
      "D_FI                -0.7015      0.401     -1.747      0.081      -1.489       0.086\n",
      "D_FR                -0.3214      0.413     -0.777      0.437      -1.133       0.490\n",
      "D_IT                -1.4281      0.417     -3.426      0.001      -2.246      -0.610\n",
      "D_LT                 0.8522      0.427      1.996      0.046       0.015       1.690\n",
      "D_LV                -0.0382      0.423     -0.090      0.928      -0.868       0.791\n",
      "D_MT                 0.5835      0.541      1.079      0.281      -0.477       1.644\n",
      "D_NL                -2.6277      0.436     -6.031      0.000      -3.482      -1.773\n",
      "D_PL                 0.6733      0.436      1.543      0.123      -0.183       1.529\n",
      "D_SE                -2.6531      0.441     -6.021      0.000      -3.517      -1.789\n",
      "D_SI                -2.5028      0.428     -5.843      0.000      -3.343      -1.663\n",
      "D_UK                -1.3496      0.428     -3.154      0.002      -2.189      -0.510\n",
      "==============================================================================\n",
      "Omnibus:                      292.495   Durbin-Watson:                   1.658\n",
      "Prob(Omnibus):                  0.000   Jarque-Bera (JB):             5342.093\n",
      "Skew:                          -0.333   Prob(JB):                         0.00\n",
      "Kurtosis:                      12.097   Cond. No.                     3.16e+03\n",
      "==============================================================================\n",
      "\n",
      "Warnings:\n",
      "[1] Standard Errors assume that the covariance matrix of the errors is correctly specified.\n",
      "[2] The condition number is large, 3.16e+03. This might indicate that there are\n",
      "strong multicollinearity or other numerical problems.\n"
     ]
    }
   ],
   "source": [
    "Cnd1, Cnd1_results = Cnd([\"BS-RCI-BAL\", \"G47_NFOOD_X_G473\", \"G47_FOOD\"], 1)"
   ]
  },
  {
   "cell_type": "code",
   "execution_count": 19,
   "metadata": {},
   "outputs": [
    {
     "name": "stdout",
     "output_type": "stream",
     "text": [
      "                            OLS Regression Results                            \n",
      "==============================================================================\n",
      "Dep. Variable:             CLV_PCH_SM   R-squared:                       0.544\n",
      "Model:                            OLS   Adj. R-squared:                  0.536\n",
      "Method:                 Least Squares   F-statistic:                     68.91\n",
      "Date:                Thu, 15 Nov 2018   Prob (F-statistic):          1.82e-198\n",
      "Time:                        09:59:08   Log-Likelihood:                -2796.1\n",
      "No. Observations:                1292   AIC:                             5638.\n",
      "Df Residuals:                    1269   BIC:                             5757.\n",
      "Df Model:                          22                                         \n",
      "Covariance Type:            nonrobust                                         \n",
      "====================================================================================\n",
      "                       coef    std err          t      P>|t|      [0.025      0.975]\n",
      "------------------------------------------------------------------------------------\n",
      "const               11.3469      0.998     11.367      0.000       9.389      13.305\n",
      "BS-RCI-BAL           0.1030      0.007     15.681      0.000       0.090       0.116\n",
      "BS-SCI-BAL           0.0400      0.005      7.868      0.000       0.030       0.050\n",
      "G47_FOOD            -0.0109      0.011     -0.994      0.321      -0.033       0.011\n",
      "G47_NFOOD_X_G473    -0.0448      0.006     -7.087      0.000      -0.057      -0.032\n",
      "LRHUTTTT            -0.3324      0.025    -13.132      0.000      -0.382      -0.283\n",
      "D_AT                -2.9392      0.388     -7.583      0.000      -3.700      -2.179\n",
      "D_BE                -2.5312      0.375     -6.743      0.000      -3.268      -1.795\n",
      "D_DE                -1.7556      0.381     -4.613      0.000      -2.502      -1.009\n",
      "D_DK                -3.5925      0.471     -7.626      0.000      -4.517      -2.668\n",
      "D_EE                -2.4576      0.420     -5.852      0.000      -3.281      -1.634\n",
      "D_EL                 1.7606      0.451      3.901      0.000       0.875       2.646\n",
      "D_ES                 2.1200      0.405      5.232      0.000       1.325       2.915\n",
      "D_FI                -2.2706      0.373     -6.089      0.000      -3.002      -1.539\n",
      "D_FR                -1.5704      0.384     -4.090      0.000      -2.324      -0.817\n",
      "D_IT                -2.0214      0.385     -5.254      0.000      -2.776      -1.267\n",
      "D_LT                -0.3559      0.408     -0.872      0.383      -1.157       0.445\n",
      "D_LV                 0.3103      0.394      0.788      0.431      -0.462       1.083\n",
      "D_NL                -4.0757      0.406    -10.049      0.000      -4.871      -3.280\n",
      "D_PL                -0.0892      0.412     -0.216      0.829      -0.898       0.720\n",
      "D_SE                -4.7738      0.427    -11.176      0.000      -5.612      -3.936\n",
      "D_SI                -3.5822      0.405     -8.843      0.000      -4.377      -2.788\n",
      "D_UK                -3.2233      0.424     -7.608      0.000      -4.054      -2.392\n",
      "==============================================================================\n",
      "Omnibus:                      313.363   Durbin-Watson:                   1.781\n",
      "Prob(Omnibus):                  0.000   Jarque-Bera (JB):             8665.205\n",
      "Skew:                          -0.475   Prob(JB):                         0.00\n",
      "Kurtosis:                      15.651   Cond. No.                     3.02e+03\n",
      "==============================================================================\n",
      "\n",
      "Warnings:\n",
      "[1] Standard Errors assume that the covariance matrix of the errors is correctly specified.\n",
      "[2] The condition number is large, 3.02e+03. This might indicate that there are\n",
      "strong multicollinearity or other numerical problems.\n"
     ]
    }
   ],
   "source": [
    "Cnd2, Cnd2_results = Cnd([\"BS-RCI-BAL\", \"G47_NFOOD_X_G473\", \"G47_FOOD\", \"BS-SCI-BAL\", \"LRHUTTTT\"], 2)"
   ]
  },
  {
   "cell_type": "code",
   "execution_count": 20,
   "metadata": {},
   "outputs": [
    {
     "name": "stdout",
     "output_type": "stream",
     "text": [
      "                            OLS Regression Results                            \n",
      "==============================================================================\n",
      "Dep. Variable:             CLV_PCH_SM   R-squared:                       0.707\n",
      "Model:                            OLS   Adj. R-squared:                  0.702\n",
      "Method:                 Least Squares   F-statistic:                     133.0\n",
      "Date:                Thu, 15 Nov 2018   Prob (F-statistic):          6.21e-318\n",
      "Time:                        09:59:08   Log-Likelihood:                -2510.9\n",
      "No. Observations:                1292   AIC:                             5070.\n",
      "Df Residuals:                    1268   BIC:                             5194.\n",
      "Df Model:                          23                                         \n",
      "Covariance Type:            nonrobust                                         \n",
      "====================================================================================\n",
      "                       coef    std err          t      P>|t|      [0.025      0.975]\n",
      "------------------------------------------------------------------------------------\n",
      "const                7.2058      0.816      8.832      0.000       5.605       8.806\n",
      "CLV_PCH_PRE          1.4801      0.056     26.531      0.000       1.371       1.590\n",
      "BS-RCI-BAL           0.0622      0.005     11.332      0.000       0.051       0.073\n",
      "BS-SCI-BAL           0.0235      0.004      5.703      0.000       0.015       0.032\n",
      "G47_FOOD            -0.0035      0.009     -0.393      0.694      -0.021       0.014\n",
      "G47_NFOOD_X_G473    -0.0303      0.005     -5.933      0.000      -0.040      -0.020\n",
      "LRHUTTTT            -0.2285      0.021    -11.049      0.000      -0.269      -0.188\n",
      "D_AT                -1.9244      0.313     -6.143      0.000      -2.539      -1.310\n",
      "D_BE                -1.6515      0.303     -5.451      0.000      -2.246      -1.057\n",
      "D_DE                -1.1738      0.306     -3.835      0.000      -1.774      -0.573\n",
      "D_DK                -2.3470      0.381     -6.163      0.000      -3.094      -1.600\n",
      "D_EE                -1.4866      0.339     -4.387      0.000      -2.151      -0.822\n",
      "D_EL                 1.2274      0.363      3.385      0.001       0.516       1.939\n",
      "D_ES                 1.4660      0.326      4.497      0.000       0.826       2.106\n",
      "D_FI                -1.4277      0.301     -4.746      0.000      -2.018      -0.838\n",
      "D_FR                -1.0304      0.309     -3.338      0.001      -1.636      -0.425\n",
      "D_IT                -1.3078      0.310     -4.221      0.000      -1.916      -0.700\n",
      "D_LT                -0.1672      0.328     -0.510      0.610      -0.810       0.475\n",
      "D_LV                 0.3037      0.316      0.961      0.337      -0.316       0.923\n",
      "D_NL                -2.6240      0.330     -7.953      0.000      -3.271      -1.977\n",
      "D_PL                -0.0575      0.331     -0.174      0.862      -0.706       0.591\n",
      "D_SE                -3.0151      0.349     -8.639      0.000      -3.700      -2.330\n",
      "D_SI                -2.2694      0.329     -6.904      0.000      -2.914      -1.625\n",
      "D_UK                -2.1276      0.342     -6.214      0.000      -2.799      -1.456\n",
      "==============================================================================\n",
      "Omnibus:                      257.862   Durbin-Watson:                   1.833\n",
      "Prob(Omnibus):                  0.000   Jarque-Bera (JB):             4052.491\n",
      "Skew:                          -0.451   Prob(JB):                         0.00\n",
      "Kurtosis:                      11.629   Cond. No.                     3.07e+03\n",
      "==============================================================================\n",
      "\n",
      "Warnings:\n",
      "[1] Standard Errors assume that the covariance matrix of the errors is correctly specified.\n",
      "[2] The condition number is large, 3.07e+03. This might indicate that there are\n",
      "strong multicollinearity or other numerical problems.\n"
     ]
    }
   ],
   "source": [
    "Cnd3, Cnd3_results = Cnd([\"BS-RCI-BAL\", \"G47_NFOOD_X_G473\", \"G47_FOOD\", \"BS-SCI-BAL\", \"LRHUTTTT\", \"CLV_PCH_PRE\"], 3)"
   ]
  },
  {
   "cell_type": "code",
   "execution_count": 21,
   "metadata": {},
   "outputs": [
    {
     "name": "stdout",
     "output_type": "stream",
     "text": [
      "                            OLS Regression Results                            \n",
      "==============================================================================\n",
      "Dep. Variable:             CLV_PCH_SM   R-squared:                       0.717\n",
      "Model:                            OLS   Adj. R-squared:                  0.711\n",
      "Method:                 Least Squares   F-statistic:                     113.6\n",
      "Date:                Thu, 15 Nov 2018   Prob (F-statistic):          9.45e-309\n",
      "Time:                        09:59:09   Log-Likelihood:                -2408.5\n",
      "No. Observations:                1239   AIC:                             4873.\n",
      "Df Residuals:                    1211   BIC:                             5016.\n",
      "Df Model:                          27                                         \n",
      "Covariance Type:            nonrobust                                         \n",
      "====================================================================================\n",
      "                       coef    std err          t      P>|t|      [0.025      0.975]\n",
      "------------------------------------------------------------------------------------\n",
      "const                8.5587      1.267      6.754      0.000       6.072      11.045\n",
      "CLV_PCH_PRE          1.4888      0.057     26.010      0.000       1.376       1.601\n",
      "BS-BCI               0.1069      0.066      1.628      0.104      -0.022       0.236\n",
      "BS-RCI-BAL           0.0540      0.006      8.918      0.000       0.042       0.066\n",
      "BS-SCI-BAL           0.0108      0.005      2.020      0.044       0.000       0.021\n",
      "BS-CSMCI-BAL         0.0262      0.007      3.512      0.000       0.012       0.041\n",
      "MIG_NDCOG           -0.0029      0.008     -0.374      0.709      -0.018       0.012\n",
      "G47_FOOD            -0.0261      0.028     -0.921      0.357      -0.082       0.029\n",
      "G47_NFOOD_X_G473    -0.0635      0.030     -2.095      0.036      -0.123      -0.004\n",
      "G47_X_G473           0.0526      0.055      0.948      0.344      -0.056       0.161\n",
      "LRHUTTTT            -0.2332      0.024     -9.770      0.000      -0.280      -0.186\n",
      "D_AT                -2.5287      0.382     -6.617      0.000      -3.278      -1.779\n",
      "D_BE                -2.0735      0.354     -5.863      0.000      -2.767      -1.380\n",
      "D_DE                -1.7981      0.354     -5.077      0.000      -2.493      -1.103\n",
      "D_DK                -3.2797      0.461     -7.110      0.000      -4.185      -2.375\n",
      "D_EE                -1.9343      0.377     -5.134      0.000      -2.673      -1.195\n",
      "D_EL                 2.0980      0.431      4.871      0.000       1.253       2.943\n",
      "D_ES                 1.3052      0.357      3.654      0.000       0.604       2.006\n",
      "D_FI                -2.4062      0.410     -5.875      0.000      -3.210      -1.603\n",
      "D_FR                -1.4244      0.325     -4.384      0.000      -2.062      -0.787\n",
      "D_IT                -1.5506      0.321     -4.832      0.000      -2.180      -0.921\n",
      "D_LT                -0.5755      0.389     -1.481      0.139      -1.338       0.187\n",
      "D_LV                 0.1028      0.333      0.308      0.758      -0.551       0.757\n",
      "D_NL                -3.2058      0.381     -8.413      0.000      -3.953      -2.458\n",
      "D_PL                -0.3307      0.350     -0.946      0.345      -1.017       0.356\n",
      "D_SE                -3.6027      0.409     -8.813      0.000      -4.405      -2.801\n",
      "D_SI                -2.2229      0.351     -6.331      0.000      -2.912      -1.534\n",
      "D_UK                -2.6698      0.372     -7.186      0.000      -3.399      -1.941\n",
      "==============================================================================\n",
      "Omnibus:                      244.564   Durbin-Watson:                   1.843\n",
      "Prob(Omnibus):                  0.000   Jarque-Bera (JB):             3812.378\n",
      "Skew:                          -0.438   Prob(JB):                         0.00\n",
      "Kurtosis:                      11.549   Cond. No.                     5.89e+03\n",
      "==============================================================================\n",
      "\n",
      "Warnings:\n",
      "[1] Standard Errors assume that the covariance matrix of the errors is correctly specified.\n",
      "[2] The condition number is large, 5.89e+03. This might indicate that there are\n",
      "strong multicollinearity or other numerical problems.\n"
     ]
    }
   ],
   "source": [
    "Cnd_all, Cnd_all_results = Cnd(all_boolean=True)"
   ]
  },
  {
   "cell_type": "code",
   "execution_count": 22,
   "metadata": {},
   "outputs": [
    {
     "data": {
      "text/plain": [
       "<matplotlib.axes._subplots.AxesSubplot at 0x7f4f3982f940>"
      ]
     },
     "execution_count": 22,
     "metadata": {},
     "output_type": "execute_result"
    },
    {
     "data": {
      "image/png": "[encoded data removed]",
      "text/plain": [
       "<Figure size 1080x720 with 2 Axes>"
      ]
     },
     "metadata": {
      "needs_background": "light"
     },
     "output_type": "display_data"
    }
   ],
   "source": [
    "f, ax = plt.subplots(figsize=(15,10)) \n",
    "sns.heatmap(Cnd_all.corr(), mask=np.zeros_like(Cnd_all.corr(), dtype=np.bool),\n",
    "            cmap=sns.diverging_palette(10, 220, as_cmap=True),square=True, ax=ax)"
   ]
  },
  {
   "cell_type": "markdown",
   "metadata": {},
   "source": [
    "<br>"
   ]
  },
  {
   "cell_type": "markdown",
   "metadata": {},
   "source": [
    "# $I$"
   ]
  },
  {
   "cell_type": "markdown",
   "metadata": {},
   "source": [
    ">## $Igfcf$"
   ]
  },
  {
   "cell_type": "code",
   "execution_count": 23,
   "metadata": {},
   "outputs": [],
   "source": [
    "def Igfcf(model_variables=[], version=0, all_boolean=False, country_dummies=True):\n",
    "    \n",
    "    df_in = pd.DataFrame(sorted(list(set(namq_10_gdp.ID))), columns=[\"ID\"])\n",
    "    \n",
    "    ###########################################################################################\n",
    "    \n",
    "    # Chain linked volumes, percentage change compared to same period in previous year\n",
    "    var = \"CLV_PCH_SM\"\n",
    "    selec = namq_10_gdp[(namq_10_gdp.NA_ITEM==\"P51G\")&(namq_10_gdp.UNIT==var)][[\"ID\", \"Value\"]]; selec.columns = [\"ID\", var]\n",
    "    df_in = pd.merge(df_in, selec, on='ID', how=\"inner\")\n",
    "    \n",
    "    ## Chain linked volumes, percentage change on previous period\n",
    "    var = \"CLV_PCH_PRE\"\n",
    "    if var in model_variables or all_boolean:\n",
    "        selec = namq_10_gdp_lag[(namq_10_gdp_lag.NA_ITEM==\"P51G\")&(namq_10_gdp_lag.UNIT==var)][[\"ID\", \"Value\"]]; selec.columns = [\"ID\", var]\n",
    "        df_in = pd.merge(df_in, selec, on='ID', how=\"inner\")\n",
    "    \n",
    "    # Business Climate Indicator\n",
    "    var = \"BS-BCI\"\n",
    "    if var in model_variables or all_boolean:\n",
    "        dic_BCI = dict(zip(ei_bsci_m_r2_1.TIME.values, ei_bsci_m_r2_1.Value.values))\n",
    "        df_in[var] = df_in.ID.str[:-2].map(dic_BCI)\n",
    "    \n",
    "    # Industrial Confidence Indicator\n",
    "    var = \"BS-ICI-BAL\"\n",
    "    if var in model_variables or all_boolean:\n",
    "        selec = ei_bssi_m_r2[ei_bssi_m_r2.INDIC==var][[\"ID\", \"Value\"]]; selec.columns = [\"ID\", var]\n",
    "        df_in = pd.merge(df_in, selec, on='ID', how=\"inner\")\n",
    "    \n",
    "    # Building permits index - New residential buildings\n",
    "    # Checked - UNIT I2015\n",
    "    var = \"IS-PEI\"\n",
    "    if var in model_variables or all_boolean:\n",
    "        selec = ei_isbu_q[(ei_isbu_q.INDIC==var)&(ei_isbu_q.UNIT==\"I2015\")][[\"ID\", \"Value\"]]; selec.columns = [\"ID\", var]\n",
    "        df_in = pd.merge(df_in, selec, on='ID', how=\"inner\")\n",
    "    \n",
    "    # Residential buildings, except residences for communities\n",
    "    # Checked - UNIT I15  \n",
    "    var = \"F_CC11_X_CC113\"\n",
    "    if var in model_variables or all_boolean:\n",
    "        selec = sts_cobp_q[(sts_cobp_q.NACE_R2==var)&(sts_cobp_q.UNIT==\"I15\")][[\"ID\", \"Value\"]]; selec.columns = [\"ID\", var]\n",
    "        df_in = pd.merge(df_in, selec, on='ID', how=\"inner\")\n",
    "    \n",
    "    # Two- and more dwelling buildings\n",
    "    # Checked - UNIT I15\n",
    "    var = \"F_CC112\"\n",
    "    if var in model_variables or all_boolean:\n",
    "        selec = sts_cobp_q[(sts_cobp_q.NACE_R2==var)&(sts_cobp_q.UNIT==\"I15\")][[\"ID\", \"Value\"]]; selec.columns = [\"ID\", var]\n",
    "        df_in = pd.merge(df_in, selec, on='ID', how=\"inner\")\n",
    "    \n",
    "    # Construction confidence indicator\n",
    "    var = \"BS-CCI-BAL\"\n",
    "    if var in model_variables or all_boolean:\n",
    "        selec = ei_bssi_m_r2[ei_bssi_m_r2.INDIC==var][[\"ID\", \"Value\"]]; selec.columns = [\"ID\", var]\n",
    "        df_in = pd.merge(df_in, selec, on='ID', how=\"inner\")\n",
    "    \n",
    "    # Volume index of production\n",
    "    # Checked - UNIT I15\n",
    "    var = \"PROD\"\n",
    "    if var in model_variables or all_boolean:\n",
    "        selec = sts_copr_q[(sts_copr_q.INDIC_BT==var)&(sts_copr_q.UNIT==\"I15\")][[\"ID\", \"Value\"]]; selec.columns = [\"ID\", var]\n",
    "        df_in = pd.merge(df_in, selec, on='ID', how=\"inner\")\n",
    "    \n",
    "    # Production in industry: MIG - energy (except Section E)\n",
    "    # Checked - UNIT I15\n",
    "    var = \"MIG_NRG_X_E\"\n",
    "    if var in model_variables or all_boolean:\n",
    "        selec = sts_inpr_q[(sts_inpr_q.NACE_R2==var)&(sts_inpr_q.UNIT==\"I15\")][[\"ID\", \"Value\"]]; selec.columns = [\"ID\", var]\n",
    "        df_in = pd.merge(df_in, selec, on='ID', how=\"inner\")\n",
    "    \n",
    "    # Production in industry: MIG - capital goods\n",
    "    # Checked - UNIT I15\n",
    "    var = \"MIG_CAG\"\n",
    "    if var in model_variables or all_boolean:\n",
    "        selec = sts_inpr_q[(sts_inpr_q.NACE_R2==var)&(sts_inpr_q.UNIT==\"I15\")][[\"ID\", \"Value\"]]; selec.columns = [\"ID\", var]\n",
    "        df_in = pd.merge(df_in, selec, on='ID', how=\"inner\")\n",
    "    \n",
    "    # Production in industry: Mining and quarrying; manufacturing\n",
    "    # Checked - UNIT I15\n",
    "    var = \"B_C\"\n",
    "    if var in model_variables or all_boolean:\n",
    "        selec = sts_inpr_q[(sts_inpr_q.NACE_R2==var)&(sts_inpr_q.UNIT==\"I15\")][[\"ID\", \"Value\"]]; selec.columns = [\"ID\", var]\n",
    "        df_in = pd.merge(df_in, selec, on='ID', how=\"inner\")\n",
    "    \n",
    "    # Production in industry: Mining and quarrying; manufacturing (except MIG energy)\n",
    "    # Checked - UNIT I15\n",
    "    var = \"B_C_X_MIG_NRG\"\n",
    "    if var in model_variables or all_boolean:\n",
    "        selec = sts_inpr_q[(sts_inpr_q.NACE_R2==var)&(sts_inpr_q.UNIT==\"I15\")][[\"ID\", \"Value\"]]; selec.columns = [\"ID\", var]\n",
    "        df_in = pd.merge(df_in, selec, on='ID', how=\"inner\")\n",
    "    \n",
    "    # Production in industry: Manufacturing\n",
    "    # Checked - UNIT I15\n",
    "    var = \"C\"\n",
    "    if var in model_variables or all_boolean:\n",
    "        selec = sts_inpr_q[(sts_inpr_q.NACE_R2==var)&(sts_inpr_q.UNIT==\"I15\")][[\"ID\", \"Value\"]]; selec.columns = [\"ID\", \"C_prod\"]\n",
    "        df_in = pd.merge(df_in, selec, on='ID', how=\"inner\")\n",
    "    \n",
    "    # Production in industry: Electricity, gas, steam and air conditioning supply\n",
    "    # Checked - UNIT I15\n",
    "    var = \"D\"\n",
    "    if var in model_variables or all_boolean:\n",
    "        selec = sts_inpr_q[(sts_inpr_q.NACE_R2==var)&(sts_inpr_q.UNIT==\"I15\")][[\"ID\", \"Value\"]]; selec.columns = [\"ID\", var]\n",
    "        df_in = pd.merge(df_in, selec, on='ID', how=\"inner\")\n",
    "    \n",
    "    # Manufacture of motor vehicles, trailers, semi-trailers and of other transport equipment\n",
    "    # Checked - UNIT I15\n",
    "    var = \"C29_C30\"\n",
    "    if var in model_variables or all_boolean:\n",
    "        selec = sts_intv_q[(sts_intv_q.NACE_R2==var)&(sts_intv_q.UNIT==\"I15\")][[\"ID\", \"Value\"]]; selec.columns = [\"ID\", var]\n",
    "        df_in = pd.merge(df_in, selec, on='ID', how=\"inner\")\n",
    "    \n",
    "    # Manufacturing\n",
    "    # Checked - UNIT I15\n",
    "    var = \"C\"\n",
    "    if var in model_variables or all_boolean:\n",
    "        selec = sts_inpr_q[(sts_inpr_q.NACE_R2==var)&(sts_inpr_q.UNIT==\"I15\")][[\"ID\", \"Value\"]]; selec.columns = [\"ID\", var]\n",
    "        df_in = pd.merge(df_in, selec, on='ID', how=\"inner\")\n",
    "    \n",
    "    ###########################################################################################\n",
    "    \n",
    "    # Dummies\n",
    "    if country_dummies:\n",
    "        countries = set(namq_10_gdp.GEO); countries.remove('PT')\n",
    "        for country in sorted(list(countries)):\n",
    "            df_in[\"D_\"+country] = (df_in.ID.str[-2:] == country).astype(int)\n",
    "    \n",
    "    Igfcf = df_in.dropna().copy().set_index(\"ID\")\n",
    "    Igfcf = Igfcf.loc[:, (Igfcf != 0).any(axis=0)].copy()\n",
    "    del var, selec, df_in\n",
    "    \n",
    "    ###########################################################################################\n",
    "    \n",
    "    # Save\n",
    "    if version != 0:\n",
    "        Igfcf.to_csv(\"./regressions/Igfcf\"+str(version)+\".csv\")\n",
    "    \n",
    "    ###########################################################################################\n",
    "    \n",
    "    # Regression\n",
    "    X = sm.add_constant(Igfcf.loc[:, Igfcf.columns != \"CLV_PCH_SM\"].copy())\n",
    "    y = Igfcf.loc[:, \"CLV_PCH_SM\"].copy()\n",
    "    results = sm.OLS(y, X).fit()\n",
    "    print(results.summary())\n",
    "    \n",
    "    return(Igfcf, results)"
   ]
  },
  {
   "cell_type": "code",
   "execution_count": 54,
   "metadata": {},
   "outputs": [
    {
     "name": "stdout",
     "output_type": "stream",
     "text": [
      "                            OLS Regression Results                            \n",
      "==============================================================================\n",
      "Dep. Variable:             CLV_PCH_SM   R-squared:                       0.263\n",
      "Model:                            OLS   Adj. R-squared:                  0.252\n",
      "Method:                 Least Squares   F-statistic:                     24.19\n",
      "Date:                Thu, 15 Nov 2018   Prob (F-statistic):          4.04e-105\n",
      "Time:                        10:06:27   Log-Likelihood:                -7415.7\n",
      "No. Observations:                1932   AIC:                         1.489e+04\n",
      "Df Residuals:                    1903   BIC:                         1.505e+04\n",
      "Df Model:                          28                                         \n",
      "Covariance Type:            nonrobust                                         \n",
      "==============================================================================\n",
      "                 coef    std err          t      P>|t|      [0.025      0.975]\n",
      "------------------------------------------------------------------------------\n",
      "const          6.1546      1.373      4.483      0.000       3.462       8.847\n",
      "BS-BCI         1.5224      0.383      3.972      0.000       0.771       2.274\n",
      "BS-ICI-BAL     0.2196      0.043      5.117      0.000       0.135       0.304\n",
      "BS-CCI-BAL     0.1747      0.016     11.055      0.000       0.144       0.206\n",
      "D_AT          -1.7872      1.830     -0.977      0.329      -5.376       1.802\n",
      "D_BE          -1.0752      1.860     -0.578      0.563      -4.722       2.572\n",
      "D_BG           6.0160      1.819      3.307      0.001       2.448       9.584\n",
      "D_CY           4.9499      1.907      2.596      0.010       1.211       8.689\n",
      "D_CZ          -0.4991      1.846     -0.270      0.787      -4.120       3.122\n",
      "D_DE          -0.0107      1.820     -0.006      0.995      -3.579       3.558\n",
      "D_DK          -2.2398      1.843     -1.215      0.224      -5.855       1.375\n",
      "D_EE          -0.8437      1.874     -0.450      0.653      -4.519       2.832\n",
      "D_EL          -2.0383      1.817     -1.122      0.262      -5.602       1.526\n",
      "D_ES          -0.6233      1.837     -0.339      0.734      -4.227       2.980\n",
      "D_FI          -3.3948      1.851     -1.834      0.067      -7.025       0.236\n",
      "D_FR          -2.0780      1.856     -1.119      0.263      -5.719       1.562\n",
      "D_HR          -2.4328      2.192     -1.110      0.267      -6.731       1.866\n",
      "D_HU           0.4940      1.827      0.270      0.787      -3.090       4.078\n",
      "D_IT          -1.8900      1.824     -1.036      0.300      -5.468       1.688\n",
      "D_LT           5.9937      1.819      3.296      0.001       2.427       9.561\n",
      "D_LU           4.0335      1.929      2.091      0.037       0.250       7.817\n",
      "D_LV           4.6085      1.823      2.528      0.012       1.033       8.184\n",
      "D_MT           2.7401      2.201      1.245      0.213      -1.577       7.057\n",
      "D_NL          -2.5058      1.861     -1.346      0.178      -6.156       1.145\n",
      "D_PL           5.7242      1.840      3.111      0.002       2.116       9.333\n",
      "D_RO           3.9673      1.828      2.171      0.030       0.383       7.552\n",
      "D_SE          -1.3996      1.858     -0.753      0.451      -5.043       2.243\n",
      "D_SI          -3.9448      1.934     -2.039      0.042      -7.738      -0.151\n",
      "D_UK          -0.6079      1.831     -0.332      0.740      -4.199       2.983\n",
      "==============================================================================\n",
      "Omnibus:                     2272.520   Durbin-Watson:                   1.997\n",
      "Prob(Omnibus):                  0.000   Jarque-Bera (JB):           838988.911\n",
      "Skew:                           5.542   Prob(JB):                         0.00\n",
      "Kurtosis:                     104.486   Cond. No.                         756.\n",
      "==============================================================================\n",
      "\n",
      "Warnings:\n",
      "[1] Standard Errors assume that the covariance matrix of the errors is correctly specified.\n"
     ]
    }
   ],
   "source": [
    "Igfcf1, Igfcf1_results = Igfcf([\"BS-BCI\", \"BS-ICI-BAL\", \"BS-CCI-BAL\"],1)"
   ]
  },
  {
   "cell_type": "code",
   "execution_count": 55,
   "metadata": {},
   "outputs": [
    {
     "name": "stdout",
     "output_type": "stream",
     "text": [
      "                            OLS Regression Results                            \n",
      "==============================================================================\n",
      "Dep. Variable:             CLV_PCH_SM   R-squared:                       0.480\n",
      "Model:                            OLS   Adj. R-squared:                  0.471\n",
      "Method:                 Least Squares   F-statistic:                     54.14\n",
      "Date:                Thu, 15 Nov 2018   Prob (F-statistic):          2.56e-180\n",
      "Time:                        10:06:39   Log-Likelihood:                -4892.2\n",
      "No. Observations:                1432   AIC:                             9834.\n",
      "Df Residuals:                    1407   BIC:                             9966.\n",
      "Df Model:                          24                                         \n",
      "Covariance Type:            nonrobust                                         \n",
      "=================================================================================\n",
      "                    coef    std err          t      P>|t|      [0.025      0.975]\n",
      "---------------------------------------------------------------------------------\n",
      "const            19.6462      2.062      9.528      0.000      15.602      23.691\n",
      "BS-BCI            2.5029      0.311      8.051      0.000       1.893       3.113\n",
      "BS-ICI-BAL        0.1528      0.036      4.243      0.000       0.082       0.223\n",
      "BS-CCI-BAL        0.2142      0.014     15.459      0.000       0.187       0.241\n",
      "B_C_X_MIG_NRG    -0.0792      0.020     -3.966      0.000      -0.118      -0.040\n",
      "C29_C30          -0.0432      0.011     -3.926      0.000      -0.065      -0.022\n",
      "D_AT             -4.5363      1.441     -3.148      0.002      -7.363      -1.709\n",
      "D_BE             -3.4950      1.416     -2.467      0.014      -6.274      -0.716\n",
      "D_BG              1.9486      1.278      1.525      0.128      -0.559       4.456\n",
      "D_CZ             -3.8360      1.341     -2.861      0.004      -6.466      -1.206\n",
      "D_DE             -2.4967      1.269     -1.968      0.049      -4.986      -0.008\n",
      "D_DK             -1.5412      1.489     -1.035      0.301      -4.462       1.380\n",
      "D_EE             -4.3584      1.437     -3.034      0.002      -7.177      -1.540\n",
      "D_EL             -4.2129      1.563     -2.695      0.007      -7.279      -1.147\n",
      "D_ES             -0.7243      1.280     -0.566      0.572      -3.235       1.787\n",
      "D_FI             -3.5196      1.289     -2.731      0.006      -6.047      -0.992\n",
      "D_FR             -3.6181      1.279     -2.829      0.005      -6.127      -1.109\n",
      "D_HU             -3.9392      1.347     -2.924      0.004      -6.582      -1.296\n",
      "D_IT             -2.1699      1.236     -1.755      0.079      -4.595       0.256\n",
      "D_LT              2.2193      1.402      1.583      0.114      -0.530       4.969\n",
      "D_LV              1.6703      1.324      1.262      0.207      -0.926       4.267\n",
      "D_PL              0.9507      1.408      0.675      0.499      -1.810       3.712\n",
      "D_RO             -0.3967      1.350     -0.294      0.769      -3.045       2.251\n",
      "D_SE             -2.8384      1.294     -2.194      0.028      -5.377      -0.300\n",
      "D_UK             -2.6422      1.258     -2.100      0.036      -5.111      -0.174\n",
      "==============================================================================\n",
      "Omnibus:                      171.402   Durbin-Watson:                   1.869\n",
      "Prob(Omnibus):                  0.000   Jarque-Bera (JB):             1490.662\n",
      "Skew:                           0.172   Prob(JB):                         0.00\n",
      "Kurtosis:                       7.986   Cond. No.                     3.07e+03\n",
      "==============================================================================\n",
      "\n",
      "Warnings:\n",
      "[1] Standard Errors assume that the covariance matrix of the errors is correctly specified.\n",
      "[2] The condition number is large, 3.07e+03. This might indicate that there are\n",
      "strong multicollinearity or other numerical problems.\n"
     ]
    }
   ],
   "source": [
    "Igfcf2, Igfcf2_results = Igfcf([\"BS-BCI\", \"BS-ICI-BAL\", \"BS-CCI-BAL\", \"B_C_X_MIG_NRG\", \"C29_C30\"],2)"
   ]
  },
  {
   "cell_type": "code",
   "execution_count": 56,
   "metadata": {},
   "outputs": [
    {
     "name": "stdout",
     "output_type": "stream",
     "text": [
      "                            OLS Regression Results                            \n",
      "==============================================================================\n",
      "Dep. Variable:             CLV_PCH_SM   R-squared:                       0.537\n",
      "Model:                            OLS   Adj. R-squared:                  0.529\n",
      "Method:                 Least Squares   F-statistic:                     65.36\n",
      "Date:                Thu, 15 Nov 2018   Prob (F-statistic):          1.36e-214\n",
      "Time:                        10:06:57   Log-Likelihood:                -4808.5\n",
      "No. Observations:                1432   AIC:                             9669.\n",
      "Df Residuals:                    1406   BIC:                             9806.\n",
      "Df Model:                          25                                         \n",
      "Covariance Type:            nonrobust                                         \n",
      "=================================================================================\n",
      "                    coef    std err          t      P>|t|      [0.025      0.975]\n",
      "---------------------------------------------------------------------------------\n",
      "const            17.0153      1.956      8.701      0.000      13.179      20.851\n",
      "CLV_PCH_PRE       0.5779      0.044     13.208      0.000       0.492       0.664\n",
      "BS-BCI            2.0402      0.295      6.906      0.000       1.461       2.620\n",
      "BS-ICI-BAL        0.1242      0.034      3.649      0.000       0.057       0.191\n",
      "BS-CCI-BAL        0.1865      0.013     14.085      0.000       0.161       0.212\n",
      "B_C_X_MIG_NRG    -0.0711      0.019     -3.770      0.000      -0.108      -0.034\n",
      "C29_C30          -0.0342      0.010     -3.286      0.001      -0.055      -0.014\n",
      "D_AT             -4.0193      1.360     -2.955      0.003      -6.688      -1.351\n",
      "D_BE             -3.1933      1.337     -2.389      0.017      -5.815      -0.571\n",
      "D_BG              1.7274      1.206      1.432      0.152      -0.638       4.093\n",
      "D_CZ             -3.3053      1.266     -2.611      0.009      -5.788      -0.822\n",
      "D_DE             -2.1988      1.197     -1.836      0.067      -4.548       0.150\n",
      "D_DK             -1.5650      1.405     -1.114      0.265      -4.321       1.191\n",
      "D_EE             -3.7632      1.356     -2.775      0.006      -6.424      -1.103\n",
      "D_EL             -3.6793      1.475     -2.494      0.013      -6.573      -0.785\n",
      "D_ES             -0.6483      1.208     -0.537      0.592      -3.018       1.721\n",
      "D_FI             -3.0964      1.216     -2.546      0.011      -5.482      -0.711\n",
      "D_FR             -3.1912      1.207     -2.643      0.008      -5.560      -0.823\n",
      "D_HU             -3.4315      1.272     -2.698      0.007      -5.926      -0.937\n",
      "D_IT             -1.8631      1.167     -1.597      0.111      -4.152       0.426\n",
      "D_LT              1.8944      1.323      1.432      0.152      -0.700       4.489\n",
      "D_LV              1.4032      1.249      1.123      0.261      -1.047       3.853\n",
      "D_PL              0.7190      1.328      0.541      0.588      -1.886       3.324\n",
      "D_RO             -0.2804      1.274     -0.220      0.826      -2.779       2.218\n",
      "D_SE             -2.5183      1.221     -2.062      0.039      -4.914      -0.123\n",
      "D_UK             -2.3401      1.188     -1.970      0.049      -4.670      -0.010\n",
      "==============================================================================\n",
      "Omnibus:                      204.245   Durbin-Watson:                   1.845\n",
      "Prob(Omnibus):                  0.000   Jarque-Bera (JB):             1903.295\n",
      "Skew:                           0.327   Prob(JB):                         0.00\n",
      "Kurtosis:                       8.610   Cond. No.                     3.07e+03\n",
      "==============================================================================\n",
      "\n",
      "Warnings:\n",
      "[1] Standard Errors assume that the covariance matrix of the errors is correctly specified.\n",
      "[2] The condition number is large, 3.07e+03. This might indicate that there are\n",
      "strong multicollinearity or other numerical problems.\n"
     ]
    }
   ],
   "source": [
    "Igfcf3, Igfcf3_results = Igfcf([\"BS-BCI\", \"BS-ICI-BAL\", \"BS-CCI-BAL\", \"B_C_X_MIG_NRG\", \"C29_C30\", \"CLV_PCH_PRE\"],3) "
   ]
  },
  {
   "cell_type": "code",
   "execution_count": 57,
   "metadata": {},
   "outputs": [
    {
     "name": "stdout",
     "output_type": "stream",
     "text": [
      "                            OLS Regression Results                            \n",
      "==============================================================================\n",
      "Dep. Variable:             CLV_PCH_SM   R-squared:                       0.521\n",
      "Model:                            OLS   Adj. R-squared:                  0.509\n",
      "Method:                 Least Squares   F-statistic:                     40.71\n",
      "Date:                Thu, 15 Nov 2018   Prob (F-statistic):          1.11e-166\n",
      "Time:                        10:07:06   Log-Likelihood:                -4149.1\n",
      "No. Observations:                1229   AIC:                             8364.\n",
      "Df Residuals:                    1196   BIC:                             8533.\n",
      "Df Model:                          32                                         \n",
      "Covariance Type:            nonrobust                                         \n",
      "==================================================================================\n",
      "                     coef    std err          t      P>|t|      [0.025      0.975]\n",
      "----------------------------------------------------------------------------------\n",
      "const             21.6705      3.183      6.807      0.000      15.425      27.916\n",
      "CLV_PCH_PRE        0.5502      0.047     11.758      0.000       0.458       0.642\n",
      "BS-BCI             1.7541      0.332      5.279      0.000       1.102       2.406\n",
      "BS-ICI-BAL         0.1475      0.039      3.791      0.000       0.071       0.224\n",
      "IS-PEI            -0.0119      0.008     -1.516      0.130      -0.027       0.004\n",
      "F_CC11_X_CC113     0.0075      0.011      0.669      0.504      -0.014       0.029\n",
      "F_CC112            0.0037      0.003      1.456      0.146      -0.001       0.009\n",
      "BS-CCI-BAL         0.1856      0.015     12.070      0.000       0.155       0.216\n",
      "PROD              -0.0100      0.015     -0.666      0.506      -0.040       0.020\n",
      "MIG_NRG_X_E       -0.0530      0.043     -1.230      0.219      -0.138       0.032\n",
      "MIG_CAG           -0.0126      0.036     -0.353      0.724      -0.083       0.058\n",
      "B_C                0.3524      0.238      1.482      0.138      -0.114       0.819\n",
      "B_C_X_MIG_NRG     -0.3277      0.170     -1.928      0.054      -0.661       0.006\n",
      "C_prod            -0.0173      0.106     -0.163      0.871      -0.226       0.192\n",
      "D                 -0.0291      0.034     -0.853      0.394      -0.096       0.038\n",
      "C29_C30           -0.0247      0.015     -1.685      0.092      -0.053       0.004\n",
      "C                 -0.0173      0.106     -0.163      0.871      -0.226       0.192\n",
      "D_AT              -4.6969      1.656     -2.836      0.005      -7.947      -1.447\n",
      "D_BE              -2.1288      1.753     -1.214      0.225      -5.568       1.311\n",
      "D_BG               0.2596      1.621      0.160      0.873      -2.921       3.440\n",
      "D_CZ              -3.3382      1.567     -2.130      0.033      -6.413      -0.263\n",
      "D_DE              -2.8861      1.524     -1.893      0.059      -5.877       0.105\n",
      "D_DK              -2.6403      1.809     -1.460      0.145      -6.189       0.909\n",
      "D_EE              -4.1968      1.680     -2.497      0.013      -7.494      -0.900\n",
      "D_EL              -3.3251      1.776     -1.873      0.061      -6.809       0.159\n",
      "D_ES              -0.1665      1.723     -0.097      0.923      -3.547       3.214\n",
      "D_FR              -4.1861      1.570     -2.667      0.008      -7.265      -1.107\n",
      "D_HU              -2.9616      1.629     -1.818      0.069      -6.159       0.235\n",
      "D_LT               1.4231      1.770      0.804      0.422      -2.051       4.897\n",
      "D_LV              -1.1787      1.964     -0.600      0.549      -5.032       2.675\n",
      "D_PL               0.8054      1.615      0.499      0.618      -2.364       3.974\n",
      "D_RO              -0.7354      1.596     -0.461      0.645      -3.866       2.396\n",
      "D_SE              -4.0530      1.648     -2.459      0.014      -7.286      -0.820\n",
      "D_UK              -3.7011      1.653     -2.239      0.025      -6.945      -0.457\n",
      "==============================================================================\n",
      "Omnibus:                      187.743   Durbin-Watson:                   1.894\n",
      "Prob(Omnibus):                  0.000   Jarque-Bera (JB):             1625.833\n",
      "Skew:                           0.415   Prob(JB):                         0.00\n",
      "Kurtosis:                       8.573   Cond. No.                     1.48e+16\n",
      "==============================================================================\n",
      "\n",
      "Warnings:\n",
      "[1] Standard Errors assume that the covariance matrix of the errors is correctly specified.\n",
      "[2] The smallest eigenvalue is 2.27e-24. This might indicate that there are\n",
      "strong multicollinearity problems or that the design matrix is singular.\n"
     ]
    }
   ],
   "source": [
    "Igfcf_all, Igfcf_all_resuls = Igfcf(all_boolean=True)"
   ]
  },
  {
   "cell_type": "code",
   "execution_count": 28,
   "metadata": {},
   "outputs": [
    {
     "data": {
      "text/plain": [
       "<matplotlib.axes._subplots.AxesSubplot at 0x7f4f39674240>"
      ]
     },
     "execution_count": 28,
     "metadata": {},
     "output_type": "execute_result"
    },
    {
     "data": {
      "image/png": "[encoded data removed]",
      "text/plain": [
       "<Figure size 1080x720 with 2 Axes>"
      ]
     },
     "metadata": {
      "needs_background": "light"
     },
     "output_type": "display_data"
    }
   ],
   "source": [
    "f, ax = plt.subplots(figsize=(15,10)) \n",
    "sns.heatmap(Igfcf_all.corr(), mask=np.zeros_like(Igfcf_all.corr(), dtype=np.bool),\n",
    "            cmap=sns.diverging_palette(10, 220, as_cmap=True),square=True, ax=ax)"
   ]
  },
  {
   "cell_type": "markdown",
   "metadata": {},
   "source": [
    "<br>"
   ]
  },
  {
   "cell_type": "markdown",
   "metadata": {},
   "source": [
    "# $G$"
   ]
  },
  {
   "cell_type": "markdown",
   "metadata": {},
   "source": [
    "$$G_t = \\textit{Purchases of Goods and Services}_t+ \\textit{Wages Public Servants}_t+ \\textit{Investment}_t$$\n",
    "The value calculated is -0.0086575."
   ]
  },
  {
   "cell_type": "markdown",
   "metadata": {},
   "source": [
    "<br>"
   ]
  },
  {
   "cell_type": "markdown",
   "metadata": {},
   "source": [
    "# $X$"
   ]
  },
  {
   "cell_type": "code",
   "execution_count": 160,
   "metadata": {},
   "outputs": [],
   "source": [
    "ECB_gdp_yoy_3q_g = {'AT': 0.026, 'BE': 0.014, 'EE': 0.037  , 'FI': 0.025, 'FR': 0.015, 'DE': 0.012, 'EL': 0.018,\n",
    "                    'IE': 0.091, 'IT': 0.008, 'LV': 0.044, 'NL': 0.023, 'PT': 0.024, 'SI': 0.043, 'ES': 0.025}\n"
   ]
  },
  {
   "cell_type": "code",
   "execution_count": 178,
   "metadata": {},
   "outputs": [],
   "source": [
    "def X(model_variables=[], version=0, all_boolean=False, country_dummies=True):\n",
    "\n",
    "    ext_tec03 = pd.read_csv(\"./data/ext_tec03_1_Data.csv\"); ext_tec03.Value = ext_tec03.Value.replace(regex=r'[,]+', value='').astype(np.float)\n",
    "    XXX_source = ext_tec03[(ext_tec03.TIME==2016)& (ext_tec03.STK_FLOW==\"EXP\")]\n",
    "    XXX_countries = sorted(list(set(ext_tec03.GEO.values)))\n",
    "    XXX_matrix = pd.DataFrame(index=XXX_countries, columns=XXX_countries)\n",
    "    for ind, row in XXX_source.iterrows():\n",
    "        if row.GEO == row.PARTNER:\n",
    "            XXX_matrix.loc[row.GEO][row.PARTNER]=0\n",
    "        else:\n",
    "            XXX_matrix.loc[row.GEO][row.PARTNER]=row.Value#/np.sum(XXX_source[XXX_source.GEO==row.GEO].Value)\n",
    "    XXX_matrix = XXX_matrix.dropna()\n",
    "    XXX_matrix = XXX_matrix[XXX_matrix.index.values].copy()\n",
    "    XXX_weights = XXX_matrix.divide(XXX_matrix.sum(axis=1), axis=0).copy()\n",
    "    #countries = sorted(list(XXX_weights.index.values))\n",
    "    countries = sorted(ECB_gdp_yoy_3q_g.keys())\n",
    "    XXX_weights = XXX_weights.loc[countries,countries]\n",
    "    \n",
    "    ###########################################################################################\n",
    "    \n",
    "    df_in = pd.DataFrame(index = sorted(list(set(namq_10_gdp.ID))))\n",
    "    \n",
    "    ###########################################################################################\n",
    "\n",
    "    ## Chain linked volumes, percentage change on previous period\n",
    "    var = \"CLV_PCH_PRE\"\n",
    "    for country in countries:\n",
    "        selec = namq_10_gdp[((namq_10_gdp.NA_ITEM==\"B1GQ\")&(namq_10_gdp.UNIT==\"CLV_PCH_SM\"))&(namq_10_gdp.GEO==country)][[\"TIME\", \"Value\"]]\n",
    "        temp_dict = dict(zip(selec.TIME.values, selec.Value.values))\n",
    "        df_in[country] = df_in.index.str[:-2].map(temp_dict)\n",
    "                \n",
    "    for ID in df_in.index:\n",
    "        if ID[-2:] in XXX_weights.index:\n",
    "            df_in.at[ID,:] = df_in.loc[ID,:].values*XXX_weights.loc[ID[-2:],:].values\n",
    "        else:\n",
    "            #print(ID)\n",
    "            df_in.drop(ID, axis=0, inplace=True)\n",
    "    df_in = df_in.loc[:,df_in.notna().sum()!=0].dropna().copy()\n",
    "    df_in.index.name = \"ID\"; df_in.reset_index(inplace=True)\n",
    "\n",
    "    ###########################################################################################\n",
    "\n",
    "    # Chain linked volumes, percentage change compared to same period in previous year\n",
    "    var = \"CLV_PCH_SM\"\n",
    "    selec = namq_10_gdp[(namq_10_gdp.NA_ITEM==\"P6\")&(namq_10_gdp.UNIT==var)][[\"ID\", \"Value\"]]; selec.columns = [\"ID\", var]\n",
    "    df_in = pd.merge(df_in, selec, on='ID', how=\"inner\")\n",
    "    \n",
    "        # Business Climate Indicator\n",
    "    var = \"BS-BCI\"\n",
    "    if var in model_variables or all_boolean:\n",
    "        dic_BCI = dict(zip(ei_bsci_m_r2_1.TIME.values, ei_bsci_m_r2_1.Value.values))\n",
    "        df_in[var] = df_in.ID.str[:-2].map(dic_BCI)\n",
    "        \n",
    "    # Economic sentiment indicator\n",
    "    var = \"BS-ESI-I\"\n",
    "    if var in model_variables or all_boolean:\n",
    "        selec = ei_bssi_m_r2[ei_bssi_m_r2.INDIC==var][[\"ID\", \"Value\"]]; selec.columns = [\"ID\", var]\n",
    "        df_in = pd.merge(df_in, selec, on='ID', how=\"inner\")\n",
    "        \n",
    "    # Real Effective Exchange Rate (deflator consumer price indices - 42 trading partners)\n",
    "    var = \"REER42CPI\"\n",
    "    if var in model_variables or all_boolean:\n",
    "        selec = ei_mfef_m[ei_mfef_m.INDIC==var][[\"ID\", \"Value\"]]; selec.columns = [\"ID\", var]\n",
    "        df_in = pd.merge(df_in, selec, on='ID', how=\"inner\")\n",
    "    \n",
    "    ###########################################################################################\n",
    "    \n",
    "    # Dummies\n",
    "    if country_dummies:\n",
    "        countries.remove('PT')\n",
    "        for country in sorted(list(countries)):\n",
    "            df_in[\"D_\"+country] = (df_in.ID.str[-2:] == country).astype(int)\n",
    "\n",
    "    ###########################################################################################\n",
    "\n",
    "    X = df_in.dropna().copy().set_index(\"ID\")\n",
    "    X = X.loc[:, (X != 0).any(axis=0)].copy()\n",
    "    del var, selec, df_in\n",
    "    \n",
    "    ###########################################################################################\n",
    "    \n",
    "    # Save\n",
    "    if version != 0:\n",
    "        X.to_csv(\"./regressions/X\"+version+\".csv\")\n",
    "    \n",
    "    ###########################################################################################\n",
    "    \n",
    "    # Regression\n",
    "    X_mat = sm.add_constant(X.loc[:, X.columns != \"CLV_PCH_SM\"].copy())\n",
    "    y = X.loc[:, \"CLV_PCH_SM\"].copy()\n",
    "    results = sm.OLS(y, X_mat).fit()\n",
    "    print(results.summary())\n",
    "    \n",
    "    return(X, results)"
   ]
  },
  {
   "cell_type": "code",
   "execution_count": 179,
   "metadata": {},
   "outputs": [
    {
     "name": "stdout",
     "output_type": "stream",
     "text": [
      "                            OLS Regression Results                            \n",
      "==============================================================================\n",
      "Dep. Variable:             CLV_PCH_SM   R-squared:                       0.592\n",
      "Model:                            OLS   Adj. R-squared:                  0.580\n",
      "Method:                 Least Squares   F-statistic:                     49.21\n",
      "Date:                Thu, 15 Nov 2018   Prob (F-statistic):          3.24e-169\n",
      "Time:                        12:19:30   Log-Likelihood:                -3026.9\n",
      "No. Observations:                1014   AIC:                             6114.\n",
      "Df Residuals:                     984   BIC:                             6262.\n",
      "Df Model:                          29                                         \n",
      "Covariance Type:            nonrobust                                         \n",
      "==============================================================================\n",
      "                 coef    std err          t      P>|t|      [0.025      0.975]\n",
      "------------------------------------------------------------------------------\n",
      "const        -21.2745      5.508     -3.862      0.000     -32.084     -10.465\n",
      "AT             9.0931      2.506      3.629      0.000       4.176      14.011\n",
      "BE            10.2673      2.249      4.565      0.000       5.853      14.681\n",
      "DE             1.9312      0.517      3.738      0.000       0.917       2.945\n",
      "EE             4.9640      0.637      7.799      0.000       3.715       6.213\n",
      "EL           -27.4360      6.129     -4.477      0.000     -39.463     -15.409\n",
      "ES            -1.8283      0.686     -2.667      0.008      -3.174      -0.483\n",
      "FI             5.0322      1.154      4.359      0.000       2.767       7.298\n",
      "FR             7.2713      1.325      5.490      0.000       4.672       9.871\n",
      "IE             1.6080      3.809      0.422      0.673      -5.867       9.083\n",
      "IT             5.8577      1.117      5.243      0.000       3.665       8.050\n",
      "LV             3.0906      0.981      3.150      0.002       1.165       5.016\n",
      "NL             2.3369      1.534      1.524      0.128      -0.673       5.347\n",
      "PT            -7.6492      2.755     -2.776      0.006     -13.056      -2.242\n",
      "SI            16.4817      5.609      2.939      0.003       5.476      27.488\n",
      "BS-BCI        -0.6754      0.383     -1.761      0.078      -1.428       0.077\n",
      "BS-ESI-I       0.1613      0.027      5.873      0.000       0.107       0.215\n",
      "REER42CPI      0.0763      0.042      1.804      0.071      -0.007       0.159\n",
      "D_AT          -1.8420      0.965     -1.909      0.056      -3.735       0.051\n",
      "D_BE          -2.6523      0.944     -2.810      0.005      -4.504      -0.800\n",
      "D_DE          -1.9616      0.973     -2.017      0.044      -3.870      -0.053\n",
      "D_EE          -0.6740      0.971     -0.694      0.488      -2.580       1.232\n",
      "D_EL          -0.4147      0.930     -0.446      0.656      -2.240       1.410\n",
      "D_ES          -2.5795      0.929     -2.777      0.006      -4.402      -0.757\n",
      "D_FI          -2.9362      0.953     -3.081      0.002      -4.806      -1.066\n",
      "D_FR          -2.4487      0.958     -2.557      0.011      -4.328      -0.570\n",
      "D_IT          -4.8301      0.894     -5.402      0.000      -6.585      -3.075\n",
      "D_LV          -0.0501      0.972     -0.051      0.959      -1.958       1.858\n",
      "D_NL          -2.8968      0.955     -3.032      0.002      -4.772      -1.022\n",
      "D_SI          -0.4102      1.013     -0.405      0.686      -2.398       1.577\n",
      "==============================================================================\n",
      "Omnibus:                      217.262   Durbin-Watson:                   1.842\n",
      "Prob(Omnibus):                  0.000   Jarque-Bera (JB):             1718.943\n",
      "Skew:                           0.751   Prob(JB):                         0.00\n",
      "Kurtosis:                       9.199   Cond. No.                     6.36e+03\n",
      "==============================================================================\n",
      "\n",
      "Warnings:\n",
      "[1] Standard Errors assume that the covariance matrix of the errors is correctly specified.\n",
      "[2] The condition number is large, 6.36e+03. This might indicate that there are\n",
      "strong multicollinearity or other numerical problems.\n"
     ]
    }
   ],
   "source": [
    "X0, X0_results = X(all_boolean=True)"
   ]
  },
  {
   "cell_type": "code",
   "execution_count": 180,
   "metadata": {},
   "outputs": [
    {
     "data": {
      "text/plain": [
       "<matplotlib.axes._subplots.AxesSubplot at 0x7f4f385207f0>"
      ]
     },
     "execution_count": 180,
     "metadata": {},
     "output_type": "execute_result"
    },
    {
     "data": {
      "image/png": "[encoded data removed]",
      "text/plain": [
       "<Figure size 1080x720 with 2 Axes>"
      ]
     },
     "metadata": {
      "needs_background": "light"
     },
     "output_type": "display_data"
    }
   ],
   "source": [
    "f, ax = plt.subplots(figsize=(15,10)) \n",
    "sns.heatmap(X0.corr(), mask=np.zeros_like(X0.corr(), dtype=np.bool),\n",
    "            cmap=sns.diverging_palette(10, 220, as_cmap=True),square=True, ax=ax)"
   ]
  },
  {
   "cell_type": "markdown",
   "metadata": {},
   "source": [
    "<br>"
   ]
  },
  {
   "cell_type": "markdown",
   "metadata": {},
   "source": [
    "# $M$"
   ]
  },
  {
   "cell_type": "code",
   "execution_count": 253,
   "metadata": {},
   "outputs": [],
   "source": [
    "def M():\n",
    "    \n",
    "    df_in = pd.DataFrame(sorted(list(set(namq_10_gdp.ID))), columns=[\"ID\"])\n",
    "\n",
    "    ###########################################################################################\n",
    "    \n",
    "    # Chain linked volumes, percentage change compared to same period in previous year\n",
    "    var = \"CLV_PCH_SM\"\n",
    "    selec = namq_10_gdp[(namq_10_gdp.NA_ITEM==\"P7\")&(namq_10_gdp.UNIT==var)][[\"ID\", \"Value\"]]; selec.columns = [\"ID\", \"M\"]\n",
    "    df_in = pd.merge(df_in, selec, on='ID', how=\"inner\")\n",
    "    \n",
    "    # Cd\n",
    "    selec = namq_10_fcs[(namq_10_fcs.NA_ITEM==\"P311_S14\")&(namq_10_fcs.UNIT==var)][[\"ID\", \"Value\"]]; selec.columns = [\"ID\", \"Cd\"]\n",
    "    df_in = pd.merge(df_in, selec, on='ID', how=\"inner\")\n",
    "    \n",
    "    # Cnd\n",
    "    selec = namq_10_fcs[(namq_10_fcs.NA_ITEM==\"P312N_S14\")&(namq_10_fcs.UNIT==var)][[\"ID\", \"Value\"]]; selec.columns = [\"ID\", \"Cnd\"]\n",
    "    df_in = pd.merge(df_in, selec, on='ID', how=\"inner\")\n",
    "    \n",
    "    # G\n",
    "    selec = namq_10_gdp[(namq_10_gdp.NA_ITEM==\"P3_S13\")&(namq_10_gdp.UNIT==var)][[\"ID\", \"Value\"]]; selec.columns = [\"ID\", \"G\"]\n",
    "    df_in = pd.merge(df_in, selec, on='ID', how=\"inner\")\n",
    "    \n",
    "    # Igfcf\n",
    "    selec = namq_10_gdp[(namq_10_gdp.NA_ITEM==\"P51G\")&(namq_10_gdp.UNIT==var)][[\"ID\", \"Value\"]]; selec.columns = [\"ID\", \"Igfcf\"]\n",
    "    df_in = pd.merge(df_in, selec, on='ID', how=\"inner\")\n",
    "    \n",
    "    # Economic sentiment indicator\n",
    "    var = \"BS-ESI-I\"\n",
    "    selec = ei_bssi_m_r2[ei_bssi_m_r2.INDIC==var][[\"ID\", \"Value\"]]; selec.columns = [\"ID\", var]\n",
    "    df_in = pd.merge(df_in, selec, on='ID', how=\"inner\")\n",
    "    \n",
    "    # Real Effective Exchange Rate (deflator consumer price indices - 42 trading partners)\n",
    "    var = \"REER42CPI\"\n",
    "    selec = ei_mfef_m[ei_mfef_m.INDIC==var][[\"ID\", \"Value\"]]; selec.columns = [\"ID\", var]\n",
    "    df_in = pd.merge(df_in, selec, on='ID', how=\"inner\")\n",
    "    \n",
    "    \n",
    "    #############################################\n",
    "    \n",
    "    # Chain linked volumes, percentage change compared to same period in previous year\n",
    "    var = \"CLV_PCH_PRE\"\n",
    "    selec = namq_10_gdp_lag[(namq_10_gdp_lag.NA_ITEM==\"P7\")&(namq_10_gdp_lag.UNIT==var)][[\"ID\", \"Value\"]]; selec.columns = [\"ID\", \"M\"+\"_qoq\"]\n",
    "    df_in = pd.merge(df_in, selec, on='ID', how=\"inner\")\n",
    "    \n",
    "    # Cd\n",
    "    selec = namq_10_fcs[(namq_10_fcs.NA_ITEM==\"P311_S14\")&(namq_10_fcs.UNIT==var)][[\"ID\", \"Value\"]]; selec.columns = [\"ID\", \"Cd\"+\"_qoq\"]\n",
    "    df_in = pd.merge(df_in, selec, on='ID', how=\"inner\")\n",
    "    \n",
    "    # Cnd\n",
    "    selec = namq_10_fcs[(namq_10_fcs.NA_ITEM==\"P312N_S14\")&(namq_10_fcs.UNIT==var)][[\"ID\", \"Value\"]]; selec.columns = [\"ID\", \"Cnd\"+\"_qoq\"]\n",
    "    df_in = pd.merge(df_in, selec, on='ID', how=\"inner\")\n",
    "    \n",
    "    # G\n",
    "    selec = namq_10_gdp[(namq_10_gdp.NA_ITEM==\"P3_S13\")&(namq_10_gdp.UNIT==var)][[\"ID\", \"Value\"]]; selec.columns = [\"ID\", \"G\"+\"_qoq\"]\n",
    "    df_in = pd.merge(df_in, selec, on='ID', how=\"inner\")\n",
    "    \n",
    "    # Igfcf\n",
    "    selec = namq_10_gdp[(namq_10_gdp.NA_ITEM==\"P51G\")&(namq_10_gdp.UNIT==var)][[\"ID\", \"Value\"]]; selec.columns = [\"ID\", \"Igfcf\"+\"_qoq\"]\n",
    "    df_in = pd.merge(df_in, selec, on='ID', how=\"inner\")\n",
    "    \n",
    "    ###########################################################################################\n",
    "    \n",
    "    # Dummies\n",
    "    countries = set(namq_10_gdp.GEO); countries.remove('PT')\n",
    "    for country in sorted(list(countries)):\n",
    "        df_in[\"D_\"+country] = (df_in.ID.str[-2:] == country).astype(int)\n",
    "    \n",
    "    M = df_in.copy().set_index(\"ID\")\n",
    "    M = M.loc[:, (M != 0).any(axis=0)].copy()\n",
    "    del var, selec, df_in\n",
    "    \n",
    "    ###########################################################################################\n",
    "    \n",
    "    # Save\n",
    "    M.to_csv(\"./regressions/M.csv\")\n",
    "    \n",
    "    ###########################################################################################\n",
    "    \n",
    "    # Regression\n",
    "    X = sm.add_constant(M.loc[:, M.columns != \"M\"].copy())\n",
    "    y = M.loc[:, \"M\"].copy()\n",
    "    results = sm.OLS(y, X).fit()\n",
    "    print(results.summary())\n",
    "    \n",
    "    return(M, results)"
   ]
  },
  {
   "cell_type": "code",
   "execution_count": 254,
   "metadata": {},
   "outputs": [
    {
     "name": "stdout",
     "output_type": "stream",
     "text": [
      "                            OLS Regression Results                            \n",
      "==============================================================================\n",
      "Dep. Variable:                      M   R-squared:                       0.610\n",
      "Model:                            OLS   Adj. R-squared:                  0.603\n",
      "Method:                 Least Squares   F-statistic:                     81.60\n",
      "Date:                Thu, 15 Nov 2018   Prob (F-statistic):          2.01e-313\n",
      "Time:                        13:38:11   Log-Likelihood:                -5268.2\n",
      "No. Observations:                1701   AIC:                         1.060e+04\n",
      "Df Residuals:                    1668   BIC:                         1.078e+04\n",
      "Df Model:                          32                                         \n",
      "Covariance Type:            nonrobust                                         \n",
      "==============================================================================\n",
      "                 coef    std err          t      P>|t|      [0.025      0.975]\n",
      "------------------------------------------------------------------------------\n",
      "const        -18.8739      2.837     -6.654      0.000     -24.438     -13.310\n",
      "Cd             0.1415      0.019      7.490      0.000       0.104       0.179\n",
      "Cnd            0.2092      0.077      2.715      0.007       0.058       0.360\n",
      "G             -0.1163      0.059     -1.970      0.049      -0.232      -0.001\n",
      "Igfcf          0.1982      0.018     11.180      0.000       0.163       0.233\n",
      "BS-ESI-I       0.2314      0.018     12.901      0.000       0.196       0.267\n",
      "REER42CPI     -0.0151      0.023     -0.665      0.506      -0.060       0.030\n",
      "M_qoq          0.5346      0.037     14.571      0.000       0.463       0.607\n",
      "Cd_qoq        -0.0683      0.036     -1.872      0.061      -0.140       0.003\n",
      "Cnd_qoq        0.0898      0.155      0.581      0.562      -0.214       0.393\n",
      "G_qoq          0.3648      0.101      3.602      0.000       0.166       0.564\n",
      "Igfcf_qoq      0.0670      0.024      2.827      0.005       0.021       0.113\n",
      "D_AT          -0.5618      0.869     -0.646      0.518      -2.267       1.143\n",
      "D_BE          -0.6313      0.869     -0.726      0.468      -2.336       1.073\n",
      "D_BG          -0.6481      0.899     -0.721      0.471      -2.412       1.116\n",
      "D_CZ           1.5018      0.900      1.669      0.095      -0.263       3.267\n",
      "D_DE           0.3679      0.870      0.423      0.672      -1.338       2.073\n",
      "D_DK          -0.3666      0.870     -0.422      0.673      -2.073       1.339\n",
      "D_EE          -0.0626      0.873     -0.072      0.943      -1.774       1.649\n",
      "D_EL          -0.1591      0.873     -0.182      0.855      -1.871       1.553\n",
      "D_ES          -0.7949      0.880     -0.904      0.366      -2.520       0.931\n",
      "D_FI          -0.7381      0.870     -0.848      0.396      -2.445       0.969\n",
      "D_FR          -0.9086      0.866     -1.049      0.294      -2.607       0.790\n",
      "D_IT          -1.1441      0.870     -1.316      0.189      -2.850       0.562\n",
      "D_LT           0.6842      0.881      0.776      0.438      -1.044       2.413\n",
      "D_LU           1.5021      0.879      1.710      0.087      -0.221       3.225\n",
      "D_LV          -1.8690      0.883     -2.116      0.034      -3.601      -0.137\n",
      "D_MT          -1.3522      0.925     -1.461      0.144      -3.167       0.463\n",
      "D_NL          -0.1161      0.872     -0.133      0.894      -1.825       1.593\n",
      "D_PL           1.2703      0.882      1.440      0.150      -0.459       3.000\n",
      "D_SE          -1.9203      0.872     -2.202      0.028      -3.630      -0.210\n",
      "D_SI           0.4570      0.868      0.526      0.599      -1.246       2.160\n",
      "D_UK          -1.0904      0.935     -1.166      0.244      -2.925       0.744\n",
      "==============================================================================\n",
      "Omnibus:                      175.430   Durbin-Watson:                   1.715\n",
      "Prob(Omnibus):                  0.000   Jarque-Bera (JB):              783.028\n",
      "Skew:                           0.395   Prob(JB):                    9.28e-171\n",
      "Kurtosis:                       6.229   Cond. No.                     3.43e+03\n",
      "==============================================================================\n",
      "\n",
      "Warnings:\n",
      "[1] Standard Errors assume that the covariance matrix of the errors is correctly specified.\n",
      "[2] The condition number is large, 3.43e+03. This might indicate that there are\n",
      "strong multicollinearity or other numerical problems.\n"
     ]
    }
   ],
   "source": [
    "M0, M0_results = M()"
   ]
  },
  {
   "cell_type": "code",
   "execution_count": 255,
   "metadata": {},
   "outputs": [
    {
     "data": {
      "text/plain": [
       "<matplotlib.axes._subplots.AxesSubplot at 0x7f4f383f4240>"
      ]
     },
     "execution_count": 255,
     "metadata": {},
     "output_type": "execute_result"
    },
    {
     "data": {
      "image/png": "[encoded data removed]",
      "text/plain": [
       "<Figure size 1080x720 with 2 Axes>"
      ]
     },
     "metadata": {
      "needs_background": "light"
     },
     "output_type": "display_data"
    }
   ],
   "source": [
    "f, ax = plt.subplots(figsize=(15,10)) \n",
    "sns.heatmap(M0.corr(), mask=np.zeros_like(M0.corr(), dtype=np.bool),\n",
    "            cmap=sns.diverging_palette(10, 220, as_cmap=True),square=True, ax=ax)"
   ]
  },
  {
   "cell_type": "markdown",
   "metadata": {},
   "source": [
    "<br>"
   ]
  },
  {
   "cell_type": "markdown",
   "metadata": {},
   "source": [
    "____________________"
   ]
  },
  {
   "cell_type": "markdown",
   "metadata": {},
   "source": [
    "<br>"
   ]
  },
  {
   "cell_type": "markdown",
   "metadata": {},
   "source": [
    "# Looking at the Labor Market"
   ]
  },
  {
   "cell_type": "code",
   "execution_count": 256,
   "metadata": {},
   "outputs": [],
   "source": [
    "def LaborMarket():\n",
    "    \n",
    "    df_in = pd.DataFrame(sorted(list(set(namq_10_gdp.ID))), columns=[\"ID\"])\n",
    "\n",
    "    ###########################################################################################\n",
    "    \n",
    "    # Chain linked volumes, percentage change compared to same period in previous year\n",
    "    df_in = pd.DataFrame(sorted(list(set(une_rt_q.ID))), columns=[\"ID\"])\n",
    "    var = \"SA\"\n",
    "    selec = une_rt_q[(une_rt_q.UNIT==\"PC_ACT\")&(une_rt_q.S_ADJ==var)][[\"ID\", \"Value\"]]; selec.columns = [\"ID\", \"U\"]\n",
    "    df_in = pd.merge(df_in, selec, on='ID', how=\"inner\")\n",
    "    \n",
    "    # Cd\n",
    "    var = \"CLV_PCH_SM\"\n",
    "    selec = namq_10_fcs[(namq_10_fcs.NA_ITEM==\"P311_S14\")&(namq_10_fcs.UNIT==var)][[\"ID\", \"Value\"]]; selec.columns = [\"ID\", \"Cd\"]\n",
    "    df_in = pd.merge(df_in, selec, on='ID', how=\"inner\")\n",
    "    \n",
    "    # Cnd\n",
    "    selec = namq_10_fcs[(namq_10_fcs.NA_ITEM==\"P312N_S14\")&(namq_10_fcs.UNIT==var)][[\"ID\", \"Value\"]]; selec.columns = [\"ID\", \"Cnd\"]\n",
    "    df_in = pd.merge(df_in, selec, on='ID', how=\"inner\")\n",
    "    \n",
    "    # G\n",
    "    selec = namq_10_gdp[(namq_10_gdp.NA_ITEM==\"P3_S13\")&(namq_10_gdp.UNIT==var)][[\"ID\", \"Value\"]]; selec.columns = [\"ID\", \"G\"]\n",
    "    df_in = pd.merge(df_in, selec, on='ID', how=\"inner\")\n",
    "    \n",
    "    # Igfcf\n",
    "    selec = namq_10_gdp[(namq_10_gdp.NA_ITEM==\"P51G\")&(namq_10_gdp.UNIT==var)][[\"ID\", \"Value\"]]; selec.columns = [\"ID\", \"Igfcf\"]\n",
    "    df_in = pd.merge(df_in, selec, on='ID', how=\"inner\")\n",
    "    \n",
    "    # Economic sentiment indicator\n",
    "    var = \"BS-ESI-I\"\n",
    "    selec = ei_bssi_m_r2[ei_bssi_m_r2.INDIC==var][[\"ID\", \"Value\"]]; selec.columns = [\"ID\", var]\n",
    "    df_in = pd.merge(df_in, selec, on='ID', how=\"inner\")\n",
    "    \n",
    "    # Real Effective Exchange Rate (deflator consumer price indices - 42 trading partners)\n",
    "    var = \"REER42CPI\"\n",
    "    selec = ei_mfef_m[ei_mfef_m.INDIC==var][[\"ID\", \"Value\"]]; selec.columns = [\"ID\", var]\n",
    "    df_in = pd.merge(df_in, selec, on='ID', how=\"inner\")\n",
    "    \n",
    "    #############################################\n",
    "    \n",
    "    # Chain linked volumes, percentage change compared to same period in previous year\n",
    "    var = \"CLV_PCH_PRE\"\n",
    "    \n",
    "    # Cd\n",
    "    selec = namq_10_fcs[(namq_10_fcs.NA_ITEM==\"P311_S14\")&(namq_10_fcs.UNIT==var)][[\"ID\", \"Value\"]]; selec.columns = [\"ID\", \"Cd\"+\"_qoq\"]\n",
    "    df_in = pd.merge(df_in, selec, on='ID', how=\"inner\")\n",
    "    \n",
    "    # Cnd\n",
    "    selec = namq_10_fcs[(namq_10_fcs.NA_ITEM==\"P312N_S14\")&(namq_10_fcs.UNIT==var)][[\"ID\", \"Value\"]]; selec.columns = [\"ID\", \"Cnd\"+\"_qoq\"]\n",
    "    df_in = pd.merge(df_in, selec, on='ID', how=\"inner\")\n",
    "    \n",
    "    # G\n",
    "    selec = namq_10_gdp[(namq_10_gdp.NA_ITEM==\"P3_S13\")&(namq_10_gdp.UNIT==var)][[\"ID\", \"Value\"]]; selec.columns = [\"ID\", \"G\"+\"_qoq\"]\n",
    "    df_in = pd.merge(df_in, selec, on='ID', how=\"inner\")\n",
    "    \n",
    "    # Igfcf\n",
    "    selec = namq_10_gdp[(namq_10_gdp.NA_ITEM==\"P51G\")&(namq_10_gdp.UNIT==var)][[\"ID\", \"Value\"]]; selec.columns = [\"ID\", \"Igfcf\"+\"_qoq\"]\n",
    "    df_in = pd.merge(df_in, selec, on='ID', how=\"inner\")\n",
    "    \n",
    "    ###########################################################################################\n",
    "    \n",
    "    # Dummies\n",
    "    countries = set(namq_10_gdp.GEO); countries.remove('PT')\n",
    "    for country in sorted(list(countries)):\n",
    "        df_in[\"D_\"+country] = (df_in.ID.str[-2:] == country).astype(int)\n",
    "    \n",
    "    U = df_in.copy().set_index(\"ID\")\n",
    "    U = U.loc[:, (U != 0).any(axis=0)].copy()\n",
    "    del var, selec, df_in\n",
    "    \n",
    "    ###########################################################################################\n",
    "    \n",
    "    # Save\n",
    "    U.to_csv(\"./regressions/U.csv\")\n",
    "    \n",
    "    ###########################################################################################\n",
    "    \n",
    "    # Regression\n",
    "    X = sm.add_constant(U.loc[:, U.columns != \"U\"].copy())\n",
    "    y = U.loc[:, \"U\"].copy()\n",
    "    results = sm.OLS(y, X).fit()\n",
    "    print(results.summary())\n",
    "    \n",
    "    return(U, results)"
   ]
  },
  {
   "cell_type": "code",
   "execution_count": 257,
   "metadata": {},
   "outputs": [
    {
     "name": "stdout",
     "output_type": "stream",
     "text": [
      "                            OLS Regression Results                            \n",
      "==============================================================================\n",
      "Dep. Variable:                      U   R-squared:                       0.646\n",
      "Model:                            OLS   Adj. R-squared:                  0.639\n",
      "Method:                 Least Squares   F-statistic:                     97.66\n",
      "Date:                Thu, 15 Nov 2018   Prob (F-statistic):               0.00\n",
      "Time:                        13:39:23   Log-Likelihood:                -4005.5\n",
      "No. Observations:                1692   AIC:                             8075.\n",
      "Df Residuals:                    1660   BIC:                             8249.\n",
      "Df Model:                          31                                         \n",
      "Covariance Type:            nonrobust                                         \n",
      "==============================================================================\n",
      "                 coef    std err          t      P>|t|      [0.025      0.975]\n",
      "------------------------------------------------------------------------------\n",
      "const         29.1900      1.400     20.857      0.000      26.445      31.935\n",
      "Cd             0.0343      0.009      3.766      0.000       0.016       0.052\n",
      "Cnd           -0.3550      0.038     -9.462      0.000      -0.429      -0.281\n",
      "G             -0.3790      0.029    -13.000      0.000      -0.436      -0.322\n",
      "Igfcf          0.0091      0.009      1.054      0.292      -0.008       0.026\n",
      "BS-ESI-I      -0.0612      0.009     -7.170      0.000      -0.078      -0.044\n",
      "REER42CPI     -0.1275      0.011    -11.326      0.000      -0.150      -0.105\n",
      "Cd_qoq         0.0312      0.018      1.761      0.078      -0.004       0.066\n",
      "Cnd_qoq        0.2823      0.079      3.576      0.000       0.127       0.437\n",
      "G_qoq          0.1177      0.054      2.164      0.031       0.011       0.224\n",
      "Igfcf_qoq      0.0213      0.011      1.862      0.063      -0.001       0.044\n",
      "D_AT          -4.3975      0.419    -10.496      0.000      -5.219      -3.576\n",
      "D_BE          -2.0025      0.419     -4.781      0.000      -2.824      -1.181\n",
      "D_BG           0.8380      0.436      1.920      0.055      -0.018       1.694\n",
      "D_CZ          -4.3146      0.434     -9.937      0.000      -5.166      -3.463\n",
      "D_DE          -2.4106      0.419     -5.753      0.000      -3.233      -1.589\n",
      "D_DK          -4.2723      0.419    -10.193      0.000      -5.094      -3.450\n",
      "D_EE           0.2046      0.427      0.479      0.632      -0.632       1.041\n",
      "D_EL           4.6475      0.421     11.047      0.000       3.822       5.473\n",
      "D_ES           6.4523      0.424     15.220      0.000       5.621       7.284\n",
      "D_FI          -0.8989      0.419     -2.143      0.032      -1.722      -0.076\n",
      "D_FR          -0.3913      0.417     -0.938      0.349      -1.210       0.427\n",
      "D_IT          -0.7222      0.419     -1.723      0.085      -1.544       0.100\n",
      "D_LT           1.3603      0.425      3.202      0.001       0.527       2.194\n",
      "D_LU          -4.4339      0.423    -10.477      0.000      -5.264      -3.604\n",
      "D_LV           2.1865      0.425      5.139      0.000       1.352       3.021\n",
      "D_MT          -3.0677      0.446     -6.878      0.000      -3.943      -2.193\n",
      "D_NL          -4.4644      0.420    -10.630      0.000      -5.288      -3.641\n",
      "D_PL           2.5155      0.425      5.920      0.000       1.682       3.349\n",
      "D_SE          -2.2512      0.420     -5.359      0.000      -3.075      -1.427\n",
      "D_SI          -2.3583      0.418     -5.636      0.000      -3.179      -1.538\n",
      "D_UK          -1.6029      0.455     -3.524      0.000      -2.495      -0.711\n",
      "==============================================================================\n",
      "Omnibus:                      183.554   Durbin-Watson:                   1.872\n",
      "Prob(Omnibus):                  0.000   Jarque-Bera (JB):              483.201\n",
      "Skew:                           0.596   Prob(JB):                    1.19e-105\n",
      "Kurtosis:                       5.331   Cond. No.                     3.46e+03\n",
      "==============================================================================\n",
      "\n",
      "Warnings:\n",
      "[1] Standard Errors assume that the covariance matrix of the errors is correctly specified.\n",
      "[2] The condition number is large, 3.46e+03. This might indicate that there are\n",
      "strong multicollinearity or other numerical problems.\n"
     ]
    }
   ],
   "source": [
    "U0, U0_results = LaborMarket()"
   ]
  },
  {
   "cell_type": "code",
   "execution_count": 37,
   "metadata": {},
   "outputs": [
    {
     "data": {
      "text/plain": [
       "<matplotlib.axes._subplots.AxesSubplot at 0x7f4f392f8860>"
      ]
     },
     "execution_count": 37,
     "metadata": {},
     "output_type": "execute_result"
    },
    {
     "data": {
      "image/png": "[encoded data removed]",
      "text/plain": [
       "<Figure size 1080x720 with 2 Axes>"
      ]
     },
     "metadata": {
      "needs_background": "light"
     },
     "output_type": "display_data"
    }
   ],
   "source": [
    "f, ax = plt.subplots(figsize=(15,10)) \n",
    "sns.heatmap(U0.corr(), mask=np.zeros_like(U0.corr(), dtype=np.bool),\n",
    "            cmap=sns.diverging_palette(10, 220, as_cmap=True),square=True, ax=ax)"
   ]
  },
  {
   "cell_type": "markdown",
   "metadata": {},
   "source": [
    "_______________________"
   ]
  },
  {
   "cell_type": "markdown",
   "metadata": {},
   "source": [
    "# Forecasting 3Q18 GDP for Portugal"
   ]
  },
  {
   "cell_type": "code",
   "execution_count": 38,
   "metadata": {},
   "outputs": [
    {
     "data": {
      "text/html": [
       "<div>\n",
       "<style scoped>\n",
       "    .dataframe tbody tr th:only-of-type {\n",
       "        vertical-align: middle;\n",
       "    }\n",
       "\n",
       "    .dataframe tbody tr th {\n",
       "        vertical-align: top;\n",
       "    }\n",
       "\n",
       "    .dataframe thead th {\n",
       "        text-align: right;\n",
       "    }\n",
       "</style>\n",
       "<table border=\"1\" class=\"dataframe\">\n",
       "  <thead>\n",
       "    <tr style=\"text-align: right;\">\n",
       "      <th></th>\n",
       "      <th>TIME</th>\n",
       "      <th>TIME_LABEL</th>\n",
       "      <th>GEO</th>\n",
       "      <th>GEO_LABEL</th>\n",
       "      <th>UNIT</th>\n",
       "      <th>UNIT_LABEL</th>\n",
       "      <th>S_ADJ</th>\n",
       "      <th>S_ADJ_LABEL</th>\n",
       "      <th>NA_ITEM</th>\n",
       "      <th>NA_ITEM_LABEL</th>\n",
       "      <th>Value</th>\n",
       "      <th>ID</th>\n",
       "    </tr>\n",
       "  </thead>\n",
       "  <tbody>\n",
       "    <tr>\n",
       "      <th>237429</th>\n",
       "      <td>2018Q2</td>\n",
       "      <td>2018Q2</td>\n",
       "      <td>PT</td>\n",
       "      <td>Portugal</td>\n",
       "      <td>CLV10_MEUR</td>\n",
       "      <td>Chain linked volumes (2010), million euro</td>\n",
       "      <td>SCA</td>\n",
       "      <td>Seasonally and calendar adjusted data</td>\n",
       "      <td>B1GQ</td>\n",
       "      <td>Gross domestic product at market prices</td>\n",
       "      <td>46003.5</td>\n",
       "      <td>2018Q2PT</td>\n",
       "    </tr>\n",
       "  </tbody>\n",
       "</table>\n",
       "</div>"
      ],
      "text/plain": [
       "          TIME TIME_LABEL GEO GEO_LABEL        UNIT  \\\n",
       "237429  2018Q2     2018Q2  PT  Portugal  CLV10_MEUR   \n",
       "\n",
       "                                       UNIT_LABEL S_ADJ  \\\n",
       "237429  Chain linked volumes (2010), million euro   SCA   \n",
       "\n",
       "                                  S_ADJ_LABEL NA_ITEM  \\\n",
       "237429  Seasonally and calendar adjusted data    B1GQ   \n",
       "\n",
       "                                  NA_ITEM_LABEL    Value        ID  \n",
       "237429  Gross domestic product at market prices  46003.5  2018Q2PT  "
      ]
     },
     "execution_count": 38,
     "metadata": {},
     "output_type": "execute_result"
    }
   ],
   "source": [
    "namq_10_gdp[((namq_10_gdp.GEO == \"PT\")&(namq_10_gdp.NA_ITEM == \"B1GQ\"))&((namq_10_gdp.TIME_LABEL == \"2018Q2\")&(namq_10_gdp.UNIT == \"CLV10_MEUR\"))]"
   ]
  },
  {
   "cell_type": "markdown",
   "metadata": {},
   "source": [
    "$$y=\\beta \\cdot \\textbf{x}$$"
   ]
  },
  {
   "cell_type": "markdown",
   "metadata": {},
   "source": [
    ">## Consumption in durables, $Cd$"
   ]
  },
  {
   "cell_type": "code",
   "execution_count": 191,
   "metadata": {},
   "outputs": [
    {
     "data": {
      "text/html": [
       "<div>\n",
       "<style scoped>\n",
       "    .dataframe tbody tr th:only-of-type {\n",
       "        vertical-align: middle;\n",
       "    }\n",
       "\n",
       "    .dataframe tbody tr th {\n",
       "        vertical-align: top;\n",
       "    }\n",
       "\n",
       "    .dataframe thead th {\n",
       "        text-align: right;\n",
       "    }\n",
       "</style>\n",
       "<table border=\"1\" class=\"dataframe\">\n",
       "  <thead>\n",
       "    <tr style=\"text-align: right;\">\n",
       "      <th></th>\n",
       "      <th>const</th>\n",
       "      <th>CLV_PCH_PRE</th>\n",
       "      <th>BS-RCI-BAL</th>\n",
       "      <th>BS-SCI-BAL</th>\n",
       "      <th>BS-CSMCI-BAL</th>\n",
       "      <th>C29_C30</th>\n",
       "      <th>SLRTCR03</th>\n",
       "      <th>D_AT</th>\n",
       "      <th>D_BE</th>\n",
       "      <th>D_DE</th>\n",
       "      <th>D_DK</th>\n",
       "      <th>D_EE</th>\n",
       "      <th>D_EL</th>\n",
       "      <th>D_ES</th>\n",
       "      <th>D_FI</th>\n",
       "      <th>D_FR</th>\n",
       "      <th>D_IT</th>\n",
       "      <th>D_LT</th>\n",
       "      <th>D_LV</th>\n",
       "      <th>D_NL</th>\n",
       "      <th>D_PL</th>\n",
       "      <th>D_SE</th>\n",
       "      <th>D_UK</th>\n",
       "    </tr>\n",
       "  </thead>\n",
       "  <tbody>\n",
       "    <tr>\n",
       "      <th>Coef</th>\n",
       "      <td>3.147319</td>\n",
       "      <td>0.920593</td>\n",
       "      <td>0.240165</td>\n",
       "      <td>0.078314</td>\n",
       "      <td>0.101058</td>\n",
       "      <td>-0.0622</td>\n",
       "      <td>0.067025</td>\n",
       "      <td>-1.771927</td>\n",
       "      <td>-0.724232</td>\n",
       "      <td>-0.460436</td>\n",
       "      <td>-2.235386</td>\n",
       "      <td>-1.513896</td>\n",
       "      <td>1.284229</td>\n",
       "      <td>-1.040452</td>\n",
       "      <td>-1.790201</td>\n",
       "      <td>1.279057</td>\n",
       "      <td>-3.210998</td>\n",
       "      <td>7.791485</td>\n",
       "      <td>6.246825</td>\n",
       "      <td>-4.578789</td>\n",
       "      <td>3.514981</td>\n",
       "      <td>-4.135144</td>\n",
       "      <td>0.339626</td>\n",
       "    </tr>\n",
       "    <tr>\n",
       "      <th>2018Q3</th>\n",
       "      <td>1.000000</td>\n",
       "      <td>4.500000</td>\n",
       "      <td>1.100000</td>\n",
       "      <td>16.800000</td>\n",
       "      <td>-1.200000</td>\n",
       "      <td>142.5000</td>\n",
       "      <td>135.703124</td>\n",
       "      <td>0.000000</td>\n",
       "      <td>0.000000</td>\n",
       "      <td>0.000000</td>\n",
       "      <td>0.000000</td>\n",
       "      <td>0.000000</td>\n",
       "      <td>0.000000</td>\n",
       "      <td>0.000000</td>\n",
       "      <td>0.000000</td>\n",
       "      <td>0.000000</td>\n",
       "      <td>0.000000</td>\n",
       "      <td>0.000000</td>\n",
       "      <td>0.000000</td>\n",
       "      <td>0.000000</td>\n",
       "      <td>0.000000</td>\n",
       "      <td>0.000000</td>\n",
       "      <td>0.000000</td>\n",
       "    </tr>\n",
       "  </tbody>\n",
       "</table>\n",
       "</div>"
      ],
      "text/plain": [
       "           const  CLV_PCH_PRE  BS-RCI-BAL  BS-SCI-BAL  BS-CSMCI-BAL   C29_C30  \\\n",
       "Coef    3.147319     0.920593    0.240165    0.078314      0.101058   -0.0622   \n",
       "2018Q3  1.000000     4.500000    1.100000   16.800000     -1.200000  142.5000   \n",
       "\n",
       "          SLRTCR03      D_AT      D_BE      D_DE      D_DK      D_EE  \\\n",
       "Coef      0.067025 -1.771927 -0.724232 -0.460436 -2.235386 -1.513896   \n",
       "2018Q3  135.703124  0.000000  0.000000  0.000000  0.000000  0.000000   \n",
       "\n",
       "            D_EL      D_ES      D_FI      D_FR      D_IT      D_LT      D_LV  \\\n",
       "Coef    1.284229 -1.040452 -1.790201  1.279057 -3.210998  7.791485  6.246825   \n",
       "2018Q3  0.000000  0.000000  0.000000  0.000000  0.000000  0.000000  0.000000   \n",
       "\n",
       "            D_NL      D_PL      D_SE      D_UK  \n",
       "Coef   -4.578789  3.514981 -4.135144  0.339626  \n",
       "2018Q3  0.000000  0.000000  0.000000  0.000000  "
      ]
     },
     "execution_count": 191,
     "metadata": {},
     "output_type": "execute_result"
    }
   ],
   "source": [
    "Cd_pred = pd.DataFrame(Cd3_results.params, columns=[\"Coef\"])\n",
    "Cd_pred[\"2018Q3\"] = 0\n",
    "Cd_pred.at[\"const\":\"SLRTCR03\",\"2018Q3\"] = [1, 4.5, 1.1, 16.8, -1.2, 142.5, 135.703123648508]\n",
    "Cd_pred.transpose()"
   ]
  },
  {
   "cell_type": "code",
   "execution_count": 202,
   "metadata": {},
   "outputs": [
    {
     "name": "stdout",
     "output_type": "stream",
     "text": [
      "Cd_2018Q3: \t 3012.2\n",
      "Cd_g: \t\t 8.98049102374815 %\n",
      "Cd_2018Q3: \t 3282.710350617342 \n",
      "\n"
     ]
    }
   ],
   "source": [
    "Cd_g = (Cd_pred[\"Coef\"]@Cd_pred[\"2018Q3\"])/100; \n",
    "Cd_2017Q3 = 3012.2; Cd_2018Q3 = (1+Cd_g)*Cd_2017Q3\n",
    "print(\"Cd_2018Q3:\", \"\\t\"*1, Cd_2017Q3)\n",
    "print(\"Cd_g:\", \"\\t\"*2, Cd_g*100, \"%\")\n",
    "print(\"Cd_2018Q3:\", \"\\t\"*1, Cd_2018Q3,\"\\n\")"
   ]
  },
  {
   "cell_type": "markdown",
   "metadata": {},
   "source": [
    ">## Consumption in services and semi- and non-durables, $Cnd$"
   ]
  },
  {
   "cell_type": "code",
   "execution_count": 185,
   "metadata": {},
   "outputs": [
    {
     "data": {
      "text/html": [
       "<div>\n",
       "<style scoped>\n",
       "    .dataframe tbody tr th:only-of-type {\n",
       "        vertical-align: middle;\n",
       "    }\n",
       "\n",
       "    .dataframe tbody tr th {\n",
       "        vertical-align: top;\n",
       "    }\n",
       "\n",
       "    .dataframe thead th {\n",
       "        text-align: right;\n",
       "    }\n",
       "</style>\n",
       "<table border=\"1\" class=\"dataframe\">\n",
       "  <thead>\n",
       "    <tr style=\"text-align: right;\">\n",
       "      <th></th>\n",
       "      <th>const</th>\n",
       "      <th>CLV_PCH_PRE</th>\n",
       "      <th>BS-RCI-BAL</th>\n",
       "      <th>BS-SCI-BAL</th>\n",
       "      <th>G47_FOOD</th>\n",
       "      <th>G47_NFOOD_X_G473</th>\n",
       "      <th>LRHUTTTT</th>\n",
       "      <th>D_AT</th>\n",
       "      <th>D_BE</th>\n",
       "      <th>D_DE</th>\n",
       "      <th>D_DK</th>\n",
       "      <th>D_EE</th>\n",
       "      <th>D_EL</th>\n",
       "      <th>D_ES</th>\n",
       "      <th>D_FI</th>\n",
       "      <th>D_FR</th>\n",
       "      <th>D_IT</th>\n",
       "      <th>D_LT</th>\n",
       "      <th>D_LV</th>\n",
       "      <th>D_NL</th>\n",
       "      <th>D_PL</th>\n",
       "      <th>D_SE</th>\n",
       "      <th>D_SI</th>\n",
       "      <th>D_UK</th>\n",
       "    </tr>\n",
       "  </thead>\n",
       "  <tbody>\n",
       "    <tr>\n",
       "      <th>Coef</th>\n",
       "      <td>7.20584</td>\n",
       "      <td>1.480097</td>\n",
       "      <td>0.062225</td>\n",
       "      <td>0.023498</td>\n",
       "      <td>-0.003472</td>\n",
       "      <td>-0.030257</td>\n",
       "      <td>-0.228460</td>\n",
       "      <td>-1.924417</td>\n",
       "      <td>-1.651462</td>\n",
       "      <td>-1.173844</td>\n",
       "      <td>-2.346951</td>\n",
       "      <td>-1.486626</td>\n",
       "      <td>1.22745</td>\n",
       "      <td>1.465982</td>\n",
       "      <td>-1.427706</td>\n",
       "      <td>-1.030429</td>\n",
       "      <td>-1.307774</td>\n",
       "      <td>-0.167179</td>\n",
       "      <td>0.303654</td>\n",
       "      <td>-2.624005</td>\n",
       "      <td>-0.057544</td>\n",
       "      <td>-3.015122</td>\n",
       "      <td>-2.269352</td>\n",
       "      <td>-2.127577</td>\n",
       "    </tr>\n",
       "    <tr>\n",
       "      <th>2018Q3</th>\n",
       "      <td>1.00000</td>\n",
       "      <td>0.000000</td>\n",
       "      <td>1.100000</td>\n",
       "      <td>16.800000</td>\n",
       "      <td>110.000000</td>\n",
       "      <td>111.800000</td>\n",
       "      <td>6.766667</td>\n",
       "      <td>0.000000</td>\n",
       "      <td>0.000000</td>\n",
       "      <td>0.000000</td>\n",
       "      <td>0.000000</td>\n",
       "      <td>0.000000</td>\n",
       "      <td>0.00000</td>\n",
       "      <td>0.000000</td>\n",
       "      <td>0.000000</td>\n",
       "      <td>0.000000</td>\n",
       "      <td>0.000000</td>\n",
       "      <td>0.000000</td>\n",
       "      <td>0.000000</td>\n",
       "      <td>0.000000</td>\n",
       "      <td>0.000000</td>\n",
       "      <td>0.000000</td>\n",
       "      <td>0.000000</td>\n",
       "      <td>0.000000</td>\n",
       "    </tr>\n",
       "  </tbody>\n",
       "</table>\n",
       "</div>"
      ],
      "text/plain": [
       "          const  CLV_PCH_PRE  BS-RCI-BAL  BS-SCI-BAL    G47_FOOD  \\\n",
       "Coef    7.20584     1.480097    0.062225    0.023498   -0.003472   \n",
       "2018Q3  1.00000     0.000000    1.100000   16.800000  110.000000   \n",
       "\n",
       "        G47_NFOOD_X_G473  LRHUTTTT      D_AT      D_BE      D_DE      D_DK  \\\n",
       "Coef           -0.030257 -0.228460 -1.924417 -1.651462 -1.173844 -2.346951   \n",
       "2018Q3        111.800000  6.766667  0.000000  0.000000  0.000000  0.000000   \n",
       "\n",
       "            D_EE     D_EL      D_ES      D_FI      D_FR      D_IT      D_LT  \\\n",
       "Coef   -1.486626  1.22745  1.465982 -1.427706 -1.030429 -1.307774 -0.167179   \n",
       "2018Q3  0.000000  0.00000  0.000000  0.000000  0.000000  0.000000  0.000000   \n",
       "\n",
       "            D_LV      D_NL      D_PL      D_SE      D_SI      D_UK  \n",
       "Coef    0.303654 -2.624005 -0.057544 -3.015122 -2.269352 -2.127577  \n",
       "2018Q3  0.000000  0.000000  0.000000  0.000000  0.000000  0.000000  "
      ]
     },
     "execution_count": 185,
     "metadata": {},
     "output_type": "execute_result"
    }
   ],
   "source": [
    "Cnd_pred = pd.DataFrame(Cnd3_results.params, columns=[\"Coef\"])\n",
    "Cnd_pred[\"2018Q3\"] = 0\n",
    "Cnd_pred.at[\"const\":\"LRHUTTTT\",\"2018Q3\"] = [1, 0, 1.1, 16.8, 110, 111.8, 6.76666666666667]\n",
    "Cnd_pred.transpose()"
   ]
  },
  {
   "cell_type": "code",
   "execution_count": 212,
   "metadata": {},
   "outputs": [
    {
     "name": "stdout",
     "output_type": "stream",
     "text": [
      " Cnd_2017Q3: \t 27599.6 \n",
      " Cnd_g: \t 2.358533881314545 % \n",
      " Cnd_2018Q3: \t 28250.54591710729 \n",
      "\n"
     ]
    }
   ],
   "source": [
    "Cnd_g = (Cnd_pred[\"Coef\"]@Cnd_pred[\"2018Q3\"])/100; \n",
    "Cnd_2017Q3 =  27599.6; Cnd_2018Q3 = (1+Cnd_g)*Cnd_2017Q3\n",
    "print(\" Cnd_2017Q3:\",  \"\\t\"*1, Cnd_2017Q3, \"\\n\", \n",
    "      \"Cnd_g:\", \"\\t\"*1, Cnd_g*100, \"%\", \"\\n\", \n",
    "      \"Cnd_2018Q3:\",  \"\\t\"*1, Cnd_2018Q3, \"\\n\")"
   ]
  },
  {
   "cell_type": "markdown",
   "metadata": {},
   "source": [
    ">## Goverment, $G$"
   ]
  },
  {
   "cell_type": "code",
   "execution_count": 213,
   "metadata": {},
   "outputs": [
    {
     "name": "stdout",
     "output_type": "stream",
     "text": [
      " G_2017Q3: \t 8656.2 \n",
      " G_g: \t\t -0.86575 % \n",
      " G_2018Q3: \t 8581.2589485\n"
     ]
    }
   ],
   "source": [
    "G_g=-0.0086575 ; \n",
    "G_2017Q3 = 8656.2; G_2018Q3 = (1+G_g)*G_2017Q3\n",
    "print(\" G_2017Q3:\", \"\\t\"*1, G_2017Q3, \"\\n\", \n",
    "      \"G_g:\", \"\\t\"*2,G_g*100, \"%\", \"\\n\", \n",
    "      \"G_2018Q3:\", \"\\t\"*1, G_2018Q3)"
   ]
  },
  {
   "cell_type": "markdown",
   "metadata": {},
   "source": [
    ">## Investment - gross fixed capital formation, $Igfcf$"
   ]
  },
  {
   "cell_type": "code",
   "execution_count": 196,
   "metadata": {},
   "outputs": [
    {
     "data": {
      "text/html": [
       "<div>\n",
       "<style scoped>\n",
       "    .dataframe tbody tr th:only-of-type {\n",
       "        vertical-align: middle;\n",
       "    }\n",
       "\n",
       "    .dataframe tbody tr th {\n",
       "        vertical-align: top;\n",
       "    }\n",
       "\n",
       "    .dataframe thead th {\n",
       "        text-align: right;\n",
       "    }\n",
       "</style>\n",
       "<table border=\"1\" class=\"dataframe\">\n",
       "  <thead>\n",
       "    <tr style=\"text-align: right;\">\n",
       "      <th></th>\n",
       "      <th>const</th>\n",
       "      <th>CLV_PCH_PRE</th>\n",
       "      <th>BS-BCI</th>\n",
       "      <th>BS-ICI-BAL</th>\n",
       "      <th>BS-CCI-BAL</th>\n",
       "      <th>B_C_X_MIG_NRG</th>\n",
       "      <th>C29_C30</th>\n",
       "      <th>D_AT</th>\n",
       "      <th>D_BE</th>\n",
       "      <th>D_BG</th>\n",
       "      <th>D_CZ</th>\n",
       "      <th>D_DE</th>\n",
       "      <th>D_DK</th>\n",
       "      <th>D_EE</th>\n",
       "      <th>D_EL</th>\n",
       "      <th>D_ES</th>\n",
       "      <th>D_FI</th>\n",
       "      <th>D_FR</th>\n",
       "      <th>D_HU</th>\n",
       "      <th>D_IT</th>\n",
       "      <th>D_LT</th>\n",
       "      <th>D_LV</th>\n",
       "      <th>D_PL</th>\n",
       "      <th>D_RO</th>\n",
       "      <th>D_SE</th>\n",
       "      <th>D_UK</th>\n",
       "    </tr>\n",
       "  </thead>\n",
       "  <tbody>\n",
       "    <tr>\n",
       "      <th>Coef</th>\n",
       "      <td>17.015294</td>\n",
       "      <td>0.577862</td>\n",
       "      <td>2.040243</td>\n",
       "      <td>0.124242</td>\n",
       "      <td>0.186504</td>\n",
       "      <td>-0.071085</td>\n",
       "      <td>-0.034197</td>\n",
       "      <td>-4.019307</td>\n",
       "      <td>-3.19329</td>\n",
       "      <td>1.727398</td>\n",
       "      <td>-3.30529</td>\n",
       "      <td>-2.198842</td>\n",
       "      <td>-1.565025</td>\n",
       "      <td>-3.763238</td>\n",
       "      <td>-3.679303</td>\n",
       "      <td>-0.648332</td>\n",
       "      <td>-3.096376</td>\n",
       "      <td>-3.191249</td>\n",
       "      <td>-3.431476</td>\n",
       "      <td>-1.863098</td>\n",
       "      <td>1.894395</td>\n",
       "      <td>1.403152</td>\n",
       "      <td>0.718978</td>\n",
       "      <td>-0.280391</td>\n",
       "      <td>-2.518264</td>\n",
       "      <td>-2.340066</td>\n",
       "    </tr>\n",
       "    <tr>\n",
       "      <th>2018Q3</th>\n",
       "      <td>1.000000</td>\n",
       "      <td>1.300000</td>\n",
       "      <td>1.200000</td>\n",
       "      <td>1.100000</td>\n",
       "      <td>-12.400000</td>\n",
       "      <td>104.300000</td>\n",
       "      <td>142.500000</td>\n",
       "      <td>0.000000</td>\n",
       "      <td>0.00000</td>\n",
       "      <td>0.000000</td>\n",
       "      <td>0.00000</td>\n",
       "      <td>0.000000</td>\n",
       "      <td>0.000000</td>\n",
       "      <td>0.000000</td>\n",
       "      <td>0.000000</td>\n",
       "      <td>0.000000</td>\n",
       "      <td>0.000000</td>\n",
       "      <td>0.000000</td>\n",
       "      <td>0.000000</td>\n",
       "      <td>0.000000</td>\n",
       "      <td>0.000000</td>\n",
       "      <td>0.000000</td>\n",
       "      <td>0.000000</td>\n",
       "      <td>0.000000</td>\n",
       "      <td>0.000000</td>\n",
       "      <td>0.000000</td>\n",
       "    </tr>\n",
       "  </tbody>\n",
       "</table>\n",
       "</div>"
      ],
      "text/plain": [
       "            const  CLV_PCH_PRE    BS-BCI  BS-ICI-BAL  BS-CCI-BAL  \\\n",
       "Coef    17.015294     0.577862  2.040243    0.124242    0.186504   \n",
       "2018Q3   1.000000     1.300000  1.200000    1.100000  -12.400000   \n",
       "\n",
       "        B_C_X_MIG_NRG     C29_C30      D_AT     D_BE      D_BG     D_CZ  \\\n",
       "Coef        -0.071085   -0.034197 -4.019307 -3.19329  1.727398 -3.30529   \n",
       "2018Q3     104.300000  142.500000  0.000000  0.00000  0.000000  0.00000   \n",
       "\n",
       "            D_DE      D_DK      D_EE      D_EL      D_ES      D_FI      D_FR  \\\n",
       "Coef   -2.198842 -1.565025 -3.763238 -3.679303 -0.648332 -3.096376 -3.191249   \n",
       "2018Q3  0.000000  0.000000  0.000000  0.000000  0.000000  0.000000  0.000000   \n",
       "\n",
       "            D_HU      D_IT      D_LT      D_LV      D_PL      D_RO      D_SE  \\\n",
       "Coef   -3.431476 -1.863098  1.894395  1.403152  0.718978 -0.280391 -2.518264   \n",
       "2018Q3  0.000000  0.000000  0.000000  0.000000  0.000000  0.000000  0.000000   \n",
       "\n",
       "            D_UK  \n",
       "Coef   -2.340066  \n",
       "2018Q3  0.000000  "
      ]
     },
     "execution_count": 196,
     "metadata": {},
     "output_type": "execute_result"
    }
   ],
   "source": [
    "Igfcf_pred = pd.DataFrame(Igfcf3_results.params, columns=[\"Coef\"])\n",
    "Igfcf_pred[\"2018Q3\"] = 0\n",
    "Igfcf_pred.at[\"const\":\"C29_C30\",\"2018Q3\"] = [1, 1.3, 1.2, 1.1, -12.4, 104.3, 142.5]\n",
    "Igfcf_pred.transpose()"
   ]
  },
  {
   "cell_type": "code",
   "execution_count": 214,
   "metadata": {},
   "outputs": [
    {
     "name": "stdout",
     "output_type": "stream",
     "text": [
      " Igfcf_2017Q3: \t 7772.4 \n",
      " Igfcf_g: \t 5.751676905828375 % \n",
      " Igfcf_2018Q3: \t 8219.443335828604\n"
     ]
    }
   ],
   "source": [
    "Igfcf_g = (Igfcf_pred[\"Coef\"]@Igfcf_pred[\"2018Q3\"])/100; \n",
    "Igfcf_2017Q3 =  7772.4; Igfcf_2018Q3 = (1+Igfcf_g)*Igfcf_2017Q3\n",
    "print(\" Igfcf_2017Q3:\",  \"\\t\"*1, Igfcf_2017Q3, \"\\n\", \n",
    "      \"Igfcf_g:\", \"\\t\"*1, Igfcf_g*100, \"%\", \"\\n\", \n",
    "      \"Igfcf_2018Q3:\",  \"\\t\"*1, Igfcf_2018Q3)"
   ]
  },
  {
   "cell_type": "markdown",
   "metadata": {},
   "source": [
    ">## Exports, $X$\n"
   ]
  },
  {
   "cell_type": "code",
   "execution_count": 198,
   "metadata": {},
   "outputs": [
    {
     "data": {
      "text/html": [
       "<div>\n",
       "<style scoped>\n",
       "    .dataframe tbody tr th:only-of-type {\n",
       "        vertical-align: middle;\n",
       "    }\n",
       "\n",
       "    .dataframe tbody tr th {\n",
       "        vertical-align: top;\n",
       "    }\n",
       "\n",
       "    .dataframe thead th {\n",
       "        text-align: right;\n",
       "    }\n",
       "</style>\n",
       "<table border=\"1\" class=\"dataframe\">\n",
       "  <thead>\n",
       "    <tr style=\"text-align: right;\">\n",
       "      <th></th>\n",
       "      <th>const</th>\n",
       "      <th>AT</th>\n",
       "      <th>BE</th>\n",
       "      <th>DE</th>\n",
       "      <th>EE</th>\n",
       "      <th>EL</th>\n",
       "      <th>ES</th>\n",
       "      <th>FI</th>\n",
       "      <th>FR</th>\n",
       "      <th>IE</th>\n",
       "      <th>IT</th>\n",
       "      <th>LV</th>\n",
       "      <th>NL</th>\n",
       "      <th>PT</th>\n",
       "      <th>SI</th>\n",
       "      <th>BS-BCI</th>\n",
       "      <th>BS-ESI-I</th>\n",
       "      <th>REER42CPI</th>\n",
       "      <th>D_AT</th>\n",
       "      <th>D_BE</th>\n",
       "      <th>D_DE</th>\n",
       "      <th>D_EE</th>\n",
       "      <th>D_EL</th>\n",
       "      <th>D_ES</th>\n",
       "      <th>D_FI</th>\n",
       "      <th>D_FR</th>\n",
       "      <th>D_IT</th>\n",
       "      <th>D_LV</th>\n",
       "      <th>D_NL</th>\n",
       "      <th>D_SI</th>\n",
       "    </tr>\n",
       "  </thead>\n",
       "  <tbody>\n",
       "    <tr>\n",
       "      <th>Coef</th>\n",
       "      <td>-21.274507</td>\n",
       "      <td>9.093129</td>\n",
       "      <td>10.267317</td>\n",
       "      <td>1.9312</td>\n",
       "      <td>4.964037</td>\n",
       "      <td>-27.436006</td>\n",
       "      <td>-1.828298</td>\n",
       "      <td>5.032173</td>\n",
       "      <td>7.271288</td>\n",
       "      <td>1.608045</td>\n",
       "      <td>5.857726</td>\n",
       "      <td>3.090625</td>\n",
       "      <td>2.336898</td>\n",
       "      <td>-7.649158</td>\n",
       "      <td>16.481661</td>\n",
       "      <td>-0.675378</td>\n",
       "      <td>0.161306</td>\n",
       "      <td>0.076321</td>\n",
       "      <td>-1.842017</td>\n",
       "      <td>-2.652253</td>\n",
       "      <td>-1.961596</td>\n",
       "      <td>-0.673996</td>\n",
       "      <td>-0.41474</td>\n",
       "      <td>-2.57949</td>\n",
       "      <td>-2.936153</td>\n",
       "      <td>-2.448661</td>\n",
       "      <td>-4.830127</td>\n",
       "      <td>-0.050057</td>\n",
       "      <td>-2.896814</td>\n",
       "      <td>-0.410168</td>\n",
       "    </tr>\n",
       "    <tr>\n",
       "      <th>2018Q3</th>\n",
       "      <td>1.000000</td>\n",
       "      <td>0.026000</td>\n",
       "      <td>0.014000</td>\n",
       "      <td>0.0120</td>\n",
       "      <td>0.037000</td>\n",
       "      <td>0.018000</td>\n",
       "      <td>0.025000</td>\n",
       "      <td>0.025000</td>\n",
       "      <td>0.015000</td>\n",
       "      <td>0.091000</td>\n",
       "      <td>0.008000</td>\n",
       "      <td>0.044000</td>\n",
       "      <td>0.023000</td>\n",
       "      <td>0.024000</td>\n",
       "      <td>0.043000</td>\n",
       "      <td>1.200000</td>\n",
       "      <td>112.100000</td>\n",
       "      <td>100.940000</td>\n",
       "      <td>0.000000</td>\n",
       "      <td>0.000000</td>\n",
       "      <td>0.000000</td>\n",
       "      <td>0.000000</td>\n",
       "      <td>0.00000</td>\n",
       "      <td>0.00000</td>\n",
       "      <td>0.000000</td>\n",
       "      <td>0.000000</td>\n",
       "      <td>0.000000</td>\n",
       "      <td>0.000000</td>\n",
       "      <td>0.000000</td>\n",
       "      <td>0.000000</td>\n",
       "    </tr>\n",
       "  </tbody>\n",
       "</table>\n",
       "</div>"
      ],
      "text/plain": [
       "            const        AT         BE      DE        EE         EL        ES  \\\n",
       "Coef   -21.274507  9.093129  10.267317  1.9312  4.964037 -27.436006 -1.828298   \n",
       "2018Q3   1.000000  0.026000   0.014000  0.0120  0.037000   0.018000  0.025000   \n",
       "\n",
       "              FI        FR        IE        IT        LV        NL        PT  \\\n",
       "Coef    5.032173  7.271288  1.608045  5.857726  3.090625  2.336898 -7.649158   \n",
       "2018Q3  0.025000  0.015000  0.091000  0.008000  0.044000  0.023000  0.024000   \n",
       "\n",
       "               SI    BS-BCI    BS-ESI-I   REER42CPI      D_AT      D_BE  \\\n",
       "Coef    16.481661 -0.675378    0.161306    0.076321 -1.842017 -2.652253   \n",
       "2018Q3   0.043000  1.200000  112.100000  100.940000  0.000000  0.000000   \n",
       "\n",
       "            D_DE      D_EE     D_EL     D_ES      D_FI      D_FR      D_IT  \\\n",
       "Coef   -1.961596 -0.673996 -0.41474 -2.57949 -2.936153 -2.448661 -4.830127   \n",
       "2018Q3  0.000000  0.000000  0.00000  0.00000  0.000000  0.000000  0.000000   \n",
       "\n",
       "            D_LV      D_NL      D_SI  \n",
       "Coef   -0.050057 -2.896814 -0.410168  \n",
       "2018Q3  0.000000  0.000000  0.000000  "
      ]
     },
     "execution_count": 198,
     "metadata": {},
     "output_type": "execute_result"
    }
   ],
   "source": [
    "X_pred = pd.DataFrame(X0_results.params, columns=[\"Coef\"])\n",
    "X_pred[\"2018Q3\"] = 0\n",
    "X_pred.at[\"const\", \"2018Q3\"] = 1\n",
    "X_pred.at[\"AT\":\"SI\", \"2018Q3\"] = [ECB_gdp_yoy_3q_g[i] for i in sorted(ECB_gdp_yoy_3q_g.keys())]\n",
    "X_pred.at[\"BS-BCI\":\"REER42CPI\", \"2018Q3\"] = [1.2, 112.1, 100.94]\n",
    "X_pred.transpose()"
   ]
  },
  {
   "cell_type": "markdown",
   "metadata": {},
   "source": [
    "$$z_{2018Q3} = (1+g) \\cdot z_{2017Q3}$$"
   ]
  },
  {
   "cell_type": "code",
   "execution_count": 216,
   "metadata": {},
   "outputs": [
    {
     "name": "stdout",
     "output_type": "stream",
     "text": [
      " X_2017Q3: \t 19659.4 \n",
      " X_g: \t\t 4.891743393744245 % \n",
      " X_2018Q3: \t 20621.08740074976\n"
     ]
    }
   ],
   "source": [
    "X_g = (X_pred[\"Coef\"]@X_pred[\"2018Q3\"])/100;\n",
    "X_2017Q3 = 19659.4; X_2018Q3 = (1+X_g)*X_2017Q3\n",
    "print(\" X_2017Q3:\", \"\\t\"*1, X_2017Q3, \"\\n\", \n",
    "      \"X_g:\", \"\\t\"*2,X_g*100, \"%\", \"\\n\", \n",
    "      \"X_2018Q3:\", \"\\t\"*1, X_2018Q3)"
   ]
  },
  {
   "cell_type": "markdown",
   "metadata": {},
   "source": [
    ">## Imports: $M$"
   ]
  },
  {
   "cell_type": "code",
   "execution_count": 260,
   "metadata": {},
   "outputs": [],
   "source": [
    "Cd_2018Q2 = 3213.3; Cnd_2018Q2 = 28218.2; \n",
    "G_2018Q2 = 8718.1; Igfcf_2018Q2 = 8021.4; \n",
    "Cd_qoq = (Cd_2018Q3/Cd_2018Q2-1)*100\n",
    "Cnd_qoq = (Cnd_2018Q3/Cnd_2018Q2-1)*100\n",
    "G_qoq = (G_2018Q3/G_2018Q2-1)*100\n",
    "Igfcf_qoq = (Igfcf_2018Q3/Igfcf_2018Q2-1)*100"
   ]
  },
  {
   "cell_type": "code",
   "execution_count": 261,
   "metadata": {},
   "outputs": [
    {
     "data": {
      "text/html": [
       "<div>\n",
       "<style scoped>\n",
       "    .dataframe tbody tr th:only-of-type {\n",
       "        vertical-align: middle;\n",
       "    }\n",
       "\n",
       "    .dataframe tbody tr th {\n",
       "        vertical-align: top;\n",
       "    }\n",
       "\n",
       "    .dataframe thead th {\n",
       "        text-align: right;\n",
       "    }\n",
       "</style>\n",
       "<table border=\"1\" class=\"dataframe\">\n",
       "  <thead>\n",
       "    <tr style=\"text-align: right;\">\n",
       "      <th></th>\n",
       "      <th>const</th>\n",
       "      <th>Cd</th>\n",
       "      <th>Cnd</th>\n",
       "      <th>G</th>\n",
       "      <th>Igfcf</th>\n",
       "      <th>BS-ESI-I</th>\n",
       "      <th>REER42CPI</th>\n",
       "      <th>M_qoq</th>\n",
       "      <th>Cd_qoq</th>\n",
       "      <th>Cnd_qoq</th>\n",
       "      <th>G_qoq</th>\n",
       "      <th>Igfcf_qoq</th>\n",
       "      <th>D_AT</th>\n",
       "      <th>D_BE</th>\n",
       "      <th>D_BG</th>\n",
       "      <th>D_CZ</th>\n",
       "      <th>D_DE</th>\n",
       "      <th>D_DK</th>\n",
       "      <th>D_EE</th>\n",
       "      <th>D_EL</th>\n",
       "      <th>D_ES</th>\n",
       "      <th>D_FI</th>\n",
       "      <th>D_FR</th>\n",
       "      <th>D_IT</th>\n",
       "      <th>D_LT</th>\n",
       "      <th>D_LU</th>\n",
       "      <th>D_LV</th>\n",
       "      <th>D_MT</th>\n",
       "      <th>D_NL</th>\n",
       "      <th>D_PL</th>\n",
       "      <th>D_SE</th>\n",
       "      <th>D_SI</th>\n",
       "      <th>D_UK</th>\n",
       "    </tr>\n",
       "  </thead>\n",
       "  <tbody>\n",
       "    <tr>\n",
       "      <th>Coef</th>\n",
       "      <td>-18.873939</td>\n",
       "      <td>0.141499</td>\n",
       "      <td>0.209155</td>\n",
       "      <td>-0.11627</td>\n",
       "      <td>0.198150</td>\n",
       "      <td>0.231405</td>\n",
       "      <td>-0.015137</td>\n",
       "      <td>0.53455</td>\n",
       "      <td>-0.068266</td>\n",
       "      <td>0.089757</td>\n",
       "      <td>0.364832</td>\n",
       "      <td>0.066998</td>\n",
       "      <td>-0.561796</td>\n",
       "      <td>-0.631318</td>\n",
       "      <td>-0.648137</td>\n",
       "      <td>1.501758</td>\n",
       "      <td>0.367918</td>\n",
       "      <td>-0.366633</td>\n",
       "      <td>-0.062612</td>\n",
       "      <td>-0.159122</td>\n",
       "      <td>-0.794927</td>\n",
       "      <td>-0.738089</td>\n",
       "      <td>-0.908602</td>\n",
       "      <td>-1.144114</td>\n",
       "      <td>0.68425</td>\n",
       "      <td>1.502058</td>\n",
       "      <td>-1.869001</td>\n",
       "      <td>-1.352216</td>\n",
       "      <td>-0.116122</td>\n",
       "      <td>1.270327</td>\n",
       "      <td>-1.920306</td>\n",
       "      <td>0.456964</td>\n",
       "      <td>-1.090374</td>\n",
       "    </tr>\n",
       "    <tr>\n",
       "      <th>2018Q3</th>\n",
       "      <td>1.000000</td>\n",
       "      <td>8.980491</td>\n",
       "      <td>2.358534</td>\n",
       "      <td>-0.86575</td>\n",
       "      <td>5.751677</td>\n",
       "      <td>112.100000</td>\n",
       "      <td>100.940000</td>\n",
       "      <td>2.00000</td>\n",
       "      <td>2.160096</td>\n",
       "      <td>0.114628</td>\n",
       "      <td>-1.569620</td>\n",
       "      <td>2.468937</td>\n",
       "      <td>0.000000</td>\n",
       "      <td>0.000000</td>\n",
       "      <td>0.000000</td>\n",
       "      <td>0.000000</td>\n",
       "      <td>0.000000</td>\n",
       "      <td>0.000000</td>\n",
       "      <td>0.000000</td>\n",
       "      <td>0.000000</td>\n",
       "      <td>0.000000</td>\n",
       "      <td>0.000000</td>\n",
       "      <td>0.000000</td>\n",
       "      <td>0.000000</td>\n",
       "      <td>0.00000</td>\n",
       "      <td>0.000000</td>\n",
       "      <td>0.000000</td>\n",
       "      <td>0.000000</td>\n",
       "      <td>0.000000</td>\n",
       "      <td>0.000000</td>\n",
       "      <td>0.000000</td>\n",
       "      <td>0.000000</td>\n",
       "      <td>0.000000</td>\n",
       "    </tr>\n",
       "  </tbody>\n",
       "</table>\n",
       "</div>"
      ],
      "text/plain": [
       "            const        Cd       Cnd        G     Igfcf    BS-ESI-I  \\\n",
       "Coef   -18.873939  0.141499  0.209155 -0.11627  0.198150    0.231405   \n",
       "2018Q3   1.000000  8.980491  2.358534 -0.86575  5.751677  112.100000   \n",
       "\n",
       "         REER42CPI    M_qoq    Cd_qoq   Cnd_qoq     G_qoq  Igfcf_qoq  \\\n",
       "Coef     -0.015137  0.53455 -0.068266  0.089757  0.364832   0.066998   \n",
       "2018Q3  100.940000  2.00000  2.160096  0.114628 -1.569620   2.468937   \n",
       "\n",
       "            D_AT      D_BE      D_BG      D_CZ      D_DE      D_DK      D_EE  \\\n",
       "Coef   -0.561796 -0.631318 -0.648137  1.501758  0.367918 -0.366633 -0.062612   \n",
       "2018Q3  0.000000  0.000000  0.000000  0.000000  0.000000  0.000000  0.000000   \n",
       "\n",
       "            D_EL      D_ES      D_FI      D_FR      D_IT     D_LT      D_LU  \\\n",
       "Coef   -0.159122 -0.794927 -0.738089 -0.908602 -1.144114  0.68425  1.502058   \n",
       "2018Q3  0.000000  0.000000  0.000000  0.000000  0.000000  0.00000  0.000000   \n",
       "\n",
       "            D_LV      D_MT      D_NL      D_PL      D_SE      D_SI      D_UK  \n",
       "Coef   -1.869001 -1.352216 -0.116122  1.270327 -1.920306  0.456964 -1.090374  \n",
       "2018Q3  0.000000  0.000000  0.000000  0.000000  0.000000  0.000000  0.000000  "
      ]
     },
     "execution_count": 261,
     "metadata": {},
     "output_type": "execute_result"
    }
   ],
   "source": [
    "M_pred = pd.DataFrame(M0_results.params, columns=[\"Coef\"])\n",
    "M_pred[\"2018Q3\"] = 0\n",
    "M_pred.at[\"const\":\"Igfcf_qoq\", \"2018Q3\"] = [1, Cd_g*100, Cnd_g*100, G_g*100, Igfcf_g*100, 112.1, 100.94, \n",
    "                                            2, Cd_qoq, Cnd_qoq, G_qoq, Igfcf_qoq]\n",
    "M_pred.transpose()"
   ]
  },
  {
   "cell_type": "code",
   "execution_count": 264,
   "metadata": {},
   "outputs": [
    {
     "name": "stdout",
     "output_type": "stream",
     "text": [
      " M_2017Q3: \t 20669.1 \n",
      " M_g: \t\t 9.06774892056324 % \n",
      " M_2018Q3: \t 22543.322092140133\n"
     ]
    }
   ],
   "source": [
    "M_g = (M_pred[\"Coef\"]@M_pred[\"2018Q3\"])/100;\n",
    "M_2017Q3 = 20669.1; M_2018Q3 = (1+M_g)*M_2017Q3\n",
    "print(\" M_2017Q3:\", \"\\t\"*1, M_2017Q3, \"\\n\", \n",
    "      \"M_g:\", \"\\t\"*2,M_g*100, \"%\", \"\\n\", \n",
    "      \"M_2018Q3:\", \"\\t\"*1, M_2018Q3)"
   ]
  },
  {
   "cell_type": "markdown",
   "metadata": {},
   "source": [
    "_______________"
   ]
  },
  {
   "cell_type": "markdown",
   "metadata": {},
   "source": [
    ">## GDP Net Inventories: $GDP-Ii$"
   ]
  },
  {
   "cell_type": "code",
   "execution_count": 273,
   "metadata": {},
   "outputs": [
    {
     "name": "stdout",
     "output_type": "stream",
     "text": [
      " GDP_2017Q3: \t 45183.7 \n",
      " GDP_g: \t 3.5925107710399473 % \n",
      " GDP_2018Q3: \t 46806.929289254374\n"
     ]
    }
   ],
   "source": [
    "Ii2017Q3 = 8153.9-7772.4\n",
    "GDP_2017Q3 = 45183.7\n",
    "GDPnIi_2017Q3 = GDP_2017Q3-Ii2017Q3\n",
    "GDPnIi_2018Q3 = Cd_2018Q3+Cnd_2018Q3+Igfcf_2018Q3+G_2018Q3+(X_2018Q3-M_2018Q3)\n",
    "GDP_g = GDPnIi_2018Q3/GDPnIi_2017Q3-1\n",
    "Ii2018Q3 = Ii2017Q3*(1+GDP_g)\n",
    "GDP_2018Q3 = GDPnIi_2018Q3+Ii2018Q3\n",
    "print(\" GDP_2017Q3:\", \"\\t\"*1, GDP_2017Q3, \"\\n\", \n",
    "      \"GDP_g:\", \"\\t\"*1,GDP_g*100, \"%\", \"\\n\", \n",
    "      \"GDP_2018Q3:\", \"\\t\"*1, GDP_2018Q3)"
   ]
  },
  {
   "cell_type": "markdown",
   "metadata": {},
   "source": [
    "___________"
   ]
  },
  {
   "cell_type": "markdown",
   "metadata": {},
   "source": [
    "# Prepare data for Novelties"
   ]
  },
  {
   "cell_type": "code",
   "execution_count": null,
   "metadata": {},
   "outputs": [],
   "source": [
    "# namq_10_gdp\n",
    "selec = namq_10_gdp[(namq_10_gdp.GEO == \"PT\") & (namq_10_gdp.UNIT == \"CLV10_MEUR\")]\n",
    "for item in list(set(selec.NA_ITEM)):\n",
    "    selec[selec.NA_ITEM==item][[\"TIME\", \"Value\"]].to_csv(\"R/\"+item+\".csv\", index=False)\n",
    "##\n",
    "\n",
    "# namq_10_fcs"
   ]
  },
  {
   "cell_type": "markdown",
   "metadata": {},
   "source": [
    "<br>"
   ]
  }
 ],
 "metadata": {
  "kernelspec": {
   "display_name": "Python 3",
   "language": "python",
   "name": "python3"
  },
  "language_info": {
   "codemirror_mode": {
    "name": "ipython",
    "version": 3
   },
   "file_extension": ".py",
   "mimetype": "text/x-python",
   "name": "python",
   "nbconvert_exporter": "python",
   "pygments_lexer": "ipython3",
   "version": "3.6.6"
  }
 },
 "nbformat": 4,
 "nbformat_minor": 2
}
