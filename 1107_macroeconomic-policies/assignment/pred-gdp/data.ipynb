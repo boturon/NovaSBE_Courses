{
 "cells": [
  {
   "cell_type": "code",
   "execution_count": 3,
   "metadata": {},
   "outputs": [],
   "source": [
    "import os\n",
    "import itertools\n",
    "import numpy as np\n",
    "import pandas as pd\n",
    "import seaborn as sns\n",
    "import statsmodels.api as sm\n",
    "import matplotlib.pyplot as plt\n",
    "pd.set_option('max_colwidth', 100)\n",
    "pd.set_option('display.max_rows', 20)"
   ]
  },
  {
   "cell_type": "markdown",
   "metadata": {},
   "source": [
    "<br>"
   ]
  },
  {
   "cell_type": "markdown",
   "metadata": {},
   "source": [
    "# Functions"
   ]
  },
  {
   "cell_type": "code",
   "execution_count": 4,
   "metadata": {},
   "outputs": [],
   "source": [
    "def M2Q(df_in):\n",
    "    d = {\"M03\":\"Q1\", \"M06\":\"Q2\", \"M09\":\"Q3\", \"M12\":\"Q4\"}\n",
    "    df_out = df_in[df_in['TIME'].apply(lambda x: x[-3:] in list(d.keys()))].copy()\n",
    "    df_out.TIME = df_out['TIME'].apply(lambda x: x[:4]+d[x[-3:]]).copy()\n",
    "    return(df_out)\n",
    "\n",
    "def Qp1(df_in):\n",
    "    d = {\"Q1\":\"Q2\", \"Q2\":\"Q3\", \"Q3\":\"Q4\", \"Q4\":\"Q1\"}\n",
    "    df_out = df_in.copy()\n",
    "    df_out.TIME = df_out['TIME'].apply(lambda x: str(int(x[:-2])+1)+d[x[-2:]] if x[-1:] == \"4\" else x[:-2]+d[x[-2:]]).copy()\n",
    "    return(df_out)"
   ]
  },
  {
   "cell_type": "markdown",
   "metadata": {},
   "source": [
    "<br>"
   ]
  },
  {
   "cell_type": "markdown",
   "metadata": {},
   "source": [
    "# Data"
   ]
  },
  {
   "cell_type": "code",
   "execution_count": 5,
   "metadata": {},
   "outputs": [],
   "source": [
    "path = \"./data/csvs/\"\n",
    "!sed -i \"s/://g\" ./data/*"
   ]
  },
  {
   "cell_type": "markdown",
   "metadata": {},
   "source": [
    "#!head -n 1 data/une_rt_q_Label.csv"
   ]
  },
  {
   "cell_type": "markdown",
   "metadata": {},
   "source": [
    ">## Quarterly"
   ]
  },
  {
   "cell_type": "code",
   "execution_count": 6,
   "metadata": {},
   "outputs": [],
   "source": [
    "# DATASET Construction - quarterly data - index (2015 = 100) (NACE Rev. 2) [ei_isbu_q]\n",
    "ei_isbu_q = pd.read_csv(\"./data/ei_isbu_q_1_Data.csv\", low_memory=False, usecols=lambda x: x not in [\"Flag and Footnotes\"]).dropna()\n",
    "ei_isbu_q_lag = Qp1(ei_isbu_q.copy())\n",
    "\n",
    "# DATASET Final consumption aggregates [namq_10_fcs]\n",
    "namq_10_fcs = pd.read_csv(\"./data/namq_10_fcs_1_Data.csv\", low_memory=False, usecols=lambda x: x not in [\"Flag and Footnotes\"]).dropna()\n",
    "namq_10_fcs_lag = Qp1(namq_10_fcs.copy())\n",
    "\n",
    "# DATASET: GDP and main components  (output, expenditure and income) [namq_10_gdp]\n",
    "namq_10_gdp = pd.read_csv(\"./data/namq_10_gdp_1_Data.csv\", low_memory=False, usecols=lambda x: x not in [\"Flag and Footnotes\"]).dropna()\n",
    "namq_10_gdp_lag = Qp1(namq_10_gdp.copy())\n",
    "\n",
    "# DATASET Building permits - quarterly data [sts_cobp_q]\n",
    "sts_cobp_q = pd.read_csv(\"./data/sts_cobp_q_1_Data.csv\", low_memory=False, usecols=lambda x: x not in [\"Flag and Footnotes\"]).dropna()\n",
    "sts_cobp_q_lag = Qp1(sts_cobp_q.copy())\n",
    "\n",
    "# DATASET Production in construction - quarterly data [sts_copr_q]\n",
    "sts_copr_q = pd.read_csv(\"./data/sts_copr_q_1_Data.csv\", low_memory=False, usecols=lambda x: x not in [\"Flag and Footnotes\"]).dropna()\n",
    "sts_copr_q_lag = Qp1(sts_copr_q.copy())\n",
    "\n",
    "# DATASET Production in industry - quarterly data [sts_inpr_q]\n",
    "sts_inpr_q = pd.read_csv(\"./data/sts_inpr_q_1_Data.csv\", low_memory=False, usecols=lambda x: x not in [\"Flag and Footnotes\"]).dropna()\n",
    "sts_inpr_q_lag = Qp1(sts_inpr_q.copy())\n",
    "\n",
    "# DATASET Turnover in industry, total - quarterly data [sts_intv_q]\n",
    "sts_intv_q = pd.read_csv(\"./data/sts_intv_q_1_Data.csv\", low_memory=False, usecols=lambda x: x not in [\"Flag and Footnotes\"]).dropna()\n",
    "sts_intv_q_lag = Qp1(sts_intv_q.copy())\n",
    "\n",
    "# DATASET Turnover and volume of sales in wholesale and retail trade - quarterly data [sts_trtu_q]\n",
    "sts_trtu_q = pd.read_csv(\"./data/sts_trtu_q_1_Data.csv\", low_memory=False, usecols=lambda x: x not in [\"Flag and Footnotes\"]).dropna()\n",
    "sts_trtu_q_lag = Qp1(sts_trtu_q.copy())\n",
    "\n",
    "# DATASET: Unemployment by sex and age - quarterly average [une_rt_q]\n",
    "une_rt_q = pd.read_csv(\"./data/une_rt_q_1_Data.csv\", low_memory=False, usecols=lambda x: x not in [\"Flag and Footnotes\"]).dropna()\n",
    "une_rt_q_lag = Qp1(une_rt_q.copy())"
   ]
  },
  {
   "cell_type": "markdown",
   "metadata": {},
   "source": [
    ">## Monthly"
   ]
  },
  {
   "cell_type": "code",
   "execution_count": 7,
   "metadata": {},
   "outputs": [],
   "source": [
    "# DATASET Euro-zone Business Climate Indicator - monthly data [ei_bsci_m_r2]\n",
    "ei_bsci_m_r2_1 = M2Q(pd.read_csv(\"./data/ei_bsci_m_r2_1_Data.csv\", low_memory=False, usecols=lambda x: x not in [\"Flag and Footnotes\"]).dropna())\n",
    "\n",
    "# DATASET Sentiment indicators - monthly data [ei_bssi_m_r2]\n",
    "ei_bssi_m_r2 = M2Q(pd.read_csv(\"./data/ei_bssi_m_r2_1_Data.csv\", low_memory=False, usecols=lambda x: x not in [\"Flag and Footnotes\"]).dropna())\n",
    "\n",
    "# DATASET Effective exchange rates indices - monthly data [ei_mfef_m]\n",
    "ei_mfef_m = M2Q(pd.read_csv(\"./data/ei_mfef_m_1_Data.csv\", low_memory=False, usecols=lambda x: x not in [\"Flag and Footnotes\"]).dropna())"
   ]
  },
  {
   "cell_type": "markdown",
   "metadata": {},
   "source": [
    "**Dealing with ids:**"
   ]
  },
  {
   "cell_type": "code",
   "execution_count": 9,
   "metadata": {},
   "outputs": [],
   "source": [
    "for df in [ei_isbu_q, ei_isbu_q_lag, namq_10_fcs, namq_10_fcs_lag, namq_10_gdp, \n",
    "           namq_10_gdp_lag, sts_cobp_q, sts_cobp_q_lag, sts_copr_q, sts_copr_q_lag, \n",
    "           sts_inpr_q, sts_inpr_q_lag, sts_intv_q, sts_intv_q_lag, sts_trtu_q, \n",
    "           sts_trtu_q_lag, ei_isbu_q, ei_isbu_q_lag, namq_10_fcs, namq_10_fcs_lag, \n",
    "           namq_10_gdp, namq_10_gdp_lag, sts_cobp_q, sts_cobp_q_lag, sts_copr_q, sts_copr_q_lag, \n",
    "           sts_inpr_q, sts_inpr_q_lag, sts_intv_q, sts_intv_q_lag, sts_trtu_q, sts_trtu_q_lag, ei_bsci_m_r2_1, ei_bssi_m_r2, ei_mfef_m, une_rt_q]:\n",
    "    df[\"ID\"] = df[\"TIME\"]+df[\"GEO\"]\n",
    "    df.Value = df.Value.replace(regex=r'[,]+', value='').astype(np.float)"
   ]
  },
  {
   "cell_type": "markdown",
   "metadata": {},
   "source": [
    "># OECD"
   ]
  },
  {
   "cell_type": "code",
   "execution_count": 10,
   "metadata": {},
   "outputs": [],
   "source": [
    "def OECD():\n",
    "    GEO_LABEL2GEO = dict(zip(namq_10_gdp.GEO_LABEL.values, namq_10_gdp.GEO.values)); GEO_LABEL2GEO[\"Germany\"] = \"DE\"\n",
    "    df_in = pd.read_csv(\"data/KEI_13112018143436794_[v1-oecd].csv\")\n",
    "    df_in[\"GEO\"] = df_in.Country.map(GEO_LABEL2GEO)\n",
    "    df_in = df_in[df_in.GEO.notnull()]\n",
    "    df_in[\"ID\"] = df_in.TIME.str[:4]+df_in.TIME.str[-2:]+df_in.GEO\n",
    "    return(df_in)"
   ]
  },
  {
   "cell_type": "code",
   "execution_count": 13,
   "metadata": {},
   "outputs": [
    {
     "ename": "TypeError",
     "evalue": "'DataFrame' object is not callable",
     "output_type": "error",
     "traceback": [
      "\u001b[0;31m---------------------------------------------------------------------------\u001b[0m",
      "\u001b[0;31mTypeError\u001b[0m                                 Traceback (most recent call last)",
      "\u001b[0;32m<ipython-input-13-d19a80f6867b>\u001b[0m in \u001b[0;36m<module>\u001b[0;34m\u001b[0m\n\u001b[0;32m----> 1\u001b[0;31m \u001b[0mOECD0\u001b[0m \u001b[0;34m=\u001b[0m \u001b[0mOECD\u001b[0m\u001b[0;34m(\u001b[0m\u001b[0;34m)\u001b[0m\u001b[0;34m\u001b[0m\u001b[0m\n\u001b[0m",
      "\u001b[0;31mTypeError\u001b[0m: 'DataFrame' object is not callable"
     ]
    }
   ],
   "source": [
    "OECD0 = OECD()"
   ]
  },
  {
   "cell_type": "markdown",
   "metadata": {},
   "source": [
    "<br>"
   ]
  },
  {
   "cell_type": "markdown",
   "metadata": {},
   "source": [
    "# $C$"
   ]
  },
  {
   "cell_type": "markdown",
   "metadata": {},
   "source": [
    ">## $Cd$"
   ]
  },
  {
   "cell_type": "code",
   "execution_count": 10,
   "metadata": {},
   "outputs": [],
   "source": [
    "def Cd(model_variables=[], version=0, all_boolean=False, country_dummies=True):\n",
    "    df_in = pd.DataFrame(sorted(list(set(namq_10_fcs.ID))), columns=[\"ID\"])\n",
    "    \n",
    "    ###########################################################################################\n",
    "    \n",
    "    # Chain linked volumes, percentage change compared to same period in previous year\n",
    "    var = \"CLV_PCH_SM\"\n",
    "    selec = namq_10_fcs[(namq_10_fcs.NA_ITEM==\"P311_S14\")&(namq_10_fcs.UNIT==var)][[\"ID\", \"Value\"]]; selec.columns = [\"ID\", var]\n",
    "    df_in = pd.merge(df_in, selec, on='ID', how=\"inner\")\n",
    "    \n",
    "    # Chain linked volumes, percentage change on previous period\n",
    "    var = \"CLV_PCH_PRE\"\n",
    "    if var in model_variables or all_boolean:\n",
    "        selec = namq_10_fcs_lag[(namq_10_fcs_lag.NA_ITEM==\"P311_S14\")&(namq_10_fcs_lag.UNIT==var)][[\"ID\", \"Value\"]]; selec.columns = [\"ID\", var]\n",
    "        df_in = pd.merge(df_in, selec, on='ID', how=\"inner\")\n",
    "    \n",
    "    # Business Climate Indicator\n",
    "    var = \"BS-BCI\"\n",
    "    if var in model_variables or all_boolean:\n",
    "        dic_BCI = dict(zip(ei_bsci_m_r2_1.TIME.values, ei_bsci_m_r2_1.Value.values))\n",
    "        df_in[var] = df_in.ID.str[:-2].map(dic_BCI)\n",
    "    \n",
    "    # Retail Confidence Indicator\n",
    "    var = \"BS-RCI-BAL\"\n",
    "    if var in model_variables or all_boolean:\n",
    "        selec = ei_bssi_m_r2[ei_bssi_m_r2.INDIC==var][[\"ID\", \"Value\"]]; selec.columns = [\"ID\", var]\n",
    "        df_in = pd.merge(df_in, selec, on='ID', how=\"inner\")\n",
    "        \n",
    "    # Services Confidence Indicator\n",
    "    var = \"BS-SCI-BAL\"\n",
    "    if var in model_variables or all_boolean:\n",
    "        selec = ei_bssi_m_r2[ei_bssi_m_r2.INDIC==var][[\"ID\", \"Value\"]]; selec.columns = [\"ID\", var]\n",
    "        df_in = pd.merge(df_in, selec, on='ID', how=\"inner\")\n",
    "    \n",
    "    # Consumer Confidence Indicator\n",
    "    var = \"BS-CSMCI-BAL\"\n",
    "    if var in model_variables or all_boolean:\n",
    "        selec = ei_bssi_m_r2[ei_bssi_m_r2.INDIC==var][[\"ID\", \"Value\"]]; selec.columns = [\"ID\", var]\n",
    "        df_in = pd.merge(df_in, selec, on='ID', how=\"inner\")\n",
    "    \n",
    "    # Production in industry: MIG - Durable Consumer Goods\n",
    "    var = \"MIG_DCOG\"\n",
    "    if var in model_variables or all_boolean:\n",
    "        selec = sts_inpr_q[sts_inpr_q.NACE_R2==var][[\"ID\", \"Value\"]]; selec.columns = [\"ID\", var]\n",
    "        df_in = pd.merge(df_in, selec, on='ID', how=\"inner\")\n",
    "    \n",
    "    # Manufacture of motor vehicles, trailers, semi-trailers and of other transport equipment\n",
    "    # Checked - UNIT I15\n",
    "    var = \"C29_C30\"\n",
    "    if var in model_variables or all_boolean:\n",
    "        selec = sts_intv_q[(sts_intv_q.NACE_R2==var)&(sts_intv_q.UNIT==\"I15\")][[\"ID\", \"Value\"]]; selec.columns = [\"ID\", var]\n",
    "        df_in = pd.merge(df_in, selec, on='ID', how=\"inner\")\n",
    "        \n",
    "    # Harmonised unemployment rate all persons, s.a.\n",
    "    var = \"LRHUTTTT\"\n",
    "    if var in model_variables or all_boolean:\n",
    "        selec = OECD[OECD.SUBJECT==var][[\"ID\", \"Value\"]]; selec.columns = [\"ID\", var]\n",
    "        df_in = pd.merge(df_in, selec, on='ID', how=\"inner\")\n",
    "        \n",
    "    # Passenger car registrations, s.a.\n",
    "    var = \"SLRTCR03\"\n",
    "    if var in model_variables or all_boolean:\n",
    "        selec = OECD[OECD.SUBJECT==var][[\"ID\", \"Value\"]]; selec.columns = [\"ID\", var]\n",
    "        df_in = pd.merge(df_in, selec, on='ID', how=\"inner\")\n",
    "    \n",
    "    ###########################################################################################\n",
    "    \n",
    "    # Dummies\n",
    "    if country_dummies:\n",
    "        countries = set(namq_10_fcs.GEO); countries.remove('PT')\n",
    "        for country in sorted(list(countries)):\n",
    "            df_in[\"D_\"+country] = (df_in.ID.str[-2:] == country).astype(int)\n",
    "    \n",
    "    Cd = df_in.dropna().copy(); Cd.set_index(\"ID\", inplace=True)\n",
    "    Cd = Cd.loc[:, (Cd != 0).any(axis=0)].copy()\n",
    "    del var, selec, df_in\n",
    "    \n",
    "    ###########################################################################################\n",
    "    \n",
    "    # Save\n",
    "    if version != 0:\n",
    "        Cd.to_csv(\"./regressions/Cd\"+str(version)+\".csv\")\n",
    "        \n",
    "    ###########################################################################################\n",
    "    \n",
    "    # Regression\n",
    "    X = sm.add_constant(Cd.loc[:, Cd.columns != \"CLV_PCH_SM\"].copy())\n",
    "    y = Cd.loc[:, \"CLV_PCH_SM\"].copy()\n",
    "    results = sm.OLS(y, X).fit()\n",
    "    print(results.summary())\n",
    "    \n",
    "    return(Cd, results)"
   ]
  },
  {
   "cell_type": "code",
   "execution_count": 11,
   "metadata": {},
   "outputs": [
    {
     "name": "stdout",
     "output_type": "stream",
     "text": [
      "                            OLS Regression Results                            \n",
      "==============================================================================\n",
      "Dep. Variable:             CLV_PCH_SM   R-squared:                       0.381\n",
      "Model:                            OLS   Adj. R-squared:                  0.371\n",
      "Method:                 Least Squares   F-statistic:                     41.82\n",
      "Date:                Wed, 14 Nov 2018   Prob (F-statistic):          1.26e-144\n",
      "Time:                        16:57:06   Log-Likelihood:                -5697.7\n",
      "No. Observations:                1590   AIC:                         1.144e+04\n",
      "Df Residuals:                    1566   BIC:                         1.157e+04\n",
      "Df Model:                          23                                         \n",
      "Covariance Type:            nonrobust                                         \n",
      "================================================================================\n",
      "                   coef    std err          t      P>|t|      [0.025      0.975]\n",
      "--------------------------------------------------------------------------------\n",
      "const            5.6867      1.146      4.964      0.000       3.440       7.934\n",
      "BS-RCI-BAL       0.2389      0.025      9.414      0.000       0.189       0.289\n",
      "BS-SCI-BAL       0.1625      0.021      7.852      0.000       0.122       0.203\n",
      "BS-CSMCI-BAL     0.1280      0.030      4.274      0.000       0.069       0.187\n",
      "D_AT            -3.9307      1.462     -2.689      0.007      -6.798      -1.063\n",
      "D_BE            -2.8206      1.393     -2.025      0.043      -5.553      -0.089\n",
      "D_BG             5.7781      1.588      3.638      0.000       2.663       8.893\n",
      "D_CZ            -6.8245      1.532     -4.454      0.000      -9.830      -3.819\n",
      "D_DE            -1.2420      1.469     -0.845      0.398      -4.124       1.640\n",
      "D_DK            -5.4201      2.013     -2.693      0.007      -9.368      -1.472\n",
      "D_EE            -1.2912      1.495     -0.864      0.388      -4.223       1.641\n",
      "D_EL             1.0156      1.565      0.649      0.516      -2.054       4.085\n",
      "D_ES            -1.8301      1.375     -1.331      0.183      -4.527       0.867\n",
      "D_FI            -3.7818      1.638     -2.308      0.021      -6.995      -0.568\n",
      "D_FR             1.8363      1.251      1.467      0.142      -0.618       4.291\n",
      "D_IT            -1.8118      1.370     -1.322      0.186      -4.499       0.876\n",
      "D_LT             7.1920      1.459      4.930      0.000       4.331      10.053\n",
      "D_LV             7.8198      1.460      5.355      0.000       4.956      10.684\n",
      "D_MT            -3.5458      1.925     -1.842      0.066      -7.321       0.230\n",
      "D_NL            -5.9470      1.465     -4.060      0.000      -8.820      -3.074\n",
      "D_PL             4.5611      1.470      3.103      0.002       1.678       7.444\n",
      "D_SE            -5.2203      1.517     -3.441      0.001      -8.196      -2.244\n",
      "D_SI            -3.1885      1.497     -2.130      0.033      -6.124      -0.253\n",
      "D_UK            -0.0994      1.396     -0.071      0.943      -2.838       2.640\n",
      "==============================================================================\n",
      "Omnibus:                      295.740   Durbin-Watson:                   1.879\n",
      "Prob(Omnibus):                  0.000   Jarque-Bera (JB):             3953.887\n",
      "Skew:                           0.451   Prob(JB):                         0.00\n",
      "Kurtosis:                      10.673   Cond. No.                         488.\n",
      "==============================================================================\n",
      "\n",
      "Warnings:\n",
      "[1] Standard Errors assume that the covariance matrix of the errors is correctly specified.\n"
     ]
    }
   ],
   "source": [
    "Cd1, Cd1_results = Cd([\"BS-RCI-BAL\", \"BS-SCI-BAL\", \"BS-CSMCI-BAL\"], 1)"
   ]
  },
  {
   "cell_type": "code",
   "execution_count": 12,
   "metadata": {},
   "outputs": [
    {
     "name": "stdout",
     "output_type": "stream",
     "text": [
      "                            OLS Regression Results                            \n",
      "==============================================================================\n",
      "Dep. Variable:             CLV_PCH_SM   R-squared:                       0.499\n",
      "Model:                            OLS   Adj. R-squared:                  0.489\n",
      "Method:                 Least Squares   F-statistic:                     51.95\n",
      "Date:                Wed, 14 Nov 2018   Prob (F-statistic):          5.33e-148\n",
      "Time:                        16:57:07   Log-Likelihood:                -3873.9\n",
      "No. Observations:                1118   AIC:                             7792.\n",
      "Df Residuals:                    1096   BIC:                             7902.\n",
      "Df Model:                          21                                         \n",
      "Covariance Type:            nonrobust                                         \n",
      "================================================================================\n",
      "                   coef    std err          t      P>|t|      [0.025      0.975]\n",
      "--------------------------------------------------------------------------------\n",
      "const            5.0236      2.056      2.443      0.015       0.989       9.058\n",
      "BS-RCI-BAL       0.3269      0.029     11.438      0.000       0.271       0.383\n",
      "BS-SCI-BAL       0.1059      0.023      4.631      0.000       0.061       0.151\n",
      "BS-CSMCI-BAL     0.1270      0.035      3.583      0.000       0.057       0.197\n",
      "C29_C30         -0.0769      0.012     -6.251      0.000      -0.101      -0.053\n",
      "SLRTCR03         0.0744      0.011      6.658      0.000       0.052       0.096\n",
      "D_AT            -2.2496      1.565     -1.437      0.151      -5.321       0.822\n",
      "D_BE            -0.9885      1.416     -0.698      0.485      -3.767       1.790\n",
      "D_DE            -0.3665      1.481     -0.248      0.805      -3.272       2.539\n",
      "D_DK            -3.0039      2.004     -1.499      0.134      -6.937       0.929\n",
      "D_EE            -2.4749      1.482     -1.670      0.095      -5.382       0.432\n",
      "D_EL             1.4950      2.027      0.738      0.461      -2.482       5.472\n",
      "D_ES            -1.2299      1.373     -0.896      0.371      -3.925       1.465\n",
      "D_FI            -2.2114      1.700     -1.300      0.194      -5.548       1.125\n",
      "D_FR             1.7169      1.305      1.316      0.188      -0.843       4.277\n",
      "D_IT            -3.9173      1.321     -2.966      0.003      -6.509      -1.326\n",
      "D_LT             9.5064      1.438      6.612      0.000       6.685      12.328\n",
      "D_LV             7.4148      1.386      5.349      0.000       4.695      10.135\n",
      "D_NL            -5.9424      1.576     -3.771      0.000      -9.035      -2.850\n",
      "D_PL             4.4546      1.390      3.204      0.001       1.727       7.182\n",
      "D_SE            -5.7215      1.650     -3.468      0.001      -8.958      -2.485\n",
      "D_UK             0.1457      1.415      0.103      0.918      -2.631       2.922\n",
      "==============================================================================\n",
      "Omnibus:                      215.815   Durbin-Watson:                   1.923\n",
      "Prob(Omnibus):                  0.000   Jarque-Bera (JB):             3515.921\n",
      "Skew:                           0.383   Prob(JB):                         0.00\n",
      "Kurtosis:                      11.654   Cond. No.                     2.73e+03\n",
      "==============================================================================\n",
      "\n",
      "Warnings:\n",
      "[1] Standard Errors assume that the covariance matrix of the errors is correctly specified.\n",
      "[2] The condition number is large, 2.73e+03. This might indicate that there are\n",
      "strong multicollinearity or other numerical problems.\n"
     ]
    }
   ],
   "source": [
    "Cd2, Cd2_results = Cd([\"BS-RCI-BAL\", \"BS-SCI-BAL\", \"BS-CSMCI-BAL\", \"SLRTCR03\", \"C29_C30\"], 2)"
   ]
  },
  {
   "cell_type": "code",
   "execution_count": 13,
   "metadata": {},
   "outputs": [
    {
     "data": {
      "image/png": "[encoded data removed]",
      "text/plain": [
       "<Figure size 1440x504 with 4 Axes>"
      ]
     },
     "metadata": {
      "needs_background": "light"
     },
     "output_type": "display_data"
    }
   ],
   "source": [
    "f, axes = plt.subplots(1, 2, figsize=(20, 7)); axes = axes.flatten()\n",
    "sns.heatmap(Cd1.corr(), mask=np.zeros_like(Cd1.corr(), dtype=np.bool),\n",
    "            cmap=sns.diverging_palette(10, 220, as_cmap=True),square=True, ax=axes[0]);\n",
    "sns.heatmap(Cd2.corr(), mask=np.zeros_like(Cd2.corr(), dtype=np.bool),\n",
    "            cmap=sns.diverging_palette(10, 220, as_cmap=True),square=True, ax=axes[1])\n",
    "plt.tight_layout();"
   ]
  },
  {
   "cell_type": "code",
   "execution_count": 14,
   "metadata": {},
   "outputs": [
    {
     "name": "stdout",
     "output_type": "stream",
     "text": [
      "                            OLS Regression Results                            \n",
      "==============================================================================\n",
      "Dep. Variable:             CLV_PCH_SM   R-squared:                       0.608\n",
      "Model:                            OLS   Adj. R-squared:                  0.600\n",
      "Method:                 Least Squares   F-statistic:                     77.26\n",
      "Date:                Wed, 14 Nov 2018   Prob (F-statistic):          8.26e-205\n",
      "Time:                        16:57:09   Log-Likelihood:                -3736.3\n",
      "No. Observations:                1118   AIC:                             7519.\n",
      "Df Residuals:                    1095   BIC:                             7634.\n",
      "Df Model:                          22                                         \n",
      "Covariance Type:            nonrobust                                         \n",
      "================================================================================\n",
      "                   coef    std err          t      P>|t|      [0.025      0.975]\n",
      "--------------------------------------------------------------------------------\n",
      "const            3.1473      1.822      1.727      0.084      -0.428       6.722\n",
      "CLV_PCH_PRE      0.9206      0.053     17.482      0.000       0.817       1.024\n",
      "BS-RCI-BAL       0.2402      0.026      9.322      0.000       0.190       0.291\n",
      "BS-SCI-BAL       0.0783      0.020      3.859      0.000       0.038       0.118\n",
      "BS-CSMCI-BAL     0.1011      0.031      3.220      0.001       0.039       0.163\n",
      "C29_C30         -0.0622      0.011     -5.696      0.000      -0.084      -0.041\n",
      "SLRTCR03         0.0670      0.010      6.772      0.000       0.048       0.086\n",
      "D_AT            -1.7719      1.385     -1.279      0.201      -4.490       0.946\n",
      "D_BE            -0.7242      1.253     -0.578      0.563      -3.182       1.734\n",
      "D_DE            -0.4604      1.310     -0.352      0.725      -3.031       2.110\n",
      "D_DK            -2.2354      1.774     -1.260      0.208      -5.716       1.245\n",
      "D_EE            -1.5139      1.312     -1.154      0.249      -4.088       1.060\n",
      "D_EL             1.2842      1.793      0.716      0.474      -2.234       4.802\n",
      "D_ES            -1.0405      1.215     -0.856      0.392      -3.424       1.343\n",
      "D_FI            -1.7902      1.504     -1.190      0.234      -4.742       1.162\n",
      "D_FR             1.2791      1.154      1.108      0.268      -0.986       3.544\n",
      "D_IT            -3.2110      1.169     -2.746      0.006      -5.505      -0.917\n",
      "D_LT             7.7915      1.276      6.108      0.000       5.289      10.294\n",
      "D_LV             6.2468      1.228      5.087      0.000       3.837       8.657\n",
      "D_NL            -4.5788      1.396     -3.279      0.001      -7.318      -1.839\n",
      "D_PL             3.5150      1.231      2.855      0.004       1.100       5.930\n",
      "D_SE            -4.1351      1.462     -2.828      0.005      -7.004      -1.266\n",
      "D_UK             0.3396      1.252      0.271      0.786      -2.116       2.796\n",
      "==============================================================================\n",
      "Omnibus:                      264.240   Durbin-Watson:                   1.903\n",
      "Prob(Omnibus):                  0.000   Jarque-Bera (JB):             5454.453\n",
      "Skew:                           0.541   Prob(JB):                         0.00\n",
      "Kurtosis:                      13.767   Cond. No.                     2.73e+03\n",
      "==============================================================================\n",
      "\n",
      "Warnings:\n",
      "[1] Standard Errors assume that the covariance matrix of the errors is correctly specified.\n",
      "[2] The condition number is large, 2.73e+03. This might indicate that there are\n",
      "strong multicollinearity or other numerical problems.\n"
     ]
    }
   ],
   "source": [
    "Cd3, Cd3_results = Cd([\"BS-RCI-BAL\", \"BS-SCI-BAL\", \"BS-CSMCI-BAL\", \"SLRTCR03\", \"C29_C30\", \"CLV_PCH_PRE\"], 3)"
   ]
  },
  {
   "cell_type": "code",
   "execution_count": 15,
   "metadata": {},
   "outputs": [
    {
     "name": "stdout",
     "output_type": "stream",
     "text": [
      "                            OLS Regression Results                            \n",
      "==============================================================================\n",
      "Dep. Variable:             CLV_PCH_SM   R-squared:                       0.616\n",
      "Model:                            OLS   Adj. R-squared:                  0.607\n",
      "Method:                 Least Squares   F-statistic:                     68.37\n",
      "Date:                Wed, 14 Nov 2018   Prob (F-statistic):          2.38e-201\n",
      "Time:                        16:57:09   Log-Likelihood:                -3647.4\n",
      "No. Observations:                1092   AIC:                             7347.\n",
      "Df Residuals:                    1066   BIC:                             7477.\n",
      "Df Model:                          25                                         \n",
      "Covariance Type:            nonrobust                                         \n",
      "================================================================================\n",
      "                   coef    std err          t      P>|t|      [0.025      0.975]\n",
      "--------------------------------------------------------------------------------\n",
      "const           -3.9315      3.412     -1.152      0.250     -10.627       2.764\n",
      "CLV_PCH_PRE      0.9085      0.054     16.957      0.000       0.803       1.014\n",
      "BS-BCI           0.0043      0.310      0.014      0.989      -0.604       0.612\n",
      "BS-RCI-BAL       0.2353      0.027      8.654      0.000       0.182       0.289\n",
      "BS-SCI-BAL       0.0724      0.024      2.988      0.003       0.025       0.120\n",
      "BS-CSMCI-BAL     0.1126      0.033      3.448      0.001       0.049       0.177\n",
      "MIG_DCOG        -0.0064      0.013     -0.497      0.619      -0.032       0.019\n",
      "C29_C30         -0.0597      0.012     -4.913      0.000      -0.084      -0.036\n",
      "LRHUTTTT         0.3968      0.121      3.291      0.001       0.160       0.633\n",
      "SLRTCR03         0.1034      0.013      7.939      0.000       0.078       0.129\n",
      "D_AT            -0.0365      1.565     -0.023      0.981      -3.108       3.035\n",
      "D_BE             0.1312      1.333      0.098      0.922      -2.485       2.748\n",
      "D_DE             0.8633      1.477      0.585      0.559      -2.034       3.761\n",
      "D_DK            -0.8796      1.857     -0.474      0.636      -4.523       2.764\n",
      "D_EE            -0.7450      1.378     -0.541      0.589      -3.448       1.958\n",
      "D_EL            -3.3929      2.237     -1.517      0.130      -7.782       0.997\n",
      "D_ES            -3.5745      1.766     -2.024      0.043      -7.040      -0.109\n",
      "D_FI            -2.0754      1.578     -1.315      0.189      -5.171       1.020\n",
      "D_FR             1.3723      1.176      1.167      0.243      -0.935       3.679\n",
      "D_IT            -3.6367      1.178     -3.087      0.002      -5.948      -1.325\n",
      "D_LT             8.1886      1.440      5.685      0.000       5.362      11.015\n",
      "D_LV             5.5710      1.259      4.425      0.000       3.101       8.041\n",
      "D_NL            -2.8586      1.554     -1.839      0.066      -5.908       0.191\n",
      "D_PL             3.5042      1.347      2.602      0.009       0.862       6.147\n",
      "D_SE            -2.4790      1.560     -1.589      0.112      -5.540       0.582\n",
      "D_UK             2.4064      1.418      1.697      0.090      -0.377       5.189\n",
      "==============================================================================\n",
      "Omnibus:                      247.516   Durbin-Watson:                   1.880\n",
      "Prob(Omnibus):                  0.000   Jarque-Bera (JB):             5054.509\n",
      "Skew:                           0.489   Prob(JB):                         0.00\n",
      "Kurtosis:                      13.494   Cond. No.                     4.21e+03\n",
      "==============================================================================\n",
      "\n",
      "Warnings:\n",
      "[1] Standard Errors assume that the covariance matrix of the errors is correctly specified.\n",
      "[2] The condition number is large, 4.21e+03. This might indicate that there are\n",
      "strong multicollinearity or other numerical problems.\n"
     ]
    }
   ],
   "source": [
    "Cd_all, Cd_all_results = Cd(all_boolean=True)"
   ]
  },
  {
   "cell_type": "code",
   "execution_count": 42,
   "metadata": {},
   "outputs": [
    {
     "data": {
      "text/plain": [
       "<matplotlib.axes._subplots.AxesSubplot at 0x7f50188b4a20>"
      ]
     },
     "execution_count": 42,
     "metadata": {},
     "output_type": "execute_result"
    },
    {
     "data": {
      "image/png": "[encoded data removed]",
      "text/plain": [
       "<Figure size 1080x720 with 2 Axes>"
      ]
     },
     "metadata": {
      "needs_background": "light"
     },
     "output_type": "display_data"
    }
   ],
   "source": [
    "f, ax = plt.subplots(figsize=(15,10)) \n",
    "sns.heatmap(Cd_all.corr(), mask=np.zeros_like(Cd_all.corr(), dtype=np.bool),\n",
    "            cmap=sns.diverging_palette(10, 220, as_cmap=True),square=True, ax=ax)"
   ]
  },
  {
   "cell_type": "markdown",
   "metadata": {},
   "source": [
    ">## $Cnd$"
   ]
  },
  {
   "cell_type": "code",
   "execution_count": 16,
   "metadata": {},
   "outputs": [],
   "source": [
    "def Cnd(model_variables=[], version=0, all_boolean=False, country_dummies=True):\n",
    "\n",
    "    df_in = pd.DataFrame(sorted(list(set(namq_10_fcs.ID))), columns=[\"ID\"])\n",
    "    \n",
    "    ###########################################################################################\n",
    "    \n",
    "    # Chain linked volumes, percentage change compared to same period in previous year\n",
    "    var = \"CLV_PCH_SM\"\n",
    "    selec = namq_10_fcs[(namq_10_fcs.NA_ITEM==\"P312N_S14\")&(namq_10_fcs.UNIT==var)][[\"ID\", \"Value\"]]; selec.columns = [\"ID\", var]\n",
    "    df_in = pd.merge(df_in, selec, on='ID', how=\"inner\")\n",
    "    \n",
    "    # Chain linked volumes, percentage change on previous period\n",
    "    var = \"CLV_PCH_PRE\"\n",
    "    if var in model_variables or all_boolean:\n",
    "        selec = namq_10_fcs_lag[(namq_10_fcs_lag.NA_ITEM==\"P312N_S14\")&(namq_10_fcs_lag.UNIT==var)][[\"ID\", \"Value\"]]; selec.columns = [\"ID\", var]\n",
    "        df_in = pd.merge(df_in, selec, on='ID', how=\"inner\")\n",
    "    \n",
    "    # Business Climate Indicator\n",
    "    # Checked - no changes\n",
    "    var = \"BS-BCI\"\n",
    "    if var in model_variables or all_boolean:\n",
    "        dic_BCI = dict(zip(ei_bsci_m_r2_1.TIME.values, ei_bsci_m_r2_1.Value.values))\n",
    "        df_in[var] = df_in.ID.str[:-2].map(dic_BCI)\n",
    "    \n",
    "    # Retail Confidence Indicator\n",
    "    # Checked - no changes\n",
    "    var = \"BS-RCI-BAL\"\n",
    "    if var in model_variables or all_boolean:\n",
    "        selec = ei_bssi_m_r2[ei_bssi_m_r2.INDIC==var][[\"ID\", \"Value\"]]; selec.columns = [\"ID\", var]\n",
    "        df_in = pd.merge(df_in, selec, on='ID', how=\"inner\")\n",
    "    \n",
    "    # Services Confidence Indicator\n",
    "    # Checked - no changes\n",
    "    var = \"BS-SCI-BAL\"\n",
    "    if var in model_variables or all_boolean:\n",
    "        selec = ei_bssi_m_r2[ei_bssi_m_r2.INDIC==var][[\"ID\", \"Value\"]]; selec.columns = [\"ID\", var]\n",
    "        df_in = pd.merge(df_in, selec, on='ID', how=\"inner\")\n",
    "    \n",
    "    # Consumer Confidence Indicator\n",
    "    # Checked - no changes\n",
    "    var = \"BS-CSMCI-BAL\"\n",
    "    if var in model_variables or all_boolean:\n",
    "        selec = ei_bssi_m_r2[ei_bssi_m_r2.INDIC==var][[\"ID\", \"Value\"]]; selec.columns = [\"ID\", var]\n",
    "        df_in = pd.merge(df_in, selec, on='ID', how=\"inner\")\n",
    "    \n",
    "    # Production in industry: MIG - Non-Durable Consumer Goods\n",
    "    var = \"MIG_NDCOG\"\n",
    "    if var in model_variables or all_boolean:\n",
    "        selec = sts_inpr_q[sts_inpr_q.NACE_R2==var][[\"ID\", \"Value\"]]; selec.columns = [\"ID\", var]\n",
    "        df_in = pd.merge(df_in, selec, on='ID', how=\"inner\")\n",
    "    \n",
    "    # Retail sale of food, beverages and tobacco\n",
    "    # Checked - UNIT I15\n",
    "    var = \"G47_FOOD\"\n",
    "    if var in model_variables or all_boolean:\n",
    "        selec = sts_trtu_q[(sts_trtu_q.NACE_R2==var)&(sts_trtu_q.UNIT==\"I15\")][[\"ID\", \"Value\"]]; selec.columns = [\"ID\", var]\n",
    "        df_in = pd.merge(df_in, selec, on='ID', how=\"inner\")\n",
    "    \n",
    "    # Retail sale of non-food products (except fuel)\n",
    "    # Checked - UNIT I15\n",
    "    var = \"G47_NFOOD_X_G473\"\n",
    "    if var in model_variables or all_boolean:\n",
    "        selec = sts_trtu_q[(sts_trtu_q.NACE_R2==var)&(sts_trtu_q.UNIT==\"I15\")][[\"ID\", \"Value\"]]; selec.columns = [\"ID\", var]\n",
    "        df_in = pd.merge(df_in, selec, on='ID', how=\"inner\")\n",
    "    \n",
    "    # Retail trade, except of motor vehicles, motorcyles and fuel\n",
    "    # Checked - UNIT I15\n",
    "    var = \"G47_X_G473\"\n",
    "    if var in model_variables or all_boolean:\n",
    "        selec = sts_trtu_q[(sts_trtu_q.NACE_R2==var)&(sts_trtu_q.UNIT==\"I15\")][[\"ID\", \"Value\"]]; selec.columns = [\"ID\", var]\n",
    "        df_in = pd.merge(df_in, selec, on='ID', how=\"inner\")\n",
    "    \n",
    "    # Harmonised unemployment rate all persons, s.a.\n",
    "    var = \"LRHUTTTT\"\n",
    "    if var in model_variables or all_boolean:\n",
    "        selec = OECD[OECD.SUBJECT==var][[\"ID\", \"Value\"]]; selec.columns = [\"ID\", var]\n",
    "        df_in = pd.merge(df_in, selec, on='ID', how=\"inner\")\n",
    "    \n",
    "    ###########################################################################################\n",
    "    \n",
    "    # Dummies\n",
    "    if country_dummies:\n",
    "        countries = set(namq_10_fcs.GEO); countries.remove('PT')\n",
    "        for country in sorted(list(countries)):\n",
    "            df_in[\"D_\"+country] = (df_in.ID.str[-2:] == country).astype(int)\n",
    "    \n",
    "    Cnd = df_in.dropna().copy().set_index(\"ID\")\n",
    "    Cnd = Cnd.loc[:, (Cnd != 0).any(axis=0)].copy()\n",
    "    \n",
    "    del var, selec, df_in\n",
    "    \n",
    "    ###########################################################################################\n",
    "    \n",
    "    # Save\n",
    "    if version != 0:\n",
    "        Cnd.to_csv(\"./regressions/Cnd\"+str(version)+\".csv\")\n",
    "    \n",
    "    ###########################################################################################\n",
    "    \n",
    "    # Regression\n",
    "    X = sm.add_constant(Cnd.loc[:, Cnd.columns != \"CLV_PCH_SM\"].copy())\n",
    "    y = Cnd.loc[:, \"CLV_PCH_SM\"].copy()\n",
    "    results = sm.OLS(y, X).fit()\n",
    "    print(results.summary())\n",
    "    \n",
    "    return(Cnd, results)"
   ]
  },
  {
   "cell_type": "code",
   "execution_count": 17,
   "metadata": {},
   "outputs": [
    {
     "name": "stdout",
     "output_type": "stream",
     "text": [
      "                            OLS Regression Results                            \n",
      "==============================================================================\n",
      "Dep. Variable:             CLV_PCH_SM   R-squared:                       0.440\n",
      "Model:                            OLS   Adj. R-squared:                  0.432\n",
      "Method:                 Least Squares   F-statistic:                     51.86\n",
      "Date:                Wed, 14 Nov 2018   Prob (F-statistic):          2.29e-172\n",
      "Time:                        16:57:10   Log-Likelihood:                -3518.8\n",
      "No. Observations:                1541   AIC:                             7086.\n",
      "Df Residuals:                    1517   BIC:                             7214.\n",
      "Df Model:                          23                                         \n",
      "Covariance Type:            nonrobust                                         \n",
      "====================================================================================\n",
      "                       coef    std err          t      P>|t|      [0.025      0.975]\n",
      "------------------------------------------------------------------------------------\n",
      "const                5.7840      0.579      9.992      0.000       4.648       6.919\n",
      "BS-RCI-BAL           0.1525      0.005     28.619      0.000       0.142       0.163\n",
      "G47_FOOD            -0.0238      0.009     -2.758      0.006      -0.041      -0.007\n",
      "G47_NFOOD_X_G473    -0.0099      0.006     -1.694      0.090      -0.021       0.002\n",
      "D_AT                -0.3979      0.397     -1.002      0.316      -1.177       0.381\n",
      "D_BE                -0.8167      0.402     -2.029      0.043      -1.606      -0.027\n",
      "D_BG                -0.9359      0.440     -2.128      0.033      -1.798      -0.073\n",
      "D_CZ                -3.4843      0.442     -7.877      0.000      -4.352      -2.617\n",
      "D_DE                 0.8723      0.383      2.280      0.023       0.122       1.623\n",
      "D_DK                -2.4946      0.515     -4.846      0.000      -3.504      -1.485\n",
      "D_EE                -1.2036      0.425     -2.830      0.005      -2.038      -0.369\n",
      "D_EL                -0.8965      0.408     -2.195      0.028      -1.698      -0.095\n",
      "D_ES                 0.4501      0.385      1.169      0.243      -0.305       1.206\n",
      "D_FI                -0.7015      0.401     -1.747      0.081      -1.489       0.086\n",
      "D_FR                -0.3214      0.413     -0.777      0.437      -1.133       0.490\n",
      "D_IT                -1.4281      0.417     -3.426      0.001      -2.246      -0.610\n",
      "D_LT                 0.8522      0.427      1.996      0.046       0.015       1.690\n",
      "D_LV                -0.0382      0.423     -0.090      0.928      -0.868       0.791\n",
      "D_MT                 0.5835      0.541      1.079      0.281      -0.477       1.644\n",
      "D_NL                -2.6277      0.436     -6.031      0.000      -3.482      -1.773\n",
      "D_PL                 0.6733      0.436      1.543      0.123      -0.183       1.529\n",
      "D_SE                -2.6531      0.441     -6.021      0.000      -3.517      -1.789\n",
      "D_SI                -2.5028      0.428     -5.843      0.000      -3.343      -1.663\n",
      "D_UK                -1.3496      0.428     -3.154      0.002      -2.189      -0.510\n",
      "==============================================================================\n",
      "Omnibus:                      292.495   Durbin-Watson:                   1.658\n",
      "Prob(Omnibus):                  0.000   Jarque-Bera (JB):             5342.093\n",
      "Skew:                          -0.333   Prob(JB):                         0.00\n",
      "Kurtosis:                      12.097   Cond. No.                     3.16e+03\n",
      "==============================================================================\n",
      "\n",
      "Warnings:\n",
      "[1] Standard Errors assume that the covariance matrix of the errors is correctly specified.\n",
      "[2] The condition number is large, 3.16e+03. This might indicate that there are\n",
      "strong multicollinearity or other numerical problems.\n"
     ]
    }
   ],
   "source": [
    "Cnd1, Cnd1_results = Cnd([\"BS-RCI-BAL\", \"G47_NFOOD_X_G473\", \"G47_FOOD\"], 1)"
   ]
  },
  {
   "cell_type": "code",
   "execution_count": 18,
   "metadata": {},
   "outputs": [
    {
     "name": "stdout",
     "output_type": "stream",
     "text": [
      "                            OLS Regression Results                            \n",
      "==============================================================================\n",
      "Dep. Variable:             CLV_PCH_SM   R-squared:                       0.544\n",
      "Model:                            OLS   Adj. R-squared:                  0.536\n",
      "Method:                 Least Squares   F-statistic:                     68.91\n",
      "Date:                Wed, 14 Nov 2018   Prob (F-statistic):          1.82e-198\n",
      "Time:                        16:57:10   Log-Likelihood:                -2796.1\n",
      "No. Observations:                1292   AIC:                             5638.\n",
      "Df Residuals:                    1269   BIC:                             5757.\n",
      "Df Model:                          22                                         \n",
      "Covariance Type:            nonrobust                                         \n",
      "====================================================================================\n",
      "                       coef    std err          t      P>|t|      [0.025      0.975]\n",
      "------------------------------------------------------------------------------------\n",
      "const               11.3469      0.998     11.367      0.000       9.389      13.305\n",
      "BS-RCI-BAL           0.1030      0.007     15.681      0.000       0.090       0.116\n",
      "BS-SCI-BAL           0.0400      0.005      7.868      0.000       0.030       0.050\n",
      "G47_FOOD            -0.0109      0.011     -0.994      0.321      -0.033       0.011\n",
      "G47_NFOOD_X_G473    -0.0448      0.006     -7.087      0.000      -0.057      -0.032\n",
      "LRHUTTTT            -0.3324      0.025    -13.132      0.000      -0.382      -0.283\n",
      "D_AT                -2.9392      0.388     -7.583      0.000      -3.700      -2.179\n",
      "D_BE                -2.5312      0.375     -6.743      0.000      -3.268      -1.795\n",
      "D_DE                -1.7556      0.381     -4.613      0.000      -2.502      -1.009\n",
      "D_DK                -3.5925      0.471     -7.626      0.000      -4.517      -2.668\n",
      "D_EE                -2.4576      0.420     -5.852      0.000      -3.281      -1.634\n",
      "D_EL                 1.7606      0.451      3.901      0.000       0.875       2.646\n",
      "D_ES                 2.1200      0.405      5.232      0.000       1.325       2.915\n",
      "D_FI                -2.2706      0.373     -6.089      0.000      -3.002      -1.539\n",
      "D_FR                -1.5704      0.384     -4.090      0.000      -2.324      -0.817\n",
      "D_IT                -2.0214      0.385     -5.254      0.000      -2.776      -1.267\n",
      "D_LT                -0.3559      0.408     -0.872      0.383      -1.157       0.445\n",
      "D_LV                 0.3103      0.394      0.788      0.431      -0.462       1.083\n",
      "D_NL                -4.0757      0.406    -10.049      0.000      -4.871      -3.280\n",
      "D_PL                -0.0892      0.412     -0.216      0.829      -0.898       0.720\n",
      "D_SE                -4.7738      0.427    -11.176      0.000      -5.612      -3.936\n",
      "D_SI                -3.5822      0.405     -8.843      0.000      -4.377      -2.788\n",
      "D_UK                -3.2233      0.424     -7.608      0.000      -4.054      -2.392\n",
      "==============================================================================\n",
      "Omnibus:                      313.363   Durbin-Watson:                   1.781\n",
      "Prob(Omnibus):                  0.000   Jarque-Bera (JB):             8665.205\n",
      "Skew:                          -0.475   Prob(JB):                         0.00\n",
      "Kurtosis:                      15.651   Cond. No.                     3.02e+03\n",
      "==============================================================================\n",
      "\n",
      "Warnings:\n",
      "[1] Standard Errors assume that the covariance matrix of the errors is correctly specified.\n",
      "[2] The condition number is large, 3.02e+03. This might indicate that there are\n",
      "strong multicollinearity or other numerical problems.\n"
     ]
    }
   ],
   "source": [
    "Cnd2, Cnd2_results = Cnd([\"BS-RCI-BAL\", \"G47_NFOOD_X_G473\", \"G47_FOOD\", \"BS-SCI-BAL\", \"LRHUTTTT\"], 2)"
   ]
  },
  {
   "cell_type": "code",
   "execution_count": 19,
   "metadata": {},
   "outputs": [
    {
     "name": "stdout",
     "output_type": "stream",
     "text": [
      "                            OLS Regression Results                            \n",
      "==============================================================================\n",
      "Dep. Variable:             CLV_PCH_SM   R-squared:                       0.707\n",
      "Model:                            OLS   Adj. R-squared:                  0.702\n",
      "Method:                 Least Squares   F-statistic:                     133.0\n",
      "Date:                Wed, 14 Nov 2018   Prob (F-statistic):          6.21e-318\n",
      "Time:                        16:57:10   Log-Likelihood:                -2510.9\n",
      "No. Observations:                1292   AIC:                             5070.\n",
      "Df Residuals:                    1268   BIC:                             5194.\n",
      "Df Model:                          23                                         \n",
      "Covariance Type:            nonrobust                                         \n",
      "====================================================================================\n",
      "                       coef    std err          t      P>|t|      [0.025      0.975]\n",
      "------------------------------------------------------------------------------------\n",
      "const                7.2058      0.816      8.832      0.000       5.605       8.806\n",
      "CLV_PCH_PRE          1.4801      0.056     26.531      0.000       1.371       1.590\n",
      "BS-RCI-BAL           0.0622      0.005     11.332      0.000       0.051       0.073\n",
      "BS-SCI-BAL           0.0235      0.004      5.703      0.000       0.015       0.032\n",
      "G47_FOOD            -0.0035      0.009     -0.393      0.694      -0.021       0.014\n",
      "G47_NFOOD_X_G473    -0.0303      0.005     -5.933      0.000      -0.040      -0.020\n",
      "LRHUTTTT            -0.2285      0.021    -11.049      0.000      -0.269      -0.188\n",
      "D_AT                -1.9244      0.313     -6.143      0.000      -2.539      -1.310\n",
      "D_BE                -1.6515      0.303     -5.451      0.000      -2.246      -1.057\n",
      "D_DE                -1.1738      0.306     -3.835      0.000      -1.774      -0.573\n",
      "D_DK                -2.3470      0.381     -6.163      0.000      -3.094      -1.600\n",
      "D_EE                -1.4866      0.339     -4.387      0.000      -2.151      -0.822\n",
      "D_EL                 1.2274      0.363      3.385      0.001       0.516       1.939\n",
      "D_ES                 1.4660      0.326      4.497      0.000       0.826       2.106\n",
      "D_FI                -1.4277      0.301     -4.746      0.000      -2.018      -0.838\n",
      "D_FR                -1.0304      0.309     -3.338      0.001      -1.636      -0.425\n",
      "D_IT                -1.3078      0.310     -4.221      0.000      -1.916      -0.700\n",
      "D_LT                -0.1672      0.328     -0.510      0.610      -0.810       0.475\n",
      "D_LV                 0.3037      0.316      0.961      0.337      -0.316       0.923\n",
      "D_NL                -2.6240      0.330     -7.953      0.000      -3.271      -1.977\n",
      "D_PL                -0.0575      0.331     -0.174      0.862      -0.706       0.591\n",
      "D_SE                -3.0151      0.349     -8.639      0.000      -3.700      -2.330\n",
      "D_SI                -2.2694      0.329     -6.904      0.000      -2.914      -1.625\n",
      "D_UK                -2.1276      0.342     -6.214      0.000      -2.799      -1.456\n",
      "==============================================================================\n",
      "Omnibus:                      257.862   Durbin-Watson:                   1.833\n",
      "Prob(Omnibus):                  0.000   Jarque-Bera (JB):             4052.491\n",
      "Skew:                          -0.451   Prob(JB):                         0.00\n",
      "Kurtosis:                      11.629   Cond. No.                     3.07e+03\n",
      "==============================================================================\n",
      "\n",
      "Warnings:\n",
      "[1] Standard Errors assume that the covariance matrix of the errors is correctly specified.\n",
      "[2] The condition number is large, 3.07e+03. This might indicate that there are\n",
      "strong multicollinearity or other numerical problems.\n"
     ]
    }
   ],
   "source": [
    "Cnd3, Cnd3_results = Cnd([\"BS-RCI-BAL\", \"G47_NFOOD_X_G473\", \"G47_FOOD\", \"BS-SCI-BAL\", \"LRHUTTTT\", \"CLV_PCH_PRE\"], 3)"
   ]
  },
  {
   "cell_type": "code",
   "execution_count": 20,
   "metadata": {},
   "outputs": [
    {
     "name": "stdout",
     "output_type": "stream",
     "text": [
      "                            OLS Regression Results                            \n",
      "==============================================================================\n",
      "Dep. Variable:             CLV_PCH_SM   R-squared:                       0.717\n",
      "Model:                            OLS   Adj. R-squared:                  0.711\n",
      "Method:                 Least Squares   F-statistic:                     113.6\n",
      "Date:                Wed, 14 Nov 2018   Prob (F-statistic):          9.45e-309\n",
      "Time:                        16:57:11   Log-Likelihood:                -2408.5\n",
      "No. Observations:                1239   AIC:                             4873.\n",
      "Df Residuals:                    1211   BIC:                             5016.\n",
      "Df Model:                          27                                         \n",
      "Covariance Type:            nonrobust                                         \n",
      "====================================================================================\n",
      "                       coef    std err          t      P>|t|      [0.025      0.975]\n",
      "------------------------------------------------------------------------------------\n",
      "const                8.5587      1.267      6.754      0.000       6.072      11.045\n",
      "CLV_PCH_PRE          1.4888      0.057     26.010      0.000       1.376       1.601\n",
      "BS-BCI               0.1069      0.066      1.628      0.104      -0.022       0.236\n",
      "BS-RCI-BAL           0.0540      0.006      8.918      0.000       0.042       0.066\n",
      "BS-SCI-BAL           0.0108      0.005      2.020      0.044       0.000       0.021\n",
      "BS-CSMCI-BAL         0.0262      0.007      3.512      0.000       0.012       0.041\n",
      "MIG_NDCOG           -0.0029      0.008     -0.374      0.709      -0.018       0.012\n",
      "G47_FOOD            -0.0261      0.028     -0.921      0.357      -0.082       0.029\n",
      "G47_NFOOD_X_G473    -0.0635      0.030     -2.095      0.036      -0.123      -0.004\n",
      "G47_X_G473           0.0526      0.055      0.948      0.344      -0.056       0.161\n",
      "LRHUTTTT            -0.2332      0.024     -9.770      0.000      -0.280      -0.186\n",
      "D_AT                -2.5287      0.382     -6.617      0.000      -3.278      -1.779\n",
      "D_BE                -2.0735      0.354     -5.863      0.000      -2.767      -1.380\n",
      "D_DE                -1.7981      0.354     -5.077      0.000      -2.493      -1.103\n",
      "D_DK                -3.2797      0.461     -7.110      0.000      -4.185      -2.375\n",
      "D_EE                -1.9343      0.377     -5.134      0.000      -2.673      -1.195\n",
      "D_EL                 2.0980      0.431      4.871      0.000       1.253       2.943\n",
      "D_ES                 1.3052      0.357      3.654      0.000       0.604       2.006\n",
      "D_FI                -2.4062      0.410     -5.875      0.000      -3.210      -1.603\n",
      "D_FR                -1.4244      0.325     -4.384      0.000      -2.062      -0.787\n",
      "D_IT                -1.5506      0.321     -4.832      0.000      -2.180      -0.921\n",
      "D_LT                -0.5755      0.389     -1.481      0.139      -1.338       0.187\n",
      "D_LV                 0.1028      0.333      0.308      0.758      -0.551       0.757\n",
      "D_NL                -3.2058      0.381     -8.413      0.000      -3.953      -2.458\n",
      "D_PL                -0.3307      0.350     -0.946      0.345      -1.017       0.356\n",
      "D_SE                -3.6027      0.409     -8.813      0.000      -4.405      -2.801\n",
      "D_SI                -2.2229      0.351     -6.331      0.000      -2.912      -1.534\n",
      "D_UK                -2.6698      0.372     -7.186      0.000      -3.399      -1.941\n",
      "==============================================================================\n",
      "Omnibus:                      244.564   Durbin-Watson:                   1.843\n",
      "Prob(Omnibus):                  0.000   Jarque-Bera (JB):             3812.378\n",
      "Skew:                          -0.438   Prob(JB):                         0.00\n",
      "Kurtosis:                      11.549   Cond. No.                     5.89e+03\n",
      "==============================================================================\n",
      "\n",
      "Warnings:\n",
      "[1] Standard Errors assume that the covariance matrix of the errors is correctly specified.\n",
      "[2] The condition number is large, 5.89e+03. This might indicate that there are\n",
      "strong multicollinearity or other numerical problems.\n"
     ]
    }
   ],
   "source": [
    "Cnd_all, Cnd_all_results = Cnd(all_boolean=True)"
   ]
  },
  {
   "cell_type": "code",
   "execution_count": 43,
   "metadata": {},
   "outputs": [
    {
     "data": {
      "text/plain": [
       "<matplotlib.axes._subplots.AxesSubplot at 0x7f5018708550>"
      ]
     },
     "execution_count": 43,
     "metadata": {},
     "output_type": "execute_result"
    },
    {
     "data": {
      "image/png": "[encoded data removed]",
      "text/plain": [
       "<Figure size 1080x720 with 2 Axes>"
      ]
     },
     "metadata": {
      "needs_background": "light"
     },
     "output_type": "display_data"
    }
   ],
   "source": [
    "f, ax = plt.subplots(figsize=(15,10)) \n",
    "sns.heatmap(Cnd_all.corr(), mask=np.zeros_like(Cnd_all.corr(), dtype=np.bool),\n",
    "            cmap=sns.diverging_palette(10, 220, as_cmap=True),square=True, ax=ax)"
   ]
  },
  {
   "cell_type": "markdown",
   "metadata": {},
   "source": [
    "<br>"
   ]
  },
  {
   "cell_type": "markdown",
   "metadata": {},
   "source": [
    "# $I$"
   ]
  },
  {
   "cell_type": "markdown",
   "metadata": {},
   "source": [
    ">## $Igfcf$"
   ]
  },
  {
   "cell_type": "code",
   "execution_count": 21,
   "metadata": {},
   "outputs": [],
   "source": [
    "def Igfcf(model_variables=[], version=0, all_boolean=False, country_dummies=True):\n",
    "    \n",
    "    df_in = pd.DataFrame(sorted(list(set(namq_10_gdp.ID))), columns=[\"ID\"])\n",
    "    \n",
    "    ###########################################################################################\n",
    "    \n",
    "    # Chain linked volumes, percentage change compared to same period in previous year\n",
    "    var = \"CLV_PCH_SM\"\n",
    "    selec = namq_10_gdp[(namq_10_gdp.NA_ITEM==\"P51G\")&(namq_10_gdp.UNIT==var)][[\"ID\", \"Value\"]]; selec.columns = [\"ID\", var]\n",
    "    df_in = pd.merge(df_in, selec, on='ID', how=\"inner\")\n",
    "    \n",
    "    ## Chain linked volumes, percentage change on previous period\n",
    "    var = \"CLV_PCH_PRE\"\n",
    "    if var in model_variables or all_boolean:\n",
    "        selec = namq_10_gdp_lag[(namq_10_gdp_lag.NA_ITEM==\"P51G\")&(namq_10_gdp_lag.UNIT==var)][[\"ID\", \"Value\"]]; selec.columns = [\"ID\", var]\n",
    "        df_in = pd.merge(df_in, selec, on='ID', how=\"inner\")\n",
    "    \n",
    "    # Business Climate Indicator\n",
    "    var = \"BS-BCI\"\n",
    "    if var in model_variables or all_boolean:\n",
    "        dic_BCI = dict(zip(ei_bsci_m_r2_1.TIME.values, ei_bsci_m_r2_1.Value.values))\n",
    "        df_in[var] = df_in.ID.str[:-2].map(dic_BCI)\n",
    "    \n",
    "    # Industrial Confidence Indicator\n",
    "    var = \"BS-ICI-BAL\"\n",
    "    if var in model_variables or all_boolean:\n",
    "        selec = ei_bssi_m_r2[ei_bssi_m_r2.INDIC==var][[\"ID\", \"Value\"]]; selec.columns = [\"ID\", var]\n",
    "        df_in = pd.merge(df_in, selec, on='ID', how=\"inner\")\n",
    "    \n",
    "    # Building permits index - New residential buildings\n",
    "    # Checked - UNIT I2015\n",
    "    var = \"IS-PEI\"\n",
    "    if var in model_variables or all_boolean:\n",
    "        selec = ei_isbu_q[(ei_isbu_q.INDIC==var)&(ei_isbu_q.UNIT==\"I2015\")][[\"ID\", \"Value\"]]; selec.columns = [\"ID\", var]\n",
    "        df_in = pd.merge(df_in, selec, on='ID', how=\"inner\")\n",
    "    \n",
    "    # Residential buildings, except residences for communities\n",
    "    # Checked - UNIT I15  \n",
    "    var = \"F_CC11_X_CC113\"\n",
    "    if var in model_variables or all_boolean:\n",
    "        selec = sts_cobp_q[(sts_cobp_q.NACE_R2==var)&(sts_cobp_q.UNIT==\"I15\")][[\"ID\", \"Value\"]]; selec.columns = [\"ID\", var]\n",
    "        df_in = pd.merge(df_in, selec, on='ID', how=\"inner\")\n",
    "    \n",
    "    # Two- and more dwelling buildings\n",
    "    # Checked - UNIT I15\n",
    "    var = \"F_CC112\"\n",
    "    if var in model_variables or all_boolean:\n",
    "        selec = sts_cobp_q[(sts_cobp_q.NACE_R2==var)&(sts_cobp_q.UNIT==\"I15\")][[\"ID\", \"Value\"]]; selec.columns = [\"ID\", var]\n",
    "        df_in = pd.merge(df_in, selec, on='ID', how=\"inner\")\n",
    "    \n",
    "    # Construction confidence indicator\n",
    "    var = \"BS-CCI-BAL\"\n",
    "    if var in model_variables or all_boolean:\n",
    "        selec = ei_bssi_m_r2[ei_bssi_m_r2.INDIC==var][[\"ID\", \"Value\"]]; selec.columns = [\"ID\", var]\n",
    "        df_in = pd.merge(df_in, selec, on='ID', how=\"inner\")\n",
    "    \n",
    "    # Volume index of production\n",
    "    # Checked - UNIT I15\n",
    "    var = \"PROD\"\n",
    "    if var in model_variables or all_boolean:\n",
    "        selec = sts_copr_q[(sts_copr_q.INDIC_BT==var)&(sts_copr_q.UNIT==\"I15\")][[\"ID\", \"Value\"]]; selec.columns = [\"ID\", var]\n",
    "        df_in = pd.merge(df_in, selec, on='ID', how=\"inner\")\n",
    "    \n",
    "    # Production in industry: MIG - energy (except Section E)\n",
    "    # Checked - UNIT I15\n",
    "    var = \"MIG_NRG_X_E\"\n",
    "    if var in model_variables or all_boolean:\n",
    "        selec = sts_inpr_q[(sts_inpr_q.NACE_R2==var)&(sts_inpr_q.UNIT==\"I15\")][[\"ID\", \"Value\"]]; selec.columns = [\"ID\", var]\n",
    "        df_in = pd.merge(df_in, selec, on='ID', how=\"inner\")\n",
    "    \n",
    "    # Production in industry: MIG - capital goods\n",
    "    # Checked - UNIT I15\n",
    "    var = \"MIG_CAG\"\n",
    "    if var in model_variables or all_boolean:\n",
    "        selec = sts_inpr_q[(sts_inpr_q.NACE_R2==var)&(sts_inpr_q.UNIT==\"I15\")][[\"ID\", \"Value\"]]; selec.columns = [\"ID\", var]\n",
    "        df_in = pd.merge(df_in, selec, on='ID', how=\"inner\")\n",
    "    \n",
    "    # Production in industry: Mining and quarrying; manufacturing\n",
    "    # Checked - UNIT I15\n",
    "    var = \"B_C\"\n",
    "    if var in model_variables or all_boolean:\n",
    "        selec = sts_inpr_q[(sts_inpr_q.NACE_R2==var)&(sts_inpr_q.UNIT==\"I15\")][[\"ID\", \"Value\"]]; selec.columns = [\"ID\", var]\n",
    "        df_in = pd.merge(df_in, selec, on='ID', how=\"inner\")\n",
    "    \n",
    "    # Production in industry: Mining and quarrying; manufacturing (except MIG energy)\n",
    "    # Checked - UNIT I15\n",
    "    var = \"B_C_X_MIG_NRG\"\n",
    "    if var in model_variables or all_boolean:\n",
    "        selec = sts_inpr_q[(sts_inpr_q.NACE_R2==var)&(sts_inpr_q.UNIT==\"I15\")][[\"ID\", \"Value\"]]; selec.columns = [\"ID\", var]\n",
    "        df_in = pd.merge(df_in, selec, on='ID', how=\"inner\")\n",
    "    \n",
    "    # Production in industry: Manufacturing\n",
    "    # Checked - UNIT I15\n",
    "    var = \"C\"\n",
    "    if var in model_variables or all_boolean:\n",
    "        selec = sts_inpr_q[(sts_inpr_q.NACE_R2==var)&(sts_inpr_q.UNIT==\"I15\")][[\"ID\", \"Value\"]]; selec.columns = [\"ID\", \"C_prod\"]\n",
    "        df_in = pd.merge(df_in, selec, on='ID', how=\"inner\")\n",
    "    \n",
    "    # Production in industry: Electricity, gas, steam and air conditioning supply\n",
    "    # Checked - UNIT I15\n",
    "    var = \"D\"\n",
    "    if var in model_variables or all_boolean:\n",
    "        selec = sts_inpr_q[(sts_inpr_q.NACE_R2==var)&(sts_inpr_q.UNIT==\"I15\")][[\"ID\", \"Value\"]]; selec.columns = [\"ID\", var]\n",
    "        df_in = pd.merge(df_in, selec, on='ID', how=\"inner\")\n",
    "    \n",
    "    # Manufacture of motor vehicles, trailers, semi-trailers and of other transport equipment\n",
    "    # Checked - UNIT I15\n",
    "    var = \"C29_C30\"\n",
    "    if var in model_variables or all_boolean:\n",
    "        selec = sts_intv_q[(sts_intv_q.NACE_R2==var)&(sts_intv_q.UNIT==\"I15\")][[\"ID\", \"Value\"]]; selec.columns = [\"ID\", var]\n",
    "        df_in = pd.merge(df_in, selec, on='ID', how=\"inner\")\n",
    "    \n",
    "    # Manufacturing\n",
    "    # Checked - UNIT I15\n",
    "    var = \"C\"\n",
    "    if var in model_variables or all_boolean:\n",
    "        selec = sts_inpr_q[(sts_inpr_q.NACE_R2==var)&(sts_inpr_q.UNIT==\"I15\")][[\"ID\", \"Value\"]]; selec.columns = [\"ID\", var]\n",
    "        df_in = pd.merge(df_in, selec, on='ID', how=\"inner\")\n",
    "    \n",
    "    ###########################################################################################\n",
    "    \n",
    "    # Dummies\n",
    "    if country_dummies:\n",
    "        countries = set(namq_10_gdp.GEO); countries.remove('PT')\n",
    "        for country in sorted(list(countries)):\n",
    "            df_in[\"D_\"+country] = (df_in.ID.str[-2:] == country).astype(int)\n",
    "    \n",
    "    Igfcf = df_in.dropna().copy().set_index(\"ID\")\n",
    "    Igfcf = Igfcf.loc[:, (Igfcf != 0).any(axis=0)].copy()\n",
    "    del var, selec, df_in\n",
    "    \n",
    "    ###########################################################################################\n",
    "    \n",
    "    # Save\n",
    "    if version != 0:\n",
    "        Igfcf.to_csv(\"./regressions/Igfcf\"+str(version)+\".csv\")\n",
    "    \n",
    "    ###########################################################################################\n",
    "    \n",
    "    # Regression\n",
    "    X = sm.add_constant(Igfcf.loc[:, Igfcf.columns != \"CLV_PCH_SM\"].copy())\n",
    "    y = Igfcf.loc[:, \"CLV_PCH_SM\"].copy()\n",
    "    results = sm.OLS(y, X).fit()\n",
    "    print(results.summary())\n",
    "    \n",
    "    return(Igfcf, results)"
   ]
  },
  {
   "cell_type": "code",
   "execution_count": 22,
   "metadata": {},
   "outputs": [
    {
     "name": "stdout",
     "output_type": "stream",
     "text": [
      "                            OLS Regression Results                            \n",
      "==============================================================================\n",
      "Dep. Variable:             CLV_PCH_SM   R-squared:                       0.185\n",
      "Model:                            OLS   Adj. R-squared:                  0.173\n",
      "Method:                 Least Squares   F-statistic:                     15.40\n",
      "Date:                Wed, 14 Nov 2018   Prob (F-statistic):           4.06e-61\n",
      "Time:                        16:57:11   Log-Likelihood:                -6869.1\n",
      "No. Observations:                1785   AIC:                         1.379e+04\n",
      "Df Residuals:                    1758   BIC:                         1.394e+04\n",
      "Df Model:                          26                                         \n",
      "Covariance Type:            nonrobust                                         \n",
      "=================================================================================\n",
      "                    coef    std err          t      P>|t|      [0.025      0.975]\n",
      "---------------------------------------------------------------------------------\n",
      "const             0.0089      2.472      0.004      0.997      -4.840       4.858\n",
      "BS-BCI            4.8214      0.275     17.507      0.000       4.281       5.362\n",
      "B_C_X_MIG_NRG    -0.0165      0.019     -0.877      0.381      -0.053       0.020\n",
      "D_AT              2.2831      1.906      1.198      0.231      -1.454       6.020\n",
      "D_BE              2.8973      1.928      1.503      0.133      -0.884       6.679\n",
      "D_BG              7.3843      1.921      3.843      0.000       3.616      11.153\n",
      "D_CY              6.9817      1.912      3.651      0.000       3.231      10.732\n",
      "D_CZ              3.8421      1.958      1.962      0.050       0.002       7.682\n",
      "D_DE              2.2782      1.896      1.202      0.230      -1.441       5.997\n",
      "D_DK              3.1577      1.896      1.666      0.096      -0.560       6.876\n",
      "D_EE              7.4271      1.981      3.749      0.000       3.541      11.313\n",
      "D_EL             -0.4505      1.908     -0.236      0.813      -4.194       3.292\n",
      "D_ES              3.1916      1.853      1.722      0.085      -0.443       6.826\n",
      "D_FI              2.7732      1.858      1.492      0.136      -0.871       6.418\n",
      "D_FR              3.1108      1.854      1.678      0.094      -0.526       6.747\n",
      "D_HU              3.6002      1.977      1.821      0.069      -0.277       7.477\n",
      "D_IE              4.2026      2.490      1.688      0.092      -0.681       9.086\n",
      "D_IT              1.6492      1.858      0.888      0.375      -1.994       5.293\n",
      "D_LT              6.1158      1.988      3.077      0.002       2.217      10.014\n",
      "D_LU              4.5040      1.887      2.387      0.017       0.803       8.205\n",
      "D_LV              7.5611      1.943      3.892      0.000       3.751      11.371\n",
      "D_NL             11.5107      5.900      1.951      0.051      -0.061      23.083\n",
      "D_PL              4.0350      2.010      2.008      0.045       0.094       7.977\n",
      "D_RO              7.6883      1.982      3.880      0.000       3.802      11.575\n",
      "D_SE              4.5317      1.882      2.408      0.016       0.841       8.223\n",
      "D_SI              2.4488      1.888      1.297      0.195      -1.254       6.152\n",
      "D_UK              2.8704      1.863      1.541      0.124      -0.783       6.524\n",
      "==============================================================================\n",
      "Omnibus:                     1984.448   Durbin-Watson:                   1.965\n",
      "Prob(Omnibus):                  0.000   Jarque-Bera (JB):           755149.178\n",
      "Skew:                           4.940   Prob(JB):                         0.00\n",
      "Kurtosis:                     103.278   Cond. No.                     2.66e+03\n",
      "==============================================================================\n",
      "\n",
      "Warnings:\n",
      "[1] Standard Errors assume that the covariance matrix of the errors is correctly specified.\n",
      "[2] The condition number is large, 2.66e+03. This might indicate that there are\n",
      "strong multicollinearity or other numerical problems.\n"
     ]
    }
   ],
   "source": [
    "Igfcf1, Igfcf1_results = Igfcf([\"BS-BCI\", \"BS-BCI\", \"B_C_X_MIG_NRG\"],1)"
   ]
  },
  {
   "cell_type": "code",
   "execution_count": 23,
   "metadata": {},
   "outputs": [
    {
     "name": "stdout",
     "output_type": "stream",
     "text": [
      "                            OLS Regression Results                            \n",
      "==============================================================================\n",
      "Dep. Variable:             CLV_PCH_SM   R-squared:                       0.473\n",
      "Model:                            OLS   Adj. R-squared:                  0.465\n",
      "Method:                 Least Squares   F-statistic:                     55.04\n",
      "Date:                Wed, 14 Nov 2018   Prob (F-statistic):          2.25e-177\n",
      "Time:                        16:57:11   Log-Likelihood:                -4901.3\n",
      "No. Observations:                1432   AIC:                             9851.\n",
      "Df Residuals:                    1408   BIC:                             9977.\n",
      "Df Model:                          23                                         \n",
      "Covariance Type:            nonrobust                                         \n",
      "=================================================================================\n",
      "                    coef    std err          t      P>|t|      [0.025      0.975]\n",
      "---------------------------------------------------------------------------------\n",
      "const            20.4056      2.066      9.875      0.000      16.352      24.459\n",
      "BS-BCI            3.4083      0.227     14.982      0.000       2.962       3.855\n",
      "BS-CCI-BAL        0.2417      0.012     19.616      0.000       0.218       0.266\n",
      "B_C_X_MIG_NRG    -0.0884      0.020     -4.427      0.000      -0.128      -0.049\n",
      "C29_C30          -0.0419      0.011     -3.789      0.000      -0.064      -0.020\n",
      "D_AT             -5.0674      1.444     -3.509      0.000      -7.900      -2.234\n",
      "D_BE             -4.5510      1.403     -3.244      0.001      -7.303      -1.799\n",
      "D_BG              2.0170      1.286      1.569      0.117      -0.505       4.539\n",
      "D_CZ             -3.0003      1.334     -2.249      0.025      -5.618      -0.383\n",
      "D_DE             -2.7137      1.275     -2.128      0.034      -5.216      -0.212\n",
      "D_DK             -1.5222      1.498     -1.016      0.310      -4.461       1.416\n",
      "D_EE             -3.9592      1.442     -2.745      0.006      -6.788      -1.130\n",
      "D_EL             -4.9265      1.563     -3.151      0.002      -7.993      -1.860\n",
      "D_ES             -1.3067      1.280     -1.021      0.308      -3.818       1.205\n",
      "D_FI             -3.2958      1.295     -2.545      0.011      -5.837      -0.755\n",
      "D_FR             -4.3377      1.275     -3.401      0.001      -6.840      -1.836\n",
      "D_HU             -4.0276      1.355     -2.972      0.003      -6.686      -1.369\n",
      "D_IT             -2.1338      1.244     -1.715      0.086      -4.574       0.306\n",
      "D_LT              1.4381      1.398      1.029      0.304      -1.304       4.180\n",
      "D_LV              1.5743      1.331      1.182      0.237      -1.037       4.186\n",
      "D_PL             -0.4403      1.377     -0.320      0.749      -3.142       2.261\n",
      "D_RO             -0.2816      1.358     -0.207      0.836      -2.945       2.382\n",
      "D_SE             -3.0758      1.300     -2.365      0.018      -5.627      -0.525\n",
      "D_UK             -3.2410      1.258     -2.576      0.010      -5.709      -0.773\n",
      "==============================================================================\n",
      "Omnibus:                      162.604   Durbin-Watson:                   1.893\n",
      "Prob(Omnibus):                  0.000   Jarque-Bera (JB):             1278.574\n",
      "Skew:                           0.183   Prob(JB):                    2.30e-278\n",
      "Kurtosis:                       7.615   Cond. No.                     3.06e+03\n",
      "==============================================================================\n",
      "\n",
      "Warnings:\n",
      "[1] Standard Errors assume that the covariance matrix of the errors is correctly specified.\n",
      "[2] The condition number is large, 3.06e+03. This might indicate that there are\n",
      "strong multicollinearity or other numerical problems.\n"
     ]
    }
   ],
   "source": [
    "Igfcf2, Igfcf2_results = Igfcf([\"BS-BCI\", \"BS-BCI\", \"B_C_X_MIG_NRG\",\"C29_C30\", \"BS-CCI-BAL\"],2)"
   ]
  },
  {
   "cell_type": "code",
   "execution_count": 24,
   "metadata": {},
   "outputs": [
    {
     "name": "stdout",
     "output_type": "stream",
     "text": [
      "                            OLS Regression Results                            \n",
      "==============================================================================\n",
      "Dep. Variable:             CLV_PCH_SM   R-squared:                       0.533\n",
      "Model:                            OLS   Adj. R-squared:                  0.525\n",
      "Method:                 Least Squares   F-statistic:                     66.94\n",
      "Date:                Wed, 14 Nov 2018   Prob (F-statistic):          1.13e-212\n",
      "Time:                        16:57:12   Log-Likelihood:                -4815.2\n",
      "No. Observations:                1432   AIC:                             9680.\n",
      "Df Residuals:                    1407   BIC:                             9812.\n",
      "Df Model:                          24                                         \n",
      "Covariance Type:            nonrobust                                         \n",
      "=================================================================================\n",
      "                    coef    std err          t      P>|t|      [0.025      0.975]\n",
      "---------------------------------------------------------------------------------\n",
      "const            17.5840      1.958      8.981      0.000      13.743      21.425\n",
      "CLV_PCH_PRE       0.5880      0.044     13.409      0.000       0.502       0.674\n",
      "BS-BCI            2.7652      0.220     12.592      0.000       2.334       3.196\n",
      "BS-CCI-BAL        0.2083      0.012     17.544      0.000       0.185       0.232\n",
      "B_C_X_MIG_NRG    -0.0784      0.019     -4.164      0.000      -0.115      -0.041\n",
      "C29_C30          -0.0330      0.010     -3.159      0.002      -0.054      -0.013\n",
      "D_AT             -4.4403      1.361     -3.262      0.001      -7.111      -1.770\n",
      "D_BE             -4.0430      1.322     -3.058      0.002      -6.636      -1.450\n",
      "D_BG              1.7789      1.211      1.469      0.142      -0.597       4.155\n",
      "D_CZ             -2.6193      1.257     -2.084      0.037      -5.085      -0.153\n",
      "D_DE             -2.3693      1.202     -1.972      0.049      -4.727      -0.012\n",
      "D_DK             -1.5500      1.411     -1.098      0.272      -4.318       1.218\n",
      "D_EE             -3.4295      1.359     -2.523      0.012      -6.096      -0.763\n",
      "D_EL             -4.2478      1.473     -2.883      0.004      -7.138      -1.357\n",
      "D_ES             -1.1186      1.206     -0.927      0.354      -3.485       1.248\n",
      "D_FI             -2.9077      1.220     -2.382      0.017      -5.302      -0.514\n",
      "D_FR             -3.7664      1.202     -3.133      0.002      -6.125      -1.408\n",
      "D_HU             -3.4941      1.277     -2.736      0.006      -6.000      -0.989\n",
      "D_IT             -1.8285      1.172     -1.560      0.119      -4.127       0.470\n",
      "D_LT              1.2562      1.317      0.954      0.340      -1.327       3.839\n",
      "D_LV              1.3207      1.254      1.053      0.293      -1.140       3.781\n",
      "D_PL             -0.4114      1.297     -0.317      0.751      -2.956       2.133\n",
      "D_RO             -0.1851      1.279     -0.145      0.885      -2.694       2.324\n",
      "D_SE             -2.7049      1.225     -2.208      0.027      -5.109      -0.301\n",
      "D_UK             -2.8196      1.185     -2.378      0.018      -5.145      -0.494\n",
      "==============================================================================\n",
      "Omnibus:                      196.212   Durbin-Watson:                   1.869\n",
      "Prob(Omnibus):                  0.000   Jarque-Bera (JB):             1705.661\n",
      "Skew:                           0.322   Prob(JB):                         0.00\n",
      "Kurtosis:                       8.308   Cond. No.                     3.06e+03\n",
      "==============================================================================\n",
      "\n",
      "Warnings:\n",
      "[1] Standard Errors assume that the covariance matrix of the errors is correctly specified.\n",
      "[2] The condition number is large, 3.06e+03. This might indicate that there are\n",
      "strong multicollinearity or other numerical problems.\n"
     ]
    }
   ],
   "source": [
    "Igfcf3, Igfcf3_results = Igfcf([\"BS-BCI\", \"BS-BCI\", \"B_C_X_MIG_NRG\",\"C29_C30\", \"BS-CCI-BAL\", \"CLV_PCH_PRE\"],3) "
   ]
  },
  {
   "cell_type": "code",
   "execution_count": 25,
   "metadata": {},
   "outputs": [
    {
     "name": "stdout",
     "output_type": "stream",
     "text": [
      "                            OLS Regression Results                            \n",
      "==============================================================================\n",
      "Dep. Variable:             CLV_PCH_SM   R-squared:                       0.521\n",
      "Model:                            OLS   Adj. R-squared:                  0.509\n",
      "Method:                 Least Squares   F-statistic:                     40.71\n",
      "Date:                Wed, 14 Nov 2018   Prob (F-statistic):          1.11e-166\n",
      "Time:                        16:57:12   Log-Likelihood:                -4149.1\n",
      "No. Observations:                1229   AIC:                             8364.\n",
      "Df Residuals:                    1196   BIC:                             8533.\n",
      "Df Model:                          32                                         \n",
      "Covariance Type:            nonrobust                                         \n",
      "==================================================================================\n",
      "                     coef    std err          t      P>|t|      [0.025      0.975]\n",
      "----------------------------------------------------------------------------------\n",
      "const             21.6705      3.183      6.807      0.000      15.425      27.916\n",
      "CLV_PCH_PRE        0.5502      0.047     11.758      0.000       0.458       0.642\n",
      "BS-BCI             1.7541      0.332      5.279      0.000       1.102       2.406\n",
      "BS-ICI-BAL         0.1475      0.039      3.791      0.000       0.071       0.224\n",
      "IS-PEI            -0.0119      0.008     -1.516      0.130      -0.027       0.004\n",
      "F_CC11_X_CC113     0.0075      0.011      0.669      0.504      -0.014       0.029\n",
      "F_CC112            0.0037      0.003      1.456      0.146      -0.001       0.009\n",
      "BS-CCI-BAL         0.1856      0.015     12.070      0.000       0.155       0.216\n",
      "PROD              -0.0100      0.015     -0.666      0.506      -0.040       0.020\n",
      "MIG_NRG_X_E       -0.0530      0.043     -1.230      0.219      -0.138       0.032\n",
      "MIG_CAG           -0.0126      0.036     -0.353      0.724      -0.083       0.058\n",
      "B_C                0.3524      0.238      1.482      0.138      -0.114       0.819\n",
      "B_C_X_MIG_NRG     -0.3277      0.170     -1.928      0.054      -0.661       0.006\n",
      "C_prod            -0.0173      0.106     -0.163      0.871      -0.226       0.192\n",
      "D                 -0.0291      0.034     -0.853      0.394      -0.096       0.038\n",
      "C29_C30           -0.0247      0.015     -1.685      0.092      -0.053       0.004\n",
      "C                 -0.0173      0.106     -0.163      0.871      -0.226       0.192\n",
      "D_AT              -4.6969      1.656     -2.836      0.005      -7.947      -1.447\n",
      "D_BE              -2.1288      1.753     -1.214      0.225      -5.568       1.311\n",
      "D_BG               0.2596      1.621      0.160      0.873      -2.921       3.440\n",
      "D_CZ              -3.3382      1.567     -2.130      0.033      -6.413      -0.263\n",
      "D_DE              -2.8861      1.524     -1.893      0.059      -5.877       0.105\n",
      "D_DK              -2.6403      1.809     -1.460      0.145      -6.189       0.909\n",
      "D_EE              -4.1968      1.680     -2.497      0.013      -7.494      -0.900\n",
      "D_EL              -3.3251      1.776     -1.873      0.061      -6.809       0.159\n",
      "D_ES              -0.1665      1.723     -0.097      0.923      -3.547       3.214\n",
      "D_FR              -4.1861      1.570     -2.667      0.008      -7.265      -1.107\n",
      "D_HU              -2.9616      1.629     -1.818      0.069      -6.159       0.235\n",
      "D_LT               1.4231      1.770      0.804      0.422      -2.051       4.897\n",
      "D_LV              -1.1787      1.964     -0.600      0.549      -5.032       2.675\n",
      "D_PL               0.8054      1.615      0.499      0.618      -2.364       3.974\n",
      "D_RO              -0.7354      1.596     -0.461      0.645      -3.866       2.396\n",
      "D_SE              -4.0530      1.648     -2.459      0.014      -7.286      -0.820\n",
      "D_UK              -3.7011      1.653     -2.239      0.025      -6.945      -0.457\n",
      "==============================================================================\n",
      "Omnibus:                      187.743   Durbin-Watson:                   1.894\n",
      "Prob(Omnibus):                  0.000   Jarque-Bera (JB):             1625.833\n",
      "Skew:                           0.415   Prob(JB):                         0.00\n",
      "Kurtosis:                       8.573   Cond. No.                     1.48e+16\n",
      "==============================================================================\n",
      "\n",
      "Warnings:\n",
      "[1] Standard Errors assume that the covariance matrix of the errors is correctly specified.\n",
      "[2] The smallest eigenvalue is 2.27e-24. This might indicate that there are\n",
      "strong multicollinearity problems or that the design matrix is singular.\n"
     ]
    }
   ],
   "source": [
    "Igfcf_all, Igfcf_all_resuls = Igfcf(all_boolean=True)"
   ]
  },
  {
   "cell_type": "code",
   "execution_count": 44,
   "metadata": {},
   "outputs": [
    {
     "data": {
      "text/plain": [
       "<matplotlib.axes._subplots.AxesSubplot at 0x7f50174bd1d0>"
      ]
     },
     "execution_count": 44,
     "metadata": {},
     "output_type": "execute_result"
    },
    {
     "data": {
      "image/png": "[encoded data removed]",
      "text/plain": [
       "<Figure size 1080x720 with 2 Axes>"
      ]
     },
     "metadata": {
      "needs_background": "light"
     },
     "output_type": "display_data"
    }
   ],
   "source": [
    "f, ax = plt.subplots(figsize=(15,10)) \n",
    "sns.heatmap(Igfcf_all.corr(), mask=np.zeros_like(Igfcf_all.corr(), dtype=np.bool),\n",
    "            cmap=sns.diverging_palette(10, 220, as_cmap=True),square=True, ax=ax)"
   ]
  },
  {
   "cell_type": "markdown",
   "metadata": {},
   "source": [
    "<br>"
   ]
  },
  {
   "cell_type": "markdown",
   "metadata": {},
   "source": [
    "# $G$"
   ]
  },
  {
   "cell_type": "markdown",
   "metadata": {},
   "source": [
    "$$G_t = \\textit{Purchases of Goods and Services}_t+ \\textit{Wages Public Servants}_t+ \\textit{Investment}_t$$\n",
    "The value calculated is -0.0086575."
   ]
  },
  {
   "cell_type": "markdown",
   "metadata": {},
   "source": [
    "<br>"
   ]
  },
  {
   "cell_type": "markdown",
   "metadata": {},
   "source": [
    "# $X$"
   ]
  },
  {
   "cell_type": "code",
   "execution_count": 26,
   "metadata": {},
   "outputs": [],
   "source": [
    "def X(model_variables=[], version=0, all_boolean=False, country_dummies=True):\n",
    "\n",
    "    ext_tec03 = pd.read_csv(\"./data/ext_tec03_1_Data.csv\"); ext_tec03.Value = ext_tec03.Value.replace(regex=r'[,]+', value='').astype(np.float)\n",
    "    XXX_source = ext_tec03[(ext_tec03.TIME==2016)& (ext_tec03.STK_FLOW==\"EXP\")]\n",
    "    XXX_countries = sorted(list(set(ext_tec03.GEO.values)))\n",
    "    XXX_matrix = pd.DataFrame(index=XXX_countries, columns=XXX_countries)\n",
    "    for ind, row in XXX_source.iterrows():\n",
    "        if row.GEO == row.PARTNER:\n",
    "            XXX_matrix.loc[row.GEO][row.PARTNER]=0\n",
    "        else:\n",
    "            XXX_matrix.loc[row.GEO][row.PARTNER]=row.Value#/np.sum(XXX_source[XXX_source.GEO==row.GEO].Value)\n",
    "    XXX_matrix = XXX_matrix.dropna()\n",
    "    XXX_matrix = XXX_matrix[XXX_matrix.index.values].copy()\n",
    "    XXX_weights = XXX_matrix.divide(XXX_matrix.sum(axis=1), axis=0).copy()\n",
    "    countries = sorted(list(XXX_weights.index.values))\n",
    "    \n",
    "    ###########################################################################################\n",
    "    \n",
    "    df_in = pd.DataFrame(index = sorted(list(set(namq_10_gdp.ID))))\n",
    "    \n",
    "    ###########################################################################################\n",
    "\n",
    "    ## Chain linked volumes, percentage change on previous period\n",
    "    var = \"CLV_PCH_PRE\"\n",
    "    for country in countries:\n",
    "        selec = namq_10_gdp[((namq_10_gdp.NA_ITEM==\"B1GQ\")&(namq_10_gdp.UNIT==\"CLV_PCH_SM\"))&(namq_10_gdp.GEO==country)][[\"TIME\", \"Value\"]]\n",
    "        temp_dict = dict(zip(selec.TIME.values, selec.Value.values))\n",
    "        df_in[country] = df_in.index.str[:-2].map(temp_dict)\n",
    "                \n",
    "    for ID in df_in.index:\n",
    "        if ID[-2:] in XXX_weights.index:\n",
    "            df_in.at[ID,:] = df_in.loc[ID,:].values*XXX_weights.loc[ID[-2:],:].values\n",
    "        else:\n",
    "            #print(ID)\n",
    "            df_in.drop(ID, axis=0, inplace=True)\n",
    "    df_in = df_in.loc[:,df_in.notna().sum()!=0].dropna().copy()\n",
    "    df_in.index.name = \"ID\"; df_in.reset_index(inplace=True)\n",
    "\n",
    "    ###########################################################################################\n",
    "\n",
    "    # Chain linked volumes, percentage change compared to same period in previous year\n",
    "    var = \"CLV_PCH_SM\"\n",
    "    selec = namq_10_gdp[(namq_10_gdp.NA_ITEM==\"P6\")&(namq_10_gdp.UNIT==var)][[\"ID\", \"Value\"]]; selec.columns = [\"ID\", var]\n",
    "    df_in = pd.merge(df_in, selec, on='ID', how=\"inner\")\n",
    "    \n",
    "        # Business Climate Indicator\n",
    "    var = \"BS-BCI\"\n",
    "    if var in model_variables or all_boolean:\n",
    "        dic_BCI = dict(zip(ei_bsci_m_r2_1.TIME.values, ei_bsci_m_r2_1.Value.values))\n",
    "        df_in[var] = df_in.ID.str[:-2].map(dic_BCI)\n",
    "        \n",
    "    # Economic sentiment indicator\n",
    "    var = \"BS-ESI-I\"\n",
    "    if var in model_variables or all_boolean:\n",
    "        selec = ei_bssi_m_r2[ei_bssi_m_r2.INDIC==var][[\"ID\", \"Value\"]]; selec.columns = [\"ID\", var]\n",
    "        df_in = pd.merge(df_in, selec, on='ID', how=\"inner\")\n",
    "        \n",
    "    # Real Effective Exchange Rate (deflator consumer price indices - 42 trading partners)\n",
    "    var = \"REER42CPI\"\n",
    "    if var in model_variables or all_boolean:\n",
    "        selec = ei_mfef_m[ei_mfef_m.INDIC==var][[\"ID\", \"Value\"]]; selec.columns = [\"ID\", var]\n",
    "        df_in = pd.merge(df_in, selec, on='ID', how=\"inner\")\n",
    "    \n",
    "    ###########################################################################################\n",
    "    \n",
    "    # Dummies\n",
    "    if country_dummies:\n",
    "        countries.remove('PT')\n",
    "        for country in sorted(list(countries)):\n",
    "            df_in[\"D_\"+country] = (df_in.ID.str[-2:] == country).astype(int)\n",
    "\n",
    "    ###########################################################################################\n",
    "\n",
    "    X = df_in.dropna().copy().set_index(\"ID\")\n",
    "    X = X.loc[:, (X != 0).any(axis=0)].copy()\n",
    "    del var, selec, df_in\n",
    "    \n",
    "    ###########################################################################################\n",
    "    \n",
    "    # Save\n",
    "    if version != 0:\n",
    "        X.to_csv(\"./X\"+version+\".csv\")\n",
    "    \n",
    "    ###########################################################################################\n",
    "    \n",
    "    # Regression\n",
    "    X_mat = sm.add_constant(X.loc[:, X.columns != \"CLV_PCH_SM\"].copy())\n",
    "    y = X.loc[:, \"CLV_PCH_SM\"].copy()\n",
    "    results = sm.OLS(y, X_mat).fit()\n",
    "    print(results.summary())\n",
    "    \n",
    "    return(X, results)"
   ]
  },
  {
   "cell_type": "code",
   "execution_count": 27,
   "metadata": {},
   "outputs": [
    {
     "name": "stdout",
     "output_type": "stream",
     "text": [
      "                            OLS Regression Results                            \n",
      "==============================================================================\n",
      "Dep. Variable:             CLV_PCH_SM   R-squared:                       0.529\n",
      "Model:                            OLS   Adj. R-squared:                  0.515\n",
      "Method:                 Least Squares   F-statistic:                     39.80\n",
      "Date:                Wed, 14 Nov 2018   Prob (F-statistic):          3.09e-235\n",
      "Time:                        16:57:47   Log-Likelihood:                -5375.1\n",
      "No. Observations:                1716   AIC:                         1.085e+04\n",
      "Df Residuals:                    1668   BIC:                         1.111e+04\n",
      "Df Model:                          47                                         \n",
      "Covariance Type:            nonrobust                                         \n",
      "==============================================================================\n",
      "                 coef    std err          t      P>|t|      [0.025      0.975]\n",
      "------------------------------------------------------------------------------\n",
      "const        -12.5620      3.422     -3.671      0.000     -19.275      -5.849\n",
      "AT            10.1865      2.668      3.819      0.000       4.954      15.419\n",
      "BE             8.8208      2.381      3.704      0.000       4.150      13.491\n",
      "BG            -7.1552      1.562     -4.581      0.000     -10.219      -4.092\n",
      "CZ             4.3283      2.292      1.888      0.059      -0.168       8.825\n",
      "DE             1.6702      0.440      3.794      0.000       0.807       2.534\n",
      "DK             4.4500      2.885      1.542      0.123      -1.209      10.109\n",
      "EE             3.9846      0.971      4.103      0.000       2.080       5.889\n",
      "EL           -11.0954      1.637     -6.779      0.000     -14.306      -7.885\n",
      "ES            -2.4836      0.743     -3.340      0.001      -3.942      -1.025\n",
      "FI             3.1701      1.272      2.491      0.013       0.674       5.666\n",
      "FR             8.0338      1.473      5.455      0.000       5.145      10.923\n",
      "HU             1.1984      2.833      0.423      0.672      -4.358       6.755\n",
      "IE            -1.2070      0.882     -1.368      0.172      -2.938       0.524\n",
      "IT             6.9609      1.159      6.007      0.000       4.688       9.234\n",
      "LT             0.4015      0.678      0.592      0.554      -0.928       1.731\n",
      "LV             0.8894      0.614      1.449      0.148      -0.315       2.093\n",
      "NL            -2.3610      1.544     -1.529      0.127      -5.390       0.668\n",
      "PL            -4.3374      1.655     -2.620      0.009      -7.584      -1.091\n",
      "PT           -10.6191      2.987     -3.556      0.000     -16.477      -4.761\n",
      "RO             9.7132      1.385      7.012      0.000       6.996      12.430\n",
      "SE             3.5770      0.894      4.001      0.000       1.823       5.331\n",
      "SI             4.3200      6.414      0.674      0.501      -8.261      16.901\n",
      "UK             0.5717      1.271      0.450      0.653      -1.921       3.064\n",
      "BS-BCI        -0.7316      0.347     -2.108      0.035      -1.412      -0.051\n",
      "BS-ESI-I       0.1491      0.023      6.499      0.000       0.104       0.194\n",
      "REER42CPI      0.0055      0.024      0.231      0.818      -0.041       0.052\n",
      "D_AT          -1.8586      1.127     -1.649      0.099      -4.069       0.352\n",
      "D_BE          -2.0908      1.078     -1.940      0.053      -4.205       0.023\n",
      "D_BG          -4.7577      1.189     -4.001      0.000      -7.090      -2.425\n",
      "D_CZ           2.9140      1.146      2.543      0.011       0.666       5.162\n",
      "D_DE          -1.8814      1.157     -1.626      0.104      -4.151       0.388\n",
      "D_DK          -2.1248      1.098     -1.936      0.053      -4.278       0.028\n",
      "D_EE          -1.6188      1.141     -1.419      0.156      -3.856       0.618\n",
      "D_EL           0.0044      1.131      0.004      0.997      -2.214       2.222\n",
      "D_ES          -2.8036      1.069     -2.622      0.009      -4.901      -0.706\n",
      "D_FI          -2.9041      1.112     -2.611      0.009      -5.085      -0.723\n",
      "D_FR          -2.2106      1.096     -2.017      0.044      -4.360      -0.061\n",
      "D_HU           0.6374      1.125      0.566      0.571      -1.570       2.845\n",
      "D_IT          -5.0273      1.032     -4.871      0.000      -7.052      -3.003\n",
      "D_LT           3.8803      1.351      2.871      0.004       1.230       6.531\n",
      "D_LV          -0.1052      1.179     -0.089      0.929      -2.417       2.207\n",
      "D_NL          -3.1768      1.085     -2.927      0.003      -5.306      -1.048\n",
      "D_PL           0.5549      1.128      0.492      0.623      -1.658       2.767\n",
      "D_RO           4.2061      1.114      3.775      0.000       2.021       6.392\n",
      "D_SE          -2.4896      1.118     -2.227      0.026      -4.682      -0.297\n",
      "D_SI          -1.4792      1.142     -1.295      0.196      -3.720       0.762\n",
      "D_UK          -2.3554      1.182     -1.992      0.047      -4.674      -0.036\n",
      "==============================================================================\n",
      "Omnibus:                      187.052   Durbin-Watson:                   1.774\n",
      "Prob(Omnibus):                  0.000   Jarque-Bera (JB):             1448.861\n",
      "Skew:                           0.159   Prob(JB):                         0.00\n",
      "Kurtosis:                       7.490   Cond. No.                     6.75e+03\n",
      "==============================================================================\n",
      "\n",
      "Warnings:\n",
      "[1] Standard Errors assume that the covariance matrix of the errors is correctly specified.\n",
      "[2] The condition number is large, 6.75e+03. This might indicate that there are\n",
      "strong multicollinearity or other numerical problems.\n"
     ]
    }
   ],
   "source": [
    "X0, X0_results = X(all_boolean=True)"
   ]
  },
  {
   "cell_type": "code",
   "execution_count": 45,
   "metadata": {},
   "outputs": [
    {
     "data": {
      "text/plain": [
       "<matplotlib.axes._subplots.AxesSubplot at 0x7f501861f240>"
      ]
     },
     "execution_count": 45,
     "metadata": {},
     "output_type": "execute_result"
    },
    {
     "data": {
      "image/png": "[encoded data removed]",
      "text/plain": [
       "<Figure size 1080x720 with 2 Axes>"
      ]
     },
     "metadata": {
      "needs_background": "light"
     },
     "output_type": "display_data"
    }
   ],
   "source": [
    "f, ax = plt.subplots(figsize=(15,10)) \n",
    "sns.heatmap(X0.corr(), mask=np.zeros_like(X0.corr(), dtype=np.bool),\n",
    "            cmap=sns.diverging_palette(10, 220, as_cmap=True),square=True, ax=ax)"
   ]
  },
  {
   "cell_type": "markdown",
   "metadata": {},
   "source": [
    "<br>"
   ]
  },
  {
   "cell_type": "markdown",
   "metadata": {},
   "source": [
    "# $M$"
   ]
  },
  {
   "cell_type": "code",
   "execution_count": 32,
   "metadata": {},
   "outputs": [],
   "source": [
    "def M():\n",
    "    \n",
    "    df_in = pd.DataFrame(sorted(list(set(namq_10_gdp.ID))), columns=[\"ID\"])\n",
    "\n",
    "    ###########################################################################################\n",
    "    \n",
    "    # Chain linked volumes, percentage change compared to same period in previous year\n",
    "    var = \"CLV_PCH_SM\"\n",
    "    selec = namq_10_gdp[(namq_10_gdp.NA_ITEM==\"P7\")&(namq_10_gdp.UNIT==var)][[\"ID\", \"Value\"]]; selec.columns = [\"ID\", \"M\"]\n",
    "    df_in = pd.merge(df_in, selec, on='ID', how=\"inner\")\n",
    "    \n",
    "    # Cd\n",
    "    selec = namq_10_fcs[(namq_10_fcs.NA_ITEM==\"P311_S14\")&(namq_10_fcs.UNIT==var)][[\"ID\", \"Value\"]]; selec.columns = [\"ID\", \"Cd\"]\n",
    "    df_in = pd.merge(df_in, selec, on='ID', how=\"inner\")\n",
    "    \n",
    "    # Cnd\n",
    "    selec = namq_10_fcs[(namq_10_fcs.NA_ITEM==\"P312N_S14\")&(namq_10_fcs.UNIT==var)][[\"ID\", \"Value\"]]; selec.columns = [\"ID\", \"Cnd\"]\n",
    "    df_in = pd.merge(df_in, selec, on='ID', how=\"inner\")\n",
    "    \n",
    "    # G\n",
    "    selec = namq_10_gdp[(namq_10_gdp.NA_ITEM==\"P3_S13\")&(namq_10_gdp.UNIT==var)][[\"ID\", \"Value\"]]; selec.columns = [\"ID\", \"G\"]\n",
    "    df_in = pd.merge(df_in, selec, on='ID', how=\"inner\")\n",
    "    \n",
    "    # Igfcf\n",
    "    selec = namq_10_gdp[(namq_10_gdp.NA_ITEM==\"P51G\")&(namq_10_gdp.UNIT==var)][[\"ID\", \"Value\"]]; selec.columns = [\"ID\", \"Igfcf\"]\n",
    "    df_in = pd.merge(df_in, selec, on='ID', how=\"inner\")\n",
    "    \n",
    "    # Economic sentiment indicator\n",
    "    var = \"BS-ESI-I\"\n",
    "    selec = ei_bssi_m_r2[ei_bssi_m_r2.INDIC==var][[\"ID\", \"Value\"]]; selec.columns = [\"ID\", var]\n",
    "    df_in = pd.merge(df_in, selec, on='ID', how=\"inner\")\n",
    "    \n",
    "    # Real Effective Exchange Rate (deflator consumer price indices - 42 trading partners)\n",
    "    var = \"REER42CPI\"\n",
    "    selec = ei_mfef_m[ei_mfef_m.INDIC==var][[\"ID\", \"Value\"]]; selec.columns = [\"ID\", var]\n",
    "    df_in = pd.merge(df_in, selec, on='ID', how=\"inner\")\n",
    "    \n",
    "    \n",
    "    #############################################\n",
    "    \n",
    "    # Chain linked volumes, percentage change compared to same period in previous year\n",
    "    var = \"CLV_PCH_SM\"\n",
    "    selec = namq_10_gdp_lag[(namq_10_gdp_lag.NA_ITEM==\"P7\")&(namq_10_gdp.UNIT==var)][[\"ID\", \"Value\"]]; selec.columns = [\"ID\", \"M\"+\"_qoq\"]\n",
    "    df_in = pd.merge(df_in, selec, on='ID', how=\"inner\")\n",
    "    \n",
    "    # Cd\n",
    "    selec = namq_10_fcs_lag[(namq_10_fcs_lag.NA_ITEM==\"P311_S14\")&(namq_10_fcs.UNIT==var)][[\"ID\", \"Value\"]]; selec.columns = [\"ID\", \"Cd\"+\"_qoq\"]\n",
    "    df_in = pd.merge(df_in, selec, on='ID', how=\"inner\")\n",
    "    \n",
    "    # Cnd\n",
    "    selec = namq_10_fcs_lag[(namq_10_fcs_lag.NA_ITEM==\"P312N_S14\")&(namq_10_fcs.UNIT==var)][[\"ID\", \"Value\"]]; selec.columns = [\"ID\", \"Cnd\"+\"_qoq\"]\n",
    "    df_in = pd.merge(df_in, selec, on='ID', how=\"inner\")\n",
    "    \n",
    "    # G\n",
    "    selec = namq_10_gdp_lag[(namq_10_gdp_lag.NA_ITEM==\"P3_S13\")&(namq_10_gdp.UNIT==var)][[\"ID\", \"Value\"]]; selec.columns = [\"ID\", \"G\"+\"_qoq\"]\n",
    "    df_in = pd.merge(df_in, selec, on='ID', how=\"inner\")\n",
    "    \n",
    "    # Igfcf\n",
    "    selec = namq_10_gdp_lag[(namq_10_gdp_lag.NA_ITEM==\"P51G\")&(namq_10_gdp.UNIT==var)][[\"ID\", \"Value\"]]; selec.columns = [\"ID\", \"Igfcf\"+\"_qoq\"]\n",
    "    df_in = pd.merge(df_in, selec, on='ID', how=\"inner\")\n",
    "    \n",
    "    ###########################################################################################\n",
    "    \n",
    "    # Dummies\n",
    "    countries = set(namq_10_gdp.GEO); countries.remove('PT')\n",
    "    for country in sorted(list(countries)):\n",
    "        df_in[\"D_\"+country] = (df_in.ID.str[-2:] == country).astype(int)\n",
    "    \n",
    "    M = df_in.copy().set_index(\"ID\")\n",
    "    M = M.loc[:, (M != 0).any(axis=0)].copy()\n",
    "    del var, selec, df_in\n",
    "    \n",
    "    ###########################################################################################\n",
    "    \n",
    "    # Save\n",
    "    M.to_csv(\"./M.csv\")\n",
    "    \n",
    "    ###########################################################################################\n",
    "    \n",
    "    # Regression\n",
    "    X = sm.add_constant(M.loc[:, M.columns != \"M\"].copy())\n",
    "    y = M.loc[:, \"M\"].copy()\n",
    "    results = sm.OLS(y, X).fit()\n",
    "    print(results.summary())\n",
    "    \n",
    "    return(M, results)"
   ]
  },
  {
   "cell_type": "code",
   "execution_count": 33,
   "metadata": {},
   "outputs": [
    {
     "name": "stdout",
     "output_type": "stream",
     "text": [
      "                            OLS Regression Results                            \n",
      "==============================================================================\n",
      "Dep. Variable:                      M   R-squared:                       0.737\n",
      "Model:                            OLS   Adj. R-squared:                  0.732\n",
      "Method:                 Least Squares   F-statistic:                     145.9\n",
      "Date:                Wed, 14 Nov 2018   Prob (F-statistic):               0.00\n",
      "Time:                        17:00:47   Log-Likelihood:                -4934.1\n",
      "No. Observations:                1701   AIC:                             9934.\n",
      "Df Residuals:                    1668   BIC:                         1.011e+04\n",
      "Df Model:                          32                                         \n",
      "Covariance Type:            nonrobust                                         \n",
      "==============================================================================\n",
      "                 coef    std err          t      P>|t|      [0.025      0.975]\n",
      "------------------------------------------------------------------------------\n",
      "const        -12.3136      2.343     -5.255      0.000     -16.909      -7.718\n",
      "Cd             0.1046      0.018      5.836      0.000       0.069       0.140\n",
      "Cnd            0.5560      0.073      7.649      0.000       0.413       0.699\n",
      "G             -0.0141      0.053     -0.268      0.789      -0.118       0.089\n",
      "Igfcf          0.2094      0.014     15.109      0.000       0.182       0.237\n",
      "BS-ESI-I       0.1690      0.015     11.313      0.000       0.140       0.198\n",
      "REER42CPI     -0.0322      0.019     -1.717      0.086      -0.069       0.005\n",
      "M_qoq          0.6090      0.018     33.263      0.000       0.573       0.645\n",
      "Cd_qoq        -0.0257      0.019     -1.387      0.166      -0.062       0.011\n",
      "Cnd_qoq       -0.5073      0.072     -7.064      0.000      -0.648      -0.366\n",
      "G_qoq         -0.1268      0.046     -2.735      0.006      -0.218      -0.036\n",
      "Igfcf_qoq     -0.1726      0.014    -12.316      0.000      -0.200      -0.145\n",
      "D_AT          -0.1391      0.715     -0.195      0.846      -1.541       1.263\n",
      "D_BE          -0.2274      0.715     -0.318      0.750      -1.629       1.174\n",
      "D_BG          -0.0777      0.740     -0.105      0.916      -1.529       1.373\n",
      "D_CZ           0.3976      0.741      0.537      0.592      -1.056       1.851\n",
      "D_DE           0.2257      0.715      0.316      0.752      -1.177       1.628\n",
      "D_DK          -0.1508      0.715     -0.211      0.833      -1.554       1.252\n",
      "D_EE           0.3302      0.718      0.460      0.645      -1.077       1.738\n",
      "D_EL          -0.3100      0.717     -0.432      0.666      -1.717       1.097\n",
      "D_ES          -0.1521      0.724     -0.210      0.834      -1.572       1.268\n",
      "D_FI          -0.2773      0.715     -0.388      0.698      -1.680       1.126\n",
      "D_FR          -0.4325      0.712     -0.608      0.544      -1.829       0.964\n",
      "D_IT          -0.6696      0.715     -0.936      0.349      -2.073       0.733\n",
      "D_LT           0.3883      0.726      0.535      0.593      -1.035       1.811\n",
      "D_LU           1.2971      0.723      1.793      0.073      -0.121       2.716\n",
      "D_LV          -0.7811      0.728     -1.073      0.284      -2.209       0.647\n",
      "D_MT          -0.1786      0.762     -0.234      0.815      -1.674       1.317\n",
      "D_NL           0.2681      0.717      0.374      0.709      -1.138       1.674\n",
      "D_PL           1.1085      0.725      1.529      0.126      -0.313       2.530\n",
      "D_SE          -0.8596      0.718     -1.197      0.231      -2.267       0.548\n",
      "D_SI           0.2611      0.714      0.366      0.715      -1.139       1.661\n",
      "D_UK          -0.0375      0.770     -0.049      0.961      -1.548       1.472\n",
      "==============================================================================\n",
      "Omnibus:                      151.345   Durbin-Watson:                   1.777\n",
      "Prob(Omnibus):                  0.000   Jarque-Bera (JB):              822.620\n",
      "Skew:                           0.203   Prob(JB):                    2.35e-179\n",
      "Kurtosis:                       6.383   Cond. No.                     3.45e+03\n",
      "==============================================================================\n",
      "\n",
      "Warnings:\n",
      "[1] Standard Errors assume that the covariance matrix of the errors is correctly specified.\n",
      "[2] The condition number is large, 3.45e+03. This might indicate that there are\n",
      "strong multicollinearity or other numerical problems.\n"
     ]
    }
   ],
   "source": [
    "M0, M0_results = M()"
   ]
  },
  {
   "cell_type": "code",
   "execution_count": 46,
   "metadata": {},
   "outputs": [
    {
     "data": {
      "text/plain": [
       "<matplotlib.axes._subplots.AxesSubplot at 0x7f50183d47b8>"
      ]
     },
     "execution_count": 46,
     "metadata": {},
     "output_type": "execute_result"
    },
    {
     "data": {
      "image/png": "[encoded data removed]",
      "text/plain": [
       "<Figure size 1080x720 with 2 Axes>"
      ]
     },
     "metadata": {
      "needs_background": "light"
     },
     "output_type": "display_data"
    }
   ],
   "source": [
    "f, ax = plt.subplots(figsize=(15,10)) \n",
    "sns.heatmap(M.corr(), mask=np.zeros_like(M.corr(), dtype=np.bool),\n",
    "            cmap=sns.diverging_palette(10, 220, as_cmap=True),square=True, ax=ax)"
   ]
  },
  {
   "cell_type": "markdown",
   "metadata": {},
   "source": [
    "<br>"
   ]
  },
  {
   "cell_type": "markdown",
   "metadata": {},
   "source": [
    "____________________"
   ]
  },
  {
   "cell_type": "markdown",
   "metadata": {},
   "source": [
    "<br>"
   ]
  },
  {
   "cell_type": "markdown",
   "metadata": {},
   "source": [
    "# Looking at the Labor Market"
   ]
  },
  {
   "cell_type": "code",
   "execution_count": 42,
   "metadata": {},
   "outputs": [],
   "source": [
    "def LaborMarket():\n",
    "    \n",
    "    df_in = pd.DataFrame(sorted(list(set(namq_10_gdp.ID))), columns=[\"ID\"])\n",
    "\n",
    "    ###########################################################################################\n",
    "    \n",
    "    # Chain linked volumes, percentage change compared to same period in previous year\n",
    "    df_in = pd.DataFrame(sorted(list(set(une_rt_q.ID))), columns=[\"ID\"])\n",
    "    var = \"SA\"\n",
    "    selec = une_rt_q[(une_rt_q.UNIT==\"PC_ACT\")&(une_rt_q.S_ADJ==var)][[\"ID\", \"Value\"]]; selec.columns = [\"ID\", \"U\"]\n",
    "    df_in = pd.merge(df_in, selec, on='ID', how=\"inner\")\n",
    "    \n",
    "    # Cd\n",
    "    var = \"CLV_PCH_SM\"\n",
    "    selec = namq_10_fcs[(namq_10_fcs.NA_ITEM==\"P311_S14\")&(namq_10_fcs.UNIT==var)][[\"ID\", \"Value\"]]; selec.columns = [\"ID\", \"Cd\"]\n",
    "    df_in = pd.merge(df_in, selec, on='ID', how=\"inner\")\n",
    "    \n",
    "    # Cnd\n",
    "    selec = namq_10_fcs[(namq_10_fcs.NA_ITEM==\"P312N_S14\")&(namq_10_fcs.UNIT==var)][[\"ID\", \"Value\"]]; selec.columns = [\"ID\", \"Cnd\"]\n",
    "    df_in = pd.merge(df_in, selec, on='ID', how=\"inner\")\n",
    "    \n",
    "    # G\n",
    "    selec = namq_10_gdp[(namq_10_gdp.NA_ITEM==\"P3_S13\")&(namq_10_gdp.UNIT==var)][[\"ID\", \"Value\"]]; selec.columns = [\"ID\", \"G\"]\n",
    "    df_in = pd.merge(df_in, selec, on='ID', how=\"inner\")\n",
    "    \n",
    "    # Igfcf\n",
    "    selec = namq_10_gdp[(namq_10_gdp.NA_ITEM==\"P51G\")&(namq_10_gdp.UNIT==var)][[\"ID\", \"Value\"]]; selec.columns = [\"ID\", \"Igfcf\"]\n",
    "    df_in = pd.merge(df_in, selec, on='ID', how=\"inner\")\n",
    "    \n",
    "    # Economic sentiment indicator\n",
    "    var = \"BS-ESI-I\"\n",
    "    selec = ei_bssi_m_r2[ei_bssi_m_r2.INDIC==var][[\"ID\", \"Value\"]]; selec.columns = [\"ID\", var]\n",
    "    df_in = pd.merge(df_in, selec, on='ID', how=\"inner\")\n",
    "    \n",
    "    # Real Effective Exchange Rate (deflator consumer price indices - 42 trading partners)\n",
    "    var = \"REER42CPI\"\n",
    "    selec = ei_mfef_m[ei_mfef_m.INDIC==var][[\"ID\", \"Value\"]]; selec.columns = [\"ID\", var]\n",
    "    df_in = pd.merge(df_in, selec, on='ID', how=\"inner\")\n",
    "    \n",
    "    #############################################\n",
    "    \n",
    "    # Chain linked volumes, percentage change compared to same period in previous year\n",
    "    var = \"CLV_PCH_SM\"\n",
    "    selec = namq_10_gdp_lag[(namq_10_gdp_lag.NA_ITEM==\"P7\")&(namq_10_gdp.UNIT==var)][[\"ID\", \"Value\"]]; selec.columns = [\"ID\", \"M\"+\"_qoq\"]\n",
    "    df_in = pd.merge(df_in, selec, on='ID', how=\"inner\")\n",
    "    \n",
    "    # Cd\n",
    "    selec = namq_10_fcs_lag[(namq_10_fcs_lag.NA_ITEM==\"P311_S14\")&(namq_10_fcs.UNIT==var)][[\"ID\", \"Value\"]]; selec.columns = [\"ID\", \"Cd\"+\"_qoq\"]\n",
    "    df_in = pd.merge(df_in, selec, on='ID', how=\"inner\")\n",
    "    \n",
    "    # Cnd\n",
    "    selec = namq_10_fcs_lag[(namq_10_fcs_lag.NA_ITEM==\"P312N_S14\")&(namq_10_fcs.UNIT==var)][[\"ID\", \"Value\"]]; selec.columns = [\"ID\", \"Cnd\"+\"_qoq\"]\n",
    "    df_in = pd.merge(df_in, selec, on='ID', how=\"inner\")\n",
    "    \n",
    "    # G\n",
    "    selec = namq_10_gdp_lag[(namq_10_gdp_lag.NA_ITEM==\"P3_S13\")&(namq_10_gdp.UNIT==var)][[\"ID\", \"Value\"]]; selec.columns = [\"ID\", \"G\"+\"_qoq\"]\n",
    "    df_in = pd.merge(df_in, selec, on='ID', how=\"inner\")\n",
    "    \n",
    "    # Igfcf\n",
    "    selec = namq_10_gdp_lag[(namq_10_gdp_lag.NA_ITEM==\"P51G\")&(namq_10_gdp.UNIT==var)][[\"ID\", \"Value\"]]; selec.columns = [\"ID\", \"Igfcf\"+\"_qoq\"]\n",
    "    df_in = pd.merge(df_in, selec, on='ID', how=\"inner\")\n",
    "    \n",
    "    ###########################################################################################\n",
    "    \n",
    "    # Dummies\n",
    "    countries = set(namq_10_gdp.GEO); countries.remove('PT')\n",
    "    for country in sorted(list(countries)):\n",
    "        df_in[\"D_\"+country] = (df_in.ID.str[-2:] == country).astype(int)\n",
    "    \n",
    "    U = df_in.copy().set_index(\"ID\")\n",
    "    U = U.loc[:, (U != 0).any(axis=0)].copy()\n",
    "    del var, selec, df_in\n",
    "    \n",
    "    ###########################################################################################\n",
    "    \n",
    "    # Save\n",
    "    U.to_csv(\"./U.csv\")\n",
    "    \n",
    "    ###########################################################################################\n",
    "    \n",
    "    # Regression\n",
    "    X = sm.add_constant(U.loc[:, U.columns != \"U\"].copy())\n",
    "    y = U.loc[:, \"U\"].copy()\n",
    "    results = sm.OLS(y, X).fit()\n",
    "    print(results.summary())\n",
    "    \n",
    "    return(U, results)"
   ]
  },
  {
   "cell_type": "code",
   "execution_count": 43,
   "metadata": {},
   "outputs": [
    {
     "name": "stdout",
     "output_type": "stream",
     "text": [
      "                            OLS Regression Results                            \n",
      "==============================================================================\n",
      "Dep. Variable:                      U   R-squared:                       0.668\n",
      "Model:                            OLS   Adj. R-squared:                  0.662\n",
      "Method:                 Least Squares   F-statistic:                     104.4\n",
      "Date:                Wed, 14 Nov 2018   Prob (F-statistic):               0.00\n",
      "Time:                        18:53:04   Log-Likelihood:                -3950.5\n",
      "No. Observations:                1692   AIC:                             7967.\n",
      "Df Residuals:                    1659   BIC:                             8146.\n",
      "Df Model:                          32                                         \n",
      "Covariance Type:            nonrobust                                         \n",
      "==============================================================================\n",
      "                 coef    std err          t      P>|t|      [0.025      0.975]\n",
      "------------------------------------------------------------------------------\n",
      "const         30.0473      1.370     21.933      0.000      27.360      32.734\n",
      "Cd             0.0375      0.010      3.658      0.000       0.017       0.058\n",
      "Cnd           -0.0229      0.043     -0.529      0.597      -0.108       0.062\n",
      "G             -0.1710      0.033     -5.163      0.000      -0.236      -0.106\n",
      "Igfcf          0.0207      0.008      2.598      0.009       0.005       0.036\n",
      "BS-ESI-I      -0.0629      0.009     -7.344      0.000      -0.080      -0.046\n",
      "REER42CPI     -0.1342      0.011    -12.289      0.000      -0.156      -0.113\n",
      "M_qoq          0.0367      0.010      3.505      0.000       0.016       0.057\n",
      "Cd_qoq         0.0030      0.011      0.287      0.774      -0.018       0.024\n",
      "Cnd_qoq       -0.3338      0.043     -7.757      0.000      -0.418      -0.249\n",
      "G_qoq         -0.2305      0.032     -7.121      0.000      -0.294      -0.167\n",
      "Igfcf_qoq     -0.0180      0.008     -2.247      0.025      -0.034      -0.002\n",
      "D_AT          -4.3610      0.406    -10.744      0.000      -5.157      -3.565\n",
      "D_BE          -1.9902      0.406     -4.903      0.000      -2.786      -1.194\n",
      "D_BG           0.9824      0.423      2.322      0.020       0.153       1.812\n",
      "D_CZ          -4.4443      0.421    -10.548      0.000      -5.271      -3.618\n",
      "D_DE          -2.4399      0.406     -6.009      0.000      -3.236      -1.643\n",
      "D_DK          -4.2724      0.406    -10.518      0.000      -5.069      -3.476\n",
      "D_EE           0.3234      0.413      0.782      0.434      -0.487       1.134\n",
      "D_EL           4.5620      0.408     11.194      0.000       3.763       5.361\n",
      "D_ES           6.5562      0.411     15.941      0.000       5.750       7.363\n",
      "D_FI          -0.8478      0.406     -2.086      0.037      -1.645      -0.051\n",
      "D_FR          -0.3535      0.404     -0.874      0.382      -1.146       0.440\n",
      "D_IT          -0.7656      0.406     -1.885      0.060      -1.562       0.031\n",
      "D_LT           1.4189      0.412      3.443      0.001       0.611       2.227\n",
      "D_LU          -4.3098      0.411    -10.486      0.000      -5.116      -3.504\n",
      "D_LV           2.3277      0.414      5.629      0.000       1.517       3.139\n",
      "D_MT          -2.9358      0.433     -6.779      0.000      -3.785      -2.086\n",
      "D_NL          -4.4064      0.407    -10.821      0.000      -5.205      -3.608\n",
      "D_PL           2.6550      0.412      6.446      0.000       1.847       3.463\n",
      "D_SE          -2.1414      0.408     -5.252      0.000      -2.941      -1.342\n",
      "D_SI          -2.3462      0.405     -5.788      0.000      -3.141      -1.551\n",
      "D_UK          -1.3920      0.441     -3.156      0.002      -2.257      -0.527\n",
      "==============================================================================\n",
      "Omnibus:                      184.059   Durbin-Watson:                   1.896\n",
      "Prob(Omnibus):                  0.000   Jarque-Bera (JB):              488.165\n",
      "Skew:                           0.595   Prob(JB):                    9.91e-107\n",
      "Kurtosis:                       5.347   Cond. No.                     3.48e+03\n",
      "==============================================================================\n",
      "\n",
      "Warnings:\n",
      "[1] Standard Errors assume that the covariance matrix of the errors is correctly specified.\n",
      "[2] The condition number is large, 3.48e+03. This might indicate that there are\n",
      "strong multicollinearity or other numerical problems.\n"
     ]
    }
   ],
   "source": [
    "U0, U0_results = LaborMarket()"
   ]
  },
  {
   "cell_type": "code",
   "execution_count": 44,
   "metadata": {},
   "outputs": [
    {
     "data": {
      "text/plain": [
       "<matplotlib.axes._subplots.AxesSubplot at 0x7fb51c170080>"
      ]
     },
     "execution_count": 44,
     "metadata": {},
     "output_type": "execute_result"
    },
    {
     "data": {
      "image/png": "[encoded data removed]",
      "text/plain": [
       "<Figure size 1080x720 with 2 Axes>"
      ]
     },
     "metadata": {
      "needs_background": "light"
     },
     "output_type": "display_data"
    }
   ],
   "source": [
    "f, ax = plt.subplots(figsize=(15,10)) \n",
    "sns.heatmap(U0.corr(), mask=np.zeros_like(U0.corr(), dtype=np.bool),\n",
    "            cmap=sns.diverging_palette(10, 220, as_cmap=True),square=True, ax=ax)"
   ]
  },
  {
   "cell_type": "markdown",
   "metadata": {},
   "source": [
    "_______________________"
   ]
  },
  {
   "cell_type": "markdown",
   "metadata": {},
   "source": [
    "# Prepare to $\\textbf{R}$"
   ]
  },
  {
   "cell_type": "code",
   "execution_count": 29,
   "metadata": {},
   "outputs": [],
   "source": [
    "# namq_10_gdp\n",
    "selec = namq_10_gdp[(namq_10_gdp.GEO == \"PT\") & (namq_10_gdp.UNIT == \"CLV10_MEUR\")]\n",
    "for item in list(set(selec.NA_ITEM)):\n",
    "    selec[selec.NA_ITEM==item][[\"TIME\", \"Value\"]].to_csv(\"R/\"+item+\".csv\", index=False)\n",
    "##\n",
    "\n",
    "# namq_10_fcs"
   ]
  },
  {
   "cell_type": "markdown",
   "metadata": {},
   "source": [
    "<br>"
   ]
  }
 ],
 "metadata": {
  "kernelspec": {
   "display_name": "Python 3",
   "language": "python",
   "name": "python3"
  },
  "language_info": {
   "codemirror_mode": {
    "name": "ipython",
    "version": 3
   },
   "file_extension": ".py",
   "mimetype": "text/x-python",
   "name": "python",
   "nbconvert_exporter": "python",
   "pygments_lexer": "ipython3",
   "version": "3.6.6"
  }
 },
 "nbformat": 4,
 "nbformat_minor": 2
}
