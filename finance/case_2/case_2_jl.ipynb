{
 "cells": [
  {
   "cell_type": "code",
   "execution_count": 59,
   "metadata": {},
   "outputs": [],
   "source": [
    "using ExcelReaders\n",
    "using DataFrames\n",
    "using Quandl;"
   ]
  },
  {
   "cell_type": "markdown",
   "metadata": {},
   "source": [
    "Data:"
   ]
  },
  {
   "cell_type": "code",
   "execution_count": 2,
   "metadata": {
    "scrolled": false
   },
   "outputs": [
    {
     "data": {
      "text/html": [
       "<table class=\"data-frame\"><thead><tr><th></th><th>Commodities</th><th>Equity</th><th>Fixed income</th><th>Hedge Funds</th><th>Real Estate</th></tr></thead><tbody><tr><th>1</th><td>0.0</td><td>0.0</td><td>0.0</td><td>0.0</td><td>0.0</td></tr><tr><th>2</th><td>0.0615479999999999</td><td>0.014354</td><td>0.0199</td><td>0.0281</td><td>-0.00798900000000002</td></tr><tr><th>3</th><td>0.0377797329937035</td><td>-0.00377580213613793</td><td>0.00357682125698577</td><td>-0.00320980449372632</td><td>-0.00775999459683407</td></tr><tr><th>4</th><td>0.00772929406991141</td><td>-0.0079958516571601</td><td>0.00127790782650172</td><td>0.00117096018735374</td><td>0.00997650137710271</td></tr><tr><th>5</th><td>-0.0131484604131987</td><td>0.00657094062112207</td><td>0.00287064719336172</td><td>0.00155945419103309</td><td>-0.018528707929422</td></tr><tr><th>6</th><td>-0.00927917953286472</td><td>0.0336283027974364</td><td>0.0122319755438325</td><td>0.0177111716621254</td><td>0.0329020931359938</td></tr></tbody></table>"
      ],
      "text/plain": [
       "6×5 DataFrames.DataFrame\n",
       "│ Row │ Commodities │ Equity      │ Fixed income │ Hedge Funds │ Real Estate │\n",
       "├─────┼─────────────┼─────────────┼──────────────┼─────────────┼─────────────┤\n",
       "│ 1   │ 0.0         │ 0.0         │ 0.0          │ 0.0         │ 0.0         │\n",
       "│ 2   │ 0.061548    │ 0.014354    │ 0.0199       │ 0.0281      │ -0.007989   │\n",
       "│ 3   │ 0.0377797   │ -0.0037758  │ 0.00357682   │ -0.0032098  │ -0.00775999 │\n",
       "│ 4   │ 0.00772929  │ -0.00799585 │ 0.00127791   │ 0.00117096  │ 0.0099765   │\n",
       "│ 5   │ -0.0131485  │ 0.00657094  │ 0.00287065   │ 0.00155945  │ -0.0185287  │\n",
       "│ 6   │ -0.00927918 │ 0.0336283   │ 0.012232     │ 0.0177112   │ 0.0329021   │"
      ]
     },
     "execution_count": 2,
     "metadata": {},
     "output_type": "execute_result"
    }
   ],
   "source": [
    "data = readxl(DataFrame, \"data_case.xlsx\", \"Data!A1:F674\")[:,[4, 2, 3, 6, 5]]\n",
    "head(data)"
   ]
  },
  {
   "cell_type": "markdown",
   "metadata": {},
   "source": [
    "Transform data to matrix: "
   ]
  },
  {
   "cell_type": "code",
   "execution_count": 25,
   "metadata": {},
   "outputs": [],
   "source": [
    "data_array = Array(data);"
   ]
  },
  {
   "cell_type": "code",
   "execution_count": 26,
   "metadata": {},
   "outputs": [],
   "source": [
    "E_r = Float64[]\n",
    "for i in 1:5\n",
    "    push!(E_r, mean(data_array[:,i])*(365/7))\n",
    "end"
   ]
  },
  {
   "cell_type": "markdown",
   "metadata": {},
   "source": [
    "# One line solution"
   ]
  },
  {
   "cell_type": "markdown",
   "metadata": {},
   "source": [
    "One step solution following:\n",
    "$$ x = \\frac{S^{-1}\\{E(r)-c\\}}{Sum\\left[S^{-1}\\{E(r)-c\\}\\right]} $$"
   ]
  },
  {
   "cell_type": "code",
   "execution_count": 62,
   "metadata": {},
   "outputs": [
    {
     "data": {
      "text/plain": [
       "5-element Array{Float64,1}:\n",
       "  0.0732934\n",
       "  0.124474 \n",
       "  0.950786 \n",
       " -0.132582 \n",
       " -0.0159708"
      ]
     },
     "execution_count": 62,
     "metadata": {},
     "output_type": "execute_result"
    }
   ],
   "source": [
    "x = (inv(cov(data_array)*(365/7))*(E_r-.3))/sum(inv(cov(data_array)*(365/7))*(E_r-.3))"
   ]
  },
  {
   "cell_type": "markdown",
   "metadata": {},
   "source": [
    "# Normal way"
   ]
  },
  {
   "cell_type": "markdown",
   "metadata": {},
   "source": [
    "Expected returns:"
   ]
  },
  {
   "cell_type": "code",
   "execution_count": 27,
   "metadata": {},
   "outputs": [
    {
     "data": {
      "text/plain": [
       "5-element Array{Float64,1}:\n",
       " 0.0574371\n",
       " 0.0938155\n",
       " 0.044653 \n",
       " 0.0231329\n",
       " 0.0869345"
      ]
     },
     "execution_count": 27,
     "metadata": {},
     "output_type": "execute_result"
    }
   ],
   "source": [
    "E_r"
   ]
  },
  {
   "cell_type": "markdown",
   "metadata": {},
   "source": [
    "Variance-covariance matrix:"
   ]
  },
  {
   "cell_type": "code",
   "execution_count": 34,
   "metadata": {},
   "outputs": [
    {
     "data": {
      "text/plain": [
       "5×5 Array{Float64,2}:\n",
       "  0.0461404    0.0145567    -0.000339733  0.00539792  0.0125515  \n",
       "  0.0145567    0.0268118     0.000483536  0.00805041  0.0272492  \n",
       " -0.000339733  0.000483536   0.00501423   0.00472928  0.000797286\n",
       "  0.00539792   0.00805041    0.00472928   0.00959012  0.00681911 \n",
       "  0.0125515    0.0272492     0.000797286  0.00681911  0.0433316  "
      ]
     },
     "execution_count": 34,
     "metadata": {},
     "output_type": "execute_result"
    }
   ],
   "source": [
    "S = cov(data_array)*(365/7)"
   ]
  },
  {
   "cell_type": "markdown",
   "metadata": {},
   "source": [
    "# Prep Excel"
   ]
  },
  {
   "cell_type": "code",
   "execution_count": 53,
   "metadata": {},
   "outputs": [
    {
     "data": {
      "text/plain": [
       "risk_free_try (generic function with 1 method)"
      ]
     },
     "execution_count": 53,
     "metadata": {},
     "output_type": "execute_result"
    }
   ],
   "source": [
    "function risk_free_try(r_f_t)\n",
    "    z_t = inv(S)*(E_r-r_f_t)\n",
    "    w_t = z_t/sum(z_t)\n",
    "    E_r_t = *(transpose(E_r),w_t)\n",
    "    var_t = *(transpose(w_t), S, w_t)\n",
    "    sd_t = var_t^(1/2)\n",
    "    return z_t, w_t, E_r_t, var_t, sd_t\n",
    "end"
   ]
  },
  {
   "cell_type": "markdown",
   "metadata": {},
   "source": [
    "__Risk Free = 0%__"
   ]
  },
  {
   "cell_type": "code",
   "execution_count": 54,
   "metadata": {
    "scrolled": true
   },
   "outputs": [
    {
     "data": {
      "text/plain": [
       "([0.860114, 9.97786, 24.0922, -16.6663, -2.33801], [0.0540071, 0.626517, 1.51277, -1.04649, -0.146805], 0.09245783642510716, 0.005805492434863118, 0.07619378212730431)"
      ]
     },
     "execution_count": 54,
     "metadata": {},
     "output_type": "execute_result"
    }
   ],
   "source": [
    "z_0, w_0, E_r_0, var_0, sd_0 = risk_free_try(0.)"
   ]
  },
  {
   "cell_type": "code",
   "execution_count": 57,
   "metadata": {},
   "outputs": [
    {
     "data": {
      "text/plain": [
       "0.07619378212730431"
      ]
     },
     "execution_count": 57,
     "metadata": {},
     "output_type": "execute_result"
    }
   ],
   "source": [
    "sd_0"
   ]
  },
  {
   "cell_type": "markdown",
   "metadata": {},
   "source": [
    "__Risk Free = 3%__"
   ]
  },
  {
   "cell_type": "code",
   "execution_count": 56,
   "metadata": {
    "scrolled": true
   },
   "outputs": [
    {
     "data": {
      "text/plain": [
       "([0.32454, 8.21659, 15.8511, -14.1864, -2.00625], [0.03958, 1.00207, 1.93316, -1.73014, -0.244676], 0.12131060368605417, 0.011135978379438019, 0.10552714522547277)"
      ]
     },
     "execution_count": 56,
     "metadata": {},
     "output_type": "execute_result"
    }
   ],
   "source": [
    "z_3, w_3, E_r_3, var_3, sd_3 = risk_free_try(0.03)"
   ]
  }
 ],
 "metadata": {
  "kernelspec": {
   "display_name": "Julia 0.6.1",
   "language": "julia",
   "name": "julia-0.6"
  },
  "language_info": {
   "file_extension": ".jl",
   "mimetype": "application/julia",
   "name": "julia",
   "version": "0.6.1"
  }
 },
 "nbformat": 4,
 "nbformat_minor": 2
}
