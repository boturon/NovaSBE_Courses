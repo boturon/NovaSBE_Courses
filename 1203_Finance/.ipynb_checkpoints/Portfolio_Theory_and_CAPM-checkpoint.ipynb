{
 "cells": [
  {
   "cell_type": "markdown",
   "metadata": {},
   "source": [
    "# Portfolio Theory and CAPM"
   ]
  },
  {
   "cell_type": "markdown",
   "metadata": {},
   "source": [
    "______"
   ]
  },
  {
   "cell_type": "markdown",
   "metadata": {},
   "source": [
    "### Individual Securities"
   ]
  },
  {
   "cell_type": "markdown",
   "metadata": {},
   "source": [
    "__ Characteristics: __"
   ]
  },
  {
   "cell_type": "markdown",
   "metadata": {},
   "source": [
    "Expected Value\n",
    "$$ E[r] = \\sum_{S=1}^{S} p_S r_S$$"
   ]
  },
  {
   "cell_type": "markdown",
   "metadata": {},
   "source": [
    "Variance\n",
    "$$ Var[r] = \\sigma^{2} = \\sum_{S=1}^{S} p_S (r_S-E[r])^{2} $$"
   ]
  },
  {
   "cell_type": "markdown",
   "metadata": {},
   "source": [
    "Standard Deviation\n",
    "$$ \\sigma^{2} = \\sqrt{Var[r]}$$"
   ]
  },
  {
   "cell_type": "markdown",
   "metadata": {},
   "source": [
    "### Portfolio"
   ]
  },
  {
   "cell_type": "markdown",
   "metadata": {},
   "source": [
    "Covariance\n",
    "$$ \\sum_{S=1}^{S} p_S r_{A,S} r_{B,S} - E[r_A] E[r_B] $$\n",
    "Em que A é um activo e B é outro activo, sendo que $r_{A,S}$ é o  retorno da security A se S acontecer e $r_{B,S}$ é o retorno da security B se S acontecer."
   ]
  },
  {
   "cell_type": "markdown",
   "metadata": {},
   "source": [
    "Correlation\n",
    "$$ \\rho_{A,B} = \\frac{Cov[r_A, r_B]}{\\sigma_A \\sigma_B}$$"
   ]
  },
  {
   "cell_type": "markdown",
   "metadata": {},
   "source": [
    "Return of portfolio\n",
    "$$ r_P = W_A r_A + W_B r_B$$\n",
    "$$ E[r_P] = W_A E[r_A] + W_B E[r_B]$$"
   ]
  },
  {
   "cell_type": "markdown",
   "metadata": {},
   "source": [
    "Variance of a portfolio\n",
    "$$ \\sigma_P^2 = W_A^2 \\sigma_A^2 + W_B^2 \\sigma_B^2 + 2 W_A W_B \\sigma_{AB}$$"
   ]
  },
  {
   "cell_type": "code",
   "execution_count": 72,
   "metadata": {},
   "outputs": [],
   "source": [
    "class portfolio:\n",
    "    \n",
    "    def __init__(self, sigma_A, sigma_B, sigma_AB, r_A, r_B):\n",
    "        self.sigma_A, self.sigma_B, self.sigma_AB, \\\n",
    "        self.r_A, self.r_B = \\\n",
    "        sigma_A, sigma_B, sigma_AB, r_A, r_B\n",
    "        \n",
    "    def exp_ret(self, W_A, W_B):\n",
    "        self.E_R = W_A*self.r_A + W_B*self.r_B\n",
    "        print('Expected return of the portfolio:', round(self.E_R, 2))\n",
    "        \n",
    "    def var_por(self, W_A, W_B):\n",
    "        self.sigma_2 = W_A**2*self.sigma_A**2 + W_B**2*self.sigma_B**2 + 2*W_A*W_B*self.sigma_AB\n",
    "        self.sigma = (self.sigma_2)**(1/2)\n",
    "        print('Variance of the portolio:',round(self.sigma_2,2))\n",
    "        print('SD of the portolio:', round(self.sigma,2))\n",
    "    \n",
    "    def min_var_por(self):\n",
    "        self.W_A = (self.sigma_B**2-self.sigma_AB)/(self.sigma_A**2 + self.sigma_B**2 - 2*self.sigma_AB)\n",
    "        self.W_B = 1 - self.W_A\n",
    "        print('W_A:', round(self.W_A, 2)), print('W_B:', round(self.W_B, 2))\n",
    "        \n",
    "    def sharp_ratio_A(self, r_f):\n",
    "        print('SR_A:', round((self.r_A-r_f)/self.sigma_A,2))\n",
    "        \n",
    "    def sharp_ratio_B(self, r_f):\n",
    "        print('SR_B:', round((self.r_B-r_f)/self.sigma_B,2))"
   ]
  },
  {
   "cell_type": "code",
   "execution_count": 5,
   "metadata": {},
   "outputs": [],
   "source": [
    "def cor_2_cov(rho, sigma_A, sigma_B):\n",
    "    return(rho*sigma_A*sigma_B)"
   ]
  },
  {
   "cell_type": "markdown",
   "metadata": {},
   "source": [
    "_______"
   ]
  },
  {
   "cell_type": "markdown",
   "metadata": {},
   "source": [
    "## The Efficient Set for Two Assets"
   ]
  },
  {
   "cell_type": "markdown",
   "metadata": {},
   "source": [
    "### Minimum Variance Porfolio"
   ]
  },
  {
   "cell_type": "markdown",
   "metadata": {},
   "source": [
    "$$ W_A =  \\frac{\\sigma_B^2 - \\sigma_{AB}}{\\sigma_A^2+\\sigma_B^2-2\\sigma_{AB}} $$"
   ]
  },
  {
   "cell_type": "markdown",
   "metadata": {},
   "source": [
    "$$ W_B = 1-W_A $$"
   ]
  },
  {
   "cell_type": "code",
   "execution_count": 51,
   "metadata": {},
   "outputs": [],
   "source": [
    "class min_var_por:\n",
    "    \n",
    "    def __init__(self, sigma_A, sigma_B, sigma_AB):\n",
    "        self.sigma_A, self.sigma_B, self.sigma_AB = \\\n",
    "        sigma_A, sigma_B, sigma_AB\n",
    "        \n",
    "    def __call__(self):\n",
    "        self.W_A = (self.sigma_B**2-self.sigma_AB)/(self.sigma_A**2 + self.sigma_B**2 - 2*self.sigma_AB)\n",
    "        self.W_B = 1 - self.W_A\n",
    "        print('W_A:', round(self.W_A,2)), print('W_B:', round(self.W_B,2))"
   ]
  },
  {
   "cell_type": "markdown",
   "metadata": {},
   "source": [
    "_____"
   ]
  },
  {
   "cell_type": "markdown",
   "metadata": {},
   "source": [
    "## Risk of a Portfolio"
   ]
  },
  {
   "cell_type": "markdown",
   "metadata": {},
   "source": [
    "$$ \\text{Total Risk = Systematic Risk + Idiosyncratic Risk} $$"
   ]
  },
  {
   "cell_type": "markdown",
   "metadata": {},
   "source": [
    "$$ \\text{Systematic Risk} = \\beta_A^2 \\sigma_M^2 $$"
   ]
  },
  {
   "cell_type": "markdown",
   "metadata": {},
   "source": [
    "$$ \\text{Idiosyncratic Risk = Total Risk - Systematic Risk} $$"
   ]
  },
  {
   "cell_type": "code",
   "execution_count": null,
   "metadata": {},
   "outputs": [],
   "source": []
  },
  {
   "cell_type": "code",
   "execution_count": null,
   "metadata": {},
   "outputs": [],
   "source": []
  },
  {
   "cell_type": "markdown",
   "metadata": {},
   "source": [
    "# Solutions to chapter G."
   ]
  },
  {
   "cell_type": "markdown",
   "metadata": {},
   "source": [
    "__65) a.__"
   ]
  },
  {
   "cell_type": "code",
   "execution_count": 62,
   "metadata": {},
   "outputs": [
    {
     "name": "stdout",
     "output_type": "stream",
     "text": [
      "Expected return of the portfolio: 0.09\n",
      "Variance of the portolio: 0.01\n",
      "SD of the portolio: 0.12\n"
     ]
    }
   ],
   "source": [
    "ex_65_a = portfolio(r_A=.12, sigma_A= .15, r_B=.07, sigma_B=.1,\\\n",
    "                    sigma_AB=cor_2_cov(1, .15, .1))\n",
    "ex_65_a.exp_ret(.4, .6)\n",
    "ex_65_a.var_por(.4, .6)"
   ]
  },
  {
   "cell_type": "markdown",
   "metadata": {},
   "source": [
    "__65) b.__"
   ]
  },
  {
   "cell_type": "code",
   "execution_count": 63,
   "metadata": {},
   "outputs": [
    {
     "name": "stdout",
     "output_type": "stream",
     "text": [
      "Expected return of the portfolio: 0.09\n",
      "Variance of the portolio: 0.01\n",
      "SD of the portolio: 0.09\n"
     ]
    }
   ],
   "source": [
    "ex_65_b = portfolio(r_A=.12, sigma_A= .15, r_B=.07, sigma_B=.1,\\\n",
    "                    sigma_AB=cor_2_cov(.2, .15, .1))\n",
    "\n",
    "ex_65_b.exp_ret(.4, .6)\n",
    "ex_65_b.var_por(.4, .6)"
   ]
  },
  {
   "cell_type": "markdown",
   "metadata": {},
   "source": [
    "__65) c.__"
   ]
  },
  {
   "cell_type": "code",
   "execution_count": 74,
   "metadata": {
    "scrolled": true
   },
   "outputs": [
    {
     "name": "stdout",
     "output_type": "stream",
     "text": [
      "Expected return of the portfolio: 0.09\n",
      "Variance of the portolio: 0.0\n",
      "SD of the portolio: 0.0\n"
     ]
    }
   ],
   "source": [
    "ex_65_c = portfolio(r_A=.12, sigma_A= .15, r_B=.07, sigma_B=.1,\\\n",
    "                    sigma_AB=cor_2_cov(-1, .15, .1))\n",
    "\n",
    "ex_65_c.exp_ret(.4, .6)\n",
    "ex_65_c.var_por(.4, .6)"
   ]
  },
  {
   "cell_type": "markdown",
   "metadata": {},
   "source": [
    "__66) a.__"
   ]
  },
  {
   "cell_type": "code",
   "execution_count": 75,
   "metadata": {},
   "outputs": [
    {
     "name": "stdout",
     "output_type": "stream",
     "text": [
      "W_A: 0.9\n",
      "W_B: 0.1\n"
     ]
    }
   ],
   "source": [
    "ex_66_a = portfolio(r_A=.1, sigma_A= .05, r_B=.2, sigma_B=.15,\\\n",
    "                    sigma_AB=cor_2_cov(0, .05, .15))\n",
    "ex_66_a.min_var_por()"
   ]
  },
  {
   "cell_type": "markdown",
   "metadata": {},
   "source": [
    "__ 66) b. __"
   ]
  },
  {
   "cell_type": "markdown",
   "metadata": {},
   "source": [
    "If the correlation between two assets is different from +1, you may prefer to combine two assets (instead of investing 100% in one single asset) because of the diversification effect. That is, you can always combine the two assets in a way that you obtain a lower risk than the weighted average of the risk of individual assets."
   ]
  },
  {
   "cell_type": "markdown",
   "metadata": {},
   "source": [
    "__ 66) c. __"
   ]
  },
  {
   "cell_type": "code",
   "execution_count": 76,
   "metadata": {},
   "outputs": [
    {
     "name": "stdout",
     "output_type": "stream",
     "text": [
      "SR_A: 1.6\n",
      "SR_B: 1.2\n"
     ]
    }
   ],
   "source": [
    "ex_66_a.sharp_ratio_A(.02)\n",
    "ex_66_a.sharp_ratio_B(.02)"
   ]
  },
  {
   "cell_type": "markdown",
   "metadata": {},
   "source": [
    "Since asset A has a higher Sharpe Ratio, one should choose asset A to combine with the risk-free asset."
   ]
  }
 ],
 "metadata": {
  "kernelspec": {
   "display_name": "Python 3",
   "language": "python",
   "name": "python3"
  },
  "language_info": {
   "codemirror_mode": {
    "name": "ipython",
    "version": 3
   },
   "file_extension": ".py",
   "mimetype": "text/x-python",
   "name": "python",
   "nbconvert_exporter": "python",
   "pygments_lexer": "ipython3",
   "version": "3.6.3"
  }
 },
 "nbformat": 4,
 "nbformat_minor": 2
}
