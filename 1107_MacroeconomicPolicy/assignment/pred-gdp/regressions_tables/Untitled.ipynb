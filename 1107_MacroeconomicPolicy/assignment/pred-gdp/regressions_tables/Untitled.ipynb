{
 "cells": [
  {
   "cell_type": "markdown",
   "metadata": {},
   "source": [
    "# Cd"
   ]
  },
  {
   "cell_type": "markdown",
   "metadata": {},
   "source": [
    "Cd\n",
    "\n",
    "\n",
    "\\text{C\\_d\\_g\\_yoy}_{c,t}\n",
    "=\n",
    "\\beta_{0}   \n",
    "+ \\beta_{1} \\cdot \\text{C\\_d\\_g\\_yoy}_{c,t}\n",
    "+ \\beta_{2}  \\cdot \\text{C\\_d\\_g\\_qoq}_{c,t}\n",
    "+ \\beta_{3}  \\cdot \\text{retail\\_conf\\_ind}_{c,t}\n",
    "+ \\beta_{4}  \\cdot \\text{services\\_conf\\_ind}_{c,t} \n",
    "+ \\beta_{5}  \\cdot \\text{consumer\\_conf\\_ind}_{c,t}\n",
    "+ \\beta_{6}  \\cdot \\text{vehicle\\_heavy\\_man}_{c,t}\n",
    "+ \\beta_{7}  \\cdot \\text{vehicle\\_light\\_reg}_{c,t}\n",
    "+ \\beta_{8}  \\cdot \\text{D\\_AT}\n",
    "+ \\beta_{9}  \\cdot \\text{D\\_BE}\n",
    "+ \\beta_{10} \\cdot \\text{D\\_DE}\n",
    "+ \\beta_{11}  \\cdot \\text{D\\_DK}\n",
    "+ \\beta_{12}  \\cdot \\text{D\\_EE}\n",
    "+ \\beta_{13}  \\cdot \\text{D\\_EL}\n",
    "+ \\beta_{14}  \\cdot \\text{D\\_ES}\n",
    "+ \\beta_{15}  \\cdot \\text{D\\_FI} \n",
    "+ \\beta_{16}  \\cdot \\text{D\\_FR}\n",
    "+ \\beta_{17}  \\cdot \\text{D\\_IT}\n",
    "+ \\beta_{18}  \\cdot \\text{D\\_LT}\n",
    "+ \\beta_{19}  \\cdot \\text{D\\_LV}\n",
    "+ \\beta_{20}  \\cdot \\text{D\\_NL}\n",
    "+ \\beta_{21}  \\cdot \\text{D\\_PL}\n",
    "+ \\beta_{22}  \\cdot \\text{D\\_SE}\n",
    "+ \\beta_{23}   \\cdot \\text{D\\_UK}"
   ]
  },
  {
   "cell_type": "markdown",
   "metadata": {},
   "source": [
    "___________"
   ]
  },
  {
   "cell_type": "markdown",
   "metadata": {},
   "source": [
    "# Cnd"
   ]
  },
  {
   "cell_type": "code",
   "execution_count": null,
   "metadata": {},
   "outputs": [],
   "source": [
    "Cnd\n",
    "\n",
    "\\text{C\\_nd\\_g\\_yoy}_{c,t}\n",
    "=\n",
    "\\beta_{0} \n",
    "+ \\beta_{1} \\cdot \\text{C\\_nd\\_g\\_qoq}_{c,t}\n",
    "+ \\beta_{2} \\cdot \\text{retail_conf\\_ind}_{c,t}\n",
    "+ \\beta_{3} \\cdot \\text{services\\_conf\\_ind}_{c,t}\n",
    "+ \\beta_{4} \\cdot \\text{retail\\_food\\_index}_{c,t}\n",
    "+ \\beta_{5} \\cdot \\text{retail\\_food\\_index}_{c,t}\n",
    "+ \\beta_{6} \\cdot \\text{unemp\\_h\\_all}_{c,t}\n",
    "+ \\beta_{7} \\cdot \\text{D\\_AT}\n",
    "+ \\beta_{8} \\cdot \\text{D\\_BE}\n",
    "+ \\beta_{9} \\cdot \\text{D\\_DE}\n",
    "+ \\beta_{10}\\cdot \\text{D\\_DK}\n",
    "+ \\beta_{11} \\cdot \\text{D\\_EE}\n",
    "+ \\beta_{12} \\cdot \\text{D\\_EL}\n",
    "+ \\beta_{13} \\cdot \\text{D\\_ES}\n",
    "+ \\beta_{14} \\cdot \\text{D\\_FI}\n",
    "+ \\beta_{15} \\cdot \\text{D\\_FR}\n",
    "+ \\beta_{16} \\cdot \\text{D\\_IT}\n",
    "+ \\beta_{17} \\cdot \\text{D\\_LT}\n",
    "+ \\beta_{18} \\cdot \\text{D\\_LV}\n",
    "+ \\beta_{19} \\cdot \\text{D\\_NL}\n",
    "+ \\beta_{20} \\cdot \\text{D\\_PL}\n",
    "+ \\beta_{21} \\cdot \\text{D\\_SE}\n",
    "+ \\beta_{22} \\cdot \\text{D\\_SI}\n",
    "+ \\beta_{23} \\cdot \\text{D\\_UK}"
   ]
  },
  {
   "cell_type": "markdown",
   "metadata": {},
   "source": [
    "_________"
   ]
  },
  {
   "cell_type": "markdown",
   "metadata": {},
   "source": [
    "# Igfcf"
   ]
  },
  {
   "cell_type": "markdown",
   "metadata": {},
   "source": [
    "Igfcf\n",
    "\n",
    "\\text{I\\_gfcf\\_g\\_yoy}_{c,t}\n",
    "=\n",
    "\\beta_{0} \n",
    "+ \\beta_{1}  \\cdot \\text{I\\_gfcf\\_g\\_qoq}_{c,t}\n",
    "+ \\beta_{2}  \\cdot \\text{business\\_climate\\_ind }_{t}\n",
    "+ \\beta_{3}  \\cdot \\text{industrial\\_conf\\_ind}_{c,t}\n",
    "+ \\beta_{4}  \\cdot \\text{construction_conf\\_ind}_{c,t}\n",
    "+ \\beta_{5}  \\cdot \\text{m\\_q\\_manufacturing\\_nenergy}_{c,t}\n",
    "+ \\beta_{6}  \\cdot \\text{vehicle\\_heavy\\_man}_{c,t}\n",
    "+ \\beta_{7}  \\cdot \\text{D\\_AT}\n",
    "+ \\beta_{8}  \\cdot \\text{D\\_BE}\n",
    "+ \\beta_{9}  \\cdot \\text{D\\_BG}\n",
    "+ \\beta_{10} \\cdot \\text{D\\_CZ}\n",
    "+ \\beta_{11} \\cdot \\text{D\\_DE}\n",
    "+ \\beta_{12} \\cdot \\text{D\\_DK}\n",
    "+ \\beta_{13} \\cdot \\text{D\\_EE}\n",
    "+ \\beta_{14} \\cdot \\text{D\\_EL}\n",
    "+ \\beta_{15} \\cdot \\text{D\\_ES}\n",
    "+ \\beta_{16} \\cdot \\text{D\\_FI}\n",
    "+ \\beta_{17} \\cdot \\text{D\\_FR}\n",
    "+ \\beta_{18} \\cdot \\text{D\\_HU}\n",
    "+ \\beta_{19} \\cdot \\text{D\\_IT}\n",
    "+ \\beta_{20} \\cdot \\text{D\\_LT}\n",
    "+ \\beta_{21} \\cdot \\text{D\\_LV}\n",
    "+ \\beta_{22} \\cdot \\text{D\\_PL}\n",
    "+ \\beta_{23} \\cdot \\text{D\\_RO}"
   ]
  },
  {
   "cell_type": "markdown",
   "metadata": {},
   "source": [
    "____________________"
   ]
  },
  {
   "cell_type": "markdown",
   "metadata": {},
   "source": [
    "# X"
   ]
  },
  {
   "cell_type": "code",
   "execution_count": null,
   "metadata": {},
   "outputs": [],
   "source": [
    "X\n",
    "\n",
    "\\text{rgdp\\_g\\_qoq}_{c,t}\n",
    "=\n",
    "\\beta_{0}\n",
    "+ \\beta_{1} \\cdot s_c \\cdot \\text{AT\\_rgdp\\_g\\_qoq}_{t}\n",
    "+ \\beta_{2} \\cdot s_c \\cdot \\text{BE\\_rgdp\\_g\\_qoq}_{t}\n",
    "+ \\beta_{3} \\cdot s_c \\cdot \\text{DE\\_rgdp\\_g\\_qoq}_{t} \n",
    "+ \\beta_{4} \\cdot s_c \\cdot \\text{EE\\_rgdp\\_g\\_qoq}_{t}\n",
    "+ \\beta_{5} \\cdot s_c \\cdot \\text{EL\\_rgdp\\_g\\_qoq}_{t}\n",
    "+ \\beta_{6} \\cdot s_c \\cdot \\text{ES\\_rgdp\\_g\\_qoq}_{t} \n",
    "+ \\beta_{7} \\cdot s_c \\cdot \\text{FI\\_rgdp\\_g\\_qoq}_{t}\n",
    "+ \\beta_{8} \\cdot s_c \\cdot \\text{FR\\_rgdp\\_g\\_qoq}_{t}\n",
    "+ \\beta_{9} \\cdot s_c \\cdot \\text{IE\\_rgdp\\_g\\_qoq}_{t} \n",
    "+ \\beta_{10} \\cdot s_c \\cdot \\text{IT\\_rgdp\\_g\\_qoq}_{t}\n",
    "+ \\beta_{11} \\cdot s_c \\cdot \\text{LV\\_rgdp\\_g\\_qoq}_{t}\n",
    "+ \\beta_{12} \\cdot s_c \\cdot \\text{NL\\_rgdp\\_g\\_qoq }_{t}\n",
    "+ \\beta_{13} \\cdot s_c \\cdot \\text{PT\\_rgdp\\_g\\_qoq}_{t}\n",
    "+ \\beta_{14} \\cdot s_c \\cdot \\text{SI\\_rgdp\\_g\\_qoq}_{t}\n",
    "+ \\beta_{15} \\cdot \\text{X\\_g\\_yoy}_{t}\n",
    "+ \\beta_{16} \\cdot \\text{business\\_climate\\_ind}_{t}\n",
    "+ \\beta_{17} \\cdot \\text{economic_sentiment_ind}_{c,t}\n",
    "+ \\beta_{18} \\cdot \\text{reer\\_42p}_{c,t}"
   ]
  },
  {
   "cell_type": "markdown",
   "metadata": {},
   "source": [
    "___________"
   ]
  },
  {
   "cell_type": "markdown",
   "metadata": {},
   "source": [
    "# M"
   ]
  },
  {
   "cell_type": "code",
   "execution_count": null,
   "metadata": {},
   "outputs": [],
   "source": [
    "M\n",
    "\n",
    "\\text{M\\_g\\_yoy}_{c,t}\n",
    "=\n",
    "\\beta_{0} \n",
    "+ \\beta_{1} \\cdot \\text{C\\_d\\_\\g_yoy}_{c,t}\n",
    "+ \\beta_{2} \\cdot \\text{C\\_nd\\_g\\_yoy}_{c,t}\n",
    "+ \\beta_{3} \\cdot \\text{G\\_g\\_yoy}_{c,t}\n",
    "+ \\beta_{4} \\cdot \\text{I\\_gfcf\\_g\\_yoy}_{c,t}\n",
    "+ \\beta_{5} \\cdot \\text{economic\\_sentiment\\_ind}_{c,t}\n",
    "+ \\beta_{6} \\cdot \\text{reer\\_42p}_{c,t}\n",
    "+ \\beta_{7} \\cdot \\text{M\\_g\\_qoq}_{c,t}"
   ]
  },
  {
   "cell_type": "markdown",
   "metadata": {},
   "source": [
    "_______________"
   ]
  },
  {
   "cell_type": "markdown",
   "metadata": {},
   "source": [
    "# U"
   ]
  },
  {
   "cell_type": "code",
   "execution_count": null,
   "metadata": {},
   "outputs": [],
   "source": [
    "\\text{U\\_d\\_yoy}_{c,t}\n",
    "=\n",
    "\\beta_{0}  \\cdot \n",
    "+ \\beta_{1} \\cdot \\text{U\\_l\\_lag}_{c,t}\n",
    "+ \\beta_{2} \\cdot \\text{C\\_d\\_g\\_yoy}_{c,t}\n",
    "+ \\beta_{3} \\cdot \\text{C\\_nd\\_g\\_yoy}_{c,t}\n",
    "+ \\beta_{4} \\cdot \\text{G\\_g\\_yoy}_{c,t}\n",
    "+ \\beta_{5} \\cdot \\text{I\\_gfcf\\_g\\_yoy}_{c,t}\n",
    "+ \\beta_{6} \\cdot \\text{economic\\_sentiment\\_ind}_{c,t}\n",
    "+ \\beta_{7} \\cdot \\text{reer\\_42p}_{c,t}\n",
    "+ \\beta_{1} \\cdot \\text{C\\_d\\_g\\_qoq}_{c,t}\n",
    "+ \\beta_{2} \\cdot \\text{C\\_nd\\_g\\_qoq}_{c,t}\n",
    "+ \\beta_{3} \\cdot \\text{G\\_g\\_qoq}_{c,t}\n",
    "+ \\beta_{4} \\cdot \\text{I\\_gfcf\\_g\\_qoq}_{c,t}"
   ]
  }
 ],
 "metadata": {
  "kernelspec": {
   "display_name": "Python 3",
   "language": "python",
   "name": "python3"
  },
  "language_info": {
   "codemirror_mode": {
    "name": "ipython",
    "version": 3
   },
   "file_extension": ".py",
   "mimetype": "text/x-python",
   "name": "python",
   "nbconvert_exporter": "python",
   "pygments_lexer": "ipython3",
   "version": "3.6.6"
  }
 },
 "nbformat": 4,
 "nbformat_minor": 2
}
