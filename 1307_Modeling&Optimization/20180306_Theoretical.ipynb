{
 "cells": [
  {
   "cell_type": "code",
   "execution_count": 1,
   "metadata": {},
   "outputs": [],
   "source": [
    "using Combinatorics"
   ]
  },
  {
   "cell_type": "markdown",
   "metadata": {},
   "source": [
    "# Initial Setup"
   ]
  },
  {
   "cell_type": "markdown",
   "metadata": {},
   "source": [
    "__ Problem Statement __"
   ]
  },
  {
   "cell_type": "markdown",
   "metadata": {},
   "source": [
    "\\begin{equation*}\n",
    "\\begin{aligned}\n",
    "& \\underset{\\textbf{x}}{\\text{Max}}\n",
    "& & z = \\textbf{cx} \\\\\n",
    "& \\text{subject to}\n",
    "& & \\textbf{Ax} = \\textbf{b}, \\\\\n",
    "&&& \\textbf{x} \\geq \\textbf{0}.\n",
    "\\end{aligned}\n",
    "\\end{equation*}"
   ]
  },
  {
   "cell_type": "markdown",
   "metadata": {},
   "source": [
    "\n",
    "Where:"
   ]
  },
  {
   "cell_type": "markdown",
   "metadata": {},
   "source": [
    "$$ \\textbf{c} =\n",
    "\\begin{bmatrix}\n",
    "    c_{1} & c_{2} & \\dots  & c_{n} \\\\\n",
    "\\end{bmatrix}\n",
    ", \\quad \\textbf{x} =\n",
    "\\begin{bmatrix}\n",
    "    x_{1}  \\\\\n",
    "    x_{2}  \\\\\n",
    "    \\vdots \\\\\n",
    "    x_{n} \n",
    "\\end{bmatrix}\n",
    ", \\quad \\textbf{b} =\n",
    "\\begin{bmatrix}\n",
    "    0  \\\\\n",
    "    0  \\\\\n",
    "    \\vdots \\\\\n",
    "    0 \n",
    "\\end{bmatrix}\n",
    ", \\quad \\textbf{A} =\n",
    "\\begin{bmatrix}\n",
    "    a_{11} & a_{12} & \\dots  & a_{1n} \\\\\n",
    "    a_{21} & a_{22} & \\dots  & a_{2n} \\\\\n",
    "    \\vdots & \\vdots & \\ddots & \\vdots \\\\\n",
    "    a_{m1} & a_{m2} & \\dots  & a_{mn}\n",
    "\\end{bmatrix}\n",
    "$$"
   ]
  },
  {
   "cell_type": "markdown",
   "metadata": {},
   "source": [
    "__________"
   ]
  },
  {
   "cell_type": "markdown",
   "metadata": {},
   "source": [
    "_ Class Example _"
   ]
  },
  {
   "cell_type": "markdown",
   "metadata": {},
   "source": [
    "$$ \\begin{equation*}\n",
    "\\begin{aligned}\n",
    "& \\underset{x_1, x_2}{\\text{Max}}\n",
    "& & z = x_1 + x_2 \\\\\n",
    "& \\text{subject to}\n",
    "& & 2x_1 + x_2 \\leq 2, \\\\\n",
    "&&& x_1 + 2x_2 \\leq 2, \\\\\n",
    "&&& x_1, x_2 \\geq 0.\n",
    "\\end{aligned}\n",
    "\\end{equation*}\n",
    "$$"
   ]
  },
  {
   "cell_type": "markdown",
   "metadata": {},
   "source": [
    "Stated as:"
   ]
  },
  {
   "cell_type": "markdown",
   "metadata": {},
   "source": [
    "$$ \\begin{equation*}\n",
    "\\begin{aligned}\n",
    "& \\underset{x_1, x_2}{\\text{Max}}\n",
    "& & z = 1\\cdot x_1 +1 \\cdot x_2 \\\\\n",
    "& \\text{subject to}\n",
    "& & 2x_1 + x_2 + s_1 = 2, \\\\\n",
    "&&& x_1 + 2x_2 +s_2 = 2, \\\\\n",
    "&&& x_1, x_2, s_1, s_2 \\geq 0.\n",
    "\\end{aligned}\n",
    "\\end{equation*}\n",
    "$$"
   ]
  },
  {
   "cell_type": "markdown",
   "metadata": {},
   "source": [
    "Where:"
   ]
  },
  {
   "cell_type": "markdown",
   "metadata": {},
   "source": [
    "$$ \\textbf{c} =\n",
    "\\begin{bmatrix}\n",
    "    1 & 1\n",
    "\\end{bmatrix}\n",
    ", \\quad \\textbf{x} =\n",
    "\\begin{bmatrix}\n",
    "    x_{1}  \\\\\n",
    "    x_{2}\n",
    "\\end{bmatrix}\n",
    ", \\quad \\textbf{b} =\n",
    "\\begin{bmatrix}\n",
    "    2  \\\\\n",
    "    2  \n",
    "\\end{bmatrix}\n",
    ", \\quad \\textbf{A} =\n",
    "\\begin{bmatrix}\n",
    "    2 & 1 & 1  & 0 \\\\\n",
    "    1 & 2 & 0  & 1\n",
    "\\end{bmatrix}\n",
    "$$"
   ]
  },
  {
   "cell_type": "markdown",
   "metadata": {},
   "source": [
    "__________"
   ]
  },
  {
   "cell_type": "markdown",
   "metadata": {},
   "source": [
    "# Basic and Nonbasic Setup"
   ]
  },
  {
   "cell_type": "markdown",
   "metadata": {},
   "source": [
    "$$\\begin{equation*}\n",
    "\\begin{aligned}\n",
    "& \\underset{\\textbf{x}_B, \\textbf{x}_D}{\\text{Max}}\n",
    "& & z = \\textbf{c}_B \\textbf{x}_B+\\textbf{c}_D \\textbf{x}_D \\\\\n",
    "& \\text{subject to}\n",
    "& & \\textbf{B}\\textbf{x}_B +\\textbf{D}\\textbf{x}_D = \\textbf{b}, \\\\\n",
    "&&& \\textbf{x}_B, \\textbf{x}_D \\geq \\textbf{0}.\n",
    "\\end{aligned}\n",
    "\\end{equation*}$$"
   ]
  },
  {
   "cell_type": "markdown",
   "metadata": {},
   "source": [
    "Where:"
   ]
  },
  {
   "cell_type": "markdown",
   "metadata": {},
   "source": [
    "$$ \\textbf{x}_B \\quad \\text{is the basic variables vector} \\\\ \\textbf{x}_D \\quad \\text{is the nonbasic variables vector}$$"
   ]
  },
  {
   "cell_type": "markdown",
   "metadata": {},
   "source": [
    "__ For a Basic Feasible solution: __"
   ]
  },
  {
   "cell_type": "markdown",
   "metadata": {},
   "source": [
    "$$ \\textbf{x}_D = \\textbf{0} \\quad \\Rightarrow \\quad \\textbf{x}_B = \\textbf{B}^{-1}\\textbf{b} \\quad \\textbf{and} \\quad z = \\textbf{c}_B \\textbf{B}^{-1} \\textbf{b}$$"
   ]
  },
  {
   "cell_type": "markdown",
   "metadata": {},
   "source": [
    "__________"
   ]
  },
  {
   "cell_type": "markdown",
   "metadata": {},
   "source": [
    "## _ Class Example _"
   ]
  },
  {
   "cell_type": "markdown",
   "metadata": {},
   "source": [
    "### Starting with the slack variables as the basic variables:"
   ]
  },
  {
   "cell_type": "markdown",
   "metadata": {},
   "source": [
    "$$ \\textbf{x}_D = \n",
    "\\begin{bmatrix}\n",
    "    x_{1}  \\\\\n",
    "    x_{2}\n",
    "\\end{bmatrix} \n",
    "= \n",
    "\\begin{bmatrix}\n",
    "    0 \\\\\n",
    "    0\n",
    "\\end{bmatrix}\n",
    ", \\quad \n",
    "\\textbf{x}_B =\n",
    "\\begin{bmatrix}\n",
    "    s_{1}  \\\\\n",
    "    s_{2}\n",
    "\\end{bmatrix} \n",
    "$$"
   ]
  },
  {
   "cell_type": "markdown",
   "metadata": {},
   "source": [
    "$$ \\textbf{A} =\n",
    "\\begin{bmatrix}\n",
    "    \\textbf{D} & \\textbf{B}\n",
    "\\end{bmatrix}\n",
    ", \\quad \\textbf{D} =\n",
    "\\begin{bmatrix}\n",
    "    2 & 1 \\\\\n",
    "    1 & 2\n",
    "\\end{bmatrix}\n",
    ", \\quad \\textbf{B} =\n",
    "\\begin{bmatrix}\n",
    "    1 & 0 \\\\\n",
    "    0 & 1   \n",
    "\\end{bmatrix}\n",
    "$$"
   ]
  },
  {
   "cell_type": "markdown",
   "metadata": {},
   "source": [
    "__ Let us calculate $\\textbf{x}_B = \\textbf{B}^{-1}\\textbf{b}$ :__"
   ]
  },
  {
   "cell_type": "code",
   "execution_count": 2,
   "metadata": {},
   "outputs": [
    {
     "data": {
      "text/plain": [
       "2-element Array{Float64,1}:\n",
       " 2.0\n",
       " 2.0"
      ]
     },
     "execution_count": 2,
     "metadata": {},
     "output_type": "execute_result"
    }
   ],
   "source": [
    "B = eye(2); b = [2;2];\n",
    "x_B = inv(B)*b"
   ]
  },
  {
   "cell_type": "markdown",
   "metadata": {},
   "source": [
    "__ And $ z = \\textbf{c}_B \\textbf{B}^{-1} \\textbf{b} $ : __"
   ]
  },
  {
   "cell_type": "code",
   "execution_count": 3,
   "metadata": {},
   "outputs": [
    {
     "data": {
      "text/plain": [
       "1-element Array{Float64,1}:\n",
       " 0.0"
      ]
     },
     "execution_count": 3,
     "metadata": {},
     "output_type": "execute_result"
    }
   ],
   "source": [
    "c_B = [0 0];\n",
    "z = c_B*inv(B)*b"
   ]
  },
  {
   "cell_type": "markdown",
   "metadata": {},
   "source": [
    "### Changing the slack variables to the nonbasic variables:"
   ]
  },
  {
   "cell_type": "markdown",
   "metadata": {},
   "source": [
    "$$ \\textbf{x}_D = \n",
    "\\begin{bmatrix}\n",
    "    s_{1}  \\\\\n",
    "    s_{2}\n",
    "\\end{bmatrix} \n",
    "= \n",
    "\\begin{bmatrix}\n",
    "    0 \\\\\n",
    "    0\n",
    "\\end{bmatrix}\n",
    ", \\quad \n",
    "\\textbf{x}_B =\n",
    "\\begin{bmatrix}\n",
    "    x_{1}  \\\\\n",
    "    x_{2}\n",
    "\\end{bmatrix} \n",
    "$$"
   ]
  },
  {
   "cell_type": "markdown",
   "metadata": {},
   "source": [
    "$$ \\textbf{A} =\n",
    "\\begin{bmatrix}\n",
    "    \\textbf{B} & \\textbf{D}\n",
    "\\end{bmatrix}\n",
    ", \\quad \\textbf{B} =\n",
    "\\begin{bmatrix}\n",
    "    2 & 1 \\\\\n",
    "    1 & 2\n",
    "\\end{bmatrix}\n",
    ", \\quad \\textbf{D} =\n",
    "\\begin{bmatrix}\n",
    "    1 & 0 \\\\\n",
    "    0 & 1   \n",
    "\\end{bmatrix}\n",
    "$$"
   ]
  },
  {
   "cell_type": "markdown",
   "metadata": {},
   "source": [
    "__ Let us calculate $\\textbf{x}_B = \\textbf{B}^{-1}\\textbf{b}$ :__"
   ]
  },
  {
   "cell_type": "code",
   "execution_count": 4,
   "metadata": {},
   "outputs": [
    {
     "data": {
      "text/plain": [
       "2-element Array{Float64,1}:\n",
       " 0.666667\n",
       " 0.666667"
      ]
     },
     "execution_count": 4,
     "metadata": {},
     "output_type": "execute_result"
    }
   ],
   "source": [
    "B = [2 1; 1 2]; b = [2;2];\n",
    "x_B = inv(B)*b"
   ]
  },
  {
   "cell_type": "markdown",
   "metadata": {},
   "source": [
    "__ And $ z = \\textbf{c}_B \\textbf{B}^{-1} \\textbf{b} $ : __"
   ]
  },
  {
   "cell_type": "code",
   "execution_count": 5,
   "metadata": {},
   "outputs": [
    {
     "data": {
      "text/plain": [
       "1-element Array{Float64,1}:\n",
       " 1.33333"
      ]
     },
     "execution_count": 5,
     "metadata": {},
     "output_type": "execute_result"
    }
   ],
   "source": [
    "c_B = [1 1];\n",
    "z = c_B*inv(B)*b"
   ]
  },
  {
   "cell_type": "markdown",
   "metadata": {},
   "source": [
    "### Checking all combinations:"
   ]
  },
  {
   "cell_type": "code",
   "execution_count": 8,
   "metadata": {},
   "outputs": [
    {
     "data": {
      "text/plain": [
       "Combination_Results (generic function with 1 method)"
      ]
     },
     "execution_count": 8,
     "metadata": {},
     "output_type": "execute_result"
    }
   ],
   "source": [
    "function Combination_Results(basic_pair)\n",
    "    B = [A[:,basic_pair[1]] A[:,basic_pair[2]]]\n",
    "    x_B = inv(B)*b\n",
    "    c_B = [c[basic_pair[1]] c[basic_pair[2]]]\n",
    "    z = c_B*inv(B)*b\n",
    "    println(\"Basic Variables: (\", variables[basic_pair[1]], \", \", variables[basic_pair[2]], \") = (\", round(x_B[1],2), \", \", round(x_B[2],2), \"). Objective: z = \", round(z[1],2), \".\")\n",
    "end"
   ]
  },
  {
   "cell_type": "code",
   "execution_count": 9,
   "metadata": {},
   "outputs": [
    {
     "name": "stdout",
     "output_type": "stream",
     "text": [
      "Basic Variables: (x_1, x_2) = (0.67, 0.67). Objective: z = 1.33.\n",
      "Basic Variables: (x_1, s_1) = (2.0, -2.0). Objective: z = 2.0.\n",
      "Basic Variables: (x_1, s_2) = (1.0, 1.0). Objective: z = 1.0.\n",
      "Basic Variables: (x_2, s_1) = (1.0, 1.0). Objective: z = 1.0.\n",
      "Basic Variables: (x_2, s_2) = (2.0, -2.0). Objective: z = 2.0.\n",
      "Basic Variables: (s_1, s_2) = (2.0, 2.0). Objective: z = 0.0.\n"
     ]
    }
   ],
   "source": [
    "# Exercise information\n",
    "variables = [\"x_1\", \"x_2\", \"s_1\", \"s_2\"]\n",
    "A = [2 1 1 0; 1 2 0 1]\n",
    "b = [2; 2]\n",
    "c = [1 1 0 0]\n",
    "\n",
    "# Results\n",
    "for basic_variable in collect(combinations(1:4, 2))\n",
    "    Combination_Results(basic_variable)\n",
    "end"
   ]
  },
  {
   "cell_type": "markdown",
   "metadata": {},
   "source": [
    "<br>"
   ]
  }
 ],
 "metadata": {
  "kernelspec": {
   "display_name": "Julia 0.6.2",
   "language": "julia",
   "name": "julia-0.6"
  },
  "language_info": {
   "file_extension": ".jl",
   "mimetype": "application/julia",
   "name": "julia",
   "version": "0.6.2"
  }
 },
 "nbformat": 4,
 "nbformat_minor": 2
}
