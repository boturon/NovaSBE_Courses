{
 "cells": [
  {
   "cell_type": "markdown",
   "metadata": {},
   "source": [
    "## Dependencies"
   ]
  },
  {
   "cell_type": "code",
   "execution_count": 1,
   "metadata": {},
   "outputs": [],
   "source": [
    "using DataFrames\n",
    "using ExcelReaders"
   ]
  },
  {
   "cell_type": "markdown",
   "metadata": {},
   "source": [
    "<br>"
   ]
  },
  {
   "cell_type": "markdown",
   "metadata": {},
   "source": [
    "## Data"
   ]
  },
  {
   "cell_type": "code",
   "execution_count": 2,
   "metadata": {},
   "outputs": [],
   "source": [
    "df_assignment = readxl(DataFrame, \"./gw1_macro.xlsx\", \"Sheet1!A1:B101\")\n",
    "df_data = readxl(DataFrame, \"./pwt90.xlsx\", \"Data!A1:AU11831\");"
   ]
  },
  {
   "cell_type": "code",
   "execution_count": 3,
   "metadata": {},
   "outputs": [
    {
     "data": {
      "text/html": [
       "<table class=\"data-frame\"><thead><tr><th></th><th>group</th><th>country</th></tr></thead><tbody><tr><th>1</th><td>100.0</td><td>CHN</td></tr><tr><th>2</th><td>101.0</td><td>USA</td></tr></tbody></table>"
      ],
      "text/plain": [
       "2×2 DataFrames.DataFrame\n",
       "│ Row │ group │ country │\n",
       "├─────┼───────┼─────────┤\n",
       "│ 1   │ 100.0 │ \"CHN\"   │\n",
       "│ 2   │ 101.0 │ \"USA\"   │"
      ]
     },
     "execution_count": 3,
     "metadata": {},
     "output_type": "execute_result"
    }
   ],
   "source": [
    "head(df_assignment,2)"
   ]
  },
  {
   "cell_type": "code",
   "execution_count": 4,
   "metadata": {},
   "outputs": [
    {
     "data": {
      "text/html": [
       "<table class=\"data-frame\"><thead><tr><th></th><th>countrycode</th><th>country</th><th>currency_unit</th><th>year</th><th>rgdpe</th><th>rgdpo</th><th>pop</th><th>emp</th><th>avh</th><th>hc</th><th>ccon</th><th>cda</th><th>cgdpe</th><th>cgdpo</th><th>ck</th><th>ctfp</th><th>cwtfp</th><th>rgdpna</th><th>rconna</th><th>rdana</th><th>rkna</th><th>rtfpna</th><th>rwtfpna</th><th>labsh</th><th>delta</th><th>xr</th><th>pl_con</th><th>pl_da</th><th>pl_gdpo</th><th>i_cig</th><th>i_xm</th><th>i_xr</th><th>i_outlier</th><th>cor_exp</th><th>statcap</th><th>csh_c</th><th>csh_i</th><th>csh_g</th><th>csh_x</th><th>csh_m</th><th>csh_r</th><th>pl_c</th><th>pl_i</th><th>pl_g</th><th>pl_x</th><th>pl_m</th><th>pl_k</th></tr></thead><tbody><tr><th>1</th><td>ABW</td><td>Aruba</td><td>Aruban Guilder</td><td>1950.0</td><td>NA</td><td>NA</td><td>NA</td><td>NA</td><td>NA</td><td>NA</td><td>NA</td><td>NA</td><td>NA</td><td>NA</td><td>NA</td><td>NA</td><td>NA</td><td>NA</td><td>NA</td><td>NA</td><td>NA</td><td>NA</td><td>NA</td><td>NA</td><td>NA</td><td>NA</td><td>NA</td><td>NA</td><td>NA</td><td>NA</td><td>NA</td><td>NA</td><td>NA</td><td>NA</td><td>NA</td><td>NA</td><td>NA</td><td>NA</td><td>NA</td><td>NA</td><td>NA</td><td>NA</td><td>NA</td><td>NA</td><td>NA</td><td>NA</td><td>NA</td></tr><tr><th>2</th><td>ABW</td><td>Aruba</td><td>Aruban Guilder</td><td>1951.0</td><td>NA</td><td>NA</td><td>NA</td><td>NA</td><td>NA</td><td>NA</td><td>NA</td><td>NA</td><td>NA</td><td>NA</td><td>NA</td><td>NA</td><td>NA</td><td>NA</td><td>NA</td><td>NA</td><td>NA</td><td>NA</td><td>NA</td><td>NA</td><td>NA</td><td>NA</td><td>NA</td><td>NA</td><td>NA</td><td>NA</td><td>NA</td><td>NA</td><td>NA</td><td>NA</td><td>NA</td><td>NA</td><td>NA</td><td>NA</td><td>NA</td><td>NA</td><td>NA</td><td>NA</td><td>NA</td><td>NA</td><td>NA</td><td>NA</td><td>NA</td></tr></tbody></table>"
      ],
      "text/plain": [
       "2×47 DataFrames.DataFrame\n",
       "│ Row │ countrycode │ country │ currency_unit    │ year   │ rgdpe │ rgdpo │\n",
       "├─────┼─────────────┼─────────┼──────────────────┼────────┼───────┼───────┤\n",
       "│ 1   │ \"ABW\"       │ \"Aruba\" │ \"Aruban Guilder\" │ 1950.0 │ NA    │ NA    │\n",
       "│ 2   │ \"ABW\"       │ \"Aruba\" │ \"Aruban Guilder\" │ 1951.0 │ NA    │ NA    │\n",
       "\n",
       "│ Row │ pop │ emp │ avh │ hc │ ccon │ cda │ cgdpe │ cgdpo │ ck │ ctfp │ cwtfp │\n",
       "├─────┼─────┼─────┼─────┼────┼──────┼─────┼───────┼───────┼────┼──────┼───────┤\n",
       "│ 1   │ NA  │ NA  │ NA  │ NA │ NA   │ NA  │ NA    │ NA    │ NA │ NA   │ NA    │\n",
       "│ 2   │ NA  │ NA  │ NA  │ NA │ NA   │ NA  │ NA    │ NA    │ NA │ NA   │ NA    │\n",
       "\n",
       "│ Row │ rgdpna │ rconna │ rdana │ rkna │ rtfpna │ rwtfpna │ labsh │ delta │ xr │\n",
       "├─────┼────────┼────────┼───────┼──────┼────────┼─────────┼───────┼───────┼────┤\n",
       "│ 1   │ NA     │ NA     │ NA    │ NA   │ NA     │ NA      │ NA    │ NA    │ NA │\n",
       "│ 2   │ NA     │ NA     │ NA    │ NA   │ NA     │ NA      │ NA    │ NA    │ NA │\n",
       "\n",
       "│ Row │ pl_con │ pl_da │ pl_gdpo │ i_cig │ i_xm │ i_xr │ i_outlier │ cor_exp │\n",
       "├─────┼────────┼───────┼─────────┼───────┼──────┼──────┼───────────┼─────────┤\n",
       "│ 1   │ NA     │ NA    │ NA      │ NA    │ NA   │ NA   │ NA        │ NA      │\n",
       "│ 2   │ NA     │ NA    │ NA      │ NA    │ NA   │ NA   │ NA        │ NA      │\n",
       "\n",
       "│ Row │ statcap │ csh_c │ csh_i │ csh_g │ csh_x │ csh_m │ csh_r │ pl_c │ pl_i │\n",
       "├─────┼─────────┼───────┼───────┼───────┼───────┼───────┼───────┼──────┼──────┤\n",
       "│ 1   │ NA      │ NA    │ NA    │ NA    │ NA    │ NA    │ NA    │ NA   │ NA   │\n",
       "│ 2   │ NA      │ NA    │ NA    │ NA    │ NA    │ NA    │ NA    │ NA   │ NA   │\n",
       "\n",
       "│ Row │ pl_g │ pl_x │ pl_m │ pl_k │\n",
       "├─────┼──────┼──────┼──────┼──────┤\n",
       "│ 1   │ NA   │ NA   │ NA   │ NA   │\n",
       "│ 2   │ NA   │ NA   │ NA   │ NA   │"
      ]
     },
     "execution_count": 4,
     "metadata": {},
     "output_type": "execute_result"
    }
   ],
   "source": [
    "head(df_data,2)"
   ]
  },
  {
   "cell_type": "markdown",
   "metadata": {},
   "source": [
    "<br>"
   ]
  },
  {
   "cell_type": "markdown",
   "metadata": {},
   "source": [
    "## Code"
   ]
  },
  {
   "cell_type": "code",
   "execution_count": 5,
   "metadata": {},
   "outputs": [],
   "source": [
    "function GW1_respondes(group)\n",
    "    \n",
    "    # Country selection\n",
    "    country = df_assignment[(df_assignment[:group].==group),:][2]\n",
    "    country_message = string(\"The second section of the anwers will show the solutions for PRT and \", country[1], \".\")\n",
    "    \n",
    "    # Exercise 1\n",
    "    df_country = df_data[.|(df_data[:countrycode] .== \"PRT\", df_data[:countrycode] .== country), :]\n",
    "    data = df_country[.|(df_country[:year] .== 2000, df_country[:year] .== 2014), [:countrycode, :country, :year, :rgdpo, :emp, :rkna, :labsh]]    \n",
    "    \n",
    "    # Exercise 2\n",
    "    gdp = []\n",
    "    for i in 1:2 push!(gdp, ((data[i*2,4]/data[i*2-1,4])^(1/(data[i*2,3]-data[i*2-1,3]))-1)*100) end\n",
    "    ex2_results = [\"\" data[1,2] data[3,2]; \"Growth Rate (%)\" gdp[1] gdp[2]]\n",
    "    \n",
    "    # Exercise 3\n",
    "    ex3_results = [\"Country\" \"TFP2000\" \"TFP2014\" \"ΔTFP/TFP\"]\n",
    "    for i in 1:2\n",
    "        α = 1 - data[i*2-1,7]\n",
    "        TFP2000 = data[i*2-1,4]/(data[i*2-1,6]^α * data[i*2-1,5]^(1-α))\n",
    "        TFP2014 = data[i*2,4]/(data[i*2,6]^α * data[i*2,5]^(1-α))\n",
    "        ex3_results = [ex3_results; data[i*2,2] TFP2000 TFP2014 (TFP2014-TFP2000)/TFP2000*100]\n",
    "    end\n",
    "    \n",
    "    # Exercise 4\n",
    "    ex4_changes = [\"Country\" \"ΔY/Y\" \"ΔTFP/TFP\" \"α*ΔK/K\" \"(1-α)*ΔL/L\"]\n",
    "    ex4_contributions = [\"Country\" \"%ΔTFP/TFP\" \"%α*ΔK/K\" \"%(1-α)*ΔL/L\"]\n",
    "    for i in 1:2\n",
    "        α = 1 - data[i*2-1,7]\n",
    "        ΔY_Y = (data[i*2,4]-data[i*2-1,4])/data[i*2-1,4]\n",
    "        ΔA_A = ex3_results[i+1,4]\n",
    "        ΔK_K = (data[i*2,6]-data[i*2-1,6])/data[i*2-1,6]\n",
    "        ΔL_L = (data[i*2,5]-data[i*2-1,5])/data[i*2-1,5]\n",
    "        deltas = [ΔA_A α*ΔK_K (1-α)*ΔL_L]\n",
    "        ex4_changes = [ex4_changes; data[i*2,2] ΔY_Y deltas]\n",
    "        ex4_contributions = [ex4_contributions; data[i*2,2] deltas*(100/ΔY_Y)]\n",
    "    end    \n",
    "    if ex4_contributions[2,2] == maximum(ex4_contributions[2,2:4])\n",
    "        yn1 = \"Yes, in $(ex4_contributions[2,1]).\" else yn1 = \"No, in $(ex4_contributions[2,1]).\" end\n",
    "    if ex4_contributions[3,2] == maximum(ex4_contributions[3,2:4])\n",
    "        yn2 = \"Yes, in $(ex4_contributions[3,1]).\" else yn2 = \"No, in $(ex4_contributions[3,1]).\" end\n",
    "        \n",
    "    return data, ex2_results, ex3_results, ex4_changes, ex4_contributions, yn1, yn2, country_message\n",
    "end;"
   ]
  },
  {
   "cell_type": "markdown",
   "metadata": {},
   "source": [
    "<br>"
   ]
  },
  {
   "cell_type": "markdown",
   "metadata": {},
   "source": [
    "___________________"
   ]
  },
  {
   "cell_type": "markdown",
   "metadata": {},
   "source": [
    ">## Group Selection"
   ]
  },
  {
   "cell_type": "markdown",
   "metadata": {},
   "source": [
    "Use the cell below to check the solutions of other groups:"
   ]
  },
  {
   "cell_type": "code",
   "execution_count": 6,
   "metadata": {},
   "outputs": [],
   "source": [
    "group_number = 125;"
   ]
  },
  {
   "cell_type": "code",
   "execution_count": 7,
   "metadata": {},
   "outputs": [
    {
     "data": {
      "text/plain": [
       "\"The second section of the anwers will show the solutions for PRT and NLD.\""
      ]
     },
     "execution_count": 7,
     "metadata": {},
     "output_type": "execute_result"
    }
   ],
   "source": [
    "GW1_respondes(group_number)[8]"
   ]
  },
  {
   "cell_type": "markdown",
   "metadata": {},
   "source": [
    "________________"
   ]
  },
  {
   "cell_type": "markdown",
   "metadata": {},
   "source": [
    "# Questions"
   ]
  },
  {
   "cell_type": "markdown",
   "metadata": {},
   "source": [
    ">## 1) Retrieving Data"
   ]
  },
  {
   "cell_type": "markdown",
   "metadata": {},
   "source": [
    "Use the most recent version (9.0) of the Penn World Tables (at https://www.rug.nl/ggdc/productivity/pwt/ ) and retrieve the correct value to each\n",
    "component below to your designated country, as well as Portugal, for the years of 2000\n",
    "and 2014.\n",
    "\n",
    "- Output-side real GDP at chained PPPs (in mil. US\\$2011) (rgdpo)\n",
    "- Number of persons engaged (in millions) (emp)\n",
    "- Capital stock at constant 2011 national prices (in mil. 2011US$) (rkna)\n",
    "- Share of labour compensation in GDP at current national prices (labsh)\n",
    "\n",
    "Fill out the table below:"
   ]
  },
  {
   "cell_type": "markdown",
   "metadata": {},
   "source": [
    ">Answer of our group:"
   ]
  },
  {
   "cell_type": "markdown",
   "metadata": {},
   "source": [
    "\n",
    "|      |    Portugal|    | Thailand  | |\n",
    "| ------------- |:-------------:||:-------------:|  -----:|\n",
    "|   year   | 2010 | 2014           | 2010  | 2014 |\n",
    "|   rgdpo   | 219630.03125 | 281354.90625           | 434126.28125  | 929554.5625 |\n",
    "|  emp    | 5.0140275955200195 | 4.3413472175598145           | 31.74068260192871  | 38.893306732177734 |\n",
    "| rkna     | 1.30302975e6 | 1.7131235e6           | 2.38961475e6  | 3.62297275e6 |\n",
    "| labsh     | 0.6547812819480896 | 0.5807642936706543           | 0.38971802592277527  | 0.3928701877593994 |"
   ]
  },
  {
   "cell_type": "markdown",
   "metadata": {},
   "source": [
    "> Answer for the group chosen at the beginning:"
   ]
  },
  {
   "cell_type": "code",
   "execution_count": 8,
   "metadata": {
    "scrolled": false
   },
   "outputs": [
    {
     "data": {
      "text/html": [
       "<table class=\"data-frame\"><thead><tr><th></th><th>countrycode</th><th>country</th><th>year</th><th>rgdpo</th><th>emp</th><th>rkna</th><th>labsh</th></tr></thead><tbody><tr><th>1</th><td>NLD</td><td>Netherlands</td><td>2000.0</td><td>596606.9375</td><td>8.19922924041748</td><td>2.6317835e6</td><td>0.6248472929000854</td></tr><tr><th>2</th><td>NLD</td><td>Netherlands</td><td>2014.0</td><td>812675.375</td><td>8.742557525634766</td><td>3.36735875e6</td><td>0.5955878496170044</td></tr><tr><th>3</th><td>PRT</td><td>Portugal</td><td>2000.0</td><td>219630.03125</td><td>5.0140275955200195</td><td>1.30302975e6</td><td>0.6547812819480896</td></tr><tr><th>4</th><td>PRT</td><td>Portugal</td><td>2014.0</td><td>281354.90625</td><td>4.3413472175598145</td><td>1.7131235e6</td><td>0.5807642936706543</td></tr></tbody></table>"
      ],
      "text/plain": [
       "4×7 DataFrames.DataFrame\n",
       "│ Row │ countrycode │ country       │ year   │ rgdpo     │ emp     │ rkna      │\n",
       "├─────┼─────────────┼───────────────┼────────┼───────────┼─────────┼───────────┤\n",
       "│ 1   │ \"NLD\"       │ \"Netherlands\" │ 2000.0 │ 5.96607e5 │ 8.19923 │ 2.63178e6 │\n",
       "│ 2   │ \"NLD\"       │ \"Netherlands\" │ 2014.0 │ 8.12675e5 │ 8.74256 │ 3.36736e6 │\n",
       "│ 3   │ \"PRT\"       │ \"Portugal\"    │ 2000.0 │ 219630.0  │ 5.01403 │ 1.30303e6 │\n",
       "│ 4   │ \"PRT\"       │ \"Portugal\"    │ 2014.0 │ 2.81355e5 │ 4.34135 │ 1.71312e6 │\n",
       "\n",
       "│ Row │ labsh    │\n",
       "├─────┼──────────┤\n",
       "│ 1   │ 0.624847 │\n",
       "│ 2   │ 0.595588 │\n",
       "│ 3   │ 0.654781 │\n",
       "│ 4   │ 0.580764 │"
      ]
     },
     "execution_count": 8,
     "metadata": {},
     "output_type": "execute_result"
    }
   ],
   "source": [
    "GW1_respondes(group_number)[1]"
   ]
  },
  {
   "cell_type": "markdown",
   "metadata": {},
   "source": [
    "<br>"
   ]
  },
  {
   "cell_type": "markdown",
   "metadata": {},
   "source": [
    ">## 2) Simple Math"
   ]
  },
  {
   "cell_type": "markdown",
   "metadata": {},
   "source": [
    "Taking only these values from the above table, calculate Portugal’s and your country’s\n",
    "GDP growth rate. Fill out the below table:"
   ]
  },
  {
   "cell_type": "markdown",
   "metadata": {},
   "source": [
    ">Answer of our group:"
   ]
  },
  {
   "cell_type": "markdown",
   "metadata": {},
   "source": [
    "$$ g_{2000-2014} = \\left(\\frac{Y_{2014}}{Y_{2000}}\\right)^{\\frac{1}{2014-2000}} -1$$"
   ]
  },
  {
   "cell_type": "markdown",
   "metadata": {},
   "source": [
    "|      | Portugal           | Thailand  |\n",
    "| ------------- |:-------------:| -----:|\n",
    "| GDP growth rate  (%)   | 1.78483 | 5.588954 |"
   ]
  },
  {
   "cell_type": "markdown",
   "metadata": {},
   "source": [
    "> Answer for the group chosen at the beginning:"
   ]
  },
  {
   "cell_type": "code",
   "execution_count": 9,
   "metadata": {
    "scrolled": true
   },
   "outputs": [
    {
     "data": {
      "text/plain": [
       "2×3 Array{Any,2}:\n",
       " \"\"                  \"Netherlands\"   \"Portugal\"\n",
       " \"Growth Rate (%)\"  2.23222         1.78483    "
      ]
     },
     "execution_count": 9,
     "metadata": {},
     "output_type": "execute_result"
    }
   ],
   "source": [
    "GW1_respondes(group_number)[2]"
   ]
  },
  {
   "cell_type": "markdown",
   "metadata": {},
   "source": [
    "<br>"
   ]
  },
  {
   "cell_type": "markdown",
   "metadata": {},
   "source": [
    ">## 3) Cobb Douglas"
   ]
  },
  {
   "cell_type": "markdown",
   "metadata": {},
   "source": [
    "Taking only the variables from the initial table, believing that the volume of a country’s production is well approximated by a Cobb Douglas Production Function and **assuming that the share of labor income is constant and equal to that retrieved for the year 2000 **calculate:\n",
    "- The Total Factor Productivity level in the year 2000\n",
    "- The Total Factor Productivity level in the year 2014\n",
    "- The accumulated growth rate of TFP from 2000 to 2014"
   ]
  },
  {
   "cell_type": "markdown",
   "metadata": {},
   "source": [
    ">Answer of our group:"
   ]
  },
  {
   "cell_type": "markdown",
   "metadata": {},
   "source": [
    "$$ Y = A \\cdot K^\\alpha \\cdot L^{1-\\alpha} $$\n",
    "$$ A = \\frac{Y}{K^\\alpha \\cdot L^{1-\\alpha}} $$"
   ]
  },
  {
   "cell_type": "markdown",
   "metadata": {},
   "source": [
    "\n",
    "|      | Portugal |       | Thailand|  |\n",
    "| ------------- |:-------------:||:-------------:|  -----:|\n",
    "|   year  | 2010 | 2014           | 2010  | 2014 |\n",
    "|   TFP   |  591.869  | 758.105           | 14.4488  | 22.1714 |\n",
    "|  ΔTFP/TFP (%)    |  | 28.0865%           |   | 53.4483% |\n"
   ]
  },
  {
   "cell_type": "markdown",
   "metadata": {},
   "source": [
    "> Answer for the group chosen at the beginning:"
   ]
  },
  {
   "cell_type": "code",
   "execution_count": 10,
   "metadata": {},
   "outputs": [
    {
     "data": {
      "text/plain": [
       "3×4 Array{Any,2}:\n",
       " \"Country\"         \"TFP2000\"     \"TFP2014\"    \"ΔTFP/TFP\"\n",
       " \"Netherlands\"  625.382       746.116       19.3057     \n",
       " \"Portugal\"     591.869       758.105       28.0865     "
      ]
     },
     "execution_count": 10,
     "metadata": {},
     "output_type": "execute_result"
    }
   ],
   "source": [
    "GW1_respondes(group_number)[3]"
   ]
  },
  {
   "cell_type": "markdown",
   "metadata": {},
   "source": [
    "<br>"
   ]
  },
  {
   "cell_type": "markdown",
   "metadata": {},
   "source": [
    ">## 4) Growth"
   ]
  },
  {
   "cell_type": "markdown",
   "metadata": {},
   "source": [
    "Was the growth in TFP the responsible for the majority of the growth experienced by\n",
    "Portugal? [ Yes / No ]"
   ]
  },
  {
   "cell_type": "markdown",
   "metadata": {},
   "source": [
    "Was the growth in TFP the responsible for the majority of the growth experienced by\n",
    "your assigned country? [ Yes / No ]"
   ]
  },
  {
   "cell_type": "markdown",
   "metadata": {},
   "source": [
    ">Answer of our group:"
   ]
  },
  {
   "cell_type": "markdown",
   "metadata": {},
   "source": [
    "$$ Y = A \\cdot K^\\alpha \\cdot L^{1-\\alpha} $$"
   ]
  },
  {
   "cell_type": "markdown",
   "metadata": {},
   "source": [
    "$$ \\frac{\\Delta Y}{Y} = \\frac{\\Delta A}{A} + \\alpha \\cdot \\frac{\\Delta K}{K} + (1-\\alpha) \\cdot  \\frac{\\Delta L}{L} $$"
   ]
  },
  {
   "cell_type": "markdown",
   "metadata": {},
   "source": [
    "|   Country   | ΔY/Y |    ΔTFP/TFP   | α*ΔK/K|  (1-α)*ΔL/L|\n",
    "| ------------- |:-------------:||:-------------:|  -----:|\n",
    "|  Portugal   | 0.28104 | 0.280865           | 0.108648  | -0.0878453 |\n",
    "|   Thailand  |  1.14121  | 0.534483           | 0.314986  | 0.0878213 |"
   ]
  },
  {
   "cell_type": "markdown",
   "metadata": {},
   "source": [
    "|   Country   |  %ΔTFP/TFP   | %α*ΔK/K|  %(1-α)*ΔL/L|\n",
    "| ------------- |:-------------:|  -----:|\n",
    "|  Portugal   | 99.9378 | 38.6594            | -31.2572  |\n",
    "|   Thailand  |  46.8349  | 27.6011           | 7.69547 |"
   ]
  },
  {
   "cell_type": "markdown",
   "metadata": {},
   "source": [
    "Yes, in Portugal."
   ]
  },
  {
   "cell_type": "markdown",
   "metadata": {},
   "source": [
    "Yes, in Thailand."
   ]
  },
  {
   "cell_type": "markdown",
   "metadata": {},
   "source": [
    "> Answer for the group chosen at the beginning:"
   ]
  },
  {
   "cell_type": "code",
   "execution_count": 11,
   "metadata": {
    "scrolled": false
   },
   "outputs": [
    {
     "data": {
      "text/plain": [
       "3×5 Array{Any,2}:\n",
       " \"Country\"       \"ΔY/Y\"     \"ΔTFP/TFP\"   \"α*ΔK/K\"    \"(1-α)*ΔL/L\"\n",
       " \"Netherlands\"  0.362162  19.3057       0.104854    0.041406     \n",
       " \"Portugal\"     0.28104   28.0865       0.108648   -0.0878453    "
      ]
     },
     "execution_count": 11,
     "metadata": {},
     "output_type": "execute_result"
    }
   ],
   "source": [
    "GW1_respondes(group_number)[4]"
   ]
  },
  {
   "cell_type": "code",
   "execution_count": 12,
   "metadata": {},
   "outputs": [
    {
     "data": {
      "text/plain": [
       "3×4 Array{Any,2}:\n",
       " \"Country\"          \"%ΔTFP/TFP\"    \"%α*ΔK/K\"     \"%(1-α)*ΔL/L\"\n",
       " \"Netherlands\"  5330.67          28.9522       11.433         \n",
       " \"Portugal\"     9993.78          38.6594      -31.2572        "
      ]
     },
     "execution_count": 12,
     "metadata": {},
     "output_type": "execute_result"
    }
   ],
   "source": [
    "GW1_respondes(group_number)[5]"
   ]
  },
  {
   "cell_type": "code",
   "execution_count": 13,
   "metadata": {},
   "outputs": [
    {
     "data": {
      "text/plain": [
       "\"Yes, in Netherlands.\""
      ]
     },
     "execution_count": 13,
     "metadata": {},
     "output_type": "execute_result"
    }
   ],
   "source": [
    "GW1_respondes(group_number)[6]"
   ]
  },
  {
   "cell_type": "code",
   "execution_count": 14,
   "metadata": {},
   "outputs": [
    {
     "data": {
      "text/plain": [
       "\"Yes, in Portugal.\""
      ]
     },
     "execution_count": 14,
     "metadata": {},
     "output_type": "execute_result"
    }
   ],
   "source": [
    "GW1_respondes(group_number)[7]"
   ]
  },
  {
   "cell_type": "markdown",
   "metadata": {},
   "source": [
    "<br>"
   ]
  },
  {
   "cell_type": "markdown",
   "metadata": {},
   "source": [
    "<br>"
   ]
  }
 ],
 "metadata": {
  "kernelspec": {
   "display_name": "Julia 0.6.2",
   "language": "julia",
   "name": "julia-0.6"
  },
  "language_info": {
   "file_extension": ".jl",
   "mimetype": "application/julia",
   "name": "julia",
   "version": "0.6.2"
  }
 },
 "nbformat": 4,
 "nbformat_minor": 2
}
