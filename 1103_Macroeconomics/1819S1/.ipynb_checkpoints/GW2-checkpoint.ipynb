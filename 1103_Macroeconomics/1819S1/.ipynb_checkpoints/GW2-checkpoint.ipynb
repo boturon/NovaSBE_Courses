{
 "cells": [
  {
   "cell_type": "code",
   "execution_count": 1,
   "metadata": {},
   "outputs": [],
   "source": [
    "import pandas as pd\n",
    "import matplotlib.pyplot as plt\n",
    "import statsmodels.api as sm\n",
    "\n",
    "MALL_SIZE = 10\n",
    "MEDIUM_SIZE = 14\n",
    "BIGGER_SIZE = 18\n",
    "\n",
    "plt.rc('text', usetex=True)\n",
    "plt.rc('font', family='serif')\n",
    "plt.rc('font', size=BIGGER_SIZE)          # controls default text sizes\n",
    "plt.rc('axes', titlesize=BIGGER_SIZE)     # fontsize of the axes title\n",
    "plt.rc('axes', labelsize=BIGGER_SIZE)    # fontsize of the x and y labels\n",
    "plt.rc('xtick', labelsize=BIGGER_SIZE)    # fontsize of the tick labels\n",
    "plt.rc('ytick', labelsize=BIGGER_SIZE)    # fontsize of the tick labels\n",
    "plt.rc('legend', fontsize=BIGGER_SIZE)    # legend fontsize\n",
    "plt.rc('figure', titlesize=BIGGER_SIZE)  # fontsize of the figure title"
   ]
  },
  {
   "cell_type": "code",
   "execution_count": 2,
   "metadata": {},
   "outputs": [],
   "source": [
    "pwt90_BDI = pd.read_csv(\"./pwt90_BDI.csv\").set_index(\"year\")\n",
    "pwt90_BDI.index = pd.to_datetime(pwt90_BDI.index, format=\"%Y\")"
   ]
  },
  {
   "cell_type": "code",
   "execution_count": 3,
   "metadata": {},
   "outputs": [
    {
     "data": {
      "text/html": [
       "<div>\n",
       "<style scoped>\n",
       "    .dataframe tbody tr th:only-of-type {\n",
       "        vertical-align: middle;\n",
       "    }\n",
       "\n",
       "    .dataframe tbody tr th {\n",
       "        vertical-align: top;\n",
       "    }\n",
       "\n",
       "    .dataframe thead th {\n",
       "        text-align: right;\n",
       "    }\n",
       "</style>\n",
       "<table border=\"1\" class=\"dataframe\">\n",
       "  <thead>\n",
       "    <tr style=\"text-align: right;\">\n",
       "      <th></th>\n",
       "      <th>countrycode</th>\n",
       "      <th>country</th>\n",
       "      <th>currency_unit</th>\n",
       "      <th>rgdpe</th>\n",
       "      <th>rgdpo</th>\n",
       "      <th>pop</th>\n",
       "      <th>emp</th>\n",
       "      <th>avh</th>\n",
       "      <th>hc</th>\n",
       "      <th>ccon</th>\n",
       "      <th>...</th>\n",
       "      <th>csh_g</th>\n",
       "      <th>csh_x</th>\n",
       "      <th>csh_m</th>\n",
       "      <th>csh_r</th>\n",
       "      <th>pl_c</th>\n",
       "      <th>pl_i</th>\n",
       "      <th>pl_g</th>\n",
       "      <th>pl_x</th>\n",
       "      <th>pl_m</th>\n",
       "      <th>pl_k</th>\n",
       "    </tr>\n",
       "    <tr>\n",
       "      <th>year</th>\n",
       "      <th></th>\n",
       "      <th></th>\n",
       "      <th></th>\n",
       "      <th></th>\n",
       "      <th></th>\n",
       "      <th></th>\n",
       "      <th></th>\n",
       "      <th></th>\n",
       "      <th></th>\n",
       "      <th></th>\n",
       "      <th></th>\n",
       "      <th></th>\n",
       "      <th></th>\n",
       "      <th></th>\n",
       "      <th></th>\n",
       "      <th></th>\n",
       "      <th></th>\n",
       "      <th></th>\n",
       "      <th></th>\n",
       "      <th></th>\n",
       "      <th></th>\n",
       "    </tr>\n",
       "  </thead>\n",
       "  <tbody>\n",
       "    <tr>\n",
       "      <th>1960-01-01</th>\n",
       "      <td>BDI</td>\n",
       "      <td>Burundi</td>\n",
       "      <td>Burundi Franc</td>\n",
       "      <td>1812.391479</td>\n",
       "      <td>1854.149780</td>\n",
       "      <td>2.763604</td>\n",
       "      <td>NaN</td>\n",
       "      <td>NaN</td>\n",
       "      <td>1.095495</td>\n",
       "      <td>1591.651123</td>\n",
       "      <td>...</td>\n",
       "      <td>0.016518</td>\n",
       "      <td>0.050144</td>\n",
       "      <td>-0.101433</td>\n",
       "      <td>0.028889</td>\n",
       "      <td>0.118100</td>\n",
       "      <td>0.089717</td>\n",
       "      <td>0.207769</td>\n",
       "      <td>0.159011</td>\n",
       "      <td>0.137497</td>\n",
       "      <td>0.130054</td>\n",
       "    </tr>\n",
       "    <tr>\n",
       "      <th>1961-01-01</th>\n",
       "      <td>BDI</td>\n",
       "      <td>Burundi</td>\n",
       "      <td>Burundi Franc</td>\n",
       "      <td>1569.187744</td>\n",
       "      <td>1608.281372</td>\n",
       "      <td>2.840903</td>\n",
       "      <td>NaN</td>\n",
       "      <td>NaN</td>\n",
       "      <td>1.095495</td>\n",
       "      <td>1392.645386</td>\n",
       "      <td>...</td>\n",
       "      <td>0.016291</td>\n",
       "      <td>0.049644</td>\n",
       "      <td>-0.105437</td>\n",
       "      <td>0.029853</td>\n",
       "      <td>0.140182</td>\n",
       "      <td>0.112480</td>\n",
       "      <td>0.240842</td>\n",
       "      <td>0.196731</td>\n",
       "      <td>0.171383</td>\n",
       "      <td>0.155535</td>\n",
       "    </tr>\n",
       "  </tbody>\n",
       "</table>\n",
       "<p>2 rows × 46 columns</p>\n",
       "</div>"
      ],
      "text/plain": [
       "           countrycode  country  currency_unit        rgdpe        rgdpo  \\\n",
       "year                                                                       \n",
       "1960-01-01         BDI  Burundi  Burundi Franc  1812.391479  1854.149780   \n",
       "1961-01-01         BDI  Burundi  Burundi Franc  1569.187744  1608.281372   \n",
       "\n",
       "                 pop  emp  avh        hc         ccon    ...        csh_g  \\\n",
       "year                                                     ...                \n",
       "1960-01-01  2.763604  NaN  NaN  1.095495  1591.651123    ...     0.016518   \n",
       "1961-01-01  2.840903  NaN  NaN  1.095495  1392.645386    ...     0.016291   \n",
       "\n",
       "               csh_x     csh_m     csh_r      pl_c      pl_i      pl_g  \\\n",
       "year                                                                     \n",
       "1960-01-01  0.050144 -0.101433  0.028889  0.118100  0.089717  0.207769   \n",
       "1961-01-01  0.049644 -0.105437  0.029853  0.140182  0.112480  0.240842   \n",
       "\n",
       "                pl_x      pl_m      pl_k  \n",
       "year                                      \n",
       "1960-01-01  0.159011  0.137497  0.130054  \n",
       "1961-01-01  0.196731  0.171383  0.155535  \n",
       "\n",
       "[2 rows x 46 columns]"
      ]
     },
     "execution_count": 3,
     "metadata": {},
     "output_type": "execute_result"
    }
   ],
   "source": [
    "pwt90_BDI.head(2)"
   ]
  },
  {
   "cell_type": "markdown",
   "metadata": {},
   "source": [
    "<br>"
   ]
  },
  {
   "cell_type": "markdown",
   "metadata": {},
   "source": [
    "__Group Work with Data 2__"
   ]
  },
  {
   "cell_type": "markdown",
   "metadata": {},
   "source": [
    "# The Equilibrium Business Cycle Model "
   ]
  },
  {
   "cell_type": "markdown",
   "metadata": {},
   "source": [
    "__1.__ Select 3 variables that we studied (you can confirm with your TA if they are good\n",
    "variables to use).\n",
    "\n",
    "__2.__ Collect data from 1990 – 2015 on these 3 variables and GDP (we recommend using\n",
    "the same data source for the 4 variables).\n",
    "\n",
    "__3.__ Explain what the Real Business Cycle model predicts for these variables in terms of\n",
    "their cyclicality.\n",
    "\n",
    "__4.__ Explain what patterns data show between the 3 variables selected and GDP. Is it\n",
    "what the model predicts?\n",
    "\n",
    "__5.__ Give some reasons as to why the pattern predicted is valid or not. (Hint: Think about\n",
    "the assumptions of the model and how they affect the model conclusions. Think also\n",
    "in the other models that we studied – which assumptions changed? Are they\n",
    "realistic?) "
   ]
  },
  {
   "cell_type": "markdown",
   "metadata": {},
   "source": [
    "<br>"
   ]
  },
  {
   "cell_type": "markdown",
   "metadata": {},
   "source": [
    "<br>"
   ]
  },
  {
   "cell_type": "markdown",
   "metadata": {},
   "source": [
    "# Data"
   ]
  },
  {
   "cell_type": "markdown",
   "metadata": {},
   "source": [
    "- __Y__ (rgdpe)\n",
    "- __P__ (pl_con)\n",
    "- __L__ (emp)"
   ]
  },
  {
   "cell_type": "code",
   "execution_count": 4,
   "metadata": {},
   "outputs": [],
   "source": [
    "data = pwt90_BDI.loc[\"1990\":,:][[\"rgdpe\", \"pl_con\", \"emp\"]]"
   ]
  },
  {
   "cell_type": "code",
   "execution_count": 6,
   "metadata": {},
   "outputs": [],
   "source": [
    "cycle, data[\"rgdpe_potential\"] = sm.tsa.filters.hpfilter(data[\"rgdpe\"].values, 6.25)\n",
    "data[\"rgdpe_gap\"] = cycle/data[\"rgdpe_potential\"]"
   ]
  },
  {
   "cell_type": "markdown",
   "metadata": {},
   "source": [
    "<br>"
   ]
  },
  {
   "cell_type": "markdown",
   "metadata": {},
   "source": [
    "# Old"
   ]
  },
  {
   "cell_type": "code",
   "execution_count": null,
   "metadata": {},
   "outputs": [],
   "source": [
    "f, axes = plt.subplots(nrows=1, ncols=2, figsize=(20, 10)); axes = axes.flatten()\n",
    "data[[\"rgdpe\", \"rgdpe_potential\"]].plot(style=['-','--'], color=\"black\", ax=axes[0])\n",
    "axes[0].legend(labels=[r\"$Y$\", r\"Potential $Y$\"])\n",
    "axes[0].set_title(\"Output: Burundi\", fontsize=22)\n",
    "axes[0].set_ylabel(\"Mrd\")\n",
    "axes[0].set_xlabel(\"Year\")\n",
    "axes[0].grid()\n",
    "\n",
    "(data[[\"rgdpe_gap\"]]*100).plot(style=['--',':'], color=\"black\", ax=axes[1])\n",
    "axes[1].legend(labels=[\"Statistical Cycle\"])\n",
    "axes[1].set_title(\"Ouput Gap: Burundi\", fontsize=22)\n",
    "axes[1].set_ylabel(\"\\%\")\n",
    "axes[1].set_xlabel(\"Year\")\n",
    "axes[1].grid()\n",
    "plt.tight_layout()"
   ]
  },
  {
   "cell_type": "code",
   "execution_count": null,
   "metadata": {},
   "outputs": [],
   "source": [
    "f, axes = plt.subplots(nrows=1, ncols=2, figsize=(20, 10)); axes = axes.flatten()\n",
    "(data[[\"rgdpe\", \"pl_con\"]]/data[[\"rgdpe\", \"pl_con\"]].iloc[0,:]).plot(style=['-','--'], color=\"black\", ax=axes[0])\n",
    "axes[0].legend(labels=[r\"$Y$\", r\"$P$\"])\n",
    "axes[0].set_title(\"GDP versus Price Level: Level\", fontsize=22)\n",
    "axes[0].set_ylabel(\"Base 1990\")\n",
    "axes[0].set_xlabel(\"Year\")\n",
    "axes[0].grid()\n",
    "\n",
    "(data.pct_change()*100)[[\"rgdpe\", \"pl_con\"]].plot(style=['-','--'], color=\"black\", ax=axes[1])\n",
    "axes[1].legend(labels=[r\"$\\widehat{Y}$\", r\"$\\widehat{P}$\"])\n",
    "axes[1].set_title(\"GDP versus Price Level: Growth\", fontsize=22)\n",
    "axes[1].set_ylabel(\"\\%\")\n",
    "axes[1].set_xlabel(\"Year\")\n",
    "axes[1].grid()\n",
    "plt.tight_layout()"
   ]
  },
  {
   "cell_type": "code",
   "execution_count": null,
   "metadata": {},
   "outputs": [],
   "source": [
    "f, axes = plt.subplots(nrows=1, ncols=2, figsize=(20, 10)); axes = axes.flatten()\n",
    "(data[[\"rgdpe\", \"emp\"]]/data[[\"rgdpe\", \"emp\"]].iloc[0,:]).plot(style=['-','--'], color=\"black\", ax=axes[0])\n",
    "axes[0].legend(labels=[r\"$Y$\", r\"$L$\"])\n",
    "axes[0].set_title(\"GDP versus Labor Force: Level\", fontsize=22)\n",
    "axes[0].set_ylabel(\"Base 1990\")\n",
    "axes[0].set_xlabel(\"Year\")\n",
    "axes[0].grid()\n",
    "\n",
    "(data.pct_change()*100)[[\"rgdpe\", \"emp\"]].plot(style=['-','--'], color=\"black\", ax=axes[1])\n",
    "axes[1].legend(labels=[r\"$\\widehat{Y}$\", r\"$\\widehat{L}$\"])\n",
    "axes[1].set_title(\"GDP versus Labor Force: Growth\", fontsize=22)\n",
    "axes[1].set_ylabel(\"\\%\")\n",
    "axes[1].set_xlabel(\"Year\")\n",
    "axes[1].grid()\n",
    "plt.tight_layout()"
   ]
  },
  {
   "cell_type": "code",
   "execution_count": null,
   "metadata": {},
   "outputs": [],
   "source": [
    "data[\"rgdpe_emp\"] = data[\"rgdpe\"]/data[\"emp\"]\n",
    "\n",
    "f, axes = plt.subplots(nrows=1, ncols=2, figsize=(20, 10)); axes = axes.flatten()\n",
    "(data[[\"rgdpe\", \"rgdpe_emp\"]]/data[[\"rgdpe\", \"rgdpe_emp\"]].iloc[0,:]).plot(style=['-','--'], color=\"black\", ax=axes[0])\n",
    "axes[0].legend(labels=[r\"$Y$\", r\"$Y/L$\"])\n",
    "axes[0].set_title(\"GDP versus GDP per Worker: Level\", fontsize=22)\n",
    "axes[0].set_ylabel(\"Base 1990\")\n",
    "axes[0].set_xlabel(\"Year\")\n",
    "axes[0].grid()\n",
    "\n",
    "(data.pct_change()*100)[[\"rgdpe\", \"rgdpe_emp\"]].plot(style=['-','--'], color=\"black\", ax=axes[1])\n",
    "axes[1].legend(labels=[r\"$\\widehat{Y}$\", r\"$\\widehat{Y/L}$\"])\n",
    "axes[1].set_title(\"GDP versus GDP per Worker: Growth\", fontsize=22)\n",
    "axes[1].set_ylabel(\"\\%\")\n",
    "axes[1].set_xlabel(\"Year\")\n",
    "axes[1].grid()\n",
    "plt.tight_layout()"
   ]
  },
  {
   "cell_type": "code",
   "execution_count": null,
   "metadata": {},
   "outputs": [],
   "source": [
    "f, ax = plt.subplots(nrows=1, ncols=1, figsize=(20, 10))\n",
    "(data[[\"rgdpe\", \"pl_con\", \"emp\"]]/data[[\"rgdpe\", \"pl_con\", \"emp\"]].iloc[0,:]).plot(style=['-','--', ':'], color=\"black\", ax=ax)\n",
    "ax.legend(labels=[r\"$Y$\", r\"$P$\", r\"$L$\"])\n",
    "ax.set_title(\"Main Indicators: Level\", fontsize=22)\n",
    "ax.set_ylabel(\"Base 1990\")\n",
    "ax.set_xlabel(\"Year\")\n",
    "ax.grid()\n",
    "plt.tight_layout()"
   ]
  },
  {
   "cell_type": "code",
   "execution_count": null,
   "metadata": {},
   "outputs": [],
   "source": [
    "f, ax = plt.subplots(nrows=1, ncols=1, figsize=(20, 10))\n",
    "(data.pct_change()*100)[[\"rgdpe\", \"pl_con\", \"emp\"]].plot(style=['-','--', ':'], color=\"black\", ax=ax)\n",
    "ax.legend(labels=[r\"$\\widehat{Y}$\", r\"$\\widehat{P}$\", r\"$\\widehat{L}$\"])\n",
    "ax.set_title(\"Main Indicators: Growth\", fontsize=22)\n",
    "ax.set_ylabel(\"\\%\")\n",
    "ax.set_xlabel(\"Year\")\n",
    "ax.grid()\n",
    "plt.tight_layout()"
   ]
  },
  {
   "cell_type": "markdown",
   "metadata": {},
   "source": [
    "<br>"
   ]
  },
  {
   "cell_type": "markdown",
   "metadata": {},
   "source": [
    "# New"
   ]
  },
  {
   "cell_type": "markdown",
   "metadata": {},
   "source": [
    "- __ccon__ - Real consumption of households and government, at current PPPs (in mil. 2011US$) __(Figure 8.9 p186)__\n",
    "- __emp__ - Number of persons engaged (in millions) __(Figure 9.7 p212)__\n",
    "- __pl_con__ - Price level of CCON (PPP/XR), price level of USA GDPo in 2011=1  __(Figure 10.4 p249)__\n"
   ]
  },
  {
   "cell_type": "code",
   "execution_count": null,
   "metadata": {},
   "outputs": [],
   "source": [
    "data_barro = pwt90_BDI.loc[\"1990\":,:][[\"rgdpe\", \"ccon\", \"emp\", \"pl_con\"]]\n",
    "label_dic = {\"ccon\":[\"Consumer Expenditure\", \"Consumer expenditure\"], \"emp\":[\"Employment\", \"Employment\"], \"pl_con\":[\"Price Level\", \"GDP deflator\"]}\n",
    "\n",
    "for col in data_barro.columns:\n",
    "    cycle, data_barro[col+\"_trend\"] = sm.tsa.filters.hpfilter(data_barro[col].values, 6.25)\n",
    "    data_barro[col+\"_detrended\"] = cycle/data_barro[col+\"_trend\"]"
   ]
  },
  {
   "cell_type": "code",
   "execution_count": null,
   "metadata": {},
   "outputs": [],
   "source": [
    "f, axes = plt.subplots(nrows=3, ncols=1, figsize=(20, 30)); axes = axes.flatten()\n",
    "for i, indicator in enumerate(label_dic.keys()):\n",
    "    (data_barro[[\"rgdpe_detrended\", indicator+\"_detrended\"]]*100).plot(style=['-','--'], color=\"black\", ax=axes[i])\n",
    "    axes[i].legend(labels=[\"GDP\", label_dic[indicator][1]])\n",
    "    axes[i].set_title(\"Cyclical Behavior of Burundi Real GDP and the \"+label_dic[indicator][0], fontsize=22)\n",
    "    axes[i].set_ylabel(\"Proportionate deviations from trend\")\n",
    "    axes[i].set_xlabel(\"Year\")\n",
    "    axes[i].grid()\n",
    "plt.tight_layout()"
   ]
  },
  {
   "cell_type": "markdown",
   "metadata": {},
   "source": [
    "<br>"
   ]
  }
 ],
 "metadata": {
  "kernelspec": {
   "display_name": "Python 3",
   "language": "python",
   "name": "python3"
  },
  "language_info": {
   "codemirror_mode": {
    "name": "ipython",
    "version": 3
   },
   "file_extension": ".py",
   "mimetype": "text/x-python",
   "name": "python",
   "nbconvert_exporter": "python",
   "pygments_lexer": "ipython3",
   "version": "3.6.6"
  }
 },
 "nbformat": 4,
 "nbformat_minor": 2
}
