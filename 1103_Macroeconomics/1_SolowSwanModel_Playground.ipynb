{
 "cells": [
  {
   "cell_type": "code",
   "execution_count": 1,
   "metadata": {},
   "outputs": [
    {
     "data": {
      "text/html": [
       "    <script class='js-collapse-script'>\n",
       "        var curMatch =\n",
       "            window.location.href\n",
       "            .match(/(.*?)\\/notebooks\\/.*\\.ipynb/);\n",
       "\n",
       "        curMatch = curMatch ||\n",
       "            window.location.href\n",
       "            .match(/(.*?)\\/apps\\/.*\\.ipynb/);\n",
       "\n",
       "        if ( curMatch ) {\n",
       "            $('head').append('<base href=\"' + curMatch[1] + '/\">');\n",
       "        }\n",
       "    </script>\n"
      ],
      "text/plain": [
       "HTML{String}(\"    <script class='js-collapse-script'>\\n        var curMatch =\\n            window.location.href\\n            .match(/(.*?)\\\\/notebooks\\\\/.*\\\\.ipynb/);\\n\\n        curMatch = curMatch ||\\n            window.location.href\\n            .match(/(.*?)\\\\/apps\\\\/.*\\\\.ipynb/);\\n\\n        if ( curMatch ) {\\n            \\$('head').append('<base href=\\\"' + curMatch[1] + '/\\\">');\\n        }\\n    </script>\\n\")"
      ]
     },
     "metadata": {},
     "output_type": "display_data"
    },
    {
     "data": {
      "text/html": [
       "<script class='js-collapse-script' src='/assetserver/15ea2a9360e5dc9781a35e6b340899a57203f7f9-assets/webio/dist/bundle.js'></script>"
      ],
      "text/plain": [
       "HTML{String}(\"<script class='js-collapse-script' src='/assetserver/15ea2a9360e5dc9781a35e6b340899a57203f7f9-assets/webio/dist/bundle.js'></script>\")"
      ]
     },
     "metadata": {},
     "output_type": "display_data"
    },
    {
     "data": {
      "text/html": [
       "<script class='js-collapse-script' src='/assetserver/15ea2a9360e5dc9781a35e6b340899a57203f7f9-assets/providers/ijulia_setup.js'></script>"
      ],
      "text/plain": [
       "HTML{String}(\"<script class='js-collapse-script' src='/assetserver/15ea2a9360e5dc9781a35e6b340899a57203f7f9-assets/providers/ijulia_setup.js'></script>\")"
      ]
     },
     "metadata": {},
     "output_type": "display_data"
    },
    {
     "data": {
      "text/html": [
       "  <script class='js-collapse-script'>\n",
       "    $('.js-collapse-script').parent('.output_subarea').css('padding', '0');\n",
       "  </script>\n"
      ],
      "text/plain": [
       "HTML{String}(\"  <script class='js-collapse-script'>\\n    \\$('.js-collapse-script').parent('.output_subarea').css('padding', '0');\\n  </script>\\n\")"
      ]
     },
     "metadata": {},
     "output_type": "display_data"
    }
   ],
   "source": [
    "using Interact\n",
    "using Gadfly"
   ]
  },
  {
   "cell_type": "markdown",
   "metadata": {},
   "source": [
    "# The Solow-Swan Model"
   ]
  },
  {
   "cell_type": "markdown",
   "metadata": {},
   "source": [
    "__ Key Equation __"
   ]
  },
  {
   "cell_type": "markdown",
   "metadata": {},
   "source": [
    "$$ \\partial k/k = A \\cdot s \\cdot y/k - (s \\cdot \\delta + n) $$"
   ]
  },
  {
   "cell_type": "code",
   "execution_count": 2,
   "metadata": {},
   "outputs": [
    {
     "ename": "UndefVarError",
     "evalue": "UndefVarError: linspace not defined",
     "output_type": "error",
     "traceback": [
      "UndefVarError: linspace not defined",
      "",
      "Stacktrace:",
      " [1] top-level scope at In[2]:1"
     ]
    }
   ],
   "source": [
    "k_domain = linspace(0, 10, 100)\n",
    "\n",
    "@manipulate for A in 1:5, s in 0:0.05:1, δ in 0:0.05:1, n in 0:0.01:0.1, ΔL in -.5:.1:.5, t in 0:2:25\n",
    "    plot(\n",
    "        # Initial State\n",
    "        layer(x=[5], y=[.5*.5+.05], Geom.point, Theme(default_color=colorant\"black\", line_width=1pt)),\n",
    "        layer(xintercept=[5.0], Geom.vline(color=[\"black\"], style=[[1mm]], size=[.5mm])),\n",
    "        layer(yintercept=[.5*.5+.05], Geom.hline(color=[\"black\"], size=[.5mm])),\n",
    "        layer(x=k_domain, y=3*.5*(1/k_domain), Geom.line, Theme(default_color=colorant\"black\", line_width=1pt)),        \n",
    "        # Changing\n",
    "        layer(x=[(A*s)/(s*δ+n)*(1+ΔL/(t+1))], y=[s*δ+n], Geom.point, Theme(default_color=colorant\"red\")),\n",
    "        layer(xintercept=[(A*s)/(s*δ+n)*(1+ΔL/(t+1))], Geom.vline(color=[\"red\"], style=[[1mm]], size=[.5mm])),\n",
    "        layer(yintercept=[s*δ+n], Geom.hline(color=[\"red\"], size=[.5mm])),\n",
    "        layer(x=k_domain, y=A*s*(1/(k_domain/(1+ΔL/(t+1)))), Geom.line, Theme(default_color=colorant\"red\", line_width=2pt)),\n",
    "        # Configuration\n",
    "        Coord.Cartesian(xmin=0,xmax=10,ymin=0,ymax=1),\n",
    "        Guide.xlabel(\"k = K/L (capital per worker)\"),\n",
    "        Guide.ylabel(\"Determinants of Δk/k\")\n",
    "    )\n",
    "end"
   ]
  },
  {
   "cell_type": "markdown",
   "metadata": {},
   "source": [
    "<br>"
   ]
  }
 ],
 "metadata": {
  "kernelspec": {
   "display_name": "Julia 1.0.0",
   "language": "julia",
   "name": "julia-1.0"
  },
  "language_info": {
   "file_extension": ".jl",
   "mimetype": "application/julia",
   "name": "julia",
   "version": "1.0.0"
  }
 },
 "nbformat": 4,
 "nbformat_minor": 2
}
