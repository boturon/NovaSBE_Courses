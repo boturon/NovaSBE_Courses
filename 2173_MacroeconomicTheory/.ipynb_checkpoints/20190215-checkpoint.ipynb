{
 "cells": [
  {
   "cell_type": "code",
   "execution_count": 7,
   "metadata": {},
   "outputs": [],
   "source": [
    "# 08_bmi_calculator.py"
   ]
  },
  {
   "cell_type": "code",
   "execution_count": 1,
   "metadata": {},
   "outputs": [],
   "source": [
    "def bmi_calculate(weight, height):\n",
    "    bmi = weight/(height**2)\n",
    "    if bmi < 18.5:\n",
    "        return(\"underweight\")\n",
    "    elif bmi <= 24.9:\n",
    "        return(\"normal\")\n",
    "    elif bmi <= 29.9:\n",
    "        return(\"overiweight\")\n",
    "    else:\n",
    "        return(\"Very overweight\")"
   ]
  },
  {
   "cell_type": "code",
   "execution_count": 6,
   "metadata": {},
   "outputs": [
    {
     "data": {
      "text/plain": [
       "'normal'"
      ]
     },
     "execution_count": 6,
     "metadata": {},
     "output_type": "execute_result"
    }
   ],
   "source": [
    "bmi_calculate(62,1.80)"
   ]
  },
  {
   "cell_type": "markdown",
   "metadata": {},
   "source": [
    "<br>"
   ]
  },
  {
   "cell_type": "code",
   "execution_count": null,
   "metadata": {},
   "outputs": [],
   "source": [
    "# 09_Marvel_expert.py"
   ]
  },
  {
   "cell_type": "code",
   "execution_count": 10,
   "metadata": {},
   "outputs": [],
   "source": [
    "def isAvenger(character):\n",
    "    return(character in [\"Captain America\", \"Iron Man\", \"Hulk\", \"Thor\", \"Black Widow\"])"
   ]
  },
  {
   "cell_type": "code",
   "execution_count": 50,
   "metadata": {},
   "outputs": [],
   "source": [
    "def isVillain(character):\n",
    "    return([[\"?\",False], [True, True]][int(character in [\"Thanos\", \"Ultron\", \"RedSkull\", \"Loki\"])][int(isAvenger(character))])"
   ]
  },
  {
   "cell_type": "code",
   "execution_count": 74,
   "metadata": {},
   "outputs": [],
   "source": [
    "def marvelExpert():\n",
    "    character = input(\"Nerd, give me a name. \\n\")\n",
    "    print(\"%s character %s and %s.\" % (character, \n",
    "                                      [\"isn't an Avenger\", \"is an Avenger\"][isAvenger(character)], \n",
    "                                      [[\"we don't know what it is\", \"we don't know what it is\"], [\"it is a hero\",\"it is a villain\"]][int(type(isVillain(character)) == bool)][int(isVillain(character)==False)]))"
   ]
  },
  {
   "cell_type": "code",
   "execution_count": 76,
   "metadata": {},
   "outputs": [
    {
     "name": "stdin",
     "output_type": "stream",
     "text": [
      "Nerd, give me a name. \n",
      " thor\n"
     ]
    },
    {
     "name": "stdout",
     "output_type": "stream",
     "text": [
      "thor character isn't an Avenger and we don't know what it is.\n"
     ]
    }
   ],
   "source": [
    "marvelExpert()"
   ]
  }
 ],
 "metadata": {
  "kernelspec": {
   "display_name": "Python 3",
   "language": "python",
   "name": "python3"
  },
  "language_info": {
   "codemirror_mode": {
    "name": "ipython",
    "version": 3
   },
   "file_extension": ".py",
   "mimetype": "text/x-python",
   "name": "python",
   "nbconvert_exporter": "python",
   "pygments_lexer": "ipython3",
   "version": "3.7.2"
  }
 },
 "nbformat": 4,
 "nbformat_minor": 2
}
