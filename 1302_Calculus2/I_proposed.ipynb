{
 "cells": [
  {
   "cell_type": "markdown",
   "metadata": {},
   "source": [
    "__1.__ Show that $d(\\textbf{x},\\textbf{y}) = max \\big( \\mid x_1 - y_1 \\mid, ... , \\mid x_n - y_n \\mid \\big) $, with $ \\textbf{x},\\textbf{y} \\in {\\rm I\\!R}^n $, is a distance.\n",
    "______________"
   ]
  },
  {
   "cell_type": "markdown",
   "metadata": {},
   "source": []
  },
  {
   "cell_type": "markdown",
   "metadata": {},
   "source": [
    "__2.__ Show that if $d$ is a distance in ${\\rm I\\!R}^n\\times {\\rm I\\!R}^n$, then $ln(1+d)$ is a distance in the same "
   ]
  },
  {
   "cell_type": "code",
   "execution_count": null,
   "metadata": {
    "collapsed": true
   },
   "outputs": [],
   "source": []
  }
 ],
 "metadata": {
  "kernelspec": {
   "display_name": "Python 3",
   "language": "python",
   "name": "python3"
  },
  "language_info": {
   "codemirror_mode": {
    "name": "ipython",
    "version": 3
   },
   "file_extension": ".py",
   "mimetype": "text/x-python",
   "name": "python",
   "nbconvert_exporter": "python",
   "pygments_lexer": "ipython3",
   "version": "3.6.2"
  }
 },
 "nbformat": 4,
 "nbformat_minor": 2
}
