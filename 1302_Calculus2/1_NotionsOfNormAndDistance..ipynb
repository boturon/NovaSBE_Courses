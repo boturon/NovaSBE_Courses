{
 "cells": [
  {
   "cell_type": "code",
   "execution_count": 3,
   "metadata": {},
   "outputs": [
    {
     "name": "stderr",
     "output_type": "stream",
     "text": [
      "\u001b[1m\u001b[34mINFO: Precompiling module Requests.\n",
      "\u001b[0m\u001b[1m\u001b[31mERROR: LoadError: HttpParser not properly installed. Please run\n",
      "Pkg.build(\"HttpParser\")\n",
      " in error(::String, ::String, ::Vararg{String,N}) at ./error.jl:22\n",
      " in include_from_node1(::String) at ./loading.jl:488\n",
      " in macro expansion; at ./none:2 [inlined]\n",
      " in anonymous at ./<missing>:?\n",
      " in eval(::Module, ::Any) at ./boot.jl:234\n",
      " in process_options(::Base.JLOptions) at ./client.jl:242\n",
      " in _start() at ./client.jl:321\n",
      "while loading /home/boturon/.julia/v0.5/HttpParser/src/HttpParser.jl, in expression starting on line 9\n",
      "\u001b[0m\u001b[1m\u001b[31mERROR: LoadError: Failed to precompile HttpParser to /home/boturon/.julia/lib/v0.5/HttpParser.ji.\n",
      " in compilecache(::String) at ./loading.jl:593\n",
      " in require(::Symbol) at ./loading.jl:393\n",
      " in include_from_node1(::String) at ./loading.jl:488\n",
      " in macro expansion; at ./none:2 [inlined]\n",
      " in anonymous at ./<missing>:?\n",
      " in eval(::Module, ::Any) at ./boot.jl:234\n",
      " in process_options(::Base.JLOptions) at ./client.jl:242\n",
      " in _start() at ./client.jl:321\n",
      "while loading /home/boturon/.julia/v0.5/Requests/src/Requests.jl, in expression starting on line 17\n",
      "\u001b[0m"
     ]
    },
    {
     "ename": "LoadError",
     "evalue": "LoadError: Failed to precompile Requests to /home/boturon/.julia/lib/v0.5/Requests.ji.\nwhile loading /home/boturon/.julia/v0.5/Plotly/src/Plotly.jl, in expression starting on line 6",
     "output_type": "error",
     "traceback": [
      "LoadError: Failed to precompile Requests to /home/boturon/.julia/lib/v0.5/Requests.ji.\nwhile loading /home/boturon/.julia/v0.5/Plotly/src/Plotly.jl, in expression starting on line 6",
      "",
      " in compilecache(::String) at ./loading.jl:593",
      " in require(::Symbol) at ./loading.jl:422",
      " in include_from_node1(::String) at ./loading.jl:488",
      " in eval(::Module, ::Any) at ./boot.jl:234",
      " in require(::Symbol) at ./loading.jl:415",
      " in include_string(::String, ::String) at ./loading.jl:441"
     ]
    }
   ],
   "source": [
    "using Plotly"
   ]
  },
  {
   "cell_type": "code",
   "execution_count": null,
   "metadata": {},
   "outputs": [],
   "source": []
  }
 ],
 "metadata": {
  "kernelspec": {
   "display_name": "Julia 0.5.2",
   "language": "julia",
   "name": "julia-0.5"
  },
  "language_info": {
   "file_extension": ".jl",
   "mimetype": "application/julia",
   "name": "julia",
   "version": "0.5.2"
  }
 },
 "nbformat": 4,
 "nbformat_minor": 2
}
