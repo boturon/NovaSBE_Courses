{
 "cells": [
  {
   "cell_type": "code",
   "execution_count": 1,
   "metadata": {},
   "outputs": [],
   "source": [
    "using FredData"
   ]
  },
  {
   "cell_type": "code",
   "execution_count": 3,
   "metadata": {},
   "outputs": [
    {
     "name": "stdout",
     "output_type": "stream",
     "text": [
      "API key loaded.\n"
     ]
    }
   ],
   "source": [
    "f = Fred();"
   ]
  },
  {
   "cell_type": "code",
   "execution_count": 4,
   "metadata": {},
   "outputs": [
    {
     "data": {
      "text/plain": [
       "FredSeries\n",
       "\tid: GDPC1\n",
       "\ttitle: Real Gross Domestic Product\n",
       "\tunits: Billions of Chained 2012 Dollars\n",
       "\tseas_adj (native): Seasonally Adjusted Annual Rate\n",
       "\tfreq (native): Quarterly\n",
       "\trealtime_start: 2018-09-03\n",
       "\trealtime_end: 2018-09-03\n",
       "\tlast_updated: 2018-08-29T07:51:02\n",
       "\tnotes: BEA Account Code: A191RX Real gross domestic product is the inflation adjusted value of the goods and services produced by labor and property located in the United States.For more information see the Guide to the National Income and Product Accounts of the United States (NIPA) - (http://www.bea.gov/national/pdf/nipaguid.pdf)\n",
       "\ttrans_short: lin\n",
       "\tdata: 286x4 DataFrame with columns Symbol[:realtime_start, :realtime_end, :date, :value]\n"
      ]
     },
     "execution_count": 4,
     "metadata": {},
     "output_type": "execute_result"
    }
   ],
   "source": [
    "a = get_data(f, \"GDPC1\")"
   ]
  },
  {
   "cell_type": "code",
   "execution_count": 7,
   "metadata": {},
   "outputs": [
    {
     "data": {
      "text/html": [
       "<table class=\"data-frame\"><thead><tr><th></th><th>realtime_start</th><th>realtime_end</th><th>date</th><th>value</th></tr></thead><tbody><tr><th>1</th><td>2018-09-03</td><td>2018-09-03</td><td>1947-01-01</td><td>2033.06</td></tr><tr><th>2</th><td>2018-09-03</td><td>2018-09-03</td><td>1947-04-01</td><td>2027.64</td></tr><tr><th>3</th><td>2018-09-03</td><td>2018-09-03</td><td>1947-07-01</td><td>2023.45</td></tr><tr><th>4</th><td>2018-09-03</td><td>2018-09-03</td><td>1947-10-01</td><td>2055.1</td></tr><tr><th>5</th><td>2018-09-03</td><td>2018-09-03</td><td>1948-01-01</td><td>2086.02</td></tr><tr><th>6</th><td>2018-09-03</td><td>2018-09-03</td><td>1948-04-01</td><td>2120.45</td></tr><tr><th>7</th><td>2018-09-03</td><td>2018-09-03</td><td>1948-07-01</td><td>2132.6</td></tr><tr><th>8</th><td>2018-09-03</td><td>2018-09-03</td><td>1948-10-01</td><td>2134.98</td></tr><tr><th>9</th><td>2018-09-03</td><td>2018-09-03</td><td>1949-01-01</td><td>2105.56</td></tr><tr><th>10</th><td>2018-09-03</td><td>2018-09-03</td><td>1949-04-01</td><td>2098.38</td></tr><tr><th>11</th><td>2018-09-03</td><td>2018-09-03</td><td>1949-07-01</td><td>2120.04</td></tr><tr><th>12</th><td>2018-09-03</td><td>2018-09-03</td><td>1949-10-01</td><td>2102.25</td></tr><tr><th>13</th><td>2018-09-03</td><td>2018-09-03</td><td>1950-01-01</td><td>2184.87</td></tr><tr><th>14</th><td>2018-09-03</td><td>2018-09-03</td><td>1950-04-01</td><td>2251.51</td></tr><tr><th>15</th><td>2018-09-03</td><td>2018-09-03</td><td>1950-07-01</td><td>2338.51</td></tr><tr><th>16</th><td>2018-09-03</td><td>2018-09-03</td><td>1950-10-01</td><td>2383.29</td></tr><tr><th>17</th><td>2018-09-03</td><td>2018-09-03</td><td>1951-01-01</td><td>2415.66</td></tr><tr><th>18</th><td>2018-09-03</td><td>2018-09-03</td><td>1951-04-01</td><td>2457.52</td></tr><tr><th>19</th><td>2018-09-03</td><td>2018-09-03</td><td>1951-07-01</td><td>2508.17</td></tr><tr><th>20</th><td>2018-09-03</td><td>2018-09-03</td><td>1951-10-01</td><td>2513.69</td></tr><tr><th>21</th><td>2018-09-03</td><td>2018-09-03</td><td>1952-01-01</td><td>2540.55</td></tr><tr><th>22</th><td>2018-09-03</td><td>2018-09-03</td><td>1952-04-01</td><td>2546.02</td></tr><tr><th>23</th><td>2018-09-03</td><td>2018-09-03</td><td>1952-07-01</td><td>2564.4</td></tr><tr><th>24</th><td>2018-09-03</td><td>2018-09-03</td><td>1952-10-01</td><td>2648.62</td></tr><tr><th>25</th><td>2018-09-03</td><td>2018-09-03</td><td>1953-01-01</td><td>2697.86</td></tr><tr><th>26</th><td>2018-09-03</td><td>2018-09-03</td><td>1953-04-01</td><td>2718.71</td></tr><tr><th>27</th><td>2018-09-03</td><td>2018-09-03</td><td>1953-07-01</td><td>2703.41</td></tr><tr><th>28</th><td>2018-09-03</td><td>2018-09-03</td><td>1953-10-01</td><td>2662.48</td></tr><tr><th>29</th><td>2018-09-03</td><td>2018-09-03</td><td>1954-01-01</td><td>2649.76</td></tr><tr><th>30</th><td>2018-09-03</td><td>2018-09-03</td><td>1954-04-01</td><td>2652.64</td></tr><tr><th>&vellip;</th><td>&vellip;</td><td>&vellip;</td><td>&vellip;</td><td>&vellip;</td></tr></tbody></table>"
      ],
      "text/plain": [
       "286×4 DataFrames.DataFrame\n",
       "│ Row │ realtime_start │ realtime_end │ date       │ value   │\n",
       "├─────┼────────────────┼──────────────┼────────────┼─────────┤\n",
       "│ 1   │ 2018-09-03     │ 2018-09-03   │ 1947-01-01 │ 2033.06 │\n",
       "│ 2   │ 2018-09-03     │ 2018-09-03   │ 1947-04-01 │ 2027.64 │\n",
       "│ 3   │ 2018-09-03     │ 2018-09-03   │ 1947-07-01 │ 2023.45 │\n",
       "│ 4   │ 2018-09-03     │ 2018-09-03   │ 1947-10-01 │ 2055.1  │\n",
       "│ 5   │ 2018-09-03     │ 2018-09-03   │ 1948-01-01 │ 2086.02 │\n",
       "│ 6   │ 2018-09-03     │ 2018-09-03   │ 1948-04-01 │ 2120.45 │\n",
       "│ 7   │ 2018-09-03     │ 2018-09-03   │ 1948-07-01 │ 2132.6  │\n",
       "│ 8   │ 2018-09-03     │ 2018-09-03   │ 1948-10-01 │ 2134.98 │\n",
       "│ 9   │ 2018-09-03     │ 2018-09-03   │ 1949-01-01 │ 2105.56 │\n",
       "│ 10  │ 2018-09-03     │ 2018-09-03   │ 1949-04-01 │ 2098.38 │\n",
       "│ 11  │ 2018-09-03     │ 2018-09-03   │ 1949-07-01 │ 2120.04 │\n",
       "⋮\n",
       "│ 275 │ 2018-09-03     │ 2018-09-03   │ 2015-07-01 │ 17438.8 │\n",
       "│ 276 │ 2018-09-03     │ 2018-09-03   │ 2015-10-01 │ 17456.2 │\n",
       "│ 277 │ 2018-09-03     │ 2018-09-03   │ 2016-01-01 │ 17523.4 │\n",
       "│ 278 │ 2018-09-03     │ 2018-09-03   │ 2016-04-01 │ 17622.5 │\n",
       "│ 279 │ 2018-09-03     │ 2018-09-03   │ 2016-07-01 │ 17706.7 │\n",
       "│ 280 │ 2018-09-03     │ 2018-09-03   │ 2016-10-01 │ 17784.2 │\n",
       "│ 281 │ 2018-09-03     │ 2018-09-03   │ 2017-01-01 │ 17863.0 │\n",
       "│ 282 │ 2018-09-03     │ 2018-09-03   │ 2017-04-01 │ 17995.2 │\n",
       "│ 283 │ 2018-09-03     │ 2018-09-03   │ 2017-07-01 │ 18120.8 │\n",
       "│ 284 │ 2018-09-03     │ 2018-09-03   │ 2017-10-01 │ 18223.8 │\n",
       "│ 285 │ 2018-09-03     │ 2018-09-03   │ 2018-01-01 │ 18324.0 │\n",
       "│ 286 │ 2018-09-03     │ 2018-09-03   │ 2018-04-01 │ 18514.6 │"
      ]
     },
     "execution_count": 7,
     "metadata": {},
     "output_type": "execute_result"
    }
   ],
   "source": [
    "a.data"
   ]
  },
  {
   "cell_type": "code",
   "execution_count": null,
   "metadata": {},
   "outputs": [],
   "source": []
  }
 ],
 "metadata": {
  "kernelspec": {
   "display_name": "Julia 1.0.0",
   "language": "julia",
   "name": "julia-1.0"
  },
  "language_info": {
   "file_extension": ".jl",
   "mimetype": "application/julia",
   "name": "julia",
   "version": "1.0.0"
  }
 },
 "nbformat": 4,
 "nbformat_minor": 2
}
