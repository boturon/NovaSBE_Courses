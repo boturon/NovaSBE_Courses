{
 "cells": [
  {
   "cell_type": "code",
   "execution_count": 1,
   "metadata": {},
   "outputs": [
    {
     "name": "stderr",
     "output_type": "stream",
     "text": [
      "Installing package into ‘/home/boturon/R/x86_64-pc-linux-gnu-library/3.5’\n",
      "(as ‘lib’ is unspecified)\n",
      "also installing the dependencies ‘units’, ‘sf’\n",
      "\n",
      "Warning message in install.packages(\"eurostat\"):\n",
      "“installation of package ‘units’ had non-zero exit status”Warning message in install.packages(\"eurostat\"):\n",
      "“installation of package ‘sf’ had non-zero exit status”Warning message in install.packages(\"eurostat\"):\n",
      "“installation of package ‘eurostat’ had non-zero exit status”"
     ]
    }
   ],
   "source": [
    "install.packages(\"eurostat\")"
   ]
  },
  {
   "cell_type": "code",
   "execution_count": 2,
   "metadata": {},
   "outputs": [
    {
     "ename": "ERROR",
     "evalue": "Error in library(eurostat): there is no package called ‘eurostat’\n",
     "execution_count": 2,
     "output_type": "error",
     "traceback": [
      "Error in library(eurostat): there is no package called ‘eurostat’\nTraceback:\n",
      "1. library(eurostat)",
      "2. stop(txt, domain = NA)"
     ]
    }
   ],
   "source": [
    "library(eurostat)"
   ]
  },
  {
   "cell_type": "code",
   "execution_count": null,
   "metadata": {},
   "outputs": [],
   "source": []
  }
 ],
 "metadata": {
  "kernelspec": {
   "display_name": "R",
   "language": "R",
   "name": "ir"
  },
  "language_info": {
   "codemirror_mode": "r",
   "file_extension": ".r",
   "mimetype": "text/x-r-source",
   "name": "R",
   "pygments_lexer": "r",
   "version": "3.5.1"
  }
 },
 "nbformat": 4,
 "nbformat_minor": 2
}
