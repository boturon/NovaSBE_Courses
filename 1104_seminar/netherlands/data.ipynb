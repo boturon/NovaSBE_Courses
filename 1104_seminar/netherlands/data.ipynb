{
 "cells": [
  {
   "cell_type": "code",
   "execution_count": 22,
   "metadata": {},
   "outputs": [],
   "source": [
    "import pandas as pd\n",
    "import numpy as np\n",
    "import os"
   ]
  },
  {
   "cell_type": "markdown",
   "metadata": {},
   "source": [
    "<br>"
   ]
  },
  {
   "cell_type": "markdown",
   "metadata": {},
   "source": [
    "# Tables of EU Policy\n",
    "- **tips** -  Macroeconomic imbalance procedure indicators\n",
    "- **shorties** -  Euro indicators / PEEIs\n",
    "- **t2020** -  Europe 2020 indicators\n",
    "- **cei** -  Circular economy indicators\n",
    "- **sdg** -  Sustainable development indicators\n",
    "- **es** -  Employment and social policy indicators\n",
    "- **tepsr** -  European pillar of social rights\n"
   ]
  },
  {
   "cell_type": "markdown",
   "metadata": {},
   "source": [
    "<br>"
   ]
  },
  {
   "cell_type": "code",
   "execution_count": 40,
   "metadata": {},
   "outputs": [],
   "source": [
    "def tsv_converter(path,file):\n",
    "    source = pd.read_csv(path+file, sep=\"\\t\")\n",
    "    index_names = [s.replace('\\\\', '') for s in source.columns[0].split(\",\")] \n",
    "    index_names.extend([\"date\", \"value\"])\n",
    "    \n",
    "    output = pd.DataFrame(index=index_names); counter = 0\n",
    "    for index, row in source.iterrows():\n",
    "        for period in source.columns[1:]:\n",
    "            if period[0].isdigit() == True:\n",
    "                counter +=1\n",
    "                values = row[source.columns[0]].split(\",\"); values.extend([period, row[period]])\n",
    "                output[counter] = values\n",
    "    \n",
    "    if output.shape[1] == 0:\n",
    "        return(\"Problem in \"+file)\n",
    "    \n",
    "    \n",
    "    output = output.transpose()\n",
    "    output.value = output.value.str.extract('(\\d+)', expand=False)\n",
    "    #output.value = output.value.astype(float)\n",
    "\n",
    "    try:\n",
    "        output.date = pd.to_datetime(output.date.str.strip())\n",
    "    except ValueError:\n",
    "        output.date = pd.to_datetime(output.date.str.strip(), format=\"%YM%m\")\n",
    "    \n",
    "    output.to_csv(path+\"converted/\"+file[:-3]+\"csv\", index=False)"
   ]
  },
  {
   "cell_type": "code",
   "execution_count": 62,
   "metadata": {},
   "outputs": [
    {
     "name": "stdout",
     "output_type": "stream",
     "text": [
      "sdg_05_10.tsv\n",
      "sdg_11_30.tsv\n"
     ]
    }
   ],
   "source": [
    "path = \"./data/tables-of-EU-policy/\"\n",
    "files_done = os.listdir(path+\"converted/\")\n",
    "for tsv_file in [i for i in os.listdir(path) if i[-3:]==\"tsv\"]:\n",
    "    if tsv_file[:-3]+\"csv\" not in files_done:\n",
    "        print(tsv_file)\n",
    "        tsv_converter(path, tsv_file)\n",
    "del path"
   ]
  },
  {
   "cell_type": "markdown",
   "metadata": {},
   "source": [
    "<br>"
   ]
  }
 ],
 "metadata": {
  "kernelspec": {
   "display_name": "Python 3",
   "language": "python",
   "name": "python3"
  },
  "language_info": {
   "codemirror_mode": {
    "name": "ipython",
    "version": 3
   },
   "file_extension": ".py",
   "mimetype": "text/x-python",
   "name": "python",
   "nbconvert_exporter": "python",
   "pygments_lexer": "ipython3",
   "version": "3.6.6"
  }
 },
 "nbformat": 4,
 "nbformat_minor": 2
}
