{
 "cells": [
  {
   "cell_type": "code",
   "execution_count": 130,
   "metadata": {},
   "outputs": [],
   "source": [
    "import pandas as pd\n",
    "import os"
   ]
  },
  {
   "cell_type": "markdown",
   "metadata": {},
   "source": [
    "<br>"
   ]
  },
  {
   "cell_type": "markdown",
   "metadata": {},
   "source": [
    "# Tables of EU Policy\n",
    "- **tips** -  Macroeconomic imbalance procedure indicators\n",
    "- **shorties** -  Euro indicators / PEEIs\n",
    "- **t2020** -  Europe 2020 indicators\n",
    "- **cei** -  Circular economy indicators\n",
    "- **sdg** -  Sustainable development indicators\n",
    "- **es** -  Employment and social policy indicators\n",
    "- **tepsr** -  European pillar of social rights\n"
   ]
  },
  {
   "cell_type": "markdown",
   "metadata": {},
   "source": [
    "<br>"
   ]
  },
  {
   "cell_type": "code",
   "execution_count": 167,
   "metadata": {},
   "outputs": [],
   "source": [
    "def tsv_converter(path,file):\n",
    "    source = pd.read_csv(path+file, sep=\"\\t\")\n",
    "    index_names = source.columns[0].split(\",\"); index_names.extend([\"date\", \"value\"])\n",
    "    \n",
    "    output = pd.DataFrame(index=index_names); counter = 0\n",
    "    for index, row in source.iterrows():\n",
    "        for period in source.columns[1:]:\n",
    "            if period[0].isdigit() == True:\n",
    "                counter +=1\n",
    "                values = row[source.columns[0]].split(\",\"); values.extend([period, row[period]])\n",
    "                output[counter] = values\n",
    "    \n",
    "    output = output.transpose()\n",
    "    try:\n",
    "        output.date = pd.to_datetime(output.date.str.strip())\n",
    "    except ValueError:\n",
    "        output.date = pd.to_datetime(output.date.str.strip(), format=\"%YM%m\")\n",
    "    \n",
    "    output.to_csv(path+\"converted/\"+file[:-3]+\"csv\", index=False)"
   ]
  },
  {
   "cell_type": "code",
   "execution_count": null,
   "metadata": {},
   "outputs": [],
   "source": [
    "path = \"./data/tables-of-EU-policy/\"\n",
    "for tsv_file in [i for i in os.listdir(path) if i[-3:]==\"tsv\"]:\n",
    "    print(tsv_file)\n",
    "    tsv_converter(path, tsv_file)\n",
    "del path"
   ]
  },
  {
   "cell_type": "markdown",
   "metadata": {},
   "source": [
    "<br>"
   ]
  },
  {
   "cell_type": "markdown",
   "metadata": {},
   "source": [
    "## **tips** Macroeconomic imbalance procedure indicators\n",
    "- **tips_h** - MIP Scoreboard indicators\n",
    "- **tipsbp** - Current account balance and balance of payments\n",
    "- **tipsii** - International investment position\n",
    "- **tipsed** - External debt\n",
    "- **tipser** - Effective exchange rates\n",
    "- **tipsex** - Export market shares\n",
    "- **tipsgo** - General government gross debt (EDP concept)\n",
    "- **tipsfs** - Financial sector liabilities\n",
    "- **tipspd** - Private sector debt\n",
    "- **tipspc** - Private sector credit flow\n",
    "- **tipsnf** - Non-financial transactions - annual data\n",
    "- **tipsun** - Unemployment\n",
    "- **tipslc** - Unit labour cost\n",
    "- **tipsho** - House price indices\n",
    "- **tipspo** - Poverty and social exclusion\n",
    "- **tipsgd** - Gross domestic product (GDP)\n",
    "- **tipsrd** - Research and development\n",
    "- **mips_sa** - Macroeconomic imbalance procedure - Statistical annex indicators"
   ]
  },
  {
   "cell_type": "markdown",
   "metadata": {},
   "source": [
    "<br>"
   ]
  },
  {
   "cell_type": "code",
   "execution_count": 170,
   "metadata": {},
   "outputs": [],
   "source": [
    "\n",
    "tsv_converter(\"./data/tables-of-EU-policy/\", \"t2020_50.tsv\")"
   ]
  },
  {
   "cell_type": "code",
   "execution_count": null,
   "metadata": {},
   "outputs": [],
   "source": []
  }
 ],
 "metadata": {
  "kernelspec": {
   "display_name": "Python 3",
   "language": "python",
   "name": "python3"
  },
  "language_info": {
   "codemirror_mode": {
    "name": "ipython",
    "version": 3
   },
   "file_extension": ".py",
   "mimetype": "text/x-python",
   "name": "python",
   "nbconvert_exporter": "python",
   "pygments_lexer": "ipython3",
   "version": "3.6.6"
  }
 },
 "nbformat": 4,
 "nbformat_minor": 2
}
