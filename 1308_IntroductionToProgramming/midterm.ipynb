{
 "cells": [
  {
   "cell_type": "markdown",
   "metadata": {},
   "source": [
    "# Intro to Programming - Individual challenge\n",
    "\n",
    "**Pedro Corte Garcia | João Fonseca** \n",
    "\n",
    "October 9th, 2018, Fall semester \n",
    "\n",
    "Due date and time: 09/10/2018 11H40\n",
    "\n",
    "Rules for this challenge:\n",
    "1. You are not allowed to talk, exchange ideas or have any type of communication with your colleagues during the challenge\n",
    "2. You can (and should) use the internet to help you when you don't know something. But be carefull not to dwell in it...\n",
    "3. You have only 2 help cards to use with the teachers. If you finish the challenge with the 2 help cards you have a bonus of 10% in your grade. If you reach with 1 help card, you have a 5% bonus in your grade. If you finish with 0 help cards, you get nothing. Be intelligent and look carefully in the internet before calling us!\n",
    "4. The exam will be finished by 12h30 and must be submitted for us before 12h40. (ver aqui cm vamos fazer)\n",
    "\n",
    "Material for the exam:\n",
    "1. Link for the dataset file <a href='https://moodle.novasbe.pt/pluginfile.php/214958/mod_resource/content/1/pokemon_midterm.csv'>data set</a>. You should download the csv to the same folder where you have the notebook for the challenge.\n"
   ]
  },
  {
   "cell_type": "markdown",
   "metadata": {},
   "source": [
    "___\n",
    "## Part 1 - Pirates of the Caribbean\n",
    "\n",
    "The following exercises are not linked among each other. They are meant to test your skills using generalistic Python tools.\n",
    "___"
   ]
  },
  {
   "cell_type": "markdown",
   "metadata": {},
   "source": [
    "### 1.1. There are many (simple) syntax errors in the following cell. Fix them. (0.5/20)\n",
    "**Tip:** Read the Tracebacks very carefully! These are common errors and are all simple to fix."
   ]
  },
  {
   "cell_type": "code",
   "execution_count": 9,
   "metadata": {},
   "outputs": [
    {
     "name": "stdout",
     "output_type": "stream",
     "text": [
      "Jack Sparrow is a pirate! He said Arrr!  shoo!\n",
      "Elizabeth Swann is not pirate, how nice! Also said that She invokes the right of parley\n",
      "Captain Barbossa is a pirate! He said Arrr!  shoo!\n",
      "James Norrington is not pirate, how nice! Also said that Jack Sparrow is the worst pirate he's ever heard of\n"
     ]
    }
   ],
   "source": [
    "characters = {'Jack Sparrow': 'Arrr!',\n",
    "              'Elizabeth Swann': 'She invokes the right of parley', \n",
    "              'Captain Barbossa':'Arrr!', \n",
    "              'James Norrington':'Jack Sparrow is the worst pirate he\\'s ever heard of'}\n",
    "\n",
    "# let's make a pirate detector\n",
    "for person in characters:\n",
    "    greeting = characters[person]\n",
    "    if greeting ==\"Arrr!\":\n",
    "        print(person,'is a pirate! He said',greeting,' shoo!')\n",
    "    else:\n",
    "        print(person,'is not pirate, how nice! Also said that',greeting)"
   ]
  },
  {
   "cell_type": "code",
   "execution_count": null,
   "metadata": {},
   "outputs": [],
   "source": []
  },
  {
   "cell_type": "markdown",
   "metadata": {},
   "source": [
    "### 1.2. Define a function named \"factorial\" (1.5 (0.5 each) /20):\n",
    "In mathematics, the factorial of an integer n, denoted by n! is the following product:\n",
    "* n!=1×2×…×n\n",
    "For the given integer n calculate the value n!. \n",
    "\n",
    "You are **not** allowed to use the ***math*** module in this exercise.\n",
    "\n",
    "___\n",
    "- The function must calculate the factorial of a variable \"n\"\n",
    "- Create a new variable \"sparrow_count\" containing the number of characters present in the string \"Jack Sparrow\"\n",
    "- Demonstrate the functioning of the function by running factorial(sparrow_count)"
   ]
  },
  {
   "cell_type": "code",
   "execution_count": 27,
   "metadata": {},
   "outputs": [
    {
     "data": {
      "text/plain": [
       "479001600"
      ]
     },
     "execution_count": 27,
     "metadata": {},
     "output_type": "execute_result"
    }
   ],
   "source": [
    "# Define a function named \"factorial\". The function must calculate the factorial of a variable \"n\".\n",
    "\n",
    "def factorial(n):\n",
    "    out = 1\n",
    "    while n > 1:\n",
    "        out *= n\n",
    "        n -= 1\n",
    "    return(out)\n",
    "\n",
    "# Create a new variable \"sparrow_count\" containing the number of characters present in the string \"Jack Sparrow\" (space counts has a character)r)\n",
    "\n",
    "sparrow_count = len(\"Jack Sparrow\")\n",
    "\n",
    "# Demonstrate the functioning of the function by running factorial(sparrow_count)\n",
    "\n",
    "factorial(sparrow_count)"
   ]
  },
  {
   "cell_type": "markdown",
   "metadata": {},
   "source": [
    "### 1.3. Dictionary operations (3 (0.5 each) /20):\n",
    "**The dictionary you will be using for this exercise is already provided in the input cell.**\n",
    "- Create a function to check if a key is in the dictionary (i.e., if a key with such name exists).\n",
    "- Use the function to check if there is a key labelled \"Elizabeth Swann\" and a key labelled \"Jack Sparrow\".\n",
    "- Add to the dictionary the following items: **Tia Dalma (Calipso): sorceress** and **Elizabeth Swann: pirate**.\n",
    "- Run a loop to count the number of pirates in the dictionary print \"There are ... pirates in this dictionary!\".\n",
    "- In the same loop, add to a list the names of these pirates and print it.\n",
    "- Remove Jack the monkey from the dictionary and print it (the dictionary).\n",
    "\n"
   ]
  },
  {
   "cell_type": "code",
   "execution_count": 29,
   "metadata": {},
   "outputs": [
    {
     "name": "stdout",
     "output_type": "stream",
     "text": [
      "False\n",
      "True\n"
     ]
    }
   ],
   "source": [
    "characters_caribbean = {'Jack Sparrow': 'pirate', \n",
    "                        'Hector Barbossa': 'pirate', \n",
    "                        'Joshamee Gibbs': 'pirate', \n",
    "                        'Will Turner': 'pirate', \n",
    "                        'Bootstrap Bill': 'pirate', \n",
    "                        'James Norrington': 'admiral of the east india trading company war fleet',\n",
    "                        'Davy Jones': 'pirate',\n",
    "                        'Cutler Beckett': 'East India Trading Co. chairman',\n",
    "                        'Jack the monkey': 'monkey'\n",
    "                       }\n",
    "\n",
    "# Create a function to check if a key is in the dictionary (i.e., if a key with such name exists):\n",
    "def CheckIn(dict_in, key_in):\n",
    "    return(key_in in dict_in.keys())\n",
    "\n",
    "# Use the function to check if there is a key labelled \"Elizabeth Swann\" and a key labelled \"Jack Sparrow\".\n",
    "for i in [\"Elizabeth Swann\", \"Jack Sparrow\"]: print(CheckIn(characters_caribbean, i))\n",
    "\n",
    "# Add to the dictionary the following items: Tia Dalma (Calipso): sorceress and Elizabeth Swann: pirate.\n",
    "\n",
    "\n",
    "# Run a loop to count the number of pirates in the dictionary print \"There are ... pirates in this dictionary!\".\n",
    "\n",
    "# In the same loop, add to a list the names of these pirates and print it.\n",
    "\n",
    "# Remove Jack the monkey from the dictionary and print it (the dictionary).\n",
    "\n"
   ]
  },
  {
   "cell_type": "code",
   "execution_count": null,
   "metadata": {},
   "outputs": [],
   "source": [
    "\n"
   ]
  },
  {
   "cell_type": "markdown",
   "metadata": {},
   "source": [
    "___\n",
    "## Part 2 - Pokemon\n",
    "___\n",
    "\n",
    "### 2.1. Start by importing the missing library: Pandas. (0.5/20)"
   ]
  },
  {
   "cell_type": "code",
   "execution_count": 7,
   "metadata": {},
   "outputs": [],
   "source": [
    "# import Pandas in the same way we did in class, in the line below.\n",
    "\n",
    "import matplotlib.pyplot as plt # plt.show() will present in the notebook without displaying the object identifier\n",
    "from random import randint"
   ]
  },
  {
   "cell_type": "markdown",
   "metadata": {},
   "source": [
    "### 2.2. Start by listing all files in your current directory and stating your working directory. (0.5/20)\n",
    "**Use terminal commands to do this**"
   ]
  },
  {
   "cell_type": "code",
   "execution_count": null,
   "metadata": {},
   "outputs": [],
   "source": []
  },
  {
   "cell_type": "markdown",
   "metadata": {},
   "source": [
    "### 2.3. Create a variable (name it \"file_name\") for the user to input the csv file name that he/she wants to use. Run the cell and enter the csv file \"pokemon.csv\" provided (0.5/20)"
   ]
  },
  {
   "cell_type": "code",
   "execution_count": null,
   "metadata": {
    "scrolled": true
   },
   "outputs": [],
   "source": []
  },
  {
   "cell_type": "markdown",
   "metadata": {},
   "source": [
    "### 2.4. Use Pandas to read the csv file typed in the previous variable. Name it \"df_pokemon\". Display the first 5 rows of the table (0.5/20)"
   ]
  },
  {
   "cell_type": "code",
   "execution_count": null,
   "metadata": {
    "scrolled": true
   },
   "outputs": [],
   "source": []
  },
  {
   "cell_type": "markdown",
   "metadata": {},
   "source": [
    "### 2.5. How many rows and columns are there in this dataset? (1/20)\n",
    "**You must use the appropriate command to do this. Manual count or retrieving the last index value does not answer this question.**\n",
    "\n",
    "\n",
    "\n",
    "- Use the command print to display the following message:\n",
    "\n",
    "\"The number of rows is < replace by number of rows > and the number of columns is < replace by number of columns >\""
   ]
  },
  {
   "cell_type": "code",
   "execution_count": null,
   "metadata": {},
   "outputs": [],
   "source": []
  },
  {
   "cell_type": "markdown",
   "metadata": {},
   "source": [
    "### 2.6. Create a scatter plot having in the x-axis the column \"Defense\" and in the y-axis the column \"Attack\". (1/20)"
   ]
  },
  {
   "cell_type": "code",
   "execution_count": null,
   "metadata": {},
   "outputs": [],
   "source": []
  },
  {
   "cell_type": "markdown",
   "metadata": {},
   "source": [
    "### 2.7. Rename the column \"Student Number\" to \"nbr\". (1/20)"
   ]
  },
  {
   "cell_type": "code",
   "execution_count": null,
   "metadata": {},
   "outputs": [],
   "source": []
  },
  {
   "cell_type": "markdown",
   "metadata": {},
   "source": [
    "### 2.8. Remove from the table all the Legendary Pokemon. Use the column \"Legendary\". (1/20)"
   ]
  },
  {
   "cell_type": "code",
   "execution_count": null,
   "metadata": {},
   "outputs": [],
   "source": []
  },
  {
   "cell_type": "markdown",
   "metadata": {},
   "source": [
    "### 2.9. Select only the rows with a student number. Replace the old dataframe with the one after the query (2/20)\n",
    "\n",
    "**Note: If you are not able to execute this exercise successfully, please use the alternative dataset in moodle**"
   ]
  },
  {
   "cell_type": "code",
   "execution_count": null,
   "metadata": {},
   "outputs": [],
   "source": []
  },
  {
   "cell_type": "markdown",
   "metadata": {},
   "source": [
    "### 2.10. Create a new column called \"group\". They must have default value None in all rows (1/20)"
   ]
  },
  {
   "cell_type": "code",
   "execution_count": null,
   "metadata": {
    "scrolled": true
   },
   "outputs": [],
   "source": []
  },
  {
   "cell_type": "markdown",
   "metadata": {},
   "source": [
    "### 2.11. Create column \"Total\" where every row has the sum of HP, Attack, Defense and Speed Columns.(1/20)"
   ]
  },
  {
   "cell_type": "code",
   "execution_count": null,
   "metadata": {},
   "outputs": [],
   "source": []
  },
  {
   "cell_type": "markdown",
   "metadata": {},
   "source": [
    "### 2.12. Create a function called \"groupInfo\" that will give us the details about the formation of a group. The function should have as inputs the dataset and number of elements for each group. (2/20)\n",
    "The function must print: \n",
    "1. The total number of elements in the dataset \n",
    "2. The number of groups created with the number of elements set for each group in the input \n",
    "3. if we have remaining elements without group, we must say how many are they. \n",
    "Ex:\n",
    "If we insert as inputs df_pokemon (assuming this dataset has 22 elements) and 3, we should get:\n",
    "\n",
    "<br>The dataset has 22 elements.\n",
    "<br>We can create 7 groups of 3 elements.\n",
    "<br>We have 1 remaining elements.\n",
    "\n",
    "ATTENTION: Values may change depending on dataset size"
   ]
  },
  {
   "cell_type": "code",
   "execution_count": null,
   "metadata": {},
   "outputs": [],
   "source": []
  },
  {
   "cell_type": "markdown",
   "metadata": {},
   "source": [
    "### 2.13. Create a function called createGroups that receives a dataset and the n_elements for group formation. (3/20)\n",
    "Rules to create groups:\n",
    "1. Use the df_pokemon dataset\n",
    "2. the number of elements in each group is set by n_elements (x valores)\n",
    "3. if the number of students is not enough to create a final group, the remaining students must be put in a random selected group (x valores)\n",
    "\n"
   ]
  },
  {
   "cell_type": "code",
   "execution_count": null,
   "metadata": {},
   "outputs": [],
   "source": []
  }
 ],
 "metadata": {
  "kernelspec": {
   "display_name": "Python 3",
   "language": "python",
   "name": "python3"
  },
  "language_info": {
   "codemirror_mode": {
    "name": "ipython",
    "version": 3
   },
   "file_extension": ".py",
   "mimetype": "text/x-python",
   "name": "python",
   "nbconvert_exporter": "python",
   "pygments_lexer": "ipython3",
   "version": "3.7.2"
  }
 },
 "nbformat": 4,
 "nbformat_minor": 2
}
