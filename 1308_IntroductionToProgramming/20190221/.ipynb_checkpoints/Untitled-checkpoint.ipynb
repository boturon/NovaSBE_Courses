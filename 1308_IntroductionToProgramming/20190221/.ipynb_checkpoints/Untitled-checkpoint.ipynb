{
 "cells": [
  {
   "cell_type": "markdown",
   "metadata": {},
   "source": [
    "#"
   ]
  },
  {
   "cell_type": "code",
   "execution_count": 9,
   "metadata": {},
   "outputs": [],
   "source": [
    "from random import randint"
   ]
  },
  {
   "cell_type": "code",
   "execution_count": 16,
   "metadata": {},
   "outputs": [
    {
     "name": "stdin",
     "output_type": "stream",
     "text": [
      "Insert a number between 0 and 9. \n",
      " 1\n"
     ]
    },
    {
     "name": "stdout",
     "output_type": "stream",
     "text": [
      "Wrong guess. Please continue to guess.\n"
     ]
    },
    {
     "name": "stdin",
     "output_type": "stream",
     "text": [
      "Insert a number between 0 and 9. \n",
      " 1\n"
     ]
    },
    {
     "name": "stdout",
     "output_type": "stream",
     "text": [
      "Wrong guess. Please continue to guess.\n"
     ]
    },
    {
     "name": "stdin",
     "output_type": "stream",
     "text": [
      "Insert a number between 0 and 9. \n",
      " 1\n"
     ]
    },
    {
     "name": "stdout",
     "output_type": "stream",
     "text": [
      "Loser.\n"
     ]
    }
   ],
   "source": [
    "jackpot = randint(0,9)\n",
    "\n",
    "chances = 3\n",
    "try_number = 1\n",
    "askNumber = True\n",
    "\n",
    "while ((try_number <= chances)and askNumber):\n",
    "    if int(input(\"Insert a number between 0 and 9. \\n\"))==jackpot:\n",
    "        print(\"Jackpot!\")\n",
    "        askNumber = False\n",
    "    elif try_number < chances:\n",
    "        print(\"Wrong guess. Please continue to guess.\")\n",
    "        try_number += 1\n",
    "    else:\n",
    "        print(\"Loser.\")\n",
    "        askNumber = False"
   ]
  },
  {
   "cell_type": "markdown",
   "metadata": {},
   "source": [
    "<br>"
   ]
  },
  {
   "cell_type": "markdown",
   "metadata": {},
   "source": [
    "# 10_basic_loops_exercise"
   ]
  },
  {
   "cell_type": "code",
   "execution_count": 24,
   "metadata": {},
   "outputs": [],
   "source": [
    "dict1 = {\"a\": [\"value1\", \"value2\"], \"b\": [\"value3\"], \"c\":[\"value4\", \"value5\"]}\n",
    "\n",
    "out1 = []\n",
    "out2 = []\n",
    "\n",
    "out1.extend(dict1.keys())\n",
    "[out1.extend(i) for i in dict1.values()]\n",
    "\n",
    "for i in dict1:\n",
    "    out2.append(i)\n",
    "    out2.extend(dict1[i])\n",
    "    "
   ]
  },
  {
   "cell_type": "code",
   "execution_count": 26,
   "metadata": {},
   "outputs": [
    {
     "data": {
      "text/plain": [
       "['a', 'b', 'c', 'value1', 'value2', 'value3', 'value4', 'value5']"
      ]
     },
     "execution_count": 26,
     "metadata": {},
     "output_type": "execute_result"
    }
   ],
   "source": [
    "out1"
   ]
  },
  {
   "cell_type": "code",
   "execution_count": 27,
   "metadata": {},
   "outputs": [
    {
     "data": {
      "text/plain": [
       "['a', 'value1', 'value2', 'b', 'value3', 'c', 'value4', 'value5']"
      ]
     },
     "execution_count": 27,
     "metadata": {},
     "output_type": "execute_result"
    }
   ],
   "source": [
    "out2"
   ]
  }
 ],
 "metadata": {
  "kernelspec": {
   "display_name": "Python 3",
   "language": "python",
   "name": "python3"
  },
  "language_info": {
   "codemirror_mode": {
    "name": "ipython",
    "version": 3
   },
   "file_extension": ".py",
   "mimetype": "text/x-python",
   "name": "python",
   "nbconvert_exporter": "python",
   "pygments_lexer": "ipython3",
   "version": "3.7.2"
  }
 },
 "nbformat": 4,
 "nbformat_minor": 2
}
