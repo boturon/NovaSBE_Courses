{
 "cells": [
  {
   "cell_type": "markdown",
   "metadata": {},
   "source": [
    "# 11_loops_lists_dict_warm_ups.py"
   ]
  },
  {
   "cell_type": "code",
   "execution_count": 1,
   "metadata": {},
   "outputs": [
    {
     "name": "stdout",
     "output_type": "stream",
     "text": [
      "python\n",
      "c\n",
      "java\n"
     ]
    }
   ],
   "source": [
    "list1 = ['python', 'c', 'java']\n",
    "for i in range(len(list1)):\n",
    "    print(list1[i])"
   ]
  },
  {
   "cell_type": "code",
   "execution_count": 4,
   "metadata": {},
   "outputs": [
    {
     "name": "stdout",
     "output_type": "stream",
     "text": [
      "A nice programming language is python.\n",
      "A nice programming language is c.\n",
      "A nice programming language is java.\n"
     ]
    }
   ],
   "source": [
    "list1 = ['python', 'c', 'java']\n",
    "for i in range(len(list1)):\n",
    "    print(\"A nice programming language is %s.\" % list1[i])"
   ]
  },
  {
   "cell_type": "code",
   "execution_count": 3,
   "metadata": {},
   "outputs": [
    {
     "name": "stdout",
     "output_type": "stream",
     "text": [
      "One item in my shopping list is a egg.\n",
      "One item in my shopping list is a banana.\n",
      "One item in my shopping list is a child.\n",
      "One item in my shopping list is a condoms.\n",
      "One item in my shopping list is a tree.\n"
     ]
    }
   ],
   "source": [
    "list2 = [\"egg\", \"banana\", \"child\", \"condoms\", \"tree\"]\n",
    "for i in list2:\n",
    "    print(\"One item in my shopping list is a %s.\" % i)"
   ]
  },
  {
   "cell_type": "markdown",
   "metadata": {},
   "source": [
    "<br>"
   ]
  },
  {
   "cell_type": "markdown",
   "metadata": {},
   "source": [
    "# 12_pyramid_generator.py"
   ]
  },
  {
   "cell_type": "code",
   "execution_count": 17,
   "metadata": {},
   "outputs": [
    {
     "name": "stdin",
     "output_type": "stream",
     "text": [
      "Enter pyramid's height (i.e., number of rows) \n",
      " 4\n"
     ]
    },
    {
     "name": "stdout",
     "output_type": "stream",
     "text": [
      "___*___\n",
      "__***__\n",
      "_*****_\n",
      "*******\n"
     ]
    }
   ],
   "source": [
    "height = int(input(\"Enter pyramid's height (i.e., number of rows) \\n\"))\n",
    "for row in range(1,height+1):\n",
    "    print(\"_\"*int((2*height-1-(2*row-1))/2)+\"*\"*(2*row-1)+\"_\"*int((2*height-1-(2*row-1))/2))"
   ]
  },
  {
   "cell_type": "markdown",
   "metadata": {},
   "source": [
    "<br>"
   ]
  },
  {
   "cell_type": "markdown",
   "metadata": {},
   "source": [
    "# 13_password_generator.py"
   ]
  },
  {
   "cell_type": "code",
   "execution_count": 92,
   "metadata": {},
   "outputs": [],
   "source": [
    "import random, string"
   ]
  },
  {
   "cell_type": "code",
   "execution_count": 93,
   "metadata": {},
   "outputs": [],
   "source": [
    "def pass_gen(strength=3, length=10):\n",
    "    \n",
    "    pass0 = \"\"\n",
    "    def conditions(passin):\n",
    "        return([\n",
    "            sum([i in string.ascii_lowercase for i in passin]) == 0,\n",
    "            sum([i in string.ascii_lowercase for i in passin]) == 0 or sum([i in  string.ascii_uppercase for i in passin]) == 0 or sum([i in string.digits for i in passin]) == 0,\n",
    "            sum([i in string.ascii_lowercase for i in passin]) == 0 or sum([ i in  string.ascii_uppercase for i in passin]) == 0 \n",
    "            or sum([i in string.digits for i in passin]) == 0 or sum([i in string.punctuation for i in passin]) == 0\n",
    "        ])\n",
    "    \n",
    "    while conditions(pass0)[strength-1]:\n",
    "        pass0 = [\n",
    "        ''.join(random.choice(string.ascii_lowercase) for _ in range(length)),\n",
    "        ''.join(random.choice(string.ascii_lowercase + string.ascii_uppercase + string.digits) for _ in range(length)),\n",
    "        ''.join(random.choice(string.ascii_lowercase + string.ascii_uppercase + string.digits + string.punctuation) for _ in range(length))\n",
    "    ][strength-1]\n",
    "    \n",
    "    return(pass0)"
   ]
  },
  {
   "cell_type": "code",
   "execution_count": 94,
   "metadata": {},
   "outputs": [
    {
     "data": {
      "text/plain": [
       "'cuoceuuhxh'"
      ]
     },
     "execution_count": 94,
     "metadata": {},
     "output_type": "execute_result"
    }
   ],
   "source": [
    "pass_gen(1,10)"
   ]
  },
  {
   "cell_type": "code",
   "execution_count": 95,
   "metadata": {},
   "outputs": [
    {
     "data": {
      "text/plain": [
       "'50BigoFvhT'"
      ]
     },
     "execution_count": 95,
     "metadata": {},
     "output_type": "execute_result"
    }
   ],
   "source": [
    "pass_gen(2,10)"
   ]
  },
  {
   "cell_type": "code",
   "execution_count": 96,
   "metadata": {},
   "outputs": [
    {
     "data": {
      "text/plain": [
       "'98ccY~B.vn'"
      ]
     },
     "execution_count": 96,
     "metadata": {},
     "output_type": "execute_result"
    }
   ],
   "source": [
    "pass_gen(3,10)"
   ]
  },
  {
   "cell_type": "code",
   "execution_count": null,
   "metadata": {},
   "outputs": [],
   "source": []
  },
  {
   "cell_type": "code",
   "execution_count": null,
   "metadata": {},
   "outputs": [],
   "source": []
  },
  {
   "cell_type": "code",
   "execution_count": null,
   "metadata": {},
   "outputs": [],
   "source": []
  },
  {
   "cell_type": "code",
   "execution_count": 97,
   "metadata": {},
   "outputs": [],
   "source": [
    "people={\n",
    "    1:{\n",
    "        \"name\":\"pedro\",\n",
    "        \"age\":38\n",
    "    },\n",
    "    2:{\n",
    "        \"name\":\"Francisca\",\n",
    "        \"age\":4\n",
    "    }\n",
    "}"
   ]
  },
  {
   "cell_type": "code",
   "execution_count": 99,
   "metadata": {},
   "outputs": [
    {
     "name": "stdout",
     "output_type": "stream",
     "text": [
      "42\n"
     ]
    }
   ],
   "source": [
    "print(people[1][\"age\"]+people[2][\"age\"])"
   ]
  },
  {
   "cell_type": "code",
   "execution_count": 100,
   "metadata": {},
   "outputs": [
    {
     "data": {
      "text/plain": [
       "42"
      ]
     },
     "execution_count": 100,
     "metadata": {},
     "output_type": "execute_result"
    }
   ],
   "source": [
    "people[1][\"age\"]+people[2][\"age\"]\n"
   ]
  },
  {
   "cell_type": "code",
   "execution_count": null,
   "metadata": {},
   "outputs": [],
   "source": []
  },
  {
   "cell_type": "code",
   "execution_count": 107,
   "metadata": {},
   "outputs": [],
   "source": [
    "people = [\"pedro\", \"francisca\", \"joana\", \"miguel\", \"antonio\"]"
   ]
  },
  {
   "cell_type": "code",
   "execution_count": 108,
   "metadata": {},
   "outputs": [
    {
     "name": "stdout",
     "output_type": "stream",
     "text": [
      "['joana']\n"
     ]
    }
   ],
   "source": [
    "print(people[2:3])"
   ]
  },
  {
   "cell_type": "markdown",
   "metadata": {},
   "source": [
    "<br>"
   ]
  }
 ],
 "metadata": {
  "kernelspec": {
   "display_name": "Python 3",
   "language": "python",
   "name": "python3"
  },
  "language_info": {
   "codemirror_mode": {
    "name": "ipython",
    "version": 3
   },
   "file_extension": ".py",
   "mimetype": "text/x-python",
   "name": "python",
   "nbconvert_exporter": "python",
   "pygments_lexer": "ipython3",
   "version": "3.7.2"
  }
 },
 "nbformat": 4,
 "nbformat_minor": 2
}
