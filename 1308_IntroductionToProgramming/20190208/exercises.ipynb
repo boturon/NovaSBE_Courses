{
 "cells": [
  {
   "cell_type": "markdown",
   "metadata": {},
   "source": [
    "# 02"
   ]
  },
  {
   "cell_type": "code",
   "execution_count": 9,
   "metadata": {},
   "outputs": [
    {
     "name": "stdin",
     "output_type": "stream",
     "text": [
      "1st number: 2\n",
      "2nd number: 5\n"
     ]
    },
    {
     "name": "stdout",
     "output_type": "stream",
     "text": [
      "2.0 over 5.0 equals 0.4!\n"
     ]
    }
   ],
   "source": [
    "n1 = float(input(\"1st number:\"))\n",
    "n2 = float(input(\"2nd number:\"))\n",
    "\n",
    "print(\"%s over %s equals %s!\" % (n1, n2, n1/n2))"
   ]
  },
  {
   "cell_type": "markdown",
   "metadata": {},
   "source": [
    "# 03"
   ]
  },
  {
   "cell_type": "code",
   "execution_count": 10,
   "metadata": {},
   "outputs": [
    {
     "name": "stdin",
     "output_type": "stream",
     "text": [
      "What are you thinking about? I do not know.\n"
     ]
    },
    {
     "name": "stdout",
     "output_type": "stream",
     "text": [
      "Your thought has 14 characters and 4 words!\n"
     ]
    }
   ],
   "source": [
    "words = input(\"What are you thinking about?\")\n",
    "print(\"Your thought has %s characters and %s words!\" % (len(words), len(words.split(\" \"))))"
   ]
  }
 ],
 "metadata": {
  "kernelspec": {
   "display_name": "Python 3",
   "language": "python",
   "name": "python3"
  },
  "language_info": {
   "codemirror_mode": {
    "name": "ipython",
    "version": 3
   },
   "file_extension": ".py",
   "mimetype": "text/x-python",
   "name": "python",
   "nbconvert_exporter": "python",
   "pygments_lexer": "ipython3",
   "version": "3.7.2"
  }
 },
 "nbformat": 4,
 "nbformat_minor": 2
}
