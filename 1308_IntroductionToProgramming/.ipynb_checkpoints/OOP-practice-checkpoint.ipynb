{
 "cells": [
  {
   "cell_type": "code",
   "execution_count": 1,
   "metadata": {},
   "outputs": [],
   "source": [
    "import pandas as pd\n",
    "import numpy as np\n",
    "import datetime"
   ]
  },
  {
   "cell_type": "markdown",
   "metadata": {},
   "source": [
    "## OOP\n",
    "\n",
    "Four pillars of OOP are:\n",
    "\n",
    "* Encapsulation\n",
    "* Abstraction\n",
    "* Inheritance\n",
    "* Polymorphism"
   ]
  },
  {
   "cell_type": "markdown",
   "metadata": {},
   "source": [
    "---\n",
    "\n",
    "From [this][1] youtube channel:\n",
    "\n",
    "### Python OOP Tutorial 1: Classes and Instances\n",
    "\n",
    "* Methods: a function associated to a class\n",
    "\n",
    "Creating a simple employee class:\n",
    "\n",
    "[1]:https://youtu.be/ZDa-Z5JzLYM?list=PL-osiE80TeTsqhIuOqKhwlXsIBIdSeYtc"
   ]
  },
  {
   "cell_type": "code",
   "execution_count": 2,
   "metadata": {},
   "outputs": [],
   "source": [
    "class Employee00:\n",
    "    pass # Will just accept for now!"
   ]
  },
  {
   "cell_type": "markdown",
   "metadata": {},
   "source": [
    "* Class: a blueprint for creating instances\n",
    "* Instance of a class: each unique employee will be an instance of the class\n",
    "\n",
    "For example:"
   ]
  },
  {
   "cell_type": "code",
   "execution_count": 3,
   "metadata": {},
   "outputs": [
    {
     "name": "stdout",
     "output_type": "stream",
     "text": [
      "<__main__.Employee00 object at 0x1192265f8>\n",
      "<__main__.Employee00 object at 0x1192265c0>\n"
     ]
    }
   ],
   "source": [
    "emp_1 = Employee00() # Instance 1\n",
    "emp_2 = Employee00() # Instance 2\n",
    "\n",
    "print(emp_1)\n",
    "print(emp_2)"
   ]
  },
  {
   "cell_type": "markdown",
   "metadata": {},
   "source": [
    "**Instance variables** contain data that is unique to each instance. Can do something like this:\n"
   ]
  },
  {
   "cell_type": "code",
   "execution_count": 4,
   "metadata": {},
   "outputs": [
    {
     "name": "stdout",
     "output_type": "stream",
     "text": [
      "Corey.Schafer@company.com\n",
      "Test.User@company.com\n"
     ]
    }
   ],
   "source": [
    "emp_1.first = 'Corey'\n",
    "emp_1.last = 'Schafer'\n",
    "emp_1.email = 'Corey.Schafer@company.com'\n",
    "emp_1.pay = 50000\n",
    "\n",
    "emp_2.first = 'Test'\n",
    "emp_2.last = 'User'\n",
    "emp_2.email = 'Test.User@company.com'\n",
    "emp_2.pay = 60000\n",
    "\n",
    "print(emp_1.email)\n",
    "print(emp_2.email)"
   ]
  },
  {
   "cell_type": "markdown",
   "metadata": {},
   "source": [
    "**Problem:** do not want to have to do this manually: no benefit here!\n",
    "\n",
    "Hence:"
   ]
  },
  {
   "cell_type": "code",
   "execution_count": 5,
   "metadata": {},
   "outputs": [],
   "source": [
    "class Employee01:\n",
    "\n",
    "    def __init__(self, first, last, pay):    # Initialize\n",
    "        self.first = first\n",
    "        self.last = last\n",
    "        self.pay = pay\n",
    "        self.email = f'{self.first}.{self.last}@company.com'\n",
    "    \n",
    "    def fullname(self):\n",
    "        return f'{self.first} {self.last}'\n"
   ]
  },
  {
   "cell_type": "markdown",
   "metadata": {},
   "source": [
    "Note that the below forms are equivalent:"
   ]
  },
  {
   "cell_type": "code",
   "execution_count": 6,
   "metadata": {},
   "outputs": [
    {
     "data": {
      "text/plain": [
       "True"
      ]
     },
     "execution_count": 6,
     "metadata": {},
     "output_type": "execute_result"
    }
   ],
   "source": [
    "emp_6 = Employee01('Carlos', 'Goncalves', 20000)\n",
    "\n",
    "Employee01.fullname(emp_6) == emp_6.fullname()"
   ]
  },
  {
   "cell_type": "markdown",
   "metadata": {},
   "source": [
    "<br>\n",
    "\n",
    "---\n",
    "\n",
    "From [this][1] youtube channel:\n",
    "\n",
    "### Python OOP Tutorial 2: Class Variables\n",
    "\n",
    "* We have learned about **instance variables**, the self.SOMETHING variables\n",
    "* But what are **class variables?** These are variables shared (should be the same) across all instances of a class! \n",
    "\n",
    "We might want a `raise_amount` variable that is shared between all instances. But we cannot just leave it at that: we must use either `EmployeeC.raise_amount` or `self.raise_amount` (i.e., through instantiation... does that make sense though, if this is supposed to be a class variable?)\n",
    "\n",
    "[1]:https://www.youtube.com/watch?v=BJ-VvGyQxho&list=PL-osiE80TeTsqhIuOqKhwlXsIBIdSeYtc&index=2"
   ]
  },
  {
   "cell_type": "code",
   "execution_count": 7,
   "metadata": {},
   "outputs": [],
   "source": [
    "class Employee02:\n",
    "    \"\"\" This is a class where information on employees is stored\n",
    "    \"\"\"\n",
    "\n",
    "    raise_amount = 1.04\n",
    "    \n",
    "    def __init__(self, first, last, pay):    # Initialize\n",
    "        self.first = first\n",
    "        self.last = last\n",
    "        self.pay = pay\n",
    "        self.email = f'{self.first}.{self.last}@company.com'\n",
    "    \n",
    "    def fullname(self):\n",
    "        return f'{self.first} {self.last}'\n",
    "    \n",
    "    def apply_raise(self):\n",
    "#        self.pay = int(self.pay * raise_amount)\n",
    "#        self.pay = int(self.pay * Employee02.raise_amount)\n",
    "        self.pay = int(self.pay * self.raise_amount)"
   ]
  },
  {
   "cell_type": "code",
   "execution_count": 8,
   "metadata": {},
   "outputs": [
    {
     "name": "stdout",
     "output_type": "stream",
     "text": [
      "1.04\n",
      "1.04\n",
      "1.04\n"
     ]
    }
   ],
   "source": [
    "emp_1 = Employee02('Corey', 'Schafer', 50000)\n",
    "emp_2 = Employee02('Test', 'User', 60000)\n",
    "\n",
    "print(Employee02.raise_amount)\n",
    "print(emp_1.raise_amount)\n",
    "print(emp_2.raise_amount)"
   ]
  },
  {
   "cell_type": "markdown",
   "metadata": {},
   "source": [
    "Accessing the employee's namespace, notice how there is no class variabe!"
   ]
  },
  {
   "cell_type": "code",
   "execution_count": 9,
   "metadata": {},
   "outputs": [
    {
     "name": "stdout",
     "output_type": "stream",
     "text": [
      "{'first': 'Corey', 'last': 'Schafer', 'pay': 50000, 'email': 'Corey.Schafer@company.com'}\n"
     ]
    }
   ],
   "source": [
    "print(emp_1.__dict__)"
   ]
  },
  {
   "cell_type": "code",
   "execution_count": 10,
   "metadata": {},
   "outputs": [
    {
     "name": "stdout",
     "output_type": "stream",
     "text": [
      "{'__module__': '__main__', '__doc__': ' This is a class where information on employees is stored\\n    ', 'raise_amount': 1.04, '__init__': <function Employee02.__init__ at 0x1192302f0>, 'fullname': <function Employee02.fullname at 0x119230510>, 'apply_raise': <function Employee02.apply_raise at 0x119230598>, '__dict__': <attribute '__dict__' of 'Employee02' objects>, '__weakref__': <attribute '__weakref__' of 'Employee02' objects>}\n"
     ]
    }
   ],
   "source": [
    "# Versus\n",
    "print(Employee02.__dict__)"
   ]
  },
  {
   "cell_type": "markdown",
   "metadata": {},
   "source": [
    "<br>\n",
    "\n",
    "Can we change class variables? How? Can it be done through instances?"
   ]
  },
  {
   "cell_type": "code",
   "execution_count": 11,
   "metadata": {},
   "outputs": [
    {
     "name": "stdout",
     "output_type": "stream",
     "text": [
      "1.05\n",
      "1.05\n",
      "1.05\n"
     ]
    }
   ],
   "source": [
    "Employee02.raise_amount = 1.05\n",
    "\n",
    "print(Employee02.raise_amount)\n",
    "print(emp_1.raise_amount)\n",
    "print(emp_2.raise_amount)"
   ]
  },
  {
   "cell_type": "code",
   "execution_count": 12,
   "metadata": {},
   "outputs": [
    {
     "name": "stdout",
     "output_type": "stream",
     "text": [
      "1.05\n",
      "1.1\n",
      "1.05\n"
     ]
    }
   ],
   "source": [
    "emp_1.raise_amount = 1.10\n",
    "\n",
    "print(Employee02.raise_amount)\n",
    "print(emp_1.raise_amount)\n",
    "print(emp_2.raise_amount)"
   ]
  },
  {
   "cell_type": "markdown",
   "metadata": {},
   "source": [
    "When we made this assignment, it actually created a new attribute in the instance of employee 1!"
   ]
  },
  {
   "cell_type": "code",
   "execution_count": 13,
   "metadata": {},
   "outputs": [
    {
     "name": "stdout",
     "output_type": "stream",
     "text": [
      "{'first': 'Corey', 'last': 'Schafer', 'pay': 50000, 'email': 'Corey.Schafer@company.com', 'raise_amount': 1.1} \n",
      "\n",
      "{'first': 'Test', 'last': 'User', 'pay': 60000, 'email': 'Test.User@company.com'}\n"
     ]
    }
   ],
   "source": [
    "print(emp_1.__dict__,'\\n')\n",
    "\n",
    "# Versus:\n",
    "print(emp_2.__dict__)"
   ]
  },
  {
   "cell_type": "markdown",
   "metadata": {},
   "source": [
    "<br>\n",
    "    \n",
    "Depending on whether we used `EmployeeC.raise_amount)` or `self.raise_amount`, we may have difference results from changes made to the instances which subsequently generate new instance attributes\n",
    "\n",
    "* Choose here to use `self.raise_amount`, since it allows to later change the pay_amount of an employee for an instance\n",
    "* Also, using `self` will allow any subclass to override that constant if we wish to do so\n",
    "\n",
    "What about a class variable where it may not make sense to use `self`?"
   ]
  },
  {
   "cell_type": "code",
   "execution_count": 14,
   "metadata": {},
   "outputs": [],
   "source": [
    "class Employee03:\n",
    "    \"\"\" This is a class where information on employees is stored\n",
    "    \"\"\"\n",
    "    num_of_emps = 0\n",
    "    raise_amount = 1.04\n",
    "    \n",
    "    def __init__(self, first, last, pay):    # Initialize\n",
    "        self.first = first\n",
    "        self.last = last\n",
    "        self.pay = pay\n",
    "        self.email = f'{self.first}.{self.last}@company.com'\n",
    "        \n",
    "        # __init__ methods is used to create instances, as such, this is the proper place:\n",
    "        Employee03.num_of_emps += 1\n",
    "    \n",
    "    def fullname(self):\n",
    "        return f'{self.first} {self.last}'\n",
    "    \n",
    "    def apply_raise(self):\n",
    "        self.pay = int(self.pay * self.raise_amount)"
   ]
  },
  {
   "cell_type": "code",
   "execution_count": 15,
   "metadata": {},
   "outputs": [],
   "source": [
    "emp_1 = Employee03('Corey', 'Schafer', 50000)\n",
    "emp_2 = Employee03('Test', 'User', 60000)"
   ]
  },
  {
   "cell_type": "code",
   "execution_count": 16,
   "metadata": {},
   "outputs": [
    {
     "name": "stdout",
     "output_type": "stream",
     "text": [
      "2\n"
     ]
    }
   ],
   "source": [
    "print(Employee03.num_of_emps)"
   ]
  },
  {
   "cell_type": "markdown",
   "metadata": {},
   "source": [
    "<br>\n",
    "\n",
    "---\n",
    "\n",
    "From [this][1] youtube channel:\n",
    "\n",
    "### Python OOP Tutorial 3: classmethods and staticmethods\n",
    "\n",
    "* **Class Methods:**\n",
    "  - Regular methods in a class automatically take the instance as the first argument\n",
    "  - By convention, we call this `self`; it is taking the instance as the first argument!\n",
    "  \n",
    "Can we change this so that it automatically takes in the class as the first argument? This is where **class methods** are taken into account.\n",
    "\n",
    "Just add a `decorator` to the top! Alters the functionality of the method, essentially."
   ]
  },
  {
   "cell_type": "code",
   "execution_count": 17,
   "metadata": {},
   "outputs": [],
   "source": [
    "class Employee04:\n",
    "    \"\"\" This is a class where information on employees is stored\n",
    "    \"\"\"\n",
    "    num_of_emps = 0\n",
    "    raise_amt = 1.04\n",
    "    \n",
    "    def __init__(self, first, last, pay):    # Initialize\n",
    "        self.first = first\n",
    "        self.last = last\n",
    "        self.pay = pay\n",
    "        self.email = f'{self.first}.{self.last}@company.com'\n",
    "        \n",
    "        # __init__ methods is used to create instances, as such, this is the proper place:\n",
    "        Employee04.num_of_emps += 1\n",
    "    \n",
    "    def fullname(self):\n",
    "        return f'{self.first} {self.last}'\n",
    "    \n",
    "    def apply_raise(self):\n",
    "        self.pay = int(self.pay * self.raise_amt)\n",
    "    \n",
    "    @classmethod\n",
    "    def set_raise_amt(cls, amount):    # Common convention just like `self`, is now `cls`\n",
    "        cls.raise_amt = amount"
   ]
  },
  {
   "cell_type": "code",
   "execution_count": 18,
   "metadata": {},
   "outputs": [],
   "source": [
    "emp_1 = Employee04('Corey', 'Schafer', 50000)\n",
    "emp_2 = Employee04('Test', 'User', 60000)"
   ]
  },
  {
   "cell_type": "code",
   "execution_count": 19,
   "metadata": {},
   "outputs": [
    {
     "name": "stdout",
     "output_type": "stream",
     "text": [
      "1.04\n",
      "1.04\n",
      "1.04\n"
     ]
    }
   ],
   "source": [
    "print(Employee04.raise_amt)\n",
    "print(emp_1.raise_amt)\n",
    "print(emp_2.raise_amt)"
   ]
  },
  {
   "cell_type": "markdown",
   "metadata": {},
   "source": [
    "Change the amount to 5%:"
   ]
  },
  {
   "cell_type": "code",
   "execution_count": 20,
   "metadata": {},
   "outputs": [
    {
     "name": "stdout",
     "output_type": "stream",
     "text": [
      "1.05\n",
      "1.05\n",
      "1.05\n"
     ]
    }
   ],
   "source": [
    "Employee04.set_raise_amt(1.05)\n",
    "\n",
    "print(Employee04.raise_amt)\n",
    "print(emp_1.raise_amt)\n",
    "print(emp_2.raise_amt)"
   ]
  },
  {
   "cell_type": "markdown",
   "metadata": {},
   "source": [
    "Could also use class methods from instances, but that does not make sense (e.g., `emp_1.set_raise_amt(1.05)`).\n",
    "\n",
    "**Using class methods as alternative constructors:**\n",
    "\n",
    "* Someone could use the Employee class, and may have some speficic use cases: have to parse string for names using hyphens, e.g.\n",
    "\n",
    "See below:"
   ]
  },
  {
   "cell_type": "code",
   "execution_count": 21,
   "metadata": {},
   "outputs": [
    {
     "name": "stdout",
     "output_type": "stream",
     "text": [
      "Kid.Cudi@company.com\n",
      "900000000\n"
     ]
    }
   ],
   "source": [
    "emp_str_1 = 'John-Doe-70000'\n",
    "emp_str_1 = 'Steve-Smith-70000'\n",
    "emp_str_1 = 'Kid-Cudi-900000000'\n",
    "\n",
    "# Usually:\n",
    "\n",
    "first, last, pay = emp_str_1.split('-')\n",
    "new_emp_1 = Employee04(first, last, pay)\n",
    "print(new_emp_1.email)\n",
    "print(new_emp_1.pay)"
   ]
  },
  {
   "cell_type": "markdown",
   "metadata": {},
   "source": [
    "Building an alternative constructor:"
   ]
  },
  {
   "cell_type": "code",
   "execution_count": 22,
   "metadata": {},
   "outputs": [],
   "source": [
    "class Employee05:\n",
    "    \"\"\" This is a class where information on employees is stored\n",
    "    \"\"\"\n",
    "    num_of_emps = 0\n",
    "    raise_amt = 1.04\n",
    "    \n",
    "    def __init__(self, first, last, pay):    # Initialize\n",
    "        self.first = first\n",
    "        self.last = last\n",
    "        self.pay = pay\n",
    "        self.email = f'{self.first}.{self.last}@company.com'\n",
    "        \n",
    "        # __init__ methods is used to create instances, as such, this is the proper place:\n",
    "        Employee05.num_of_emps += 1\n",
    "    \n",
    "    def fullname(self):\n",
    "        return f'{self.first} {self.last}'\n",
    "    \n",
    "    def apply_raise(self):\n",
    "        self.pay = int(self.pay * self.raise_amt)\n",
    "    \n",
    "    @classmethod\n",
    "    def set_raise_amt(cls, amount):    # Common convention just like `self`, is now `cls`\n",
    "        cls.raise_amt = amount\n",
    "    \n",
    "    @classmethod\n",
    "    def from_string(cls, emp_str):\n",
    "        first, last, pay = emp_str.split('-')\n",
    "        return cls(first, last, pay)\n"
   ]
  },
  {
   "cell_type": "code",
   "execution_count": 23,
   "metadata": {},
   "outputs": [
    {
     "name": "stdout",
     "output_type": "stream",
     "text": [
      "Everyone, please welcome John Doe.\n",
      "He/she will be paid 0.07 million EUR on an annual gross basis.\n",
      "You can email them at John.Doe@company.com.\n",
      "\n",
      "Everyone, please welcome Steve Smith.\n",
      "He/she will be paid 0.07 million EUR on an annual gross basis.\n",
      "You can email them at Steve.Smith@company.com.\n",
      "\n",
      "Everyone, please welcome Kid Cudi.\n",
      "He/she will be paid 900.0 million EUR on an annual gross basis.\n",
      "You can email them at Kid.Cudi@company.com.\n",
      "\n"
     ]
    }
   ],
   "source": [
    "emp_str_1 = 'John-Doe-70000'\n",
    "emp_str_2 = 'Steve-Smith-70000'\n",
    "emp_str_3 = 'Kid-Cudi-900000000'\n",
    "\n",
    "# Now:\n",
    "\n",
    "new_emp_1 = Employee05.from_string(emp_str_1)\n",
    "new_emp_2 = Employee05.from_string(emp_str_2)\n",
    "new_emp_3 = Employee05.from_string(emp_str_3)\n",
    "\n",
    "# Hence:\n",
    "\n",
    "print(f\"\"\"Everyone, please welcome {new_emp_1.fullname()}.\n",
    "He/she will be paid {int(new_emp_1.pay) / 1000000} million EUR on an annual gross basis.\n",
    "You can email them at {new_emp_1.email}.\\n\"\"\")\n",
    "\n",
    "print(f\"\"\"Everyone, please welcome {new_emp_2.fullname()}.\n",
    "He/she will be paid {int(new_emp_2.pay) / 1000000} million EUR on an annual gross basis.\n",
    "You can email them at {new_emp_2.email}.\\n\"\"\")\n",
    "\n",
    "print(f\"\"\"Everyone, please welcome {new_emp_3.fullname()}.\n",
    "He/she will be paid {int(new_emp_3.pay) / 1000000} million EUR on an annual gross basis.\n",
    "You can email them at {new_emp_3.email}.\\n\"\"\")"
   ]
  },
  {
   "cell_type": "markdown",
   "metadata": {},
   "source": [
    "<br>\n",
    "\n",
    "What about **static methods?**\n",
    "\n",
    "* Static methods do not pass anything (e.g., `self` or `cls`) automatically: we include them in our classes because they are how somehow logically connected to the work!\n",
    "* If the `self` or `cls` are not accessed anywhere in the function, then it should be a static method!\n",
    "\n",
    "\n",
    "Suppose we want a simple function that takes in a data and returns whether is it is a work date or not..."
   ]
  },
  {
   "cell_type": "code",
   "execution_count": 24,
   "metadata": {},
   "outputs": [],
   "source": [
    "class Employee06:\n",
    "    \"\"\" This is a class where information on employees is stored\n",
    "    \"\"\"\n",
    "    num_of_emps = 0\n",
    "    raise_amt = 1.04\n",
    "    \n",
    "    def __init__(self, first, last, pay):    # Initialize\n",
    "        self.first = first\n",
    "        self.last = last\n",
    "        self.pay = pay\n",
    "        self.email = f'{self.first}.{self.last}@company.com'\n",
    "        \n",
    "        # __init__ methods is used to create instances, as such, this is the proper place:\n",
    "        Employee06.num_of_emps += 1\n",
    "    \n",
    "    def fullname(self):\n",
    "        return f'{self.first} {self.last}'\n",
    "    \n",
    "    def apply_raise(self):\n",
    "        self.pay = int(self.pay * self.raise_amt)\n",
    "    \n",
    "    @classmethod\n",
    "    def set_raise_amt(cls, amount):    # Common convention just like `self`, is now `cls`\n",
    "        cls.raise_amt = amount\n",
    "    \n",
    "    @classmethod\n",
    "    def from_string(cls, emp_str):\n",
    "        first, last, pay = emp_str.split('-')\n",
    "        return cls(first, last, pay)\n",
    "    \n",
    "    @staticmethod\n",
    "    def is_workday(day):\n",
    "        #Monday is 0, Sunday is 6, and so forth\n",
    "        if day.weekday() ==5 or day.weekday() == 6:\n",
    "            return False\n",
    "        return True\n"
   ]
  },
  {
   "cell_type": "code",
   "execution_count": 25,
   "metadata": {},
   "outputs": [
    {
     "name": "stdout",
     "output_type": "stream",
     "text": [
      "True\n",
      "False\n",
      "False\n"
     ]
    }
   ],
   "source": [
    "print(Employee06.is_workday(datetime.date(2019,3,8)))\n",
    "print(Employee06.is_workday(datetime.date(2019,3,9)))\n",
    "print(Employee06.is_workday(datetime.date(2019,3,10)))"
   ]
  },
  {
   "cell_type": "markdown",
   "metadata": {},
   "source": [
    "<br>\n",
    "\n",
    "---\n",
    "\n",
    "From [this][1] youtube channel:\n",
    "\n",
    "### Python OOP Tutorial 4: Inheritance - Creating Subclasses\n",
    "\n",
    "We can get all the functionality of the parent class and even override some of it without altering it!\n",
    "\n",
    "Let's say we want to create different types of employees: developers and managers!\n",
    "\n",
    "* They will have names, emails, and a salary, just like other employees!\n",
    "\n",
    "Let's go ahead:\n",
    "\n",
    "\n",
    "[1]:https://www.youtube.com/watch?v=RSl87lqOXDE&list=PL-osiE80TeTsqhIuOqKhwlXsIBIdSeYtc&index=4"
   ]
  },
  {
   "cell_type": "code",
   "execution_count": 26,
   "metadata": {},
   "outputs": [],
   "source": [
    "class Developer00(Employee06):\n",
    "    pass"
   ]
  },
  {
   "cell_type": "code",
   "execution_count": 27,
   "metadata": {},
   "outputs": [
    {
     "name": "stdout",
     "output_type": "stream",
     "text": [
      "Nerdy.McFace@company.com\n",
      "Pimple.McFace@company.com\n"
     ]
    }
   ],
   "source": [
    "# Enough to show functionality!\n",
    "\n",
    "dev_1 = Developer00('Nerdy', 'McFace', 10000)\n",
    "dev_2 = Developer00('Pimple', 'McFace', 10000)\n",
    "\n",
    "print(dev_1.email)\n",
    "print(dev_2.email)"
   ]
  },
  {
   "cell_type": "markdown",
   "metadata": {},
   "source": [
    "<br>\n",
    "\n",
    "When Python looks up the chain of inheritance until it gets the methods it is looking for, it is doing something called **Method Resolution Order (MRO).** We can visualize this using the `help()` function."
   ]
  },
  {
   "cell_type": "code",
   "execution_count": 28,
   "metadata": {},
   "outputs": [
    {
     "name": "stdout",
     "output_type": "stream",
     "text": [
      "Help on class Developer00 in module __main__:\n",
      "\n",
      "class Developer00(Employee06)\n",
      " |  This is a class where information on employees is stored\n",
      " |  \n",
      " |  Method resolution order:\n",
      " |      Developer00\n",
      " |      Employee06\n",
      " |      builtins.object\n",
      " |  \n",
      " |  Methods inherited from Employee06:\n",
      " |  \n",
      " |  __init__(self, first, last, pay)\n",
      " |      Initialize self.  See help(type(self)) for accurate signature.\n",
      " |  \n",
      " |  apply_raise(self)\n",
      " |  \n",
      " |  fullname(self)\n",
      " |  \n",
      " |  ----------------------------------------------------------------------\n",
      " |  Class methods inherited from Employee06:\n",
      " |  \n",
      " |  from_string(emp_str) from builtins.type\n",
      " |  \n",
      " |  set_raise_amt(amount) from builtins.type\n",
      " |  \n",
      " |  ----------------------------------------------------------------------\n",
      " |  Static methods inherited from Employee06:\n",
      " |  \n",
      " |  is_workday(day)\n",
      " |  \n",
      " |  ----------------------------------------------------------------------\n",
      " |  Data descriptors inherited from Employee06:\n",
      " |  \n",
      " |  __dict__\n",
      " |      dictionary for instance variables (if defined)\n",
      " |  \n",
      " |  __weakref__\n",
      " |      list of weak references to the object (if defined)\n",
      " |  \n",
      " |  ----------------------------------------------------------------------\n",
      " |  Data and other attributes inherited from Employee06:\n",
      " |  \n",
      " |  num_of_emps = 2\n",
      " |  \n",
      " |  raise_amt = 1.04\n",
      "\n",
      "None\n"
     ]
    }
   ],
   "source": [
    "print(help(Developer00))"
   ]
  },
  {
   "cell_type": "markdown",
   "metadata": {},
   "source": [
    "<br>\n",
    "\n",
    "Customizing the subclass to change the raise amount."
   ]
  },
  {
   "cell_type": "code",
   "execution_count": 29,
   "metadata": {},
   "outputs": [
    {
     "name": "stdout",
     "output_type": "stream",
     "text": [
      "Current pay for Developer Nerdy McFace is 10000 EUR.\n",
      "After a pay increase of 4.0%, Developers will now be earning 10400 EUR.\n"
     ]
    }
   ],
   "source": [
    "print(f'Current pay for Developer {Developer00.fullname(dev_1)} is {dev_1.pay} EUR.')\n",
    "dev_1.apply_raise()\n",
    "print(f'After a pay increase of {round(Developer00.raise_amt-1,4)*100}%, Developers will now be earning {dev_1.pay} EUR.')"
   ]
  },
  {
   "cell_type": "markdown",
   "metadata": {},
   "source": [
    "<br>\n",
    "\n",
    "Changing the Developer class:"
   ]
  },
  {
   "cell_type": "code",
   "execution_count": 30,
   "metadata": {},
   "outputs": [],
   "source": [
    "class Developer01(Employee06):\n",
    "    raise_amt = 1.10"
   ]
  },
  {
   "cell_type": "code",
   "execution_count": 31,
   "metadata": {},
   "outputs": [
    {
     "name": "stdout",
     "output_type": "stream",
     "text": [
      "Current pay for Developer Nerdy McFace is 10000 EUR.\n",
      "After a pay increase of 10.0%, Developers will now be earning 11000 EUR.\n",
      "\n",
      "Current pay for Normie Corey Schafer is 10000 EUR.\n",
      "After a pay increase of 4.0%, Normies will now be earning 10400 EUR.\n"
     ]
    }
   ],
   "source": [
    "dev_1 = Developer01('Nerdy', 'McFace', 10000)\n",
    "emp_1 = Employee06('Corey', 'Schafer', 10000)\n",
    "\n",
    "\n",
    "print(f'Current pay for Developer {Developer00.fullname(dev_1)} is {dev_1.pay} EUR.')\n",
    "dev_1.apply_raise()\n",
    "print(f'After a pay increase of {round(Developer01.raise_amt-1,4)*100}%, Developers will now be earning {dev_1.pay} EUR.\\n')\n",
    "\n",
    "print(f'Current pay for Normie {Employee06.fullname(emp_1)} is {emp_1.pay} EUR.')\n",
    "emp_1.apply_raise()\n",
    "print(f'After a pay increase of {round(Employee06.raise_amt-1,4)*100}%, Normies will now be earning {emp_1.pay} EUR.')"
   ]
  },
  {
   "cell_type": "markdown",
   "metadata": {},
   "source": [
    "<br>\n",
    "\n",
    "Sometimes we want the subclass to initialize with more info than the parent class:"
   ]
  },
  {
   "cell_type": "code",
   "execution_count": 32,
   "metadata": {},
   "outputs": [],
   "source": [
    "class Developer02(Employee06):\n",
    "\n",
    "    def __init__(self, first, last, pay, prog_lang):\n",
    "        # Keep code dry: do not copy paste. Let Employee __init__ method handle first, last, and pay. Developer will take care of anything new!\n",
    "        super().__init__(first, last, pay)\n",
    "#        Employee.__init__(self, first, last, pay)    # Also works! To keep things simple, just use super\n",
    "        self.prog_lang = prog_lang\n",
    "    \n",
    "    raise_amt = 1.10"
   ]
  },
  {
   "cell_type": "code",
   "execution_count": 33,
   "metadata": {},
   "outputs": [
    {
     "name": "stdout",
     "output_type": "stream",
     "text": [
      "Nerdy.McFace@company.com\n",
      "Python\n"
     ]
    }
   ],
   "source": [
    "# Here goes:\n",
    "dev_1 = Developer02('Nerdy', 'McFace', 15000, 'Python')\n",
    "dev_2 = Developer02('Pimple', 'McFace', 20000, 'Java')\n",
    "\n",
    "print(dev_1.email)\n",
    "print(dev_1.prog_lang)"
   ]
  },
  {
   "cell_type": "markdown",
   "metadata": {},
   "source": [
    "<br>\n",
    "\n",
    "Creating a manager class:"
   ]
  },
  {
   "cell_type": "code",
   "execution_count": 34,
   "metadata": {},
   "outputs": [],
   "source": [
    "class Manager00(Employee06):\n",
    "    \n",
    "    # You NEVER want to pass mutable data types, which is why we used employees=None instead!\n",
    "    def __init__(self, first, last, pay, employees=None):\n",
    "        super().__init__(first, last, pay)\n",
    "        if employees is None:\n",
    "            self.employees = []\n",
    "        else:\n",
    "            self.employees = employees\n",
    "    \n",
    "    def add_emp(self, emp):\n",
    "        if emp not in self.employees:\n",
    "            self.employees.append(emp)\n",
    "            \n",
    "    def remove_emp(self, emp):\n",
    "        if emp in self.employees:\n",
    "            self.employees.remove(emp)\n",
    "            \n",
    "    def print_emps(self):\n",
    "        for emp in self.employees:\n",
    "            print('-->', emp.fullname())"
   ]
  },
  {
   "cell_type": "code",
   "execution_count": 35,
   "metadata": {},
   "outputs": [
    {
     "name": "stdout",
     "output_type": "stream",
     "text": [
      "Sue.Smith@company.com\n",
      "--> Nerdy McFace\n",
      "\n",
      "\n",
      "--> Nerdy McFace\n",
      "--> Pimple McFace\n",
      "\n",
      "\n",
      "--> Nerdy McFace\n",
      "\n",
      "\n"
     ]
    }
   ],
   "source": [
    "mgr_1 = Manager00('Sue', 'Smith', 90000, [dev_1])\n",
    "print(mgr_1.email)\n",
    "mgr_1.print_emps()\n",
    "print('\\n')\n",
    "\n",
    "# Adding an employee\n",
    "mgr_1.add_emp(dev_2)\n",
    "mgr_1.print_emps()\n",
    "print('\\n')\n",
    "\n",
    "# Removing an employee\n",
    "mgr_1.remove_emp(dev_2)\n",
    "mgr_1.print_emps()\n",
    "print('\\n')"
   ]
  },
  {
   "cell_type": "markdown",
   "metadata": {},
   "source": [
    "A couple of more things:\n",
    "\n",
    "* Python has two useful built-in functions called:\n",
    "  1. `isintance()`: tell us if object is instance of a class\n",
    "  2. `issubclass()`: not hard to guess..."
   ]
  },
  {
   "cell_type": "code",
   "execution_count": 36,
   "metadata": {},
   "outputs": [],
   "source": [
    "def check_instance(types, instance):\n",
    "    \"\"\"Checks whether an instance belongs to a specified class.\n",
    "    The dictionary of classes as keys and description as values, and the instance, are taken as arguments.\"\"\"\n",
    "    \n",
    "    for i in range(0,len(types)):\n",
    "        print(f'\\tIt is {str(isinstance(instance, list(types.items())[i][0])).lower()} that{instance.fullname()} is an instance of the {list(types.items())[i][1]} class.')\n",
    "        "
   ]
  },
  {
   "cell_type": "code",
   "execution_count": 37,
   "metadata": {},
   "outputs": [
    {
     "name": "stdout",
     "output_type": "stream",
     "text": [
      "\tIt is true thatSue Smith is an instance of the Manager class.\n",
      "\tIt is false thatSue Smith is an instance of the Developer class.\n",
      "\tIt is true thatSue Smith is an instance of the Employee class.\n"
     ]
    }
   ],
   "source": [
    "# For example:\n",
    "\n",
    "cls_example = {Manager00: 'Manager', Developer02: 'Developer', Employee06: 'Employee'}\n",
    "check_instance(cls_example, mgr_1)"
   ]
  },
  {
   "cell_type": "code",
   "execution_count": 38,
   "metadata": {},
   "outputs": [
    {
     "name": "stdout",
     "output_type": "stream",
     "text": [
      "The employee in question is Corey Schafer. You can reach him\\her at Corey.Schafer@company.com\n",
      "He\\she earns (gross) around 10400 EUR per annum. Moreover:\n",
      "\n",
      "\tIt is false thatCorey Schafer is an instance of the Manager class.\n",
      "\tIt is false thatCorey Schafer is an instance of the Developer class.\n",
      "\tIt is true thatCorey Schafer is an instance of the Employee class.\n"
     ]
    }
   ],
   "source": [
    "test=emp_1\n",
    "\n",
    "print(f\"\"\"The employee in question is {test.fullname()}. You can reach him\\her at {test.email}\n",
    "He\\she earns (gross) around {test.pay} EUR per annum. Moreover:\\n\"\"\")\n",
    "check_instance(cls_example, test)"
   ]
  },
  {
   "cell_type": "code",
   "execution_count": 39,
   "metadata": {},
   "outputs": [
    {
     "name": "stdout",
     "output_type": "stream",
     "text": [
      "The employee in question is Nerdy McFace. You can reach him\\her at Nerdy.McFace@company.com\n",
      "He\\she earns (gross) around 15000 EUR per annum. Moreover:\n",
      "\n",
      "\tIt is false thatNerdy McFace is an instance of the Manager class.\n",
      "\tIt is true thatNerdy McFace is an instance of the Developer class.\n",
      "\tIt is true thatNerdy McFace is an instance of the Employee class.\n"
     ]
    }
   ],
   "source": [
    "test=dev_1\n",
    "\n",
    "print(f\"\"\"The employee in question is {test.fullname()}. You can reach him\\her at {test.email}\n",
    "He\\she earns (gross) around {test.pay} EUR per annum. Moreover:\\n\"\"\")\n",
    "check_instance(cls_example, test)"
   ]
  },
  {
   "cell_type": "code",
   "execution_count": 40,
   "metadata": {},
   "outputs": [
    {
     "name": "stdout",
     "output_type": "stream",
     "text": [
      "The employee in question is Sue Smith. You can reach him\\her at Sue.Smith@company.com\n",
      "He\\she earns (gross) around 90000 EUR per annum. Moreover:\n",
      "\n",
      "\tIt is true thatSue Smith is an instance of the Manager class.\n",
      "\tIt is false thatSue Smith is an instance of the Developer class.\n",
      "\tIt is true thatSue Smith is an instance of the Employee class.\n"
     ]
    }
   ],
   "source": [
    "test=mgr_1\n",
    "\n",
    "print(f\"\"\"The employee in question is {test.fullname()}. You can reach him\\her at {test.email}\n",
    "He\\she earns (gross) around {test.pay} EUR per annum. Moreover:\\n\"\"\")\n",
    "check_instance(cls_example, test)"
   ]
  },
  {
   "cell_type": "markdown",
   "metadata": {},
   "source": [
    "For subclasses:"
   ]
  },
  {
   "cell_type": "code",
   "execution_count": 41,
   "metadata": {},
   "outputs": [
    {
     "name": "stdout",
     "output_type": "stream",
     "text": [
      "True \n",
      "\n",
      "True \n",
      "\n",
      "True \n",
      "\n",
      "False\n"
     ]
    }
   ],
   "source": [
    "print(issubclass(Developer02, Employee06),'\\n')\n",
    "print(issubclass(Manager00, Employee06),'\\n')\n",
    "print(issubclass(Employee06, Employee06),'\\n')\n",
    "print(issubclass(Manager00, Developer02))"
   ]
  },
  {
   "cell_type": "markdown",
   "metadata": {},
   "source": [
    "<br>\n",
    "\n",
    "---\n",
    "\n",
    "From [this][1] youtube channel:\n",
    "\n",
    "### Python OOP Tutorial 5: Special (Magic/Dunder) Methods\n",
    "\n",
    "\n",
    "[1]:https://www.youtube.com/watch?v=3ohzBxoFHAY&index=5&list=PL-osiE80TeTsqhIuOqKhwlXsIBIdSeYtc"
   ]
  },
  {
   "cell_type": "code",
   "execution_count": 42,
   "metadata": {},
   "outputs": [
    {
     "name": "stdout",
     "output_type": "stream",
     "text": [
      "4\n",
      "ab\n",
      "<__main__.Employee06 object at 0x11925aac8>\n"
     ]
    }
   ],
   "source": [
    "# Functions, like print, can work differently depending on the objects. We would like to do this for print() the employee instances!\n",
    "# E.g.\n",
    "\n",
    "print(1+3)\n",
    "print('a'+'b')\n",
    "print(emp_1)"
   ]
  },
  {
   "cell_type": "markdown",
   "metadata": {},
   "source": [
    "These methods are surrounded by double underscores, which is why you may hear them being called **'Dunder'** methods. For example **Dunder Init** refers to `__init__`! We should also always implement two other methods:\n",
    "\n",
    "```python\n",
    "def __repr__(self):\n",
    "    pass\n",
    "\n",
    "def __str__(self):\n",
    "    pass\n",
    "```\n",
    "\n",
    "What are these?\n",
    "\n",
    "* `repr()` is an unambiguous representation of an object, and should be used for debugging, logging, etc. Mean to be seen by developers.\n",
    "* `str()` is meant to be more readable: meant to be seen by the end-user.\n",
    "\n",
    "We will see more below!"
   ]
  },
  {
   "cell_type": "code",
   "execution_count": 43,
   "metadata": {},
   "outputs": [],
   "source": [
    "class Employee07:\n",
    "    \"\"\" This is a class where information on employees is stored\n",
    "    \"\"\"\n",
    "    num_of_emps = 0\n",
    "    raise_amt = 1.04\n",
    "    \n",
    "    def __init__(self, first, last, pay):    # Initialize\n",
    "        self.first = first\n",
    "        self.last = last\n",
    "        self.pay = pay\n",
    "        self.email = f'{self.first}.{self.last}@company.com'\n",
    "        \n",
    "        # __init__ methods is used to create instances, as such, this is the proper place:\n",
    "        Employee07.num_of_emps += 1\n",
    "    \n",
    "    def fullname(self):\n",
    "        return f'{self.first} {self.last}'\n",
    "    \n",
    "    def apply_raise(self):\n",
    "        self.pay = int(self.pay * self.raise_amt)\n",
    "    \n",
    "    @classmethod\n",
    "    def set_raise_amt(cls, amount):    # Common convention just like `self`, is now `cls`\n",
    "        cls.raise_amt = amount\n",
    "    \n",
    "    @classmethod\n",
    "    def from_string(cls, emp_str):\n",
    "        first, last, pay = emp_str.split('-')\n",
    "        return cls(first, last, pay)\n",
    "    \n",
    "    @staticmethod\n",
    "    def is_workday(day):\n",
    "        #Monday is 0, Sunday is 6, and so forth\n",
    "        if day.weekday() ==5 or day.weekday() == 6:\n",
    "            return False\n",
    "        return True\n",
    "    \n",
    "    def __repr__(self):\n",
    "#        return \"Employee('{}', '{}', {})\".format(self.first, self.last, self.pay)\n",
    "        return f\"Employee('{self.first}', '{self.last}', {self.pay})\""
   ]
  },
  {
   "cell_type": "code",
   "execution_count": 44,
   "metadata": {},
   "outputs": [
    {
     "name": "stdout",
     "output_type": "stream",
     "text": [
      "Employee('Corey', 'Schafer', 25200)\n"
     ]
    }
   ],
   "source": [
    "emp_1 = Employee07('Corey', 'Schafer', 25200)\n",
    "print(emp_1)\n",
    "# Note that I could use the output to represent and build the emp_1 instance!"
   ]
  },
  {
   "cell_type": "markdown",
   "metadata": {},
   "source": [
    "Using `str(emp_1)` will just use print(emp_1) as a fall back, so it's usually a good idea to at least have the dunder repr method"
   ]
  },
  {
   "cell_type": "code",
   "execution_count": 45,
   "metadata": {},
   "outputs": [
    {
     "data": {
      "text/plain": [
       "\"Employee('Corey', 'Schafer', 25200)\""
      ]
     },
     "execution_count": 45,
     "metadata": {},
     "output_type": "execute_result"
    }
   ],
   "source": [
    "str(emp_1)"
   ]
  },
  {
   "cell_type": "markdown",
   "metadata": {},
   "source": [
    "<br>\n",
    "\n",
    "Taking care of `__str__`:"
   ]
  },
  {
   "cell_type": "code",
   "execution_count": 46,
   "metadata": {},
   "outputs": [],
   "source": [
    "class Employee08:\n",
    "    \"\"\" This is a class where information on employees is stored\n",
    "    \"\"\"\n",
    "    num_of_emps = 0\n",
    "    raise_amt = 1.04\n",
    "    \n",
    "    def __init__(self, first, last, pay):    # Initialize\n",
    "        self.first = first\n",
    "        self.last = last\n",
    "        self.pay = pay\n",
    "        self.email = f'{self.first}.{self.last}@company.com'\n",
    "        \n",
    "        # __init__ methods is used to create instances, as such, this is the proper place:\n",
    "        Employee08.num_of_emps += 1\n",
    "    \n",
    "    def fullname(self):\n",
    "        return f'{self.first} {self.last}'\n",
    "    \n",
    "    def apply_raise(self):\n",
    "        self.pay = int(self.pay * self.raise_amt)\n",
    "    \n",
    "    @classmethod\n",
    "    def set_raise_amt(cls, amount):    # Common convention just like `self`, is now `cls`\n",
    "        cls.raise_amt = amount\n",
    "    \n",
    "    @classmethod\n",
    "    def from_string(cls, emp_str):\n",
    "        first, last, pay = emp_str.split('-')\n",
    "        return cls(first, last, pay)\n",
    "    \n",
    "    @staticmethod\n",
    "    def is_workday(day):\n",
    "        #Monday is 0, Sunday is 6, and so forth\n",
    "        if day.weekday() ==5 or day.weekday() == 6:\n",
    "            return False\n",
    "        return True\n",
    "    \n",
    "    def __repr__(self):\n",
    "#        return \"Employee('{}', '{}', {})\".format(self.first, self.last, self.pay)\n",
    "        return f\"Employee('{self.first}', '{self.last}', {self.pay})\"\n",
    "\n",
    "    def __str__(self):\n",
    "        return f\"{self.fullname()} ; {self.email}\"\n"
   ]
  },
  {
   "cell_type": "code",
   "execution_count": 47,
   "metadata": {},
   "outputs": [
    {
     "name": "stdout",
     "output_type": "stream",
     "text": [
      "Employee('Corey', 'Schafer', 25200)\n",
      "Corey Schafer ; Corey.Schafer@company.com\n",
      "Corey Schafer ; Corey.Schafer@company.com\n"
     ]
    }
   ],
   "source": [
    "emp_1 = Employee08('Corey', 'Schafer', 25200)\n",
    "\n",
    "# At this point:\n",
    "print(repr(emp_1))\n",
    "print(str(emp_1))\n",
    "print(emp_1)"
   ]
  },
  {
   "cell_type": "code",
   "execution_count": 48,
   "metadata": {},
   "outputs": [
    {
     "name": "stdout",
     "output_type": "stream",
     "text": [
      "True\n",
      "True\n"
     ]
    }
   ],
   "source": [
    "# Note what is happening in the background!\\\n",
    "print(emp_1.__repr__() == repr(emp_1))\n",
    "print(emp_1.__str__() == str(emp_1))"
   ]
  },
  {
   "cell_type": "markdown",
   "metadata": {},
   "source": [
    "<br>\n",
    "\n",
    "Those are the most common methods. Let's look at a few more:"
   ]
  },
  {
   "cell_type": "code",
   "execution_count": 49,
   "metadata": {},
   "outputs": [
    {
     "name": "stdout",
     "output_type": "stream",
     "text": [
      "3\n",
      "3\n"
     ]
    }
   ],
   "source": [
    "print(1+2)\n",
    "print(int.__add__(1,2))"
   ]
  },
  {
   "cell_type": "code",
   "execution_count": 50,
   "metadata": {},
   "outputs": [
    {
     "name": "stdout",
     "output_type": "stream",
     "text": [
      "ab\n",
      "ab\n"
     ]
    }
   ],
   "source": [
    "print('a'+'b')\n",
    "print(str.__add__('a','b'))"
   ]
  },
  {
   "cell_type": "markdown",
   "metadata": {},
   "source": [
    "<br>\n",
    "\n",
    "Adding two employees together and have resulting salary:"
   ]
  },
  {
   "cell_type": "code",
   "execution_count": 51,
   "metadata": {},
   "outputs": [],
   "source": [
    "class Employee09:\n",
    "    \"\"\" This is a class where information on employees is stored\n",
    "    \"\"\"\n",
    "    num_of_emps = 0\n",
    "    raise_amt = 1.04\n",
    "    \n",
    "    def __init__(self, first, last, pay):    # Initialize\n",
    "        self.first = first\n",
    "        self.last = last\n",
    "        self.pay = pay\n",
    "        self.email = f'{self.first}.{self.last}@company.com'\n",
    "        \n",
    "        # __init__ methods is used to create instances, as such, this is the proper place:\n",
    "        Employee08.num_of_emps += 1\n",
    "    \n",
    "    def fullname(self):\n",
    "        return f'{self.first} {self.last}'\n",
    "    \n",
    "    def apply_raise(self):\n",
    "        self.pay = int(self.pay * self.raise_amt)\n",
    "    \n",
    "    @classmethod\n",
    "    def set_raise_amt(cls, amount):    # Common convention just like `self`, is now `cls`\n",
    "        cls.raise_amt = amount\n",
    "    \n",
    "    @classmethod\n",
    "    def from_string(cls, emp_str):\n",
    "        first, last, pay = emp_str.split('-')\n",
    "        return cls(first, last, pay)\n",
    "    \n",
    "    @staticmethod\n",
    "    def is_workday(day):\n",
    "        #Monday is 0, Sunday is 6, and so forth\n",
    "        if day.weekday() ==5 or day.weekday() == 6:\n",
    "            return False\n",
    "        return True\n",
    "    \n",
    "    def __repr__(self):\n",
    "#        return \"Employee('{}', '{}', {})\".format(self.first, self.last, self.pay)\n",
    "        return f\"Employee('{self.first}', '{self.last}', {self.pay})\"\n",
    "\n",
    "    def __str__(self):\n",
    "        return f\"{self.fullname()} ; {self.email}\"\n",
    "    \n",
    "    def __add__(self, other):\n",
    "        return self.pay + other.pay\n"
   ]
  },
  {
   "cell_type": "code",
   "execution_count": 52,
   "metadata": {},
   "outputs": [],
   "source": [
    "emp_1 = Employee09('Corey', 'Schafer', 50000)\n",
    "emp_2 = Employee09('Test', 'User', 60000)"
   ]
  },
  {
   "cell_type": "code",
   "execution_count": 53,
   "metadata": {},
   "outputs": [
    {
     "name": "stdout",
     "output_type": "stream",
     "text": [
      "Corey Schafer's and Test User's respective salaries are 50000 and 60000.\n",
      "The sum of their salaries is 110000.\n"
     ]
    }
   ],
   "source": [
    "print(\"{}'s and {}'s respective salaries are {} and {}.\".format(emp_1.fullname(), emp_2.fullname(), emp_1.pay, emp_2.pay))\n",
    "print(\"The sum of their salaries is {}.\".format(emp_1 + emp_2))"
   ]
  },
  {
   "cell_type": "markdown",
   "metadata": {},
   "source": [
    "<br>\n",
    "\n",
    "Last one:"
   ]
  },
  {
   "cell_type": "code",
   "execution_count": 54,
   "metadata": {},
   "outputs": [
    {
     "name": "stdout",
     "output_type": "stream",
     "text": [
      "4\n",
      "4\n"
     ]
    }
   ],
   "source": [
    "print(len('test'))\n",
    "print('test'.__len__())"
   ]
  },
  {
   "cell_type": "code",
   "execution_count": 55,
   "metadata": {},
   "outputs": [],
   "source": [
    "class Employee10:\n",
    "    \"\"\" This is a class where information on employees is stored\n",
    "    \"\"\"\n",
    "    num_of_emps = 0\n",
    "    raise_amt = 1.04\n",
    "    \n",
    "    def __init__(self, first, last, pay):    # Initialize\n",
    "        self.first = first\n",
    "        self.last = last\n",
    "        self.pay = pay\n",
    "        self.email = f'{self.first}.{self.last}@company.com'\n",
    "        \n",
    "        # __init__ methods is used to create instances, as such, this is the proper place:\n",
    "        Employee08.num_of_emps += 1\n",
    "    \n",
    "    def fullname(self):\n",
    "        return f'{self.first} {self.last}'\n",
    "    \n",
    "    def apply_raise(self):\n",
    "        self.pay = int(self.pay * self.raise_amt)\n",
    "    \n",
    "    @classmethod\n",
    "    def set_raise_amt(cls, amount):    # Common convention just like `self`, is now `cls`\n",
    "        cls.raise_amt = amount\n",
    "    \n",
    "    @classmethod\n",
    "    def from_string(cls, emp_str):\n",
    "        first, last, pay = emp_str.split('-')\n",
    "        return cls(first, last, pay)\n",
    "    \n",
    "    @staticmethod\n",
    "    def is_workday(day):\n",
    "        #Monday is 0, Sunday is 6, and so forth\n",
    "        if day.weekday() ==5 or day.weekday() == 6:\n",
    "            return False\n",
    "        return True\n",
    "    \n",
    "    def __repr__(self):\n",
    "#        return \"Employee('{}', '{}', {})\".format(self.first, self.last, self.pay)\n",
    "        return f\"Employee('{self.first}', '{self.last}', {self.pay})\"\n",
    "\n",
    "    def __str__(self):\n",
    "        return f\"{self.fullname()} ; {self.email}\"\n",
    "    \n",
    "    def __add__(self, other):\n",
    "        return self.pay + other.pay\n",
    "    \n",
    "    def __len__(self):\n",
    "        return len(self.fullname())\n"
   ]
  },
  {
   "cell_type": "code",
   "execution_count": 56,
   "metadata": {},
   "outputs": [],
   "source": [
    "emp_1 = Employee10('Corey', 'Schafer', 50000)\n",
    "emp_2 = Employee10('Test', 'User', 60000)"
   ]
  },
  {
   "cell_type": "code",
   "execution_count": 57,
   "metadata": {},
   "outputs": [
    {
     "name": "stdout",
     "output_type": "stream",
     "text": [
      "Corey Schafer   13\n",
      "Test User   9\n"
     ]
    }
   ],
   "source": [
    "print(emp_1.fullname(),' ',len(emp_1))\n",
    "print(emp_2.fullname(),' ',len(emp_2))"
   ]
  },
  {
   "cell_type": "markdown",
   "metadata": {},
   "source": [
    "<br>\n",
    "\n",
    "---\n",
    "\n",
    "From [this][1] youtube channel:\n",
    "\n",
    "### Python OOP Tutorial 6: Property Decorators - Getters, Setters, and Deleters\n",
    "\n",
    "\n",
    "[1]:https://www.youtube.com/watch?v=jCzT9XFZ5bw&index=6&list=PL-osiE80TeTsqhIuOqKhwlXsIBIdSeYtc"
   ]
  },
  {
   "cell_type": "markdown",
   "metadata": {},
   "source": [
    "Remember that we had:\n",
    "\n",
    "```python\n",
    "class Employee01:\n",
    "\n",
    "    def __init__(self, first, last, pay):    # Initialize\n",
    "        self.first = first\n",
    "        self.last = last\n",
    "        self.pay = pay\n",
    "        self.email = f'{self.first}.{self.last}@company.com'\n",
    "    \n",
    "    def fullname(self):\n",
    "        return f'{self.first} {self.last}'\n",
    "\n",
    "```"
   ]
  },
  {
   "cell_type": "code",
   "execution_count": 58,
   "metadata": {},
   "outputs": [],
   "source": [
    "emp_1 = Employee01('Corey', 'Schafer', 50000)"
   ]
  },
  {
   "cell_type": "code",
   "execution_count": 59,
   "metadata": {},
   "outputs": [
    {
     "name": "stdout",
     "output_type": "stream",
     "text": [
      "Corey\n",
      "Corey.Schafer@company.com\n",
      "Corey Schafer\n"
     ]
    }
   ],
   "source": [
    "print(emp_1.first)\n",
    "print(emp_1.email)\n",
    "print(emp_1.fullname())"
   ]
  },
  {
   "cell_type": "code",
   "execution_count": 60,
   "metadata": {},
   "outputs": [],
   "source": [
    "# However:\n",
    "\n",
    "emp_1.first = 'Jim'"
   ]
  },
  {
   "cell_type": "code",
   "execution_count": 61,
   "metadata": {},
   "outputs": [
    {
     "name": "stdout",
     "output_type": "stream",
     "text": [
      "Jim\n",
      "Corey.Schafer@company.com\n",
      "Jim Schafer\n"
     ]
    }
   ],
   "source": [
    "# Fullname always gets the self.first and self.last!\n",
    "\n",
    "print(emp_1.first)\n",
    "print(emp_1.email)\n",
    "print(emp_1.fullname())"
   ]
  },
  {
   "cell_type": "markdown",
   "metadata": {},
   "source": [
    "<br>\n",
    "\n",
    "Changing the email code could break several instances that have already been spit out, so to speak. It can create havoc, which is why getters and setters are so useful!"
   ]
  },
  {
   "cell_type": "code",
   "execution_count": 62,
   "metadata": {},
   "outputs": [],
   "source": [
    "class Employee11:\n",
    "\n",
    "    def __init__(self, first, last):    # Initialize\n",
    "        self.first = first\n",
    "        self.last = last\n",
    "\n",
    "    def email(self):\n",
    "        return f'{self.first}.{self.last}@gmail.com'        \n",
    "        \n",
    "    def fullname(self):\n",
    "        return f'{self.first} {self.last}'\n"
   ]
  },
  {
   "cell_type": "code",
   "execution_count": 63,
   "metadata": {},
   "outputs": [
    {
     "name": "stdout",
     "output_type": "stream",
     "text": [
      "Corey\n",
      "Corey.Schafer@gmail.com\n",
      "Corey Schafer\n"
     ]
    }
   ],
   "source": [
    "emp_1 = Employee11('Corey', 'Schafer')\n",
    "print(emp_1.first)\n",
    "print(emp_1.email())\n",
    "print(emp_1.fullname())"
   ]
  },
  {
   "cell_type": "code",
   "execution_count": 64,
   "metadata": {},
   "outputs": [
    {
     "name": "stdout",
     "output_type": "stream",
     "text": [
      "Jim\n",
      "Jim.Schafer@gmail.com\n",
      "Jim Schafer\n"
     ]
    }
   ],
   "source": [
    "# After changes:\n",
    "emp_1.first = 'Jim'\n",
    "\n",
    "print(emp_1.first)\n",
    "print(emp_1.email())    # Need to have open brackets!\n",
    "print(emp_1.fullname())"
   ]
  },
  {
   "cell_type": "markdown",
   "metadata": {},
   "source": [
    "Good! Are we done? Other people would ALSO have to change their code, which is still troubling! What can be done about this? Add a `@property` decorator!"
   ]
  },
  {
   "cell_type": "code",
   "execution_count": 65,
   "metadata": {},
   "outputs": [],
   "source": [
    "class Employee12:\n",
    "\n",
    "    def __init__(self, first, last):    # Initialize\n",
    "        self.first = first\n",
    "        self.last = last\n",
    "\n",
    "    @property\n",
    "    def email(self):\n",
    "        return f'{self.first}.{self.last}@gmail.com'        \n",
    "\n",
    "    @property\n",
    "    def fullname(self):\n",
    "        return f'{self.first} {self.last}'"
   ]
  },
  {
   "cell_type": "code",
   "execution_count": 66,
   "metadata": {},
   "outputs": [
    {
     "name": "stdout",
     "output_type": "stream",
     "text": [
      "BEFORE:\n",
      "\t Corey\n",
      "\t Corey.Schafer@gmail.com\n",
      "\t Corey Schafer \n",
      "\n",
      "AFTER:\n",
      "\t Jim\n",
      "\t Jim.Schafer@gmail.com\n",
      "\t Jim Schafer\n"
     ]
    }
   ],
   "source": [
    "emp_1 = Employee12('Corey', 'Schafer')\n",
    "\n",
    "print('BEFORE:')\n",
    "print('\\t',emp_1.first)\n",
    "print('\\t',emp_1.email)            # No need for open brackets!\n",
    "print('\\t',emp_1.fullname,'\\n')    # No need for open brackets!\n",
    "\n",
    "emp_1.first = 'Jim'\n",
    "\n",
    "print('AFTER:')\n",
    "print('\\t',emp_1.first)\n",
    "print('\\t',emp_1.email)           # No need for open brackets!\n",
    "print('\\t',emp_1.fullname)        # No need for open brackets!\n"
   ]
  },
  {
   "cell_type": "markdown",
   "metadata": {},
   "source": [
    "<br>\n",
    "\n",
    "Look at the following error:"
   ]
  },
  {
   "cell_type": "code",
   "execution_count": 67,
   "metadata": {},
   "outputs": [
    {
     "ename": "AttributeError",
     "evalue": "can't set attribute",
     "output_type": "error",
     "traceback": [
      "\u001b[0;31m---------------------------------------------------------------------------\u001b[0m",
      "\u001b[0;31mAttributeError\u001b[0m                            Traceback (most recent call last)",
      "\u001b[0;32m<ipython-input-67-a32ff181eb05>\u001b[0m in \u001b[0;36m<module>\u001b[0;34m()\u001b[0m\n\u001b[0;32m----> 1\u001b[0;31m \u001b[0memp_1\u001b[0m\u001b[0;34m.\u001b[0m\u001b[0mfullname\u001b[0m \u001b[0;34m=\u001b[0m \u001b[0;34m'Corey Schafer'\u001b[0m\u001b[0;34m\u001b[0m\u001b[0;34m\u001b[0m\u001b[0m\n\u001b[0m",
      "\u001b[0;31mAttributeError\u001b[0m: can't set attribute"
     ]
    }
   ],
   "source": [
    "emp_1.fullname = 'Corey Schafer'"
   ]
  },
  {
   "cell_type": "markdown",
   "metadata": {},
   "source": [
    "<br>\n",
    "\n",
    "As such, need to use a setter:"
   ]
  },
  {
   "cell_type": "code",
   "execution_count": 68,
   "metadata": {},
   "outputs": [],
   "source": [
    "class Employee13:\n",
    "\n",
    "    def __init__(self, first, last):    # Initialize\n",
    "        self.first = first\n",
    "        self.last = last\n",
    "\n",
    "    @property\n",
    "    def email(self):\n",
    "        return f'{self.first}.{self.last}@gmail.com'        \n",
    "\n",
    "    @property\n",
    "    def fullname(self):\n",
    "        return f'{self.first} {self.last}'\n",
    "    \n",
    "    @fullname.setter\n",
    "    def fullname(self, name):\n",
    "        first, last = name.split(' ')\n",
    "        self.first = first\n",
    "        self.last = last\n",
    "        \n",
    "    @fullname.deleter\n",
    "    def fullname(self):\n",
    "        print('Delete Name!')\n",
    "        self.first = None\n",
    "        self.last = None\n",
    "        "
   ]
  },
  {
   "cell_type": "code",
   "execution_count": 69,
   "metadata": {},
   "outputs": [
    {
     "name": "stdout",
     "output_type": "stream",
     "text": [
      "Corey\n",
      "Schafer\n",
      "Corey Schafer\n"
     ]
    }
   ],
   "source": [
    "emp_1 = Employee13('Corey', 'Schafer')\n",
    "print(emp_1.first)\n",
    "print(emp_1.last)\n",
    "print(emp_1.fullname)"
   ]
  },
  {
   "cell_type": "code",
   "execution_count": 70,
   "metadata": {},
   "outputs": [
    {
     "name": "stdout",
     "output_type": "stream",
     "text": [
      "John\n",
      "Smith\n",
      "John Smith\n"
     ]
    }
   ],
   "source": [
    "emp_1.fullname = 'John Smith'\n",
    "print(emp_1.first)\n",
    "print(emp_1.last)\n",
    "print(emp_1.fullname)"
   ]
  },
  {
   "cell_type": "markdown",
   "metadata": {},
   "source": [
    "Delete functionality below:"
   ]
  },
  {
   "cell_type": "code",
   "execution_count": 71,
   "metadata": {},
   "outputs": [
    {
     "name": "stdout",
     "output_type": "stream",
     "text": [
      "Delete Name!\n"
     ]
    }
   ],
   "source": [
    "del emp_1.fullname"
   ]
  },
  {
   "cell_type": "code",
   "execution_count": 72,
   "metadata": {},
   "outputs": [
    {
     "data": {
      "text/plain": [
       "'None None'"
      ]
     },
     "execution_count": 72,
     "metadata": {},
     "output_type": "execute_result"
    }
   ],
   "source": [
    "emp_1.fullname"
   ]
  },
  {
   "cell_type": "markdown",
   "metadata": {},
   "source": [
    "<br>\n",
    "\n",
    "---\n",
    "\n",
    "From [DataCamp][1]:\n",
    "\n",
    "### Getters and Setters\n",
    "\n",
    "* Getters: methods used in OOP which help access the private attributes of a class\n",
    "* Setters: methods used in OOP which helps to value the private attributes of a class\n",
    "\n",
    "### Private Attribute: Encapsulation\n",
    "\n",
    "Below, we implement a private attribute in Python:\n",
    "\n",
    "\n",
    "\n",
    "[1]:https://www.datacamp.com/community/tutorials/property-getters-setters"
   ]
  },
  {
   "cell_type": "code",
   "execution_count": 73,
   "metadata": {},
   "outputs": [],
   "source": [
    "class SampleClass:\n",
    "    \n",
    "    def __init__(self, a):\n",
    "        ## private variable or property in Python\n",
    "        self.__a = a\n",
    "    \n",
    "    ## GETTER method to get the properties using an object\n",
    "    def get_a(self):\n",
    "        return self.__a\n",
    "    \n",
    "    ## SETTER method to change the value 'a' using an object\n",
    "    def set_a(self, a):\n",
    "        self.__a = a"
   ]
  },
  {
   "cell_type": "markdown",
   "metadata": {},
   "source": [
    "`SampleClass` has 3 methods:\n",
    "\n",
    "* `__init__`: Used to INITIALIZE the attributes or properties of a **class**\n",
    "* `get_a`: Used to GET the values of PRIVATE attribute **a**\n",
    "* `set_a`: Used to SET the value of **a** using an object\n",
    "\n",
    "Note: we are NOT able to access the private variables directly in Python, which is why we implemented a GETTER method. E.g.: "
   ]
  },
  {
   "cell_type": "code",
   "execution_count": 74,
   "metadata": {},
   "outputs": [],
   "source": [
    "## creating an object\n",
    "obj = SampleClass(10)"
   ]
  },
  {
   "cell_type": "code",
   "execution_count": 75,
   "metadata": {},
   "outputs": [
    {
     "name": "stdout",
     "output_type": "stream",
     "text": [
      "10\n"
     ]
    }
   ],
   "source": [
    "## getting the value of 'a' using get_a() method:\n",
    "print(obj.get_a())"
   ]
  },
  {
   "cell_type": "code",
   "execution_count": 76,
   "metadata": {},
   "outputs": [],
   "source": [
    "## setting a new value to the 'a' using set_a() method:\n",
    "obj.set_a(45)"
   ]
  },
  {
   "cell_type": "code",
   "execution_count": 77,
   "metadata": {},
   "outputs": [
    {
     "name": "stdout",
     "output_type": "stream",
     "text": [
      "45\n"
     ]
    }
   ],
   "source": [
    "print(obj.get_a())"
   ]
  },
  {
   "cell_type": "markdown",
   "metadata": {},
   "source": [
    "> This is how you implement private attributes, getters, and setters in Python. The same process was followed in Java...\n",
    ">\n",
    "> * Let's write the same implementation in a **Pythonic way**."
   ]
  },
  {
   "cell_type": "code",
   "execution_count": 78,
   "metadata": {},
   "outputs": [],
   "source": [
    "class PythonicWay:\n",
    "    \n",
    "    def __init__(self,a):\n",
    "        self.a=a"
   ]
  },
  {
   "cell_type": "markdown",
   "metadata": {},
   "source": [
    "> We don't need any getters, setters methods to access or change the attributes. You can access it directly using the name of the attributes."
   ]
  },
  {
   "cell_type": "code",
   "execution_count": 79,
   "metadata": {},
   "outputs": [
    {
     "name": "stdout",
     "output_type": "stream",
     "text": [
      "100\n"
     ]
    }
   ],
   "source": [
    "## Creating an object for the 'PythonicWay' class\n",
    "obj = PythonicWay(100)\n",
    "print(obj.a)"
   ]
  },
  {
   "cell_type": "code",
   "execution_count": 80,
   "metadata": {},
   "outputs": [
    {
     "name": "stdout",
     "output_type": "stream",
     "text": [
      "96\n"
     ]
    }
   ],
   "source": [
    "## And another one\n",
    "obj = PythonicWay(96)\n",
    "print(obj.a)"
   ]
  },
  {
   "cell_type": "markdown",
   "metadata": {},
   "source": [
    "> **What's the difference between the above two classes.**\n",
    ">\n",
    "> It is the question of ENCAPSULATION, versus NO ENCAPSULATION!\n",
    ">\n",
    "> * SampleClass hides the private attributes and methods. It implements the encapsulation feature of OOP\n",
    "> * PythonicWay doesn't hide the data. It doesn't implement any ENCAPSULATION feature\n",
    ">\n",
    "> OK. So **what is the better of the two?** It depends on our need.\n",
    ">\n",
    "> * If you want private attributes and methods you can implement the class using setters, getters methods...\n",
    "> * Otherwise you will implement using the normal way"
   ]
  },
  {
   "cell_type": "markdown",
   "metadata": {},
   "source": [
    "### Property\n",
    "\n",
    "What if we want to have **some conditions** in order to set the value of an attribute in the `SampleClass`?\n",
    "\n",
    "* E.g.: if the value we passed is even and positive then we can set it to the attribute, otherwise set the value to 2\n",
    "\n",
    "**Solution:** change the `set_a()` method in the `SampleClass`!"
   ]
  },
  {
   "cell_type": "code",
   "execution_count": 89,
   "metadata": {},
   "outputs": [],
   "source": [
    "class SampleClass1:\n",
    "    \n",
    "    def __init__(self, a):\n",
    "        ## calling the set_a() method to set the value 'a' by checking certain conditions\n",
    "        self.set_a(a)\n",
    "    \n",
    "    ## GETTER method to get the properties using an object\n",
    "    def get_a(self):\n",
    "        return self.__a\n",
    "    \n",
    "    ## SETTER method to change the value 'a' using an object\n",
    "    def set_a(self, a):\n",
    "        \n",
    "        ## CONDITION to check whether 'a' is SUITABLE or NOT!\n",
    "        if a > 0 and a % 2 ==0:\n",
    "            self.__a = a\n",
    "        else:\n",
    "            print('This value is not even/positive!')\n",
    "            self.__a = 2"
   ]
  },
  {
   "cell_type": "code",
   "execution_count": 90,
   "metadata": {},
   "outputs": [
    {
     "name": "stdout",
     "output_type": "stream",
     "text": [
      "This value is not even/positive!\n",
      "2\n"
     ]
    }
   ],
   "source": [
    "## Checking to see if it works!\n",
    "\n",
    "obj = SampleClass1(13)\n",
    "\n",
    "print(obj.get_a())"
   ]
  },
  {
   "cell_type": "code",
   "execution_count": 91,
   "metadata": {},
   "outputs": [
    {
     "name": "stdout",
     "output_type": "stream",
     "text": [
      "10\n"
     ]
    }
   ],
   "source": [
    "## Versus:\n",
    "\n",
    "obj = SampleClass1(10)\n",
    "\n",
    "print(obj.get_a())"
   ]
  },
  {
   "cell_type": "markdown",
   "metadata": {},
   "source": [
    "Can we implement the above class using the `@property` decorator?"
   ]
  },
  {
   "cell_type": "code",
   "execution_count": 92,
   "metadata": {},
   "outputs": [],
   "source": [
    "class Property:\n",
    "    \n",
    "    def __init__(self,var):\n",
    "        ## initializing the attribute\n",
    "        self.a = var\n",
    "        \n",
    "    @property\n",
    "    def a(self):\n",
    "        return self.__a\n",
    "    \n",
    "    ## the attribute name and the method name must be same which is used to set the value for the attribute!\n",
    "    @a.setter\n",
    "    def a(self, var):\n",
    "        if var > 0 and var % 2 ==0:\n",
    "            self.__a = var\n",
    "        else:\n",
    "            self.__a = 2"
   ]
  },
  {
   "cell_type": "markdown",
   "metadata": {},
   "source": [
    "Note:\n",
    "\n",
    "> `@property` is used to **get the value of a private attribute without** using any GETTER methods!\n",
    ">\n",
    "> * We HAVE to put a line `@property` in **front of the method** where we return the private variable.\n",
    "> * To set the value of the private variable, we use `@method_name.setter` in front of the method: we have to use it as a setter!\n",
    "\n",
    "Let's test the class `Property` to check whether the **decorators** are working properly or not!"
   ]
  },
  {
   "cell_type": "code",
   "execution_count": 93,
   "metadata": {},
   "outputs": [
    {
     "name": "stdout",
     "output_type": "stream",
     "text": [
      "2\n"
     ]
    }
   ],
   "source": [
    "## creating an object for the class 'Property'\n",
    "obj = Property(23)\n",
    "print(obj.a)"
   ]
  },
  {
   "cell_type": "code",
   "execution_count": null,
   "metadata": {},
   "outputs": [],
   "source": [
    "## Another way to use the property is...\n",
    "\n",
    "class AnotherWay:\n",
    "    def __init__(self, var):\n",
    "        ## calling the set_a() method to set the value 'a' by checking certain conditions\n",
    "        self.set_a(var)\n",
    "    \n",
    "    ## getter method to get the properties using an object\n",
    "    def get_a(self):\n",
    "        return self.__a\n",
    "    \n",
    "    ## setter method to change the value 'a' using an object\n",
    "    def set_a(self, var):\n",
    "        \n",
    "        ## condition to check whether var is suitable or not\n",
    "        if var > 0 and var % 2 == 0:\n",
    "            self.__a = var\n",
    "        else:\n",
    "            self.__a = 2\n",
    "    \n",
    "    a = property(get_a, set_a)"
   ]
  },
  {
   "cell_type": "markdown",
   "metadata": {},
   "source": [
    "(still relatively confused...)"
   ]
  },
  {
   "cell_type": "markdown",
   "metadata": {},
   "source": [
    "<br>\n",
    "\n",
    "---\n",
    "\n",
    "### In class:\n",
    "\n",
    "\n",
    "#### Encapsulation\n",
    "\n",
    "Concept that encloses and binds all data and data manipulation functions regarding an object or entity.\n",
    "\n",
    "#### Inheritance\n",
    "\n",
    "When a class is defined by using an existing one and adding a few modifications.\n",
    "\n",
    "#### Abstraction\n",
    "\n",
    "* Classes that contain one or more abstract methods! Abstract method is a method that is declared, but contains no implementation.\n",
    "* Abstract class cannot be implemented.\n",
    "* Abstract methods in the child class MUST be implemented\n",
    "\n",
    "#### Polymorphism\n",
    "\n",
    "* Polymorphism is based on the Greek words Poly (many) and morphism (forms).\n",
    "* Use same method but with different outcomes. Also called override."
   ]
  },
  {
   "cell_type": "markdown",
   "metadata": {},
   "source": [
    "<br>\n",
    "\n",
    "---\n",
    "\n",
    "## Class Exercises"
   ]
  },
  {
   "cell_type": "markdown",
   "metadata": {},
   "source": [
    "**Encapsulation:**\n",
    "\n",
    "1. Create a new file to implement a class called Shape;\n",
    "2. The class receives a parameter “color” for instantiation;\n",
    "3. By default, the color parameter is set to “white”;\n",
    "4. Create another file to test the Shape class\n",
    "5. Create methods to get and set (inspectors) the color attribute;"
   ]
  },
  {
   "cell_type": "markdown",
   "metadata": {},
   "source": [
    "<br>\n",
    "\n",
    "**Note:** we use modules here and we import them. To do so, the following is imported below:"
   ]
  },
  {
   "cell_type": "markdown",
   "metadata": {},
   "source": [
    "```python\n",
    "import sys\n",
    "\n",
    "path = 'PLACEHOLDER'\n",
    "sys.path.append(path)\n",
    "\n",
    "from Shape import Shape\n",
    "from Rectangle import Rectangle\n",
    "```"
   ]
  },
  {
   "cell_type": "code",
   "execution_count": 2,
   "metadata": {},
   "outputs": [],
   "source": [
    "class Shape00:\n",
    "    \"\"\"This class is about shapes. It returns the color of a shape. That's it!\n",
    "    \"\"\"\n",
    "    def __init__(self, class_color='white'):\n",
    "        self.__color = class_color\n",
    "        \n",
    "    def setColor(self, new_color):\n",
    "        self.__color = new_color\n",
    "\n",
    "    @property\n",
    "    def getColor(self):\n",
    "        return self.__color"
   ]
  },
  {
   "cell_type": "code",
   "execution_count": 5,
   "metadata": {},
   "outputs": [
    {
     "name": "stdout",
     "output_type": "stream",
     "text": [
      "None\n",
      "black\n"
     ]
    }
   ],
   "source": [
    "obj_1 = Shape00()\n",
    "obj_2 = Shape00('black')\n",
    "print(obj_1.setColor(\"blue\"))\n",
    "print(obj_2.getColor)"
   ]
  },
  {
   "cell_type": "code",
   "execution_count": 21,
   "metadata": {},
   "outputs": [
    {
     "ename": "AttributeError",
     "evalue": "'Shape00' object has no attribute '__color'",
     "output_type": "error",
     "traceback": [
      "\u001b[0;31m---------------------------------------------------------------------------\u001b[0m",
      "\u001b[0;31mAttributeError\u001b[0m                            Traceback (most recent call last)",
      "\u001b[0;32m<ipython-input-21-5413d0cbe22f>\u001b[0m in \u001b[0;36m<module>\u001b[0;34m()\u001b[0m\n\u001b[1;32m      1\u001b[0m \u001b[0;31m# Note the below does not work! This is because we did not use private variables, i.e., self.__color\u001b[0m\u001b[0;34m\u001b[0m\u001b[0;34m\u001b[0m\u001b[0;34m\u001b[0m\u001b[0m\n\u001b[0;32m----> 2\u001b[0;31m \u001b[0mprint\u001b[0m\u001b[0;34m(\u001b[0m\u001b[0mobj_1\u001b[0m\u001b[0;34m.\u001b[0m\u001b[0m__color\u001b[0m\u001b[0;34m)\u001b[0m\u001b[0;34m\u001b[0m\u001b[0;34m\u001b[0m\u001b[0m\n\u001b[0m",
      "\u001b[0;31mAttributeError\u001b[0m: 'Shape00' object has no attribute '__color'"
     ]
    }
   ],
   "source": [
    "# Note the below does not work! This is because we did not use private variables, i.e., self.__color\n",
    "print(obj_1.__color)"
   ]
  },
  {
   "cell_type": "markdown",
   "metadata": {},
   "source": [
    "<br>\n",
    "\n",
    "**Inheritance:**\n",
    "\n",
    "1. Create a new file to implement a class called Rectangle that Inherits the Shape class;\n",
    "2. The Rectangle class has two attributes:\n",
    "  * Height, with default = 10\n",
    "  * Width, with default = 5\n",
    "3. Implement getters and setters for the class existing attributes\n",
    "  * What is the Rectangle color?\n",
    "  * Can you change the color?\n",
    "  * How would you change the attributes?\n",
    "4. What happens if height is equal to width?"
   ]
  },
  {
   "cell_type": "code",
   "execution_count": null,
   "metadata": {},
   "outputs": [],
   "source": []
  },
  {
   "cell_type": "code",
   "execution_count": 1,
   "metadata": {},
   "outputs": [
    {
     "ename": "NameError",
     "evalue": "name 'Shape00' is not defined",
     "output_type": "error",
     "traceback": [
      "\u001b[0;31m---------------------------------------------------------------------------\u001b[0m",
      "\u001b[0;31mNameError\u001b[0m                                 Traceback (most recent call last)",
      "\u001b[0;32m<ipython-input-1-7cfc1710bdc7>\u001b[0m in \u001b[0;36m<module>\u001b[0;34m\u001b[0m\n\u001b[0;32m----> 1\u001b[0;31m \u001b[0;32mclass\u001b[0m \u001b[0mRectangle00\u001b[0m\u001b[0;34m(\u001b[0m\u001b[0mShape00\u001b[0m\u001b[0;34m)\u001b[0m\u001b[0;34m:\u001b[0m\u001b[0;34m\u001b[0m\u001b[0;34m\u001b[0m\u001b[0m\n\u001b[0m\u001b[1;32m      2\u001b[0m \u001b[0;34m\u001b[0m\u001b[0m\n\u001b[1;32m      3\u001b[0m     \u001b[0;32mdef\u001b[0m \u001b[0m__init__\u001b[0m\u001b[0;34m(\u001b[0m\u001b[0mself\u001b[0m\u001b[0;34m,\u001b[0m \u001b[0mfirst_color\u001b[0m\u001b[0;34m=\u001b[0m\u001b[0;34m'white'\u001b[0m\u001b[0;34m,\u001b[0m \u001b[0msecond_color\u001b[0m\u001b[0;34m=\u001b[0m\u001b[0;34m'white'\u001b[0m\u001b[0;34m,\u001b[0m \u001b[0mwidth\u001b[0m\u001b[0;34m=\u001b[0m\u001b[0;36m10\u001b[0m\u001b[0;34m,\u001b[0m \u001b[0mheight\u001b[0m\u001b[0;34m=\u001b[0m\u001b[0;36m5\u001b[0m\u001b[0;34m)\u001b[0m\u001b[0;34m:\u001b[0m\u001b[0;34m\u001b[0m\u001b[0;34m\u001b[0m\u001b[0m\n\u001b[1;32m      4\u001b[0m         \u001b[0msuper\u001b[0m\u001b[0;34m(\u001b[0m\u001b[0;34m)\u001b[0m\u001b[0;34m.\u001b[0m\u001b[0m__init__\u001b[0m\u001b[0;34m(\u001b[0m\u001b[0;34m)\u001b[0m\u001b[0;34m\u001b[0m\u001b[0;34m\u001b[0m\u001b[0m\n\u001b[1;32m      5\u001b[0m         \u001b[0mself\u001b[0m\u001b[0;34m.\u001b[0m\u001b[0mwidth\u001b[0m\u001b[0;34m=\u001b[0m\u001b[0mwidth\u001b[0m\u001b[0;34m\u001b[0m\u001b[0;34m\u001b[0m\u001b[0m\n",
      "\u001b[0;31mNameError\u001b[0m: name 'Shape00' is not defined"
     ]
    }
   ],
   "source": [
    "class Rectangle00(Shape00):\n",
    "    \n",
    "    def __init__(self, first_color='white', second_color='white', width=10, height=5):\n",
    "        super().__init__()\n",
    "        self.width=width\n",
    "        self.height=height\n",
    "        self.first_color=first_color\n",
    "        self.second_color=second_color        \n",
    "    \n",
    "    def __repr__(self):\n",
    "        return f'Rectangle(First Color={self.first_color.upper()}, Second Color={self.second_color.upper()}, Width={self.width}, Height={self.height})'\n",
    "    \n",
    "    def __str__(self):\n",
    "        return f\"\"\"This is a rectangle with width and height of {self.width} and {self.height}, respectively. Its colors (First, Second) are ({self.first_color},{self.second_color}).\"\"\"\n",
    "    \n",
    "    @property\n",
    "    def getWidth(self):\n",
    "        return self.width\n",
    "    \n",
    "    @property\n",
    "    def getHeight(self):\n",
    "        return self.height   \n",
    "    \n",
    "    @property\n",
    "    def getColor(self):\n",
    "        if self.first_color == self.second_color:\n",
    "            return \"The rectangle's only color is {}.\".format(self.first_color)\n",
    "        else:\n",
    "            return \"The rectangle's first and second colors are {} and {}, respectively.\".format(self.first_color, self.second_color)\n",
    "\n",
    "    def setWidth(self, new_width):\n",
    "        if new_width == self.height:\n",
    "            print(\"This is not a square: the width and height cannot be the same! Current (height, width) are ({},{}).\".format(self.height, self.width))\n",
    "        else:\n",
    "            self.width = new_width\n",
    "\n",
    "    def setHeight(self, new_height):\n",
    "        if new_height == self.width:\n",
    "            print(\"This is not a square: the width and height cannot be the same! Current (height, width) are ({},{}).\".format(self.height, self.width))\n",
    "        else:\n",
    "            self.height = new_height\n",
    "    \n",
    "    def setColor(self, new_first_color=\"white\", new_second_color=\"white\"):\n",
    "        self.first_color = new_first_color\n",
    "        self.second_color = new_second_color\n"
   ]
  },
  {
   "cell_type": "code",
   "execution_count": 52,
   "metadata": {},
   "outputs": [
    {
     "name": "stdout",
     "output_type": "stream",
     "text": [
      "The rectangle's only color is white.\n",
      "10\n",
      "5\n"
     ]
    }
   ],
   "source": [
    "rect_1 = Rectangle00()\n",
    "print(rect_1.getColor)\n",
    "print(rect_1.getWidth)\n",
    "print(rect_1.getHeight)"
   ]
  },
  {
   "cell_type": "code",
   "execution_count": 53,
   "metadata": {},
   "outputs": [
    {
     "name": "stdout",
     "output_type": "stream",
     "text": [
      "This is not a square: the width and height cannot be the same! Current (height, width) are (5,10).\n",
      "5\n"
     ]
    }
   ],
   "source": [
    "rect_1.setHeight(10)\n",
    "print(rect_1.getHeight)"
   ]
  },
  {
   "cell_type": "code",
   "execution_count": 54,
   "metadata": {},
   "outputs": [
    {
     "name": "stdout",
     "output_type": "stream",
     "text": [
      "18\n"
     ]
    }
   ],
   "source": [
    "rect_1.setHeight(18)\n",
    "print(rect_1.getHeight)"
   ]
  },
  {
   "cell_type": "code",
   "execution_count": 55,
   "metadata": {},
   "outputs": [
    {
     "name": "stdout",
     "output_type": "stream",
     "text": [
      "This is not a square: the width and height cannot be the same! Current (height, width) are (18,10).\n",
      "10\n"
     ]
    }
   ],
   "source": [
    "rect_1.setWidth(18)\n",
    "print(rect_1.getWidth)"
   ]
  },
  {
   "cell_type": "code",
   "execution_count": 56,
   "metadata": {},
   "outputs": [
    {
     "name": "stdout",
     "output_type": "stream",
     "text": [
      "6\n"
     ]
    }
   ],
   "source": [
    "rect_1.setWidth(6)\n",
    "print(rect_1.getWidth)"
   ]
  },
  {
   "cell_type": "code",
   "execution_count": 57,
   "metadata": {},
   "outputs": [
    {
     "name": "stdout",
     "output_type": "stream",
     "text": [
      "This is a rectangle with width and height of 6 and 18, respectively. Its colors (First, Second) are (white,white).\n"
     ]
    }
   ],
   "source": [
    "print(rect_1)"
   ]
  },
  {
   "cell_type": "code",
   "execution_count": 58,
   "metadata": {},
   "outputs": [
    {
     "name": "stdout",
     "output_type": "stream",
     "text": [
      "This is a rectangle with width and height of 6 and 18, respectively. Its colors (First, Second) are (white,white).\n",
      "Rectangle(First Color=WHITE, Second Color=WHITE, Width=6, Height=18)\n"
     ]
    }
   ],
   "source": [
    "print(str(rect_1))\n",
    "print(repr(rect_1))"
   ]
  },
  {
   "cell_type": "markdown",
   "metadata": {},
   "source": [
    "<br>\n",
    "\n",
    "**Abstraction:**\n",
    "\n",
    "1. Create an abstract method for Shape called area that returns the shape area.\n",
    "  * What happens to the Shape instance?\n",
    "2. Implement the area function in the Rectangle class\n",
    "\n",
    "For more, read [here][1]\n",
    "\n",
    "[1]:https://www.python-course.eu/python3_abstract_classes.php"
   ]
  },
  {
   "cell_type": "code",
   "execution_count": 59,
   "metadata": {},
   "outputs": [],
   "source": [
    "from abc import ABC, abstractmethod\n",
    "\n",
    "class Shape01(ABC):\n",
    "    \"\"\"This class is about shapes. It returns the color of a shape. That's it!\n",
    "    \"\"\"\n",
    "    def __init__(self, class_color='white'):\n",
    "        self.__color = class_color\n",
    "        \n",
    "    def setColor(self, new_color):\n",
    "        self.__color = new_color\n",
    "\n",
    "    @property\n",
    "    def getColor(self):\n",
    "        return self.__color\n",
    "    \n",
    "    @abstractmethod\n",
    "    def getArea(self):\n",
    "        pass"
   ]
  },
  {
   "cell_type": "code",
   "execution_count": 71,
   "metadata": {},
   "outputs": [],
   "source": [
    "class Rectangle01(Shape01):\n",
    "    \n",
    "    def __init__(self, first_color='white', second_color='white', width=10, height=5):\n",
    "        super().__init__()\n",
    "        self.width=width\n",
    "        self.height=height\n",
    "        self.first_color=first_color\n",
    "        self.second_color=second_color        \n",
    "    \n",
    "    def __repr__(self):\n",
    "        return f'Rectangle(First Color={self.first_color.upper()}, Second Color={self.second_color.upper()}, Width={self.width}, Height={self.height})'\n",
    "    \n",
    "    def __str__(self):\n",
    "        return f\"\"\"This is a rectangle with width and height of {self.width} and {self.height}, respectively. It's area is {self.getArea} units squared. It's first color and second colors are {self.first_color} and {self.second_color}.\"\"\"\n",
    "    \n",
    "    @property\n",
    "    def getWidth(self):\n",
    "        return self.width\n",
    "    \n",
    "    @property\n",
    "    def getHeight(self):\n",
    "        return self.height\n",
    "\n",
    "    @property\n",
    "    def getArea(self):\n",
    "        return self.width * self.height    \n",
    "    \n",
    "    @property\n",
    "    def getColor(self):\n",
    "        if self.first_color == self.second_color:\n",
    "            return \"The rectangle's only color is {}.\".format(self.first_color)\n",
    "        else:\n",
    "            return \"The rectangle's first and second colors are {} and {}, respectively.\".format(self.first_color, self.second_color)\n",
    "\n",
    "    def setWidth(self, new_width):\n",
    "        if new_width == self.height:\n",
    "            print(\"This is not a square: the width and height cannot be the same! Current (height, width) are ({},{}).\".format(self.height, self.width))\n",
    "        else:\n",
    "            self.width = new_width\n",
    "\n",
    "    def setHeight(self, new_height):\n",
    "        if new_height == self.width:\n",
    "            print(\"This is not a square: the width and height cannot be the same! Current (height, width) are ({},{}).\".format(self.height, self.width))\n",
    "        else:\n",
    "            self.height = new_height\n",
    "    \n",
    "    def setColor(self, new_first_color=\"white\", new_second_color=\"white\"):\n",
    "        self.first_color = new_first_color\n",
    "        self.second_color = new_second_color\n"
   ]
  },
  {
   "cell_type": "code",
   "execution_count": 72,
   "metadata": {},
   "outputs": [],
   "source": [
    "r = Rectangle01()"
   ]
  },
  {
   "cell_type": "code",
   "execution_count": 73,
   "metadata": {},
   "outputs": [
    {
     "data": {
      "text/plain": [
       "\"The rectangle's only color is white.\""
      ]
     },
     "execution_count": 73,
     "metadata": {},
     "output_type": "execute_result"
    }
   ],
   "source": [
    "r.getColor"
   ]
  },
  {
   "cell_type": "code",
   "execution_count": 74,
   "metadata": {},
   "outputs": [
    {
     "data": {
      "text/plain": [
       "\"The rectangle's first and second colors are blue and white, respectively.\""
      ]
     },
     "execution_count": 74,
     "metadata": {},
     "output_type": "execute_result"
    }
   ],
   "source": [
    "r.setColor(\"blue\")\n",
    "r.getColor"
   ]
  },
  {
   "cell_type": "code",
   "execution_count": 75,
   "metadata": {},
   "outputs": [
    {
     "name": "stdout",
     "output_type": "stream",
     "text": [
      "This is not a square: the width and height cannot be the same! Current (height, width) are (5,10).\n"
     ]
    }
   ],
   "source": [
    "r.setWidth(5)"
   ]
  },
  {
   "cell_type": "code",
   "execution_count": 76,
   "metadata": {},
   "outputs": [
    {
     "name": "stdout",
     "output_type": "stream",
     "text": [
      "Area is 50\n"
     ]
    }
   ],
   "source": [
    "print(f\"Area is {r.getArea}\")"
   ]
  },
  {
   "cell_type": "code",
   "execution_count": 77,
   "metadata": {},
   "outputs": [
    {
     "name": "stdout",
     "output_type": "stream",
     "text": [
      "This is a rectangle with width and height of 10 and 5, respectively. It's area is 50 units squared. It's first color and second colors are blue and white.\n"
     ]
    }
   ],
   "source": [
    "print(r)"
   ]
  },
  {
   "cell_type": "markdown",
   "metadata": {},
   "source": [
    "<br>\n",
    "\n",
    "---\n",
    "\n",
    "### Final Challenge\n",
    "\n",
    "1. Create the Triangle class:\n",
    "  * Receives the same parameters as the Rectangle class\n",
    "  * Can only have one color\n",
    "2. Create an abstract function called perimeter, that calculates the shape perimeter;\n",
    "3. Override the Triangle class print function to have the perimeter information;\n",
    "4. Test the triangle class in a file called “final_challenge”;"
   ]
  },
  {
   "cell_type": "code",
   "execution_count": 78,
   "metadata": {},
   "outputs": [
    {
     "name": "stdout",
     "output_type": "stream",
     "text": [
      "True\n"
     ]
    }
   ],
   "source": [
    "print(issubclass(Rectangle01, Shape01))"
   ]
  }
 ],
 "metadata": {
  "kernelspec": {
   "display_name": "Python 3",
   "language": "python",
   "name": "python3"
  },
  "language_info": {
   "codemirror_mode": {
    "name": "ipython",
    "version": 3
   },
   "file_extension": ".py",
   "mimetype": "text/x-python",
   "name": "python",
   "nbconvert_exporter": "python",
   "pygments_lexer": "ipython3",
   "version": "3.7.2"
  }
 },
 "nbformat": 4,
 "nbformat_minor": 2
}
