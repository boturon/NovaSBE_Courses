{
 "cells": [
  {
   "cell_type": "markdown",
   "metadata": {},
   "source": [
    "# Intro to Programming - Individual work\n",
    "\n",
    "**NOVA School of Business and Economics**\n",
    "\n",
    "**Pedro Corte Garcia | João Fonseca** \n",
    "\n",
    "March 14th, 2019, Spring semester\n",
    "\n",
    "Start time: 9h30\n",
    "\n",
    "Due time: 12H30\n",
    "\n",
    "Rules for this challenge:\n",
    "1. You are not allowed to talk, exchange ideas or have any type of communication with your colleagues during the challenge.\n",
    "2. You may use the internet to help you when necessary. But be carefull not to dwell in it...\n",
    "3. The work must be finished and submitted before 12h30. Be careful, submissions after 12h40 will not be accepted.\n",
    "\n",
    "**Do not forget to save your file before submitting it!**\n"
   ]
  },
  {
   "cell_type": "markdown",
   "metadata": {},
   "source": [
    "___\n",
    "## Part 1 (Total: 7/20)\n",
    "\n",
    "The following exercises are not linked among each other. They are meant to test your skills using the foundations of Python programming.\n",
    "___"
   ]
  },
  {
   "cell_type": "markdown",
   "metadata": {},
   "source": [
    "### 1.1. Consider the list presented below. Write the code that creates a new list without duplicate values. (1/20)\n",
    "**Original list:** `['a', 'b', 'a', 'a', 'b', 'c', 'f']`\n",
    "<br></br>\n",
    "**Expected output:** `['a', 'b', 'c', 'f']`\n",
    "\n",
    "\n",
    "- Don't forget to print the new list. \n",
    "- You **must** use loops.\n"
   ]
  },
  {
   "cell_type": "code",
   "execution_count": 1,
   "metadata": {},
   "outputs": [],
   "source": [
    "# Write your answer here\n",
    "\n",
    "def Unique(original):\n",
    "    output = []\n",
    "    for i in original:\n",
    "        if i in output:\n",
    "            pass\n",
    "        else:\n",
    "            output.append(i)\n",
    "    print(output)"
   ]
  },
  {
   "cell_type": "code",
   "execution_count": 2,
   "metadata": {},
   "outputs": [
    {
     "name": "stdout",
     "output_type": "stream",
     "text": [
      "['a', 'b', 'c', 'f']\n"
     ]
    }
   ],
   "source": [
    "Unique(['a', 'b', 'a', 'a', 'b', 'c', 'f'])"
   ]
  },
  {
   "cell_type": "markdown",
   "metadata": {},
   "source": [
    "### 1.2. Consider the two lists below. Write a program that will print a list 'c' containing the subtraction of the values of list 'a' with the values of list 'b'. (1.5/20)\n",
    "**Original lists:**<br></br> \n",
    "`a = [78,56,37,98,23,83]`\n",
    "<br></br>\n",
    "`b = [93,44,28,61,35,12]`\n",
    "<br></br><br></br>\n",
    "**Expected output:** `[-15, 12, 9, 37, -12, 71]`\n",
    "\n",
    "- End the program by printing list `c`.\n",
    "- You **must** use the function `range`.\n",
    "- You **must** use loops."
   ]
  },
  {
   "cell_type": "code",
   "execution_count": 3,
   "metadata": {},
   "outputs": [],
   "source": [
    "# Write your answer here\n",
    "\n",
    "def Subtraction(a, b):\n",
    "    c = []\n",
    "    for i in range(len(a)):\n",
    "        c.append(a[i]-b[i])\n",
    "    print(c)"
   ]
  },
  {
   "cell_type": "code",
   "execution_count": 4,
   "metadata": {},
   "outputs": [
    {
     "name": "stdout",
     "output_type": "stream",
     "text": [
      "[-15, 12, 9, 37, -12, 71]\n"
     ]
    }
   ],
   "source": [
    "Subtraction([78,56,37,98,23,83], [93,44,28,61,35,12])"
   ]
  },
  {
   "cell_type": "markdown",
   "metadata": {},
   "source": [
    "### 1.3. Write below the code to produce the multiplication table (from 1 to 10) of any number defined by a user. (1.5/20)\n",
    "**Expected output:**<br></br> \n",
    "```\n",
    "Input a number: 4\n",
    "4 x 1 = 4\n",
    "4 x 2 = 8\n",
    "4 x 3 = 12\n",
    "4 x 4 = 16\n",
    "4 x 5 = 20\n",
    "4 x 6 = 24\n",
    "4 x 7 = 28\n",
    "4 x 8 = 32\n",
    "4 x 9 = 36\n",
    "4 x 10 = 40\n",
    "```\n",
    "\n",
    "- You **must** use the function `input`."
   ]
  },
  {
   "cell_type": "code",
   "execution_count": 5,
   "metadata": {},
   "outputs": [],
   "source": [
    "# Write your answer here\n",
    "\n",
    "def MultiplicationTable():\n",
    "    n = int(input(\"Input a number:\"))\n",
    "    for i in range(1,11): \n",
    "        print(\"%s x %s = %s\" % (n, i, n*i))"
   ]
  },
  {
   "cell_type": "code",
   "execution_count": 6,
   "metadata": {},
   "outputs": [
    {
     "name": "stdin",
     "output_type": "stream",
     "text": [
      "Input a number: 4\n"
     ]
    },
    {
     "name": "stdout",
     "output_type": "stream",
     "text": [
      "4 x 1 = 4\n",
      "4 x 2 = 8\n",
      "4 x 3 = 12\n",
      "4 x 4 = 16\n",
      "4 x 5 = 20\n",
      "4 x 6 = 24\n",
      "4 x 7 = 28\n",
      "4 x 8 = 32\n",
      "4 x 9 = 36\n",
      "4 x 10 = 40\n"
     ]
    }
   ],
   "source": [
    "MultiplicationTable()"
   ]
  },
  {
   "cell_type": "markdown",
   "metadata": {},
   "source": [
    "### 1.4. Logic reasoning: Write a function to construct the pattern below, using loops. (3/20)\n",
    "**Arguments:**\n",
    "\n",
    "- `n`: maximum number of `*` in a row (in the example, `n`=5)\n",
    "\n",
    "**Expected output:**<br></br> \n",
    "```\n",
    "* * * * *\n",
    " * * * *\n",
    "  * * *\n",
    "   * *\n",
    "    *\n",
    "   * *\n",
    "  * * *\n",
    " * * * *\n",
    "* * * * *\n",
    "```\n",
    "\n",
    "- Don't forget to run your function with `n=5`."
   ]
  },
  {
   "cell_type": "code",
   "execution_count": 7,
   "metadata": {},
   "outputs": [],
   "source": [
    "# Write your answer here\n",
    "\n",
    "def Pattern(n):\n",
    "    for i in range(n):\n",
    "        print(\" \"*i+\"*\"+\" *\"*(n-i-1))\n",
    "    for i in reversed(range(n-1)):\n",
    "        print(\" \"*i+\"*\"+\" *\"*(n-i-1))"
   ]
  },
  {
   "cell_type": "code",
   "execution_count": 8,
   "metadata": {},
   "outputs": [
    {
     "name": "stdout",
     "output_type": "stream",
     "text": [
      "* * * * *\n",
      " * * * *\n",
      "  * * *\n",
      "   * *\n",
      "    *\n",
      "   * *\n",
      "  * * *\n",
      " * * * *\n",
      "* * * * *\n"
     ]
    }
   ],
   "source": [
    "Pattern(5)"
   ]
  },
  {
   "cell_type": "markdown",
   "metadata": {},
   "source": [
    "___\n",
    "## Part 2 (Total: 13/20)\n",
    "<br></br>\n",
    "**NOTE:** 2 points out of these 13 points count towards code quality (organization, readability and comments)\n",
    "\n",
    "___\n",
    "\n",
    "You are an entrepreneur with a great idea to build an Animal Hostel for dogs, cats and birds.\n",
    "\n",
    "But like every entrepreneur, you don’t have money to hire professional IT developers, so you remember your IP classes at Nova SBE and you decided to start the project on your own.\n",
    "\n",
    "The first thing you do, is to define and organize all the entities that your system will have, and so, you reached the following list:\n",
    "1. Class Hostel – Represents all the hostel characteristics and guests\n",
    "2. Class Animal – Represents the generic Animal characteristics\n",
    "    - Dog – Represents a specific type of Animal and its characteristics.\n",
    "    - Cat – Represents a specific type of Animal and its characteristics.\n",
    "    - Bird – Represents a specific type of Animal and its characteristics.\n",
    "\n",
    "The following chapters will give you specific implementation details for each class. You should implement all of them and in the end, test the solution with the script provided. \n",
    "\n",
    "### 2.1. Class Animal (3/20)\n",
    "\n",
    "Animal represents a generic, abstract Animal and its attributes are common to all the child animals (Dog, Cat and Bird).\n",
    "An Animal has 4 attributes:\n",
    "1. name – the animal name. String and mandatory at initialization.\n",
    "2. space – the space the animal occupies. Integer with default value 2.\n",
    "3. play_time – the number of hours the animal needs to play. Integer with default value 1.\n",
    "4. training_time – the number of hours the animal needs to train. Integer with default value 0.\n",
    "You must implement inspectors to all these 4 attributes, but pay attention to these details:\n",
    "1. Minimum space cannot be less than 1. If value is inferior to 1, an error message should be displayed.\n",
    "2. Minimum play_time cannot be less than 1.  If value is inferior to 1, an error message should be displayed.\n",
    "\n",
    "Finally, there is a method to calculate the animal total care time, that is common to all animals, but it is different depending on the animal. The method is called totalCareTime and it returns the sum of all the animal’s care times. \n"
   ]
  },
  {
   "cell_type": "code",
   "execution_count": 9,
   "metadata": {},
   "outputs": [],
   "source": [
    "# Write your answer here\n",
    "\n",
    "class Animal:\n",
    "    \"\"\"\n",
    "    This is a general animal class.\n",
    "    Inputs: 'name' is mandatory and the others are predifined as space = 2, play_time = 1, training_time = 0\n",
    "    \"\"\"\n",
    "    def __init__(self, name, space = 2,\n",
    "                 play_time = 1, training_time = 0): \n",
    "        \n",
    "        # Initial attributes\n",
    "        \n",
    "        assert type(name) == str, \"The name should be a string.\"\n",
    "        self.name = name\n",
    "        \n",
    "        assert type(space) == int, \"The space should be an integer.\" \n",
    "        assert space >= 1, \"Please allocate more space.\"\n",
    "        self.space = space\n",
    "        \n",
    "        assert type(play_time) == int, \"The play_time should be an integer.\"\n",
    "        assert play_time >= 1, \"Please allocate more play time.\"\n",
    "        self.play_time = play_time\n",
    "        \n",
    "        assert type(training_time) == int, \"The training_time should be an integer.\"\n",
    "        self.training_time = training_time\n",
    "        \n",
    "        \n",
    "    # Setters\n",
    "    def setName(self, new_name):\n",
    "        assert type(new_name) == str, \"The name should be a string.\"\n",
    "        self.name = new_name\n",
    "        \n",
    "    def setSpace(self, new_space):\n",
    "        assert type(new_space) == int, \"The space should be an integer.\" \n",
    "        assert new_space >= 1, \"Please allocate more space.\"\n",
    "        self.space = new_space\n",
    "    \n",
    "    def setPlayTime(self, new_play_time):\n",
    "        assert type(new_play_time) == int, \"The play_time should be an integer.\"\n",
    "        assert new_play_time >= 1, \"Please allocate more play time.\"\n",
    "        self.play_time = new_play_time\n",
    "     \n",
    "    def setTrainingTime(self, new_training_time):\n",
    "        assert type(new_training_time) == int, \"The training_time should be an integer.\"\n",
    "        self.training_time = new_training_time\n",
    "        \n",
    "    \n",
    "    # Getters\n",
    "    @property\n",
    "    def getName(self):\n",
    "        return self.name\n",
    "    \n",
    "    @property\n",
    "    def getSpace(self):\n",
    "        return self.space\n",
    "    \n",
    "    @property\n",
    "    def getPlayTime(self):\n",
    "        return self.play_time\n",
    "    \n",
    "    @property\n",
    "    def getTrainingTime(self):\n",
    "        return self.training_time\n",
    "    \n",
    "    @property\n",
    "    def totalCareTime(self):\n",
    "        return(self.play_time + self.training_time)"
   ]
  },
  {
   "cell_type": "code",
   "execution_count": 10,
   "metadata": {},
   "outputs": [
    {
     "name": "stdout",
     "output_type": "stream",
     "text": [
      "4\n",
      "12\n"
     ]
    }
   ],
   "source": [
    "# Use this cell for testing your code (if necessary)\n",
    "jojo = Animal(\"J\", 2, 2, 2)\n",
    "print(jojo.totalCareTime)\n",
    "jojo.setPlayTime(10)\n",
    "print(jojo.totalCareTime)"
   ]
  },
  {
   "cell_type": "markdown",
   "metadata": {},
   "source": [
    "### 2.2. Class Dog (4/20)\n",
    "The Dog class inherits the Animal class and it receives a name at instantiation like its parent. It also has two specific attributes:\n",
    "1.\twalk_time, **integer** that represents the walk time in hours. By default, the value is **1**.\n",
    "2.\tsize – String that has two values, **small** or **big**. By default, the size is **small**.\n",
    "\n",
    "Important details for this class:\n",
    "1. The user cannot walk a dog for 0 or negative time.\n",
    "2. When you change size, be careful with inputs different than “small” or “big”. Print an error message for this cases.\n",
    "3. When you change the dog size, **big represents a size of 3** and **small represents a size of 2**. When you change size, do not forget to change the space the animal occupies in the hostel.\n",
    "4. totalCareTime for a dog is the walk time, plus the play time plus the training time.\n",
    "5. You should override the print function to print the sentence:\n",
    "    - `The dog name is `**[animal name]**` and the space needed is `**[animal space]**` and the total care time is `**[animal totalCareTime]**`.`"
   ]
  },
  {
   "cell_type": "code",
   "execution_count": 11,
   "metadata": {},
   "outputs": [],
   "source": [
    "# Write your answer here\n",
    "\n",
    "class Dog(Animal):\n",
    "    \"\"\"\n",
    "    A class that inherits the Animal class but adds components specific to dogs.\n",
    "    Inputs: 'name' is mandatory, walk_time = 1, size = \"small\" are predetermined\n",
    "    \"\"\"\n",
    "    def __init__(self, name, walk_time = 1, size = \"small\"):\n",
    "        \n",
    "        # Call the inheritaded class\n",
    "        super().__init__(name)\n",
    "        \n",
    "        assert type(walk_time) == int, \"The walk_time should be an integer.\"\n",
    "        self.walk_time = walk_time\n",
    "        \n",
    "        assert type(size) == str, \"The size should be a string.\"\n",
    "        assert size in [\"small\", \"big\"], \"The only two accepted sizes are 'small' or 'big'.\"\n",
    "        self.size = size\n",
    "        \n",
    "        # Different spaces for different sizes \n",
    "        self.setSpace([2, 3][self.size==\"big\"])\n",
    "               \n",
    "        \n",
    "     # Setters\n",
    "    def setWalkTime(self, new_walk_time):\n",
    "        assert type(new_walk_time) == int, \"The walk_time should be an integer.\"\n",
    "        self.walk_time = new_walk_time\n",
    "        \n",
    "    def setSize(self, new_size):\n",
    "        assert type(new_size) == str, \"The size should be a string.\"\n",
    "        assert new_size in [\"small\", \"big\"], \"The only two accepted sizes are 'small' or 'big'.\"\n",
    "        self.size = new_size\n",
    "    \n",
    "        # Change the occupied space\n",
    "        self.setSpace([2, 3][new_size==\"big\"])\n",
    "    \n",
    "    \n",
    "    # Getters\n",
    "    @property\n",
    "    def getWalkTime(self):\n",
    "        return self.walk_time\n",
    "    \n",
    "    @property\n",
    "    def getSize(self):\n",
    "        return self.space       \n",
    "        \n",
    "    @property\n",
    "    def totalCareTime(self):\n",
    "        return self.play_time + self.training_time + self.walk_time\n",
    "    \n",
    "    \n",
    "    # Override print function\n",
    "    def print(self):\n",
    "        __builtins__.print(\"The dog name is %s and the space needed is %s and the total care time is %s.\" \\\n",
    "                           % (self.name, self.space, self.totalCareTime))"
   ]
  },
  {
   "cell_type": "code",
   "execution_count": 20,
   "metadata": {},
   "outputs": [
    {
     "data": {
      "text/plain": [
       "\u001b[0;31mInit signature:\u001b[0m \u001b[0mDog\u001b[0m\u001b[0;34m(\u001b[0m\u001b[0mname\u001b[0m\u001b[0;34m,\u001b[0m \u001b[0mwalk_time\u001b[0m\u001b[0;34m=\u001b[0m\u001b[0;36m1\u001b[0m\u001b[0;34m,\u001b[0m \u001b[0msize\u001b[0m\u001b[0;34m=\u001b[0m\u001b[0;34m'small'\u001b[0m\u001b[0;34m)\u001b[0m\u001b[0;34m\u001b[0m\u001b[0;34m\u001b[0m\u001b[0m\n",
       "\u001b[0;31mDocstring:\u001b[0m     \n",
       "A class that inherits the Animal class but adds components specific to dogs.\n",
       "Inputs: 'name' is mandatory, walk_time = 1, size = \"small\" are predetermined\n",
       "\u001b[0;31mType:\u001b[0m           type\n",
       "\u001b[0;31mSubclasses:\u001b[0m     \n"
      ]
     },
     "metadata": {},
     "output_type": "display_data"
    }
   ],
   "source": [
    "Dog?"
   ]
  },
  {
   "cell_type": "code",
   "execution_count": 12,
   "metadata": {},
   "outputs": [
    {
     "name": "stdout",
     "output_type": "stream",
     "text": [
      "The dog name is Jo and the space needed is 2 and the total care time is 3.\n"
     ]
    }
   ],
   "source": [
    "# Use this cell for testing your code (if necessary)\n",
    "Dog(\"Jo\", 2, \"small\").print()"
   ]
  },
  {
   "cell_type": "markdown",
   "metadata": {},
   "source": [
    "### 2.3. Class Cat (1/20)\n",
    "\n",
    "The Cat class inherits the Animal class and it receives a name at instantiation like its parent.\n",
    "<br></br>\n",
    "But for a Cat, the default value for play time is 3 hours.\n",
    "<br></br>\n",
    "The Cat total care time is the sum of the play time plus the train time.\n",
    "<br></br>\n",
    "You should override the print function to print the sentence:\n",
    "- `The cat name is `**[animal name]**` and the space needed is `**[animal space]**` and the total care time is `**[animal totalCareTime]**`.`\n"
   ]
  },
  {
   "cell_type": "code",
   "execution_count": 13,
   "metadata": {},
   "outputs": [],
   "source": [
    "# Write your answer here\n",
    "\n",
    "class Cat(Animal):\n",
    "    \"\"\"\n",
    "    A class that inherits the Animal class but adds components specific to cats.\n",
    "    Inputs: 'name' is mandatory, play_time = 3 is predetermined\n",
    "    \"\"\"\n",
    "    def __init__(self, name, play_time = 3):\n",
    "        super().__init__(name, play_time=play_time)\n",
    "    \n",
    "    # Override print function\n",
    "    def print(self):\n",
    "        __builtins__.print(\"The cat name is %s and the space needed is %s and the total care time is %s.\" \\\n",
    "                           % (self.name, self.space, self.totalCareTime))"
   ]
  },
  {
   "cell_type": "code",
   "execution_count": 19,
   "metadata": {},
   "outputs": [
    {
     "data": {
      "text/plain": [
       "\u001b[0;31mInit signature:\u001b[0m \u001b[0mCat\u001b[0m\u001b[0;34m(\u001b[0m\u001b[0mname\u001b[0m\u001b[0;34m,\u001b[0m \u001b[0mplay_time\u001b[0m\u001b[0;34m=\u001b[0m\u001b[0;36m3\u001b[0m\u001b[0;34m)\u001b[0m\u001b[0;34m\u001b[0m\u001b[0;34m\u001b[0m\u001b[0m\n",
       "\u001b[0;31mDocstring:\u001b[0m     \n",
       "A class that inherits the Animal class but adds components specific to cats.\n",
       "Inputs: 'name' is mandatory, play_time = 3 is predetermined\n",
       "\u001b[0;31mType:\u001b[0m           type\n",
       "\u001b[0;31mSubclasses:\u001b[0m     \n"
      ]
     },
     "metadata": {},
     "output_type": "display_data"
    }
   ],
   "source": [
    "Cat?"
   ]
  },
  {
   "cell_type": "code",
   "execution_count": 14,
   "metadata": {},
   "outputs": [
    {
     "name": "stdout",
     "output_type": "stream",
     "text": [
      "The cat name is J and the space needed is 2 and the total care time is 4.\n"
     ]
    }
   ],
   "source": [
    "# Use this cell for testing your code (if necessary)\n",
    "\n",
    "Cat(\"J\", 4).print()"
   ]
  },
  {
   "cell_type": "markdown",
   "metadata": {},
   "source": [
    "### 2.4. Class Hostel (3/20)\n",
    "\n",
    "The class hostel has 3 attributes:\n",
    "1.\t`size`, Integer that represents the size and capacity of the hostel. By default, is 10\n",
    "2.\t`price_hour`, integer that represents the price the hostel charges by each hour of animal care. By default, the value is 10.\n",
    "3.\t`animals`, list that contains all the animals that enter the hostel.\n",
    "\n",
    "The Hostel class has two mandatory methods.\n",
    "1. `addAnimal`, that receives an animal to add to the animals list.\n",
    "    - Limitations:\n",
    "        1. You must check the animal space before adding it to the hostel. If the space is bigger than the available space, you cannot add the animal to the hostel.\n",
    "        2. If the hostel has space, you must add the animal, and print a message saying for example `the cat name is miau and was added to the hostel`\n",
    "        3. If you don’t have space in the hostel, a message saying `the hostel has no space for animal name`\n",
    "        4. Example:\n",
    "            - `The dog name is bobi and was added to the hostel`\n",
    "            - `The hostel has no space for Puskas.`\n",
    "2.\t`listAnimals`, that lists all the animals in the hostel and also its total cost.\n",
    "3.\tThe total cost per animal is the `AnimalTotalCare` times the hostel `price_hour`.\n",
    "4.\tAfter the list, the method should also print the total cost of all the animals.\n",
    "\n",
    "**Example of output**: \n",
    "```\n",
    "the dog name is bobi with total cost 20\n",
    "the dog name is rufus with total cost 20\n",
    "the bird name is tweet with total cost 10\n",
    "the cat name is miau with total cost 30\n",
    "the cat name is Silvester with total cost 30\n",
    "******** TOTAL ********\n",
    "The total revenue for the hostel is 110 Euros.\n",
    "```\n"
   ]
  },
  {
   "cell_type": "code",
   "execution_count": 15,
   "metadata": {},
   "outputs": [],
   "source": [
    "# Write your answer here\n",
    "\n",
    "class Hostel:\n",
    "    \"\"\"\n",
    "    This is a class made to keep track of menagment of a hostel. It keeps track of accounting and occupancy rate.\n",
    "    Inputs: size = 10, price_hour = 10\n",
    "    Methods:\n",
    "        - addAnimal: receives as input the class of an animal\n",
    "        - listAnimals: simply prints the individual and colective costs\n",
    "    \"\"\"\n",
    "    \n",
    "    def __init__(self, size = 10, price_hour = 10):\n",
    "        assert type(size) == int\n",
    "        self.size = size\n",
    "        \n",
    "        assert type(price_hour) == int\n",
    "        self.price_hour = price_hour\n",
    "        self.animals = []\n",
    "        \n",
    "    def addAnimal(self, animal):\n",
    "        if animal.space > self.size:\n",
    "            print(\"The hostel has no space for %s.\" % animal.name)\n",
    "        else:\n",
    "            self.size -= animal.space\n",
    "            self.animals.append(animal)\n",
    "            print(\"The %s name is %s and was added to the hostel.\" % (animal.__class__.__name__.lower(), animal.name))\n",
    "    \n",
    "    def listAnimals(self):\n",
    "        for animal in self.animals:\n",
    "            print(\"The %s name is %s with total cost %s.\" % (animal.__class__.__name__.lower(), animal.name, animal.totalCareTime*self.price_hour))\n",
    "        print(\"*\"*8+\" TOTAL \"+\"*\"*8)\n",
    "        print(\"The total revenue for the hostel is %s Euros.\" % sum([self.price_hour*animal.totalCareTime for animal in self.animals]))"
   ]
  },
  {
   "cell_type": "code",
   "execution_count": 16,
   "metadata": {},
   "outputs": [
    {
     "data": {
      "text/plain": [
       "\u001b[0;31mInit signature:\u001b[0m \u001b[0mHostel\u001b[0m\u001b[0;34m(\u001b[0m\u001b[0msize\u001b[0m\u001b[0;34m=\u001b[0m\u001b[0;36m10\u001b[0m\u001b[0;34m,\u001b[0m \u001b[0mprice_hour\u001b[0m\u001b[0;34m=\u001b[0m\u001b[0;36m10\u001b[0m\u001b[0;34m)\u001b[0m\u001b[0;34m\u001b[0m\u001b[0;34m\u001b[0m\u001b[0m\n",
       "\u001b[0;31mDocstring:\u001b[0m     \n",
       "This is a class made to keep track of menagment of a hostel. It keeps track of accounting and occupancy rate.\n",
       "Inputs: size = 10, price_hour = 10\n",
       "Methods:\n",
       "    - addAnimal: receives as input the class of an animal\n",
       "    - listAnimals: simply prints the individual and colective costs\n",
       "\u001b[0;31mType:\u001b[0m           type\n",
       "\u001b[0;31mSubclasses:\u001b[0m     \n"
      ]
     },
     "metadata": {},
     "output_type": "display_data"
    }
   ],
   "source": [
    "Hostel?"
   ]
  },
  {
   "cell_type": "code",
   "execution_count": 17,
   "metadata": {},
   "outputs": [
    {
     "name": "stdout",
     "output_type": "stream",
     "text": [
      "The cat name is Jony and was added to the hostel.\n",
      "The dog name is Ricky and was added to the hostel.\n",
      "\n",
      "\n",
      "The cat name is Jony with total cost 40.\n",
      "The dog name is Ricky with total cost 50.\n",
      "******** TOTAL ********\n",
      "The total revenue for the hostel is 90 Euros.\n"
     ]
    }
   ],
   "source": [
    "# Use this cell for testing your code (if necessary)\n",
    "\n",
    "hotelCavaleiros = Hostel()\n",
    "hotelCavaleiros.addAnimal(Cat(\"Jony\", 4))\n",
    "hotelCavaleiros.addAnimal(Dog(\"Ricky\", 4, \"small\"))\n",
    "print(\"\\n\")\n",
    "hotelCavaleiros.listAnimals()"
   ]
  }
 ],
 "metadata": {
  "kernelspec": {
   "display_name": "Python 3",
   "language": "python",
   "name": "python3"
  },
  "language_info": {
   "codemirror_mode": {
    "name": "ipython",
    "version": 3
   },
   "file_extension": ".py",
   "mimetype": "text/x-python",
   "name": "python",
   "nbconvert_exporter": "python",
   "pygments_lexer": "ipython3",
   "version": "3.7.2"
  }
 },
 "nbformat": 4,
 "nbformat_minor": 2
}
